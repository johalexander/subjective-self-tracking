{
 "cells": [
  {
   "cell_type": "code",
   "execution_count": 26,
   "metadata": {},
   "outputs": [],
   "source": [
    "import pandas as pd\n",
    "import numpy as np\n",
    "import plotly.express as px\n",
    "import plotly.subplots as sp\n",
    "import plotly.graph_objects as go\n",
    "import calculations"
   ]
  },
  {
   "cell_type": "code",
   "execution_count": 27,
   "metadata": {},
   "outputs": [],
   "source": [
    "headers = [\"timestamp\", \"duration\", \"stability\", \"activity\", \"activity_confidence\", \"calibration_status\", \"w\", \"x\", \"y\", \"z\"]\n",
    "data = pd.read_csv('prototype_data/data.csv', names=headers)\n",
    "\n",
    "data['timestamp'] = pd.to_datetime(data['timestamp'], unit='s')\n",
    "data['weekday'] = data['timestamp'].dt.day_name()\n",
    "data['date'] = data['timestamp'].dt.date\n",
    "data['hour'] = data['timestamp'].dt.hour\n",
    "data['hour_minute'] = data['timestamp'].dt.hour + data['timestamp'].dt.minute / 60\n",
    "\n",
    "data = data[data['timestamp'] >= pd.Timestamp('2024-01-01')]\n",
    "\n",
    "data[['roll', 'pitch', 'yaw']] = data.apply(lambda row: calculations.quaternion_to_euler(row['w'], row['x'], row['y'], row['z']), axis=1, result_type='expand')"
   ]
  },
  {
   "cell_type": "code",
   "execution_count": 28,
   "metadata": {},
   "outputs": [
    {
     "data": {
      "text/html": [
       "<div>\n",
       "<style scoped>\n",
       "    .dataframe tbody tr th:only-of-type {\n",
       "        vertical-align: middle;\n",
       "    }\n",
       "\n",
       "    .dataframe tbody tr th {\n",
       "        vertical-align: top;\n",
       "    }\n",
       "\n",
       "    .dataframe thead th {\n",
       "        text-align: right;\n",
       "    }\n",
       "</style>\n",
       "<table border=\"1\" class=\"dataframe\">\n",
       "  <thead>\n",
       "    <tr style=\"text-align: right;\">\n",
       "      <th></th>\n",
       "      <th>timestamp</th>\n",
       "      <th>duration</th>\n",
       "      <th>stability</th>\n",
       "      <th>activity</th>\n",
       "      <th>activity_confidence</th>\n",
       "      <th>calibration_status</th>\n",
       "      <th>w</th>\n",
       "      <th>x</th>\n",
       "      <th>y</th>\n",
       "      <th>z</th>\n",
       "      <th>weekday</th>\n",
       "      <th>date</th>\n",
       "      <th>hour</th>\n",
       "      <th>hour_minute</th>\n",
       "      <th>roll</th>\n",
       "      <th>pitch</th>\n",
       "      <th>yaw</th>\n",
       "    </tr>\n",
       "  </thead>\n",
       "  <tbody>\n",
       "    <tr>\n",
       "      <th>0</th>\n",
       "      <td>2024-06-24 08:05:20</td>\n",
       "      <td>157</td>\n",
       "      <td>In motion</td>\n",
       "      <td>In-Vehicle</td>\n",
       "      <td>92</td>\n",
       "      <td>2</td>\n",
       "      <td>0.366577</td>\n",
       "      <td>0.559509</td>\n",
       "      <td>0.626770</td>\n",
       "      <td>0.399597</td>\n",
       "      <td>Monday</td>\n",
       "      <td>2024-06-24</td>\n",
       "      <td>8</td>\n",
       "      <td>8.083333</td>\n",
       "      <td>114.323468</td>\n",
       "      <td>-0.708386</td>\n",
       "      <td>83.966903</td>\n",
       "    </tr>\n",
       "    <tr>\n",
       "      <th>1</th>\n",
       "      <td>2024-06-24 08:11:01</td>\n",
       "      <td>154</td>\n",
       "      <td>In motion</td>\n",
       "      <td>Still</td>\n",
       "      <td>74</td>\n",
       "      <td>2</td>\n",
       "      <td>0.362854</td>\n",
       "      <td>0.587463</td>\n",
       "      <td>0.627075</td>\n",
       "      <td>0.360474</td>\n",
       "      <td>Monday</td>\n",
       "      <td>2024-06-24</td>\n",
       "      <td>8</td>\n",
       "      <td>8.183333</td>\n",
       "      <td>118.489462</td>\n",
       "      <td>-1.807692</td>\n",
       "      <td>87.339682</td>\n",
       "    </tr>\n",
       "    <tr>\n",
       "      <th>2</th>\n",
       "      <td>2024-06-24 08:12:31</td>\n",
       "      <td>154</td>\n",
       "      <td>In motion</td>\n",
       "      <td>Still</td>\n",
       "      <td>92</td>\n",
       "      <td>3</td>\n",
       "      <td>-0.045166</td>\n",
       "      <td>-0.084228</td>\n",
       "      <td>0.411926</td>\n",
       "      <td>0.906189</td>\n",
       "      <td>Monday</td>\n",
       "      <td>2024-06-24</td>\n",
       "      <td>8</td>\n",
       "      <td>8.200000</td>\n",
       "      <td>49.398442</td>\n",
       "      <td>-6.629249</td>\n",
       "      <td>-8.758405</td>\n",
       "    </tr>\n",
       "    <tr>\n",
       "      <th>3</th>\n",
       "      <td>2024-06-24 08:16:12</td>\n",
       "      <td>186</td>\n",
       "      <td>In motion</td>\n",
       "      <td>Still</td>\n",
       "      <td>44</td>\n",
       "      <td>3</td>\n",
       "      <td>0.571533</td>\n",
       "      <td>0.243469</td>\n",
       "      <td>0.237366</td>\n",
       "      <td>0.746765</td>\n",
       "      <td>Monday</td>\n",
       "      <td>2024-06-24</td>\n",
       "      <td>8</td>\n",
       "      <td>8.266667</td>\n",
       "      <td>39.462557</td>\n",
       "      <td>5.296509</td>\n",
       "      <td>76.757793</td>\n",
       "    </tr>\n",
       "    <tr>\n",
       "      <th>4</th>\n",
       "      <td>2024-06-24 08:16:20</td>\n",
       "      <td>148</td>\n",
       "      <td>Stable</td>\n",
       "      <td>Still</td>\n",
       "      <td>74</td>\n",
       "      <td>3</td>\n",
       "      <td>0.341736</td>\n",
       "      <td>0.024719</td>\n",
       "      <td>0.283386</td>\n",
       "      <td>0.895691</td>\n",
       "      <td>Monday</td>\n",
       "      <td>2024-06-24</td>\n",
       "      <td>8</td>\n",
       "      <td>8.266667</td>\n",
       "      <td>32.040664</td>\n",
       "      <td>-8.592746</td>\n",
       "      <td>39.295561</td>\n",
       "    </tr>\n",
       "    <tr>\n",
       "      <th>...</th>\n",
       "      <td>...</td>\n",
       "      <td>...</td>\n",
       "      <td>...</td>\n",
       "      <td>...</td>\n",
       "      <td>...</td>\n",
       "      <td>...</td>\n",
       "      <td>...</td>\n",
       "      <td>...</td>\n",
       "      <td>...</td>\n",
       "      <td>...</td>\n",
       "      <td>...</td>\n",
       "      <td>...</td>\n",
       "      <td>...</td>\n",
       "      <td>...</td>\n",
       "      <td>...</td>\n",
       "      <td>...</td>\n",
       "      <td>...</td>\n",
       "    </tr>\n",
       "    <tr>\n",
       "      <th>3331</th>\n",
       "      <td>2024-06-28 11:06:25</td>\n",
       "      <td>248</td>\n",
       "      <td>Stable</td>\n",
       "      <td>Still</td>\n",
       "      <td>97</td>\n",
       "      <td>2</td>\n",
       "      <td>0.172180</td>\n",
       "      <td>0.383972</td>\n",
       "      <td>0.792175</td>\n",
       "      <td>0.442078</td>\n",
       "      <td>Friday</td>\n",
       "      <td>2024-06-28</td>\n",
       "      <td>11</td>\n",
       "      <td>11.100000</td>\n",
       "      <td>123.442085</td>\n",
       "      <td>3.824130</td>\n",
       "      <td>49.661682</td>\n",
       "    </tr>\n",
       "    <tr>\n",
       "      <th>3332</th>\n",
       "      <td>2024-06-28 11:06:31</td>\n",
       "      <td>248</td>\n",
       "      <td>Stable</td>\n",
       "      <td>Still</td>\n",
       "      <td>97</td>\n",
       "      <td>2</td>\n",
       "      <td>0.025330</td>\n",
       "      <td>0.012878</td>\n",
       "      <td>0.879944</td>\n",
       "      <td>0.474243</td>\n",
       "      <td>Friday</td>\n",
       "      <td>2024-06-28</td>\n",
       "      <td>11</td>\n",
       "      <td>11.100000</td>\n",
       "      <td>123.312047</td>\n",
       "      <td>-1.854517</td>\n",
       "      <td>2.677436</td>\n",
       "    </tr>\n",
       "    <tr>\n",
       "      <th>3333</th>\n",
       "      <td>2024-06-28 11:06:38</td>\n",
       "      <td>210</td>\n",
       "      <td>Stable</td>\n",
       "      <td>Still</td>\n",
       "      <td>97</td>\n",
       "      <td>2</td>\n",
       "      <td>0.232727</td>\n",
       "      <td>0.574280</td>\n",
       "      <td>0.699829</td>\n",
       "      <td>0.355347</td>\n",
       "      <td>Friday</td>\n",
       "      <td>2024-06-28</td>\n",
       "      <td>11</td>\n",
       "      <td>11.100000</td>\n",
       "      <td>129.889655</td>\n",
       "      <td>4.726522</td>\n",
       "      <td>76.534100</td>\n",
       "    </tr>\n",
       "    <tr>\n",
       "      <th>3334</th>\n",
       "      <td>2024-06-28 11:06:44</td>\n",
       "      <td>192</td>\n",
       "      <td>In motion</td>\n",
       "      <td>Still</td>\n",
       "      <td>77</td>\n",
       "      <td>2</td>\n",
       "      <td>-0.008362</td>\n",
       "      <td>0.018127</td>\n",
       "      <td>0.898926</td>\n",
       "      <td>0.437683</td>\n",
       "      <td>Friday</td>\n",
       "      <td>2024-06-28</td>\n",
       "      <td>11</td>\n",
       "      <td>11.100000</td>\n",
       "      <td>128.099907</td>\n",
       "      <td>1.770745</td>\n",
       "      <td>1.448705</td>\n",
       "    </tr>\n",
       "    <tr>\n",
       "      <th>3335</th>\n",
       "      <td>2024-06-28 11:06:49</td>\n",
       "      <td>283</td>\n",
       "      <td>Stable</td>\n",
       "      <td>Still</td>\n",
       "      <td>77</td>\n",
       "      <td>2</td>\n",
       "      <td>0.127014</td>\n",
       "      <td>0.344666</td>\n",
       "      <td>0.831360</td>\n",
       "      <td>0.417053</td>\n",
       "      <td>Friday</td>\n",
       "      <td>2024-06-28</td>\n",
       "      <td>11</td>\n",
       "      <td>11.100000</td>\n",
       "      <td>128.439521</td>\n",
       "      <td>4.375791</td>\n",
       "      <td>42.921661</td>\n",
       "    </tr>\n",
       "  </tbody>\n",
       "</table>\n",
       "<p>3335 rows × 17 columns</p>\n",
       "</div>"
      ],
      "text/plain": [
       "               timestamp  duration  stability    activity  \\\n",
       "0    2024-06-24 08:05:20       157  In motion  In-Vehicle   \n",
       "1    2024-06-24 08:11:01       154  In motion       Still   \n",
       "2    2024-06-24 08:12:31       154  In motion       Still   \n",
       "3    2024-06-24 08:16:12       186  In motion       Still   \n",
       "4    2024-06-24 08:16:20       148     Stable       Still   \n",
       "...                  ...       ...        ...         ...   \n",
       "3331 2024-06-28 11:06:25       248     Stable       Still   \n",
       "3332 2024-06-28 11:06:31       248     Stable       Still   \n",
       "3333 2024-06-28 11:06:38       210     Stable       Still   \n",
       "3334 2024-06-28 11:06:44       192  In motion       Still   \n",
       "3335 2024-06-28 11:06:49       283     Stable       Still   \n",
       "\n",
       "      activity_confidence  calibration_status         w         x         y  \\\n",
       "0                      92                   2  0.366577  0.559509  0.626770   \n",
       "1                      74                   2  0.362854  0.587463  0.627075   \n",
       "2                      92                   3 -0.045166 -0.084228  0.411926   \n",
       "3                      44                   3  0.571533  0.243469  0.237366   \n",
       "4                      74                   3  0.341736  0.024719  0.283386   \n",
       "...                   ...                 ...       ...       ...       ...   \n",
       "3331                   97                   2  0.172180  0.383972  0.792175   \n",
       "3332                   97                   2  0.025330  0.012878  0.879944   \n",
       "3333                   97                   2  0.232727  0.574280  0.699829   \n",
       "3334                   77                   2 -0.008362  0.018127  0.898926   \n",
       "3335                   77                   2  0.127014  0.344666  0.831360   \n",
       "\n",
       "             z weekday        date  hour  hour_minute        roll     pitch  \\\n",
       "0     0.399597  Monday  2024-06-24     8     8.083333  114.323468 -0.708386   \n",
       "1     0.360474  Monday  2024-06-24     8     8.183333  118.489462 -1.807692   \n",
       "2     0.906189  Monday  2024-06-24     8     8.200000   49.398442 -6.629249   \n",
       "3     0.746765  Monday  2024-06-24     8     8.266667   39.462557  5.296509   \n",
       "4     0.895691  Monday  2024-06-24     8     8.266667   32.040664 -8.592746   \n",
       "...        ...     ...         ...   ...          ...         ...       ...   \n",
       "3331  0.442078  Friday  2024-06-28    11    11.100000  123.442085  3.824130   \n",
       "3332  0.474243  Friday  2024-06-28    11    11.100000  123.312047 -1.854517   \n",
       "3333  0.355347  Friday  2024-06-28    11    11.100000  129.889655  4.726522   \n",
       "3334  0.437683  Friday  2024-06-28    11    11.100000  128.099907  1.770745   \n",
       "3335  0.417053  Friday  2024-06-28    11    11.100000  128.439521  4.375791   \n",
       "\n",
       "            yaw  \n",
       "0     83.966903  \n",
       "1     87.339682  \n",
       "2     -8.758405  \n",
       "3     76.757793  \n",
       "4     39.295561  \n",
       "...         ...  \n",
       "3331  49.661682  \n",
       "3332   2.677436  \n",
       "3333  76.534100  \n",
       "3334   1.448705  \n",
       "3335  42.921661  \n",
       "\n",
       "[3335 rows x 17 columns]"
      ]
     },
     "execution_count": 28,
     "metadata": {},
     "output_type": "execute_result"
    }
   ],
   "source": [
    "data"
   ]
  },
  {
   "cell_type": "code",
   "execution_count": 29,
   "metadata": {},
   "outputs": [],
   "source": [
    "filter_calibration_status = True\n",
    "if filter_calibration_status:\n",
    "    data = data[data['calibration_status'] >= 2]"
   ]
  },
  {
   "cell_type": "code",
   "execution_count": 30,
   "metadata": {},
   "outputs": [
    {
     "data": {
      "application/vnd.plotly.v1+json": {
       "config": {
        "plotlyServerURL": "https://plot.ly"
       },
       "data": [
        {
         "alignmentgroup": "True",
         "hovertemplate": "Activity=%{x}<br>Number of Observations=%{y}<extra></extra>",
         "legendgroup": "Unknown",
         "marker": {
          "color": "#636efa",
          "pattern": {
           "shape": ""
          }
         },
         "name": "Unknown",
         "offsetgroup": "Unknown",
         "orientation": "v",
         "showlegend": true,
         "textposition": "auto",
         "type": "bar",
         "x": [
          "Unknown"
         ],
         "xaxis": "x",
         "y": [
          64
         ],
         "yaxis": "y"
        },
        {
         "alignmentgroup": "True",
         "hovertemplate": "Activity=%{x}<br>Number of Observations=%{y}<extra></extra>",
         "legendgroup": "In-Vehicle",
         "marker": {
          "color": "#EF553B",
          "pattern": {
           "shape": ""
          }
         },
         "name": "In-Vehicle",
         "offsetgroup": "In-Vehicle",
         "orientation": "v",
         "showlegend": true,
         "textposition": "auto",
         "type": "bar",
         "x": [
          "In-Vehicle"
         ],
         "xaxis": "x",
         "y": [
          31
         ],
         "yaxis": "y"
        },
        {
         "alignmentgroup": "True",
         "hovertemplate": "Activity=%{x}<br>Number of Observations=%{y}<extra></extra>",
         "legendgroup": "On-Bicycle",
         "marker": {
          "color": "#00cc96",
          "pattern": {
           "shape": ""
          }
         },
         "name": "On-Bicycle",
         "offsetgroup": "On-Bicycle",
         "orientation": "v",
         "showlegend": true,
         "textposition": "auto",
         "type": "bar",
         "x": [
          "On-Bicycle"
         ],
         "xaxis": "x",
         "y": [
          0
         ],
         "yaxis": "y"
        },
        {
         "alignmentgroup": "True",
         "hovertemplate": "Activity=%{x}<br>Number of Observations=%{y}<extra></extra>",
         "legendgroup": "On-Foot",
         "marker": {
          "color": "#ab63fa",
          "pattern": {
           "shape": ""
          }
         },
         "name": "On-Foot",
         "offsetgroup": "On-Foot",
         "orientation": "v",
         "showlegend": true,
         "textposition": "auto",
         "type": "bar",
         "x": [
          "On-Foot"
         ],
         "xaxis": "x",
         "y": [
          0
         ],
         "yaxis": "y"
        },
        {
         "alignmentgroup": "True",
         "hovertemplate": "Activity=%{x}<br>Number of Observations=%{y}<extra></extra>",
         "legendgroup": "Still",
         "marker": {
          "color": "#FFA15A",
          "pattern": {
           "shape": ""
          }
         },
         "name": "Still",
         "offsetgroup": "Still",
         "orientation": "v",
         "showlegend": true,
         "textposition": "auto",
         "type": "bar",
         "x": [
          "Still"
         ],
         "xaxis": "x",
         "y": [
          1886
         ],
         "yaxis": "y"
        },
        {
         "alignmentgroup": "True",
         "hovertemplate": "Activity=%{x}<br>Number of Observations=%{y}<extra></extra>",
         "legendgroup": "Tilting",
         "marker": {
          "color": "#19d3f3",
          "pattern": {
           "shape": ""
          }
         },
         "name": "Tilting",
         "offsetgroup": "Tilting",
         "orientation": "v",
         "showlegend": true,
         "textposition": "auto",
         "type": "bar",
         "x": [
          "Tilting"
         ],
         "xaxis": "x",
         "y": [
          0
         ],
         "yaxis": "y"
        },
        {
         "alignmentgroup": "True",
         "hovertemplate": "Activity=%{x}<br>Number of Observations=%{y}<extra></extra>",
         "legendgroup": "Walking",
         "marker": {
          "color": "#FF6692",
          "pattern": {
           "shape": ""
          }
         },
         "name": "Walking",
         "offsetgroup": "Walking",
         "orientation": "v",
         "showlegend": true,
         "textposition": "auto",
         "type": "bar",
         "x": [
          "Walking"
         ],
         "xaxis": "x",
         "y": [
          40
         ],
         "yaxis": "y"
        },
        {
         "alignmentgroup": "True",
         "hovertemplate": "Activity=%{x}<br>Number of Observations=%{y}<extra></extra>",
         "legendgroup": "Running",
         "marker": {
          "color": "#B6E880",
          "pattern": {
           "shape": ""
          }
         },
         "name": "Running",
         "offsetgroup": "Running",
         "orientation": "v",
         "showlegend": true,
         "textposition": "auto",
         "type": "bar",
         "x": [
          "Running"
         ],
         "xaxis": "x",
         "y": [
          1
         ],
         "yaxis": "y"
        },
        {
         "alignmentgroup": "True",
         "hovertemplate": "Activity=%{x}<br>Number of Observations=%{y}<extra></extra>",
         "legendgroup": "On Stairs",
         "marker": {
          "color": "#FF97FF",
          "pattern": {
           "shape": ""
          }
         },
         "name": "On Stairs",
         "offsetgroup": "On Stairs",
         "orientation": "v",
         "showlegend": true,
         "textposition": "auto",
         "type": "bar",
         "x": [
          "On Stairs"
         ],
         "xaxis": "x",
         "y": [
          0
         ],
         "yaxis": "y"
        }
       ],
       "layout": {
        "barmode": "relative",
        "legend": {
         "title": {
          "text": "Activity"
         },
         "tracegroupgap": 0
        },
        "template": {
         "data": {
          "bar": [
           {
            "error_x": {
             "color": "#2a3f5f"
            },
            "error_y": {
             "color": "#2a3f5f"
            },
            "marker": {
             "line": {
              "color": "#E5ECF6",
              "width": 0.5
             },
             "pattern": {
              "fillmode": "overlay",
              "size": 10,
              "solidity": 0.2
             }
            },
            "type": "bar"
           }
          ],
          "barpolar": [
           {
            "marker": {
             "line": {
              "color": "#E5ECF6",
              "width": 0.5
             },
             "pattern": {
              "fillmode": "overlay",
              "size": 10,
              "solidity": 0.2
             }
            },
            "type": "barpolar"
           }
          ],
          "carpet": [
           {
            "aaxis": {
             "endlinecolor": "#2a3f5f",
             "gridcolor": "white",
             "linecolor": "white",
             "minorgridcolor": "white",
             "startlinecolor": "#2a3f5f"
            },
            "baxis": {
             "endlinecolor": "#2a3f5f",
             "gridcolor": "white",
             "linecolor": "white",
             "minorgridcolor": "white",
             "startlinecolor": "#2a3f5f"
            },
            "type": "carpet"
           }
          ],
          "choropleth": [
           {
            "colorbar": {
             "outlinewidth": 0,
             "ticks": ""
            },
            "type": "choropleth"
           }
          ],
          "contour": [
           {
            "colorbar": {
             "outlinewidth": 0,
             "ticks": ""
            },
            "colorscale": [
             [
              0,
              "#0d0887"
             ],
             [
              0.1111111111111111,
              "#46039f"
             ],
             [
              0.2222222222222222,
              "#7201a8"
             ],
             [
              0.3333333333333333,
              "#9c179e"
             ],
             [
              0.4444444444444444,
              "#bd3786"
             ],
             [
              0.5555555555555556,
              "#d8576b"
             ],
             [
              0.6666666666666666,
              "#ed7953"
             ],
             [
              0.7777777777777778,
              "#fb9f3a"
             ],
             [
              0.8888888888888888,
              "#fdca26"
             ],
             [
              1,
              "#f0f921"
             ]
            ],
            "type": "contour"
           }
          ],
          "contourcarpet": [
           {
            "colorbar": {
             "outlinewidth": 0,
             "ticks": ""
            },
            "type": "contourcarpet"
           }
          ],
          "heatmap": [
           {
            "colorbar": {
             "outlinewidth": 0,
             "ticks": ""
            },
            "colorscale": [
             [
              0,
              "#0d0887"
             ],
             [
              0.1111111111111111,
              "#46039f"
             ],
             [
              0.2222222222222222,
              "#7201a8"
             ],
             [
              0.3333333333333333,
              "#9c179e"
             ],
             [
              0.4444444444444444,
              "#bd3786"
             ],
             [
              0.5555555555555556,
              "#d8576b"
             ],
             [
              0.6666666666666666,
              "#ed7953"
             ],
             [
              0.7777777777777778,
              "#fb9f3a"
             ],
             [
              0.8888888888888888,
              "#fdca26"
             ],
             [
              1,
              "#f0f921"
             ]
            ],
            "type": "heatmap"
           }
          ],
          "heatmapgl": [
           {
            "colorbar": {
             "outlinewidth": 0,
             "ticks": ""
            },
            "colorscale": [
             [
              0,
              "#0d0887"
             ],
             [
              0.1111111111111111,
              "#46039f"
             ],
             [
              0.2222222222222222,
              "#7201a8"
             ],
             [
              0.3333333333333333,
              "#9c179e"
             ],
             [
              0.4444444444444444,
              "#bd3786"
             ],
             [
              0.5555555555555556,
              "#d8576b"
             ],
             [
              0.6666666666666666,
              "#ed7953"
             ],
             [
              0.7777777777777778,
              "#fb9f3a"
             ],
             [
              0.8888888888888888,
              "#fdca26"
             ],
             [
              1,
              "#f0f921"
             ]
            ],
            "type": "heatmapgl"
           }
          ],
          "histogram": [
           {
            "marker": {
             "pattern": {
              "fillmode": "overlay",
              "size": 10,
              "solidity": 0.2
             }
            },
            "type": "histogram"
           }
          ],
          "histogram2d": [
           {
            "colorbar": {
             "outlinewidth": 0,
             "ticks": ""
            },
            "colorscale": [
             [
              0,
              "#0d0887"
             ],
             [
              0.1111111111111111,
              "#46039f"
             ],
             [
              0.2222222222222222,
              "#7201a8"
             ],
             [
              0.3333333333333333,
              "#9c179e"
             ],
             [
              0.4444444444444444,
              "#bd3786"
             ],
             [
              0.5555555555555556,
              "#d8576b"
             ],
             [
              0.6666666666666666,
              "#ed7953"
             ],
             [
              0.7777777777777778,
              "#fb9f3a"
             ],
             [
              0.8888888888888888,
              "#fdca26"
             ],
             [
              1,
              "#f0f921"
             ]
            ],
            "type": "histogram2d"
           }
          ],
          "histogram2dcontour": [
           {
            "colorbar": {
             "outlinewidth": 0,
             "ticks": ""
            },
            "colorscale": [
             [
              0,
              "#0d0887"
             ],
             [
              0.1111111111111111,
              "#46039f"
             ],
             [
              0.2222222222222222,
              "#7201a8"
             ],
             [
              0.3333333333333333,
              "#9c179e"
             ],
             [
              0.4444444444444444,
              "#bd3786"
             ],
             [
              0.5555555555555556,
              "#d8576b"
             ],
             [
              0.6666666666666666,
              "#ed7953"
             ],
             [
              0.7777777777777778,
              "#fb9f3a"
             ],
             [
              0.8888888888888888,
              "#fdca26"
             ],
             [
              1,
              "#f0f921"
             ]
            ],
            "type": "histogram2dcontour"
           }
          ],
          "mesh3d": [
           {
            "colorbar": {
             "outlinewidth": 0,
             "ticks": ""
            },
            "type": "mesh3d"
           }
          ],
          "parcoords": [
           {
            "line": {
             "colorbar": {
              "outlinewidth": 0,
              "ticks": ""
             }
            },
            "type": "parcoords"
           }
          ],
          "pie": [
           {
            "automargin": true,
            "type": "pie"
           }
          ],
          "scatter": [
           {
            "fillpattern": {
             "fillmode": "overlay",
             "size": 10,
             "solidity": 0.2
            },
            "type": "scatter"
           }
          ],
          "scatter3d": [
           {
            "line": {
             "colorbar": {
              "outlinewidth": 0,
              "ticks": ""
             }
            },
            "marker": {
             "colorbar": {
              "outlinewidth": 0,
              "ticks": ""
             }
            },
            "type": "scatter3d"
           }
          ],
          "scattercarpet": [
           {
            "marker": {
             "colorbar": {
              "outlinewidth": 0,
              "ticks": ""
             }
            },
            "type": "scattercarpet"
           }
          ],
          "scattergeo": [
           {
            "marker": {
             "colorbar": {
              "outlinewidth": 0,
              "ticks": ""
             }
            },
            "type": "scattergeo"
           }
          ],
          "scattergl": [
           {
            "marker": {
             "colorbar": {
              "outlinewidth": 0,
              "ticks": ""
             }
            },
            "type": "scattergl"
           }
          ],
          "scattermapbox": [
           {
            "marker": {
             "colorbar": {
              "outlinewidth": 0,
              "ticks": ""
             }
            },
            "type": "scattermapbox"
           }
          ],
          "scatterpolar": [
           {
            "marker": {
             "colorbar": {
              "outlinewidth": 0,
              "ticks": ""
             }
            },
            "type": "scatterpolar"
           }
          ],
          "scatterpolargl": [
           {
            "marker": {
             "colorbar": {
              "outlinewidth": 0,
              "ticks": ""
             }
            },
            "type": "scatterpolargl"
           }
          ],
          "scatterternary": [
           {
            "marker": {
             "colorbar": {
              "outlinewidth": 0,
              "ticks": ""
             }
            },
            "type": "scatterternary"
           }
          ],
          "surface": [
           {
            "colorbar": {
             "outlinewidth": 0,
             "ticks": ""
            },
            "colorscale": [
             [
              0,
              "#0d0887"
             ],
             [
              0.1111111111111111,
              "#46039f"
             ],
             [
              0.2222222222222222,
              "#7201a8"
             ],
             [
              0.3333333333333333,
              "#9c179e"
             ],
             [
              0.4444444444444444,
              "#bd3786"
             ],
             [
              0.5555555555555556,
              "#d8576b"
             ],
             [
              0.6666666666666666,
              "#ed7953"
             ],
             [
              0.7777777777777778,
              "#fb9f3a"
             ],
             [
              0.8888888888888888,
              "#fdca26"
             ],
             [
              1,
              "#f0f921"
             ]
            ],
            "type": "surface"
           }
          ],
          "table": [
           {
            "cells": {
             "fill": {
              "color": "#EBF0F8"
             },
             "line": {
              "color": "white"
             }
            },
            "header": {
             "fill": {
              "color": "#C8D4E3"
             },
             "line": {
              "color": "white"
             }
            },
            "type": "table"
           }
          ]
         },
         "layout": {
          "annotationdefaults": {
           "arrowcolor": "#2a3f5f",
           "arrowhead": 0,
           "arrowwidth": 1
          },
          "autotypenumbers": "strict",
          "coloraxis": {
           "colorbar": {
            "outlinewidth": 0,
            "ticks": ""
           }
          },
          "colorscale": {
           "diverging": [
            [
             0,
             "#8e0152"
            ],
            [
             0.1,
             "#c51b7d"
            ],
            [
             0.2,
             "#de77ae"
            ],
            [
             0.3,
             "#f1b6da"
            ],
            [
             0.4,
             "#fde0ef"
            ],
            [
             0.5,
             "#f7f7f7"
            ],
            [
             0.6,
             "#e6f5d0"
            ],
            [
             0.7,
             "#b8e186"
            ],
            [
             0.8,
             "#7fbc41"
            ],
            [
             0.9,
             "#4d9221"
            ],
            [
             1,
             "#276419"
            ]
           ],
           "sequential": [
            [
             0,
             "#0d0887"
            ],
            [
             0.1111111111111111,
             "#46039f"
            ],
            [
             0.2222222222222222,
             "#7201a8"
            ],
            [
             0.3333333333333333,
             "#9c179e"
            ],
            [
             0.4444444444444444,
             "#bd3786"
            ],
            [
             0.5555555555555556,
             "#d8576b"
            ],
            [
             0.6666666666666666,
             "#ed7953"
            ],
            [
             0.7777777777777778,
             "#fb9f3a"
            ],
            [
             0.8888888888888888,
             "#fdca26"
            ],
            [
             1,
             "#f0f921"
            ]
           ],
           "sequentialminus": [
            [
             0,
             "#0d0887"
            ],
            [
             0.1111111111111111,
             "#46039f"
            ],
            [
             0.2222222222222222,
             "#7201a8"
            ],
            [
             0.3333333333333333,
             "#9c179e"
            ],
            [
             0.4444444444444444,
             "#bd3786"
            ],
            [
             0.5555555555555556,
             "#d8576b"
            ],
            [
             0.6666666666666666,
             "#ed7953"
            ],
            [
             0.7777777777777778,
             "#fb9f3a"
            ],
            [
             0.8888888888888888,
             "#fdca26"
            ],
            [
             1,
             "#f0f921"
            ]
           ]
          },
          "colorway": [
           "#636efa",
           "#EF553B",
           "#00cc96",
           "#ab63fa",
           "#FFA15A",
           "#19d3f3",
           "#FF6692",
           "#B6E880",
           "#FF97FF",
           "#FECB52"
          ],
          "font": {
           "color": "#2a3f5f"
          },
          "geo": {
           "bgcolor": "white",
           "lakecolor": "white",
           "landcolor": "#E5ECF6",
           "showlakes": true,
           "showland": true,
           "subunitcolor": "white"
          },
          "hoverlabel": {
           "align": "left"
          },
          "hovermode": "closest",
          "mapbox": {
           "style": "light"
          },
          "paper_bgcolor": "white",
          "plot_bgcolor": "#E5ECF6",
          "polar": {
           "angularaxis": {
            "gridcolor": "white",
            "linecolor": "white",
            "ticks": ""
           },
           "bgcolor": "#E5ECF6",
           "radialaxis": {
            "gridcolor": "white",
            "linecolor": "white",
            "ticks": ""
           }
          },
          "scene": {
           "xaxis": {
            "backgroundcolor": "#E5ECF6",
            "gridcolor": "white",
            "gridwidth": 2,
            "linecolor": "white",
            "showbackground": true,
            "ticks": "",
            "zerolinecolor": "white"
           },
           "yaxis": {
            "backgroundcolor": "#E5ECF6",
            "gridcolor": "white",
            "gridwidth": 2,
            "linecolor": "white",
            "showbackground": true,
            "ticks": "",
            "zerolinecolor": "white"
           },
           "zaxis": {
            "backgroundcolor": "#E5ECF6",
            "gridcolor": "white",
            "gridwidth": 2,
            "linecolor": "white",
            "showbackground": true,
            "ticks": "",
            "zerolinecolor": "white"
           }
          },
          "shapedefaults": {
           "line": {
            "color": "#2a3f5f"
           }
          },
          "ternary": {
           "aaxis": {
            "gridcolor": "white",
            "linecolor": "white",
            "ticks": ""
           },
           "baxis": {
            "gridcolor": "white",
            "linecolor": "white",
            "ticks": ""
           },
           "bgcolor": "#E5ECF6",
           "caxis": {
            "gridcolor": "white",
            "linecolor": "white",
            "ticks": ""
           }
          },
          "title": {
           "x": 0.05
          },
          "xaxis": {
           "automargin": true,
           "gridcolor": "white",
           "linecolor": "white",
           "ticks": "",
           "title": {
            "standoff": 15
           },
           "zerolinecolor": "white",
           "zerolinewidth": 2
          },
          "yaxis": {
           "automargin": true,
           "gridcolor": "white",
           "linecolor": "white",
           "ticks": "",
           "title": {
            "standoff": 15
           },
           "zerolinecolor": "white",
           "zerolinewidth": 2
          }
         }
        },
        "title": {
         "text": "Activity Distribution"
        },
        "xaxis": {
         "anchor": "y",
         "categoryarray": [
          "Unknown",
          "In-Vehicle",
          "On-Bicycle",
          "On-Foot",
          "Still",
          "Tilting",
          "Walking",
          "Running",
          "On Stairs"
         ],
         "categoryorder": "array",
         "domain": [
          0,
          1
         ],
         "title": {
          "text": "Activity"
         }
        },
        "yaxis": {
         "anchor": "x",
         "domain": [
          0,
          1
         ],
         "title": {
          "text": "Number of Observations"
         }
        }
       }
      }
     },
     "metadata": {},
     "output_type": "display_data"
    }
   ],
   "source": [
    "all_activities = ['Unknown', 'In-Vehicle', 'On-Bicycle', 'On-Foot', 'Still', 'Tilting', 'Walking', 'Running', 'On Stairs']\n",
    "activity_counts = data['activity'].value_counts().reindex(all_activities, fill_value=0)\n",
    "\n",
    "activity_df = pd.DataFrame({'Activity': activity_counts.index, 'Number of Observations': activity_counts.values})\n",
    "\n",
    "fig = px.bar(activity_df, x='Activity', y='Number of Observations', title='Activity Distribution', \n",
    "             labels={'Activity': 'Activity', 'Number of Observations': 'Number of Observations'}, \n",
    "             color='Activity')\n",
    "\n",
    "fig.show()"
   ]
  },
  {
   "cell_type": "code",
   "execution_count": 31,
   "metadata": {},
   "outputs": [
    {
     "data": {
      "application/vnd.plotly.v1+json": {
       "config": {
        "plotlyServerURL": "https://plot.ly"
       },
       "data": [
        {
         "alignmentgroup": "True",
         "hovertemplate": "Stability=%{x}<br>Number of Observations=%{y}<extra></extra>",
         "legendgroup": "Unknown",
         "marker": {
          "color": "#636efa",
          "pattern": {
           "shape": ""
          }
         },
         "name": "Unknown",
         "offsetgroup": "Unknown",
         "orientation": "v",
         "showlegend": true,
         "textposition": "auto",
         "type": "bar",
         "x": [
          "Unknown"
         ],
         "xaxis": "x",
         "y": [
          0
         ],
         "yaxis": "y"
        },
        {
         "alignmentgroup": "True",
         "hovertemplate": "Stability=%{x}<br>Number of Observations=%{y}<extra></extra>",
         "legendgroup": "On Table",
         "marker": {
          "color": "#EF553B",
          "pattern": {
           "shape": ""
          }
         },
         "name": "On Table",
         "offsetgroup": "On Table",
         "orientation": "v",
         "showlegend": true,
         "textposition": "auto",
         "type": "bar",
         "x": [
          "On Table"
         ],
         "xaxis": "x",
         "y": [
          18
         ],
         "yaxis": "y"
        },
        {
         "alignmentgroup": "True",
         "hovertemplate": "Stability=%{x}<br>Number of Observations=%{y}<extra></extra>",
         "legendgroup": "Stationary",
         "marker": {
          "color": "#00cc96",
          "pattern": {
           "shape": ""
          }
         },
         "name": "Stationary",
         "offsetgroup": "Stationary",
         "orientation": "v",
         "showlegend": true,
         "textposition": "auto",
         "type": "bar",
         "x": [
          "Stationary"
         ],
         "xaxis": "x",
         "y": [
          0
         ],
         "yaxis": "y"
        },
        {
         "alignmentgroup": "True",
         "hovertemplate": "Stability=%{x}<br>Number of Observations=%{y}<extra></extra>",
         "legendgroup": "Stable",
         "marker": {
          "color": "#ab63fa",
          "pattern": {
           "shape": ""
          }
         },
         "name": "Stable",
         "offsetgroup": "Stable",
         "orientation": "v",
         "showlegend": true,
         "textposition": "auto",
         "type": "bar",
         "x": [
          "Stable"
         ],
         "xaxis": "x",
         "y": [
          858
         ],
         "yaxis": "y"
        },
        {
         "alignmentgroup": "True",
         "hovertemplate": "Stability=%{x}<br>Number of Observations=%{y}<extra></extra>",
         "legendgroup": "In motion",
         "marker": {
          "color": "#FFA15A",
          "pattern": {
           "shape": ""
          }
         },
         "name": "In motion",
         "offsetgroup": "In motion",
         "orientation": "v",
         "showlegend": true,
         "textposition": "auto",
         "type": "bar",
         "x": [
          "In motion"
         ],
         "xaxis": "x",
         "y": [
          1146
         ],
         "yaxis": "y"
        }
       ],
       "layout": {
        "barmode": "relative",
        "legend": {
         "title": {
          "text": "Stability"
         },
         "tracegroupgap": 0
        },
        "template": {
         "data": {
          "bar": [
           {
            "error_x": {
             "color": "#2a3f5f"
            },
            "error_y": {
             "color": "#2a3f5f"
            },
            "marker": {
             "line": {
              "color": "#E5ECF6",
              "width": 0.5
             },
             "pattern": {
              "fillmode": "overlay",
              "size": 10,
              "solidity": 0.2
             }
            },
            "type": "bar"
           }
          ],
          "barpolar": [
           {
            "marker": {
             "line": {
              "color": "#E5ECF6",
              "width": 0.5
             },
             "pattern": {
              "fillmode": "overlay",
              "size": 10,
              "solidity": 0.2
             }
            },
            "type": "barpolar"
           }
          ],
          "carpet": [
           {
            "aaxis": {
             "endlinecolor": "#2a3f5f",
             "gridcolor": "white",
             "linecolor": "white",
             "minorgridcolor": "white",
             "startlinecolor": "#2a3f5f"
            },
            "baxis": {
             "endlinecolor": "#2a3f5f",
             "gridcolor": "white",
             "linecolor": "white",
             "minorgridcolor": "white",
             "startlinecolor": "#2a3f5f"
            },
            "type": "carpet"
           }
          ],
          "choropleth": [
           {
            "colorbar": {
             "outlinewidth": 0,
             "ticks": ""
            },
            "type": "choropleth"
           }
          ],
          "contour": [
           {
            "colorbar": {
             "outlinewidth": 0,
             "ticks": ""
            },
            "colorscale": [
             [
              0,
              "#0d0887"
             ],
             [
              0.1111111111111111,
              "#46039f"
             ],
             [
              0.2222222222222222,
              "#7201a8"
             ],
             [
              0.3333333333333333,
              "#9c179e"
             ],
             [
              0.4444444444444444,
              "#bd3786"
             ],
             [
              0.5555555555555556,
              "#d8576b"
             ],
             [
              0.6666666666666666,
              "#ed7953"
             ],
             [
              0.7777777777777778,
              "#fb9f3a"
             ],
             [
              0.8888888888888888,
              "#fdca26"
             ],
             [
              1,
              "#f0f921"
             ]
            ],
            "type": "contour"
           }
          ],
          "contourcarpet": [
           {
            "colorbar": {
             "outlinewidth": 0,
             "ticks": ""
            },
            "type": "contourcarpet"
           }
          ],
          "heatmap": [
           {
            "colorbar": {
             "outlinewidth": 0,
             "ticks": ""
            },
            "colorscale": [
             [
              0,
              "#0d0887"
             ],
             [
              0.1111111111111111,
              "#46039f"
             ],
             [
              0.2222222222222222,
              "#7201a8"
             ],
             [
              0.3333333333333333,
              "#9c179e"
             ],
             [
              0.4444444444444444,
              "#bd3786"
             ],
             [
              0.5555555555555556,
              "#d8576b"
             ],
             [
              0.6666666666666666,
              "#ed7953"
             ],
             [
              0.7777777777777778,
              "#fb9f3a"
             ],
             [
              0.8888888888888888,
              "#fdca26"
             ],
             [
              1,
              "#f0f921"
             ]
            ],
            "type": "heatmap"
           }
          ],
          "heatmapgl": [
           {
            "colorbar": {
             "outlinewidth": 0,
             "ticks": ""
            },
            "colorscale": [
             [
              0,
              "#0d0887"
             ],
             [
              0.1111111111111111,
              "#46039f"
             ],
             [
              0.2222222222222222,
              "#7201a8"
             ],
             [
              0.3333333333333333,
              "#9c179e"
             ],
             [
              0.4444444444444444,
              "#bd3786"
             ],
             [
              0.5555555555555556,
              "#d8576b"
             ],
             [
              0.6666666666666666,
              "#ed7953"
             ],
             [
              0.7777777777777778,
              "#fb9f3a"
             ],
             [
              0.8888888888888888,
              "#fdca26"
             ],
             [
              1,
              "#f0f921"
             ]
            ],
            "type": "heatmapgl"
           }
          ],
          "histogram": [
           {
            "marker": {
             "pattern": {
              "fillmode": "overlay",
              "size": 10,
              "solidity": 0.2
             }
            },
            "type": "histogram"
           }
          ],
          "histogram2d": [
           {
            "colorbar": {
             "outlinewidth": 0,
             "ticks": ""
            },
            "colorscale": [
             [
              0,
              "#0d0887"
             ],
             [
              0.1111111111111111,
              "#46039f"
             ],
             [
              0.2222222222222222,
              "#7201a8"
             ],
             [
              0.3333333333333333,
              "#9c179e"
             ],
             [
              0.4444444444444444,
              "#bd3786"
             ],
             [
              0.5555555555555556,
              "#d8576b"
             ],
             [
              0.6666666666666666,
              "#ed7953"
             ],
             [
              0.7777777777777778,
              "#fb9f3a"
             ],
             [
              0.8888888888888888,
              "#fdca26"
             ],
             [
              1,
              "#f0f921"
             ]
            ],
            "type": "histogram2d"
           }
          ],
          "histogram2dcontour": [
           {
            "colorbar": {
             "outlinewidth": 0,
             "ticks": ""
            },
            "colorscale": [
             [
              0,
              "#0d0887"
             ],
             [
              0.1111111111111111,
              "#46039f"
             ],
             [
              0.2222222222222222,
              "#7201a8"
             ],
             [
              0.3333333333333333,
              "#9c179e"
             ],
             [
              0.4444444444444444,
              "#bd3786"
             ],
             [
              0.5555555555555556,
              "#d8576b"
             ],
             [
              0.6666666666666666,
              "#ed7953"
             ],
             [
              0.7777777777777778,
              "#fb9f3a"
             ],
             [
              0.8888888888888888,
              "#fdca26"
             ],
             [
              1,
              "#f0f921"
             ]
            ],
            "type": "histogram2dcontour"
           }
          ],
          "mesh3d": [
           {
            "colorbar": {
             "outlinewidth": 0,
             "ticks": ""
            },
            "type": "mesh3d"
           }
          ],
          "parcoords": [
           {
            "line": {
             "colorbar": {
              "outlinewidth": 0,
              "ticks": ""
             }
            },
            "type": "parcoords"
           }
          ],
          "pie": [
           {
            "automargin": true,
            "type": "pie"
           }
          ],
          "scatter": [
           {
            "fillpattern": {
             "fillmode": "overlay",
             "size": 10,
             "solidity": 0.2
            },
            "type": "scatter"
           }
          ],
          "scatter3d": [
           {
            "line": {
             "colorbar": {
              "outlinewidth": 0,
              "ticks": ""
             }
            },
            "marker": {
             "colorbar": {
              "outlinewidth": 0,
              "ticks": ""
             }
            },
            "type": "scatter3d"
           }
          ],
          "scattercarpet": [
           {
            "marker": {
             "colorbar": {
              "outlinewidth": 0,
              "ticks": ""
             }
            },
            "type": "scattercarpet"
           }
          ],
          "scattergeo": [
           {
            "marker": {
             "colorbar": {
              "outlinewidth": 0,
              "ticks": ""
             }
            },
            "type": "scattergeo"
           }
          ],
          "scattergl": [
           {
            "marker": {
             "colorbar": {
              "outlinewidth": 0,
              "ticks": ""
             }
            },
            "type": "scattergl"
           }
          ],
          "scattermapbox": [
           {
            "marker": {
             "colorbar": {
              "outlinewidth": 0,
              "ticks": ""
             }
            },
            "type": "scattermapbox"
           }
          ],
          "scatterpolar": [
           {
            "marker": {
             "colorbar": {
              "outlinewidth": 0,
              "ticks": ""
             }
            },
            "type": "scatterpolar"
           }
          ],
          "scatterpolargl": [
           {
            "marker": {
             "colorbar": {
              "outlinewidth": 0,
              "ticks": ""
             }
            },
            "type": "scatterpolargl"
           }
          ],
          "scatterternary": [
           {
            "marker": {
             "colorbar": {
              "outlinewidth": 0,
              "ticks": ""
             }
            },
            "type": "scatterternary"
           }
          ],
          "surface": [
           {
            "colorbar": {
             "outlinewidth": 0,
             "ticks": ""
            },
            "colorscale": [
             [
              0,
              "#0d0887"
             ],
             [
              0.1111111111111111,
              "#46039f"
             ],
             [
              0.2222222222222222,
              "#7201a8"
             ],
             [
              0.3333333333333333,
              "#9c179e"
             ],
             [
              0.4444444444444444,
              "#bd3786"
             ],
             [
              0.5555555555555556,
              "#d8576b"
             ],
             [
              0.6666666666666666,
              "#ed7953"
             ],
             [
              0.7777777777777778,
              "#fb9f3a"
             ],
             [
              0.8888888888888888,
              "#fdca26"
             ],
             [
              1,
              "#f0f921"
             ]
            ],
            "type": "surface"
           }
          ],
          "table": [
           {
            "cells": {
             "fill": {
              "color": "#EBF0F8"
             },
             "line": {
              "color": "white"
             }
            },
            "header": {
             "fill": {
              "color": "#C8D4E3"
             },
             "line": {
              "color": "white"
             }
            },
            "type": "table"
           }
          ]
         },
         "layout": {
          "annotationdefaults": {
           "arrowcolor": "#2a3f5f",
           "arrowhead": 0,
           "arrowwidth": 1
          },
          "autotypenumbers": "strict",
          "coloraxis": {
           "colorbar": {
            "outlinewidth": 0,
            "ticks": ""
           }
          },
          "colorscale": {
           "diverging": [
            [
             0,
             "#8e0152"
            ],
            [
             0.1,
             "#c51b7d"
            ],
            [
             0.2,
             "#de77ae"
            ],
            [
             0.3,
             "#f1b6da"
            ],
            [
             0.4,
             "#fde0ef"
            ],
            [
             0.5,
             "#f7f7f7"
            ],
            [
             0.6,
             "#e6f5d0"
            ],
            [
             0.7,
             "#b8e186"
            ],
            [
             0.8,
             "#7fbc41"
            ],
            [
             0.9,
             "#4d9221"
            ],
            [
             1,
             "#276419"
            ]
           ],
           "sequential": [
            [
             0,
             "#0d0887"
            ],
            [
             0.1111111111111111,
             "#46039f"
            ],
            [
             0.2222222222222222,
             "#7201a8"
            ],
            [
             0.3333333333333333,
             "#9c179e"
            ],
            [
             0.4444444444444444,
             "#bd3786"
            ],
            [
             0.5555555555555556,
             "#d8576b"
            ],
            [
             0.6666666666666666,
             "#ed7953"
            ],
            [
             0.7777777777777778,
             "#fb9f3a"
            ],
            [
             0.8888888888888888,
             "#fdca26"
            ],
            [
             1,
             "#f0f921"
            ]
           ],
           "sequentialminus": [
            [
             0,
             "#0d0887"
            ],
            [
             0.1111111111111111,
             "#46039f"
            ],
            [
             0.2222222222222222,
             "#7201a8"
            ],
            [
             0.3333333333333333,
             "#9c179e"
            ],
            [
             0.4444444444444444,
             "#bd3786"
            ],
            [
             0.5555555555555556,
             "#d8576b"
            ],
            [
             0.6666666666666666,
             "#ed7953"
            ],
            [
             0.7777777777777778,
             "#fb9f3a"
            ],
            [
             0.8888888888888888,
             "#fdca26"
            ],
            [
             1,
             "#f0f921"
            ]
           ]
          },
          "colorway": [
           "#636efa",
           "#EF553B",
           "#00cc96",
           "#ab63fa",
           "#FFA15A",
           "#19d3f3",
           "#FF6692",
           "#B6E880",
           "#FF97FF",
           "#FECB52"
          ],
          "font": {
           "color": "#2a3f5f"
          },
          "geo": {
           "bgcolor": "white",
           "lakecolor": "white",
           "landcolor": "#E5ECF6",
           "showlakes": true,
           "showland": true,
           "subunitcolor": "white"
          },
          "hoverlabel": {
           "align": "left"
          },
          "hovermode": "closest",
          "mapbox": {
           "style": "light"
          },
          "paper_bgcolor": "white",
          "plot_bgcolor": "#E5ECF6",
          "polar": {
           "angularaxis": {
            "gridcolor": "white",
            "linecolor": "white",
            "ticks": ""
           },
           "bgcolor": "#E5ECF6",
           "radialaxis": {
            "gridcolor": "white",
            "linecolor": "white",
            "ticks": ""
           }
          },
          "scene": {
           "xaxis": {
            "backgroundcolor": "#E5ECF6",
            "gridcolor": "white",
            "gridwidth": 2,
            "linecolor": "white",
            "showbackground": true,
            "ticks": "",
            "zerolinecolor": "white"
           },
           "yaxis": {
            "backgroundcolor": "#E5ECF6",
            "gridcolor": "white",
            "gridwidth": 2,
            "linecolor": "white",
            "showbackground": true,
            "ticks": "",
            "zerolinecolor": "white"
           },
           "zaxis": {
            "backgroundcolor": "#E5ECF6",
            "gridcolor": "white",
            "gridwidth": 2,
            "linecolor": "white",
            "showbackground": true,
            "ticks": "",
            "zerolinecolor": "white"
           }
          },
          "shapedefaults": {
           "line": {
            "color": "#2a3f5f"
           }
          },
          "ternary": {
           "aaxis": {
            "gridcolor": "white",
            "linecolor": "white",
            "ticks": ""
           },
           "baxis": {
            "gridcolor": "white",
            "linecolor": "white",
            "ticks": ""
           },
           "bgcolor": "#E5ECF6",
           "caxis": {
            "gridcolor": "white",
            "linecolor": "white",
            "ticks": ""
           }
          },
          "title": {
           "x": 0.05
          },
          "xaxis": {
           "automargin": true,
           "gridcolor": "white",
           "linecolor": "white",
           "ticks": "",
           "title": {
            "standoff": 15
           },
           "zerolinecolor": "white",
           "zerolinewidth": 2
          },
          "yaxis": {
           "automargin": true,
           "gridcolor": "white",
           "linecolor": "white",
           "ticks": "",
           "title": {
            "standoff": 15
           },
           "zerolinecolor": "white",
           "zerolinewidth": 2
          }
         }
        },
        "title": {
         "text": "Stability Distribution"
        },
        "xaxis": {
         "anchor": "y",
         "categoryarray": [
          "Unknown",
          "On Table",
          "Stationary",
          "Stable",
          "In motion"
         ],
         "categoryorder": "array",
         "domain": [
          0,
          1
         ],
         "title": {
          "text": "Stability"
         }
        },
        "yaxis": {
         "anchor": "x",
         "domain": [
          0,
          1
         ],
         "title": {
          "text": "Number of Observations"
         }
        }
       }
      }
     },
     "metadata": {},
     "output_type": "display_data"
    }
   ],
   "source": [
    "all_stability_statuses = ['Unknown', 'On Table', 'Stationary', 'Stable', 'In motion']\n",
    "stability_counts = data['stability'].value_counts().reindex(all_stability_statuses, fill_value=0)\n",
    "\n",
    "stability_df = pd.DataFrame({'Stability': stability_counts.index, 'Number of Observations': stability_counts.values})\n",
    "\n",
    "fig = px.bar(stability_df, x='Stability', y='Number of Observations', title='Stability Distribution', \n",
    "             labels={'Stability': 'Stability', 'Number of Observations': 'Number of Observations'}, \n",
    "             color='Stability')\n",
    "\n",
    "fig.show()"
   ]
  },
  {
   "cell_type": "code",
   "execution_count": 32,
   "metadata": {},
   "outputs": [
    {
     "data": {
      "application/vnd.plotly.v1+json": {
       "config": {
        "plotlyServerURL": "https://plot.ly"
       },
       "data": [
        {
         "alignmentgroup": "True",
         "hovertemplate": "Calibration Status=%{x}<br>Number of Observations=%{y}<extra></extra>",
         "legendgroup": "0",
         "marker": {
          "color": "#636efa",
          "pattern": {
           "shape": ""
          }
         },
         "name": "0",
         "offsetgroup": "0",
         "orientation": "v",
         "showlegend": true,
         "textposition": "auto",
         "type": "bar",
         "x": [
          "0"
         ],
         "xaxis": "x",
         "y": [
          0
         ],
         "yaxis": "y"
        },
        {
         "alignmentgroup": "True",
         "hovertemplate": "Calibration Status=%{x}<br>Number of Observations=%{y}<extra></extra>",
         "legendgroup": "1",
         "marker": {
          "color": "#EF553B",
          "pattern": {
           "shape": ""
          }
         },
         "name": "1",
         "offsetgroup": "1",
         "orientation": "v",
         "showlegend": true,
         "textposition": "auto",
         "type": "bar",
         "x": [
          "1"
         ],
         "xaxis": "x",
         "y": [
          0
         ],
         "yaxis": "y"
        },
        {
         "alignmentgroup": "True",
         "hovertemplate": "Calibration Status=%{x}<br>Number of Observations=%{y}<extra></extra>",
         "legendgroup": "2",
         "marker": {
          "color": "#00cc96",
          "pattern": {
           "shape": ""
          }
         },
         "name": "2",
         "offsetgroup": "2",
         "orientation": "v",
         "showlegend": true,
         "textposition": "auto",
         "type": "bar",
         "x": [
          "2"
         ],
         "xaxis": "x",
         "y": [
          1931
         ],
         "yaxis": "y"
        },
        {
         "alignmentgroup": "True",
         "hovertemplate": "Calibration Status=%{x}<br>Number of Observations=%{y}<extra></extra>",
         "legendgroup": "3",
         "marker": {
          "color": "#ab63fa",
          "pattern": {
           "shape": ""
          }
         },
         "name": "3",
         "offsetgroup": "3",
         "orientation": "v",
         "showlegend": true,
         "textposition": "auto",
         "type": "bar",
         "x": [
          "3"
         ],
         "xaxis": "x",
         "y": [
          91
         ],
         "yaxis": "y"
        }
       ],
       "layout": {
        "barmode": "relative",
        "legend": {
         "title": {
          "text": "Calibration Status"
         },
         "tracegroupgap": 0
        },
        "template": {
         "data": {
          "bar": [
           {
            "error_x": {
             "color": "#2a3f5f"
            },
            "error_y": {
             "color": "#2a3f5f"
            },
            "marker": {
             "line": {
              "color": "#E5ECF6",
              "width": 0.5
             },
             "pattern": {
              "fillmode": "overlay",
              "size": 10,
              "solidity": 0.2
             }
            },
            "type": "bar"
           }
          ],
          "barpolar": [
           {
            "marker": {
             "line": {
              "color": "#E5ECF6",
              "width": 0.5
             },
             "pattern": {
              "fillmode": "overlay",
              "size": 10,
              "solidity": 0.2
             }
            },
            "type": "barpolar"
           }
          ],
          "carpet": [
           {
            "aaxis": {
             "endlinecolor": "#2a3f5f",
             "gridcolor": "white",
             "linecolor": "white",
             "minorgridcolor": "white",
             "startlinecolor": "#2a3f5f"
            },
            "baxis": {
             "endlinecolor": "#2a3f5f",
             "gridcolor": "white",
             "linecolor": "white",
             "minorgridcolor": "white",
             "startlinecolor": "#2a3f5f"
            },
            "type": "carpet"
           }
          ],
          "choropleth": [
           {
            "colorbar": {
             "outlinewidth": 0,
             "ticks": ""
            },
            "type": "choropleth"
           }
          ],
          "contour": [
           {
            "colorbar": {
             "outlinewidth": 0,
             "ticks": ""
            },
            "colorscale": [
             [
              0,
              "#0d0887"
             ],
             [
              0.1111111111111111,
              "#46039f"
             ],
             [
              0.2222222222222222,
              "#7201a8"
             ],
             [
              0.3333333333333333,
              "#9c179e"
             ],
             [
              0.4444444444444444,
              "#bd3786"
             ],
             [
              0.5555555555555556,
              "#d8576b"
             ],
             [
              0.6666666666666666,
              "#ed7953"
             ],
             [
              0.7777777777777778,
              "#fb9f3a"
             ],
             [
              0.8888888888888888,
              "#fdca26"
             ],
             [
              1,
              "#f0f921"
             ]
            ],
            "type": "contour"
           }
          ],
          "contourcarpet": [
           {
            "colorbar": {
             "outlinewidth": 0,
             "ticks": ""
            },
            "type": "contourcarpet"
           }
          ],
          "heatmap": [
           {
            "colorbar": {
             "outlinewidth": 0,
             "ticks": ""
            },
            "colorscale": [
             [
              0,
              "#0d0887"
             ],
             [
              0.1111111111111111,
              "#46039f"
             ],
             [
              0.2222222222222222,
              "#7201a8"
             ],
             [
              0.3333333333333333,
              "#9c179e"
             ],
             [
              0.4444444444444444,
              "#bd3786"
             ],
             [
              0.5555555555555556,
              "#d8576b"
             ],
             [
              0.6666666666666666,
              "#ed7953"
             ],
             [
              0.7777777777777778,
              "#fb9f3a"
             ],
             [
              0.8888888888888888,
              "#fdca26"
             ],
             [
              1,
              "#f0f921"
             ]
            ],
            "type": "heatmap"
           }
          ],
          "heatmapgl": [
           {
            "colorbar": {
             "outlinewidth": 0,
             "ticks": ""
            },
            "colorscale": [
             [
              0,
              "#0d0887"
             ],
             [
              0.1111111111111111,
              "#46039f"
             ],
             [
              0.2222222222222222,
              "#7201a8"
             ],
             [
              0.3333333333333333,
              "#9c179e"
             ],
             [
              0.4444444444444444,
              "#bd3786"
             ],
             [
              0.5555555555555556,
              "#d8576b"
             ],
             [
              0.6666666666666666,
              "#ed7953"
             ],
             [
              0.7777777777777778,
              "#fb9f3a"
             ],
             [
              0.8888888888888888,
              "#fdca26"
             ],
             [
              1,
              "#f0f921"
             ]
            ],
            "type": "heatmapgl"
           }
          ],
          "histogram": [
           {
            "marker": {
             "pattern": {
              "fillmode": "overlay",
              "size": 10,
              "solidity": 0.2
             }
            },
            "type": "histogram"
           }
          ],
          "histogram2d": [
           {
            "colorbar": {
             "outlinewidth": 0,
             "ticks": ""
            },
            "colorscale": [
             [
              0,
              "#0d0887"
             ],
             [
              0.1111111111111111,
              "#46039f"
             ],
             [
              0.2222222222222222,
              "#7201a8"
             ],
             [
              0.3333333333333333,
              "#9c179e"
             ],
             [
              0.4444444444444444,
              "#bd3786"
             ],
             [
              0.5555555555555556,
              "#d8576b"
             ],
             [
              0.6666666666666666,
              "#ed7953"
             ],
             [
              0.7777777777777778,
              "#fb9f3a"
             ],
             [
              0.8888888888888888,
              "#fdca26"
             ],
             [
              1,
              "#f0f921"
             ]
            ],
            "type": "histogram2d"
           }
          ],
          "histogram2dcontour": [
           {
            "colorbar": {
             "outlinewidth": 0,
             "ticks": ""
            },
            "colorscale": [
             [
              0,
              "#0d0887"
             ],
             [
              0.1111111111111111,
              "#46039f"
             ],
             [
              0.2222222222222222,
              "#7201a8"
             ],
             [
              0.3333333333333333,
              "#9c179e"
             ],
             [
              0.4444444444444444,
              "#bd3786"
             ],
             [
              0.5555555555555556,
              "#d8576b"
             ],
             [
              0.6666666666666666,
              "#ed7953"
             ],
             [
              0.7777777777777778,
              "#fb9f3a"
             ],
             [
              0.8888888888888888,
              "#fdca26"
             ],
             [
              1,
              "#f0f921"
             ]
            ],
            "type": "histogram2dcontour"
           }
          ],
          "mesh3d": [
           {
            "colorbar": {
             "outlinewidth": 0,
             "ticks": ""
            },
            "type": "mesh3d"
           }
          ],
          "parcoords": [
           {
            "line": {
             "colorbar": {
              "outlinewidth": 0,
              "ticks": ""
             }
            },
            "type": "parcoords"
           }
          ],
          "pie": [
           {
            "automargin": true,
            "type": "pie"
           }
          ],
          "scatter": [
           {
            "fillpattern": {
             "fillmode": "overlay",
             "size": 10,
             "solidity": 0.2
            },
            "type": "scatter"
           }
          ],
          "scatter3d": [
           {
            "line": {
             "colorbar": {
              "outlinewidth": 0,
              "ticks": ""
             }
            },
            "marker": {
             "colorbar": {
              "outlinewidth": 0,
              "ticks": ""
             }
            },
            "type": "scatter3d"
           }
          ],
          "scattercarpet": [
           {
            "marker": {
             "colorbar": {
              "outlinewidth": 0,
              "ticks": ""
             }
            },
            "type": "scattercarpet"
           }
          ],
          "scattergeo": [
           {
            "marker": {
             "colorbar": {
              "outlinewidth": 0,
              "ticks": ""
             }
            },
            "type": "scattergeo"
           }
          ],
          "scattergl": [
           {
            "marker": {
             "colorbar": {
              "outlinewidth": 0,
              "ticks": ""
             }
            },
            "type": "scattergl"
           }
          ],
          "scattermapbox": [
           {
            "marker": {
             "colorbar": {
              "outlinewidth": 0,
              "ticks": ""
             }
            },
            "type": "scattermapbox"
           }
          ],
          "scatterpolar": [
           {
            "marker": {
             "colorbar": {
              "outlinewidth": 0,
              "ticks": ""
             }
            },
            "type": "scatterpolar"
           }
          ],
          "scatterpolargl": [
           {
            "marker": {
             "colorbar": {
              "outlinewidth": 0,
              "ticks": ""
             }
            },
            "type": "scatterpolargl"
           }
          ],
          "scatterternary": [
           {
            "marker": {
             "colorbar": {
              "outlinewidth": 0,
              "ticks": ""
             }
            },
            "type": "scatterternary"
           }
          ],
          "surface": [
           {
            "colorbar": {
             "outlinewidth": 0,
             "ticks": ""
            },
            "colorscale": [
             [
              0,
              "#0d0887"
             ],
             [
              0.1111111111111111,
              "#46039f"
             ],
             [
              0.2222222222222222,
              "#7201a8"
             ],
             [
              0.3333333333333333,
              "#9c179e"
             ],
             [
              0.4444444444444444,
              "#bd3786"
             ],
             [
              0.5555555555555556,
              "#d8576b"
             ],
             [
              0.6666666666666666,
              "#ed7953"
             ],
             [
              0.7777777777777778,
              "#fb9f3a"
             ],
             [
              0.8888888888888888,
              "#fdca26"
             ],
             [
              1,
              "#f0f921"
             ]
            ],
            "type": "surface"
           }
          ],
          "table": [
           {
            "cells": {
             "fill": {
              "color": "#EBF0F8"
             },
             "line": {
              "color": "white"
             }
            },
            "header": {
             "fill": {
              "color": "#C8D4E3"
             },
             "line": {
              "color": "white"
             }
            },
            "type": "table"
           }
          ]
         },
         "layout": {
          "annotationdefaults": {
           "arrowcolor": "#2a3f5f",
           "arrowhead": 0,
           "arrowwidth": 1
          },
          "autotypenumbers": "strict",
          "coloraxis": {
           "colorbar": {
            "outlinewidth": 0,
            "ticks": ""
           }
          },
          "colorscale": {
           "diverging": [
            [
             0,
             "#8e0152"
            ],
            [
             0.1,
             "#c51b7d"
            ],
            [
             0.2,
             "#de77ae"
            ],
            [
             0.3,
             "#f1b6da"
            ],
            [
             0.4,
             "#fde0ef"
            ],
            [
             0.5,
             "#f7f7f7"
            ],
            [
             0.6,
             "#e6f5d0"
            ],
            [
             0.7,
             "#b8e186"
            ],
            [
             0.8,
             "#7fbc41"
            ],
            [
             0.9,
             "#4d9221"
            ],
            [
             1,
             "#276419"
            ]
           ],
           "sequential": [
            [
             0,
             "#0d0887"
            ],
            [
             0.1111111111111111,
             "#46039f"
            ],
            [
             0.2222222222222222,
             "#7201a8"
            ],
            [
             0.3333333333333333,
             "#9c179e"
            ],
            [
             0.4444444444444444,
             "#bd3786"
            ],
            [
             0.5555555555555556,
             "#d8576b"
            ],
            [
             0.6666666666666666,
             "#ed7953"
            ],
            [
             0.7777777777777778,
             "#fb9f3a"
            ],
            [
             0.8888888888888888,
             "#fdca26"
            ],
            [
             1,
             "#f0f921"
            ]
           ],
           "sequentialminus": [
            [
             0,
             "#0d0887"
            ],
            [
             0.1111111111111111,
             "#46039f"
            ],
            [
             0.2222222222222222,
             "#7201a8"
            ],
            [
             0.3333333333333333,
             "#9c179e"
            ],
            [
             0.4444444444444444,
             "#bd3786"
            ],
            [
             0.5555555555555556,
             "#d8576b"
            ],
            [
             0.6666666666666666,
             "#ed7953"
            ],
            [
             0.7777777777777778,
             "#fb9f3a"
            ],
            [
             0.8888888888888888,
             "#fdca26"
            ],
            [
             1,
             "#f0f921"
            ]
           ]
          },
          "colorway": [
           "#636efa",
           "#EF553B",
           "#00cc96",
           "#ab63fa",
           "#FFA15A",
           "#19d3f3",
           "#FF6692",
           "#B6E880",
           "#FF97FF",
           "#FECB52"
          ],
          "font": {
           "color": "#2a3f5f"
          },
          "geo": {
           "bgcolor": "white",
           "lakecolor": "white",
           "landcolor": "#E5ECF6",
           "showlakes": true,
           "showland": true,
           "subunitcolor": "white"
          },
          "hoverlabel": {
           "align": "left"
          },
          "hovermode": "closest",
          "mapbox": {
           "style": "light"
          },
          "paper_bgcolor": "white",
          "plot_bgcolor": "#E5ECF6",
          "polar": {
           "angularaxis": {
            "gridcolor": "white",
            "linecolor": "white",
            "ticks": ""
           },
           "bgcolor": "#E5ECF6",
           "radialaxis": {
            "gridcolor": "white",
            "linecolor": "white",
            "ticks": ""
           }
          },
          "scene": {
           "xaxis": {
            "backgroundcolor": "#E5ECF6",
            "gridcolor": "white",
            "gridwidth": 2,
            "linecolor": "white",
            "showbackground": true,
            "ticks": "",
            "zerolinecolor": "white"
           },
           "yaxis": {
            "backgroundcolor": "#E5ECF6",
            "gridcolor": "white",
            "gridwidth": 2,
            "linecolor": "white",
            "showbackground": true,
            "ticks": "",
            "zerolinecolor": "white"
           },
           "zaxis": {
            "backgroundcolor": "#E5ECF6",
            "gridcolor": "white",
            "gridwidth": 2,
            "linecolor": "white",
            "showbackground": true,
            "ticks": "",
            "zerolinecolor": "white"
           }
          },
          "shapedefaults": {
           "line": {
            "color": "#2a3f5f"
           }
          },
          "ternary": {
           "aaxis": {
            "gridcolor": "white",
            "linecolor": "white",
            "ticks": ""
           },
           "baxis": {
            "gridcolor": "white",
            "linecolor": "white",
            "ticks": ""
           },
           "bgcolor": "#E5ECF6",
           "caxis": {
            "gridcolor": "white",
            "linecolor": "white",
            "ticks": ""
           }
          },
          "title": {
           "x": 0.05
          },
          "xaxis": {
           "automargin": true,
           "gridcolor": "white",
           "linecolor": "white",
           "ticks": "",
           "title": {
            "standoff": 15
           },
           "zerolinecolor": "white",
           "zerolinewidth": 2
          },
          "yaxis": {
           "automargin": true,
           "gridcolor": "white",
           "linecolor": "white",
           "ticks": "",
           "title": {
            "standoff": 15
           },
           "zerolinecolor": "white",
           "zerolinewidth": 2
          }
         }
        },
        "title": {
         "text": "Calibration Status Distribution"
        },
        "xaxis": {
         "anchor": "y",
         "categoryarray": [
          "0",
          "1",
          "2",
          "3"
         ],
         "categoryorder": "array",
         "domain": [
          0,
          1
         ],
         "title": {
          "text": "Calibration Status"
         }
        },
        "yaxis": {
         "anchor": "x",
         "domain": [
          0,
          1
         ],
         "title": {
          "text": "Number of Observations"
         }
        }
       }
      }
     },
     "metadata": {},
     "output_type": "display_data"
    }
   ],
   "source": [
    "all_calibration_statuses = [0, 1, 2, 3]\n",
    "calibration_counts = data['calibration_status'].value_counts().reindex(all_calibration_statuses, fill_value=0)\n",
    "\n",
    "calibration_df = pd.DataFrame({'Calibration Status': calibration_counts.index.astype(str), 'Number of Observations': calibration_counts.values})\n",
    "\n",
    "fig = px.bar(calibration_df, x='Calibration Status', y='Number of Observations', title='Calibration Status Distribution', \n",
    "             labels={'Calibration Status': 'Calibration Status', 'Number of Observations': 'Number of Observations'}, \n",
    "             color='Calibration Status')\n",
    "\n",
    "fig.show()"
   ]
  },
  {
   "cell_type": "code",
   "execution_count": 33,
   "metadata": {},
   "outputs": [
    {
     "data": {
      "text/html": [
       "<div>\n",
       "<style scoped>\n",
       "    .dataframe tbody tr th:only-of-type {\n",
       "        vertical-align: middle;\n",
       "    }\n",
       "\n",
       "    .dataframe tbody tr th {\n",
       "        vertical-align: top;\n",
       "    }\n",
       "\n",
       "    .dataframe thead th {\n",
       "        text-align: right;\n",
       "    }\n",
       "</style>\n",
       "<table border=\"1\" class=\"dataframe\">\n",
       "  <thead>\n",
       "    <tr style=\"text-align: right;\">\n",
       "      <th></th>\n",
       "      <th>Metric</th>\n",
       "      <th>Duration (ms)</th>\n",
       "    </tr>\n",
       "  </thead>\n",
       "  <tbody>\n",
       "    <tr>\n",
       "      <th>0</th>\n",
       "      <td>Minimum Duration</td>\n",
       "      <td>79.00000</td>\n",
       "    </tr>\n",
       "    <tr>\n",
       "      <th>1</th>\n",
       "      <td>Maximum Duration</td>\n",
       "      <td>638.00000</td>\n",
       "    </tr>\n",
       "    <tr>\n",
       "      <th>2</th>\n",
       "      <td>Average Duration</td>\n",
       "      <td>166.12364</td>\n",
       "    </tr>\n",
       "  </tbody>\n",
       "</table>\n",
       "</div>"
      ],
      "text/plain": [
       "             Metric  Duration (ms)\n",
       "0  Minimum Duration       79.00000\n",
       "1  Maximum Duration      638.00000\n",
       "2  Average Duration      166.12364"
      ]
     },
     "execution_count": 33,
     "metadata": {},
     "output_type": "execute_result"
    }
   ],
   "source": [
    "min_duration = data['duration'].min()\n",
    "max_duration = data['duration'].max()\n",
    "avg_duration = data['duration'].mean()\n",
    "\n",
    "duration_table = pd.DataFrame({\n",
    "    'Metric': ['Minimum Duration', 'Maximum Duration', 'Average Duration'],\n",
    "    'Duration (ms)': [min_duration, max_duration, avg_duration]\n",
    "})\n",
    "\n",
    "duration_table"
   ]
  },
  {
   "cell_type": "code",
   "execution_count": 34,
   "metadata": {},
   "outputs": [
    {
     "data": {
      "text/html": [
       "<div>\n",
       "<style scoped>\n",
       "    .dataframe tbody tr th:only-of-type {\n",
       "        vertical-align: middle;\n",
       "    }\n",
       "\n",
       "    .dataframe tbody tr th {\n",
       "        vertical-align: top;\n",
       "    }\n",
       "\n",
       "    .dataframe thead th {\n",
       "        text-align: right;\n",
       "    }\n",
       "</style>\n",
       "<table border=\"1\" class=\"dataframe\">\n",
       "  <thead>\n",
       "    <tr style=\"text-align: right;\">\n",
       "      <th></th>\n",
       "      <th>Metric</th>\n",
       "      <th>Value</th>\n",
       "    </tr>\n",
       "  </thead>\n",
       "  <tbody>\n",
       "    <tr>\n",
       "      <th>0</th>\n",
       "      <td>Duration (days)</td>\n",
       "      <td>5.0</td>\n",
       "    </tr>\n",
       "    <tr>\n",
       "      <th>1</th>\n",
       "      <td>Number of Observations</td>\n",
       "      <td>2022.0</td>\n",
       "    </tr>\n",
       "    <tr>\n",
       "      <th>2</th>\n",
       "      <td>Average Daily Observations</td>\n",
       "      <td>404.4</td>\n",
       "    </tr>\n",
       "    <tr>\n",
       "      <th>3</th>\n",
       "      <td>Days Without Observations</td>\n",
       "      <td>0.0</td>\n",
       "    </tr>\n",
       "  </tbody>\n",
       "</table>\n",
       "</div>"
      ],
      "text/plain": [
       "                       Metric   Value\n",
       "0             Duration (days)     5.0\n",
       "1      Number of Observations  2022.0\n",
       "2  Average Daily Observations   404.4\n",
       "3   Days Without Observations     0.0"
      ]
     },
     "execution_count": 34,
     "metadata": {},
     "output_type": "execute_result"
    }
   ],
   "source": [
    "start_date = data['timestamp'].min().date()\n",
    "end_date = data['timestamp'].max().date()\n",
    "total_days_tracked = (end_date - start_date).days + 1\n",
    "\n",
    "total_observations = len(data)\n",
    "\n",
    "daily_counts = data['timestamp'].dt.date.value_counts().sort_index()\n",
    "average_daily_observations = daily_counts.mean()\n",
    "\n",
    "all_dates = pd.date_range(start=start_date, end=end_date).date\n",
    "days_without_observations = len(set(all_dates) - set(daily_counts.index))\n",
    "\n",
    "summary_table = pd.DataFrame({\n",
    "    'Metric': ['Duration (days)', 'Number of Observations', 'Average Daily Observations', 'Days Without Observations'],\n",
    "    'Value': [total_days_tracked, total_observations, average_daily_observations, days_without_observations]\n",
    "})\n",
    "\n",
    "summary_table"
   ]
  },
  {
   "cell_type": "code",
   "execution_count": 35,
   "metadata": {},
   "outputs": [
    {
     "data": {
      "application/vnd.plotly.v1+json": {
       "config": {
        "plotlyServerURL": "https://plot.ly"
       },
       "data": [
        {
         "hovertemplate": "activity=In-Vehicle<br>Date=%{x}<br>Hour of the Day=%{y}<extra></extra>",
         "legendgroup": "In-Vehicle",
         "marker": {
          "color": "#636efa",
          "symbol": "circle"
         },
         "mode": "markers",
         "name": "In-Vehicle",
         "showlegend": true,
         "type": "scattergl",
         "x": [
          "2024-06-24",
          "2024-06-24",
          "2024-06-24",
          "2024-06-24",
          "2024-06-24",
          "2024-06-24",
          "2024-06-24",
          "2024-06-24",
          "2024-06-24",
          "2024-06-24",
          "2024-06-24",
          "2024-06-24",
          "2024-06-24",
          "2024-06-25",
          "2024-06-25",
          "2024-06-25",
          "2024-06-25",
          "2024-06-25",
          "2024-06-25",
          "2024-06-25",
          "2024-06-25",
          "2024-06-25",
          "2024-06-26",
          "2024-06-26",
          "2024-06-26",
          "2024-06-26",
          "2024-06-26",
          "2024-06-27",
          "2024-06-27",
          "2024-06-27",
          "2024-06-27"
         ],
         "xaxis": "x",
         "y": [
          8.083333333333334,
          11.2,
          11.2,
          11.216666666666667,
          11.216666666666667,
          11.35,
          11.633333333333333,
          11.75,
          11.883333333333333,
          11.916666666666666,
          12.033333333333333,
          12.1,
          12.616666666666667,
          8.233333333333333,
          12.25,
          12.766666666666667,
          13.183333333333334,
          13.7,
          14.1,
          14.133333333333333,
          14.15,
          14.166666666666666,
          13.6,
          13.766666666666667,
          13.8,
          13.8,
          13.8,
          9.05,
          10.483333333333333,
          10.55,
          10.583333333333334
         ],
         "yaxis": "y"
        },
        {
         "hovertemplate": "activity=Still<br>Date=%{x}<br>Hour of the Day=%{y}<extra></extra>",
         "legendgroup": "Still",
         "marker": {
          "color": "#EF553B",
          "symbol": "circle"
         },
         "mode": "markers",
         "name": "Still",
         "showlegend": true,
         "type": "scattergl",
         "x": [
          "2024-06-24",
          "2024-06-24",
          "2024-06-24",
          "2024-06-24",
          "2024-06-24",
          "2024-06-24",
          "2024-06-24",
          "2024-06-24",
          "2024-06-24",
          "2024-06-24",
          "2024-06-24",
          "2024-06-24",
          "2024-06-24",
          "2024-06-24",
          "2024-06-24",
          "2024-06-24",
          "2024-06-24",
          "2024-06-24",
          "2024-06-24",
          "2024-06-24",
          "2024-06-24",
          "2024-06-24",
          "2024-06-24",
          "2024-06-24",
          "2024-06-24",
          "2024-06-24",
          "2024-06-24",
          "2024-06-24",
          "2024-06-24",
          "2024-06-24",
          "2024-06-24",
          "2024-06-24",
          "2024-06-24",
          "2024-06-24",
          "2024-06-24",
          "2024-06-24",
          "2024-06-24",
          "2024-06-24",
          "2024-06-24",
          "2024-06-24",
          "2024-06-24",
          "2024-06-24",
          "2024-06-24",
          "2024-06-24",
          "2024-06-24",
          "2024-06-24",
          "2024-06-24",
          "2024-06-24",
          "2024-06-24",
          "2024-06-24",
          "2024-06-24",
          "2024-06-24",
          "2024-06-24",
          "2024-06-24",
          "2024-06-24",
          "2024-06-24",
          "2024-06-24",
          "2024-06-24",
          "2024-06-24",
          "2024-06-24",
          "2024-06-24",
          "2024-06-24",
          "2024-06-24",
          "2024-06-24",
          "2024-06-24",
          "2024-06-24",
          "2024-06-24",
          "2024-06-24",
          "2024-06-24",
          "2024-06-24",
          "2024-06-24",
          "2024-06-24",
          "2024-06-24",
          "2024-06-24",
          "2024-06-24",
          "2024-06-24",
          "2024-06-24",
          "2024-06-24",
          "2024-06-24",
          "2024-06-24",
          "2024-06-24",
          "2024-06-24",
          "2024-06-24",
          "2024-06-24",
          "2024-06-24",
          "2024-06-24",
          "2024-06-24",
          "2024-06-24",
          "2024-06-24",
          "2024-06-24",
          "2024-06-24",
          "2024-06-24",
          "2024-06-24",
          "2024-06-24",
          "2024-06-24",
          "2024-06-24",
          "2024-06-24",
          "2024-06-24",
          "2024-06-24",
          "2024-06-24",
          "2024-06-24",
          "2024-06-24",
          "2024-06-24",
          "2024-06-24",
          "2024-06-24",
          "2024-06-24",
          "2024-06-24",
          "2024-06-24",
          "2024-06-24",
          "2024-06-24",
          "2024-06-24",
          "2024-06-24",
          "2024-06-24",
          "2024-06-24",
          "2024-06-24",
          "2024-06-24",
          "2024-06-24",
          "2024-06-24",
          "2024-06-24",
          "2024-06-24",
          "2024-06-24",
          "2024-06-24",
          "2024-06-24",
          "2024-06-24",
          "2024-06-24",
          "2024-06-24",
          "2024-06-24",
          "2024-06-24",
          "2024-06-24",
          "2024-06-24",
          "2024-06-24",
          "2024-06-24",
          "2024-06-24",
          "2024-06-24",
          "2024-06-24",
          "2024-06-24",
          "2024-06-24",
          "2024-06-24",
          "2024-06-24",
          "2024-06-24",
          "2024-06-24",
          "2024-06-24",
          "2024-06-24",
          "2024-06-24",
          "2024-06-24",
          "2024-06-24",
          "2024-06-24",
          "2024-06-24",
          "2024-06-24",
          "2024-06-24",
          "2024-06-24",
          "2024-06-24",
          "2024-06-24",
          "2024-06-24",
          "2024-06-24",
          "2024-06-24",
          "2024-06-24",
          "2024-06-24",
          "2024-06-24",
          "2024-06-24",
          "2024-06-24",
          "2024-06-24",
          "2024-06-24",
          "2024-06-24",
          "2024-06-24",
          "2024-06-24",
          "2024-06-24",
          "2024-06-24",
          "2024-06-24",
          "2024-06-24",
          "2024-06-24",
          "2024-06-24",
          "2024-06-24",
          "2024-06-24",
          "2024-06-24",
          "2024-06-24",
          "2024-06-24",
          "2024-06-24",
          "2024-06-24",
          "2024-06-24",
          "2024-06-24",
          "2024-06-24",
          "2024-06-24",
          "2024-06-24",
          "2024-06-24",
          "2024-06-24",
          "2024-06-24",
          "2024-06-24",
          "2024-06-24",
          "2024-06-24",
          "2024-06-24",
          "2024-06-24",
          "2024-06-24",
          "2024-06-24",
          "2024-06-24",
          "2024-06-24",
          "2024-06-24",
          "2024-06-24",
          "2024-06-24",
          "2024-06-24",
          "2024-06-24",
          "2024-06-24",
          "2024-06-24",
          "2024-06-24",
          "2024-06-24",
          "2024-06-24",
          "2024-06-24",
          "2024-06-24",
          "2024-06-24",
          "2024-06-24",
          "2024-06-24",
          "2024-06-24",
          "2024-06-24",
          "2024-06-24",
          "2024-06-24",
          "2024-06-24",
          "2024-06-24",
          "2024-06-24",
          "2024-06-24",
          "2024-06-24",
          "2024-06-24",
          "2024-06-24",
          "2024-06-24",
          "2024-06-24",
          "2024-06-24",
          "2024-06-24",
          "2024-06-24",
          "2024-06-24",
          "2024-06-24",
          "2024-06-24",
          "2024-06-24",
          "2024-06-24",
          "2024-06-24",
          "2024-06-24",
          "2024-06-24",
          "2024-06-24",
          "2024-06-24",
          "2024-06-24",
          "2024-06-24",
          "2024-06-24",
          "2024-06-24",
          "2024-06-24",
          "2024-06-24",
          "2024-06-24",
          "2024-06-24",
          "2024-06-24",
          "2024-06-24",
          "2024-06-24",
          "2024-06-24",
          "2024-06-24",
          "2024-06-24",
          "2024-06-24",
          "2024-06-24",
          "2024-06-24",
          "2024-06-24",
          "2024-06-24",
          "2024-06-24",
          "2024-06-24",
          "2024-06-24",
          "2024-06-24",
          "2024-06-24",
          "2024-06-24",
          "2024-06-24",
          "2024-06-24",
          "2024-06-24",
          "2024-06-24",
          "2024-06-24",
          "2024-06-24",
          "2024-06-24",
          "2024-06-24",
          "2024-06-24",
          "2024-06-24",
          "2024-06-24",
          "2024-06-24",
          "2024-06-24",
          "2024-06-24",
          "2024-06-24",
          "2024-06-24",
          "2024-06-24",
          "2024-06-24",
          "2024-06-24",
          "2024-06-24",
          "2024-06-24",
          "2024-06-24",
          "2024-06-24",
          "2024-06-24",
          "2024-06-24",
          "2024-06-24",
          "2024-06-24",
          "2024-06-24",
          "2024-06-24",
          "2024-06-24",
          "2024-06-24",
          "2024-06-24",
          "2024-06-24",
          "2024-06-24",
          "2024-06-24",
          "2024-06-24",
          "2024-06-24",
          "2024-06-24",
          "2024-06-24",
          "2024-06-24",
          "2024-06-24",
          "2024-06-24",
          "2024-06-24",
          "2024-06-24",
          "2024-06-24",
          "2024-06-24",
          "2024-06-24",
          "2024-06-24",
          "2024-06-24",
          "2024-06-24",
          "2024-06-24",
          "2024-06-24",
          "2024-06-24",
          "2024-06-24",
          "2024-06-24",
          "2024-06-24",
          "2024-06-24",
          "2024-06-24",
          "2024-06-24",
          "2024-06-24",
          "2024-06-24",
          "2024-06-24",
          "2024-06-24",
          "2024-06-24",
          "2024-06-24",
          "2024-06-24",
          "2024-06-24",
          "2024-06-24",
          "2024-06-24",
          "2024-06-24",
          "2024-06-24",
          "2024-06-24",
          "2024-06-24",
          "2024-06-24",
          "2024-06-24",
          "2024-06-24",
          "2024-06-24",
          "2024-06-24",
          "2024-06-24",
          "2024-06-24",
          "2024-06-24",
          "2024-06-24",
          "2024-06-24",
          "2024-06-24",
          "2024-06-24",
          "2024-06-24",
          "2024-06-24",
          "2024-06-24",
          "2024-06-24",
          "2024-06-24",
          "2024-06-24",
          "2024-06-24",
          "2024-06-24",
          "2024-06-24",
          "2024-06-24",
          "2024-06-24",
          "2024-06-24",
          "2024-06-24",
          "2024-06-24",
          "2024-06-24",
          "2024-06-24",
          "2024-06-24",
          "2024-06-25",
          "2024-06-25",
          "2024-06-25",
          "2024-06-25",
          "2024-06-25",
          "2024-06-25",
          "2024-06-25",
          "2024-06-25",
          "2024-06-25",
          "2024-06-25",
          "2024-06-25",
          "2024-06-25",
          "2024-06-25",
          "2024-06-25",
          "2024-06-25",
          "2024-06-25",
          "2024-06-25",
          "2024-06-25",
          "2024-06-25",
          "2024-06-25",
          "2024-06-25",
          "2024-06-25",
          "2024-06-25",
          "2024-06-25",
          "2024-06-25",
          "2024-06-25",
          "2024-06-25",
          "2024-06-25",
          "2024-06-25",
          "2024-06-25",
          "2024-06-25",
          "2024-06-25",
          "2024-06-25",
          "2024-06-25",
          "2024-06-25",
          "2024-06-25",
          "2024-06-25",
          "2024-06-25",
          "2024-06-25",
          "2024-06-25",
          "2024-06-25",
          "2024-06-25",
          "2024-06-25",
          "2024-06-25",
          "2024-06-25",
          "2024-06-25",
          "2024-06-25",
          "2024-06-25",
          "2024-06-25",
          "2024-06-25",
          "2024-06-25",
          "2024-06-25",
          "2024-06-25",
          "2024-06-25",
          "2024-06-25",
          "2024-06-25",
          "2024-06-25",
          "2024-06-25",
          "2024-06-25",
          "2024-06-25",
          "2024-06-25",
          "2024-06-25",
          "2024-06-25",
          "2024-06-25",
          "2024-06-25",
          "2024-06-25",
          "2024-06-25",
          "2024-06-25",
          "2024-06-25",
          "2024-06-25",
          "2024-06-25",
          "2024-06-25",
          "2024-06-25",
          "2024-06-25",
          "2024-06-25",
          "2024-06-25",
          "2024-06-25",
          "2024-06-25",
          "2024-06-25",
          "2024-06-25",
          "2024-06-25",
          "2024-06-25",
          "2024-06-25",
          "2024-06-25",
          "2024-06-25",
          "2024-06-25",
          "2024-06-25",
          "2024-06-25",
          "2024-06-25",
          "2024-06-25",
          "2024-06-25",
          "2024-06-25",
          "2024-06-25",
          "2024-06-25",
          "2024-06-25",
          "2024-06-25",
          "2024-06-25",
          "2024-06-25",
          "2024-06-25",
          "2024-06-25",
          "2024-06-25",
          "2024-06-25",
          "2024-06-25",
          "2024-06-25",
          "2024-06-25",
          "2024-06-25",
          "2024-06-25",
          "2024-06-25",
          "2024-06-25",
          "2024-06-25",
          "2024-06-25",
          "2024-06-25",
          "2024-06-25",
          "2024-06-25",
          "2024-06-25",
          "2024-06-25",
          "2024-06-25",
          "2024-06-25",
          "2024-06-25",
          "2024-06-25",
          "2024-06-25",
          "2024-06-25",
          "2024-06-25",
          "2024-06-25",
          "2024-06-25",
          "2024-06-25",
          "2024-06-25",
          "2024-06-25",
          "2024-06-25",
          "2024-06-25",
          "2024-06-25",
          "2024-06-25",
          "2024-06-25",
          "2024-06-25",
          "2024-06-25",
          "2024-06-25",
          "2024-06-25",
          "2024-06-25",
          "2024-06-25",
          "2024-06-25",
          "2024-06-25",
          "2024-06-25",
          "2024-06-25",
          "2024-06-25",
          "2024-06-25",
          "2024-06-25",
          "2024-06-25",
          "2024-06-25",
          "2024-06-25",
          "2024-06-25",
          "2024-06-25",
          "2024-06-25",
          "2024-06-25",
          "2024-06-25",
          "2024-06-25",
          "2024-06-25",
          "2024-06-25",
          "2024-06-25",
          "2024-06-25",
          "2024-06-25",
          "2024-06-25",
          "2024-06-25",
          "2024-06-25",
          "2024-06-25",
          "2024-06-25",
          "2024-06-25",
          "2024-06-25",
          "2024-06-25",
          "2024-06-25",
          "2024-06-25",
          "2024-06-25",
          "2024-06-25",
          "2024-06-25",
          "2024-06-25",
          "2024-06-25",
          "2024-06-25",
          "2024-06-25",
          "2024-06-25",
          "2024-06-25",
          "2024-06-25",
          "2024-06-25",
          "2024-06-25",
          "2024-06-25",
          "2024-06-25",
          "2024-06-25",
          "2024-06-25",
          "2024-06-25",
          "2024-06-25",
          "2024-06-25",
          "2024-06-25",
          "2024-06-25",
          "2024-06-25",
          "2024-06-25",
          "2024-06-25",
          "2024-06-25",
          "2024-06-25",
          "2024-06-25",
          "2024-06-25",
          "2024-06-25",
          "2024-06-25",
          "2024-06-25",
          "2024-06-25",
          "2024-06-25",
          "2024-06-25",
          "2024-06-25",
          "2024-06-25",
          "2024-06-25",
          "2024-06-25",
          "2024-06-25",
          "2024-06-25",
          "2024-06-25",
          "2024-06-25",
          "2024-06-25",
          "2024-06-25",
          "2024-06-25",
          "2024-06-25",
          "2024-06-25",
          "2024-06-25",
          "2024-06-25",
          "2024-06-25",
          "2024-06-25",
          "2024-06-25",
          "2024-06-25",
          "2024-06-25",
          "2024-06-25",
          "2024-06-25",
          "2024-06-25",
          "2024-06-25",
          "2024-06-25",
          "2024-06-25",
          "2024-06-25",
          "2024-06-25",
          "2024-06-25",
          "2024-06-25",
          "2024-06-25",
          "2024-06-25",
          "2024-06-25",
          "2024-06-25",
          "2024-06-25",
          "2024-06-25",
          "2024-06-25",
          "2024-06-25",
          "2024-06-25",
          "2024-06-25",
          "2024-06-25",
          "2024-06-25",
          "2024-06-25",
          "2024-06-25",
          "2024-06-25",
          "2024-06-25",
          "2024-06-25",
          "2024-06-25",
          "2024-06-25",
          "2024-06-25",
          "2024-06-25",
          "2024-06-25",
          "2024-06-25",
          "2024-06-25",
          "2024-06-25",
          "2024-06-25",
          "2024-06-25",
          "2024-06-25",
          "2024-06-25",
          "2024-06-25",
          "2024-06-25",
          "2024-06-25",
          "2024-06-25",
          "2024-06-25",
          "2024-06-25",
          "2024-06-25",
          "2024-06-25",
          "2024-06-25",
          "2024-06-25",
          "2024-06-25",
          "2024-06-25",
          "2024-06-25",
          "2024-06-25",
          "2024-06-25",
          "2024-06-25",
          "2024-06-25",
          "2024-06-25",
          "2024-06-25",
          "2024-06-25",
          "2024-06-25",
          "2024-06-25",
          "2024-06-25",
          "2024-06-25",
          "2024-06-25",
          "2024-06-25",
          "2024-06-25",
          "2024-06-25",
          "2024-06-25",
          "2024-06-25",
          "2024-06-25",
          "2024-06-25",
          "2024-06-25",
          "2024-06-25",
          "2024-06-25",
          "2024-06-25",
          "2024-06-25",
          "2024-06-25",
          "2024-06-25",
          "2024-06-25",
          "2024-06-25",
          "2024-06-25",
          "2024-06-25",
          "2024-06-25",
          "2024-06-25",
          "2024-06-25",
          "2024-06-25",
          "2024-06-25",
          "2024-06-25",
          "2024-06-25",
          "2024-06-25",
          "2024-06-25",
          "2024-06-25",
          "2024-06-25",
          "2024-06-25",
          "2024-06-25",
          "2024-06-25",
          "2024-06-25",
          "2024-06-25",
          "2024-06-25",
          "2024-06-25",
          "2024-06-25",
          "2024-06-25",
          "2024-06-25",
          "2024-06-25",
          "2024-06-25",
          "2024-06-25",
          "2024-06-25",
          "2024-06-25",
          "2024-06-25",
          "2024-06-25",
          "2024-06-25",
          "2024-06-25",
          "2024-06-25",
          "2024-06-25",
          "2024-06-25",
          "2024-06-25",
          "2024-06-25",
          "2024-06-25",
          "2024-06-25",
          "2024-06-25",
          "2024-06-25",
          "2024-06-25",
          "2024-06-25",
          "2024-06-25",
          "2024-06-25",
          "2024-06-25",
          "2024-06-25",
          "2024-06-25",
          "2024-06-25",
          "2024-06-25",
          "2024-06-25",
          "2024-06-25",
          "2024-06-25",
          "2024-06-25",
          "2024-06-25",
          "2024-06-25",
          "2024-06-25",
          "2024-06-25",
          "2024-06-25",
          "2024-06-25",
          "2024-06-25",
          "2024-06-25",
          "2024-06-25",
          "2024-06-25",
          "2024-06-25",
          "2024-06-25",
          "2024-06-25",
          "2024-06-25",
          "2024-06-25",
          "2024-06-25",
          "2024-06-25",
          "2024-06-25",
          "2024-06-25",
          "2024-06-25",
          "2024-06-25",
          "2024-06-25",
          "2024-06-25",
          "2024-06-25",
          "2024-06-25",
          "2024-06-25",
          "2024-06-25",
          "2024-06-25",
          "2024-06-25",
          "2024-06-25",
          "2024-06-25",
          "2024-06-25",
          "2024-06-25",
          "2024-06-25",
          "2024-06-25",
          "2024-06-25",
          "2024-06-25",
          "2024-06-25",
          "2024-06-25",
          "2024-06-25",
          "2024-06-25",
          "2024-06-25",
          "2024-06-25",
          "2024-06-25",
          "2024-06-25",
          "2024-06-25",
          "2024-06-25",
          "2024-06-25",
          "2024-06-25",
          "2024-06-25",
          "2024-06-25",
          "2024-06-25",
          "2024-06-25",
          "2024-06-25",
          "2024-06-25",
          "2024-06-25",
          "2024-06-25",
          "2024-06-25",
          "2024-06-25",
          "2024-06-25",
          "2024-06-25",
          "2024-06-25",
          "2024-06-25",
          "2024-06-25",
          "2024-06-25",
          "2024-06-25",
          "2024-06-25",
          "2024-06-25",
          "2024-06-25",
          "2024-06-25",
          "2024-06-25",
          "2024-06-25",
          "2024-06-25",
          "2024-06-25",
          "2024-06-25",
          "2024-06-25",
          "2024-06-25",
          "2024-06-25",
          "2024-06-25",
          "2024-06-25",
          "2024-06-25",
          "2024-06-25",
          "2024-06-25",
          "2024-06-25",
          "2024-06-25",
          "2024-06-25",
          "2024-06-25",
          "2024-06-25",
          "2024-06-25",
          "2024-06-25",
          "2024-06-25",
          "2024-06-25",
          "2024-06-25",
          "2024-06-25",
          "2024-06-25",
          "2024-06-25",
          "2024-06-25",
          "2024-06-25",
          "2024-06-25",
          "2024-06-25",
          "2024-06-25",
          "2024-06-25",
          "2024-06-25",
          "2024-06-25",
          "2024-06-25",
          "2024-06-25",
          "2024-06-25",
          "2024-06-25",
          "2024-06-25",
          "2024-06-25",
          "2024-06-25",
          "2024-06-25",
          "2024-06-25",
          "2024-06-25",
          "2024-06-25",
          "2024-06-25",
          "2024-06-25",
          "2024-06-25",
          "2024-06-25",
          "2024-06-25",
          "2024-06-25",
          "2024-06-25",
          "2024-06-25",
          "2024-06-25",
          "2024-06-25",
          "2024-06-25",
          "2024-06-25",
          "2024-06-25",
          "2024-06-25",
          "2024-06-25",
          "2024-06-25",
          "2024-06-25",
          "2024-06-25",
          "2024-06-25",
          "2024-06-25",
          "2024-06-25",
          "2024-06-25",
          "2024-06-25",
          "2024-06-25",
          "2024-06-25",
          "2024-06-25",
          "2024-06-25",
          "2024-06-25",
          "2024-06-25",
          "2024-06-25",
          "2024-06-25",
          "2024-06-25",
          "2024-06-25",
          "2024-06-25",
          "2024-06-25",
          "2024-06-25",
          "2024-06-25",
          "2024-06-25",
          "2024-06-25",
          "2024-06-25",
          "2024-06-25",
          "2024-06-25",
          "2024-06-25",
          "2024-06-25",
          "2024-06-25",
          "2024-06-25",
          "2024-06-25",
          "2024-06-25",
          "2024-06-25",
          "2024-06-25",
          "2024-06-25",
          "2024-06-25",
          "2024-06-25",
          "2024-06-25",
          "2024-06-25",
          "2024-06-25",
          "2024-06-25",
          "2024-06-25",
          "2024-06-25",
          "2024-06-25",
          "2024-06-25",
          "2024-06-25",
          "2024-06-25",
          "2024-06-25",
          "2024-06-25",
          "2024-06-25",
          "2024-06-25",
          "2024-06-25",
          "2024-06-25",
          "2024-06-25",
          "2024-06-25",
          "2024-06-25",
          "2024-06-25",
          "2024-06-25",
          "2024-06-25",
          "2024-06-25",
          "2024-06-25",
          "2024-06-25",
          "2024-06-25",
          "2024-06-25",
          "2024-06-25",
          "2024-06-25",
          "2024-06-25",
          "2024-06-25",
          "2024-06-25",
          "2024-06-25",
          "2024-06-25",
          "2024-06-25",
          "2024-06-25",
          "2024-06-25",
          "2024-06-25",
          "2024-06-25",
          "2024-06-25",
          "2024-06-25",
          "2024-06-25",
          "2024-06-25",
          "2024-06-25",
          "2024-06-25",
          "2024-06-25",
          "2024-06-25",
          "2024-06-25",
          "2024-06-25",
          "2024-06-25",
          "2024-06-25",
          "2024-06-25",
          "2024-06-25",
          "2024-06-25",
          "2024-06-25",
          "2024-06-25",
          "2024-06-25",
          "2024-06-25",
          "2024-06-25",
          "2024-06-25",
          "2024-06-25",
          "2024-06-25",
          "2024-06-25",
          "2024-06-25",
          "2024-06-25",
          "2024-06-25",
          "2024-06-25",
          "2024-06-25",
          "2024-06-25",
          "2024-06-25",
          "2024-06-25",
          "2024-06-25",
          "2024-06-25",
          "2024-06-25",
          "2024-06-25",
          "2024-06-25",
          "2024-06-25",
          "2024-06-25",
          "2024-06-25",
          "2024-06-25",
          "2024-06-25",
          "2024-06-25",
          "2024-06-25",
          "2024-06-25",
          "2024-06-25",
          "2024-06-25",
          "2024-06-25",
          "2024-06-25",
          "2024-06-25",
          "2024-06-25",
          "2024-06-25",
          "2024-06-25",
          "2024-06-25",
          "2024-06-25",
          "2024-06-25",
          "2024-06-25",
          "2024-06-25",
          "2024-06-25",
          "2024-06-25",
          "2024-06-25",
          "2024-06-25",
          "2024-06-25",
          "2024-06-25",
          "2024-06-25",
          "2024-06-25",
          "2024-06-25",
          "2024-06-25",
          "2024-06-25",
          "2024-06-25",
          "2024-06-25",
          "2024-06-25",
          "2024-06-25",
          "2024-06-25",
          "2024-06-25",
          "2024-06-25",
          "2024-06-25",
          "2024-06-25",
          "2024-06-25",
          "2024-06-25",
          "2024-06-25",
          "2024-06-25",
          "2024-06-25",
          "2024-06-25",
          "2024-06-25",
          "2024-06-25",
          "2024-06-25",
          "2024-06-25",
          "2024-06-25",
          "2024-06-25",
          "2024-06-25",
          "2024-06-25",
          "2024-06-25",
          "2024-06-25",
          "2024-06-25",
          "2024-06-25",
          "2024-06-25",
          "2024-06-25",
          "2024-06-25",
          "2024-06-25",
          "2024-06-25",
          "2024-06-25",
          "2024-06-25",
          "2024-06-25",
          "2024-06-25",
          "2024-06-25",
          "2024-06-25",
          "2024-06-25",
          "2024-06-25",
          "2024-06-25",
          "2024-06-25",
          "2024-06-25",
          "2024-06-25",
          "2024-06-25",
          "2024-06-25",
          "2024-06-25",
          "2024-06-25",
          "2024-06-25",
          "2024-06-25",
          "2024-06-25",
          "2024-06-25",
          "2024-06-25",
          "2024-06-25",
          "2024-06-25",
          "2024-06-25",
          "2024-06-25",
          "2024-06-25",
          "2024-06-25",
          "2024-06-25",
          "2024-06-25",
          "2024-06-25",
          "2024-06-25",
          "2024-06-25",
          "2024-06-25",
          "2024-06-25",
          "2024-06-25",
          "2024-06-25",
          "2024-06-25",
          "2024-06-25",
          "2024-06-25",
          "2024-06-25",
          "2024-06-25",
          "2024-06-25",
          "2024-06-25",
          "2024-06-25",
          "2024-06-25",
          "2024-06-25",
          "2024-06-25",
          "2024-06-26",
          "2024-06-26",
          "2024-06-26",
          "2024-06-26",
          "2024-06-26",
          "2024-06-26",
          "2024-06-26",
          "2024-06-26",
          "2024-06-26",
          "2024-06-26",
          "2024-06-26",
          "2024-06-26",
          "2024-06-26",
          "2024-06-26",
          "2024-06-26",
          "2024-06-26",
          "2024-06-26",
          "2024-06-26",
          "2024-06-26",
          "2024-06-26",
          "2024-06-26",
          "2024-06-26",
          "2024-06-26",
          "2024-06-26",
          "2024-06-26",
          "2024-06-26",
          "2024-06-26",
          "2024-06-26",
          "2024-06-26",
          "2024-06-26",
          "2024-06-26",
          "2024-06-26",
          "2024-06-26",
          "2024-06-26",
          "2024-06-26",
          "2024-06-26",
          "2024-06-26",
          "2024-06-26",
          "2024-06-26",
          "2024-06-26",
          "2024-06-26",
          "2024-06-26",
          "2024-06-26",
          "2024-06-26",
          "2024-06-26",
          "2024-06-26",
          "2024-06-26",
          "2024-06-26",
          "2024-06-26",
          "2024-06-26",
          "2024-06-26",
          "2024-06-26",
          "2024-06-26",
          "2024-06-26",
          "2024-06-26",
          "2024-06-26",
          "2024-06-26",
          "2024-06-26",
          "2024-06-26",
          "2024-06-26",
          "2024-06-26",
          "2024-06-26",
          "2024-06-26",
          "2024-06-26",
          "2024-06-26",
          "2024-06-26",
          "2024-06-26",
          "2024-06-26",
          "2024-06-26",
          "2024-06-26",
          "2024-06-26",
          "2024-06-26",
          "2024-06-26",
          "2024-06-26",
          "2024-06-26",
          "2024-06-26",
          "2024-06-26",
          "2024-06-26",
          "2024-06-26",
          "2024-06-26",
          "2024-06-26",
          "2024-06-26",
          "2024-06-26",
          "2024-06-26",
          "2024-06-26",
          "2024-06-26",
          "2024-06-26",
          "2024-06-26",
          "2024-06-26",
          "2024-06-26",
          "2024-06-26",
          "2024-06-26",
          "2024-06-26",
          "2024-06-26",
          "2024-06-26",
          "2024-06-26",
          "2024-06-26",
          "2024-06-26",
          "2024-06-26",
          "2024-06-26",
          "2024-06-26",
          "2024-06-26",
          "2024-06-26",
          "2024-06-26",
          "2024-06-26",
          "2024-06-26",
          "2024-06-26",
          "2024-06-26",
          "2024-06-26",
          "2024-06-26",
          "2024-06-26",
          "2024-06-26",
          "2024-06-26",
          "2024-06-26",
          "2024-06-26",
          "2024-06-26",
          "2024-06-26",
          "2024-06-26",
          "2024-06-26",
          "2024-06-26",
          "2024-06-26",
          "2024-06-26",
          "2024-06-26",
          "2024-06-26",
          "2024-06-26",
          "2024-06-26",
          "2024-06-26",
          "2024-06-26",
          "2024-06-26",
          "2024-06-26",
          "2024-06-26",
          "2024-06-26",
          "2024-06-26",
          "2024-06-26",
          "2024-06-26",
          "2024-06-26",
          "2024-06-26",
          "2024-06-26",
          "2024-06-26",
          "2024-06-26",
          "2024-06-26",
          "2024-06-26",
          "2024-06-26",
          "2024-06-26",
          "2024-06-26",
          "2024-06-26",
          "2024-06-26",
          "2024-06-26",
          "2024-06-26",
          "2024-06-26",
          "2024-06-26",
          "2024-06-26",
          "2024-06-26",
          "2024-06-26",
          "2024-06-26",
          "2024-06-26",
          "2024-06-26",
          "2024-06-26",
          "2024-06-26",
          "2024-06-26",
          "2024-06-26",
          "2024-06-26",
          "2024-06-26",
          "2024-06-26",
          "2024-06-26",
          "2024-06-26",
          "2024-06-26",
          "2024-06-26",
          "2024-06-27",
          "2024-06-27",
          "2024-06-27",
          "2024-06-27",
          "2024-06-27",
          "2024-06-27",
          "2024-06-27",
          "2024-06-27",
          "2024-06-27",
          "2024-06-27",
          "2024-06-27",
          "2024-06-27",
          "2024-06-27",
          "2024-06-27",
          "2024-06-27",
          "2024-06-27",
          "2024-06-27",
          "2024-06-27",
          "2024-06-27",
          "2024-06-27",
          "2024-06-27",
          "2024-06-27",
          "2024-06-27",
          "2024-06-27",
          "2024-06-27",
          "2024-06-27",
          "2024-06-27",
          "2024-06-27",
          "2024-06-27",
          "2024-06-27",
          "2024-06-27",
          "2024-06-27",
          "2024-06-27",
          "2024-06-27",
          "2024-06-27",
          "2024-06-27",
          "2024-06-27",
          "2024-06-27",
          "2024-06-27",
          "2024-06-27",
          "2024-06-27",
          "2024-06-27",
          "2024-06-27",
          "2024-06-27",
          "2024-06-27",
          "2024-06-27",
          "2024-06-27",
          "2024-06-27",
          "2024-06-27",
          "2024-06-27",
          "2024-06-27",
          "2024-06-27",
          "2024-06-27",
          "2024-06-27",
          "2024-06-27",
          "2024-06-27",
          "2024-06-27",
          "2024-06-27",
          "2024-06-27",
          "2024-06-27",
          "2024-06-27",
          "2024-06-27",
          "2024-06-27",
          "2024-06-27",
          "2024-06-27",
          "2024-06-27",
          "2024-06-27",
          "2024-06-27",
          "2024-06-27",
          "2024-06-27",
          "2024-06-27",
          "2024-06-27",
          "2024-06-27",
          "2024-06-27",
          "2024-06-27",
          "2024-06-27",
          "2024-06-27",
          "2024-06-27",
          "2024-06-27",
          "2024-06-27",
          "2024-06-27",
          "2024-06-27",
          "2024-06-27",
          "2024-06-27",
          "2024-06-27",
          "2024-06-27",
          "2024-06-27",
          "2024-06-27",
          "2024-06-27",
          "2024-06-27",
          "2024-06-27",
          "2024-06-27",
          "2024-06-27",
          "2024-06-27",
          "2024-06-27",
          "2024-06-27",
          "2024-06-27",
          "2024-06-27",
          "2024-06-27",
          "2024-06-27",
          "2024-06-27",
          "2024-06-27",
          "2024-06-27",
          "2024-06-27",
          "2024-06-27",
          "2024-06-27",
          "2024-06-27",
          "2024-06-27",
          "2024-06-27",
          "2024-06-27",
          "2024-06-27",
          "2024-06-27",
          "2024-06-27",
          "2024-06-27",
          "2024-06-27",
          "2024-06-27",
          "2024-06-27",
          "2024-06-27",
          "2024-06-27",
          "2024-06-27",
          "2024-06-27",
          "2024-06-27",
          "2024-06-27",
          "2024-06-27",
          "2024-06-27",
          "2024-06-27",
          "2024-06-27",
          "2024-06-27",
          "2024-06-27",
          "2024-06-27",
          "2024-06-27",
          "2024-06-27",
          "2024-06-27",
          "2024-06-27",
          "2024-06-27",
          "2024-06-27",
          "2024-06-27",
          "2024-06-27",
          "2024-06-27",
          "2024-06-27",
          "2024-06-27",
          "2024-06-27",
          "2024-06-27",
          "2024-06-27",
          "2024-06-27",
          "2024-06-27",
          "2024-06-27",
          "2024-06-27",
          "2024-06-27",
          "2024-06-27",
          "2024-06-27",
          "2024-06-27",
          "2024-06-27",
          "2024-06-27",
          "2024-06-27",
          "2024-06-27",
          "2024-06-27",
          "2024-06-27",
          "2024-06-27",
          "2024-06-27",
          "2024-06-27",
          "2024-06-27",
          "2024-06-27",
          "2024-06-27",
          "2024-06-27",
          "2024-06-27",
          "2024-06-27",
          "2024-06-27",
          "2024-06-27",
          "2024-06-27",
          "2024-06-27",
          "2024-06-27",
          "2024-06-27",
          "2024-06-27",
          "2024-06-27",
          "2024-06-27",
          "2024-06-27",
          "2024-06-27",
          "2024-06-27",
          "2024-06-27",
          "2024-06-27",
          "2024-06-27",
          "2024-06-27",
          "2024-06-27",
          "2024-06-27",
          "2024-06-27",
          "2024-06-27",
          "2024-06-27",
          "2024-06-27",
          "2024-06-27",
          "2024-06-27",
          "2024-06-27",
          "2024-06-27",
          "2024-06-27",
          "2024-06-27",
          "2024-06-27",
          "2024-06-27",
          "2024-06-27",
          "2024-06-27",
          "2024-06-27",
          "2024-06-27",
          "2024-06-27",
          "2024-06-27",
          "2024-06-27",
          "2024-06-27",
          "2024-06-27",
          "2024-06-27",
          "2024-06-27",
          "2024-06-27",
          "2024-06-27",
          "2024-06-27",
          "2024-06-27",
          "2024-06-27",
          "2024-06-27",
          "2024-06-27",
          "2024-06-27",
          "2024-06-27",
          "2024-06-27",
          "2024-06-27",
          "2024-06-27",
          "2024-06-27",
          "2024-06-27",
          "2024-06-27",
          "2024-06-27",
          "2024-06-27",
          "2024-06-27",
          "2024-06-27",
          "2024-06-27",
          "2024-06-27",
          "2024-06-27",
          "2024-06-27",
          "2024-06-27",
          "2024-06-27",
          "2024-06-27",
          "2024-06-27",
          "2024-06-27",
          "2024-06-27",
          "2024-06-27",
          "2024-06-27",
          "2024-06-27",
          "2024-06-27",
          "2024-06-27",
          "2024-06-27",
          "2024-06-27",
          "2024-06-27",
          "2024-06-27",
          "2024-06-27",
          "2024-06-27",
          "2024-06-27",
          "2024-06-27",
          "2024-06-27",
          "2024-06-27",
          "2024-06-27",
          "2024-06-27",
          "2024-06-27",
          "2024-06-27",
          "2024-06-27",
          "2024-06-27",
          "2024-06-27",
          "2024-06-27",
          "2024-06-27",
          "2024-06-27",
          "2024-06-27",
          "2024-06-27",
          "2024-06-27",
          "2024-06-27",
          "2024-06-27",
          "2024-06-27",
          "2024-06-27",
          "2024-06-27",
          "2024-06-27",
          "2024-06-27",
          "2024-06-27",
          "2024-06-27",
          "2024-06-27",
          "2024-06-27",
          "2024-06-27",
          "2024-06-27",
          "2024-06-27",
          "2024-06-27",
          "2024-06-27",
          "2024-06-27",
          "2024-06-27",
          "2024-06-27",
          "2024-06-27",
          "2024-06-27",
          "2024-06-27",
          "2024-06-27",
          "2024-06-27",
          "2024-06-27",
          "2024-06-27",
          "2024-06-27",
          "2024-06-27",
          "2024-06-27",
          "2024-06-27",
          "2024-06-27",
          "2024-06-27",
          "2024-06-27",
          "2024-06-27",
          "2024-06-27",
          "2024-06-27",
          "2024-06-27",
          "2024-06-27",
          "2024-06-27",
          "2024-06-27",
          "2024-06-27",
          "2024-06-27",
          "2024-06-27",
          "2024-06-27",
          "2024-06-27",
          "2024-06-27",
          "2024-06-27",
          "2024-06-27",
          "2024-06-27",
          "2024-06-27",
          "2024-06-27",
          "2024-06-27",
          "2024-06-27",
          "2024-06-27",
          "2024-06-27",
          "2024-06-27",
          "2024-06-27",
          "2024-06-27",
          "2024-06-27",
          "2024-06-27",
          "2024-06-27",
          "2024-06-27",
          "2024-06-27",
          "2024-06-27",
          "2024-06-27",
          "2024-06-27",
          "2024-06-27",
          "2024-06-27",
          "2024-06-27",
          "2024-06-27",
          "2024-06-27",
          "2024-06-27",
          "2024-06-27",
          "2024-06-27",
          "2024-06-27",
          "2024-06-27",
          "2024-06-27",
          "2024-06-27",
          "2024-06-27",
          "2024-06-27",
          "2024-06-27",
          "2024-06-27",
          "2024-06-27",
          "2024-06-27",
          "2024-06-27",
          "2024-06-27",
          "2024-06-27",
          "2024-06-27",
          "2024-06-27",
          "2024-06-27",
          "2024-06-27",
          "2024-06-27",
          "2024-06-27",
          "2024-06-27",
          "2024-06-27",
          "2024-06-27",
          "2024-06-27",
          "2024-06-27",
          "2024-06-27",
          "2024-06-27",
          "2024-06-27",
          "2024-06-27",
          "2024-06-27",
          "2024-06-27",
          "2024-06-27",
          "2024-06-27",
          "2024-06-27",
          "2024-06-27",
          "2024-06-27",
          "2024-06-27",
          "2024-06-27",
          "2024-06-27",
          "2024-06-27",
          "2024-06-27",
          "2024-06-27",
          "2024-06-27",
          "2024-06-27",
          "2024-06-27",
          "2024-06-27",
          "2024-06-27",
          "2024-06-27",
          "2024-06-27",
          "2024-06-27",
          "2024-06-27",
          "2024-06-27",
          "2024-06-27",
          "2024-06-27",
          "2024-06-27",
          "2024-06-27",
          "2024-06-27",
          "2024-06-27",
          "2024-06-27",
          "2024-06-27",
          "2024-06-27",
          "2024-06-27",
          "2024-06-27",
          "2024-06-27",
          "2024-06-27",
          "2024-06-27",
          "2024-06-27",
          "2024-06-27",
          "2024-06-27",
          "2024-06-27",
          "2024-06-27",
          "2024-06-27",
          "2024-06-27",
          "2024-06-27",
          "2024-06-27",
          "2024-06-27",
          "2024-06-27",
          "2024-06-27",
          "2024-06-27",
          "2024-06-27",
          "2024-06-27",
          "2024-06-27",
          "2024-06-27",
          "2024-06-27",
          "2024-06-27",
          "2024-06-27",
          "2024-06-27",
          "2024-06-27",
          "2024-06-27",
          "2024-06-27",
          "2024-06-27",
          "2024-06-27",
          "2024-06-27",
          "2024-06-27",
          "2024-06-27",
          "2024-06-27",
          "2024-06-27",
          "2024-06-27",
          "2024-06-27",
          "2024-06-27",
          "2024-06-27",
          "2024-06-27",
          "2024-06-27",
          "2024-06-27",
          "2024-06-27",
          "2024-06-27",
          "2024-06-27",
          "2024-06-27",
          "2024-06-27",
          "2024-06-27",
          "2024-06-27",
          "2024-06-27",
          "2024-06-27",
          "2024-06-27",
          "2024-06-27",
          "2024-06-27",
          "2024-06-27",
          "2024-06-27",
          "2024-06-27",
          "2024-06-27",
          "2024-06-27",
          "2024-06-27",
          "2024-06-27",
          "2024-06-27",
          "2024-06-27",
          "2024-06-27",
          "2024-06-27",
          "2024-06-27",
          "2024-06-27",
          "2024-06-27",
          "2024-06-27",
          "2024-06-27",
          "2024-06-27",
          "2024-06-27",
          "2024-06-27",
          "2024-06-27",
          "2024-06-27",
          "2024-06-27",
          "2024-06-27",
          "2024-06-27",
          "2024-06-27",
          "2024-06-27",
          "2024-06-27",
          "2024-06-27",
          "2024-06-27",
          "2024-06-27",
          "2024-06-27",
          "2024-06-27",
          "2024-06-27",
          "2024-06-27",
          "2024-06-27",
          "2024-06-27",
          "2024-06-27",
          "2024-06-27",
          "2024-06-27",
          "2024-06-27",
          "2024-06-27",
          "2024-06-27",
          "2024-06-27",
          "2024-06-27",
          "2024-06-27",
          "2024-06-27",
          "2024-06-27",
          "2024-06-27",
          "2024-06-27",
          "2024-06-27",
          "2024-06-27",
          "2024-06-27",
          "2024-06-27",
          "2024-06-27",
          "2024-06-27",
          "2024-06-27",
          "2024-06-27",
          "2024-06-27",
          "2024-06-27",
          "2024-06-27",
          "2024-06-27",
          "2024-06-27",
          "2024-06-27",
          "2024-06-27",
          "2024-06-27",
          "2024-06-27",
          "2024-06-27",
          "2024-06-27",
          "2024-06-27",
          "2024-06-27",
          "2024-06-27",
          "2024-06-27",
          "2024-06-27",
          "2024-06-27",
          "2024-06-27",
          "2024-06-27",
          "2024-06-27",
          "2024-06-27",
          "2024-06-27",
          "2024-06-27",
          "2024-06-27",
          "2024-06-27",
          "2024-06-27",
          "2024-06-27",
          "2024-06-27",
          "2024-06-27",
          "2024-06-27",
          "2024-06-27",
          "2024-06-27",
          "2024-06-27",
          "2024-06-27",
          "2024-06-27",
          "2024-06-27",
          "2024-06-27",
          "2024-06-27",
          "2024-06-27",
          "2024-06-27",
          "2024-06-27",
          "2024-06-27",
          "2024-06-27",
          "2024-06-27",
          "2024-06-27",
          "2024-06-27",
          "2024-06-27",
          "2024-06-27",
          "2024-06-27",
          "2024-06-27",
          "2024-06-27",
          "2024-06-27",
          "2024-06-27",
          "2024-06-27",
          "2024-06-27",
          "2024-06-27",
          "2024-06-27",
          "2024-06-27",
          "2024-06-27",
          "2024-06-27",
          "2024-06-27",
          "2024-06-27",
          "2024-06-27",
          "2024-06-27",
          "2024-06-27",
          "2024-06-27",
          "2024-06-27",
          "2024-06-27",
          "2024-06-27",
          "2024-06-27",
          "2024-06-27",
          "2024-06-27",
          "2024-06-27",
          "2024-06-27",
          "2024-06-27",
          "2024-06-27",
          "2024-06-27",
          "2024-06-28",
          "2024-06-28",
          "2024-06-28",
          "2024-06-28",
          "2024-06-28",
          "2024-06-28",
          "2024-06-28",
          "2024-06-28",
          "2024-06-28",
          "2024-06-28",
          "2024-06-28",
          "2024-06-28",
          "2024-06-28",
          "2024-06-28",
          "2024-06-28",
          "2024-06-28",
          "2024-06-28",
          "2024-06-28",
          "2024-06-28",
          "2024-06-28",
          "2024-06-28",
          "2024-06-28",
          "2024-06-28",
          "2024-06-28",
          "2024-06-28",
          "2024-06-28",
          "2024-06-28",
          "2024-06-28",
          "2024-06-28",
          "2024-06-28",
          "2024-06-28",
          "2024-06-28",
          "2024-06-28",
          "2024-06-28",
          "2024-06-28",
          "2024-06-28",
          "2024-06-28",
          "2024-06-28",
          "2024-06-28",
          "2024-06-28",
          "2024-06-28",
          "2024-06-28",
          "2024-06-28",
          "2024-06-28",
          "2024-06-28",
          "2024-06-28",
          "2024-06-28",
          "2024-06-28",
          "2024-06-28",
          "2024-06-28",
          "2024-06-28",
          "2024-06-28",
          "2024-06-28"
         ],
         "xaxis": "x",
         "y": [
          8.183333333333334,
          8.2,
          8.266666666666667,
          8.266666666666667,
          8.266666666666667,
          8.266666666666667,
          8.266666666666667,
          8.266666666666667,
          8.266666666666667,
          8.266666666666667,
          8.266666666666667,
          8.283333333333333,
          8.283333333333333,
          8.283333333333333,
          8.283333333333333,
          8.283333333333333,
          8.283333333333333,
          8.283333333333333,
          8.283333333333333,
          8.283333333333333,
          8.283333333333333,
          8.283333333333333,
          8.283333333333333,
          8.3,
          8.3,
          8.3,
          8.3,
          8.3,
          8.3,
          8.3,
          8.3,
          8.3,
          8.316666666666666,
          8.316666666666666,
          8.316666666666666,
          8.316666666666666,
          8.316666666666666,
          8.316666666666666,
          8.316666666666666,
          8.316666666666666,
          8.333333333333334,
          8.333333333333334,
          8.333333333333334,
          8.333333333333334,
          8.333333333333334,
          8.333333333333334,
          8.333333333333334,
          8.333333333333334,
          8.35,
          8.35,
          8.366666666666667,
          8.366666666666667,
          8.366666666666667,
          8.366666666666667,
          8.366666666666667,
          8.366666666666667,
          8.366666666666667,
          8.366666666666667,
          8.366666666666667,
          8.366666666666667,
          8.366666666666667,
          8.366666666666667,
          8.383333333333333,
          8.383333333333333,
          8.383333333333333,
          8.383333333333333,
          8.383333333333333,
          8.383333333333333,
          8.383333333333333,
          8.383333333333333,
          8.383333333333333,
          8.383333333333333,
          8.383333333333333,
          8.4,
          8.4,
          8.4,
          8.4,
          8.4,
          8.4,
          8.4,
          8.4,
          8.4,
          8.4,
          8.4,
          8.4,
          8.4,
          8.416666666666666,
          8.416666666666666,
          8.416666666666666,
          8.416666666666666,
          8.416666666666666,
          8.416666666666666,
          8.416666666666666,
          8.416666666666666,
          11.2,
          11.2,
          11.2,
          11.2,
          11.216666666666667,
          11.216666666666667,
          11.216666666666667,
          11.216666666666667,
          11.216666666666667,
          11.216666666666667,
          11.216666666666667,
          11.216666666666667,
          11.233333333333333,
          11.233333333333333,
          11.233333333333333,
          11.233333333333333,
          11.233333333333333,
          11.233333333333333,
          11.233333333333333,
          11.233333333333333,
          11.233333333333333,
          11.233333333333333,
          11.233333333333333,
          11.25,
          11.25,
          11.25,
          11.25,
          11.25,
          11.25,
          11.25,
          11.25,
          11.25,
          11.25,
          11.25,
          11.25,
          11.266666666666667,
          11.266666666666667,
          11.266666666666667,
          11.266666666666667,
          11.266666666666667,
          11.266666666666667,
          11.266666666666667,
          11.283333333333333,
          11.3,
          11.3,
          11.3,
          11.3,
          11.3,
          11.3,
          11.3,
          11.3,
          11.3,
          11.3,
          11.3,
          11.3,
          11.316666666666666,
          11.316666666666666,
          11.316666666666666,
          11.316666666666666,
          11.316666666666666,
          11.316666666666666,
          11.316666666666666,
          11.316666666666666,
          11.316666666666666,
          11.316666666666666,
          11.316666666666666,
          11.333333333333334,
          11.333333333333334,
          11.35,
          11.35,
          11.35,
          11.35,
          11.35,
          11.366666666666667,
          11.366666666666667,
          11.366666666666667,
          11.383333333333333,
          11.383333333333333,
          11.383333333333333,
          11.383333333333333,
          11.383333333333333,
          11.616666666666667,
          11.633333333333333,
          11.633333333333333,
          11.733333333333333,
          11.75,
          11.75,
          11.766666666666667,
          11.8,
          11.816666666666666,
          11.816666666666666,
          11.816666666666666,
          11.883333333333333,
          11.883333333333333,
          11.883333333333333,
          11.883333333333333,
          11.883333333333333,
          11.916666666666666,
          11.916666666666666,
          11.966666666666667,
          11.983333333333333,
          12.033333333333333,
          12.1,
          12.1,
          12.1,
          12.1,
          12.1,
          12.1,
          12.1,
          12.1,
          12.216666666666667,
          12.216666666666667,
          12.216666666666667,
          12.216666666666667,
          12.216666666666667,
          12.216666666666667,
          12.216666666666667,
          12.233333333333333,
          12.233333333333333,
          12.233333333333333,
          12.233333333333333,
          12.233333333333333,
          12.233333333333333,
          12.233333333333333,
          12.233333333333333,
          12.233333333333333,
          12.233333333333333,
          12.233333333333333,
          12.233333333333333,
          12.25,
          12.25,
          12.25,
          12.25,
          12.316666666666666,
          12.316666666666666,
          12.333333333333334,
          12.333333333333334,
          12.333333333333334,
          12.333333333333334,
          12.333333333333334,
          12.35,
          12.35,
          12.35,
          12.35,
          12.35,
          12.366666666666667,
          12.366666666666667,
          12.366666666666667,
          12.366666666666667,
          12.366666666666667,
          12.55,
          12.6,
          12.6,
          12.6,
          12.6,
          12.6,
          12.6,
          12.6,
          12.6,
          12.616666666666667,
          12.616666666666667,
          12.616666666666667,
          12.616666666666667,
          12.616666666666667,
          12.616666666666667,
          12.616666666666667,
          12.616666666666667,
          12.633333333333333,
          13.016666666666667,
          13.016666666666667,
          13.016666666666667,
          13.016666666666667,
          13.033333333333333,
          13.033333333333333,
          13.033333333333333,
          13.033333333333333,
          13.033333333333333,
          13.033333333333333,
          13.033333333333333,
          13.033333333333333,
          13.033333333333333,
          13.033333333333333,
          13.05,
          13.05,
          13.05,
          13.05,
          13.05,
          13.05,
          13.05,
          13.05,
          13.066666666666666,
          13.083333333333334,
          13.083333333333334,
          13.083333333333334,
          13.083333333333334,
          13.083333333333334,
          13.083333333333334,
          13.116666666666667,
          13.116666666666667,
          13.116666666666667,
          13.116666666666667,
          13.2,
          13.2,
          13.2,
          13.2,
          13.2,
          13.216666666666667,
          13.216666666666667,
          13.216666666666667,
          13.216666666666667,
          13.216666666666667,
          13.216666666666667,
          13.216666666666667,
          13.216666666666667,
          13.216666666666667,
          13.216666666666667,
          13.216666666666667,
          13.216666666666667,
          13.216666666666667,
          13.233333333333333,
          13.233333333333333,
          13.233333333333333,
          13.233333333333333,
          14.016666666666667,
          14.133333333333333,
          14.2,
          14.35,
          14.35,
          14.366666666666667,
          14.366666666666667,
          14.366666666666667,
          14.366666666666667,
          14.366666666666667,
          14.366666666666667,
          14.366666666666667,
          14.366666666666667,
          14.366666666666667,
          14.366666666666667,
          14.366666666666667,
          14.366666666666667,
          14.383333333333333,
          14.383333333333333,
          14.383333333333333,
          14.383333333333333,
          14.383333333333333,
          14.383333333333333,
          14.383333333333333,
          14.383333333333333,
          14.4,
          14.4,
          14.4,
          14.4,
          14.4,
          14.4,
          14.4,
          14.4,
          14.4,
          14.4,
          14.4,
          14.4,
          14.4,
          14.416666666666666,
          14.416666666666666,
          14.416666666666666,
          14.416666666666666,
          14.416666666666666,
          14.416666666666666,
          14.416666666666666,
          14.416666666666666,
          14.416666666666666,
          7.85,
          7.883333333333333,
          8.066666666666666,
          8.316666666666666,
          8.45,
          8.533333333333333,
          8.6,
          8.633333333333333,
          8.633333333333333,
          8.633333333333333,
          8.65,
          8.65,
          8.65,
          8.65,
          8.65,
          8.666666666666666,
          8.666666666666666,
          8.666666666666666,
          8.666666666666666,
          8.666666666666666,
          8.666666666666666,
          8.666666666666666,
          8.666666666666666,
          8.666666666666666,
          8.666666666666666,
          8.683333333333334,
          8.683333333333334,
          8.683333333333334,
          8.683333333333334,
          8.866666666666667,
          8.866666666666667,
          8.866666666666667,
          8.866666666666667,
          8.866666666666667,
          8.866666666666667,
          8.866666666666667,
          8.866666666666667,
          8.866666666666667,
          8.866666666666667,
          8.866666666666667,
          8.883333333333333,
          8.883333333333333,
          8.883333333333333,
          8.883333333333333,
          8.883333333333333,
          8.883333333333333,
          8.883333333333333,
          8.883333333333333,
          8.883333333333333,
          8.883333333333333,
          8.883333333333333,
          8.883333333333333,
          9.316666666666666,
          9.316666666666666,
          9.316666666666666,
          9.333333333333334,
          9.333333333333334,
          9.35,
          9.35,
          9.35,
          9.35,
          9.35,
          9.35,
          9.35,
          9.35,
          9.366666666666667,
          9.366666666666667,
          9.366666666666667,
          9.366666666666667,
          9.483333333333333,
          9.533333333333333,
          9.533333333333333,
          9.583333333333334,
          9.583333333333334,
          9.583333333333334,
          9.583333333333334,
          9.633333333333333,
          10.266666666666667,
          10.283333333333333,
          10.3,
          10.3,
          10.316666666666666,
          10.316666666666666,
          10.316666666666666,
          10.333333333333334,
          10.333333333333334,
          10.75,
          11,
          11.083333333333334,
          11.083333333333334,
          11.083333333333334,
          11.1,
          11.1,
          11.1,
          11.1,
          11.1,
          11.1,
          11.1,
          11.1,
          11.1,
          11.1,
          11.1,
          11.1,
          11.116666666666667,
          11.116666666666667,
          11.116666666666667,
          11.116666666666667,
          11.116666666666667,
          11.116666666666667,
          11.116666666666667,
          11.116666666666667,
          11.116666666666667,
          11.116666666666667,
          11.116666666666667,
          11.133333333333333,
          11.133333333333333,
          11.133333333333333,
          11.133333333333333,
          11.133333333333333,
          11.133333333333333,
          11.133333333333333,
          11.133333333333333,
          11.133333333333333,
          11.133333333333333,
          11.133333333333333,
          11.133333333333333,
          11.133333333333333,
          11.15,
          11.15,
          11.15,
          11.15,
          11.15,
          11.15,
          11.15,
          11.15,
          11.2,
          11.2,
          11.216666666666667,
          11.216666666666667,
          11.216666666666667,
          11.216666666666667,
          11.216666666666667,
          11.216666666666667,
          11.216666666666667,
          11.216666666666667,
          11.216666666666667,
          11.216666666666667,
          11.216666666666667,
          11.216666666666667,
          11.216666666666667,
          11.216666666666667,
          11.216666666666667,
          11.233333333333333,
          11.233333333333333,
          11.233333333333333,
          11.233333333333333,
          11.233333333333333,
          11.233333333333333,
          11.233333333333333,
          11.233333333333333,
          11.233333333333333,
          11.233333333333333,
          11.233333333333333,
          11.233333333333333,
          11.233333333333333,
          11.233333333333333,
          11.233333333333333,
          11.233333333333333,
          11.233333333333333,
          11.25,
          11.25,
          11.25,
          11.25,
          11.25,
          11.25,
          11.25,
          11.25,
          11.25,
          11.25,
          11.25,
          11.25,
          11.5,
          11.5,
          11.516666666666667,
          11.616666666666667,
          11.633333333333333,
          11.633333333333333,
          11.633333333333333,
          11.633333333333333,
          11.633333333333333,
          11.633333333333333,
          11.633333333333333,
          11.633333333333333,
          11.65,
          11.65,
          11.65,
          11.65,
          11.65,
          11.65,
          11.65,
          11.65,
          11.65,
          11.666666666666666,
          11.666666666666666,
          11.666666666666666,
          11.666666666666666,
          11.666666666666666,
          11.666666666666666,
          11.666666666666666,
          11.666666666666666,
          11.666666666666666,
          11.666666666666666,
          11.666666666666666,
          11.666666666666666,
          11.666666666666666,
          11.683333333333334,
          11.683333333333334,
          11.683333333333334,
          11.683333333333334,
          11.683333333333334,
          11.683333333333334,
          11.7,
          11.7,
          11.7,
          11.7,
          11.7,
          11.7,
          11.716666666666667,
          11.916666666666666,
          12.016666666666667,
          12.016666666666667,
          12.016666666666667,
          12.016666666666667,
          12.016666666666667,
          12.016666666666667,
          12.016666666666667,
          12.033333333333333,
          12.033333333333333,
          12.033333333333333,
          12.033333333333333,
          12.033333333333333,
          12.033333333333333,
          12.033333333333333,
          12.033333333333333,
          12.033333333333333,
          12.033333333333333,
          12.033333333333333,
          12.033333333333333,
          12.05,
          12.05,
          12.05,
          12.05,
          12.05,
          12.05,
          12.05,
          12.05,
          12.066666666666666,
          12.066666666666666,
          12.066666666666666,
          12.066666666666666,
          12.066666666666666,
          12.066666666666666,
          12.066666666666666,
          12.066666666666666,
          12.066666666666666,
          12.066666666666666,
          12.066666666666666,
          12.083333333333334,
          12.083333333333334,
          12.083333333333334,
          12.083333333333334,
          12.083333333333334,
          12.083333333333334,
          12.083333333333334,
          12.083333333333334,
          12.116666666666667,
          12.116666666666667,
          12.116666666666667,
          12.116666666666667,
          12.116666666666667,
          12.116666666666667,
          12.116666666666667,
          12.116666666666667,
          12.116666666666667,
          12.116666666666667,
          12.133333333333333,
          12.133333333333333,
          12.133333333333333,
          12.133333333333333,
          12.133333333333333,
          12.133333333333333,
          12.133333333333333,
          12.15,
          12.15,
          12.15,
          12.15,
          12.15,
          12.15,
          12.15,
          12.15,
          12.15,
          12.15,
          12.166666666666666,
          12.166666666666666,
          12.166666666666666,
          12.3,
          12.383333333333333,
          12.383333333333333,
          12.383333333333333,
          12.383333333333333,
          12.4,
          12.4,
          12.4,
          12.4,
          12.4,
          12.4,
          12.4,
          12.4,
          12.4,
          12.416666666666666,
          12.416666666666666,
          12.416666666666666,
          12.416666666666666,
          12.416666666666666,
          12.416666666666666,
          12.416666666666666,
          12.416666666666666,
          12.416666666666666,
          12.416666666666666,
          12.433333333333334,
          12.433333333333334,
          12.433333333333334,
          12.433333333333334,
          12.433333333333334,
          12.433333333333334,
          12.433333333333334,
          12.433333333333334,
          12.433333333333334,
          12.433333333333334,
          12.45,
          12.45,
          12.45,
          12.45,
          12.45,
          12.45,
          12.45,
          12.45,
          12.45,
          12.45,
          12.45,
          12.45,
          12.45,
          12.466666666666667,
          12.466666666666667,
          12.483333333333333,
          12.483333333333333,
          12.483333333333333,
          12.483333333333333,
          12.483333333333333,
          12.483333333333333,
          12.483333333333333,
          12.483333333333333,
          12.483333333333333,
          12.483333333333333,
          12.483333333333333,
          12.5,
          12.5,
          12.5,
          12.5,
          12.5,
          12.5,
          12.5,
          12.5,
          12.5,
          12.5,
          12.516666666666667,
          12.516666666666667,
          12.516666666666667,
          12.516666666666667,
          12.516666666666667,
          12.516666666666667,
          12.516666666666667,
          12.516666666666667,
          12.516666666666667,
          12.533333333333333,
          12.533333333333333,
          12.533333333333333,
          12.533333333333333,
          12.533333333333333,
          12.683333333333334,
          12.766666666666667,
          12.766666666666667,
          12.766666666666667,
          12.766666666666667,
          12.766666666666667,
          12.783333333333333,
          12.783333333333333,
          12.783333333333333,
          12.783333333333333,
          12.783333333333333,
          12.783333333333333,
          12.783333333333333,
          12.783333333333333,
          12.783333333333333,
          12.783333333333333,
          12.8,
          12.8,
          12.8,
          12.8,
          12.8,
          12.8,
          12.8,
          12.8,
          12.8,
          12.8,
          12.8,
          12.8,
          12.8,
          12.816666666666666,
          12.816666666666666,
          12.816666666666666,
          12.816666666666666,
          12.816666666666666,
          12.816666666666666,
          12.816666666666666,
          12.816666666666666,
          12.816666666666666,
          12.816666666666666,
          12.816666666666666,
          12.816666666666666,
          12.833333333333334,
          12.833333333333334,
          12.833333333333334,
          12.833333333333334,
          12.833333333333334,
          12.85,
          12.866666666666667,
          12.866666666666667,
          12.883333333333333,
          12.883333333333333,
          12.883333333333333,
          12.883333333333333,
          12.883333333333333,
          12.883333333333333,
          12.883333333333333,
          12.883333333333333,
          12.883333333333333,
          12.883333333333333,
          12.9,
          12.9,
          12.9,
          12.9,
          12.9,
          12.9,
          12.9,
          12.9,
          12.9,
          12.9,
          12.9,
          12.916666666666666,
          12.916666666666666,
          13.2,
          13.216666666666667,
          13.216666666666667,
          13.233333333333333,
          13.233333333333333,
          13.25,
          13.25,
          13.25,
          13.25,
          13.266666666666667,
          13.266666666666667,
          13.266666666666667,
          13.266666666666667,
          13.266666666666667,
          13.266666666666667,
          13.266666666666667,
          13.266666666666667,
          13.266666666666667,
          13.266666666666667,
          13.283333333333333,
          13.283333333333333,
          13.283333333333333,
          13.283333333333333,
          13.283333333333333,
          13.283333333333333,
          13.283333333333333,
          13.283333333333333,
          13.283333333333333,
          13.3,
          13.3,
          13.3,
          13.3,
          13.3,
          13.3,
          13.3,
          13.3,
          13.3,
          13.3,
          13.316666666666666,
          13.316666666666666,
          13.316666666666666,
          13.316666666666666,
          13.316666666666666,
          13.316666666666666,
          13.316666666666666,
          13.316666666666666,
          13.316666666666666,
          13.316666666666666,
          13.316666666666666,
          13.316666666666666,
          13.316666666666666,
          13.4,
          13.416666666666666,
          13.416666666666666,
          13.433333333333334,
          13.433333333333334,
          13.433333333333334,
          13.433333333333334,
          13.433333333333334,
          13.55,
          13.816666666666666,
          13.833333333333334,
          13.833333333333334,
          13.866666666666667,
          14.016666666666667,
          14.066666666666666,
          14.066666666666666,
          14.083333333333334,
          14.083333333333334,
          14.083333333333334,
          14.083333333333334,
          14.083333333333334,
          14.083333333333334,
          14.083333333333334,
          14.083333333333334,
          14.083333333333334,
          14.1,
          14.1,
          14.1,
          14.1,
          14.1,
          14.116666666666667,
          14.116666666666667,
          14.116666666666667,
          14.133333333333333,
          14.133333333333333,
          14.133333333333333,
          14.133333333333333,
          14.133333333333333,
          14.133333333333333,
          14.133333333333333,
          14.15,
          14.15,
          14.15,
          14.15,
          14.15,
          14.15,
          14.15,
          14.15,
          14.15,
          14.15,
          14.166666666666666,
          14.166666666666666,
          14.166666666666666,
          14.166666666666666,
          14.166666666666666,
          14.166666666666666,
          14.166666666666666,
          14.166666666666666,
          14.166666666666666,
          14.166666666666666,
          14.166666666666666,
          14.166666666666666,
          14.166666666666666,
          14.166666666666666,
          14.166666666666666,
          14.183333333333334,
          14.183333333333334,
          14.183333333333334,
          14.183333333333334,
          14.183333333333334,
          14.183333333333334,
          14.183333333333334,
          14.183333333333334,
          14.183333333333334,
          14.183333333333334,
          14.183333333333334,
          14.183333333333334,
          14.183333333333334,
          14.55,
          14.566666666666666,
          14.566666666666666,
          15.433333333333334,
          15.45,
          15.45,
          15.45,
          15.55,
          15.8,
          15.8,
          15.8,
          15.816666666666666,
          15.816666666666666,
          15.816666666666666,
          15.816666666666666,
          15.816666666666666,
          15.816666666666666,
          15.833333333333334,
          15.833333333333334,
          15.833333333333334,
          15.833333333333334,
          15.833333333333334,
          15.833333333333334,
          15.883333333333333,
          15.9,
          15.9,
          15.9,
          15.916666666666666,
          15.933333333333334,
          15.933333333333334,
          15.933333333333334,
          15.933333333333334,
          16.05,
          16.05,
          16.066666666666666,
          16.066666666666666,
          16.066666666666666,
          16.083333333333332,
          16.083333333333332,
          16.083333333333332,
          16.083333333333332,
          16.083333333333332,
          16.1,
          16.1,
          16.533333333333335,
          16.533333333333335,
          16.533333333333335,
          16.533333333333335,
          16.55,
          16.983333333333334,
          17.05,
          17.066666666666666,
          17.15,
          17.166666666666668,
          17.166666666666668,
          17.166666666666668,
          17.166666666666668,
          17.166666666666668,
          17.166666666666668,
          17.166666666666668,
          17.166666666666668,
          17.166666666666668,
          17.166666666666668,
          17.183333333333334,
          17.183333333333334,
          17.183333333333334,
          17.183333333333334,
          17.183333333333334,
          17.183333333333334,
          17.183333333333334,
          17.183333333333334,
          17.183333333333334,
          17.183333333333334,
          17.183333333333334,
          17.183333333333334,
          17.2,
          17.2,
          17.2,
          17.2,
          17.2,
          17.2,
          17.2,
          17.2,
          17.2,
          17.2,
          17.216666666666665,
          17.216666666666665,
          17.216666666666665,
          17.216666666666665,
          17.216666666666665,
          17.216666666666665,
          17.216666666666665,
          17.216666666666665,
          17.216666666666665,
          17.216666666666665,
          17.216666666666665,
          17.216666666666665,
          17.233333333333334,
          17.233333333333334,
          17.233333333333334,
          17.233333333333334,
          17.233333333333334,
          17.233333333333334,
          17.233333333333334,
          17.25,
          17.25,
          17.25,
          17.25,
          17.25,
          17.25,
          17.25,
          17.25,
          17.266666666666666,
          17.266666666666666,
          17.266666666666666,
          17.266666666666666,
          17.266666666666666,
          17.283333333333335,
          17.283333333333335,
          17.283333333333335,
          17.283333333333335,
          17.283333333333335,
          20.4,
          13.25,
          13.25,
          13.416666666666666,
          13.5,
          13.583333333333334,
          13.583333333333334,
          13.583333333333334,
          13.583333333333334,
          13.6,
          13.6,
          13.6,
          13.6,
          13.616666666666667,
          13.616666666666667,
          13.616666666666667,
          13.616666666666667,
          13.633333333333333,
          13.633333333333333,
          13.633333333333333,
          13.633333333333333,
          13.633333333333333,
          13.65,
          13.65,
          13.65,
          13.65,
          13.65,
          13.65,
          13.666666666666666,
          13.666666666666666,
          13.666666666666666,
          13.666666666666666,
          13.666666666666666,
          13.683333333333334,
          13.683333333333334,
          13.683333333333334,
          13.683333333333334,
          13.683333333333334,
          13.683333333333334,
          13.683333333333334,
          13.683333333333334,
          13.683333333333334,
          13.7,
          13.7,
          13.7,
          13.7,
          13.7,
          13.716666666666667,
          13.716666666666667,
          13.716666666666667,
          13.716666666666667,
          13.716666666666667,
          13.716666666666667,
          13.716666666666667,
          13.733333333333333,
          13.733333333333333,
          13.733333333333333,
          13.733333333333333,
          13.733333333333333,
          13.733333333333333,
          13.733333333333333,
          13.733333333333333,
          13.733333333333333,
          13.733333333333333,
          13.75,
          13.75,
          13.75,
          13.75,
          13.75,
          13.75,
          13.75,
          13.75,
          13.75,
          13.766666666666667,
          13.766666666666667,
          13.783333333333333,
          13.783333333333333,
          13.783333333333333,
          13.783333333333333,
          13.783333333333333,
          13.8,
          13.95,
          13.983333333333333,
          14.033333333333333,
          14.033333333333333,
          14.033333333333333,
          14.033333333333333,
          14.033333333333333,
          14.05,
          14.05,
          14.05,
          14.05,
          14.05,
          14.05,
          14.05,
          14.05,
          14.05,
          14.05,
          14.066666666666666,
          14.066666666666666,
          14.066666666666666,
          14.066666666666666,
          14.066666666666666,
          14.066666666666666,
          14.066666666666666,
          14.066666666666666,
          14.083333333333334,
          14.083333333333334,
          14.083333333333334,
          14.083333333333334,
          14.083333333333334,
          14.083333333333334,
          14.1,
          14.1,
          14.1,
          14.1,
          14.1,
          14.1,
          14.1,
          14.1,
          14.1,
          14.1,
          14.116666666666667,
          14.116666666666667,
          14.116666666666667,
          14.116666666666667,
          14.116666666666667,
          14.116666666666667,
          14.133333333333333,
          14.133333333333333,
          14.133333333333333,
          14.133333333333333,
          14.133333333333333,
          14.133333333333333,
          14.133333333333333,
          14.133333333333333,
          14.133333333333333,
          14.133333333333333,
          14.133333333333333,
          14.133333333333333,
          14.133333333333333,
          14.15,
          14.15,
          14.15,
          14.15,
          14.15,
          14.15,
          14.15,
          14.15,
          14.15,
          14.15,
          14.15,
          14.166666666666666,
          14.166666666666666,
          14.166666666666666,
          14.166666666666666,
          14.166666666666666,
          14.166666666666666,
          14.166666666666666,
          14.166666666666666,
          14.166666666666666,
          14.166666666666666,
          14.166666666666666,
          14.166666666666666,
          14.183333333333334,
          14.183333333333334,
          14.183333333333334,
          14.183333333333334,
          14.183333333333334,
          7.533333333333333,
          7.7,
          7.7,
          7.716666666666667,
          7.716666666666667,
          7.716666666666667,
          7.716666666666667,
          7.733333333333333,
          7.733333333333333,
          7.733333333333333,
          7.833333333333333,
          7.85,
          7.85,
          7.85,
          7.85,
          7.85,
          7.85,
          7.85,
          7.85,
          7.866666666666667,
          7.866666666666667,
          7.866666666666667,
          7.866666666666667,
          7.866666666666667,
          7.866666666666667,
          7.866666666666667,
          7.883333333333333,
          7.883333333333333,
          7.883333333333333,
          7.9,
          8.016666666666667,
          8.033333333333333,
          8.033333333333333,
          8.033333333333333,
          8.033333333333333,
          8.033333333333333,
          8.033333333333333,
          8.033333333333333,
          8.033333333333333,
          8.05,
          8.05,
          8.05,
          8.05,
          8.05,
          8.05,
          8.05,
          8.05,
          8.05,
          8.05,
          8.383333333333333,
          8.883333333333333,
          8.916666666666666,
          9.05,
          9.05,
          9.066666666666666,
          9.066666666666666,
          9.066666666666666,
          9.066666666666666,
          9.066666666666666,
          9.066666666666666,
          9.083333333333334,
          9.083333333333334,
          9.083333333333334,
          9.083333333333334,
          9.083333333333334,
          9.083333333333334,
          9.1,
          9.1,
          9.1,
          9.1,
          9.1,
          9.1,
          9.1,
          9.1,
          9.116666666666667,
          9.116666666666667,
          9.116666666666667,
          9.116666666666667,
          9.116666666666667,
          9.116666666666667,
          9.116666666666667,
          9.116666666666667,
          9.116666666666667,
          9.116666666666667,
          9.116666666666667,
          9.116666666666667,
          9.416666666666666,
          9.516666666666667,
          9.516666666666667,
          9.516666666666667,
          9.516666666666667,
          9.516666666666667,
          9.516666666666667,
          9.533333333333333,
          9.533333333333333,
          9.533333333333333,
          9.533333333333333,
          9.533333333333333,
          9.533333333333333,
          9.533333333333333,
          9.533333333333333,
          9.533333333333333,
          9.533333333333333,
          9.533333333333333,
          9.55,
          9.55,
          9.55,
          9.55,
          9.55,
          9.55,
          9.566666666666666,
          9.566666666666666,
          9.566666666666666,
          9.566666666666666,
          9.566666666666666,
          9.566666666666666,
          9.566666666666666,
          9.566666666666666,
          9.566666666666666,
          9.583333333333334,
          9.583333333333334,
          9.583333333333334,
          9.583333333333334,
          9.583333333333334,
          9.583333333333334,
          9.583333333333334,
          9.583333333333334,
          9.583333333333334,
          9.583333333333334,
          9.583333333333334,
          9.583333333333334,
          9.6,
          9.6,
          9.6,
          9.6,
          9.6,
          9.6,
          9.6,
          9.616666666666667,
          9.616666666666667,
          9.616666666666667,
          9.616666666666667,
          9.616666666666667,
          9.616666666666667,
          9.616666666666667,
          9.616666666666667,
          9.616666666666667,
          9.616666666666667,
          9.616666666666667,
          9.616666666666667,
          9.633333333333333,
          9.633333333333333,
          9.633333333333333,
          9.633333333333333,
          9.633333333333333,
          9.633333333333333,
          9.65,
          9.65,
          9.65,
          9.65,
          9.65,
          9.65,
          9.65,
          9.65,
          9.65,
          9.65,
          9.65,
          9.65,
          9.666666666666666,
          9.666666666666666,
          9.666666666666666,
          9.666666666666666,
          9.666666666666666,
          9.666666666666666,
          9.666666666666666,
          9.666666666666666,
          10.483333333333333,
          10.5,
          10.5,
          10.5,
          10.5,
          10.5,
          10.5,
          10.5,
          10.5,
          10.5,
          10.5,
          10.516666666666667,
          10.516666666666667,
          10.516666666666667,
          10.516666666666667,
          10.516666666666667,
          10.516666666666667,
          10.516666666666667,
          10.516666666666667,
          10.516666666666667,
          10.516666666666667,
          10.516666666666667,
          10.533333333333333,
          10.533333333333333,
          10.533333333333333,
          10.533333333333333,
          10.533333333333333,
          10.533333333333333,
          10.533333333333333,
          10.533333333333333,
          10.533333333333333,
          10.533333333333333,
          10.533333333333333,
          10.533333333333333,
          10.533333333333333,
          10.533333333333333,
          10.55,
          10.55,
          10.55,
          10.55,
          10.55,
          10.55,
          10.55,
          10.55,
          10.566666666666666,
          10.566666666666666,
          10.566666666666666,
          10.566666666666666,
          10.566666666666666,
          10.566666666666666,
          10.566666666666666,
          10.566666666666666,
          10.566666666666666,
          10.566666666666666,
          10.583333333333334,
          10.583333333333334,
          10.583333333333334,
          10.583333333333334,
          10.583333333333334,
          10.583333333333334,
          10.583333333333334,
          10.583333333333334,
          10.6,
          10.6,
          10.6,
          10.6,
          10.6,
          10.6,
          10.6,
          10.6,
          10.6,
          10.6,
          10.6,
          10.616666666666667,
          10.616666666666667,
          10.616666666666667,
          10.616666666666667,
          10.616666666666667,
          10.616666666666667,
          10.616666666666667,
          10.616666666666667,
          10.616666666666667,
          10.616666666666667,
          10.633333333333333,
          10.633333333333333,
          10.916666666666666,
          10.933333333333334,
          10.95,
          10.95,
          10.95,
          10.95,
          10.966666666666667,
          10.966666666666667,
          10.966666666666667,
          10.966666666666667,
          10.966666666666667,
          10.983333333333333,
          10.983333333333333,
          11,
          11,
          11,
          11.016666666666667,
          11.016666666666667,
          11.016666666666667,
          11.016666666666667,
          11.033333333333333,
          11.033333333333333,
          11.033333333333333,
          11.133333333333333,
          11.133333333333333,
          11.15,
          11.15,
          11.15,
          11.166666666666666,
          11.166666666666666,
          11.166666666666666,
          11.166666666666666,
          11.183333333333334,
          11.183333333333334,
          11.2,
          11.2,
          11.2,
          11.566666666666666,
          11.583333333333334,
          11.583333333333334,
          11.583333333333334,
          11.583333333333334,
          11.6,
          11.6,
          11.6,
          11.6,
          11.6,
          11.6,
          11.6,
          11.6,
          11.616666666666667,
          11.616666666666667,
          11.616666666666667,
          11.616666666666667,
          11.616666666666667,
          11.616666666666667,
          11.633333333333333,
          11.633333333333333,
          11.633333333333333,
          11.633333333333333,
          11.633333333333333,
          11.633333333333333,
          11.633333333333333,
          11.633333333333333,
          11.633333333333333,
          11.65,
          11.65,
          11.65,
          11.65,
          11.65,
          11.65,
          11.65,
          11.65,
          11.65,
          11.65,
          11.65,
          11.666666666666666,
          11.666666666666666,
          11.666666666666666,
          11.666666666666666,
          11.666666666666666,
          11.666666666666666,
          11.666666666666666,
          11.666666666666666,
          11.666666666666666,
          11.666666666666666,
          11.666666666666666,
          11.666666666666666,
          11.666666666666666,
          11.683333333333334,
          11.683333333333334,
          11.683333333333334,
          11.683333333333334,
          11.683333333333334,
          11.683333333333334,
          11.683333333333334,
          11.7,
          11.7,
          11.7,
          11.766666666666667,
          11.766666666666667,
          11.766666666666667,
          11.766666666666667,
          11.766666666666667,
          11.766666666666667,
          11.766666666666667,
          11.766666666666667,
          11.766666666666667,
          11.783333333333333,
          11.783333333333333,
          11.783333333333333,
          11.783333333333333,
          11.783333333333333,
          11.783333333333333,
          11.783333333333333,
          11.8,
          11.8,
          11.8,
          11.966666666666667,
          11.983333333333333,
          11.983333333333333,
          12.05,
          12.066666666666666,
          12.066666666666666,
          12.35,
          12.366666666666667,
          12.366666666666667,
          12.466666666666667,
          12.466666666666667,
          12.466666666666667,
          12.483333333333333,
          12.483333333333333,
          12.483333333333333,
          12.483333333333333,
          12.483333333333333,
          12.483333333333333,
          12.483333333333333,
          12.483333333333333,
          12.483333333333333,
          12.483333333333333,
          12.483333333333333,
          12.5,
          12.5,
          12.5,
          12.5,
          12.5,
          12.5,
          12.5,
          12.5,
          12.5,
          12.5,
          12.516666666666667,
          12.516666666666667,
          12.516666666666667,
          12.516666666666667,
          12.516666666666667,
          12.516666666666667,
          12.516666666666667,
          12.516666666666667,
          12.516666666666667,
          12.516666666666667,
          12.533333333333333,
          12.533333333333333,
          12.533333333333333,
          12.533333333333333,
          12.533333333333333,
          12.533333333333333,
          12.533333333333333,
          12.533333333333333,
          12.533333333333333,
          12.533333333333333,
          12.533333333333333,
          12.55,
          12.55,
          12.55,
          12.55,
          12.55,
          12.55,
          12.55,
          12.55,
          12.55,
          12.566666666666666,
          12.566666666666666,
          12.566666666666666,
          12.566666666666666,
          12.566666666666666,
          12.566666666666666,
          12.566666666666666,
          12.566666666666666,
          12.566666666666666,
          12.783333333333333,
          12.933333333333334,
          12.933333333333334,
          12.933333333333334,
          12.933333333333334,
          12.95,
          12.95,
          12.95,
          12.95,
          12.95,
          12.95,
          12.95,
          13.016666666666667,
          13.016666666666667,
          13.033333333333333,
          13.033333333333333,
          13.033333333333333,
          13.033333333333333,
          13.033333333333333,
          13.033333333333333,
          13.033333333333333,
          13.033333333333333,
          13.05,
          13.05,
          13.05,
          13.05,
          13.05,
          13.05,
          13.05,
          13.066666666666666,
          13.066666666666666,
          13.066666666666666,
          13.066666666666666,
          13.066666666666666,
          13.066666666666666,
          13.083333333333334,
          13.083333333333334,
          13.083333333333334,
          13.083333333333334,
          13.083333333333334,
          13.083333333333334,
          13.083333333333334,
          13.083333333333334,
          13.083333333333334,
          13.1,
          13.1,
          13.1,
          13.1,
          13.1,
          13.1,
          13.1,
          13.1,
          13.116666666666667,
          13.116666666666667,
          13.116666666666667,
          13.116666666666667,
          13.116666666666667,
          13.116666666666667,
          13.116666666666667,
          13.116666666666667,
          13.116666666666667,
          13.116666666666667,
          13.133333333333333,
          13.133333333333333,
          13.133333333333333,
          13.133333333333333,
          13.133333333333333,
          13.133333333333333,
          13.383333333333333,
          13.533333333333333,
          13.533333333333333,
          13.533333333333333,
          13.533333333333333,
          13.533333333333333,
          13.55,
          13.55,
          13.55,
          13.55,
          13.55,
          13.55,
          13.55,
          13.55,
          13.55,
          13.55,
          13.55,
          13.55,
          13.55,
          13.566666666666666,
          13.566666666666666,
          13.566666666666666,
          13.566666666666666,
          13.566666666666666,
          13.566666666666666,
          13.566666666666666,
          13.566666666666666,
          13.566666666666666,
          13.566666666666666,
          13.566666666666666,
          13.566666666666666,
          13.566666666666666,
          13.583333333333334,
          14.716666666666667,
          14.733333333333333,
          14.733333333333333,
          14.733333333333333,
          14.733333333333333,
          14.75,
          14.75,
          14.75,
          14.766666666666667,
          14.766666666666667,
          14.766666666666667,
          14.766666666666667,
          14.766666666666667,
          14.766666666666667,
          14.766666666666667,
          14.766666666666667,
          14.766666666666667,
          14.783333333333333,
          14.783333333333333,
          14.783333333333333,
          14.783333333333333,
          14.8,
          14.8,
          14.8,
          14.8,
          14.8,
          14.8,
          14.8,
          14.816666666666666,
          14.816666666666666,
          14.816666666666666,
          14.833333333333334,
          14.833333333333334,
          14.833333333333334,
          14.85,
          14.85,
          10.8,
          10.816666666666666,
          10.816666666666666,
          10.816666666666666,
          10.833333333333334,
          10.833333333333334,
          10.833333333333334,
          10.833333333333334,
          10.833333333333334,
          10.833333333333334,
          10.833333333333334,
          10.833333333333334,
          10.85,
          10.85,
          10.85,
          10.85,
          10.85,
          10.85,
          10.85,
          10.85,
          10.85,
          10.866666666666667,
          10.866666666666667,
          10.866666666666667,
          10.883333333333333,
          10.883333333333333,
          10.883333333333333,
          10.883333333333333,
          10.9,
          10.933333333333334,
          10.933333333333334,
          10.966666666666667,
          11.066666666666666,
          11.066666666666666,
          11.066666666666666,
          11.066666666666666,
          11.083333333333334,
          11.083333333333334,
          11.083333333333334,
          11.083333333333334,
          11.083333333333334,
          11.083333333333334,
          11.083333333333334,
          11.083333333333334,
          11.1,
          11.1,
          11.1,
          11.1,
          11.1,
          11.1,
          11.1,
          11.1,
          11.1
         ],
         "yaxis": "y"
        },
        {
         "hovertemplate": "activity=Walking<br>Date=%{x}<br>Hour of the Day=%{y}<extra></extra>",
         "legendgroup": "Walking",
         "marker": {
          "color": "#00cc96",
          "symbol": "circle"
         },
         "mode": "markers",
         "name": "Walking",
         "showlegend": true,
         "type": "scattergl",
         "x": [
          "2024-06-24",
          "2024-06-24",
          "2024-06-24",
          "2024-06-24",
          "2024-06-24",
          "2024-06-24",
          "2024-06-24",
          "2024-06-24",
          "2024-06-24",
          "2024-06-24",
          "2024-06-24",
          "2024-06-24",
          "2024-06-24",
          "2024-06-24",
          "2024-06-24",
          "2024-06-24",
          "2024-06-24",
          "2024-06-24",
          "2024-06-24",
          "2024-06-24",
          "2024-06-24",
          "2024-06-24",
          "2024-06-24",
          "2024-06-24",
          "2024-06-24",
          "2024-06-24",
          "2024-06-25",
          "2024-06-25",
          "2024-06-25",
          "2024-06-25",
          "2024-06-25",
          "2024-06-25",
          "2024-06-26",
          "2024-06-26",
          "2024-06-27",
          "2024-06-27",
          "2024-06-27",
          "2024-06-27",
          "2024-06-27",
          "2024-06-28"
         ],
         "xaxis": "x",
         "y": [
          10.983333333333333,
          11.333333333333334,
          11.366666666666667,
          11.733333333333333,
          11.916666666666666,
          11.916666666666666,
          11.983333333333333,
          11.983333333333333,
          12.116666666666667,
          12.116666666666667,
          12.2,
          12.3,
          12.3,
          12.316666666666666,
          12.333333333333334,
          12.366666666666667,
          12.433333333333334,
          12.616666666666667,
          13.016666666666667,
          13.2,
          14.016666666666667,
          14.016666666666667,
          14.016666666666667,
          14.016666666666667,
          14.016666666666667,
          14.35,
          9.3,
          11.483333333333333,
          12.116666666666667,
          12.866666666666667,
          13.15,
          14.066666666666666,
          13.633333333333333,
          14.066666666666666,
          9.383333333333333,
          10.433333333333334,
          10.583333333333334,
          10.883333333333333,
          11,
          10.783333333333333
         ],
         "yaxis": "y"
        },
        {
         "hovertemplate": "activity=Unknown<br>Date=%{x}<br>Hour of the Day=%{y}<extra></extra>",
         "legendgroup": "Unknown",
         "marker": {
          "color": "#ab63fa",
          "symbol": "circle"
         },
         "mode": "markers",
         "name": "Unknown",
         "showlegend": true,
         "type": "scattergl",
         "x": [
          "2024-06-24",
          "2024-06-24",
          "2024-06-24",
          "2024-06-24",
          "2024-06-24",
          "2024-06-24",
          "2024-06-24",
          "2024-06-24",
          "2024-06-24",
          "2024-06-24",
          "2024-06-24",
          "2024-06-24",
          "2024-06-24",
          "2024-06-24",
          "2024-06-24",
          "2024-06-24",
          "2024-06-24",
          "2024-06-24",
          "2024-06-24",
          "2024-06-24",
          "2024-06-24",
          "2024-06-24",
          "2024-06-24",
          "2024-06-24",
          "2024-06-24",
          "2024-06-25",
          "2024-06-25",
          "2024-06-25",
          "2024-06-25",
          "2024-06-25",
          "2024-06-25",
          "2024-06-25",
          "2024-06-25",
          "2024-06-26",
          "2024-06-26",
          "2024-06-26",
          "2024-06-26",
          "2024-06-26",
          "2024-06-26",
          "2024-06-26",
          "2024-06-26",
          "2024-06-26",
          "2024-06-26",
          "2024-06-26",
          "2024-06-26",
          "2024-06-26",
          "2024-06-26",
          "2024-06-26",
          "2024-06-26",
          "2024-06-27",
          "2024-06-27",
          "2024-06-27",
          "2024-06-27",
          "2024-06-27",
          "2024-06-27",
          "2024-06-27",
          "2024-06-27",
          "2024-06-27",
          "2024-06-27",
          "2024-06-27",
          "2024-06-27",
          "2024-06-27",
          "2024-06-27",
          "2024-06-27"
         ],
         "xaxis": "x",
         "y": [
          11.183333333333334,
          11.233333333333333,
          11.283333333333333,
          11.316666666666666,
          11.366666666666667,
          11.616666666666667,
          11.733333333333333,
          11.733333333333333,
          11.733333333333333,
          11.733333333333333,
          11.733333333333333,
          11.733333333333333,
          11.883333333333333,
          11.9,
          11.9,
          11.9,
          11.9,
          11.966666666666667,
          12.3,
          12.55,
          12.616666666666667,
          13.016666666666667,
          14.016666666666667,
          14.016666666666667,
          14.383333333333333,
          9.3,
          9.583333333333334,
          10.3,
          11.683333333333334,
          11.683333333333334,
          11.683333333333334,
          12.783333333333333,
          17.2,
          13.583333333333334,
          13.666666666666666,
          13.716666666666667,
          13.75,
          13.766666666666667,
          13.766666666666667,
          13.766666666666667,
          13.783333333333333,
          13.8,
          13.8,
          14.033333333333333,
          14.033333333333333,
          14.1,
          14.116666666666667,
          14.116666666666667,
          14.15,
          7.7,
          9.083333333333334,
          9.55,
          9.633333333333333,
          10.533333333333333,
          10.55,
          10.6,
          10.966666666666667,
          11,
          11.583333333333334,
          11.75,
          12.466666666666667,
          12.933333333333334,
          14.75,
          14.75
         ],
         "yaxis": "y"
        },
        {
         "hovertemplate": "activity=Running<br>Date=%{x}<br>Hour of the Day=%{y}<extra></extra>",
         "legendgroup": "Running",
         "marker": {
          "color": "#FFA15A",
          "symbol": "circle"
         },
         "mode": "markers",
         "name": "Running",
         "showlegend": true,
         "type": "scattergl",
         "x": [
          "2024-06-24"
         ],
         "xaxis": "x",
         "y": [
          11.283333333333333
         ],
         "yaxis": "y"
        }
       ],
       "layout": {
        "grid": {
         "columns": 1,
         "pattern": "independent",
         "rows": 1
        },
        "height": 800,
        "legend": {
         "title": {
          "text": "activity"
         },
         "tracegroupgap": 0
        },
        "template": {
         "data": {
          "bar": [
           {
            "error_x": {
             "color": "#2a3f5f"
            },
            "error_y": {
             "color": "#2a3f5f"
            },
            "marker": {
             "line": {
              "color": "#E5ECF6",
              "width": 0.5
             },
             "pattern": {
              "fillmode": "overlay",
              "size": 10,
              "solidity": 0.2
             }
            },
            "type": "bar"
           }
          ],
          "barpolar": [
           {
            "marker": {
             "line": {
              "color": "#E5ECF6",
              "width": 0.5
             },
             "pattern": {
              "fillmode": "overlay",
              "size": 10,
              "solidity": 0.2
             }
            },
            "type": "barpolar"
           }
          ],
          "carpet": [
           {
            "aaxis": {
             "endlinecolor": "#2a3f5f",
             "gridcolor": "white",
             "linecolor": "white",
             "minorgridcolor": "white",
             "startlinecolor": "#2a3f5f"
            },
            "baxis": {
             "endlinecolor": "#2a3f5f",
             "gridcolor": "white",
             "linecolor": "white",
             "minorgridcolor": "white",
             "startlinecolor": "#2a3f5f"
            },
            "type": "carpet"
           }
          ],
          "choropleth": [
           {
            "colorbar": {
             "outlinewidth": 0,
             "ticks": ""
            },
            "type": "choropleth"
           }
          ],
          "contour": [
           {
            "colorbar": {
             "outlinewidth": 0,
             "ticks": ""
            },
            "colorscale": [
             [
              0,
              "#0d0887"
             ],
             [
              0.1111111111111111,
              "#46039f"
             ],
             [
              0.2222222222222222,
              "#7201a8"
             ],
             [
              0.3333333333333333,
              "#9c179e"
             ],
             [
              0.4444444444444444,
              "#bd3786"
             ],
             [
              0.5555555555555556,
              "#d8576b"
             ],
             [
              0.6666666666666666,
              "#ed7953"
             ],
             [
              0.7777777777777778,
              "#fb9f3a"
             ],
             [
              0.8888888888888888,
              "#fdca26"
             ],
             [
              1,
              "#f0f921"
             ]
            ],
            "type": "contour"
           }
          ],
          "contourcarpet": [
           {
            "colorbar": {
             "outlinewidth": 0,
             "ticks": ""
            },
            "type": "contourcarpet"
           }
          ],
          "heatmap": [
           {
            "colorbar": {
             "outlinewidth": 0,
             "ticks": ""
            },
            "colorscale": [
             [
              0,
              "#0d0887"
             ],
             [
              0.1111111111111111,
              "#46039f"
             ],
             [
              0.2222222222222222,
              "#7201a8"
             ],
             [
              0.3333333333333333,
              "#9c179e"
             ],
             [
              0.4444444444444444,
              "#bd3786"
             ],
             [
              0.5555555555555556,
              "#d8576b"
             ],
             [
              0.6666666666666666,
              "#ed7953"
             ],
             [
              0.7777777777777778,
              "#fb9f3a"
             ],
             [
              0.8888888888888888,
              "#fdca26"
             ],
             [
              1,
              "#f0f921"
             ]
            ],
            "type": "heatmap"
           }
          ],
          "heatmapgl": [
           {
            "colorbar": {
             "outlinewidth": 0,
             "ticks": ""
            },
            "colorscale": [
             [
              0,
              "#0d0887"
             ],
             [
              0.1111111111111111,
              "#46039f"
             ],
             [
              0.2222222222222222,
              "#7201a8"
             ],
             [
              0.3333333333333333,
              "#9c179e"
             ],
             [
              0.4444444444444444,
              "#bd3786"
             ],
             [
              0.5555555555555556,
              "#d8576b"
             ],
             [
              0.6666666666666666,
              "#ed7953"
             ],
             [
              0.7777777777777778,
              "#fb9f3a"
             ],
             [
              0.8888888888888888,
              "#fdca26"
             ],
             [
              1,
              "#f0f921"
             ]
            ],
            "type": "heatmapgl"
           }
          ],
          "histogram": [
           {
            "marker": {
             "pattern": {
              "fillmode": "overlay",
              "size": 10,
              "solidity": 0.2
             }
            },
            "type": "histogram"
           }
          ],
          "histogram2d": [
           {
            "colorbar": {
             "outlinewidth": 0,
             "ticks": ""
            },
            "colorscale": [
             [
              0,
              "#0d0887"
             ],
             [
              0.1111111111111111,
              "#46039f"
             ],
             [
              0.2222222222222222,
              "#7201a8"
             ],
             [
              0.3333333333333333,
              "#9c179e"
             ],
             [
              0.4444444444444444,
              "#bd3786"
             ],
             [
              0.5555555555555556,
              "#d8576b"
             ],
             [
              0.6666666666666666,
              "#ed7953"
             ],
             [
              0.7777777777777778,
              "#fb9f3a"
             ],
             [
              0.8888888888888888,
              "#fdca26"
             ],
             [
              1,
              "#f0f921"
             ]
            ],
            "type": "histogram2d"
           }
          ],
          "histogram2dcontour": [
           {
            "colorbar": {
             "outlinewidth": 0,
             "ticks": ""
            },
            "colorscale": [
             [
              0,
              "#0d0887"
             ],
             [
              0.1111111111111111,
              "#46039f"
             ],
             [
              0.2222222222222222,
              "#7201a8"
             ],
             [
              0.3333333333333333,
              "#9c179e"
             ],
             [
              0.4444444444444444,
              "#bd3786"
             ],
             [
              0.5555555555555556,
              "#d8576b"
             ],
             [
              0.6666666666666666,
              "#ed7953"
             ],
             [
              0.7777777777777778,
              "#fb9f3a"
             ],
             [
              0.8888888888888888,
              "#fdca26"
             ],
             [
              1,
              "#f0f921"
             ]
            ],
            "type": "histogram2dcontour"
           }
          ],
          "mesh3d": [
           {
            "colorbar": {
             "outlinewidth": 0,
             "ticks": ""
            },
            "type": "mesh3d"
           }
          ],
          "parcoords": [
           {
            "line": {
             "colorbar": {
              "outlinewidth": 0,
              "ticks": ""
             }
            },
            "type": "parcoords"
           }
          ],
          "pie": [
           {
            "automargin": true,
            "type": "pie"
           }
          ],
          "scatter": [
           {
            "fillpattern": {
             "fillmode": "overlay",
             "size": 10,
             "solidity": 0.2
            },
            "type": "scatter"
           }
          ],
          "scatter3d": [
           {
            "line": {
             "colorbar": {
              "outlinewidth": 0,
              "ticks": ""
             }
            },
            "marker": {
             "colorbar": {
              "outlinewidth": 0,
              "ticks": ""
             }
            },
            "type": "scatter3d"
           }
          ],
          "scattercarpet": [
           {
            "marker": {
             "colorbar": {
              "outlinewidth": 0,
              "ticks": ""
             }
            },
            "type": "scattercarpet"
           }
          ],
          "scattergeo": [
           {
            "marker": {
             "colorbar": {
              "outlinewidth": 0,
              "ticks": ""
             }
            },
            "type": "scattergeo"
           }
          ],
          "scattergl": [
           {
            "marker": {
             "colorbar": {
              "outlinewidth": 0,
              "ticks": ""
             }
            },
            "type": "scattergl"
           }
          ],
          "scattermapbox": [
           {
            "marker": {
             "colorbar": {
              "outlinewidth": 0,
              "ticks": ""
             }
            },
            "type": "scattermapbox"
           }
          ],
          "scatterpolar": [
           {
            "marker": {
             "colorbar": {
              "outlinewidth": 0,
              "ticks": ""
             }
            },
            "type": "scatterpolar"
           }
          ],
          "scatterpolargl": [
           {
            "marker": {
             "colorbar": {
              "outlinewidth": 0,
              "ticks": ""
             }
            },
            "type": "scatterpolargl"
           }
          ],
          "scatterternary": [
           {
            "marker": {
             "colorbar": {
              "outlinewidth": 0,
              "ticks": ""
             }
            },
            "type": "scatterternary"
           }
          ],
          "surface": [
           {
            "colorbar": {
             "outlinewidth": 0,
             "ticks": ""
            },
            "colorscale": [
             [
              0,
              "#0d0887"
             ],
             [
              0.1111111111111111,
              "#46039f"
             ],
             [
              0.2222222222222222,
              "#7201a8"
             ],
             [
              0.3333333333333333,
              "#9c179e"
             ],
             [
              0.4444444444444444,
              "#bd3786"
             ],
             [
              0.5555555555555556,
              "#d8576b"
             ],
             [
              0.6666666666666666,
              "#ed7953"
             ],
             [
              0.7777777777777778,
              "#fb9f3a"
             ],
             [
              0.8888888888888888,
              "#fdca26"
             ],
             [
              1,
              "#f0f921"
             ]
            ],
            "type": "surface"
           }
          ],
          "table": [
           {
            "cells": {
             "fill": {
              "color": "#EBF0F8"
             },
             "line": {
              "color": "white"
             }
            },
            "header": {
             "fill": {
              "color": "#C8D4E3"
             },
             "line": {
              "color": "white"
             }
            },
            "type": "table"
           }
          ]
         },
         "layout": {
          "annotationdefaults": {
           "arrowcolor": "#2a3f5f",
           "arrowhead": 0,
           "arrowwidth": 1
          },
          "autotypenumbers": "strict",
          "coloraxis": {
           "colorbar": {
            "outlinewidth": 0,
            "ticks": ""
           }
          },
          "colorscale": {
           "diverging": [
            [
             0,
             "#8e0152"
            ],
            [
             0.1,
             "#c51b7d"
            ],
            [
             0.2,
             "#de77ae"
            ],
            [
             0.3,
             "#f1b6da"
            ],
            [
             0.4,
             "#fde0ef"
            ],
            [
             0.5,
             "#f7f7f7"
            ],
            [
             0.6,
             "#e6f5d0"
            ],
            [
             0.7,
             "#b8e186"
            ],
            [
             0.8,
             "#7fbc41"
            ],
            [
             0.9,
             "#4d9221"
            ],
            [
             1,
             "#276419"
            ]
           ],
           "sequential": [
            [
             0,
             "#0d0887"
            ],
            [
             0.1111111111111111,
             "#46039f"
            ],
            [
             0.2222222222222222,
             "#7201a8"
            ],
            [
             0.3333333333333333,
             "#9c179e"
            ],
            [
             0.4444444444444444,
             "#bd3786"
            ],
            [
             0.5555555555555556,
             "#d8576b"
            ],
            [
             0.6666666666666666,
             "#ed7953"
            ],
            [
             0.7777777777777778,
             "#fb9f3a"
            ],
            [
             0.8888888888888888,
             "#fdca26"
            ],
            [
             1,
             "#f0f921"
            ]
           ],
           "sequentialminus": [
            [
             0,
             "#0d0887"
            ],
            [
             0.1111111111111111,
             "#46039f"
            ],
            [
             0.2222222222222222,
             "#7201a8"
            ],
            [
             0.3333333333333333,
             "#9c179e"
            ],
            [
             0.4444444444444444,
             "#bd3786"
            ],
            [
             0.5555555555555556,
             "#d8576b"
            ],
            [
             0.6666666666666666,
             "#ed7953"
            ],
            [
             0.7777777777777778,
             "#fb9f3a"
            ],
            [
             0.8888888888888888,
             "#fdca26"
            ],
            [
             1,
             "#f0f921"
            ]
           ]
          },
          "colorway": [
           "#636efa",
           "#EF553B",
           "#00cc96",
           "#ab63fa",
           "#FFA15A",
           "#19d3f3",
           "#FF6692",
           "#B6E880",
           "#FF97FF",
           "#FECB52"
          ],
          "font": {
           "color": "#2a3f5f"
          },
          "geo": {
           "bgcolor": "white",
           "lakecolor": "white",
           "landcolor": "#E5ECF6",
           "showlakes": true,
           "showland": true,
           "subunitcolor": "white"
          },
          "hoverlabel": {
           "align": "left"
          },
          "hovermode": "closest",
          "mapbox": {
           "style": "light"
          },
          "paper_bgcolor": "white",
          "plot_bgcolor": "#E5ECF6",
          "polar": {
           "angularaxis": {
            "gridcolor": "white",
            "linecolor": "white",
            "ticks": ""
           },
           "bgcolor": "#E5ECF6",
           "radialaxis": {
            "gridcolor": "white",
            "linecolor": "white",
            "ticks": ""
           }
          },
          "scene": {
           "xaxis": {
            "backgroundcolor": "#E5ECF6",
            "gridcolor": "white",
            "gridwidth": 2,
            "linecolor": "white",
            "showbackground": true,
            "ticks": "",
            "zerolinecolor": "white"
           },
           "yaxis": {
            "backgroundcolor": "#E5ECF6",
            "gridcolor": "white",
            "gridwidth": 2,
            "linecolor": "white",
            "showbackground": true,
            "ticks": "",
            "zerolinecolor": "white"
           },
           "zaxis": {
            "backgroundcolor": "#E5ECF6",
            "gridcolor": "white",
            "gridwidth": 2,
            "linecolor": "white",
            "showbackground": true,
            "ticks": "",
            "zerolinecolor": "white"
           }
          },
          "shapedefaults": {
           "line": {
            "color": "#2a3f5f"
           }
          },
          "ternary": {
           "aaxis": {
            "gridcolor": "white",
            "linecolor": "white",
            "ticks": ""
           },
           "baxis": {
            "gridcolor": "white",
            "linecolor": "white",
            "ticks": ""
           },
           "bgcolor": "#E5ECF6",
           "caxis": {
            "gridcolor": "white",
            "linecolor": "white",
            "ticks": ""
           }
          },
          "title": {
           "x": 0.05
          },
          "xaxis": {
           "automargin": true,
           "gridcolor": "white",
           "linecolor": "white",
           "ticks": "",
           "title": {
            "standoff": 15
           },
           "zerolinecolor": "white",
           "zerolinewidth": 2
          },
          "yaxis": {
           "automargin": true,
           "gridcolor": "white",
           "linecolor": "white",
           "ticks": "",
           "title": {
            "standoff": 15
           },
           "zerolinecolor": "white",
           "zerolinewidth": 2
          }
         }
        },
        "title": {
         "text": "Occurrences Per Day"
        },
        "xaxis": {
         "anchor": "y",
         "domain": [
          0,
          1
         ],
         "tickformat": "%Y-%m-%d",
         "title": {
          "text": "Date"
         }
        },
        "yaxis": {
         "anchor": "x",
         "autorange": "reversed",
         "domain": [
          0,
          1
         ],
         "tickvals": [
          0,
          1,
          2,
          3,
          4,
          5,
          6,
          7,
          8,
          9,
          10,
          11,
          12,
          13,
          14,
          15,
          16,
          17,
          18,
          19,
          20,
          21,
          22,
          23,
          24
         ],
         "title": {
          "text": "Hour of the Day"
         }
        }
       }
      }
     },
     "metadata": {},
     "output_type": "display_data"
    }
   ],
   "source": [
    "fig = px.scatter(data, x='date', y='hour_minute', color='activity', title='Occurrences Per Day',\n",
    "                 labels={'date': 'Date', 'hour_minute': 'Hour of the Day'}, height=800, size_max=10)\n",
    "\n",
    "fig.update_xaxes(tickformat=\"%Y-%m-%d\")\n",
    "fig.update_yaxes(tickvals=list(range(0, 25)), autorange=\"reversed\")\n",
    "fig.update_layout(grid=dict(rows=1, columns=1, pattern=\"independent\"))\n",
    "\n",
    "fig.show()"
   ]
  },
  {
   "cell_type": "code",
   "execution_count": 36,
   "metadata": {},
   "outputs": [
    {
     "name": "stderr",
     "output_type": "stream",
     "text": [
      "/var/folders/bb/5xjn46cj43b1fstx6lm5mj740000gn/T/ipykernel_77232/503266500.py:10: SettingWithCopyWarning:\n",
      "\n",
      "\n",
      "A value is trying to be set on a copy of a slice from a DataFrame.\n",
      "Try using .loc[row_indexer,col_indexer] = value instead\n",
      "\n",
      "See the caveats in the documentation: https://pandas.pydata.org/pandas-docs/stable/user_guide/indexing.html#returning-a-view-versus-a-copy\n",
      "\n"
     ]
    },
    {
     "data": {
      "application/vnd.plotly.v1+json": {
       "config": {
        "plotlyServerURL": "https://plot.ly"
       },
       "data": [
        {
         "hovertemplate": "observation=Other<br>Date=%{x}<br>Hour of the Day=%{y}<extra></extra>",
         "legendgroup": "Other",
         "marker": {
          "color": "#636efa",
          "symbol": "circle"
         },
         "mode": "markers",
         "name": "Other",
         "showlegend": true,
         "type": "scattergl",
         "x": [
          "2024-06-24",
          "2024-06-24",
          "2024-06-24",
          "2024-06-24",
          "2024-06-24",
          "2024-06-24",
          "2024-06-24",
          "2024-06-24",
          "2024-06-24",
          "2024-06-24",
          "2024-06-24",
          "2024-06-24",
          "2024-06-24",
          "2024-06-24",
          "2024-06-24",
          "2024-06-24",
          "2024-06-24",
          "2024-06-24",
          "2024-06-24",
          "2024-06-24",
          "2024-06-24",
          "2024-06-24",
          "2024-06-24",
          "2024-06-24",
          "2024-06-24",
          "2024-06-24",
          "2024-06-24",
          "2024-06-24",
          "2024-06-24",
          "2024-06-24",
          "2024-06-24",
          "2024-06-24",
          "2024-06-24",
          "2024-06-24",
          "2024-06-24",
          "2024-06-24",
          "2024-06-24",
          "2024-06-24",
          "2024-06-24",
          "2024-06-24",
          "2024-06-24",
          "2024-06-24",
          "2024-06-24",
          "2024-06-24",
          "2024-06-24",
          "2024-06-24",
          "2024-06-24",
          "2024-06-24",
          "2024-06-24",
          "2024-06-24",
          "2024-06-24",
          "2024-06-24",
          "2024-06-24",
          "2024-06-24",
          "2024-06-24",
          "2024-06-24",
          "2024-06-24",
          "2024-06-24",
          "2024-06-24",
          "2024-06-24",
          "2024-06-24",
          "2024-06-24",
          "2024-06-24",
          "2024-06-24",
          "2024-06-24",
          "2024-06-24",
          "2024-06-24",
          "2024-06-24",
          "2024-06-24",
          "2024-06-24",
          "2024-06-24",
          "2024-06-24",
          "2024-06-24",
          "2024-06-24",
          "2024-06-24",
          "2024-06-24",
          "2024-06-24",
          "2024-06-24",
          "2024-06-24",
          "2024-06-24",
          "2024-06-24",
          "2024-06-24",
          "2024-06-24",
          "2024-06-24",
          "2024-06-24",
          "2024-06-24",
          "2024-06-24",
          "2024-06-24",
          "2024-06-24",
          "2024-06-24",
          "2024-06-24",
          "2024-06-24",
          "2024-06-24",
          "2024-06-24",
          "2024-06-24",
          "2024-06-24",
          "2024-06-24",
          "2024-06-24",
          "2024-06-24",
          "2024-06-24",
          "2024-06-24",
          "2024-06-24",
          "2024-06-24",
          "2024-06-24",
          "2024-06-24",
          "2024-06-24",
          "2024-06-24",
          "2024-06-24",
          "2024-06-24",
          "2024-06-24",
          "2024-06-24",
          "2024-06-24",
          "2024-06-24",
          "2024-06-24",
          "2024-06-24",
          "2024-06-24",
          "2024-06-24",
          "2024-06-24",
          "2024-06-24",
          "2024-06-24",
          "2024-06-24",
          "2024-06-24",
          "2024-06-24",
          "2024-06-24",
          "2024-06-24",
          "2024-06-24",
          "2024-06-24",
          "2024-06-24",
          "2024-06-24",
          "2024-06-24",
          "2024-06-24",
          "2024-06-24",
          "2024-06-24",
          "2024-06-24",
          "2024-06-24",
          "2024-06-24",
          "2024-06-24",
          "2024-06-24",
          "2024-06-24",
          "2024-06-24",
          "2024-06-24",
          "2024-06-24",
          "2024-06-24",
          "2024-06-24",
          "2024-06-24",
          "2024-06-24",
          "2024-06-24",
          "2024-06-24",
          "2024-06-24",
          "2024-06-24",
          "2024-06-24",
          "2024-06-24",
          "2024-06-24",
          "2024-06-24",
          "2024-06-24",
          "2024-06-24",
          "2024-06-24",
          "2024-06-24",
          "2024-06-24",
          "2024-06-24",
          "2024-06-24",
          "2024-06-24",
          "2024-06-24",
          "2024-06-24",
          "2024-06-24",
          "2024-06-24",
          "2024-06-24",
          "2024-06-24",
          "2024-06-24",
          "2024-06-24",
          "2024-06-24",
          "2024-06-24",
          "2024-06-24",
          "2024-06-24",
          "2024-06-24",
          "2024-06-24",
          "2024-06-24",
          "2024-06-24",
          "2024-06-24",
          "2024-06-24",
          "2024-06-24",
          "2024-06-24",
          "2024-06-24",
          "2024-06-24",
          "2024-06-24",
          "2024-06-24",
          "2024-06-24",
          "2024-06-24",
          "2024-06-24",
          "2024-06-24",
          "2024-06-24",
          "2024-06-24",
          "2024-06-24",
          "2024-06-24",
          "2024-06-24",
          "2024-06-24",
          "2024-06-24",
          "2024-06-24",
          "2024-06-24",
          "2024-06-24",
          "2024-06-24",
          "2024-06-24",
          "2024-06-24",
          "2024-06-24",
          "2024-06-24",
          "2024-06-24",
          "2024-06-24",
          "2024-06-24",
          "2024-06-24",
          "2024-06-24",
          "2024-06-24",
          "2024-06-24",
          "2024-06-24",
          "2024-06-24",
          "2024-06-24",
          "2024-06-24",
          "2024-06-24",
          "2024-06-24",
          "2024-06-24",
          "2024-06-24",
          "2024-06-24",
          "2024-06-24",
          "2024-06-24",
          "2024-06-24",
          "2024-06-24",
          "2024-06-24",
          "2024-06-24",
          "2024-06-24",
          "2024-06-24",
          "2024-06-24",
          "2024-06-24",
          "2024-06-24",
          "2024-06-24",
          "2024-06-24",
          "2024-06-24",
          "2024-06-24",
          "2024-06-24",
          "2024-06-24",
          "2024-06-24",
          "2024-06-24",
          "2024-06-24",
          "2024-06-24",
          "2024-06-24",
          "2024-06-24",
          "2024-06-24",
          "2024-06-24",
          "2024-06-24",
          "2024-06-24",
          "2024-06-24",
          "2024-06-24",
          "2024-06-24",
          "2024-06-24",
          "2024-06-24",
          "2024-06-24",
          "2024-06-24",
          "2024-06-24",
          "2024-06-24",
          "2024-06-24",
          "2024-06-24",
          "2024-06-24",
          "2024-06-24",
          "2024-06-24",
          "2024-06-24",
          "2024-06-24",
          "2024-06-24",
          "2024-06-24",
          "2024-06-24",
          "2024-06-24",
          "2024-06-24",
          "2024-06-24",
          "2024-06-24",
          "2024-06-24",
          "2024-06-24",
          "2024-06-24",
          "2024-06-24",
          "2024-06-24",
          "2024-06-24",
          "2024-06-24",
          "2024-06-24",
          "2024-06-24",
          "2024-06-24",
          "2024-06-24",
          "2024-06-24",
          "2024-06-24",
          "2024-06-24",
          "2024-06-24",
          "2024-06-24",
          "2024-06-24",
          "2024-06-24",
          "2024-06-24",
          "2024-06-24",
          "2024-06-24",
          "2024-06-24",
          "2024-06-24",
          "2024-06-24",
          "2024-06-24",
          "2024-06-24",
          "2024-06-24",
          "2024-06-24",
          "2024-06-24",
          "2024-06-24",
          "2024-06-24",
          "2024-06-24",
          "2024-06-24",
          "2024-06-24",
          "2024-06-24",
          "2024-06-24",
          "2024-06-24",
          "2024-06-24",
          "2024-06-24",
          "2024-06-24",
          "2024-06-24",
          "2024-06-24",
          "2024-06-24",
          "2024-06-24",
          "2024-06-24",
          "2024-06-24",
          "2024-06-24",
          "2024-06-24",
          "2024-06-24",
          "2024-06-24",
          "2024-06-24",
          "2024-06-24",
          "2024-06-24",
          "2024-06-24",
          "2024-06-24",
          "2024-06-24",
          "2024-06-24",
          "2024-06-24",
          "2024-06-24",
          "2024-06-24",
          "2024-06-24",
          "2024-06-24",
          "2024-06-24",
          "2024-06-24",
          "2024-06-24",
          "2024-06-24",
          "2024-06-24",
          "2024-06-24",
          "2024-06-24",
          "2024-06-24",
          "2024-06-24",
          "2024-06-24",
          "2024-06-24",
          "2024-06-24",
          "2024-06-24",
          "2024-06-24",
          "2024-06-24",
          "2024-06-24",
          "2024-06-24",
          "2024-06-24",
          "2024-06-24",
          "2024-06-24",
          "2024-06-24",
          "2024-06-24",
          "2024-06-24",
          "2024-06-24",
          "2024-06-24",
          "2024-06-24",
          "2024-06-24",
          "2024-06-24",
          "2024-06-24",
          "2024-06-24",
          "2024-06-24",
          "2024-06-24",
          "2024-06-24",
          "2024-06-24",
          "2024-06-24",
          "2024-06-24",
          "2024-06-24",
          "2024-06-24",
          "2024-06-24",
          "2024-06-24",
          "2024-06-24",
          "2024-06-24",
          "2024-06-24",
          "2024-06-24",
          "2024-06-24",
          "2024-06-24",
          "2024-06-24",
          "2024-06-24",
          "2024-06-24",
          "2024-06-24",
          "2024-06-24",
          "2024-06-24",
          "2024-06-24",
          "2024-06-24",
          "2024-06-24",
          "2024-06-24",
          "2024-06-24",
          "2024-06-24",
          "2024-06-24",
          "2024-06-24",
          "2024-06-24",
          "2024-06-24",
          "2024-06-24",
          "2024-06-24",
          "2024-06-24",
          "2024-06-24",
          "2024-06-24",
          "2024-06-25",
          "2024-06-25",
          "2024-06-25",
          "2024-06-25",
          "2024-06-25",
          "2024-06-25",
          "2024-06-25",
          "2024-06-25",
          "2024-06-25",
          "2024-06-25",
          "2024-06-25",
          "2024-06-25",
          "2024-06-25",
          "2024-06-25",
          "2024-06-25",
          "2024-06-25",
          "2024-06-25",
          "2024-06-25",
          "2024-06-25",
          "2024-06-25",
          "2024-06-25",
          "2024-06-25",
          "2024-06-25",
          "2024-06-25",
          "2024-06-25",
          "2024-06-25",
          "2024-06-25",
          "2024-06-25",
          "2024-06-25",
          "2024-06-25",
          "2024-06-25",
          "2024-06-25",
          "2024-06-25",
          "2024-06-25",
          "2024-06-25",
          "2024-06-25",
          "2024-06-25",
          "2024-06-25",
          "2024-06-25",
          "2024-06-25",
          "2024-06-25",
          "2024-06-25",
          "2024-06-25",
          "2024-06-25",
          "2024-06-25",
          "2024-06-25",
          "2024-06-25",
          "2024-06-25",
          "2024-06-25",
          "2024-06-25",
          "2024-06-25",
          "2024-06-25",
          "2024-06-25",
          "2024-06-25",
          "2024-06-25",
          "2024-06-25",
          "2024-06-25",
          "2024-06-25",
          "2024-06-25",
          "2024-06-25",
          "2024-06-25",
          "2024-06-25",
          "2024-06-25",
          "2024-06-25",
          "2024-06-25",
          "2024-06-25",
          "2024-06-25",
          "2024-06-25",
          "2024-06-25",
          "2024-06-25",
          "2024-06-25",
          "2024-06-25",
          "2024-06-25",
          "2024-06-25",
          "2024-06-25",
          "2024-06-25",
          "2024-06-25",
          "2024-06-25",
          "2024-06-25",
          "2024-06-25",
          "2024-06-25",
          "2024-06-25",
          "2024-06-25",
          "2024-06-25",
          "2024-06-25",
          "2024-06-25",
          "2024-06-25",
          "2024-06-25",
          "2024-06-25",
          "2024-06-25",
          "2024-06-25",
          "2024-06-25",
          "2024-06-25",
          "2024-06-25",
          "2024-06-25",
          "2024-06-25",
          "2024-06-25",
          "2024-06-25",
          "2024-06-25",
          "2024-06-25",
          "2024-06-25",
          "2024-06-25",
          "2024-06-25",
          "2024-06-25",
          "2024-06-25",
          "2024-06-25",
          "2024-06-25",
          "2024-06-25",
          "2024-06-25",
          "2024-06-25",
          "2024-06-25",
          "2024-06-25",
          "2024-06-25",
          "2024-06-25",
          "2024-06-25",
          "2024-06-25",
          "2024-06-25",
          "2024-06-25",
          "2024-06-25",
          "2024-06-25",
          "2024-06-25",
          "2024-06-25",
          "2024-06-25",
          "2024-06-25",
          "2024-06-25",
          "2024-06-25",
          "2024-06-25",
          "2024-06-25",
          "2024-06-25",
          "2024-06-25",
          "2024-06-25",
          "2024-06-25",
          "2024-06-25",
          "2024-06-25",
          "2024-06-25",
          "2024-06-25",
          "2024-06-25",
          "2024-06-25",
          "2024-06-25",
          "2024-06-25",
          "2024-06-25",
          "2024-06-25",
          "2024-06-25",
          "2024-06-25",
          "2024-06-25",
          "2024-06-25",
          "2024-06-25",
          "2024-06-25",
          "2024-06-25",
          "2024-06-25",
          "2024-06-25",
          "2024-06-25",
          "2024-06-25",
          "2024-06-25",
          "2024-06-25",
          "2024-06-25",
          "2024-06-25",
          "2024-06-25",
          "2024-06-25",
          "2024-06-25",
          "2024-06-25",
          "2024-06-25",
          "2024-06-25",
          "2024-06-25",
          "2024-06-25",
          "2024-06-25",
          "2024-06-25",
          "2024-06-25",
          "2024-06-25",
          "2024-06-25",
          "2024-06-25",
          "2024-06-25",
          "2024-06-25",
          "2024-06-25",
          "2024-06-25",
          "2024-06-25",
          "2024-06-25",
          "2024-06-25",
          "2024-06-25",
          "2024-06-25",
          "2024-06-25",
          "2024-06-25",
          "2024-06-25",
          "2024-06-25",
          "2024-06-25",
          "2024-06-25",
          "2024-06-25",
          "2024-06-25",
          "2024-06-25",
          "2024-06-25",
          "2024-06-25",
          "2024-06-25",
          "2024-06-25",
          "2024-06-25",
          "2024-06-25",
          "2024-06-25",
          "2024-06-25",
          "2024-06-25",
          "2024-06-25",
          "2024-06-25",
          "2024-06-25",
          "2024-06-25",
          "2024-06-25",
          "2024-06-25",
          "2024-06-25",
          "2024-06-25",
          "2024-06-25",
          "2024-06-25",
          "2024-06-25",
          "2024-06-25",
          "2024-06-25",
          "2024-06-25",
          "2024-06-25",
          "2024-06-25",
          "2024-06-25",
          "2024-06-25",
          "2024-06-25",
          "2024-06-25",
          "2024-06-25",
          "2024-06-25",
          "2024-06-25",
          "2024-06-25",
          "2024-06-25",
          "2024-06-25",
          "2024-06-25",
          "2024-06-25",
          "2024-06-25",
          "2024-06-25",
          "2024-06-25",
          "2024-06-25",
          "2024-06-25",
          "2024-06-25",
          "2024-06-25",
          "2024-06-25",
          "2024-06-25",
          "2024-06-25",
          "2024-06-25",
          "2024-06-25",
          "2024-06-25",
          "2024-06-25",
          "2024-06-25",
          "2024-06-25",
          "2024-06-25",
          "2024-06-25",
          "2024-06-25",
          "2024-06-25",
          "2024-06-25",
          "2024-06-25",
          "2024-06-25",
          "2024-06-25",
          "2024-06-25",
          "2024-06-25",
          "2024-06-25",
          "2024-06-25",
          "2024-06-25",
          "2024-06-25",
          "2024-06-25",
          "2024-06-25",
          "2024-06-25",
          "2024-06-25",
          "2024-06-25",
          "2024-06-25",
          "2024-06-25",
          "2024-06-25",
          "2024-06-25",
          "2024-06-25",
          "2024-06-25",
          "2024-06-25",
          "2024-06-25",
          "2024-06-25",
          "2024-06-25",
          "2024-06-25",
          "2024-06-25",
          "2024-06-25",
          "2024-06-25",
          "2024-06-25",
          "2024-06-25",
          "2024-06-25",
          "2024-06-25",
          "2024-06-25",
          "2024-06-25",
          "2024-06-25",
          "2024-06-25",
          "2024-06-25",
          "2024-06-25",
          "2024-06-25",
          "2024-06-25",
          "2024-06-25",
          "2024-06-25",
          "2024-06-25",
          "2024-06-25",
          "2024-06-25",
          "2024-06-25",
          "2024-06-25",
          "2024-06-25",
          "2024-06-25",
          "2024-06-25",
          "2024-06-25",
          "2024-06-25",
          "2024-06-25",
          "2024-06-25",
          "2024-06-25",
          "2024-06-25",
          "2024-06-25",
          "2024-06-25",
          "2024-06-25",
          "2024-06-25",
          "2024-06-25",
          "2024-06-25",
          "2024-06-25",
          "2024-06-25",
          "2024-06-25",
          "2024-06-25",
          "2024-06-25",
          "2024-06-25",
          "2024-06-25",
          "2024-06-25",
          "2024-06-25",
          "2024-06-25",
          "2024-06-25",
          "2024-06-25",
          "2024-06-25",
          "2024-06-25",
          "2024-06-25",
          "2024-06-25",
          "2024-06-25",
          "2024-06-25",
          "2024-06-25",
          "2024-06-25",
          "2024-06-25",
          "2024-06-25",
          "2024-06-25",
          "2024-06-25",
          "2024-06-25",
          "2024-06-25",
          "2024-06-25",
          "2024-06-25",
          "2024-06-25",
          "2024-06-25",
          "2024-06-25",
          "2024-06-25",
          "2024-06-25",
          "2024-06-25",
          "2024-06-25",
          "2024-06-25",
          "2024-06-25",
          "2024-06-25",
          "2024-06-25",
          "2024-06-25",
          "2024-06-25",
          "2024-06-25",
          "2024-06-25",
          "2024-06-25",
          "2024-06-25",
          "2024-06-25",
          "2024-06-25",
          "2024-06-25",
          "2024-06-25",
          "2024-06-25",
          "2024-06-25",
          "2024-06-25",
          "2024-06-25",
          "2024-06-25",
          "2024-06-25",
          "2024-06-25",
          "2024-06-25",
          "2024-06-25",
          "2024-06-25",
          "2024-06-25",
          "2024-06-25",
          "2024-06-25",
          "2024-06-25",
          "2024-06-25",
          "2024-06-25",
          "2024-06-25",
          "2024-06-25",
          "2024-06-25",
          "2024-06-25",
          "2024-06-25",
          "2024-06-25",
          "2024-06-25",
          "2024-06-25",
          "2024-06-25",
          "2024-06-25",
          "2024-06-25",
          "2024-06-25",
          "2024-06-25",
          "2024-06-25",
          "2024-06-25",
          "2024-06-25",
          "2024-06-25",
          "2024-06-25",
          "2024-06-25",
          "2024-06-25",
          "2024-06-25",
          "2024-06-25",
          "2024-06-25",
          "2024-06-25",
          "2024-06-25",
          "2024-06-25",
          "2024-06-25",
          "2024-06-25",
          "2024-06-25",
          "2024-06-25",
          "2024-06-25",
          "2024-06-25",
          "2024-06-25",
          "2024-06-25",
          "2024-06-25",
          "2024-06-25",
          "2024-06-25",
          "2024-06-25",
          "2024-06-25",
          "2024-06-25",
          "2024-06-25",
          "2024-06-25",
          "2024-06-25",
          "2024-06-25",
          "2024-06-25",
          "2024-06-25",
          "2024-06-25",
          "2024-06-25",
          "2024-06-25",
          "2024-06-25",
          "2024-06-25",
          "2024-06-25",
          "2024-06-25",
          "2024-06-25",
          "2024-06-25",
          "2024-06-25",
          "2024-06-25",
          "2024-06-25",
          "2024-06-25",
          "2024-06-25",
          "2024-06-25",
          "2024-06-25",
          "2024-06-25",
          "2024-06-25",
          "2024-06-25",
          "2024-06-25",
          "2024-06-25",
          "2024-06-25",
          "2024-06-25",
          "2024-06-25",
          "2024-06-25",
          "2024-06-25",
          "2024-06-25",
          "2024-06-25",
          "2024-06-25",
          "2024-06-25",
          "2024-06-25",
          "2024-06-25",
          "2024-06-25",
          "2024-06-25",
          "2024-06-25",
          "2024-06-25",
          "2024-06-25",
          "2024-06-25",
          "2024-06-25",
          "2024-06-25",
          "2024-06-25",
          "2024-06-25",
          "2024-06-25",
          "2024-06-25",
          "2024-06-25",
          "2024-06-25",
          "2024-06-25",
          "2024-06-25",
          "2024-06-25",
          "2024-06-25",
          "2024-06-25",
          "2024-06-25",
          "2024-06-25",
          "2024-06-25",
          "2024-06-25",
          "2024-06-25",
          "2024-06-25",
          "2024-06-25",
          "2024-06-25",
          "2024-06-25",
          "2024-06-25",
          "2024-06-25",
          "2024-06-25",
          "2024-06-25",
          "2024-06-25",
          "2024-06-25",
          "2024-06-25",
          "2024-06-25",
          "2024-06-25",
          "2024-06-25",
          "2024-06-25",
          "2024-06-25",
          "2024-06-25",
          "2024-06-25",
          "2024-06-25",
          "2024-06-25",
          "2024-06-25",
          "2024-06-25",
          "2024-06-25",
          "2024-06-25",
          "2024-06-25",
          "2024-06-25",
          "2024-06-25",
          "2024-06-25",
          "2024-06-25",
          "2024-06-25",
          "2024-06-25",
          "2024-06-25",
          "2024-06-25",
          "2024-06-25",
          "2024-06-25",
          "2024-06-25",
          "2024-06-25",
          "2024-06-25",
          "2024-06-25",
          "2024-06-25",
          "2024-06-25",
          "2024-06-25",
          "2024-06-25",
          "2024-06-25",
          "2024-06-25",
          "2024-06-25",
          "2024-06-25",
          "2024-06-25",
          "2024-06-25",
          "2024-06-25",
          "2024-06-25",
          "2024-06-25",
          "2024-06-25",
          "2024-06-25",
          "2024-06-25",
          "2024-06-25",
          "2024-06-25",
          "2024-06-25",
          "2024-06-25",
          "2024-06-25",
          "2024-06-25",
          "2024-06-25",
          "2024-06-25",
          "2024-06-25",
          "2024-06-25",
          "2024-06-25",
          "2024-06-25",
          "2024-06-25",
          "2024-06-25",
          "2024-06-25",
          "2024-06-25",
          "2024-06-25",
          "2024-06-25",
          "2024-06-25",
          "2024-06-25",
          "2024-06-25",
          "2024-06-25",
          "2024-06-25",
          "2024-06-25",
          "2024-06-25",
          "2024-06-25",
          "2024-06-25",
          "2024-06-25",
          "2024-06-25",
          "2024-06-25",
          "2024-06-25",
          "2024-06-25",
          "2024-06-25",
          "2024-06-25",
          "2024-06-25",
          "2024-06-25",
          "2024-06-25",
          "2024-06-25",
          "2024-06-25",
          "2024-06-25",
          "2024-06-25",
          "2024-06-25",
          "2024-06-25",
          "2024-06-25",
          "2024-06-25",
          "2024-06-25",
          "2024-06-25",
          "2024-06-25",
          "2024-06-25",
          "2024-06-25",
          "2024-06-25",
          "2024-06-25",
          "2024-06-25",
          "2024-06-25",
          "2024-06-25",
          "2024-06-25",
          "2024-06-25",
          "2024-06-25",
          "2024-06-25",
          "2024-06-25",
          "2024-06-25",
          "2024-06-25",
          "2024-06-25",
          "2024-06-25",
          "2024-06-25",
          "2024-06-25",
          "2024-06-25",
          "2024-06-25",
          "2024-06-25",
          "2024-06-25",
          "2024-06-25",
          "2024-06-25",
          "2024-06-25",
          "2024-06-25",
          "2024-06-25",
          "2024-06-25",
          "2024-06-25",
          "2024-06-25",
          "2024-06-25",
          "2024-06-25",
          "2024-06-25",
          "2024-06-25",
          "2024-06-25",
          "2024-06-25",
          "2024-06-25",
          "2024-06-25",
          "2024-06-25",
          "2024-06-25",
          "2024-06-25",
          "2024-06-25",
          "2024-06-25",
          "2024-06-25",
          "2024-06-25",
          "2024-06-25",
          "2024-06-25",
          "2024-06-25",
          "2024-06-25",
          "2024-06-25",
          "2024-06-25",
          "2024-06-25",
          "2024-06-25",
          "2024-06-25",
          "2024-06-25",
          "2024-06-25",
          "2024-06-25",
          "2024-06-25",
          "2024-06-25",
          "2024-06-25",
          "2024-06-25",
          "2024-06-25",
          "2024-06-25",
          "2024-06-25",
          "2024-06-25",
          "2024-06-25",
          "2024-06-25",
          "2024-06-25",
          "2024-06-25",
          "2024-06-25",
          "2024-06-25",
          "2024-06-25",
          "2024-06-25",
          "2024-06-25",
          "2024-06-25",
          "2024-06-25",
          "2024-06-25",
          "2024-06-25",
          "2024-06-25",
          "2024-06-25",
          "2024-06-25",
          "2024-06-25",
          "2024-06-25",
          "2024-06-25",
          "2024-06-25",
          "2024-06-25",
          "2024-06-25",
          "2024-06-25",
          "2024-06-25",
          "2024-06-25",
          "2024-06-25",
          "2024-06-25",
          "2024-06-25",
          "2024-06-25",
          "2024-06-25",
          "2024-06-25",
          "2024-06-25",
          "2024-06-25",
          "2024-06-25",
          "2024-06-25",
          "2024-06-25",
          "2024-06-25",
          "2024-06-25",
          "2024-06-25",
          "2024-06-25",
          "2024-06-25",
          "2024-06-25",
          "2024-06-26",
          "2024-06-26",
          "2024-06-26",
          "2024-06-26",
          "2024-06-26",
          "2024-06-26",
          "2024-06-26",
          "2024-06-26",
          "2024-06-26",
          "2024-06-26",
          "2024-06-26",
          "2024-06-26",
          "2024-06-26",
          "2024-06-26",
          "2024-06-26",
          "2024-06-26",
          "2024-06-26",
          "2024-06-26",
          "2024-06-26",
          "2024-06-26",
          "2024-06-26",
          "2024-06-26",
          "2024-06-26",
          "2024-06-26",
          "2024-06-26",
          "2024-06-26",
          "2024-06-26",
          "2024-06-26",
          "2024-06-26",
          "2024-06-26",
          "2024-06-26",
          "2024-06-26",
          "2024-06-26",
          "2024-06-26",
          "2024-06-26",
          "2024-06-26",
          "2024-06-26",
          "2024-06-26",
          "2024-06-26",
          "2024-06-26",
          "2024-06-26",
          "2024-06-26",
          "2024-06-26",
          "2024-06-26",
          "2024-06-26",
          "2024-06-26",
          "2024-06-26",
          "2024-06-26",
          "2024-06-26",
          "2024-06-26",
          "2024-06-26",
          "2024-06-26",
          "2024-06-26",
          "2024-06-26",
          "2024-06-26",
          "2024-06-26",
          "2024-06-26",
          "2024-06-26",
          "2024-06-26",
          "2024-06-26",
          "2024-06-26",
          "2024-06-26",
          "2024-06-26",
          "2024-06-26",
          "2024-06-26",
          "2024-06-26",
          "2024-06-26",
          "2024-06-26",
          "2024-06-26",
          "2024-06-26",
          "2024-06-26",
          "2024-06-26",
          "2024-06-26",
          "2024-06-26",
          "2024-06-26",
          "2024-06-26",
          "2024-06-26",
          "2024-06-26",
          "2024-06-26",
          "2024-06-26",
          "2024-06-26",
          "2024-06-26",
          "2024-06-26",
          "2024-06-26",
          "2024-06-26",
          "2024-06-26",
          "2024-06-26",
          "2024-06-26",
          "2024-06-26",
          "2024-06-26",
          "2024-06-26",
          "2024-06-26",
          "2024-06-26",
          "2024-06-26",
          "2024-06-26",
          "2024-06-26",
          "2024-06-26",
          "2024-06-26",
          "2024-06-26",
          "2024-06-26",
          "2024-06-26",
          "2024-06-26",
          "2024-06-26",
          "2024-06-26",
          "2024-06-26",
          "2024-06-26",
          "2024-06-26",
          "2024-06-26",
          "2024-06-26",
          "2024-06-26",
          "2024-06-26",
          "2024-06-26",
          "2024-06-26",
          "2024-06-26",
          "2024-06-26",
          "2024-06-26",
          "2024-06-26",
          "2024-06-26",
          "2024-06-26",
          "2024-06-26",
          "2024-06-26",
          "2024-06-26",
          "2024-06-26",
          "2024-06-26",
          "2024-06-26",
          "2024-06-26",
          "2024-06-26",
          "2024-06-26",
          "2024-06-26",
          "2024-06-26",
          "2024-06-26",
          "2024-06-26",
          "2024-06-26",
          "2024-06-26",
          "2024-06-26",
          "2024-06-26",
          "2024-06-26",
          "2024-06-26",
          "2024-06-26",
          "2024-06-26",
          "2024-06-26",
          "2024-06-26",
          "2024-06-26",
          "2024-06-26",
          "2024-06-26",
          "2024-06-26",
          "2024-06-26",
          "2024-06-26",
          "2024-06-26",
          "2024-06-26",
          "2024-06-26",
          "2024-06-26",
          "2024-06-26",
          "2024-06-26",
          "2024-06-26",
          "2024-06-26",
          "2024-06-26",
          "2024-06-26",
          "2024-06-26",
          "2024-06-26",
          "2024-06-26",
          "2024-06-26",
          "2024-06-26",
          "2024-06-26",
          "2024-06-26",
          "2024-06-26",
          "2024-06-26",
          "2024-06-26",
          "2024-06-26",
          "2024-06-26",
          "2024-06-26",
          "2024-06-26",
          "2024-06-26",
          "2024-06-26",
          "2024-06-26",
          "2024-06-26",
          "2024-06-26",
          "2024-06-27",
          "2024-06-27",
          "2024-06-27",
          "2024-06-27",
          "2024-06-27",
          "2024-06-27",
          "2024-06-27",
          "2024-06-27",
          "2024-06-27",
          "2024-06-27",
          "2024-06-27",
          "2024-06-27",
          "2024-06-27",
          "2024-06-27",
          "2024-06-27",
          "2024-06-27",
          "2024-06-27",
          "2024-06-27",
          "2024-06-27",
          "2024-06-27",
          "2024-06-27",
          "2024-06-27",
          "2024-06-27",
          "2024-06-27",
          "2024-06-27",
          "2024-06-27",
          "2024-06-27",
          "2024-06-27",
          "2024-06-27",
          "2024-06-27",
          "2024-06-27",
          "2024-06-27",
          "2024-06-27",
          "2024-06-27",
          "2024-06-27",
          "2024-06-27",
          "2024-06-27",
          "2024-06-27",
          "2024-06-27",
          "2024-06-27",
          "2024-06-27",
          "2024-06-27",
          "2024-06-27",
          "2024-06-27",
          "2024-06-27",
          "2024-06-27",
          "2024-06-27",
          "2024-06-27",
          "2024-06-27",
          "2024-06-27",
          "2024-06-27",
          "2024-06-27",
          "2024-06-27",
          "2024-06-27",
          "2024-06-27",
          "2024-06-27",
          "2024-06-27",
          "2024-06-27",
          "2024-06-27",
          "2024-06-27",
          "2024-06-27",
          "2024-06-27",
          "2024-06-27",
          "2024-06-27",
          "2024-06-27",
          "2024-06-27",
          "2024-06-27",
          "2024-06-27",
          "2024-06-27",
          "2024-06-27",
          "2024-06-27",
          "2024-06-27",
          "2024-06-27",
          "2024-06-27",
          "2024-06-27",
          "2024-06-27",
          "2024-06-27",
          "2024-06-27",
          "2024-06-27",
          "2024-06-27",
          "2024-06-27",
          "2024-06-27",
          "2024-06-27",
          "2024-06-27",
          "2024-06-27",
          "2024-06-27",
          "2024-06-27",
          "2024-06-27",
          "2024-06-27",
          "2024-06-27",
          "2024-06-27",
          "2024-06-27",
          "2024-06-27",
          "2024-06-27",
          "2024-06-27",
          "2024-06-27",
          "2024-06-27",
          "2024-06-27",
          "2024-06-27",
          "2024-06-27",
          "2024-06-27",
          "2024-06-27",
          "2024-06-27",
          "2024-06-27",
          "2024-06-27",
          "2024-06-27",
          "2024-06-27",
          "2024-06-27",
          "2024-06-27",
          "2024-06-27",
          "2024-06-27",
          "2024-06-27",
          "2024-06-27",
          "2024-06-27",
          "2024-06-27",
          "2024-06-27",
          "2024-06-27",
          "2024-06-27",
          "2024-06-27",
          "2024-06-27",
          "2024-06-27",
          "2024-06-27",
          "2024-06-27",
          "2024-06-27",
          "2024-06-27",
          "2024-06-27",
          "2024-06-27",
          "2024-06-27",
          "2024-06-27",
          "2024-06-27",
          "2024-06-27",
          "2024-06-27",
          "2024-06-27",
          "2024-06-27",
          "2024-06-27",
          "2024-06-27",
          "2024-06-27",
          "2024-06-27",
          "2024-06-27",
          "2024-06-27",
          "2024-06-27",
          "2024-06-27",
          "2024-06-27",
          "2024-06-27",
          "2024-06-27",
          "2024-06-27",
          "2024-06-27",
          "2024-06-27",
          "2024-06-27",
          "2024-06-27",
          "2024-06-27",
          "2024-06-27",
          "2024-06-27",
          "2024-06-27",
          "2024-06-27",
          "2024-06-27",
          "2024-06-27",
          "2024-06-27",
          "2024-06-27",
          "2024-06-27",
          "2024-06-27",
          "2024-06-27",
          "2024-06-27",
          "2024-06-27",
          "2024-06-27",
          "2024-06-27",
          "2024-06-27",
          "2024-06-27",
          "2024-06-27",
          "2024-06-27",
          "2024-06-27",
          "2024-06-27",
          "2024-06-27",
          "2024-06-27",
          "2024-06-27",
          "2024-06-27",
          "2024-06-27",
          "2024-06-27",
          "2024-06-27",
          "2024-06-27",
          "2024-06-27",
          "2024-06-27",
          "2024-06-27",
          "2024-06-27",
          "2024-06-27",
          "2024-06-27",
          "2024-06-27",
          "2024-06-27",
          "2024-06-27",
          "2024-06-27",
          "2024-06-27",
          "2024-06-27",
          "2024-06-27",
          "2024-06-27",
          "2024-06-27",
          "2024-06-27",
          "2024-06-27",
          "2024-06-27",
          "2024-06-27",
          "2024-06-27",
          "2024-06-27",
          "2024-06-27",
          "2024-06-27",
          "2024-06-27",
          "2024-06-27",
          "2024-06-27",
          "2024-06-27",
          "2024-06-27",
          "2024-06-27",
          "2024-06-27",
          "2024-06-27",
          "2024-06-27",
          "2024-06-27",
          "2024-06-27",
          "2024-06-27",
          "2024-06-27",
          "2024-06-27",
          "2024-06-27",
          "2024-06-27",
          "2024-06-27",
          "2024-06-27",
          "2024-06-27",
          "2024-06-27",
          "2024-06-27",
          "2024-06-27",
          "2024-06-27",
          "2024-06-27",
          "2024-06-27",
          "2024-06-27",
          "2024-06-27",
          "2024-06-27",
          "2024-06-27",
          "2024-06-27",
          "2024-06-27",
          "2024-06-27",
          "2024-06-27",
          "2024-06-27",
          "2024-06-27",
          "2024-06-27",
          "2024-06-27",
          "2024-06-27",
          "2024-06-27",
          "2024-06-27",
          "2024-06-27",
          "2024-06-27",
          "2024-06-27",
          "2024-06-27",
          "2024-06-27",
          "2024-06-27",
          "2024-06-27",
          "2024-06-27",
          "2024-06-27",
          "2024-06-27",
          "2024-06-27",
          "2024-06-27",
          "2024-06-27",
          "2024-06-27",
          "2024-06-27",
          "2024-06-27",
          "2024-06-27",
          "2024-06-27",
          "2024-06-27",
          "2024-06-27",
          "2024-06-27",
          "2024-06-27",
          "2024-06-27",
          "2024-06-27",
          "2024-06-27",
          "2024-06-27",
          "2024-06-27",
          "2024-06-27",
          "2024-06-27",
          "2024-06-27",
          "2024-06-27",
          "2024-06-27",
          "2024-06-27",
          "2024-06-27",
          "2024-06-27",
          "2024-06-27",
          "2024-06-27",
          "2024-06-27",
          "2024-06-27",
          "2024-06-27",
          "2024-06-27",
          "2024-06-27",
          "2024-06-27",
          "2024-06-27",
          "2024-06-27",
          "2024-06-27",
          "2024-06-27",
          "2024-06-27",
          "2024-06-27",
          "2024-06-27",
          "2024-06-27",
          "2024-06-27",
          "2024-06-27",
          "2024-06-27",
          "2024-06-27",
          "2024-06-27",
          "2024-06-27",
          "2024-06-27",
          "2024-06-27",
          "2024-06-27",
          "2024-06-27",
          "2024-06-27",
          "2024-06-27",
          "2024-06-27",
          "2024-06-27",
          "2024-06-27",
          "2024-06-27",
          "2024-06-27",
          "2024-06-27",
          "2024-06-27",
          "2024-06-27",
          "2024-06-27",
          "2024-06-27",
          "2024-06-27",
          "2024-06-27",
          "2024-06-27",
          "2024-06-27",
          "2024-06-27",
          "2024-06-27",
          "2024-06-27",
          "2024-06-27",
          "2024-06-27",
          "2024-06-27",
          "2024-06-27",
          "2024-06-27",
          "2024-06-27",
          "2024-06-27",
          "2024-06-27",
          "2024-06-27",
          "2024-06-27",
          "2024-06-27",
          "2024-06-27",
          "2024-06-27",
          "2024-06-27",
          "2024-06-27",
          "2024-06-27",
          "2024-06-27",
          "2024-06-27",
          "2024-06-27",
          "2024-06-27",
          "2024-06-27",
          "2024-06-27",
          "2024-06-27",
          "2024-06-27",
          "2024-06-27",
          "2024-06-27",
          "2024-06-27",
          "2024-06-27",
          "2024-06-27",
          "2024-06-27",
          "2024-06-27",
          "2024-06-27",
          "2024-06-27",
          "2024-06-27",
          "2024-06-27",
          "2024-06-27",
          "2024-06-27",
          "2024-06-27",
          "2024-06-27",
          "2024-06-27",
          "2024-06-27",
          "2024-06-27",
          "2024-06-27",
          "2024-06-27",
          "2024-06-27",
          "2024-06-27",
          "2024-06-27",
          "2024-06-27",
          "2024-06-27",
          "2024-06-27",
          "2024-06-27",
          "2024-06-27",
          "2024-06-27",
          "2024-06-27",
          "2024-06-27",
          "2024-06-27",
          "2024-06-27",
          "2024-06-27",
          "2024-06-27",
          "2024-06-27",
          "2024-06-27",
          "2024-06-27",
          "2024-06-27",
          "2024-06-27",
          "2024-06-27",
          "2024-06-27",
          "2024-06-27",
          "2024-06-27",
          "2024-06-27",
          "2024-06-27",
          "2024-06-27",
          "2024-06-27",
          "2024-06-27",
          "2024-06-27",
          "2024-06-27",
          "2024-06-27",
          "2024-06-27",
          "2024-06-27",
          "2024-06-27",
          "2024-06-27",
          "2024-06-27",
          "2024-06-27",
          "2024-06-27",
          "2024-06-27",
          "2024-06-27",
          "2024-06-27",
          "2024-06-27",
          "2024-06-27",
          "2024-06-27",
          "2024-06-27",
          "2024-06-27",
          "2024-06-27",
          "2024-06-27",
          "2024-06-27",
          "2024-06-27",
          "2024-06-27",
          "2024-06-27",
          "2024-06-27",
          "2024-06-27",
          "2024-06-27",
          "2024-06-27",
          "2024-06-27",
          "2024-06-27",
          "2024-06-27",
          "2024-06-27",
          "2024-06-27",
          "2024-06-27",
          "2024-06-27",
          "2024-06-27",
          "2024-06-27",
          "2024-06-27",
          "2024-06-27",
          "2024-06-27",
          "2024-06-27",
          "2024-06-27",
          "2024-06-27",
          "2024-06-27",
          "2024-06-27",
          "2024-06-27",
          "2024-06-27",
          "2024-06-27",
          "2024-06-27",
          "2024-06-27",
          "2024-06-27",
          "2024-06-27",
          "2024-06-27",
          "2024-06-27",
          "2024-06-27",
          "2024-06-27",
          "2024-06-27",
          "2024-06-27",
          "2024-06-27",
          "2024-06-27",
          "2024-06-27",
          "2024-06-27",
          "2024-06-27",
          "2024-06-27",
          "2024-06-27",
          "2024-06-27",
          "2024-06-27",
          "2024-06-27",
          "2024-06-27",
          "2024-06-27",
          "2024-06-27",
          "2024-06-27",
          "2024-06-27",
          "2024-06-27",
          "2024-06-27",
          "2024-06-27",
          "2024-06-27",
          "2024-06-27",
          "2024-06-27",
          "2024-06-27",
          "2024-06-27",
          "2024-06-27",
          "2024-06-27",
          "2024-06-27",
          "2024-06-27",
          "2024-06-27",
          "2024-06-27",
          "2024-06-27",
          "2024-06-27",
          "2024-06-27",
          "2024-06-27",
          "2024-06-27",
          "2024-06-27",
          "2024-06-27",
          "2024-06-27",
          "2024-06-27",
          "2024-06-27",
          "2024-06-27",
          "2024-06-27",
          "2024-06-27",
          "2024-06-27",
          "2024-06-27",
          "2024-06-27",
          "2024-06-27",
          "2024-06-27",
          "2024-06-27",
          "2024-06-27",
          "2024-06-27",
          "2024-06-27",
          "2024-06-27",
          "2024-06-27",
          "2024-06-27",
          "2024-06-27",
          "2024-06-27",
          "2024-06-27",
          "2024-06-27",
          "2024-06-27",
          "2024-06-27",
          "2024-06-27",
          "2024-06-27",
          "2024-06-27",
          "2024-06-27",
          "2024-06-27",
          "2024-06-27",
          "2024-06-27",
          "2024-06-27",
          "2024-06-27",
          "2024-06-27",
          "2024-06-27",
          "2024-06-27",
          "2024-06-27",
          "2024-06-27",
          "2024-06-27",
          "2024-06-27",
          "2024-06-27",
          "2024-06-27",
          "2024-06-27",
          "2024-06-27",
          "2024-06-27",
          "2024-06-27",
          "2024-06-27",
          "2024-06-27",
          "2024-06-27",
          "2024-06-27",
          "2024-06-27",
          "2024-06-27",
          "2024-06-27",
          "2024-06-27",
          "2024-06-27",
          "2024-06-27",
          "2024-06-27",
          "2024-06-27",
          "2024-06-27",
          "2024-06-27",
          "2024-06-27",
          "2024-06-27",
          "2024-06-27",
          "2024-06-27",
          "2024-06-27",
          "2024-06-27",
          "2024-06-28",
          "2024-06-28",
          "2024-06-28",
          "2024-06-28",
          "2024-06-28",
          "2024-06-28",
          "2024-06-28",
          "2024-06-28",
          "2024-06-28",
          "2024-06-28",
          "2024-06-28",
          "2024-06-28",
          "2024-06-28",
          "2024-06-28",
          "2024-06-28",
          "2024-06-28",
          "2024-06-28",
          "2024-06-28",
          "2024-06-28",
          "2024-06-28",
          "2024-06-28",
          "2024-06-28",
          "2024-06-28",
          "2024-06-28",
          "2024-06-28",
          "2024-06-28",
          "2024-06-28",
          "2024-06-28",
          "2024-06-28",
          "2024-06-28",
          "2024-06-28",
          "2024-06-28",
          "2024-06-28",
          "2024-06-28",
          "2024-06-28",
          "2024-06-28",
          "2024-06-28",
          "2024-06-28",
          "2024-06-28",
          "2024-06-28",
          "2024-06-28",
          "2024-06-28",
          "2024-06-28",
          "2024-06-28",
          "2024-06-28",
          "2024-06-28",
          "2024-06-28",
          "2024-06-28",
          "2024-06-28",
          "2024-06-28"
         ],
         "xaxis": "x",
         "y": [
          8.083333333333334,
          8.183333333333334,
          8.2,
          8.266666666666667,
          8.266666666666667,
          8.266666666666667,
          8.266666666666667,
          8.266666666666667,
          8.266666666666667,
          8.266666666666667,
          8.266666666666667,
          8.283333333333333,
          8.283333333333333,
          8.283333333333333,
          8.283333333333333,
          8.283333333333333,
          8.283333333333333,
          8.283333333333333,
          8.283333333333333,
          8.283333333333333,
          8.283333333333333,
          8.283333333333333,
          8.283333333333333,
          8.3,
          8.3,
          8.3,
          8.3,
          8.3,
          8.3,
          8.3,
          8.3,
          8.3,
          8.316666666666666,
          8.316666666666666,
          8.316666666666666,
          8.316666666666666,
          8.316666666666666,
          8.316666666666666,
          8.316666666666666,
          8.316666666666666,
          8.333333333333334,
          8.333333333333334,
          8.333333333333334,
          8.333333333333334,
          8.333333333333334,
          8.333333333333334,
          8.333333333333334,
          8.333333333333334,
          8.35,
          8.35,
          8.366666666666667,
          8.366666666666667,
          8.366666666666667,
          8.366666666666667,
          8.366666666666667,
          8.366666666666667,
          8.366666666666667,
          8.366666666666667,
          8.366666666666667,
          8.366666666666667,
          8.366666666666667,
          8.366666666666667,
          8.383333333333333,
          8.383333333333333,
          8.383333333333333,
          8.383333333333333,
          8.383333333333333,
          8.383333333333333,
          8.383333333333333,
          8.383333333333333,
          8.383333333333333,
          8.383333333333333,
          8.383333333333333,
          8.4,
          8.4,
          8.4,
          8.4,
          8.4,
          8.4,
          8.4,
          8.4,
          8.4,
          8.4,
          8.4,
          8.4,
          8.4,
          8.416666666666666,
          8.416666666666666,
          8.416666666666666,
          8.416666666666666,
          8.416666666666666,
          8.416666666666666,
          8.416666666666666,
          8.416666666666666,
          10.983333333333333,
          11.183333333333334,
          11.2,
          11.2,
          11.2,
          11.2,
          11.2,
          11.2,
          11.216666666666667,
          11.216666666666667,
          11.216666666666667,
          11.216666666666667,
          11.216666666666667,
          11.216666666666667,
          11.216666666666667,
          11.216666666666667,
          11.216666666666667,
          11.216666666666667,
          11.233333333333333,
          11.233333333333333,
          11.233333333333333,
          11.233333333333333,
          11.233333333333333,
          11.233333333333333,
          11.233333333333333,
          11.233333333333333,
          11.233333333333333,
          11.233333333333333,
          11.233333333333333,
          11.233333333333333,
          11.25,
          11.25,
          11.25,
          11.25,
          11.25,
          11.25,
          11.25,
          11.25,
          11.25,
          11.25,
          11.25,
          11.25,
          11.266666666666667,
          11.266666666666667,
          11.266666666666667,
          11.266666666666667,
          11.266666666666667,
          11.266666666666667,
          11.266666666666667,
          11.283333333333333,
          11.283333333333333,
          11.3,
          11.3,
          11.3,
          11.3,
          11.3,
          11.3,
          11.3,
          11.3,
          11.3,
          11.3,
          11.3,
          11.3,
          11.316666666666666,
          11.316666666666666,
          11.316666666666666,
          11.316666666666666,
          11.316666666666666,
          11.316666666666666,
          11.316666666666666,
          11.316666666666666,
          11.316666666666666,
          11.316666666666666,
          11.316666666666666,
          11.316666666666666,
          11.333333333333334,
          11.333333333333334,
          11.333333333333334,
          11.35,
          11.35,
          11.35,
          11.35,
          11.35,
          11.35,
          11.366666666666667,
          11.366666666666667,
          11.366666666666667,
          11.366666666666667,
          11.366666666666667,
          11.383333333333333,
          11.383333333333333,
          11.383333333333333,
          11.383333333333333,
          11.383333333333333,
          11.633333333333333,
          11.633333333333333,
          11.733333333333333,
          11.733333333333333,
          11.733333333333333,
          11.733333333333333,
          11.733333333333333,
          11.733333333333333,
          11.733333333333333,
          11.75,
          11.75,
          11.75,
          11.766666666666667,
          11.8,
          11.816666666666666,
          11.816666666666666,
          11.816666666666666,
          11.883333333333333,
          11.883333333333333,
          11.883333333333333,
          11.883333333333333,
          11.883333333333333,
          11.883333333333333,
          11.9,
          11.9,
          11.916666666666666,
          11.916666666666666,
          11.916666666666666,
          11.966666666666667,
          11.983333333333333,
          11.983333333333333,
          12.033333333333333,
          12.033333333333333,
          12.1,
          12.1,
          12.1,
          12.1,
          12.1,
          12.1,
          12.1,
          12.1,
          12.1,
          12.116666666666667,
          12.2,
          12.216666666666667,
          12.216666666666667,
          12.216666666666667,
          12.216666666666667,
          12.216666666666667,
          12.216666666666667,
          12.216666666666667,
          12.233333333333333,
          12.233333333333333,
          12.233333333333333,
          12.233333333333333,
          12.233333333333333,
          12.233333333333333,
          12.233333333333333,
          12.233333333333333,
          12.233333333333333,
          12.233333333333333,
          12.233333333333333,
          12.233333333333333,
          12.25,
          12.25,
          12.25,
          12.25,
          12.3,
          12.3,
          12.3,
          12.316666666666666,
          12.316666666666666,
          12.316666666666666,
          12.333333333333334,
          12.333333333333334,
          12.333333333333334,
          12.333333333333334,
          12.333333333333334,
          12.333333333333334,
          12.35,
          12.35,
          12.35,
          12.35,
          12.35,
          12.366666666666667,
          12.366666666666667,
          12.366666666666667,
          12.366666666666667,
          12.366666666666667,
          12.366666666666667,
          12.433333333333334,
          12.55,
          12.55,
          12.6,
          12.6,
          12.6,
          12.616666666666667,
          12.616666666666667,
          12.616666666666667,
          12.616666666666667,
          13.016666666666667,
          13.016666666666667,
          13.016666666666667,
          13.016666666666667,
          13.016666666666667,
          13.016666666666667,
          13.033333333333333,
          13.033333333333333,
          13.033333333333333,
          13.033333333333333,
          13.033333333333333,
          13.033333333333333,
          13.033333333333333,
          13.033333333333333,
          13.033333333333333,
          13.033333333333333,
          13.05,
          13.05,
          13.05,
          13.05,
          13.05,
          13.05,
          13.05,
          13.05,
          13.066666666666666,
          13.083333333333334,
          13.083333333333334,
          13.083333333333334,
          13.083333333333334,
          13.083333333333334,
          13.083333333333334,
          13.116666666666667,
          13.116666666666667,
          13.116666666666667,
          13.116666666666667,
          13.2,
          13.2,
          13.2,
          13.2,
          13.2,
          13.2,
          13.216666666666667,
          13.216666666666667,
          13.216666666666667,
          13.216666666666667,
          13.216666666666667,
          13.216666666666667,
          13.216666666666667,
          13.216666666666667,
          13.216666666666667,
          13.216666666666667,
          13.216666666666667,
          13.216666666666667,
          13.216666666666667,
          13.233333333333333,
          13.233333333333333,
          13.233333333333333,
          13.233333333333333,
          14.016666666666667,
          14.016666666666667,
          14.016666666666667,
          14.016666666666667,
          14.016666666666667,
          14.016666666666667,
          14.133333333333333,
          14.2,
          14.35,
          14.35,
          14.35,
          14.366666666666667,
          14.366666666666667,
          14.366666666666667,
          14.366666666666667,
          14.366666666666667,
          14.366666666666667,
          14.366666666666667,
          14.366666666666667,
          14.366666666666667,
          14.366666666666667,
          14.366666666666667,
          14.366666666666667,
          14.383333333333333,
          14.383333333333333,
          14.383333333333333,
          14.383333333333333,
          14.383333333333333,
          14.383333333333333,
          14.383333333333333,
          14.383333333333333,
          14.383333333333333,
          14.4,
          14.4,
          14.4,
          14.4,
          14.4,
          14.4,
          14.4,
          14.4,
          14.4,
          14.4,
          14.4,
          14.4,
          14.4,
          14.416666666666666,
          14.416666666666666,
          14.416666666666666,
          14.416666666666666,
          14.416666666666666,
          14.416666666666666,
          14.416666666666666,
          14.416666666666666,
          14.416666666666666,
          7.85,
          7.883333333333333,
          8.066666666666666,
          8.233333333333333,
          8.316666666666666,
          8.45,
          8.533333333333333,
          8.6,
          8.633333333333333,
          8.633333333333333,
          8.65,
          8.65,
          8.65,
          8.65,
          8.65,
          8.666666666666666,
          8.666666666666666,
          8.666666666666666,
          8.666666666666666,
          8.666666666666666,
          8.666666666666666,
          8.666666666666666,
          8.666666666666666,
          8.666666666666666,
          8.666666666666666,
          8.683333333333334,
          8.683333333333334,
          8.683333333333334,
          8.683333333333334,
          8.866666666666667,
          8.866666666666667,
          8.866666666666667,
          8.866666666666667,
          8.866666666666667,
          8.866666666666667,
          8.866666666666667,
          8.866666666666667,
          8.866666666666667,
          8.866666666666667,
          8.866666666666667,
          8.883333333333333,
          8.883333333333333,
          8.883333333333333,
          8.883333333333333,
          8.883333333333333,
          8.883333333333333,
          8.883333333333333,
          8.883333333333333,
          8.883333333333333,
          8.883333333333333,
          8.883333333333333,
          8.883333333333333,
          9.3,
          9.316666666666666,
          9.316666666666666,
          9.333333333333334,
          9.333333333333334,
          9.35,
          9.35,
          9.35,
          9.35,
          9.35,
          9.35,
          9.366666666666667,
          9.366666666666667,
          9.366666666666667,
          9.483333333333333,
          9.533333333333333,
          9.533333333333333,
          9.583333333333334,
          9.583333333333334,
          9.583333333333334,
          9.583333333333334,
          9.583333333333334,
          9.633333333333333,
          10.266666666666667,
          10.283333333333333,
          10.3,
          10.3,
          10.3,
          10.316666666666666,
          10.316666666666666,
          10.316666666666666,
          10.333333333333334,
          10.333333333333334,
          10.75,
          11,
          11.083333333333334,
          11.083333333333334,
          11.083333333333334,
          11.1,
          11.1,
          11.1,
          11.1,
          11.1,
          11.1,
          11.1,
          11.1,
          11.1,
          11.1,
          11.1,
          11.1,
          11.116666666666667,
          11.116666666666667,
          11.116666666666667,
          11.116666666666667,
          11.116666666666667,
          11.116666666666667,
          11.116666666666667,
          11.116666666666667,
          11.116666666666667,
          11.116666666666667,
          11.116666666666667,
          11.133333333333333,
          11.133333333333333,
          11.133333333333333,
          11.133333333333333,
          11.133333333333333,
          11.133333333333333,
          11.133333333333333,
          11.133333333333333,
          11.133333333333333,
          11.133333333333333,
          11.133333333333333,
          11.133333333333333,
          11.133333333333333,
          11.15,
          11.15,
          11.15,
          11.15,
          11.15,
          11.15,
          11.15,
          11.15,
          11.2,
          11.2,
          11.216666666666667,
          11.216666666666667,
          11.216666666666667,
          11.216666666666667,
          11.216666666666667,
          11.216666666666667,
          11.216666666666667,
          11.216666666666667,
          11.216666666666667,
          11.216666666666667,
          11.216666666666667,
          11.216666666666667,
          11.216666666666667,
          11.216666666666667,
          11.216666666666667,
          11.233333333333333,
          11.233333333333333,
          11.233333333333333,
          11.233333333333333,
          11.233333333333333,
          11.233333333333333,
          11.233333333333333,
          11.233333333333333,
          11.233333333333333,
          11.233333333333333,
          11.233333333333333,
          11.233333333333333,
          11.233333333333333,
          11.233333333333333,
          11.233333333333333,
          11.233333333333333,
          11.233333333333333,
          11.25,
          11.25,
          11.25,
          11.25,
          11.25,
          11.25,
          11.25,
          11.25,
          11.25,
          11.25,
          11.25,
          11.25,
          11.483333333333333,
          11.5,
          11.5,
          11.516666666666667,
          11.616666666666667,
          11.633333333333333,
          11.633333333333333,
          11.633333333333333,
          11.633333333333333,
          11.633333333333333,
          11.633333333333333,
          11.633333333333333,
          11.633333333333333,
          11.65,
          11.65,
          11.65,
          11.65,
          11.65,
          11.65,
          11.65,
          11.65,
          11.65,
          11.666666666666666,
          11.666666666666666,
          11.666666666666666,
          11.666666666666666,
          11.666666666666666,
          11.666666666666666,
          11.666666666666666,
          11.666666666666666,
          11.666666666666666,
          11.666666666666666,
          11.666666666666666,
          11.666666666666666,
          11.666666666666666,
          11.683333333333334,
          11.683333333333334,
          11.683333333333334,
          11.683333333333334,
          11.683333333333334,
          11.683333333333334,
          11.683333333333334,
          11.683333333333334,
          11.683333333333334,
          11.7,
          11.7,
          11.7,
          11.7,
          11.7,
          11.7,
          11.716666666666667,
          11.916666666666666,
          12.016666666666667,
          12.016666666666667,
          12.016666666666667,
          12.016666666666667,
          12.016666666666667,
          12.016666666666667,
          12.016666666666667,
          12.033333333333333,
          12.033333333333333,
          12.033333333333333,
          12.033333333333333,
          12.033333333333333,
          12.033333333333333,
          12.033333333333333,
          12.033333333333333,
          12.033333333333333,
          12.033333333333333,
          12.033333333333333,
          12.033333333333333,
          12.05,
          12.05,
          12.05,
          12.05,
          12.05,
          12.05,
          12.05,
          12.05,
          12.066666666666666,
          12.066666666666666,
          12.066666666666666,
          12.066666666666666,
          12.066666666666666,
          12.066666666666666,
          12.066666666666666,
          12.066666666666666,
          12.066666666666666,
          12.066666666666666,
          12.066666666666666,
          12.083333333333334,
          12.083333333333334,
          12.083333333333334,
          12.083333333333334,
          12.083333333333334,
          12.083333333333334,
          12.083333333333334,
          12.083333333333334,
          12.116666666666667,
          12.116666666666667,
          12.116666666666667,
          12.116666666666667,
          12.116666666666667,
          12.116666666666667,
          12.116666666666667,
          12.116666666666667,
          12.116666666666667,
          12.116666666666667,
          12.116666666666667,
          12.133333333333333,
          12.133333333333333,
          12.133333333333333,
          12.133333333333333,
          12.133333333333333,
          12.133333333333333,
          12.133333333333333,
          12.15,
          12.15,
          12.15,
          12.15,
          12.15,
          12.15,
          12.15,
          12.15,
          12.15,
          12.15,
          12.166666666666666,
          12.166666666666666,
          12.166666666666666,
          12.25,
          12.3,
          12.383333333333333,
          12.383333333333333,
          12.383333333333333,
          12.383333333333333,
          12.4,
          12.4,
          12.4,
          12.4,
          12.4,
          12.4,
          12.4,
          12.4,
          12.4,
          12.416666666666666,
          12.416666666666666,
          12.416666666666666,
          12.416666666666666,
          12.416666666666666,
          12.416666666666666,
          12.416666666666666,
          12.416666666666666,
          12.416666666666666,
          12.416666666666666,
          12.433333333333334,
          12.433333333333334,
          12.433333333333334,
          12.433333333333334,
          12.433333333333334,
          12.433333333333334,
          12.433333333333334,
          12.433333333333334,
          12.433333333333334,
          12.433333333333334,
          12.45,
          12.45,
          12.45,
          12.45,
          12.45,
          12.45,
          12.45,
          12.45,
          12.45,
          12.45,
          12.45,
          12.45,
          12.45,
          12.466666666666667,
          12.466666666666667,
          12.483333333333333,
          12.483333333333333,
          12.483333333333333,
          12.483333333333333,
          12.483333333333333,
          12.483333333333333,
          12.483333333333333,
          12.483333333333333,
          12.483333333333333,
          12.483333333333333,
          12.483333333333333,
          12.5,
          12.5,
          12.5,
          12.5,
          12.5,
          12.5,
          12.5,
          12.5,
          12.5,
          12.5,
          12.516666666666667,
          12.516666666666667,
          12.516666666666667,
          12.516666666666667,
          12.516666666666667,
          12.516666666666667,
          12.516666666666667,
          12.516666666666667,
          12.516666666666667,
          12.533333333333333,
          12.533333333333333,
          12.533333333333333,
          12.533333333333333,
          12.533333333333333,
          12.683333333333334,
          12.766666666666667,
          12.766666666666667,
          12.766666666666667,
          12.766666666666667,
          12.766666666666667,
          12.766666666666667,
          12.783333333333333,
          12.783333333333333,
          12.783333333333333,
          12.783333333333333,
          12.783333333333333,
          12.783333333333333,
          12.783333333333333,
          12.783333333333333,
          12.783333333333333,
          12.783333333333333,
          12.783333333333333,
          12.8,
          12.8,
          12.8,
          12.8,
          12.8,
          12.8,
          12.8,
          12.8,
          12.8,
          12.8,
          12.8,
          12.8,
          12.8,
          12.816666666666666,
          12.816666666666666,
          12.816666666666666,
          12.816666666666666,
          12.816666666666666,
          12.816666666666666,
          12.816666666666666,
          12.816666666666666,
          12.816666666666666,
          12.816666666666666,
          12.816666666666666,
          12.816666666666666,
          12.833333333333334,
          12.833333333333334,
          12.833333333333334,
          12.833333333333334,
          12.833333333333334,
          12.85,
          12.866666666666667,
          12.866666666666667,
          12.866666666666667,
          12.883333333333333,
          12.883333333333333,
          12.883333333333333,
          12.883333333333333,
          12.883333333333333,
          12.883333333333333,
          12.883333333333333,
          12.883333333333333,
          12.883333333333333,
          12.883333333333333,
          12.9,
          12.9,
          12.9,
          12.9,
          12.9,
          12.9,
          12.9,
          12.9,
          12.9,
          12.9,
          12.9,
          12.916666666666666,
          12.916666666666666,
          13.15,
          13.183333333333334,
          13.2,
          13.216666666666667,
          13.216666666666667,
          13.233333333333333,
          13.233333333333333,
          13.25,
          13.25,
          13.25,
          13.266666666666667,
          13.266666666666667,
          13.266666666666667,
          13.266666666666667,
          13.266666666666667,
          13.283333333333333,
          13.283333333333333,
          13.283333333333333,
          13.283333333333333,
          13.283333333333333,
          13.283333333333333,
          13.283333333333333,
          13.3,
          13.3,
          13.3,
          13.3,
          13.3,
          13.3,
          13.3,
          13.3,
          13.316666666666666,
          13.316666666666666,
          13.316666666666666,
          13.316666666666666,
          13.316666666666666,
          13.316666666666666,
          13.316666666666666,
          13.316666666666666,
          13.4,
          13.416666666666666,
          13.416666666666666,
          13.433333333333334,
          13.433333333333334,
          13.433333333333334,
          13.433333333333334,
          13.433333333333334,
          13.55,
          13.7,
          13.816666666666666,
          13.833333333333334,
          13.833333333333334,
          13.866666666666667,
          14.016666666666667,
          14.083333333333334,
          14.083333333333334,
          14.083333333333334,
          14.083333333333334,
          14.083333333333334,
          14.083333333333334,
          14.083333333333334,
          14.1,
          14.1,
          14.133333333333333,
          14.133333333333333,
          14.133333333333333,
          14.133333333333333,
          14.15,
          14.15,
          14.15,
          14.15,
          14.15,
          14.15,
          14.15,
          14.15,
          14.166666666666666,
          14.166666666666666,
          14.166666666666666,
          14.166666666666666,
          14.166666666666666,
          14.166666666666666,
          14.166666666666666,
          14.166666666666666,
          14.166666666666666,
          14.166666666666666,
          14.183333333333334,
          14.183333333333334,
          14.183333333333334,
          14.183333333333334,
          14.183333333333334,
          14.183333333333334,
          14.183333333333334,
          14.183333333333334,
          14.183333333333334,
          14.183333333333334,
          14.55,
          14.566666666666666,
          14.566666666666666,
          15.433333333333334,
          15.45,
          15.45,
          15.45,
          15.55,
          15.8,
          15.8,
          15.8,
          15.816666666666666,
          15.816666666666666,
          15.816666666666666,
          15.816666666666666,
          15.816666666666666,
          15.816666666666666,
          15.833333333333334,
          15.833333333333334,
          15.833333333333334,
          15.833333333333334,
          15.833333333333334,
          15.833333333333334,
          15.883333333333333,
          15.9,
          15.9,
          15.9,
          15.916666666666666,
          15.933333333333334,
          15.933333333333334,
          15.933333333333334,
          15.933333333333334,
          16.05,
          16.05,
          16.066666666666666,
          16.066666666666666,
          16.066666666666666,
          16.083333333333332,
          16.083333333333332,
          16.083333333333332,
          16.083333333333332,
          16.083333333333332,
          16.1,
          16.1,
          16.533333333333335,
          16.533333333333335,
          16.533333333333335,
          16.533333333333335,
          16.55,
          16.983333333333334,
          17.05,
          17.15,
          17.166666666666668,
          17.166666666666668,
          17.166666666666668,
          17.166666666666668,
          17.166666666666668,
          17.166666666666668,
          17.166666666666668,
          17.166666666666668,
          17.166666666666668,
          17.166666666666668,
          17.183333333333334,
          17.183333333333334,
          17.183333333333334,
          17.183333333333334,
          17.183333333333334,
          17.183333333333334,
          17.183333333333334,
          17.183333333333334,
          17.183333333333334,
          17.183333333333334,
          17.183333333333334,
          17.183333333333334,
          17.2,
          17.2,
          17.2,
          17.2,
          17.2,
          17.2,
          17.2,
          17.2,
          17.2,
          17.2,
          17.2,
          17.216666666666665,
          17.216666666666665,
          17.216666666666665,
          17.216666666666665,
          17.216666666666665,
          17.216666666666665,
          17.216666666666665,
          17.216666666666665,
          17.216666666666665,
          17.216666666666665,
          17.216666666666665,
          17.216666666666665,
          17.233333333333334,
          17.233333333333334,
          17.233333333333334,
          17.233333333333334,
          17.233333333333334,
          17.233333333333334,
          17.233333333333334,
          17.25,
          17.25,
          17.25,
          17.25,
          17.25,
          17.25,
          17.25,
          17.25,
          17.266666666666666,
          17.266666666666666,
          17.266666666666666,
          17.266666666666666,
          17.266666666666666,
          17.283333333333335,
          17.283333333333335,
          17.283333333333335,
          17.283333333333335,
          17.283333333333335,
          20.4,
          13.25,
          13.25,
          13.416666666666666,
          13.5,
          13.583333333333334,
          13.583333333333334,
          13.583333333333334,
          13.6,
          13.6,
          13.6,
          13.6,
          13.6,
          13.616666666666667,
          13.616666666666667,
          13.616666666666667,
          13.616666666666667,
          13.633333333333333,
          13.633333333333333,
          13.633333333333333,
          13.633333333333333,
          13.633333333333333,
          13.633333333333333,
          13.65,
          13.65,
          13.65,
          13.65,
          13.65,
          13.666666666666666,
          13.666666666666666,
          13.666666666666666,
          13.666666666666666,
          13.666666666666666,
          13.666666666666666,
          13.683333333333334,
          13.683333333333334,
          13.683333333333334,
          13.683333333333334,
          13.683333333333334,
          13.683333333333334,
          13.683333333333334,
          13.683333333333334,
          13.7,
          13.7,
          13.7,
          13.7,
          13.7,
          13.716666666666667,
          13.716666666666667,
          13.716666666666667,
          13.716666666666667,
          13.716666666666667,
          13.733333333333333,
          13.733333333333333,
          13.733333333333333,
          13.733333333333333,
          13.733333333333333,
          13.733333333333333,
          13.733333333333333,
          13.733333333333333,
          13.733333333333333,
          13.75,
          13.75,
          13.75,
          13.75,
          13.75,
          13.75,
          13.75,
          13.75,
          13.766666666666667,
          13.766666666666667,
          13.766666666666667,
          13.766666666666667,
          13.766666666666667,
          13.783333333333333,
          13.783333333333333,
          13.783333333333333,
          13.783333333333333,
          13.8,
          13.8,
          13.8,
          13.8,
          13.8,
          13.95,
          13.983333333333333,
          14.033333333333333,
          14.033333333333333,
          14.033333333333333,
          14.033333333333333,
          14.033333333333333,
          14.033333333333333,
          14.033333333333333,
          14.05,
          14.05,
          14.05,
          14.05,
          14.05,
          14.05,
          14.05,
          14.05,
          14.05,
          14.05,
          14.066666666666666,
          14.066666666666666,
          14.066666666666666,
          14.066666666666666,
          14.066666666666666,
          14.066666666666666,
          14.066666666666666,
          14.066666666666666,
          14.066666666666666,
          14.083333333333334,
          14.083333333333334,
          14.083333333333334,
          14.083333333333334,
          14.083333333333334,
          14.083333333333334,
          14.1,
          14.1,
          14.1,
          14.1,
          14.1,
          14.1,
          14.1,
          14.1,
          14.1,
          14.1,
          14.1,
          14.116666666666667,
          14.116666666666667,
          14.116666666666667,
          14.116666666666667,
          14.116666666666667,
          14.116666666666667,
          14.116666666666667,
          14.116666666666667,
          14.133333333333333,
          14.133333333333333,
          14.133333333333333,
          14.133333333333333,
          14.133333333333333,
          14.133333333333333,
          14.133333333333333,
          14.133333333333333,
          14.133333333333333,
          14.133333333333333,
          14.133333333333333,
          14.133333333333333,
          14.133333333333333,
          14.15,
          14.15,
          14.15,
          14.15,
          14.15,
          14.15,
          14.15,
          14.15,
          14.15,
          14.15,
          14.15,
          14.15,
          14.166666666666666,
          14.166666666666666,
          14.166666666666666,
          14.166666666666666,
          14.166666666666666,
          14.166666666666666,
          14.166666666666666,
          14.166666666666666,
          14.166666666666666,
          14.166666666666666,
          14.166666666666666,
          14.166666666666666,
          14.183333333333334,
          14.183333333333334,
          14.183333333333334,
          14.183333333333334,
          14.183333333333334,
          7.533333333333333,
          7.7,
          7.7,
          7.7,
          7.716666666666667,
          7.716666666666667,
          7.716666666666667,
          7.716666666666667,
          7.733333333333333,
          7.733333333333333,
          7.733333333333333,
          7.833333333333333,
          7.85,
          7.85,
          7.85,
          7.85,
          7.866666666666667,
          7.866666666666667,
          7.866666666666667,
          7.866666666666667,
          7.866666666666667,
          7.866666666666667,
          7.883333333333333,
          7.883333333333333,
          7.9,
          8.016666666666667,
          8.033333333333333,
          8.033333333333333,
          8.033333333333333,
          8.033333333333333,
          8.05,
          8.05,
          8.05,
          8.05,
          8.05,
          8.05,
          8.383333333333333,
          8.883333333333333,
          8.916666666666666,
          9.05,
          9.05,
          9.05,
          9.066666666666666,
          9.066666666666666,
          9.066666666666666,
          9.066666666666666,
          9.066666666666666,
          9.066666666666666,
          9.083333333333334,
          9.083333333333334,
          9.083333333333334,
          9.083333333333334,
          9.083333333333334,
          9.083333333333334,
          9.083333333333334,
          9.1,
          9.1,
          9.1,
          9.1,
          9.1,
          9.1,
          9.1,
          9.1,
          9.116666666666667,
          9.116666666666667,
          9.116666666666667,
          9.116666666666667,
          9.116666666666667,
          9.116666666666667,
          9.116666666666667,
          9.116666666666667,
          9.116666666666667,
          9.116666666666667,
          9.116666666666667,
          9.116666666666667,
          9.383333333333333,
          9.416666666666666,
          9.516666666666667,
          9.516666666666667,
          9.516666666666667,
          9.516666666666667,
          9.516666666666667,
          9.516666666666667,
          9.533333333333333,
          9.533333333333333,
          9.533333333333333,
          9.533333333333333,
          9.533333333333333,
          9.533333333333333,
          9.533333333333333,
          9.533333333333333,
          9.533333333333333,
          9.533333333333333,
          9.533333333333333,
          9.55,
          9.55,
          9.55,
          9.55,
          9.55,
          9.55,
          9.55,
          9.566666666666666,
          9.566666666666666,
          9.566666666666666,
          9.566666666666666,
          9.566666666666666,
          9.566666666666666,
          9.566666666666666,
          9.566666666666666,
          9.566666666666666,
          9.583333333333334,
          9.583333333333334,
          9.583333333333334,
          9.583333333333334,
          9.583333333333334,
          9.583333333333334,
          9.583333333333334,
          9.583333333333334,
          9.583333333333334,
          9.583333333333334,
          9.583333333333334,
          9.583333333333334,
          9.6,
          9.6,
          9.6,
          9.6,
          9.6,
          9.6,
          9.616666666666667,
          9.616666666666667,
          9.616666666666667,
          9.616666666666667,
          9.616666666666667,
          9.616666666666667,
          9.616666666666667,
          9.616666666666667,
          9.616666666666667,
          9.616666666666667,
          9.616666666666667,
          9.633333333333333,
          9.633333333333333,
          9.633333333333333,
          9.633333333333333,
          9.633333333333333,
          9.633333333333333,
          9.65,
          9.65,
          9.65,
          9.65,
          9.65,
          9.65,
          9.65,
          9.65,
          9.65,
          9.65,
          9.65,
          9.666666666666666,
          9.666666666666666,
          9.666666666666666,
          9.666666666666666,
          9.666666666666666,
          9.666666666666666,
          10.433333333333334,
          10.483333333333333,
          10.483333333333333,
          10.5,
          10.5,
          10.5,
          10.5,
          10.5,
          10.5,
          10.5,
          10.5,
          10.5,
          10.5,
          10.516666666666667,
          10.516666666666667,
          10.516666666666667,
          10.516666666666667,
          10.516666666666667,
          10.516666666666667,
          10.516666666666667,
          10.516666666666667,
          10.516666666666667,
          10.516666666666667,
          10.516666666666667,
          10.533333333333333,
          10.533333333333333,
          10.533333333333333,
          10.533333333333333,
          10.533333333333333,
          10.533333333333333,
          10.533333333333333,
          10.533333333333333,
          10.533333333333333,
          10.533333333333333,
          10.533333333333333,
          10.533333333333333,
          10.533333333333333,
          10.533333333333333,
          10.533333333333333,
          10.55,
          10.55,
          10.55,
          10.55,
          10.55,
          10.55,
          10.55,
          10.55,
          10.55,
          10.55,
          10.566666666666666,
          10.566666666666666,
          10.566666666666666,
          10.566666666666666,
          10.566666666666666,
          10.566666666666666,
          10.566666666666666,
          10.566666666666666,
          10.566666666666666,
          10.566666666666666,
          10.583333333333334,
          10.583333333333334,
          10.583333333333334,
          10.583333333333334,
          10.583333333333334,
          10.583333333333334,
          10.583333333333334,
          10.583333333333334,
          10.583333333333334,
          10.583333333333334,
          10.6,
          10.6,
          10.6,
          10.6,
          10.6,
          10.6,
          10.6,
          10.6,
          10.6,
          10.6,
          10.6,
          10.6,
          10.616666666666667,
          10.616666666666667,
          10.616666666666667,
          10.616666666666667,
          10.616666666666667,
          10.616666666666667,
          10.616666666666667,
          10.616666666666667,
          10.616666666666667,
          10.616666666666667,
          10.633333333333333,
          10.633333333333333,
          10.883333333333333,
          10.916666666666666,
          10.933333333333334,
          10.95,
          10.95,
          10.95,
          10.95,
          10.966666666666667,
          10.966666666666667,
          10.966666666666667,
          10.966666666666667,
          10.966666666666667,
          10.966666666666667,
          10.983333333333333,
          10.983333333333333,
          11,
          11,
          11,
          11,
          11,
          11.016666666666667,
          11.016666666666667,
          11.016666666666667,
          11.016666666666667,
          11.033333333333333,
          11.033333333333333,
          11.033333333333333,
          11.133333333333333,
          11.133333333333333,
          11.15,
          11.15,
          11.15,
          11.166666666666666,
          11.166666666666666,
          11.166666666666666,
          11.166666666666666,
          11.183333333333334,
          11.183333333333334,
          11.2,
          11.2,
          11.2,
          11.566666666666666,
          11.583333333333334,
          11.583333333333334,
          11.583333333333334,
          11.583333333333334,
          11.583333333333334,
          11.6,
          11.6,
          11.6,
          11.6,
          11.6,
          11.6,
          11.6,
          11.6,
          11.616666666666667,
          11.616666666666667,
          11.616666666666667,
          11.616666666666667,
          11.616666666666667,
          11.616666666666667,
          11.633333333333333,
          11.633333333333333,
          11.633333333333333,
          11.633333333333333,
          11.633333333333333,
          11.633333333333333,
          11.633333333333333,
          11.633333333333333,
          11.633333333333333,
          11.65,
          11.65,
          11.65,
          11.65,
          11.65,
          11.65,
          11.65,
          11.65,
          11.65,
          11.65,
          11.65,
          11.666666666666666,
          11.666666666666666,
          11.666666666666666,
          11.666666666666666,
          11.666666666666666,
          11.666666666666666,
          11.666666666666666,
          11.666666666666666,
          11.666666666666666,
          11.666666666666666,
          11.666666666666666,
          11.666666666666666,
          11.666666666666666,
          11.683333333333334,
          11.683333333333334,
          11.683333333333334,
          11.683333333333334,
          11.683333333333334,
          11.683333333333334,
          11.683333333333334,
          11.7,
          11.7,
          11.7,
          11.75,
          11.766666666666667,
          11.766666666666667,
          11.766666666666667,
          11.766666666666667,
          11.766666666666667,
          11.766666666666667,
          11.766666666666667,
          11.766666666666667,
          11.766666666666667,
          11.783333333333333,
          11.783333333333333,
          11.783333333333333,
          11.783333333333333,
          11.783333333333333,
          11.783333333333333,
          11.783333333333333,
          11.8,
          11.8,
          11.8,
          11.966666666666667,
          11.983333333333333,
          11.983333333333333,
          12.05,
          12.066666666666666,
          12.066666666666666,
          12.35,
          12.366666666666667,
          12.366666666666667,
          12.466666666666667,
          12.466666666666667,
          12.466666666666667,
          12.466666666666667,
          12.483333333333333,
          12.483333333333333,
          12.483333333333333,
          12.483333333333333,
          12.483333333333333,
          12.483333333333333,
          12.483333333333333,
          12.483333333333333,
          12.483333333333333,
          12.483333333333333,
          12.483333333333333,
          12.5,
          12.5,
          12.5,
          12.5,
          12.5,
          12.5,
          12.5,
          12.5,
          12.5,
          12.5,
          12.516666666666667,
          12.516666666666667,
          12.516666666666667,
          12.516666666666667,
          12.516666666666667,
          12.516666666666667,
          12.516666666666667,
          12.516666666666667,
          12.516666666666667,
          12.516666666666667,
          12.533333333333333,
          12.533333333333333,
          12.533333333333333,
          12.533333333333333,
          12.533333333333333,
          12.533333333333333,
          12.533333333333333,
          12.533333333333333,
          12.533333333333333,
          12.533333333333333,
          12.533333333333333,
          12.55,
          12.55,
          12.55,
          12.55,
          12.55,
          12.55,
          12.55,
          12.55,
          12.55,
          12.566666666666666,
          12.566666666666666,
          12.566666666666666,
          12.566666666666666,
          12.566666666666666,
          12.566666666666666,
          12.566666666666666,
          12.566666666666666,
          12.566666666666666,
          12.933333333333334,
          12.933333333333334,
          12.933333333333334,
          12.933333333333334,
          12.95,
          12.95,
          12.95,
          13.016666666666667,
          13.016666666666667,
          13.033333333333333,
          13.033333333333333,
          13.05,
          13.05,
          13.05,
          13.05,
          13.05,
          13.05,
          13.066666666666666,
          13.066666666666666,
          13.066666666666666,
          13.083333333333334,
          13.083333333333334,
          13.083333333333334,
          13.083333333333334,
          13.083333333333334,
          13.083333333333334,
          13.083333333333334,
          13.1,
          13.1,
          13.1,
          13.1,
          13.1,
          13.1,
          13.116666666666667,
          13.116666666666667,
          13.116666666666667,
          13.116666666666667,
          13.116666666666667,
          13.116666666666667,
          13.116666666666667,
          13.116666666666667,
          13.116666666666667,
          13.133333333333333,
          13.133333333333333,
          13.133333333333333,
          13.133333333333333,
          13.133333333333333,
          13.133333333333333,
          13.383333333333333,
          13.533333333333333,
          13.533333333333333,
          13.533333333333333,
          13.533333333333333,
          13.533333333333333,
          13.55,
          13.55,
          13.55,
          13.55,
          13.55,
          13.55,
          13.55,
          13.55,
          13.55,
          13.55,
          13.55,
          13.55,
          13.566666666666666,
          13.566666666666666,
          13.566666666666666,
          13.566666666666666,
          13.566666666666666,
          13.566666666666666,
          13.566666666666666,
          13.566666666666666,
          13.566666666666666,
          13.583333333333334,
          14.716666666666667,
          14.733333333333333,
          14.733333333333333,
          14.733333333333333,
          14.733333333333333,
          14.75,
          14.75,
          14.75,
          14.75,
          14.766666666666667,
          14.766666666666667,
          14.766666666666667,
          14.766666666666667,
          14.766666666666667,
          14.766666666666667,
          14.766666666666667,
          14.783333333333333,
          14.8,
          14.8,
          14.8,
          14.8,
          14.8,
          14.816666666666666,
          14.816666666666666,
          14.833333333333334,
          14.833333333333334,
          14.85,
          14.85,
          10.783333333333333,
          10.8,
          10.816666666666666,
          10.833333333333334,
          10.833333333333334,
          10.833333333333334,
          10.833333333333334,
          10.833333333333334,
          10.833333333333334,
          10.833333333333334,
          10.833333333333334,
          10.85,
          10.85,
          10.85,
          10.85,
          10.85,
          10.85,
          10.85,
          10.85,
          10.85,
          10.866666666666667,
          10.866666666666667,
          10.866666666666667,
          10.883333333333333,
          10.883333333333333,
          10.883333333333333,
          10.883333333333333,
          10.9,
          10.933333333333334,
          10.933333333333334,
          10.966666666666667,
          11.066666666666666,
          11.066666666666666,
          11.083333333333334,
          11.083333333333334,
          11.083333333333334,
          11.083333333333334,
          11.083333333333334,
          11.083333333333334,
          11.083333333333334,
          11.083333333333334,
          11.1,
          11.1,
          11.1,
          11.1,
          11.1,
          11.1,
          11.1,
          11.1,
          11.1
         ],
         "yaxis": "y"
        },
        {
         "hovertemplate": "observation=Action 2<br>Date=%{x}<br>Hour of the Day=%{y}<extra></extra>",
         "legendgroup": "Action 2",
         "marker": {
          "color": "#EF553B",
          "symbol": "circle"
         },
         "mode": "markers",
         "name": "Action 2",
         "showlegend": true,
         "type": "scattergl",
         "x": [
          "2024-06-24",
          "2024-06-24",
          "2024-06-24",
          "2024-06-24",
          "2024-06-24",
          "2024-06-24",
          "2024-06-24",
          "2024-06-24",
          "2024-06-24",
          "2024-06-24",
          "2024-06-24",
          "2024-06-24",
          "2024-06-24",
          "2024-06-24",
          "2024-06-24",
          "2024-06-24",
          "2024-06-24",
          "2024-06-24",
          "2024-06-24",
          "2024-06-24",
          "2024-06-24",
          "2024-06-24",
          "2024-06-24",
          "2024-06-24",
          "2024-06-24",
          "2024-06-24",
          "2024-06-24",
          "2024-06-25",
          "2024-06-25",
          "2024-06-25",
          "2024-06-25",
          "2024-06-25",
          "2024-06-25",
          "2024-06-25",
          "2024-06-25",
          "2024-06-25",
          "2024-06-25",
          "2024-06-25",
          "2024-06-25",
          "2024-06-25",
          "2024-06-25",
          "2024-06-25",
          "2024-06-25",
          "2024-06-25",
          "2024-06-25",
          "2024-06-25",
          "2024-06-25",
          "2024-06-25",
          "2024-06-25",
          "2024-06-25",
          "2024-06-25",
          "2024-06-25",
          "2024-06-25",
          "2024-06-25",
          "2024-06-25",
          "2024-06-25",
          "2024-06-25",
          "2024-06-25",
          "2024-06-25",
          "2024-06-26",
          "2024-06-26",
          "2024-06-26",
          "2024-06-26",
          "2024-06-26",
          "2024-06-27",
          "2024-06-27",
          "2024-06-27",
          "2024-06-27",
          "2024-06-27",
          "2024-06-27",
          "2024-06-27",
          "2024-06-27",
          "2024-06-27",
          "2024-06-27",
          "2024-06-27",
          "2024-06-27",
          "2024-06-27",
          "2024-06-27",
          "2024-06-27",
          "2024-06-27",
          "2024-06-27",
          "2024-06-27",
          "2024-06-27",
          "2024-06-27",
          "2024-06-27",
          "2024-06-27",
          "2024-06-27",
          "2024-06-27",
          "2024-06-27",
          "2024-06-27",
          "2024-06-27",
          "2024-06-27",
          "2024-06-27",
          "2024-06-27",
          "2024-06-27",
          "2024-06-27",
          "2024-06-27",
          "2024-06-27",
          "2024-06-27",
          "2024-06-27",
          "2024-06-27",
          "2024-06-28",
          "2024-06-28",
          "2024-06-28",
          "2024-06-28"
         ],
         "xaxis": "x",
         "y": [
          8.266666666666667,
          11.283333333333333,
          11.616666666666667,
          11.616666666666667,
          11.633333333333333,
          11.733333333333333,
          11.883333333333333,
          11.9,
          11.916666666666666,
          11.966666666666667,
          11.983333333333333,
          12.116666666666667,
          12.6,
          12.6,
          12.6,
          12.6,
          12.6,
          12.616666666666667,
          12.616666666666667,
          12.616666666666667,
          12.616666666666667,
          12.616666666666667,
          12.616666666666667,
          12.616666666666667,
          12.633333333333333,
          14.016666666666667,
          14.016666666666667,
          8.633333333333333,
          9.3,
          9.316666666666666,
          9.35,
          9.35,
          13.266666666666667,
          13.266666666666667,
          13.266666666666667,
          13.283333333333333,
          13.316666666666666,
          13.316666666666666,
          13.316666666666666,
          13.316666666666666,
          14.066666666666666,
          14.066666666666666,
          14.066666666666666,
          14.083333333333334,
          14.083333333333334,
          14.1,
          14.1,
          14.1,
          14.1,
          14.116666666666667,
          14.116666666666667,
          14.116666666666667,
          14.133333333333333,
          14.133333333333333,
          14.133333333333333,
          14.15,
          14.166666666666666,
          14.166666666666666,
          17.066666666666666,
          13.583333333333334,
          13.583333333333334,
          13.65,
          13.683333333333334,
          13.75,
          7.85,
          7.883333333333333,
          8.033333333333333,
          8.033333333333333,
          8.033333333333333,
          8.033333333333333,
          8.05,
          8.05,
          8.05,
          8.05,
          9.6,
          12.783333333333333,
          12.933333333333334,
          12.95,
          12.95,
          12.95,
          12.95,
          13.033333333333333,
          13.033333333333333,
          13.033333333333333,
          13.033333333333333,
          13.033333333333333,
          13.033333333333333,
          13.066666666666666,
          13.1,
          13.55,
          13.566666666666666,
          14.75,
          14.766666666666667,
          14.766666666666667,
          14.783333333333333,
          14.783333333333333,
          14.783333333333333,
          14.8,
          14.8,
          14.816666666666666,
          14.833333333333334,
          10.816666666666666,
          10.816666666666666,
          11.066666666666666,
          11.066666666666666
         ],
         "yaxis": "y"
        },
        {
         "hovertemplate": "observation=Action 1<br>Date=%{x}<br>Hour of the Day=%{y}<extra></extra>",
         "legendgroup": "Action 1",
         "marker": {
          "color": "#00cc96",
          "symbol": "circle"
         },
         "mode": "markers",
         "name": "Action 1",
         "showlegend": true,
         "type": "scattergl",
         "x": [
          "2024-06-24",
          "2024-06-24",
          "2024-06-25",
          "2024-06-25",
          "2024-06-25",
          "2024-06-25",
          "2024-06-25",
          "2024-06-25",
          "2024-06-25",
          "2024-06-25",
          "2024-06-25",
          "2024-06-25",
          "2024-06-25",
          "2024-06-25",
          "2024-06-25",
          "2024-06-25",
          "2024-06-25",
          "2024-06-25",
          "2024-06-25",
          "2024-06-25",
          "2024-06-26",
          "2024-06-26",
          "2024-06-26",
          "2024-06-26",
          "2024-06-26",
          "2024-06-26",
          "2024-06-26",
          "2024-06-26",
          "2024-06-26",
          "2024-06-27",
          "2024-06-27",
          "2024-06-27",
          "2024-06-27",
          "2024-06-27",
          "2024-06-27",
          "2024-06-27",
          "2024-06-27",
          "2024-06-27",
          "2024-06-27",
          "2024-06-27",
          "2024-06-27",
          "2024-06-27",
          "2024-06-27",
          "2024-06-27",
          "2024-06-27",
          "2024-06-27",
          "2024-06-27",
          "2024-06-27"
         ],
         "xaxis": "x",
         "y": [
          11.9,
          11.916666666666666,
          9.366666666666667,
          13.25,
          13.266666666666667,
          13.266666666666667,
          13.283333333333333,
          13.3,
          13.3,
          13.316666666666666,
          14.133333333333333,
          14.15,
          14.15,
          14.166666666666666,
          14.166666666666666,
          14.166666666666666,
          14.166666666666666,
          14.183333333333334,
          14.183333333333334,
          14.183333333333334,
          13.716666666666667,
          13.716666666666667,
          13.716666666666667,
          13.733333333333333,
          13.75,
          13.766666666666667,
          13.783333333333333,
          13.783333333333333,
          13.8,
          7.85,
          7.85,
          7.85,
          7.866666666666667,
          9.616666666666667,
          9.633333333333333,
          9.65,
          9.666666666666666,
          9.666666666666666,
          13.05,
          13.066666666666666,
          13.066666666666666,
          13.083333333333334,
          13.083333333333334,
          13.1,
          13.116666666666667,
          13.566666666666666,
          13.566666666666666,
          13.566666666666666
         ],
         "yaxis": "y"
        }
       ],
       "layout": {
        "grid": {
         "columns": 1,
         "pattern": "independent",
         "rows": 1
        },
        "height": 800,
        "legend": {
         "title": {
          "text": "observation"
         },
         "tracegroupgap": 0
        },
        "template": {
         "data": {
          "bar": [
           {
            "error_x": {
             "color": "#2a3f5f"
            },
            "error_y": {
             "color": "#2a3f5f"
            },
            "marker": {
             "line": {
              "color": "#E5ECF6",
              "width": 0.5
             },
             "pattern": {
              "fillmode": "overlay",
              "size": 10,
              "solidity": 0.2
             }
            },
            "type": "bar"
           }
          ],
          "barpolar": [
           {
            "marker": {
             "line": {
              "color": "#E5ECF6",
              "width": 0.5
             },
             "pattern": {
              "fillmode": "overlay",
              "size": 10,
              "solidity": 0.2
             }
            },
            "type": "barpolar"
           }
          ],
          "carpet": [
           {
            "aaxis": {
             "endlinecolor": "#2a3f5f",
             "gridcolor": "white",
             "linecolor": "white",
             "minorgridcolor": "white",
             "startlinecolor": "#2a3f5f"
            },
            "baxis": {
             "endlinecolor": "#2a3f5f",
             "gridcolor": "white",
             "linecolor": "white",
             "minorgridcolor": "white",
             "startlinecolor": "#2a3f5f"
            },
            "type": "carpet"
           }
          ],
          "choropleth": [
           {
            "colorbar": {
             "outlinewidth": 0,
             "ticks": ""
            },
            "type": "choropleth"
           }
          ],
          "contour": [
           {
            "colorbar": {
             "outlinewidth": 0,
             "ticks": ""
            },
            "colorscale": [
             [
              0,
              "#0d0887"
             ],
             [
              0.1111111111111111,
              "#46039f"
             ],
             [
              0.2222222222222222,
              "#7201a8"
             ],
             [
              0.3333333333333333,
              "#9c179e"
             ],
             [
              0.4444444444444444,
              "#bd3786"
             ],
             [
              0.5555555555555556,
              "#d8576b"
             ],
             [
              0.6666666666666666,
              "#ed7953"
             ],
             [
              0.7777777777777778,
              "#fb9f3a"
             ],
             [
              0.8888888888888888,
              "#fdca26"
             ],
             [
              1,
              "#f0f921"
             ]
            ],
            "type": "contour"
           }
          ],
          "contourcarpet": [
           {
            "colorbar": {
             "outlinewidth": 0,
             "ticks": ""
            },
            "type": "contourcarpet"
           }
          ],
          "heatmap": [
           {
            "colorbar": {
             "outlinewidth": 0,
             "ticks": ""
            },
            "colorscale": [
             [
              0,
              "#0d0887"
             ],
             [
              0.1111111111111111,
              "#46039f"
             ],
             [
              0.2222222222222222,
              "#7201a8"
             ],
             [
              0.3333333333333333,
              "#9c179e"
             ],
             [
              0.4444444444444444,
              "#bd3786"
             ],
             [
              0.5555555555555556,
              "#d8576b"
             ],
             [
              0.6666666666666666,
              "#ed7953"
             ],
             [
              0.7777777777777778,
              "#fb9f3a"
             ],
             [
              0.8888888888888888,
              "#fdca26"
             ],
             [
              1,
              "#f0f921"
             ]
            ],
            "type": "heatmap"
           }
          ],
          "heatmapgl": [
           {
            "colorbar": {
             "outlinewidth": 0,
             "ticks": ""
            },
            "colorscale": [
             [
              0,
              "#0d0887"
             ],
             [
              0.1111111111111111,
              "#46039f"
             ],
             [
              0.2222222222222222,
              "#7201a8"
             ],
             [
              0.3333333333333333,
              "#9c179e"
             ],
             [
              0.4444444444444444,
              "#bd3786"
             ],
             [
              0.5555555555555556,
              "#d8576b"
             ],
             [
              0.6666666666666666,
              "#ed7953"
             ],
             [
              0.7777777777777778,
              "#fb9f3a"
             ],
             [
              0.8888888888888888,
              "#fdca26"
             ],
             [
              1,
              "#f0f921"
             ]
            ],
            "type": "heatmapgl"
           }
          ],
          "histogram": [
           {
            "marker": {
             "pattern": {
              "fillmode": "overlay",
              "size": 10,
              "solidity": 0.2
             }
            },
            "type": "histogram"
           }
          ],
          "histogram2d": [
           {
            "colorbar": {
             "outlinewidth": 0,
             "ticks": ""
            },
            "colorscale": [
             [
              0,
              "#0d0887"
             ],
             [
              0.1111111111111111,
              "#46039f"
             ],
             [
              0.2222222222222222,
              "#7201a8"
             ],
             [
              0.3333333333333333,
              "#9c179e"
             ],
             [
              0.4444444444444444,
              "#bd3786"
             ],
             [
              0.5555555555555556,
              "#d8576b"
             ],
             [
              0.6666666666666666,
              "#ed7953"
             ],
             [
              0.7777777777777778,
              "#fb9f3a"
             ],
             [
              0.8888888888888888,
              "#fdca26"
             ],
             [
              1,
              "#f0f921"
             ]
            ],
            "type": "histogram2d"
           }
          ],
          "histogram2dcontour": [
           {
            "colorbar": {
             "outlinewidth": 0,
             "ticks": ""
            },
            "colorscale": [
             [
              0,
              "#0d0887"
             ],
             [
              0.1111111111111111,
              "#46039f"
             ],
             [
              0.2222222222222222,
              "#7201a8"
             ],
             [
              0.3333333333333333,
              "#9c179e"
             ],
             [
              0.4444444444444444,
              "#bd3786"
             ],
             [
              0.5555555555555556,
              "#d8576b"
             ],
             [
              0.6666666666666666,
              "#ed7953"
             ],
             [
              0.7777777777777778,
              "#fb9f3a"
             ],
             [
              0.8888888888888888,
              "#fdca26"
             ],
             [
              1,
              "#f0f921"
             ]
            ],
            "type": "histogram2dcontour"
           }
          ],
          "mesh3d": [
           {
            "colorbar": {
             "outlinewidth": 0,
             "ticks": ""
            },
            "type": "mesh3d"
           }
          ],
          "parcoords": [
           {
            "line": {
             "colorbar": {
              "outlinewidth": 0,
              "ticks": ""
             }
            },
            "type": "parcoords"
           }
          ],
          "pie": [
           {
            "automargin": true,
            "type": "pie"
           }
          ],
          "scatter": [
           {
            "fillpattern": {
             "fillmode": "overlay",
             "size": 10,
             "solidity": 0.2
            },
            "type": "scatter"
           }
          ],
          "scatter3d": [
           {
            "line": {
             "colorbar": {
              "outlinewidth": 0,
              "ticks": ""
             }
            },
            "marker": {
             "colorbar": {
              "outlinewidth": 0,
              "ticks": ""
             }
            },
            "type": "scatter3d"
           }
          ],
          "scattercarpet": [
           {
            "marker": {
             "colorbar": {
              "outlinewidth": 0,
              "ticks": ""
             }
            },
            "type": "scattercarpet"
           }
          ],
          "scattergeo": [
           {
            "marker": {
             "colorbar": {
              "outlinewidth": 0,
              "ticks": ""
             }
            },
            "type": "scattergeo"
           }
          ],
          "scattergl": [
           {
            "marker": {
             "colorbar": {
              "outlinewidth": 0,
              "ticks": ""
             }
            },
            "type": "scattergl"
           }
          ],
          "scattermapbox": [
           {
            "marker": {
             "colorbar": {
              "outlinewidth": 0,
              "ticks": ""
             }
            },
            "type": "scattermapbox"
           }
          ],
          "scatterpolar": [
           {
            "marker": {
             "colorbar": {
              "outlinewidth": 0,
              "ticks": ""
             }
            },
            "type": "scatterpolar"
           }
          ],
          "scatterpolargl": [
           {
            "marker": {
             "colorbar": {
              "outlinewidth": 0,
              "ticks": ""
             }
            },
            "type": "scatterpolargl"
           }
          ],
          "scatterternary": [
           {
            "marker": {
             "colorbar": {
              "outlinewidth": 0,
              "ticks": ""
             }
            },
            "type": "scatterternary"
           }
          ],
          "surface": [
           {
            "colorbar": {
             "outlinewidth": 0,
             "ticks": ""
            },
            "colorscale": [
             [
              0,
              "#0d0887"
             ],
             [
              0.1111111111111111,
              "#46039f"
             ],
             [
              0.2222222222222222,
              "#7201a8"
             ],
             [
              0.3333333333333333,
              "#9c179e"
             ],
             [
              0.4444444444444444,
              "#bd3786"
             ],
             [
              0.5555555555555556,
              "#d8576b"
             ],
             [
              0.6666666666666666,
              "#ed7953"
             ],
             [
              0.7777777777777778,
              "#fb9f3a"
             ],
             [
              0.8888888888888888,
              "#fdca26"
             ],
             [
              1,
              "#f0f921"
             ]
            ],
            "type": "surface"
           }
          ],
          "table": [
           {
            "cells": {
             "fill": {
              "color": "#EBF0F8"
             },
             "line": {
              "color": "white"
             }
            },
            "header": {
             "fill": {
              "color": "#C8D4E3"
             },
             "line": {
              "color": "white"
             }
            },
            "type": "table"
           }
          ]
         },
         "layout": {
          "annotationdefaults": {
           "arrowcolor": "#2a3f5f",
           "arrowhead": 0,
           "arrowwidth": 1
          },
          "autotypenumbers": "strict",
          "coloraxis": {
           "colorbar": {
            "outlinewidth": 0,
            "ticks": ""
           }
          },
          "colorscale": {
           "diverging": [
            [
             0,
             "#8e0152"
            ],
            [
             0.1,
             "#c51b7d"
            ],
            [
             0.2,
             "#de77ae"
            ],
            [
             0.3,
             "#f1b6da"
            ],
            [
             0.4,
             "#fde0ef"
            ],
            [
             0.5,
             "#f7f7f7"
            ],
            [
             0.6,
             "#e6f5d0"
            ],
            [
             0.7,
             "#b8e186"
            ],
            [
             0.8,
             "#7fbc41"
            ],
            [
             0.9,
             "#4d9221"
            ],
            [
             1,
             "#276419"
            ]
           ],
           "sequential": [
            [
             0,
             "#0d0887"
            ],
            [
             0.1111111111111111,
             "#46039f"
            ],
            [
             0.2222222222222222,
             "#7201a8"
            ],
            [
             0.3333333333333333,
             "#9c179e"
            ],
            [
             0.4444444444444444,
             "#bd3786"
            ],
            [
             0.5555555555555556,
             "#d8576b"
            ],
            [
             0.6666666666666666,
             "#ed7953"
            ],
            [
             0.7777777777777778,
             "#fb9f3a"
            ],
            [
             0.8888888888888888,
             "#fdca26"
            ],
            [
             1,
             "#f0f921"
            ]
           ],
           "sequentialminus": [
            [
             0,
             "#0d0887"
            ],
            [
             0.1111111111111111,
             "#46039f"
            ],
            [
             0.2222222222222222,
             "#7201a8"
            ],
            [
             0.3333333333333333,
             "#9c179e"
            ],
            [
             0.4444444444444444,
             "#bd3786"
            ],
            [
             0.5555555555555556,
             "#d8576b"
            ],
            [
             0.6666666666666666,
             "#ed7953"
            ],
            [
             0.7777777777777778,
             "#fb9f3a"
            ],
            [
             0.8888888888888888,
             "#fdca26"
            ],
            [
             1,
             "#f0f921"
            ]
           ]
          },
          "colorway": [
           "#636efa",
           "#EF553B",
           "#00cc96",
           "#ab63fa",
           "#FFA15A",
           "#19d3f3",
           "#FF6692",
           "#B6E880",
           "#FF97FF",
           "#FECB52"
          ],
          "font": {
           "color": "#2a3f5f"
          },
          "geo": {
           "bgcolor": "white",
           "lakecolor": "white",
           "landcolor": "#E5ECF6",
           "showlakes": true,
           "showland": true,
           "subunitcolor": "white"
          },
          "hoverlabel": {
           "align": "left"
          },
          "hovermode": "closest",
          "mapbox": {
           "style": "light"
          },
          "paper_bgcolor": "white",
          "plot_bgcolor": "#E5ECF6",
          "polar": {
           "angularaxis": {
            "gridcolor": "white",
            "linecolor": "white",
            "ticks": ""
           },
           "bgcolor": "#E5ECF6",
           "radialaxis": {
            "gridcolor": "white",
            "linecolor": "white",
            "ticks": ""
           }
          },
          "scene": {
           "xaxis": {
            "backgroundcolor": "#E5ECF6",
            "gridcolor": "white",
            "gridwidth": 2,
            "linecolor": "white",
            "showbackground": true,
            "ticks": "",
            "zerolinecolor": "white"
           },
           "yaxis": {
            "backgroundcolor": "#E5ECF6",
            "gridcolor": "white",
            "gridwidth": 2,
            "linecolor": "white",
            "showbackground": true,
            "ticks": "",
            "zerolinecolor": "white"
           },
           "zaxis": {
            "backgroundcolor": "#E5ECF6",
            "gridcolor": "white",
            "gridwidth": 2,
            "linecolor": "white",
            "showbackground": true,
            "ticks": "",
            "zerolinecolor": "white"
           }
          },
          "shapedefaults": {
           "line": {
            "color": "#2a3f5f"
           }
          },
          "ternary": {
           "aaxis": {
            "gridcolor": "white",
            "linecolor": "white",
            "ticks": ""
           },
           "baxis": {
            "gridcolor": "white",
            "linecolor": "white",
            "ticks": ""
           },
           "bgcolor": "#E5ECF6",
           "caxis": {
            "gridcolor": "white",
            "linecolor": "white",
            "ticks": ""
           }
          },
          "title": {
           "x": 0.05
          },
          "xaxis": {
           "automargin": true,
           "gridcolor": "white",
           "linecolor": "white",
           "ticks": "",
           "title": {
            "standoff": 15
           },
           "zerolinecolor": "white",
           "zerolinewidth": 2
          },
          "yaxis": {
           "automargin": true,
           "gridcolor": "white",
           "linecolor": "white",
           "ticks": "",
           "title": {
            "standoff": 15
           },
           "zerolinecolor": "white",
           "zerolinewidth": 2
          }
         }
        },
        "title": {
         "text": "Occurrences Per Day by Observation (Euler Angle Classification)"
        },
        "xaxis": {
         "anchor": "y",
         "domain": [
          0,
          1
         ],
         "tickformat": "%Y-%m-%d",
         "title": {
          "text": "Date"
         }
        },
        "yaxis": {
         "anchor": "x",
         "autorange": "reversed",
         "domain": [
          0,
          1
         ],
         "tickvals": [
          0,
          1,
          2,
          3,
          4,
          5,
          6,
          7,
          8,
          9,
          10,
          11,
          12,
          13,
          14,
          15,
          16,
          17,
          18,
          19,
          20,
          21,
          22,
          23,
          24
         ],
         "title": {
          "text": "Hour of the Day"
         }
        }
       }
      }
     },
     "metadata": {},
     "output_type": "display_data"
    }
   ],
   "source": [
    "# Classify observation based on Euler angles\n",
    "def classify_observation(row):\n",
    "    if 40 <= row['pitch'] <= 50:\n",
    "        return 'Action 1'\n",
    "    elif 5 <= row['pitch'] <= 15:\n",
    "        return 'Action 2'\n",
    "    else:\n",
    "        return 'Other'\n",
    "\n",
    "data.loc[:, 'observation'] = data.apply(classify_observation, axis=1)\n",
    "\n",
    "fig = px.scatter(data, x='date', y='hour_minute', color='observation', title='Occurrences Per Day by Observation (Euler Angle Classification)',\n",
    "                 labels={'date': 'Date', 'hour_minute': 'Hour of the Day'}, height=800, size_max=10)\n",
    "\n",
    "fig.update_xaxes(tickformat=\"%Y-%m-%d\")\n",
    "fig.update_yaxes(tickvals=list(range(0, 25)), autorange=\"reversed\")\n",
    "fig.update_layout(grid=dict(rows=1, columns=1, pattern=\"independent\"))\n",
    "\n",
    "fig.show()"
   ]
  },
  {
   "cell_type": "code",
   "execution_count": 37,
   "metadata": {},
   "outputs": [
    {
     "data": {
      "application/vnd.plotly.v1+json": {
       "config": {
        "plotlyServerURL": "https://plot.ly"
       },
       "data": [
        {
         "alignmentgroup": "True",
         "hovertemplate": "Weekday=%{x}<br>Average Number of Observations=%{y}<extra></extra>",
         "legendgroup": "Monday",
         "marker": {
          "color": "#636efa",
          "pattern": {
           "shape": ""
          }
         },
         "name": "Monday",
         "offsetgroup": "Monday",
         "orientation": "v",
         "showlegend": true,
         "textposition": "auto",
         "type": "bar",
         "x": [
          "Monday"
         ],
         "xaxis": "x",
         "y": [
          85.8
         ],
         "yaxis": "y"
        },
        {
         "alignmentgroup": "True",
         "hovertemplate": "Weekday=%{x}<br>Average Number of Observations=%{y}<extra></extra>",
         "legendgroup": "Tuesday",
         "marker": {
          "color": "#EF553B",
          "pattern": {
           "shape": ""
          }
         },
         "name": "Tuesday",
         "offsetgroup": "Tuesday",
         "orientation": "v",
         "showlegend": true,
         "textposition": "auto",
         "type": "bar",
         "x": [
          "Tuesday"
         ],
         "xaxis": "x",
         "y": [
          147.2
         ],
         "yaxis": "y"
        },
        {
         "alignmentgroup": "True",
         "hovertemplate": "Weekday=%{x}<br>Average Number of Observations=%{y}<extra></extra>",
         "legendgroup": "Wednesday",
         "marker": {
          "color": "#00cc96",
          "pattern": {
           "shape": ""
          }
         },
         "name": "Wednesday",
         "offsetgroup": "Wednesday",
         "orientation": "v",
         "showlegend": true,
         "textposition": "auto",
         "type": "bar",
         "x": [
          "Wednesday"
         ],
         "xaxis": "x",
         "y": [
          38.2
         ],
         "yaxis": "y"
        },
        {
         "alignmentgroup": "True",
         "hovertemplate": "Weekday=%{x}<br>Average Number of Observations=%{y}<extra></extra>",
         "legendgroup": "Thursday",
         "marker": {
          "color": "#ab63fa",
          "pattern": {
           "shape": ""
          }
         },
         "name": "Thursday",
         "offsetgroup": "Thursday",
         "orientation": "v",
         "showlegend": true,
         "textposition": "auto",
         "type": "bar",
         "x": [
          "Thursday"
         ],
         "xaxis": "x",
         "y": [
          122.4
         ],
         "yaxis": "y"
        },
        {
         "alignmentgroup": "True",
         "hovertemplate": "Weekday=%{x}<br>Average Number of Observations=%{y}<extra></extra>",
         "legendgroup": "Friday",
         "marker": {
          "color": "#FFA15A",
          "pattern": {
           "shape": ""
          }
         },
         "name": "Friday",
         "offsetgroup": "Friday",
         "orientation": "v",
         "showlegend": true,
         "textposition": "auto",
         "type": "bar",
         "x": [
          "Friday"
         ],
         "xaxis": "x",
         "y": [
          10.8
         ],
         "yaxis": "y"
        },
        {
         "alignmentgroup": "True",
         "hovertemplate": "Weekday=%{x}<br>Average Number of Observations=%{y}<extra></extra>",
         "legendgroup": "Saturday",
         "marker": {
          "color": "#19d3f3",
          "pattern": {
           "shape": ""
          }
         },
         "name": "Saturday",
         "offsetgroup": "Saturday",
         "orientation": "v",
         "showlegend": true,
         "textposition": "auto",
         "type": "bar",
         "x": [
          "Saturday"
         ],
         "xaxis": "x",
         "y": [
          0
         ],
         "yaxis": "y"
        },
        {
         "alignmentgroup": "True",
         "hovertemplate": "Weekday=%{x}<br>Average Number of Observations=%{y}<extra></extra>",
         "legendgroup": "Sunday",
         "marker": {
          "color": "#FF6692",
          "pattern": {
           "shape": ""
          }
         },
         "name": "Sunday",
         "offsetgroup": "Sunday",
         "orientation": "v",
         "showlegend": true,
         "textposition": "auto",
         "type": "bar",
         "x": [
          "Sunday"
         ],
         "xaxis": "x",
         "y": [
          0
         ],
         "yaxis": "y"
        }
       ],
       "layout": {
        "barmode": "relative",
        "legend": {
         "title": {
          "text": "Weekday"
         },
         "tracegroupgap": 0
        },
        "template": {
         "data": {
          "bar": [
           {
            "error_x": {
             "color": "#2a3f5f"
            },
            "error_y": {
             "color": "#2a3f5f"
            },
            "marker": {
             "line": {
              "color": "#E5ECF6",
              "width": 0.5
             },
             "pattern": {
              "fillmode": "overlay",
              "size": 10,
              "solidity": 0.2
             }
            },
            "type": "bar"
           }
          ],
          "barpolar": [
           {
            "marker": {
             "line": {
              "color": "#E5ECF6",
              "width": 0.5
             },
             "pattern": {
              "fillmode": "overlay",
              "size": 10,
              "solidity": 0.2
             }
            },
            "type": "barpolar"
           }
          ],
          "carpet": [
           {
            "aaxis": {
             "endlinecolor": "#2a3f5f",
             "gridcolor": "white",
             "linecolor": "white",
             "minorgridcolor": "white",
             "startlinecolor": "#2a3f5f"
            },
            "baxis": {
             "endlinecolor": "#2a3f5f",
             "gridcolor": "white",
             "linecolor": "white",
             "minorgridcolor": "white",
             "startlinecolor": "#2a3f5f"
            },
            "type": "carpet"
           }
          ],
          "choropleth": [
           {
            "colorbar": {
             "outlinewidth": 0,
             "ticks": ""
            },
            "type": "choropleth"
           }
          ],
          "contour": [
           {
            "colorbar": {
             "outlinewidth": 0,
             "ticks": ""
            },
            "colorscale": [
             [
              0,
              "#0d0887"
             ],
             [
              0.1111111111111111,
              "#46039f"
             ],
             [
              0.2222222222222222,
              "#7201a8"
             ],
             [
              0.3333333333333333,
              "#9c179e"
             ],
             [
              0.4444444444444444,
              "#bd3786"
             ],
             [
              0.5555555555555556,
              "#d8576b"
             ],
             [
              0.6666666666666666,
              "#ed7953"
             ],
             [
              0.7777777777777778,
              "#fb9f3a"
             ],
             [
              0.8888888888888888,
              "#fdca26"
             ],
             [
              1,
              "#f0f921"
             ]
            ],
            "type": "contour"
           }
          ],
          "contourcarpet": [
           {
            "colorbar": {
             "outlinewidth": 0,
             "ticks": ""
            },
            "type": "contourcarpet"
           }
          ],
          "heatmap": [
           {
            "colorbar": {
             "outlinewidth": 0,
             "ticks": ""
            },
            "colorscale": [
             [
              0,
              "#0d0887"
             ],
             [
              0.1111111111111111,
              "#46039f"
             ],
             [
              0.2222222222222222,
              "#7201a8"
             ],
             [
              0.3333333333333333,
              "#9c179e"
             ],
             [
              0.4444444444444444,
              "#bd3786"
             ],
             [
              0.5555555555555556,
              "#d8576b"
             ],
             [
              0.6666666666666666,
              "#ed7953"
             ],
             [
              0.7777777777777778,
              "#fb9f3a"
             ],
             [
              0.8888888888888888,
              "#fdca26"
             ],
             [
              1,
              "#f0f921"
             ]
            ],
            "type": "heatmap"
           }
          ],
          "heatmapgl": [
           {
            "colorbar": {
             "outlinewidth": 0,
             "ticks": ""
            },
            "colorscale": [
             [
              0,
              "#0d0887"
             ],
             [
              0.1111111111111111,
              "#46039f"
             ],
             [
              0.2222222222222222,
              "#7201a8"
             ],
             [
              0.3333333333333333,
              "#9c179e"
             ],
             [
              0.4444444444444444,
              "#bd3786"
             ],
             [
              0.5555555555555556,
              "#d8576b"
             ],
             [
              0.6666666666666666,
              "#ed7953"
             ],
             [
              0.7777777777777778,
              "#fb9f3a"
             ],
             [
              0.8888888888888888,
              "#fdca26"
             ],
             [
              1,
              "#f0f921"
             ]
            ],
            "type": "heatmapgl"
           }
          ],
          "histogram": [
           {
            "marker": {
             "pattern": {
              "fillmode": "overlay",
              "size": 10,
              "solidity": 0.2
             }
            },
            "type": "histogram"
           }
          ],
          "histogram2d": [
           {
            "colorbar": {
             "outlinewidth": 0,
             "ticks": ""
            },
            "colorscale": [
             [
              0,
              "#0d0887"
             ],
             [
              0.1111111111111111,
              "#46039f"
             ],
             [
              0.2222222222222222,
              "#7201a8"
             ],
             [
              0.3333333333333333,
              "#9c179e"
             ],
             [
              0.4444444444444444,
              "#bd3786"
             ],
             [
              0.5555555555555556,
              "#d8576b"
             ],
             [
              0.6666666666666666,
              "#ed7953"
             ],
             [
              0.7777777777777778,
              "#fb9f3a"
             ],
             [
              0.8888888888888888,
              "#fdca26"
             ],
             [
              1,
              "#f0f921"
             ]
            ],
            "type": "histogram2d"
           }
          ],
          "histogram2dcontour": [
           {
            "colorbar": {
             "outlinewidth": 0,
             "ticks": ""
            },
            "colorscale": [
             [
              0,
              "#0d0887"
             ],
             [
              0.1111111111111111,
              "#46039f"
             ],
             [
              0.2222222222222222,
              "#7201a8"
             ],
             [
              0.3333333333333333,
              "#9c179e"
             ],
             [
              0.4444444444444444,
              "#bd3786"
             ],
             [
              0.5555555555555556,
              "#d8576b"
             ],
             [
              0.6666666666666666,
              "#ed7953"
             ],
             [
              0.7777777777777778,
              "#fb9f3a"
             ],
             [
              0.8888888888888888,
              "#fdca26"
             ],
             [
              1,
              "#f0f921"
             ]
            ],
            "type": "histogram2dcontour"
           }
          ],
          "mesh3d": [
           {
            "colorbar": {
             "outlinewidth": 0,
             "ticks": ""
            },
            "type": "mesh3d"
           }
          ],
          "parcoords": [
           {
            "line": {
             "colorbar": {
              "outlinewidth": 0,
              "ticks": ""
             }
            },
            "type": "parcoords"
           }
          ],
          "pie": [
           {
            "automargin": true,
            "type": "pie"
           }
          ],
          "scatter": [
           {
            "fillpattern": {
             "fillmode": "overlay",
             "size": 10,
             "solidity": 0.2
            },
            "type": "scatter"
           }
          ],
          "scatter3d": [
           {
            "line": {
             "colorbar": {
              "outlinewidth": 0,
              "ticks": ""
             }
            },
            "marker": {
             "colorbar": {
              "outlinewidth": 0,
              "ticks": ""
             }
            },
            "type": "scatter3d"
           }
          ],
          "scattercarpet": [
           {
            "marker": {
             "colorbar": {
              "outlinewidth": 0,
              "ticks": ""
             }
            },
            "type": "scattercarpet"
           }
          ],
          "scattergeo": [
           {
            "marker": {
             "colorbar": {
              "outlinewidth": 0,
              "ticks": ""
             }
            },
            "type": "scattergeo"
           }
          ],
          "scattergl": [
           {
            "marker": {
             "colorbar": {
              "outlinewidth": 0,
              "ticks": ""
             }
            },
            "type": "scattergl"
           }
          ],
          "scattermapbox": [
           {
            "marker": {
             "colorbar": {
              "outlinewidth": 0,
              "ticks": ""
             }
            },
            "type": "scattermapbox"
           }
          ],
          "scatterpolar": [
           {
            "marker": {
             "colorbar": {
              "outlinewidth": 0,
              "ticks": ""
             }
            },
            "type": "scatterpolar"
           }
          ],
          "scatterpolargl": [
           {
            "marker": {
             "colorbar": {
              "outlinewidth": 0,
              "ticks": ""
             }
            },
            "type": "scatterpolargl"
           }
          ],
          "scatterternary": [
           {
            "marker": {
             "colorbar": {
              "outlinewidth": 0,
              "ticks": ""
             }
            },
            "type": "scatterternary"
           }
          ],
          "surface": [
           {
            "colorbar": {
             "outlinewidth": 0,
             "ticks": ""
            },
            "colorscale": [
             [
              0,
              "#0d0887"
             ],
             [
              0.1111111111111111,
              "#46039f"
             ],
             [
              0.2222222222222222,
              "#7201a8"
             ],
             [
              0.3333333333333333,
              "#9c179e"
             ],
             [
              0.4444444444444444,
              "#bd3786"
             ],
             [
              0.5555555555555556,
              "#d8576b"
             ],
             [
              0.6666666666666666,
              "#ed7953"
             ],
             [
              0.7777777777777778,
              "#fb9f3a"
             ],
             [
              0.8888888888888888,
              "#fdca26"
             ],
             [
              1,
              "#f0f921"
             ]
            ],
            "type": "surface"
           }
          ],
          "table": [
           {
            "cells": {
             "fill": {
              "color": "#EBF0F8"
             },
             "line": {
              "color": "white"
             }
            },
            "header": {
             "fill": {
              "color": "#C8D4E3"
             },
             "line": {
              "color": "white"
             }
            },
            "type": "table"
           }
          ]
         },
         "layout": {
          "annotationdefaults": {
           "arrowcolor": "#2a3f5f",
           "arrowhead": 0,
           "arrowwidth": 1
          },
          "autotypenumbers": "strict",
          "coloraxis": {
           "colorbar": {
            "outlinewidth": 0,
            "ticks": ""
           }
          },
          "colorscale": {
           "diverging": [
            [
             0,
             "#8e0152"
            ],
            [
             0.1,
             "#c51b7d"
            ],
            [
             0.2,
             "#de77ae"
            ],
            [
             0.3,
             "#f1b6da"
            ],
            [
             0.4,
             "#fde0ef"
            ],
            [
             0.5,
             "#f7f7f7"
            ],
            [
             0.6,
             "#e6f5d0"
            ],
            [
             0.7,
             "#b8e186"
            ],
            [
             0.8,
             "#7fbc41"
            ],
            [
             0.9,
             "#4d9221"
            ],
            [
             1,
             "#276419"
            ]
           ],
           "sequential": [
            [
             0,
             "#0d0887"
            ],
            [
             0.1111111111111111,
             "#46039f"
            ],
            [
             0.2222222222222222,
             "#7201a8"
            ],
            [
             0.3333333333333333,
             "#9c179e"
            ],
            [
             0.4444444444444444,
             "#bd3786"
            ],
            [
             0.5555555555555556,
             "#d8576b"
            ],
            [
             0.6666666666666666,
             "#ed7953"
            ],
            [
             0.7777777777777778,
             "#fb9f3a"
            ],
            [
             0.8888888888888888,
             "#fdca26"
            ],
            [
             1,
             "#f0f921"
            ]
           ],
           "sequentialminus": [
            [
             0,
             "#0d0887"
            ],
            [
             0.1111111111111111,
             "#46039f"
            ],
            [
             0.2222222222222222,
             "#7201a8"
            ],
            [
             0.3333333333333333,
             "#9c179e"
            ],
            [
             0.4444444444444444,
             "#bd3786"
            ],
            [
             0.5555555555555556,
             "#d8576b"
            ],
            [
             0.6666666666666666,
             "#ed7953"
            ],
            [
             0.7777777777777778,
             "#fb9f3a"
            ],
            [
             0.8888888888888888,
             "#fdca26"
            ],
            [
             1,
             "#f0f921"
            ]
           ]
          },
          "colorway": [
           "#636efa",
           "#EF553B",
           "#00cc96",
           "#ab63fa",
           "#FFA15A",
           "#19d3f3",
           "#FF6692",
           "#B6E880",
           "#FF97FF",
           "#FECB52"
          ],
          "font": {
           "color": "#2a3f5f"
          },
          "geo": {
           "bgcolor": "white",
           "lakecolor": "white",
           "landcolor": "#E5ECF6",
           "showlakes": true,
           "showland": true,
           "subunitcolor": "white"
          },
          "hoverlabel": {
           "align": "left"
          },
          "hovermode": "closest",
          "mapbox": {
           "style": "light"
          },
          "paper_bgcolor": "white",
          "plot_bgcolor": "#E5ECF6",
          "polar": {
           "angularaxis": {
            "gridcolor": "white",
            "linecolor": "white",
            "ticks": ""
           },
           "bgcolor": "#E5ECF6",
           "radialaxis": {
            "gridcolor": "white",
            "linecolor": "white",
            "ticks": ""
           }
          },
          "scene": {
           "xaxis": {
            "backgroundcolor": "#E5ECF6",
            "gridcolor": "white",
            "gridwidth": 2,
            "linecolor": "white",
            "showbackground": true,
            "ticks": "",
            "zerolinecolor": "white"
           },
           "yaxis": {
            "backgroundcolor": "#E5ECF6",
            "gridcolor": "white",
            "gridwidth": 2,
            "linecolor": "white",
            "showbackground": true,
            "ticks": "",
            "zerolinecolor": "white"
           },
           "zaxis": {
            "backgroundcolor": "#E5ECF6",
            "gridcolor": "white",
            "gridwidth": 2,
            "linecolor": "white",
            "showbackground": true,
            "ticks": "",
            "zerolinecolor": "white"
           }
          },
          "shapedefaults": {
           "line": {
            "color": "#2a3f5f"
           }
          },
          "ternary": {
           "aaxis": {
            "gridcolor": "white",
            "linecolor": "white",
            "ticks": ""
           },
           "baxis": {
            "gridcolor": "white",
            "linecolor": "white",
            "ticks": ""
           },
           "bgcolor": "#E5ECF6",
           "caxis": {
            "gridcolor": "white",
            "linecolor": "white",
            "ticks": ""
           }
          },
          "title": {
           "x": 0.05
          },
          "xaxis": {
           "automargin": true,
           "gridcolor": "white",
           "linecolor": "white",
           "ticks": "",
           "title": {
            "standoff": 15
           },
           "zerolinecolor": "white",
           "zerolinewidth": 2
          },
          "yaxis": {
           "automargin": true,
           "gridcolor": "white",
           "linecolor": "white",
           "ticks": "",
           "title": {
            "standoff": 15
           },
           "zerolinecolor": "white",
           "zerolinewidth": 2
          }
         }
        },
        "title": {
         "text": "Average Number of Observations per Weekday"
        },
        "xaxis": {
         "anchor": "y",
         "categoryarray": [
          "Monday",
          "Tuesday",
          "Wednesday",
          "Thursday",
          "Friday",
          "Saturday",
          "Sunday"
         ],
         "categoryorder": "array",
         "domain": [
          0,
          1
         ],
         "title": {
          "text": "Weekday"
         }
        },
        "yaxis": {
         "anchor": "x",
         "domain": [
          0,
          1
         ],
         "title": {
          "text": "Average Number of Observations"
         }
        }
       }
      }
     },
     "metadata": {},
     "output_type": "display_data"
    }
   ],
   "source": [
    "all_weekdays = ['Monday', 'Tuesday', 'Wednesday', 'Thursday', 'Friday', 'Saturday', 'Sunday']\n",
    "weekday_counts = data['weekday'].value_counts().reindex(all_weekdays, fill_value=0)\n",
    "\n",
    "average_weekday_counts = weekday_counts / len(data['timestamp'].dt.date.unique())\n",
    "\n",
    "average_weekday_df = pd.DataFrame({'Weekday': average_weekday_counts.index, 'Average Number of Observations': average_weekday_counts.values})\n",
    "\n",
    "fig = px.bar(average_weekday_df, x='Weekday', y='Average Number of Observations', title='Average Number of Observations per Weekday',\n",
    "             labels={'Weekday': 'Weekday', 'Average Number of Observations': 'Average Number of Observations'}, \n",
    "             color='Weekday')\n",
    "\n",
    "fig.show()"
   ]
  },
  {
   "cell_type": "code",
   "execution_count": 38,
   "metadata": {},
   "outputs": [
    {
     "data": {
      "application/vnd.plotly.v1+json": {
       "config": {
        "plotlyServerURL": "https://plot.ly"
       },
       "data": [
        {
         "alignmentgroup": "True",
         "hovertemplate": "Hour of the Day=%{marker.color}<br>Number of Observations=%{y}<extra></extra>",
         "legendgroup": "",
         "marker": {
          "color": [
           0,
           1,
           2,
           3,
           4,
           5,
           6,
           7,
           8,
           9,
           10,
           11,
           12,
           13,
           14,
           15,
           16,
           17,
           18,
           19,
           20,
           21,
           22,
           23
          ],
          "coloraxis": "coloraxis",
          "pattern": {
           "shape": ""
          }
         },
         "name": "",
         "offsetgroup": "",
         "orientation": "v",
         "showlegend": false,
         "textposition": "auto",
         "type": "bar",
         "x": [
          0,
          1,
          2,
          3,
          4,
          5,
          6,
          7,
          8,
          9,
          10,
          11,
          12,
          13,
          14,
          15,
          16,
          17,
          18,
          19,
          20,
          21,
          22,
          23
         ],
         "xaxis": "x",
         "y": [
          0,
          0,
          0,
          0,
          0,
          0,
          0,
          33,
          168,
          157,
          153,
          415,
          403,
          312,
          260,
          29,
          18,
          73,
          0,
          0,
          1,
          0,
          0,
          0
         ],
         "yaxis": "y"
        }
       ],
       "layout": {
        "annotations": [
         {
          "font": {
           "color": "black",
           "size": 10
          },
          "showarrow": false,
          "text": "0.0%",
          "x": 0,
          "y": 0,
          "yshift": 10
         },
         {
          "font": {
           "color": "black",
           "size": 10
          },
          "showarrow": false,
          "text": "0.0%",
          "x": 1,
          "y": 0,
          "yshift": 10
         },
         {
          "font": {
           "color": "black",
           "size": 10
          },
          "showarrow": false,
          "text": "0.0%",
          "x": 2,
          "y": 0,
          "yshift": 10
         },
         {
          "font": {
           "color": "black",
           "size": 10
          },
          "showarrow": false,
          "text": "0.0%",
          "x": 3,
          "y": 0,
          "yshift": 10
         },
         {
          "font": {
           "color": "black",
           "size": 10
          },
          "showarrow": false,
          "text": "0.0%",
          "x": 4,
          "y": 0,
          "yshift": 10
         },
         {
          "font": {
           "color": "black",
           "size": 10
          },
          "showarrow": false,
          "text": "0.0%",
          "x": 5,
          "y": 0,
          "yshift": 10
         },
         {
          "font": {
           "color": "black",
           "size": 10
          },
          "showarrow": false,
          "text": "0.0%",
          "x": 6,
          "y": 0,
          "yshift": 10
         },
         {
          "font": {
           "color": "black",
           "size": 10
          },
          "showarrow": false,
          "text": "1.6%",
          "x": 7,
          "y": 33,
          "yshift": 10
         },
         {
          "font": {
           "color": "black",
           "size": 10
          },
          "showarrow": false,
          "text": "8.3%",
          "x": 8,
          "y": 168,
          "yshift": 10
         },
         {
          "font": {
           "color": "black",
           "size": 10
          },
          "showarrow": false,
          "text": "7.8%",
          "x": 9,
          "y": 157,
          "yshift": 10
         },
         {
          "font": {
           "color": "black",
           "size": 10
          },
          "showarrow": false,
          "text": "7.6%",
          "x": 10,
          "y": 153,
          "yshift": 10
         },
         {
          "font": {
           "color": "black",
           "size": 10
          },
          "showarrow": false,
          "text": "20.5%",
          "x": 11,
          "y": 415,
          "yshift": 10
         },
         {
          "font": {
           "color": "black",
           "size": 10
          },
          "showarrow": false,
          "text": "19.9%",
          "x": 12,
          "y": 403,
          "yshift": 10
         },
         {
          "font": {
           "color": "black",
           "size": 10
          },
          "showarrow": false,
          "text": "15.4%",
          "x": 13,
          "y": 312,
          "yshift": 10
         },
         {
          "font": {
           "color": "black",
           "size": 10
          },
          "showarrow": false,
          "text": "12.9%",
          "x": 14,
          "y": 260,
          "yshift": 10
         },
         {
          "font": {
           "color": "black",
           "size": 10
          },
          "showarrow": false,
          "text": "1.4%",
          "x": 15,
          "y": 29,
          "yshift": 10
         },
         {
          "font": {
           "color": "black",
           "size": 10
          },
          "showarrow": false,
          "text": "0.9%",
          "x": 16,
          "y": 18,
          "yshift": 10
         },
         {
          "font": {
           "color": "black",
           "size": 10
          },
          "showarrow": false,
          "text": "3.6%",
          "x": 17,
          "y": 73,
          "yshift": 10
         },
         {
          "font": {
           "color": "black",
           "size": 10
          },
          "showarrow": false,
          "text": "0.0%",
          "x": 18,
          "y": 0,
          "yshift": 10
         },
         {
          "font": {
           "color": "black",
           "size": 10
          },
          "showarrow": false,
          "text": "0.0%",
          "x": 19,
          "y": 0,
          "yshift": 10
         },
         {
          "font": {
           "color": "black",
           "size": 10
          },
          "showarrow": false,
          "text": "0.0%",
          "x": 20,
          "y": 1,
          "yshift": 10
         },
         {
          "font": {
           "color": "black",
           "size": 10
          },
          "showarrow": false,
          "text": "0.0%",
          "x": 21,
          "y": 0,
          "yshift": 10
         },
         {
          "font": {
           "color": "black",
           "size": 10
          },
          "showarrow": false,
          "text": "0.0%",
          "x": 22,
          "y": 0,
          "yshift": 10
         },
         {
          "font": {
           "color": "black",
           "size": 10
          },
          "showarrow": false,
          "text": "0.0%",
          "x": 23,
          "y": 0,
          "yshift": 10
         }
        ],
        "barmode": "relative",
        "coloraxis": {
         "colorbar": {
          "title": {
           "text": "Hour of the Day"
          }
         },
         "colorscale": [
          [
           0,
           "#0d0887"
          ],
          [
           0.1111111111111111,
           "#46039f"
          ],
          [
           0.2222222222222222,
           "#7201a8"
          ],
          [
           0.3333333333333333,
           "#9c179e"
          ],
          [
           0.4444444444444444,
           "#bd3786"
          ],
          [
           0.5555555555555556,
           "#d8576b"
          ],
          [
           0.6666666666666666,
           "#ed7953"
          ],
          [
           0.7777777777777778,
           "#fb9f3a"
          ],
          [
           0.8888888888888888,
           "#fdca26"
          ],
          [
           1,
           "#f0f921"
          ]
         ]
        },
        "legend": {
         "tracegroupgap": 0
        },
        "template": {
         "data": {
          "bar": [
           {
            "error_x": {
             "color": "#2a3f5f"
            },
            "error_y": {
             "color": "#2a3f5f"
            },
            "marker": {
             "line": {
              "color": "#E5ECF6",
              "width": 0.5
             },
             "pattern": {
              "fillmode": "overlay",
              "size": 10,
              "solidity": 0.2
             }
            },
            "type": "bar"
           }
          ],
          "barpolar": [
           {
            "marker": {
             "line": {
              "color": "#E5ECF6",
              "width": 0.5
             },
             "pattern": {
              "fillmode": "overlay",
              "size": 10,
              "solidity": 0.2
             }
            },
            "type": "barpolar"
           }
          ],
          "carpet": [
           {
            "aaxis": {
             "endlinecolor": "#2a3f5f",
             "gridcolor": "white",
             "linecolor": "white",
             "minorgridcolor": "white",
             "startlinecolor": "#2a3f5f"
            },
            "baxis": {
             "endlinecolor": "#2a3f5f",
             "gridcolor": "white",
             "linecolor": "white",
             "minorgridcolor": "white",
             "startlinecolor": "#2a3f5f"
            },
            "type": "carpet"
           }
          ],
          "choropleth": [
           {
            "colorbar": {
             "outlinewidth": 0,
             "ticks": ""
            },
            "type": "choropleth"
           }
          ],
          "contour": [
           {
            "colorbar": {
             "outlinewidth": 0,
             "ticks": ""
            },
            "colorscale": [
             [
              0,
              "#0d0887"
             ],
             [
              0.1111111111111111,
              "#46039f"
             ],
             [
              0.2222222222222222,
              "#7201a8"
             ],
             [
              0.3333333333333333,
              "#9c179e"
             ],
             [
              0.4444444444444444,
              "#bd3786"
             ],
             [
              0.5555555555555556,
              "#d8576b"
             ],
             [
              0.6666666666666666,
              "#ed7953"
             ],
             [
              0.7777777777777778,
              "#fb9f3a"
             ],
             [
              0.8888888888888888,
              "#fdca26"
             ],
             [
              1,
              "#f0f921"
             ]
            ],
            "type": "contour"
           }
          ],
          "contourcarpet": [
           {
            "colorbar": {
             "outlinewidth": 0,
             "ticks": ""
            },
            "type": "contourcarpet"
           }
          ],
          "heatmap": [
           {
            "colorbar": {
             "outlinewidth": 0,
             "ticks": ""
            },
            "colorscale": [
             [
              0,
              "#0d0887"
             ],
             [
              0.1111111111111111,
              "#46039f"
             ],
             [
              0.2222222222222222,
              "#7201a8"
             ],
             [
              0.3333333333333333,
              "#9c179e"
             ],
             [
              0.4444444444444444,
              "#bd3786"
             ],
             [
              0.5555555555555556,
              "#d8576b"
             ],
             [
              0.6666666666666666,
              "#ed7953"
             ],
             [
              0.7777777777777778,
              "#fb9f3a"
             ],
             [
              0.8888888888888888,
              "#fdca26"
             ],
             [
              1,
              "#f0f921"
             ]
            ],
            "type": "heatmap"
           }
          ],
          "heatmapgl": [
           {
            "colorbar": {
             "outlinewidth": 0,
             "ticks": ""
            },
            "colorscale": [
             [
              0,
              "#0d0887"
             ],
             [
              0.1111111111111111,
              "#46039f"
             ],
             [
              0.2222222222222222,
              "#7201a8"
             ],
             [
              0.3333333333333333,
              "#9c179e"
             ],
             [
              0.4444444444444444,
              "#bd3786"
             ],
             [
              0.5555555555555556,
              "#d8576b"
             ],
             [
              0.6666666666666666,
              "#ed7953"
             ],
             [
              0.7777777777777778,
              "#fb9f3a"
             ],
             [
              0.8888888888888888,
              "#fdca26"
             ],
             [
              1,
              "#f0f921"
             ]
            ],
            "type": "heatmapgl"
           }
          ],
          "histogram": [
           {
            "marker": {
             "pattern": {
              "fillmode": "overlay",
              "size": 10,
              "solidity": 0.2
             }
            },
            "type": "histogram"
           }
          ],
          "histogram2d": [
           {
            "colorbar": {
             "outlinewidth": 0,
             "ticks": ""
            },
            "colorscale": [
             [
              0,
              "#0d0887"
             ],
             [
              0.1111111111111111,
              "#46039f"
             ],
             [
              0.2222222222222222,
              "#7201a8"
             ],
             [
              0.3333333333333333,
              "#9c179e"
             ],
             [
              0.4444444444444444,
              "#bd3786"
             ],
             [
              0.5555555555555556,
              "#d8576b"
             ],
             [
              0.6666666666666666,
              "#ed7953"
             ],
             [
              0.7777777777777778,
              "#fb9f3a"
             ],
             [
              0.8888888888888888,
              "#fdca26"
             ],
             [
              1,
              "#f0f921"
             ]
            ],
            "type": "histogram2d"
           }
          ],
          "histogram2dcontour": [
           {
            "colorbar": {
             "outlinewidth": 0,
             "ticks": ""
            },
            "colorscale": [
             [
              0,
              "#0d0887"
             ],
             [
              0.1111111111111111,
              "#46039f"
             ],
             [
              0.2222222222222222,
              "#7201a8"
             ],
             [
              0.3333333333333333,
              "#9c179e"
             ],
             [
              0.4444444444444444,
              "#bd3786"
             ],
             [
              0.5555555555555556,
              "#d8576b"
             ],
             [
              0.6666666666666666,
              "#ed7953"
             ],
             [
              0.7777777777777778,
              "#fb9f3a"
             ],
             [
              0.8888888888888888,
              "#fdca26"
             ],
             [
              1,
              "#f0f921"
             ]
            ],
            "type": "histogram2dcontour"
           }
          ],
          "mesh3d": [
           {
            "colorbar": {
             "outlinewidth": 0,
             "ticks": ""
            },
            "type": "mesh3d"
           }
          ],
          "parcoords": [
           {
            "line": {
             "colorbar": {
              "outlinewidth": 0,
              "ticks": ""
             }
            },
            "type": "parcoords"
           }
          ],
          "pie": [
           {
            "automargin": true,
            "type": "pie"
           }
          ],
          "scatter": [
           {
            "fillpattern": {
             "fillmode": "overlay",
             "size": 10,
             "solidity": 0.2
            },
            "type": "scatter"
           }
          ],
          "scatter3d": [
           {
            "line": {
             "colorbar": {
              "outlinewidth": 0,
              "ticks": ""
             }
            },
            "marker": {
             "colorbar": {
              "outlinewidth": 0,
              "ticks": ""
             }
            },
            "type": "scatter3d"
           }
          ],
          "scattercarpet": [
           {
            "marker": {
             "colorbar": {
              "outlinewidth": 0,
              "ticks": ""
             }
            },
            "type": "scattercarpet"
           }
          ],
          "scattergeo": [
           {
            "marker": {
             "colorbar": {
              "outlinewidth": 0,
              "ticks": ""
             }
            },
            "type": "scattergeo"
           }
          ],
          "scattergl": [
           {
            "marker": {
             "colorbar": {
              "outlinewidth": 0,
              "ticks": ""
             }
            },
            "type": "scattergl"
           }
          ],
          "scattermapbox": [
           {
            "marker": {
             "colorbar": {
              "outlinewidth": 0,
              "ticks": ""
             }
            },
            "type": "scattermapbox"
           }
          ],
          "scatterpolar": [
           {
            "marker": {
             "colorbar": {
              "outlinewidth": 0,
              "ticks": ""
             }
            },
            "type": "scatterpolar"
           }
          ],
          "scatterpolargl": [
           {
            "marker": {
             "colorbar": {
              "outlinewidth": 0,
              "ticks": ""
             }
            },
            "type": "scatterpolargl"
           }
          ],
          "scatterternary": [
           {
            "marker": {
             "colorbar": {
              "outlinewidth": 0,
              "ticks": ""
             }
            },
            "type": "scatterternary"
           }
          ],
          "surface": [
           {
            "colorbar": {
             "outlinewidth": 0,
             "ticks": ""
            },
            "colorscale": [
             [
              0,
              "#0d0887"
             ],
             [
              0.1111111111111111,
              "#46039f"
             ],
             [
              0.2222222222222222,
              "#7201a8"
             ],
             [
              0.3333333333333333,
              "#9c179e"
             ],
             [
              0.4444444444444444,
              "#bd3786"
             ],
             [
              0.5555555555555556,
              "#d8576b"
             ],
             [
              0.6666666666666666,
              "#ed7953"
             ],
             [
              0.7777777777777778,
              "#fb9f3a"
             ],
             [
              0.8888888888888888,
              "#fdca26"
             ],
             [
              1,
              "#f0f921"
             ]
            ],
            "type": "surface"
           }
          ],
          "table": [
           {
            "cells": {
             "fill": {
              "color": "#EBF0F8"
             },
             "line": {
              "color": "white"
             }
            },
            "header": {
             "fill": {
              "color": "#C8D4E3"
             },
             "line": {
              "color": "white"
             }
            },
            "type": "table"
           }
          ]
         },
         "layout": {
          "annotationdefaults": {
           "arrowcolor": "#2a3f5f",
           "arrowhead": 0,
           "arrowwidth": 1
          },
          "autotypenumbers": "strict",
          "coloraxis": {
           "colorbar": {
            "outlinewidth": 0,
            "ticks": ""
           }
          },
          "colorscale": {
           "diverging": [
            [
             0,
             "#8e0152"
            ],
            [
             0.1,
             "#c51b7d"
            ],
            [
             0.2,
             "#de77ae"
            ],
            [
             0.3,
             "#f1b6da"
            ],
            [
             0.4,
             "#fde0ef"
            ],
            [
             0.5,
             "#f7f7f7"
            ],
            [
             0.6,
             "#e6f5d0"
            ],
            [
             0.7,
             "#b8e186"
            ],
            [
             0.8,
             "#7fbc41"
            ],
            [
             0.9,
             "#4d9221"
            ],
            [
             1,
             "#276419"
            ]
           ],
           "sequential": [
            [
             0,
             "#0d0887"
            ],
            [
             0.1111111111111111,
             "#46039f"
            ],
            [
             0.2222222222222222,
             "#7201a8"
            ],
            [
             0.3333333333333333,
             "#9c179e"
            ],
            [
             0.4444444444444444,
             "#bd3786"
            ],
            [
             0.5555555555555556,
             "#d8576b"
            ],
            [
             0.6666666666666666,
             "#ed7953"
            ],
            [
             0.7777777777777778,
             "#fb9f3a"
            ],
            [
             0.8888888888888888,
             "#fdca26"
            ],
            [
             1,
             "#f0f921"
            ]
           ],
           "sequentialminus": [
            [
             0,
             "#0d0887"
            ],
            [
             0.1111111111111111,
             "#46039f"
            ],
            [
             0.2222222222222222,
             "#7201a8"
            ],
            [
             0.3333333333333333,
             "#9c179e"
            ],
            [
             0.4444444444444444,
             "#bd3786"
            ],
            [
             0.5555555555555556,
             "#d8576b"
            ],
            [
             0.6666666666666666,
             "#ed7953"
            ],
            [
             0.7777777777777778,
             "#fb9f3a"
            ],
            [
             0.8888888888888888,
             "#fdca26"
            ],
            [
             1,
             "#f0f921"
            ]
           ]
          },
          "colorway": [
           "#636efa",
           "#EF553B",
           "#00cc96",
           "#ab63fa",
           "#FFA15A",
           "#19d3f3",
           "#FF6692",
           "#B6E880",
           "#FF97FF",
           "#FECB52"
          ],
          "font": {
           "color": "#2a3f5f"
          },
          "geo": {
           "bgcolor": "white",
           "lakecolor": "white",
           "landcolor": "#E5ECF6",
           "showlakes": true,
           "showland": true,
           "subunitcolor": "white"
          },
          "hoverlabel": {
           "align": "left"
          },
          "hovermode": "closest",
          "mapbox": {
           "style": "light"
          },
          "paper_bgcolor": "white",
          "plot_bgcolor": "#E5ECF6",
          "polar": {
           "angularaxis": {
            "gridcolor": "white",
            "linecolor": "white",
            "ticks": ""
           },
           "bgcolor": "#E5ECF6",
           "radialaxis": {
            "gridcolor": "white",
            "linecolor": "white",
            "ticks": ""
           }
          },
          "scene": {
           "xaxis": {
            "backgroundcolor": "#E5ECF6",
            "gridcolor": "white",
            "gridwidth": 2,
            "linecolor": "white",
            "showbackground": true,
            "ticks": "",
            "zerolinecolor": "white"
           },
           "yaxis": {
            "backgroundcolor": "#E5ECF6",
            "gridcolor": "white",
            "gridwidth": 2,
            "linecolor": "white",
            "showbackground": true,
            "ticks": "",
            "zerolinecolor": "white"
           },
           "zaxis": {
            "backgroundcolor": "#E5ECF6",
            "gridcolor": "white",
            "gridwidth": 2,
            "linecolor": "white",
            "showbackground": true,
            "ticks": "",
            "zerolinecolor": "white"
           }
          },
          "shapedefaults": {
           "line": {
            "color": "#2a3f5f"
           }
          },
          "ternary": {
           "aaxis": {
            "gridcolor": "white",
            "linecolor": "white",
            "ticks": ""
           },
           "baxis": {
            "gridcolor": "white",
            "linecolor": "white",
            "ticks": ""
           },
           "bgcolor": "#E5ECF6",
           "caxis": {
            "gridcolor": "white",
            "linecolor": "white",
            "ticks": ""
           }
          },
          "title": {
           "x": 0.05
          },
          "xaxis": {
           "automargin": true,
           "gridcolor": "white",
           "linecolor": "white",
           "ticks": "",
           "title": {
            "standoff": 15
           },
           "zerolinecolor": "white",
           "zerolinewidth": 2
          },
          "yaxis": {
           "automargin": true,
           "gridcolor": "white",
           "linecolor": "white",
           "ticks": "",
           "title": {
            "standoff": 15
           },
           "zerolinecolor": "white",
           "zerolinewidth": 2
          }
         }
        },
        "title": {
         "text": "Number of Observations per Hour of the Day"
        },
        "xaxis": {
         "anchor": "y",
         "domain": [
          0,
          1
         ],
         "tickmode": "linear",
         "title": {
          "text": "Hour of the Day"
         }
        },
        "yaxis": {
         "anchor": "x",
         "domain": [
          0,
          1
         ],
         "title": {
          "text": "Number of Observations"
         }
        }
       }
      }
     },
     "metadata": {},
     "output_type": "display_data"
    }
   ],
   "source": [
    "all_hours = range(24)\n",
    "hourly_counts = data['hour'].value_counts().reindex(all_hours, fill_value=0)\n",
    "\n",
    "total_observations = hourly_counts.sum()\n",
    "hourly_percentage = (hourly_counts / total_observations) * 100\n",
    "\n",
    "hourly_df = pd.DataFrame({'Hour': hourly_counts.index, 'Number of Observations': hourly_counts.values, 'Percentage': hourly_percentage.values})\n",
    "\n",
    "fig = px.bar(hourly_df, x='Hour', y='Number of Observations', title='Number of Observations per Hour of the Day',\n",
    "             labels={'Hour': 'Hour of the Day', 'Number of Observations': 'Number of Observations'}, \n",
    "             color='Hour')\n",
    "\n",
    "for i in range(len(hourly_df)):\n",
    "    fig.add_annotation(x=hourly_df['Hour'][i], y=hourly_df['Number of Observations'][i], \n",
    "                       text=f'{hourly_df[\"Percentage\"][i]:.1f}%', showarrow=False, \n",
    "                       yshift=10, font=dict(size=10, color='black'))\n",
    "\n",
    "fig.update_layout(xaxis_tickmode='linear')\n",
    "fig.show()"
   ]
  }
 ],
 "metadata": {
  "kernelspec": {
   "display_name": "Python 3",
   "language": "python",
   "name": "python3"
  },
  "language_info": {
   "codemirror_mode": {
    "name": "ipython",
    "version": 3
   },
   "file_extension": ".py",
   "mimetype": "text/x-python",
   "name": "python",
   "nbconvert_exporter": "python",
   "pygments_lexer": "ipython3",
   "version": "3.12.3"
  }
 },
 "nbformat": 4,
 "nbformat_minor": 2
}
