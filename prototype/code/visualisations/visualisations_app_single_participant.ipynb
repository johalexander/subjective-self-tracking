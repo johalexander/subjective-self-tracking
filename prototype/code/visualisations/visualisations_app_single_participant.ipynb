{
 "cells": [
  {
   "cell_type": "code",
   "execution_count": 5,
   "metadata": {},
   "outputs": [],
   "source": [
    "import pandas as pd\n",
    "import numpy as np\n",
    "import json\n",
    "import calculations\n",
    "import plotly.express as px\n",
    "import plotly.subplots as sp\n",
    "import plotly.graph_objects as go\n",
    "import statsmodels.api as sm\n",
    "import warnings\n",
    "from scipy.stats import iqr, skew, kurtosis, pearsonr, ttest_ind"
   ]
  },
  {
   "cell_type": "code",
   "execution_count": 6,
   "metadata": {},
   "outputs": [],
   "source": [
    "# Disable runtime warnings due to datasets containing NaNs after skew/kurtosis calcs\n",
    "warnings.filterwarnings('ignore', category=RuntimeWarning)\n",
    "\n",
    "# Process data\n",
    "   \n",
    "stimuli = []\n",
    "outlier = []\n",
    "scale_type = {\n",
    "    \"gesture_pitch_number\": 100,\n",
    "    \"gesture_roll_number\": 100,\n",
    "    \"slider_number\": 100,\n",
    "    \"gesture_pitch_greyscale\": 49,\n",
    "    \"gesture_roll_greyscale\": 49,\n",
    "    \"slider_greyscale\": 49,\n",
    "}\n",
    "\n",
    "outlier_cut_off = {\n",
    "    \"gesture_pitch_number\": 50,\n",
    "    \"gesture_roll_number\": 50,\n",
    "    \"slider_number\": 50,\n",
    "    \"gesture_pitch_greyscale\": 25,\n",
    "    \"gesture_roll_greyscale\": 25,\n",
    "    \"slider_greyscale\": 25,\n",
    "}\n",
    "\n",
    "truth_value_batches_100 = [\n",
    "    [i for i in range(0, 10)],\n",
    "    [i for i in range(10, 20)],\n",
    "    [i for i in range(20, 30)],\n",
    "    [i for i in range(30, 40)],\n",
    "    [i for i in range(40, 50)],\n",
    "    [i for i in range(50, 60)],\n",
    "    [i for i in range(60, 70)],\n",
    "    [i for i in range(70, 80)],\n",
    "    [i for i in range(80, 90)],\n",
    "    [i for i in range(90, 101)]\n",
    "]\n",
    "\n",
    "truth_value_batches_49 = [\n",
    "    [i for i in range(0, 10)],\n",
    "    [i for i in range(10, 20)],\n",
    "    [i for i in range(20, 30)],\n",
    "    [i for i in range(30, 40)],\n",
    "    [i for i in range(40, 50)]\n",
    "]\n",
    "\n",
    "experiment_truth_type = {\n",
    "    \"gesture_pitch_number\": {\n",
    "        \"truth\": \"pitch_truth\",\n",
    "        \"truth_diff\": \"pitch_truth_diff\",\n",
    "        \"label\": \"Pitch Truth\",\n",
    "        \"input_type\": \"device\"\n",
    "    },\n",
    "    \"gesture_pitch_greyscale\": {\n",
    "        \"truth\": \"pitch_truth\",\n",
    "        \"truth_diff\": \"pitch_truth_diff\",\n",
    "        \"label\": \"Pitch Truth\",\n",
    "        \"input_type\": \"device\"\n",
    "    },\n",
    "    \"gesture_roll_number\": {\n",
    "        \"truth\": \"roll_truth\",\n",
    "        \"truth_diff\": \"roll_truth_diff\",\n",
    "        \"label\": \"Roll Truth\",\n",
    "        \"input_type\": \"device\"\n",
    "    },\n",
    "    \"gesture_roll_greyscale\": {\n",
    "        \"truth\": \"roll_truth\",\n",
    "        \"truth_diff\": \"roll_truth_diff\",\n",
    "        \"label\": \"Roll Truth\",\n",
    "        \"input_type\": \"device\"\n",
    "    },\n",
    "    \"slider_number\": {\n",
    "        \"truth\": \"value\",\n",
    "        \"truth_diff\": \"slider_diff\",\n",
    "        \"label\": \"Slider Value\",\n",
    "        \"input_type\": \"slider\"\n",
    "    },\n",
    "    \"slider_greyscale\": {\n",
    "        \"truth\": \"value\",\n",
    "        \"truth_diff\": \"slider_diff\",\n",
    "        \"label\": \"Slider Value\",\n",
    "        \"input_type\": \"slider\"\n",
    "    },\n",
    "}\n",
    "\n",
    "def ensure_not_outlier(value, experiment_type):\n",
    "    cut_off = outlier_cut_off[experiment_type]\n",
    "    return value < cut_off\n",
    "\n",
    "with open('experiment_data/experiment_data_14.json', 'r') as file:\n",
    "    data = json.load(file)\n",
    "\n",
    "    if data:\n",
    "        for experiment in data[\"completedExperiments\"]:\n",
    "            experiment_type = experiment.get(\"experimentType\")\n",
    "            started_date = experiment.get(\"startedDate\")\n",
    "            ended_date = experiment.get(\"endedDate\")\n",
    "            for stimulus in experiment[\"successfulStimuli\"]:\n",
    "                sensor_reading = stimulus.get(\"sensorReading\", {})\n",
    "                quaternion = (\n",
    "                    sensor_reading.get(\"x\"),\n",
    "                    sensor_reading.get(\"y\"),\n",
    "                    sensor_reading.get(\"z\"),\n",
    "                    sensor_reading.get(\"w\"),\n",
    "                )\n",
    "                _, roll, pitch = calculations.quaternion_to_euler(*quaternion)\n",
    "                \n",
    "                sensor_reading[\"roll\"] = roll\n",
    "                sensor_reading[\"pitch\"] = pitch\n",
    "\n",
    "                pitch_scaled = calculations.scale_pitch(pitch, scale_type[experiment_type])\n",
    "                roll_scaled = calculations.scale_roll(roll, scale_type[experiment_type])\n",
    "                truth_value = stimulus.get(\"truth\")\n",
    "                slider_value = stimulus.get(\"value\")\n",
    "                \n",
    "                pitch_difference = abs(truth_value - pitch_scaled)\n",
    "                roll_difference = abs(truth_value - roll_scaled)\n",
    "\n",
    "                stimulus[\"pitch\"] = pitch\n",
    "                stimulus[\"pitch_truth\"] = pitch_scaled\n",
    "                stimulus[\"pitch_truth_diff\"] = pitch_difference\n",
    "            \n",
    "                stimulus[\"roll\"] = roll\n",
    "                stimulus[\"roll_truth\"] = roll_scaled\n",
    "                stimulus[\"roll_truth_diff\"] = roll_difference\n",
    "                \n",
    "                stimulus[\"slider_diff\"] = abs(truth_value - slider_value)\n",
    "                \n",
    "                if truth_value == 0:\n",
    "                    stimulus[\"pitch_truth_diff_percentage\"] = (pitch_scaled / scale_type[experiment_type]) * 100\n",
    "                    stimulus[\"roll_truth_diff_percentage\"] = (roll_scaled / scale_type[experiment_type]) * 100\n",
    "                else:\n",
    "                    stimulus[\"pitch_truth_diff_percentage\"] = (pitch_difference / truth_value) * 100\n",
    "                    stimulus[\"roll_truth_diff_percentage\"] = (roll_difference / truth_value) * 100\n",
    "                    \n",
    "                stimulus[\"experiment_type\"] = experiment_type\n",
    "                stimulus[\"experiment_time_spent\"] = ended_date - started_date\n",
    "                stimulus[\"calibration\"] = sensor_reading.get(\"calibration_status\")\n",
    "                \n",
    "                diff = stimulus[experiment_truth_type[experiment_type][\"truth_diff\"]]\n",
    "                if ensure_not_outlier(diff, experiment_type):\n",
    "                    stimuli.append(stimulus)\n",
    "                else:\n",
    "                    outlier.append(stimulus)\n",
    "\n",
    "df = pd.DataFrame(data=stimuli)\n",
    "o_df = pd.DataFrame(data=outlier)"
   ]
  },
  {
   "cell_type": "code",
   "execution_count": 7,
   "metadata": {},
   "outputs": [
    {
     "name": "stdout",
     "output_type": "stream",
     "text": [
      "Valid stimuli: 106\n",
      "Outliers: 14\n",
      "Percentage of outliers: 13.20754716981132\n"
     ]
    }
   ],
   "source": [
    "print(f'Valid stimuli: {len(df)}')\n",
    "print(f'Outliers: {len(o_df)}')\n",
    "print(f'Percentage of outliers: {len(o_df) / len(df) * 100}')"
   ]
  },
  {
   "cell_type": "code",
   "execution_count": 8,
   "metadata": {},
   "outputs": [
    {
     "data": {
      "text/html": [
       "<div>\n",
       "<style scoped>\n",
       "    .dataframe tbody tr th:only-of-type {\n",
       "        vertical-align: middle;\n",
       "    }\n",
       "\n",
       "    .dataframe tbody tr th {\n",
       "        vertical-align: top;\n",
       "    }\n",
       "\n",
       "    .dataframe thead th {\n",
       "        text-align: right;\n",
       "    }\n",
       "</style>\n",
       "<table border=\"1\" class=\"dataframe\">\n",
       "  <thead>\n",
       "    <tr style=\"text-align: right;\">\n",
       "      <th></th>\n",
       "      <th>sensorReading</th>\n",
       "      <th>inputType</th>\n",
       "      <th>value</th>\n",
       "      <th>truth</th>\n",
       "      <th>id</th>\n",
       "      <th>pitch</th>\n",
       "      <th>pitch_truth</th>\n",
       "      <th>pitch_truth_diff</th>\n",
       "      <th>roll</th>\n",
       "      <th>roll_truth</th>\n",
       "      <th>roll_truth_diff</th>\n",
       "      <th>slider_diff</th>\n",
       "      <th>pitch_truth_diff_percentage</th>\n",
       "      <th>roll_truth_diff_percentage</th>\n",
       "      <th>experiment_type</th>\n",
       "      <th>experiment_time_spent</th>\n",
       "      <th>calibration</th>\n",
       "    </tr>\n",
       "  </thead>\n",
       "  <tbody>\n",
       "    <tr>\n",
       "      <th>0</th>\n",
       "      <td>{'w': 0.00860596, 'z': 0.789124, 'stability': ...</td>\n",
       "      <td>device</td>\n",
       "      <td>0.0</td>\n",
       "      <td>20</td>\n",
       "      <td>1</td>\n",
       "      <td>13.462403</td>\n",
       "      <td>7</td>\n",
       "      <td>13</td>\n",
       "      <td>-15.813298</td>\n",
       "      <td>9</td>\n",
       "      <td>11</td>\n",
       "      <td>20.0</td>\n",
       "      <td>65.000000</td>\n",
       "      <td>55.000000</td>\n",
       "      <td>gesture_pitch_greyscale</td>\n",
       "      <td>139.32251</td>\n",
       "      <td>2</td>\n",
       "    </tr>\n",
       "    <tr>\n",
       "      <th>1</th>\n",
       "      <td>{'duration': 167, 'x': -0.204102, 'stability':...</td>\n",
       "      <td>device</td>\n",
       "      <td>0.0</td>\n",
       "      <td>5</td>\n",
       "      <td>2</td>\n",
       "      <td>21.499965</td>\n",
       "      <td>12</td>\n",
       "      <td>7</td>\n",
       "      <td>-13.396093</td>\n",
       "      <td>7</td>\n",
       "      <td>2</td>\n",
       "      <td>5.0</td>\n",
       "      <td>140.000000</td>\n",
       "      <td>40.000000</td>\n",
       "      <td>gesture_pitch_greyscale</td>\n",
       "      <td>139.32251</td>\n",
       "      <td>2</td>\n",
       "    </tr>\n",
       "    <tr>\n",
       "      <th>2</th>\n",
       "      <td>{'stability': 'In motion', 'z': 0.62384, 'cali...</td>\n",
       "      <td>device</td>\n",
       "      <td>0.0</td>\n",
       "      <td>29</td>\n",
       "      <td>4</td>\n",
       "      <td>81.944114</td>\n",
       "      <td>45</td>\n",
       "      <td>16</td>\n",
       "      <td>-2.046509</td>\n",
       "      <td>1</td>\n",
       "      <td>28</td>\n",
       "      <td>29.0</td>\n",
       "      <td>55.172414</td>\n",
       "      <td>96.551724</td>\n",
       "      <td>gesture_pitch_greyscale</td>\n",
       "      <td>139.32251</td>\n",
       "      <td>2</td>\n",
       "    </tr>\n",
       "    <tr>\n",
       "      <th>3</th>\n",
       "      <td>{'calibration_status': 2, 'x': -0.282837, 'y':...</td>\n",
       "      <td>device</td>\n",
       "      <td>0.0</td>\n",
       "      <td>37</td>\n",
       "      <td>8</td>\n",
       "      <td>36.962015</td>\n",
       "      <td>20</td>\n",
       "      <td>17</td>\n",
       "      <td>-13.806352</td>\n",
       "      <td>8</td>\n",
       "      <td>29</td>\n",
       "      <td>37.0</td>\n",
       "      <td>45.945946</td>\n",
       "      <td>78.378378</td>\n",
       "      <td>gesture_pitch_greyscale</td>\n",
       "      <td>139.32251</td>\n",
       "      <td>2</td>\n",
       "    </tr>\n",
       "    <tr>\n",
       "      <th>4</th>\n",
       "      <td>{'timestamp': 1719319653, 'y': -0.483765, 'dur...</td>\n",
       "      <td>device</td>\n",
       "      <td>0.0</td>\n",
       "      <td>43</td>\n",
       "      <td>9</td>\n",
       "      <td>68.391026</td>\n",
       "      <td>37</td>\n",
       "      <td>6</td>\n",
       "      <td>-9.929701</td>\n",
       "      <td>5</td>\n",
       "      <td>38</td>\n",
       "      <td>43.0</td>\n",
       "      <td>13.953488</td>\n",
       "      <td>88.372093</td>\n",
       "      <td>gesture_pitch_greyscale</td>\n",
       "      <td>139.32251</td>\n",
       "      <td>2</td>\n",
       "    </tr>\n",
       "    <tr>\n",
       "      <th>5</th>\n",
       "      <td>{'calibration_status': 2, 'x': -0.081665, 'sta...</td>\n",
       "      <td>device</td>\n",
       "      <td>0.0</td>\n",
       "      <td>22</td>\n",
       "      <td>11</td>\n",
       "      <td>4.023380</td>\n",
       "      <td>2</td>\n",
       "      <td>20</td>\n",
       "      <td>-8.500110</td>\n",
       "      <td>5</td>\n",
       "      <td>17</td>\n",
       "      <td>22.0</td>\n",
       "      <td>90.909091</td>\n",
       "      <td>77.272727</td>\n",
       "      <td>gesture_pitch_greyscale</td>\n",
       "      <td>139.32251</td>\n",
       "      <td>2</td>\n",
       "    </tr>\n",
       "    <tr>\n",
       "      <th>6</th>\n",
       "      <td>{'calibration_status': 2, 'timestamp': 1719319...</td>\n",
       "      <td>device</td>\n",
       "      <td>0.0</td>\n",
       "      <td>38</td>\n",
       "      <td>12</td>\n",
       "      <td>32.401936</td>\n",
       "      <td>18</td>\n",
       "      <td>20</td>\n",
       "      <td>-8.218408</td>\n",
       "      <td>4</td>\n",
       "      <td>34</td>\n",
       "      <td>38.0</td>\n",
       "      <td>52.631579</td>\n",
       "      <td>89.473684</td>\n",
       "      <td>gesture_pitch_greyscale</td>\n",
       "      <td>139.32251</td>\n",
       "      <td>2</td>\n",
       "    </tr>\n",
       "    <tr>\n",
       "      <th>7</th>\n",
       "      <td>{'calibration_status': 2, 'timestamp': 1719319...</td>\n",
       "      <td>device</td>\n",
       "      <td>0.0</td>\n",
       "      <td>30</td>\n",
       "      <td>13</td>\n",
       "      <td>69.000765</td>\n",
       "      <td>38</td>\n",
       "      <td>8</td>\n",
       "      <td>-15.142337</td>\n",
       "      <td>8</td>\n",
       "      <td>22</td>\n",
       "      <td>30.0</td>\n",
       "      <td>26.666667</td>\n",
       "      <td>73.333333</td>\n",
       "      <td>gesture_pitch_greyscale</td>\n",
       "      <td>139.32251</td>\n",
       "      <td>2</td>\n",
       "    </tr>\n",
       "    <tr>\n",
       "      <th>8</th>\n",
       "      <td>{'z': 0.728394, 'activity_confidence': 76, 'du...</td>\n",
       "      <td>device</td>\n",
       "      <td>0.0</td>\n",
       "      <td>26</td>\n",
       "      <td>14</td>\n",
       "      <td>55.030589</td>\n",
       "      <td>30</td>\n",
       "      <td>4</td>\n",
       "      <td>-11.442688</td>\n",
       "      <td>6</td>\n",
       "      <td>20</td>\n",
       "      <td>26.0</td>\n",
       "      <td>15.384615</td>\n",
       "      <td>76.923077</td>\n",
       "      <td>gesture_pitch_greyscale</td>\n",
       "      <td>139.32251</td>\n",
       "      <td>2</td>\n",
       "    </tr>\n",
       "    <tr>\n",
       "      <th>9</th>\n",
       "      <td>{'duration': 157, 'x': -0.345032, 'timestamp':...</td>\n",
       "      <td>device</td>\n",
       "      <td>0.0</td>\n",
       "      <td>12</td>\n",
       "      <td>15</td>\n",
       "      <td>46.557802</td>\n",
       "      <td>25</td>\n",
       "      <td>13</td>\n",
       "      <td>-16.140466</td>\n",
       "      <td>9</td>\n",
       "      <td>3</td>\n",
       "      <td>12.0</td>\n",
       "      <td>108.333333</td>\n",
       "      <td>25.000000</td>\n",
       "      <td>gesture_pitch_greyscale</td>\n",
       "      <td>139.32251</td>\n",
       "      <td>2</td>\n",
       "    </tr>\n",
       "    <tr>\n",
       "      <th>10</th>\n",
       "      <td>{'activity_confidence': 86, 'duration': 171, '...</td>\n",
       "      <td>device</td>\n",
       "      <td>0.0</td>\n",
       "      <td>0</td>\n",
       "      <td>16</td>\n",
       "      <td>30.286223</td>\n",
       "      <td>16</td>\n",
       "      <td>16</td>\n",
       "      <td>-19.700962</td>\n",
       "      <td>11</td>\n",
       "      <td>11</td>\n",
       "      <td>0.0</td>\n",
       "      <td>32.653061</td>\n",
       "      <td>22.448980</td>\n",
       "      <td>gesture_pitch_greyscale</td>\n",
       "      <td>139.32251</td>\n",
       "      <td>2</td>\n",
       "    </tr>\n",
       "    <tr>\n",
       "      <th>11</th>\n",
       "      <td>{'w': 0.538696, 'z': 0.614563, 'duration': 191...</td>\n",
       "      <td>device</td>\n",
       "      <td>0.0</td>\n",
       "      <td>47</td>\n",
       "      <td>18</td>\n",
       "      <td>86.800389</td>\n",
       "      <td>47</td>\n",
       "      <td>0</td>\n",
       "      <td>-6.147657</td>\n",
       "      <td>3</td>\n",
       "      <td>44</td>\n",
       "      <td>47.0</td>\n",
       "      <td>0.000000</td>\n",
       "      <td>93.617021</td>\n",
       "      <td>gesture_pitch_greyscale</td>\n",
       "      <td>139.32251</td>\n",
       "      <td>2</td>\n",
       "    </tr>\n",
       "    <tr>\n",
       "      <th>12</th>\n",
       "      <td>{'activity_confidence': 74, 'w': 0.550293, 'ac...</td>\n",
       "      <td>device</td>\n",
       "      <td>0.0</td>\n",
       "      <td>35</td>\n",
       "      <td>19</td>\n",
       "      <td>93.037062</td>\n",
       "      <td>49</td>\n",
       "      <td>14</td>\n",
       "      <td>-4.477633</td>\n",
       "      <td>2</td>\n",
       "      <td>33</td>\n",
       "      <td>35.0</td>\n",
       "      <td>40.000000</td>\n",
       "      <td>94.285714</td>\n",
       "      <td>gesture_pitch_greyscale</td>\n",
       "      <td>139.32251</td>\n",
       "      <td>2</td>\n",
       "    </tr>\n",
       "  </tbody>\n",
       "</table>\n",
       "</div>"
      ],
      "text/plain": [
       "                                        sensorReading inputType  value  truth  \\\n",
       "0   {'w': 0.00860596, 'z': 0.789124, 'stability': ...    device    0.0     20   \n",
       "1   {'duration': 167, 'x': -0.204102, 'stability':...    device    0.0      5   \n",
       "2   {'stability': 'In motion', 'z': 0.62384, 'cali...    device    0.0     29   \n",
       "3   {'calibration_status': 2, 'x': -0.282837, 'y':...    device    0.0     37   \n",
       "4   {'timestamp': 1719319653, 'y': -0.483765, 'dur...    device    0.0     43   \n",
       "5   {'calibration_status': 2, 'x': -0.081665, 'sta...    device    0.0     22   \n",
       "6   {'calibration_status': 2, 'timestamp': 1719319...    device    0.0     38   \n",
       "7   {'calibration_status': 2, 'timestamp': 1719319...    device    0.0     30   \n",
       "8   {'z': 0.728394, 'activity_confidence': 76, 'du...    device    0.0     26   \n",
       "9   {'duration': 157, 'x': -0.345032, 'timestamp':...    device    0.0     12   \n",
       "10  {'activity_confidence': 86, 'duration': 171, '...    device    0.0      0   \n",
       "11  {'w': 0.538696, 'z': 0.614563, 'duration': 191...    device    0.0     47   \n",
       "12  {'activity_confidence': 74, 'w': 0.550293, 'ac...    device    0.0     35   \n",
       "\n",
       "    id      pitch  pitch_truth  pitch_truth_diff       roll  roll_truth  \\\n",
       "0    1  13.462403            7                13 -15.813298           9   \n",
       "1    2  21.499965           12                 7 -13.396093           7   \n",
       "2    4  81.944114           45                16  -2.046509           1   \n",
       "3    8  36.962015           20                17 -13.806352           8   \n",
       "4    9  68.391026           37                 6  -9.929701           5   \n",
       "5   11   4.023380            2                20  -8.500110           5   \n",
       "6   12  32.401936           18                20  -8.218408           4   \n",
       "7   13  69.000765           38                 8 -15.142337           8   \n",
       "8   14  55.030589           30                 4 -11.442688           6   \n",
       "9   15  46.557802           25                13 -16.140466           9   \n",
       "10  16  30.286223           16                16 -19.700962          11   \n",
       "11  18  86.800389           47                 0  -6.147657           3   \n",
       "12  19  93.037062           49                14  -4.477633           2   \n",
       "\n",
       "    roll_truth_diff  slider_diff  pitch_truth_diff_percentage  \\\n",
       "0                11         20.0                    65.000000   \n",
       "1                 2          5.0                   140.000000   \n",
       "2                28         29.0                    55.172414   \n",
       "3                29         37.0                    45.945946   \n",
       "4                38         43.0                    13.953488   \n",
       "5                17         22.0                    90.909091   \n",
       "6                34         38.0                    52.631579   \n",
       "7                22         30.0                    26.666667   \n",
       "8                20         26.0                    15.384615   \n",
       "9                 3         12.0                   108.333333   \n",
       "10               11          0.0                    32.653061   \n",
       "11               44         47.0                     0.000000   \n",
       "12               33         35.0                    40.000000   \n",
       "\n",
       "    roll_truth_diff_percentage          experiment_type  \\\n",
       "0                    55.000000  gesture_pitch_greyscale   \n",
       "1                    40.000000  gesture_pitch_greyscale   \n",
       "2                    96.551724  gesture_pitch_greyscale   \n",
       "3                    78.378378  gesture_pitch_greyscale   \n",
       "4                    88.372093  gesture_pitch_greyscale   \n",
       "5                    77.272727  gesture_pitch_greyscale   \n",
       "6                    89.473684  gesture_pitch_greyscale   \n",
       "7                    73.333333  gesture_pitch_greyscale   \n",
       "8                    76.923077  gesture_pitch_greyscale   \n",
       "9                    25.000000  gesture_pitch_greyscale   \n",
       "10                   22.448980  gesture_pitch_greyscale   \n",
       "11                   93.617021  gesture_pitch_greyscale   \n",
       "12                   94.285714  gesture_pitch_greyscale   \n",
       "\n",
       "    experiment_time_spent  calibration  \n",
       "0               139.32251            2  \n",
       "1               139.32251            2  \n",
       "2               139.32251            2  \n",
       "3               139.32251            2  \n",
       "4               139.32251            2  \n",
       "5               139.32251            2  \n",
       "6               139.32251            2  \n",
       "7               139.32251            2  \n",
       "8               139.32251            2  \n",
       "9               139.32251            2  \n",
       "10              139.32251            2  \n",
       "11              139.32251            2  \n",
       "12              139.32251            2  "
      ]
     },
     "execution_count": 8,
     "metadata": {},
     "output_type": "execute_result"
    }
   ],
   "source": [
    "df[df[\"experiment_type\"] == \"gesture_pitch_greyscale\"]"
   ]
  },
  {
   "cell_type": "code",
   "execution_count": 9,
   "metadata": {},
   "outputs": [
    {
     "data": {
      "text/html": [
       "<div>\n",
       "<style scoped>\n",
       "    .dataframe tbody tr th:only-of-type {\n",
       "        vertical-align: middle;\n",
       "    }\n",
       "\n",
       "    .dataframe tbody tr th {\n",
       "        vertical-align: top;\n",
       "    }\n",
       "\n",
       "    .dataframe thead th {\n",
       "        text-align: right;\n",
       "    }\n",
       "</style>\n",
       "<table border=\"1\" class=\"dataframe\">\n",
       "  <thead>\n",
       "    <tr style=\"text-align: right;\">\n",
       "      <th></th>\n",
       "      <th>sensorReading</th>\n",
       "      <th>inputType</th>\n",
       "      <th>value</th>\n",
       "      <th>truth</th>\n",
       "      <th>id</th>\n",
       "      <th>pitch</th>\n",
       "      <th>pitch_truth</th>\n",
       "      <th>pitch_truth_diff</th>\n",
       "      <th>roll</th>\n",
       "      <th>roll_truth</th>\n",
       "      <th>roll_truth_diff</th>\n",
       "      <th>slider_diff</th>\n",
       "      <th>pitch_truth_diff_percentage</th>\n",
       "      <th>roll_truth_diff_percentage</th>\n",
       "      <th>experiment_type</th>\n",
       "      <th>experiment_time_spent</th>\n",
       "      <th>calibration</th>\n",
       "    </tr>\n",
       "  </thead>\n",
       "  <tbody>\n",
       "    <tr>\n",
       "      <th>13</th>\n",
       "      <td>{'w': 0.180237, 'x': -0.390442, 'calibration_s...</td>\n",
       "      <td>device</td>\n",
       "      <td>0.0</td>\n",
       "      <td>64</td>\n",
       "      <td>1</td>\n",
       "      <td>45.932695</td>\n",
       "      <td>51</td>\n",
       "      <td>13</td>\n",
       "      <td>-25.042959</td>\n",
       "      <td>28</td>\n",
       "      <td>36</td>\n",
       "      <td>64.0</td>\n",
       "      <td>20.312500</td>\n",
       "      <td>56.250000</td>\n",
       "      <td>gesture_pitch_number</td>\n",
       "      <td>112.335365</td>\n",
       "      <td>2</td>\n",
       "    </tr>\n",
       "    <tr>\n",
       "      <th>14</th>\n",
       "      <td>{'w': 0.224854, 'x': -0.380798, 'calibration_s...</td>\n",
       "      <td>device</td>\n",
       "      <td>0.0</td>\n",
       "      <td>67</td>\n",
       "      <td>2</td>\n",
       "      <td>49.044438</td>\n",
       "      <td>54</td>\n",
       "      <td>13</td>\n",
       "      <td>-21.739210</td>\n",
       "      <td>24</td>\n",
       "      <td>43</td>\n",
       "      <td>67.0</td>\n",
       "      <td>19.402985</td>\n",
       "      <td>64.179104</td>\n",
       "      <td>gesture_pitch_number</td>\n",
       "      <td>112.335365</td>\n",
       "      <td>2</td>\n",
       "    </tr>\n",
       "    <tr>\n",
       "      <th>15</th>\n",
       "      <td>{'calibration_status': 2, 'duration': 181, 'y'...</td>\n",
       "      <td>device</td>\n",
       "      <td>0.0</td>\n",
       "      <td>91</td>\n",
       "      <td>3</td>\n",
       "      <td>70.892690</td>\n",
       "      <td>79</td>\n",
       "      <td>12</td>\n",
       "      <td>-17.946928</td>\n",
       "      <td>20</td>\n",
       "      <td>71</td>\n",
       "      <td>91.0</td>\n",
       "      <td>13.186813</td>\n",
       "      <td>78.021978</td>\n",
       "      <td>gesture_pitch_number</td>\n",
       "      <td>112.335365</td>\n",
       "      <td>2</td>\n",
       "    </tr>\n",
       "    <tr>\n",
       "      <th>16</th>\n",
       "      <td>{'x': -0.392883, 'activity_confidence': 91, 'z...</td>\n",
       "      <td>device</td>\n",
       "      <td>0.0</td>\n",
       "      <td>62</td>\n",
       "      <td>4</td>\n",
       "      <td>48.791011</td>\n",
       "      <td>54</td>\n",
       "      <td>8</td>\n",
       "      <td>-23.174989</td>\n",
       "      <td>26</td>\n",
       "      <td>36</td>\n",
       "      <td>62.0</td>\n",
       "      <td>12.903226</td>\n",
       "      <td>58.064516</td>\n",
       "      <td>gesture_pitch_number</td>\n",
       "      <td>112.335365</td>\n",
       "      <td>2</td>\n",
       "    </tr>\n",
       "    <tr>\n",
       "      <th>17</th>\n",
       "      <td>{'z': 0.732666, 'timestamp': 1719319747, 'acti...</td>\n",
       "      <td>device</td>\n",
       "      <td>0.0</td>\n",
       "      <td>74</td>\n",
       "      <td>5</td>\n",
       "      <td>59.346314</td>\n",
       "      <td>66</td>\n",
       "      <td>8</td>\n",
       "      <td>-24.082532</td>\n",
       "      <td>27</td>\n",
       "      <td>47</td>\n",
       "      <td>74.0</td>\n",
       "      <td>10.810811</td>\n",
       "      <td>63.513514</td>\n",
       "      <td>gesture_pitch_number</td>\n",
       "      <td>112.335365</td>\n",
       "      <td>2</td>\n",
       "    </tr>\n",
       "    <tr>\n",
       "      <th>18</th>\n",
       "      <td>{'duration': 190, 'activity_confidence': 94, '...</td>\n",
       "      <td>device</td>\n",
       "      <td>0.0</td>\n",
       "      <td>68</td>\n",
       "      <td>6</td>\n",
       "      <td>48.647061</td>\n",
       "      <td>54</td>\n",
       "      <td>14</td>\n",
       "      <td>-29.189574</td>\n",
       "      <td>32</td>\n",
       "      <td>36</td>\n",
       "      <td>68.0</td>\n",
       "      <td>20.588235</td>\n",
       "      <td>52.941176</td>\n",
       "      <td>gesture_pitch_number</td>\n",
       "      <td>112.335365</td>\n",
       "      <td>2</td>\n",
       "    </tr>\n",
       "    <tr>\n",
       "      <th>19</th>\n",
       "      <td>{'calibration_status': 2, 'y': -0.493164, 'tim...</td>\n",
       "      <td>device</td>\n",
       "      <td>0.0</td>\n",
       "      <td>28</td>\n",
       "      <td>7</td>\n",
       "      <td>27.000324</td>\n",
       "      <td>30</td>\n",
       "      <td>2</td>\n",
       "      <td>-30.461561</td>\n",
       "      <td>34</td>\n",
       "      <td>6</td>\n",
       "      <td>28.0</td>\n",
       "      <td>7.142857</td>\n",
       "      <td>21.428571</td>\n",
       "      <td>gesture_pitch_number</td>\n",
       "      <td>112.335365</td>\n",
       "      <td>2</td>\n",
       "    </tr>\n",
       "    <tr>\n",
       "      <th>20</th>\n",
       "      <td>{'timestamp': 1719319768, 'activity_confidence...</td>\n",
       "      <td>device</td>\n",
       "      <td>0.0</td>\n",
       "      <td>56</td>\n",
       "      <td>8</td>\n",
       "      <td>45.326728</td>\n",
       "      <td>50</td>\n",
       "      <td>6</td>\n",
       "      <td>-24.762911</td>\n",
       "      <td>28</td>\n",
       "      <td>28</td>\n",
       "      <td>56.0</td>\n",
       "      <td>10.714286</td>\n",
       "      <td>50.000000</td>\n",
       "      <td>gesture_pitch_number</td>\n",
       "      <td>112.335365</td>\n",
       "      <td>2</td>\n",
       "    </tr>\n",
       "    <tr>\n",
       "      <th>21</th>\n",
       "      <td>{'z': 0.651733, 'calibration_status': 2, 'dura...</td>\n",
       "      <td>device</td>\n",
       "      <td>0.0</td>\n",
       "      <td>57</td>\n",
       "      <td>9</td>\n",
       "      <td>46.729194</td>\n",
       "      <td>52</td>\n",
       "      <td>5</td>\n",
       "      <td>-24.099269</td>\n",
       "      <td>27</td>\n",
       "      <td>30</td>\n",
       "      <td>57.0</td>\n",
       "      <td>8.771930</td>\n",
       "      <td>52.631579</td>\n",
       "      <td>gesture_pitch_number</td>\n",
       "      <td>112.335365</td>\n",
       "      <td>2</td>\n",
       "    </tr>\n",
       "    <tr>\n",
       "      <th>22</th>\n",
       "      <td>{'duration': 154, 'y': -0.540833, 'x': -0.5241...</td>\n",
       "      <td>device</td>\n",
       "      <td>0.0</td>\n",
       "      <td>93</td>\n",
       "      <td>10</td>\n",
       "      <td>70.042286</td>\n",
       "      <td>78</td>\n",
       "      <td>15</td>\n",
       "      <td>-20.931239</td>\n",
       "      <td>23</td>\n",
       "      <td>70</td>\n",
       "      <td>93.0</td>\n",
       "      <td>16.129032</td>\n",
       "      <td>75.268817</td>\n",
       "      <td>gesture_pitch_number</td>\n",
       "      <td>112.335365</td>\n",
       "      <td>2</td>\n",
       "    </tr>\n",
       "    <tr>\n",
       "      <th>23</th>\n",
       "      <td>{'stability': 'In motion', 'timestamp': 171931...</td>\n",
       "      <td>device</td>\n",
       "      <td>0.0</td>\n",
       "      <td>35</td>\n",
       "      <td>11</td>\n",
       "      <td>34.420823</td>\n",
       "      <td>38</td>\n",
       "      <td>3</td>\n",
       "      <td>-30.598288</td>\n",
       "      <td>34</td>\n",
       "      <td>1</td>\n",
       "      <td>35.0</td>\n",
       "      <td>8.571429</td>\n",
       "      <td>2.857143</td>\n",
       "      <td>gesture_pitch_number</td>\n",
       "      <td>112.335365</td>\n",
       "      <td>2</td>\n",
       "    </tr>\n",
       "    <tr>\n",
       "      <th>24</th>\n",
       "      <td>{'y': -0.650024, 'w': 0.0283813, 'stability': ...</td>\n",
       "      <td>device</td>\n",
       "      <td>0.0</td>\n",
       "      <td>36</td>\n",
       "      <td>12</td>\n",
       "      <td>35.053355</td>\n",
       "      <td>39</td>\n",
       "      <td>3</td>\n",
       "      <td>-26.726072</td>\n",
       "      <td>30</td>\n",
       "      <td>6</td>\n",
       "      <td>36.0</td>\n",
       "      <td>8.333333</td>\n",
       "      <td>16.666667</td>\n",
       "      <td>gesture_pitch_number</td>\n",
       "      <td>112.335365</td>\n",
       "      <td>2</td>\n",
       "    </tr>\n",
       "    <tr>\n",
       "      <th>25</th>\n",
       "      <td>{'timestamp': 1719319786, 'calibration_status'...</td>\n",
       "      <td>device</td>\n",
       "      <td>0.0</td>\n",
       "      <td>44</td>\n",
       "      <td>13</td>\n",
       "      <td>41.661766</td>\n",
       "      <td>46</td>\n",
       "      <td>2</td>\n",
       "      <td>-25.941128</td>\n",
       "      <td>29</td>\n",
       "      <td>15</td>\n",
       "      <td>44.0</td>\n",
       "      <td>4.545455</td>\n",
       "      <td>34.090909</td>\n",
       "      <td>gesture_pitch_number</td>\n",
       "      <td>112.335365</td>\n",
       "      <td>2</td>\n",
       "    </tr>\n",
       "    <tr>\n",
       "      <th>26</th>\n",
       "      <td>{'stability': 'In motion', 'y': -0.655457, 'ti...</td>\n",
       "      <td>device</td>\n",
       "      <td>0.0</td>\n",
       "      <td>4</td>\n",
       "      <td>14</td>\n",
       "      <td>10.757093</td>\n",
       "      <td>12</td>\n",
       "      <td>8</td>\n",
       "      <td>-30.641479</td>\n",
       "      <td>34</td>\n",
       "      <td>30</td>\n",
       "      <td>4.0</td>\n",
       "      <td>200.000000</td>\n",
       "      <td>750.000000</td>\n",
       "      <td>gesture_pitch_number</td>\n",
       "      <td>112.335365</td>\n",
       "      <td>2</td>\n",
       "    </tr>\n",
       "    <tr>\n",
       "      <th>27</th>\n",
       "      <td>{'activity_confidence': 97, 'duration': 222, '...</td>\n",
       "      <td>device</td>\n",
       "      <td>0.0</td>\n",
       "      <td>84</td>\n",
       "      <td>15</td>\n",
       "      <td>65.627957</td>\n",
       "      <td>73</td>\n",
       "      <td>11</td>\n",
       "      <td>-23.458037</td>\n",
       "      <td>26</td>\n",
       "      <td>58</td>\n",
       "      <td>84.0</td>\n",
       "      <td>13.095238</td>\n",
       "      <td>69.047619</td>\n",
       "      <td>gesture_pitch_number</td>\n",
       "      <td>112.335365</td>\n",
       "      <td>2</td>\n",
       "    </tr>\n",
       "    <tr>\n",
       "      <th>28</th>\n",
       "      <td>{'calibration_status': 2, 'y': -0.652527, 'act...</td>\n",
       "      <td>device</td>\n",
       "      <td>0.0</td>\n",
       "      <td>72</td>\n",
       "      <td>16</td>\n",
       "      <td>58.184337</td>\n",
       "      <td>65</td>\n",
       "      <td>7</td>\n",
       "      <td>-25.500344</td>\n",
       "      <td>28</td>\n",
       "      <td>44</td>\n",
       "      <td>72.0</td>\n",
       "      <td>9.722222</td>\n",
       "      <td>61.111111</td>\n",
       "      <td>gesture_pitch_number</td>\n",
       "      <td>112.335365</td>\n",
       "      <td>2</td>\n",
       "    </tr>\n",
       "    <tr>\n",
       "      <th>29</th>\n",
       "      <td>{'timestamp': 1719319809, 'activity_confidence...</td>\n",
       "      <td>device</td>\n",
       "      <td>0.0</td>\n",
       "      <td>87</td>\n",
       "      <td>17</td>\n",
       "      <td>66.130125</td>\n",
       "      <td>73</td>\n",
       "      <td>14</td>\n",
       "      <td>-22.554068</td>\n",
       "      <td>25</td>\n",
       "      <td>62</td>\n",
       "      <td>87.0</td>\n",
       "      <td>16.091954</td>\n",
       "      <td>71.264368</td>\n",
       "      <td>gesture_pitch_number</td>\n",
       "      <td>112.335365</td>\n",
       "      <td>2</td>\n",
       "    </tr>\n",
       "    <tr>\n",
       "      <th>30</th>\n",
       "      <td>{'z': 0.579346, 'activity_confidence': 97, 'y'...</td>\n",
       "      <td>device</td>\n",
       "      <td>0.0</td>\n",
       "      <td>53</td>\n",
       "      <td>18</td>\n",
       "      <td>49.184989</td>\n",
       "      <td>55</td>\n",
       "      <td>2</td>\n",
       "      <td>-29.727963</td>\n",
       "      <td>33</td>\n",
       "      <td>20</td>\n",
       "      <td>53.0</td>\n",
       "      <td>3.773585</td>\n",
       "      <td>37.735849</td>\n",
       "      <td>gesture_pitch_number</td>\n",
       "      <td>112.335365</td>\n",
       "      <td>2</td>\n",
       "    </tr>\n",
       "    <tr>\n",
       "      <th>31</th>\n",
       "      <td>{'y': -0.693909, 'stability': 'Stable', 'activ...</td>\n",
       "      <td>device</td>\n",
       "      <td>0.0</td>\n",
       "      <td>17</td>\n",
       "      <td>19</td>\n",
       "      <td>24.364194</td>\n",
       "      <td>27</td>\n",
       "      <td>10</td>\n",
       "      <td>-33.326745</td>\n",
       "      <td>37</td>\n",
       "      <td>20</td>\n",
       "      <td>17.0</td>\n",
       "      <td>58.823529</td>\n",
       "      <td>117.647059</td>\n",
       "      <td>gesture_pitch_number</td>\n",
       "      <td>112.335365</td>\n",
       "      <td>2</td>\n",
       "    </tr>\n",
       "    <tr>\n",
       "      <th>32</th>\n",
       "      <td>{'activity_confidence': 97, 'activity': 'Still...</td>\n",
       "      <td>device</td>\n",
       "      <td>0.0</td>\n",
       "      <td>50</td>\n",
       "      <td>20</td>\n",
       "      <td>48.688497</td>\n",
       "      <td>54</td>\n",
       "      <td>4</td>\n",
       "      <td>-27.539295</td>\n",
       "      <td>31</td>\n",
       "      <td>19</td>\n",
       "      <td>50.0</td>\n",
       "      <td>8.000000</td>\n",
       "      <td>38.000000</td>\n",
       "      <td>gesture_pitch_number</td>\n",
       "      <td>112.335365</td>\n",
       "      <td>2</td>\n",
       "    </tr>\n",
       "  </tbody>\n",
       "</table>\n",
       "</div>"
      ],
      "text/plain": [
       "                                        sensorReading inputType  value  truth  \\\n",
       "13  {'w': 0.180237, 'x': -0.390442, 'calibration_s...    device    0.0     64   \n",
       "14  {'w': 0.224854, 'x': -0.380798, 'calibration_s...    device    0.0     67   \n",
       "15  {'calibration_status': 2, 'duration': 181, 'y'...    device    0.0     91   \n",
       "16  {'x': -0.392883, 'activity_confidence': 91, 'z...    device    0.0     62   \n",
       "17  {'z': 0.732666, 'timestamp': 1719319747, 'acti...    device    0.0     74   \n",
       "18  {'duration': 190, 'activity_confidence': 94, '...    device    0.0     68   \n",
       "19  {'calibration_status': 2, 'y': -0.493164, 'tim...    device    0.0     28   \n",
       "20  {'timestamp': 1719319768, 'activity_confidence...    device    0.0     56   \n",
       "21  {'z': 0.651733, 'calibration_status': 2, 'dura...    device    0.0     57   \n",
       "22  {'duration': 154, 'y': -0.540833, 'x': -0.5241...    device    0.0     93   \n",
       "23  {'stability': 'In motion', 'timestamp': 171931...    device    0.0     35   \n",
       "24  {'y': -0.650024, 'w': 0.0283813, 'stability': ...    device    0.0     36   \n",
       "25  {'timestamp': 1719319786, 'calibration_status'...    device    0.0     44   \n",
       "26  {'stability': 'In motion', 'y': -0.655457, 'ti...    device    0.0      4   \n",
       "27  {'activity_confidence': 97, 'duration': 222, '...    device    0.0     84   \n",
       "28  {'calibration_status': 2, 'y': -0.652527, 'act...    device    0.0     72   \n",
       "29  {'timestamp': 1719319809, 'activity_confidence...    device    0.0     87   \n",
       "30  {'z': 0.579346, 'activity_confidence': 97, 'y'...    device    0.0     53   \n",
       "31  {'y': -0.693909, 'stability': 'Stable', 'activ...    device    0.0     17   \n",
       "32  {'activity_confidence': 97, 'activity': 'Still...    device    0.0     50   \n",
       "\n",
       "    id      pitch  pitch_truth  pitch_truth_diff       roll  roll_truth  \\\n",
       "13   1  45.932695           51                13 -25.042959          28   \n",
       "14   2  49.044438           54                13 -21.739210          24   \n",
       "15   3  70.892690           79                12 -17.946928          20   \n",
       "16   4  48.791011           54                 8 -23.174989          26   \n",
       "17   5  59.346314           66                 8 -24.082532          27   \n",
       "18   6  48.647061           54                14 -29.189574          32   \n",
       "19   7  27.000324           30                 2 -30.461561          34   \n",
       "20   8  45.326728           50                 6 -24.762911          28   \n",
       "21   9  46.729194           52                 5 -24.099269          27   \n",
       "22  10  70.042286           78                15 -20.931239          23   \n",
       "23  11  34.420823           38                 3 -30.598288          34   \n",
       "24  12  35.053355           39                 3 -26.726072          30   \n",
       "25  13  41.661766           46                 2 -25.941128          29   \n",
       "26  14  10.757093           12                 8 -30.641479          34   \n",
       "27  15  65.627957           73                11 -23.458037          26   \n",
       "28  16  58.184337           65                 7 -25.500344          28   \n",
       "29  17  66.130125           73                14 -22.554068          25   \n",
       "30  18  49.184989           55                 2 -29.727963          33   \n",
       "31  19  24.364194           27                10 -33.326745          37   \n",
       "32  20  48.688497           54                 4 -27.539295          31   \n",
       "\n",
       "    roll_truth_diff  slider_diff  pitch_truth_diff_percentage  \\\n",
       "13               36         64.0                    20.312500   \n",
       "14               43         67.0                    19.402985   \n",
       "15               71         91.0                    13.186813   \n",
       "16               36         62.0                    12.903226   \n",
       "17               47         74.0                    10.810811   \n",
       "18               36         68.0                    20.588235   \n",
       "19                6         28.0                     7.142857   \n",
       "20               28         56.0                    10.714286   \n",
       "21               30         57.0                     8.771930   \n",
       "22               70         93.0                    16.129032   \n",
       "23                1         35.0                     8.571429   \n",
       "24                6         36.0                     8.333333   \n",
       "25               15         44.0                     4.545455   \n",
       "26               30          4.0                   200.000000   \n",
       "27               58         84.0                    13.095238   \n",
       "28               44         72.0                     9.722222   \n",
       "29               62         87.0                    16.091954   \n",
       "30               20         53.0                     3.773585   \n",
       "31               20         17.0                    58.823529   \n",
       "32               19         50.0                     8.000000   \n",
       "\n",
       "    roll_truth_diff_percentage       experiment_type  experiment_time_spent  \\\n",
       "13                   56.250000  gesture_pitch_number             112.335365   \n",
       "14                   64.179104  gesture_pitch_number             112.335365   \n",
       "15                   78.021978  gesture_pitch_number             112.335365   \n",
       "16                   58.064516  gesture_pitch_number             112.335365   \n",
       "17                   63.513514  gesture_pitch_number             112.335365   \n",
       "18                   52.941176  gesture_pitch_number             112.335365   \n",
       "19                   21.428571  gesture_pitch_number             112.335365   \n",
       "20                   50.000000  gesture_pitch_number             112.335365   \n",
       "21                   52.631579  gesture_pitch_number             112.335365   \n",
       "22                   75.268817  gesture_pitch_number             112.335365   \n",
       "23                    2.857143  gesture_pitch_number             112.335365   \n",
       "24                   16.666667  gesture_pitch_number             112.335365   \n",
       "25                   34.090909  gesture_pitch_number             112.335365   \n",
       "26                  750.000000  gesture_pitch_number             112.335365   \n",
       "27                   69.047619  gesture_pitch_number             112.335365   \n",
       "28                   61.111111  gesture_pitch_number             112.335365   \n",
       "29                   71.264368  gesture_pitch_number             112.335365   \n",
       "30                   37.735849  gesture_pitch_number             112.335365   \n",
       "31                  117.647059  gesture_pitch_number             112.335365   \n",
       "32                   38.000000  gesture_pitch_number             112.335365   \n",
       "\n",
       "    calibration  \n",
       "13            2  \n",
       "14            2  \n",
       "15            2  \n",
       "16            2  \n",
       "17            2  \n",
       "18            2  \n",
       "19            2  \n",
       "20            2  \n",
       "21            2  \n",
       "22            2  \n",
       "23            2  \n",
       "24            2  \n",
       "25            2  \n",
       "26            2  \n",
       "27            2  \n",
       "28            2  \n",
       "29            2  \n",
       "30            2  \n",
       "31            2  \n",
       "32            2  "
      ]
     },
     "execution_count": 9,
     "metadata": {},
     "output_type": "execute_result"
    }
   ],
   "source": [
    "df[df[\"experiment_type\"] == \"gesture_pitch_number\"]"
   ]
  },
  {
   "cell_type": "code",
   "execution_count": 10,
   "metadata": {},
   "outputs": [
    {
     "data": {
      "text/html": [
       "<div>\n",
       "<style scoped>\n",
       "    .dataframe tbody tr th:only-of-type {\n",
       "        vertical-align: middle;\n",
       "    }\n",
       "\n",
       "    .dataframe tbody tr th {\n",
       "        vertical-align: top;\n",
       "    }\n",
       "\n",
       "    .dataframe thead th {\n",
       "        text-align: right;\n",
       "    }\n",
       "</style>\n",
       "<table border=\"1\" class=\"dataframe\">\n",
       "  <thead>\n",
       "    <tr style=\"text-align: right;\">\n",
       "      <th></th>\n",
       "      <th>sensorReading</th>\n",
       "      <th>inputType</th>\n",
       "      <th>value</th>\n",
       "      <th>truth</th>\n",
       "      <th>id</th>\n",
       "      <th>pitch</th>\n",
       "      <th>pitch_truth</th>\n",
       "      <th>pitch_truth_diff</th>\n",
       "      <th>roll</th>\n",
       "      <th>roll_truth</th>\n",
       "      <th>roll_truth_diff</th>\n",
       "      <th>slider_diff</th>\n",
       "      <th>pitch_truth_diff_percentage</th>\n",
       "      <th>roll_truth_diff_percentage</th>\n",
       "      <th>experiment_type</th>\n",
       "      <th>experiment_time_spent</th>\n",
       "      <th>calibration</th>\n",
       "    </tr>\n",
       "  </thead>\n",
       "  <tbody>\n",
       "    <tr>\n",
       "      <th>33</th>\n",
       "      <td>{'z': 0.689941, 'x': -0.481995, 'y': -0.472534...</td>\n",
       "      <td>device</td>\n",
       "      <td>0.0</td>\n",
       "      <td>44</td>\n",
       "      <td>1</td>\n",
       "      <td>13.376283</td>\n",
       "      <td>7</td>\n",
       "      <td>37</td>\n",
       "      <td>-65.808874</td>\n",
       "      <td>36</td>\n",
       "      <td>8</td>\n",
       "      <td>44.0</td>\n",
       "      <td>84.090909</td>\n",
       "      <td>18.181818</td>\n",
       "      <td>gesture_roll_greyscale</td>\n",
       "      <td>206.524229</td>\n",
       "      <td>1</td>\n",
       "    </tr>\n",
       "    <tr>\n",
       "      <th>34</th>\n",
       "      <td>{'activity_confidence': 73, 'y': -0.430176, 'c...</td>\n",
       "      <td>device</td>\n",
       "      <td>0.0</td>\n",
       "      <td>23</td>\n",
       "      <td>2</td>\n",
       "      <td>22.423382</td>\n",
       "      <td>12</td>\n",
       "      <td>11</td>\n",
       "      <td>-75.377780</td>\n",
       "      <td>41</td>\n",
       "      <td>18</td>\n",
       "      <td>23.0</td>\n",
       "      <td>47.826087</td>\n",
       "      <td>78.260870</td>\n",
       "      <td>gesture_roll_greyscale</td>\n",
       "      <td>206.524229</td>\n",
       "      <td>1</td>\n",
       "    </tr>\n",
       "    <tr>\n",
       "      <th>35</th>\n",
       "      <td>{'duration': 191, 'w': -0.209595, 'activity_co...</td>\n",
       "      <td>device</td>\n",
       "      <td>0.0</td>\n",
       "      <td>36</td>\n",
       "      <td>3</td>\n",
       "      <td>2.314338</td>\n",
       "      <td>1</td>\n",
       "      <td>35</td>\n",
       "      <td>-48.042855</td>\n",
       "      <td>26</td>\n",
       "      <td>10</td>\n",
       "      <td>36.0</td>\n",
       "      <td>97.222222</td>\n",
       "      <td>27.777778</td>\n",
       "      <td>gesture_roll_greyscale</td>\n",
       "      <td>206.524229</td>\n",
       "      <td>1</td>\n",
       "    </tr>\n",
       "    <tr>\n",
       "      <th>36</th>\n",
       "      <td>{'duration': 154, 'activity_confidence': 83, '...</td>\n",
       "      <td>device</td>\n",
       "      <td>0.0</td>\n",
       "      <td>9</td>\n",
       "      <td>4</td>\n",
       "      <td>2.277466</td>\n",
       "      <td>1</td>\n",
       "      <td>8</td>\n",
       "      <td>-51.946909</td>\n",
       "      <td>28</td>\n",
       "      <td>19</td>\n",
       "      <td>9.0</td>\n",
       "      <td>88.888889</td>\n",
       "      <td>211.111111</td>\n",
       "      <td>gesture_roll_greyscale</td>\n",
       "      <td>206.524229</td>\n",
       "      <td>1</td>\n",
       "    </tr>\n",
       "    <tr>\n",
       "      <th>37</th>\n",
       "      <td>{'duration': 191, 'timestamp': 1719319897, 'w'...</td>\n",
       "      <td>device</td>\n",
       "      <td>0.0</td>\n",
       "      <td>25</td>\n",
       "      <td>5</td>\n",
       "      <td>1.087700</td>\n",
       "      <td>1</td>\n",
       "      <td>24</td>\n",
       "      <td>-28.642069</td>\n",
       "      <td>16</td>\n",
       "      <td>9</td>\n",
       "      <td>25.0</td>\n",
       "      <td>96.000000</td>\n",
       "      <td>36.000000</td>\n",
       "      <td>gesture_roll_greyscale</td>\n",
       "      <td>206.524229</td>\n",
       "      <td>2</td>\n",
       "    </tr>\n",
       "    <tr>\n",
       "      <th>38</th>\n",
       "      <td>{'calibration_status': 1, 'duration': 154, 'st...</td>\n",
       "      <td>device</td>\n",
       "      <td>0.0</td>\n",
       "      <td>32</td>\n",
       "      <td>6</td>\n",
       "      <td>0.670309</td>\n",
       "      <td>0</td>\n",
       "      <td>32</td>\n",
       "      <td>-39.366854</td>\n",
       "      <td>21</td>\n",
       "      <td>11</td>\n",
       "      <td>32.0</td>\n",
       "      <td>100.000000</td>\n",
       "      <td>34.375000</td>\n",
       "      <td>gesture_roll_greyscale</td>\n",
       "      <td>206.524229</td>\n",
       "      <td>1</td>\n",
       "    </tr>\n",
       "    <tr>\n",
       "      <th>39</th>\n",
       "      <td>{'y': 0.219299, 'timestamp': 1719319938, 'stab...</td>\n",
       "      <td>device</td>\n",
       "      <td>0.0</td>\n",
       "      <td>49</td>\n",
       "      <td>7</td>\n",
       "      <td>1.383910</td>\n",
       "      <td>1</td>\n",
       "      <td>48</td>\n",
       "      <td>-62.179796</td>\n",
       "      <td>34</td>\n",
       "      <td>15</td>\n",
       "      <td>49.0</td>\n",
       "      <td>97.959184</td>\n",
       "      <td>30.612245</td>\n",
       "      <td>gesture_roll_greyscale</td>\n",
       "      <td>206.524229</td>\n",
       "      <td>2</td>\n",
       "    </tr>\n",
       "    <tr>\n",
       "      <th>40</th>\n",
       "      <td>{'timestamp': 1719319973, 'calibration_status'...</td>\n",
       "      <td>device</td>\n",
       "      <td>0.0</td>\n",
       "      <td>6</td>\n",
       "      <td>9</td>\n",
       "      <td>-0.864269</td>\n",
       "      <td>0</td>\n",
       "      <td>6</td>\n",
       "      <td>-25.683753</td>\n",
       "      <td>14</td>\n",
       "      <td>8</td>\n",
       "      <td>6.0</td>\n",
       "      <td>100.000000</td>\n",
       "      <td>133.333333</td>\n",
       "      <td>gesture_roll_greyscale</td>\n",
       "      <td>206.524229</td>\n",
       "      <td>2</td>\n",
       "    </tr>\n",
       "    <tr>\n",
       "      <th>41</th>\n",
       "      <td>{'duration': 208, 'w': -0.141602, 'x': -0.2551...</td>\n",
       "      <td>device</td>\n",
       "      <td>0.0</td>\n",
       "      <td>24</td>\n",
       "      <td>10</td>\n",
       "      <td>-1.246253</td>\n",
       "      <td>1</td>\n",
       "      <td>23</td>\n",
       "      <td>-33.909533</td>\n",
       "      <td>18</td>\n",
       "      <td>6</td>\n",
       "      <td>24.0</td>\n",
       "      <td>95.833333</td>\n",
       "      <td>25.000000</td>\n",
       "      <td>gesture_roll_greyscale</td>\n",
       "      <td>206.524229</td>\n",
       "      <td>2</td>\n",
       "    </tr>\n",
       "    <tr>\n",
       "      <th>42</th>\n",
       "      <td>{'z': 0.833679, 'timestamp': 1719319985, 'cali...</td>\n",
       "      <td>device</td>\n",
       "      <td>0.0</td>\n",
       "      <td>15</td>\n",
       "      <td>11</td>\n",
       "      <td>-1.209508</td>\n",
       "      <td>1</td>\n",
       "      <td>14</td>\n",
       "      <td>-42.167901</td>\n",
       "      <td>23</td>\n",
       "      <td>8</td>\n",
       "      <td>15.0</td>\n",
       "      <td>93.333333</td>\n",
       "      <td>53.333333</td>\n",
       "      <td>gesture_roll_greyscale</td>\n",
       "      <td>206.524229</td>\n",
       "      <td>2</td>\n",
       "    </tr>\n",
       "    <tr>\n",
       "      <th>43</th>\n",
       "      <td>{'y': -0.432556, 'w': -0.153259, 'timestamp': ...</td>\n",
       "      <td>device</td>\n",
       "      <td>0.0</td>\n",
       "      <td>27</td>\n",
       "      <td>12</td>\n",
       "      <td>-1.483143</td>\n",
       "      <td>1</td>\n",
       "      <td>26</td>\n",
       "      <td>-36.708028</td>\n",
       "      <td>20</td>\n",
       "      <td>7</td>\n",
       "      <td>27.0</td>\n",
       "      <td>96.296296</td>\n",
       "      <td>25.925926</td>\n",
       "      <td>gesture_roll_greyscale</td>\n",
       "      <td>206.524229</td>\n",
       "      <td>2</td>\n",
       "    </tr>\n",
       "    <tr>\n",
       "      <th>44</th>\n",
       "      <td>{'w': -0.206116, 'z': 0.803284, 'calibration_s...</td>\n",
       "      <td>device</td>\n",
       "      <td>0.0</td>\n",
       "      <td>17</td>\n",
       "      <td>13</td>\n",
       "      <td>-1.799426</td>\n",
       "      <td>1</td>\n",
       "      <td>16</td>\n",
       "      <td>-52.960193</td>\n",
       "      <td>29</td>\n",
       "      <td>12</td>\n",
       "      <td>17.0</td>\n",
       "      <td>94.117647</td>\n",
       "      <td>70.588235</td>\n",
       "      <td>gesture_roll_greyscale</td>\n",
       "      <td>206.524229</td>\n",
       "      <td>2</td>\n",
       "    </tr>\n",
       "    <tr>\n",
       "      <th>45</th>\n",
       "      <td>{'activity_confidence': 94, 'duration': 394, '...</td>\n",
       "      <td>device</td>\n",
       "      <td>0.0</td>\n",
       "      <td>42</td>\n",
       "      <td>14</td>\n",
       "      <td>-2.324575</td>\n",
       "      <td>1</td>\n",
       "      <td>41</td>\n",
       "      <td>-45.035622</td>\n",
       "      <td>25</td>\n",
       "      <td>17</td>\n",
       "      <td>42.0</td>\n",
       "      <td>97.619048</td>\n",
       "      <td>40.476190</td>\n",
       "      <td>gesture_roll_greyscale</td>\n",
       "      <td>206.524229</td>\n",
       "      <td>2</td>\n",
       "    </tr>\n",
       "    <tr>\n",
       "      <th>46</th>\n",
       "      <td>{'activity_confidence': 95, 'calibration_statu...</td>\n",
       "      <td>device</td>\n",
       "      <td>0.0</td>\n",
       "      <td>31</td>\n",
       "      <td>15</td>\n",
       "      <td>-2.611501</td>\n",
       "      <td>1</td>\n",
       "      <td>30</td>\n",
       "      <td>-74.705101</td>\n",
       "      <td>41</td>\n",
       "      <td>10</td>\n",
       "      <td>31.0</td>\n",
       "      <td>96.774194</td>\n",
       "      <td>32.258065</td>\n",
       "      <td>gesture_roll_greyscale</td>\n",
       "      <td>206.524229</td>\n",
       "      <td>1</td>\n",
       "    </tr>\n",
       "    <tr>\n",
       "      <th>47</th>\n",
       "      <td>{'x': -0.163452, 'z': 0.877869, 'timestamp': 1...</td>\n",
       "      <td>device</td>\n",
       "      <td>0.0</td>\n",
       "      <td>13</td>\n",
       "      <td>17</td>\n",
       "      <td>-3.193685</td>\n",
       "      <td>2</td>\n",
       "      <td>11</td>\n",
       "      <td>-22.547842</td>\n",
       "      <td>12</td>\n",
       "      <td>1</td>\n",
       "      <td>13.0</td>\n",
       "      <td>84.615385</td>\n",
       "      <td>7.692308</td>\n",
       "      <td>gesture_roll_greyscale</td>\n",
       "      <td>206.524229</td>\n",
       "      <td>2</td>\n",
       "    </tr>\n",
       "    <tr>\n",
       "      <th>48</th>\n",
       "      <td>{'y': -0.434021, 'x': -0.209534, 'activity': '...</td>\n",
       "      <td>device</td>\n",
       "      <td>0.0</td>\n",
       "      <td>34</td>\n",
       "      <td>18</td>\n",
       "      <td>-4.090372</td>\n",
       "      <td>2</td>\n",
       "      <td>32</td>\n",
       "      <td>-29.011137</td>\n",
       "      <td>16</td>\n",
       "      <td>18</td>\n",
       "      <td>34.0</td>\n",
       "      <td>94.117647</td>\n",
       "      <td>52.941176</td>\n",
       "      <td>gesture_roll_greyscale</td>\n",
       "      <td>206.524229</td>\n",
       "      <td>2</td>\n",
       "    </tr>\n",
       "    <tr>\n",
       "      <th>49</th>\n",
       "      <td>{'y': -0.394958, 'duration': 183, 'activity_co...</td>\n",
       "      <td>device</td>\n",
       "      <td>0.0</td>\n",
       "      <td>19</td>\n",
       "      <td>19</td>\n",
       "      <td>-5.028142</td>\n",
       "      <td>3</td>\n",
       "      <td>16</td>\n",
       "      <td>-53.089142</td>\n",
       "      <td>29</td>\n",
       "      <td>10</td>\n",
       "      <td>19.0</td>\n",
       "      <td>84.210526</td>\n",
       "      <td>52.631579</td>\n",
       "      <td>gesture_roll_greyscale</td>\n",
       "      <td>206.524229</td>\n",
       "      <td>2</td>\n",
       "    </tr>\n",
       "    <tr>\n",
       "      <th>50</th>\n",
       "      <td>{'timestamp': 1719320027, 'duration': 268, 'x'...</td>\n",
       "      <td>device</td>\n",
       "      <td>0.0</td>\n",
       "      <td>33</td>\n",
       "      <td>20</td>\n",
       "      <td>-5.853605</td>\n",
       "      <td>3</td>\n",
       "      <td>30</td>\n",
       "      <td>-43.175623</td>\n",
       "      <td>24</td>\n",
       "      <td>9</td>\n",
       "      <td>33.0</td>\n",
       "      <td>90.909091</td>\n",
       "      <td>27.272727</td>\n",
       "      <td>gesture_roll_greyscale</td>\n",
       "      <td>206.524229</td>\n",
       "      <td>2</td>\n",
       "    </tr>\n",
       "  </tbody>\n",
       "</table>\n",
       "</div>"
      ],
      "text/plain": [
       "                                        sensorReading inputType  value  truth  \\\n",
       "33  {'z': 0.689941, 'x': -0.481995, 'y': -0.472534...    device    0.0     44   \n",
       "34  {'activity_confidence': 73, 'y': -0.430176, 'c...    device    0.0     23   \n",
       "35  {'duration': 191, 'w': -0.209595, 'activity_co...    device    0.0     36   \n",
       "36  {'duration': 154, 'activity_confidence': 83, '...    device    0.0      9   \n",
       "37  {'duration': 191, 'timestamp': 1719319897, 'w'...    device    0.0     25   \n",
       "38  {'calibration_status': 1, 'duration': 154, 'st...    device    0.0     32   \n",
       "39  {'y': 0.219299, 'timestamp': 1719319938, 'stab...    device    0.0     49   \n",
       "40  {'timestamp': 1719319973, 'calibration_status'...    device    0.0      6   \n",
       "41  {'duration': 208, 'w': -0.141602, 'x': -0.2551...    device    0.0     24   \n",
       "42  {'z': 0.833679, 'timestamp': 1719319985, 'cali...    device    0.0     15   \n",
       "43  {'y': -0.432556, 'w': -0.153259, 'timestamp': ...    device    0.0     27   \n",
       "44  {'w': -0.206116, 'z': 0.803284, 'calibration_s...    device    0.0     17   \n",
       "45  {'activity_confidence': 94, 'duration': 394, '...    device    0.0     42   \n",
       "46  {'activity_confidence': 95, 'calibration_statu...    device    0.0     31   \n",
       "47  {'x': -0.163452, 'z': 0.877869, 'timestamp': 1...    device    0.0     13   \n",
       "48  {'y': -0.434021, 'x': -0.209534, 'activity': '...    device    0.0     34   \n",
       "49  {'y': -0.394958, 'duration': 183, 'activity_co...    device    0.0     19   \n",
       "50  {'timestamp': 1719320027, 'duration': 268, 'x'...    device    0.0     33   \n",
       "\n",
       "    id      pitch  pitch_truth  pitch_truth_diff       roll  roll_truth  \\\n",
       "33   1  13.376283            7                37 -65.808874          36   \n",
       "34   2  22.423382           12                11 -75.377780          41   \n",
       "35   3   2.314338            1                35 -48.042855          26   \n",
       "36   4   2.277466            1                 8 -51.946909          28   \n",
       "37   5   1.087700            1                24 -28.642069          16   \n",
       "38   6   0.670309            0                32 -39.366854          21   \n",
       "39   7   1.383910            1                48 -62.179796          34   \n",
       "40   9  -0.864269            0                 6 -25.683753          14   \n",
       "41  10  -1.246253            1                23 -33.909533          18   \n",
       "42  11  -1.209508            1                14 -42.167901          23   \n",
       "43  12  -1.483143            1                26 -36.708028          20   \n",
       "44  13  -1.799426            1                16 -52.960193          29   \n",
       "45  14  -2.324575            1                41 -45.035622          25   \n",
       "46  15  -2.611501            1                30 -74.705101          41   \n",
       "47  17  -3.193685            2                11 -22.547842          12   \n",
       "48  18  -4.090372            2                32 -29.011137          16   \n",
       "49  19  -5.028142            3                16 -53.089142          29   \n",
       "50  20  -5.853605            3                30 -43.175623          24   \n",
       "\n",
       "    roll_truth_diff  slider_diff  pitch_truth_diff_percentage  \\\n",
       "33                8         44.0                    84.090909   \n",
       "34               18         23.0                    47.826087   \n",
       "35               10         36.0                    97.222222   \n",
       "36               19          9.0                    88.888889   \n",
       "37                9         25.0                    96.000000   \n",
       "38               11         32.0                   100.000000   \n",
       "39               15         49.0                    97.959184   \n",
       "40                8          6.0                   100.000000   \n",
       "41                6         24.0                    95.833333   \n",
       "42                8         15.0                    93.333333   \n",
       "43                7         27.0                    96.296296   \n",
       "44               12         17.0                    94.117647   \n",
       "45               17         42.0                    97.619048   \n",
       "46               10         31.0                    96.774194   \n",
       "47                1         13.0                    84.615385   \n",
       "48               18         34.0                    94.117647   \n",
       "49               10         19.0                    84.210526   \n",
       "50                9         33.0                    90.909091   \n",
       "\n",
       "    roll_truth_diff_percentage         experiment_type  experiment_time_spent  \\\n",
       "33                   18.181818  gesture_roll_greyscale             206.524229   \n",
       "34                   78.260870  gesture_roll_greyscale             206.524229   \n",
       "35                   27.777778  gesture_roll_greyscale             206.524229   \n",
       "36                  211.111111  gesture_roll_greyscale             206.524229   \n",
       "37                   36.000000  gesture_roll_greyscale             206.524229   \n",
       "38                   34.375000  gesture_roll_greyscale             206.524229   \n",
       "39                   30.612245  gesture_roll_greyscale             206.524229   \n",
       "40                  133.333333  gesture_roll_greyscale             206.524229   \n",
       "41                   25.000000  gesture_roll_greyscale             206.524229   \n",
       "42                   53.333333  gesture_roll_greyscale             206.524229   \n",
       "43                   25.925926  gesture_roll_greyscale             206.524229   \n",
       "44                   70.588235  gesture_roll_greyscale             206.524229   \n",
       "45                   40.476190  gesture_roll_greyscale             206.524229   \n",
       "46                   32.258065  gesture_roll_greyscale             206.524229   \n",
       "47                    7.692308  gesture_roll_greyscale             206.524229   \n",
       "48                   52.941176  gesture_roll_greyscale             206.524229   \n",
       "49                   52.631579  gesture_roll_greyscale             206.524229   \n",
       "50                   27.272727  gesture_roll_greyscale             206.524229   \n",
       "\n",
       "    calibration  \n",
       "33            1  \n",
       "34            1  \n",
       "35            1  \n",
       "36            1  \n",
       "37            2  \n",
       "38            1  \n",
       "39            2  \n",
       "40            2  \n",
       "41            2  \n",
       "42            2  \n",
       "43            2  \n",
       "44            2  \n",
       "45            2  \n",
       "46            1  \n",
       "47            2  \n",
       "48            2  \n",
       "49            2  \n",
       "50            2  "
      ]
     },
     "execution_count": 10,
     "metadata": {},
     "output_type": "execute_result"
    }
   ],
   "source": [
    "df[df[\"experiment_type\"] == \"gesture_roll_greyscale\"]"
   ]
  },
  {
   "cell_type": "code",
   "execution_count": 11,
   "metadata": {},
   "outputs": [
    {
     "data": {
      "text/html": [
       "<div>\n",
       "<style scoped>\n",
       "    .dataframe tbody tr th:only-of-type {\n",
       "        vertical-align: middle;\n",
       "    }\n",
       "\n",
       "    .dataframe tbody tr th {\n",
       "        vertical-align: top;\n",
       "    }\n",
       "\n",
       "    .dataframe thead th {\n",
       "        text-align: right;\n",
       "    }\n",
       "</style>\n",
       "<table border=\"1\" class=\"dataframe\">\n",
       "  <thead>\n",
       "    <tr style=\"text-align: right;\">\n",
       "      <th></th>\n",
       "      <th>sensorReading</th>\n",
       "      <th>inputType</th>\n",
       "      <th>value</th>\n",
       "      <th>truth</th>\n",
       "      <th>id</th>\n",
       "      <th>pitch</th>\n",
       "      <th>pitch_truth</th>\n",
       "      <th>pitch_truth_diff</th>\n",
       "      <th>roll</th>\n",
       "      <th>roll_truth</th>\n",
       "      <th>roll_truth_diff</th>\n",
       "      <th>slider_diff</th>\n",
       "      <th>pitch_truth_diff_percentage</th>\n",
       "      <th>roll_truth_diff_percentage</th>\n",
       "      <th>experiment_type</th>\n",
       "      <th>experiment_time_spent</th>\n",
       "      <th>calibration</th>\n",
       "    </tr>\n",
       "  </thead>\n",
       "  <tbody>\n",
       "    <tr>\n",
       "      <th>51</th>\n",
       "      <td>{'duration': 213, 'activity_confidence': 95, '...</td>\n",
       "      <td>device</td>\n",
       "      <td>0.0</td>\n",
       "      <td>75</td>\n",
       "      <td>1</td>\n",
       "      <td>-6.540093</td>\n",
       "      <td>7</td>\n",
       "      <td>68</td>\n",
       "      <td>-64.960044</td>\n",
       "      <td>72</td>\n",
       "      <td>3</td>\n",
       "      <td>75.0</td>\n",
       "      <td>90.666667</td>\n",
       "      <td>4.000000</td>\n",
       "      <td>gesture_roll_number</td>\n",
       "      <td>84.541167</td>\n",
       "      <td>2</td>\n",
       "    </tr>\n",
       "    <tr>\n",
       "      <th>52</th>\n",
       "      <td>{'activity_confidence': 96, 'w': -0.284912, 's...</td>\n",
       "      <td>device</td>\n",
       "      <td>0.0</td>\n",
       "      <td>81</td>\n",
       "      <td>2</td>\n",
       "      <td>-6.503005</td>\n",
       "      <td>7</td>\n",
       "      <td>74</td>\n",
       "      <td>-69.505106</td>\n",
       "      <td>77</td>\n",
       "      <td>4</td>\n",
       "      <td>81.0</td>\n",
       "      <td>91.358025</td>\n",
       "      <td>4.938272</td>\n",
       "      <td>gesture_roll_number</td>\n",
       "      <td>84.541167</td>\n",
       "      <td>2</td>\n",
       "    </tr>\n",
       "    <tr>\n",
       "      <th>53</th>\n",
       "      <td>{'z': 0.770508, 'stability': 'Stable', 'y': -0...</td>\n",
       "      <td>device</td>\n",
       "      <td>0.0</td>\n",
       "      <td>70</td>\n",
       "      <td>3</td>\n",
       "      <td>-5.603559</td>\n",
       "      <td>6</td>\n",
       "      <td>64</td>\n",
       "      <td>-59.262947</td>\n",
       "      <td>66</td>\n",
       "      <td>4</td>\n",
       "      <td>70.0</td>\n",
       "      <td>91.428571</td>\n",
       "      <td>5.714286</td>\n",
       "      <td>gesture_roll_number</td>\n",
       "      <td>84.541167</td>\n",
       "      <td>2</td>\n",
       "    </tr>\n",
       "    <tr>\n",
       "      <th>54</th>\n",
       "      <td>{'activity': 'Still', 'calibration_status': 2,...</td>\n",
       "      <td>device</td>\n",
       "      <td>0.0</td>\n",
       "      <td>26</td>\n",
       "      <td>4</td>\n",
       "      <td>-4.109254</td>\n",
       "      <td>5</td>\n",
       "      <td>21</td>\n",
       "      <td>-36.102319</td>\n",
       "      <td>40</td>\n",
       "      <td>14</td>\n",
       "      <td>26.0</td>\n",
       "      <td>80.769231</td>\n",
       "      <td>53.846154</td>\n",
       "      <td>gesture_roll_number</td>\n",
       "      <td>84.541167</td>\n",
       "      <td>2</td>\n",
       "    </tr>\n",
       "    <tr>\n",
       "      <th>55</th>\n",
       "      <td>{'calibration_status': 2, 'activity': 'Still',...</td>\n",
       "      <td>device</td>\n",
       "      <td>0.0</td>\n",
       "      <td>20</td>\n",
       "      <td>5</td>\n",
       "      <td>-3.932020</td>\n",
       "      <td>4</td>\n",
       "      <td>16</td>\n",
       "      <td>-33.662836</td>\n",
       "      <td>37</td>\n",
       "      <td>17</td>\n",
       "      <td>20.0</td>\n",
       "      <td>80.000000</td>\n",
       "      <td>85.000000</td>\n",
       "      <td>gesture_roll_number</td>\n",
       "      <td>84.541167</td>\n",
       "      <td>2</td>\n",
       "    </tr>\n",
       "    <tr>\n",
       "      <th>56</th>\n",
       "      <td>{'calibration_status': 2, 'y': -0.397583, 'tim...</td>\n",
       "      <td>device</td>\n",
       "      <td>0.0</td>\n",
       "      <td>63</td>\n",
       "      <td>6</td>\n",
       "      <td>-6.837365</td>\n",
       "      <td>8</td>\n",
       "      <td>55</td>\n",
       "      <td>-58.008506</td>\n",
       "      <td>64</td>\n",
       "      <td>1</td>\n",
       "      <td>63.0</td>\n",
       "      <td>87.301587</td>\n",
       "      <td>1.587302</td>\n",
       "      <td>gesture_roll_number</td>\n",
       "      <td>84.541167</td>\n",
       "      <td>2</td>\n",
       "    </tr>\n",
       "    <tr>\n",
       "      <th>57</th>\n",
       "      <td>{'z': 0.73645, 'stability': 'Stable', 'timesta...</td>\n",
       "      <td>device</td>\n",
       "      <td>0.0</td>\n",
       "      <td>85</td>\n",
       "      <td>7</td>\n",
       "      <td>-7.991331</td>\n",
       "      <td>9</td>\n",
       "      <td>76</td>\n",
       "      <td>-67.340333</td>\n",
       "      <td>75</td>\n",
       "      <td>10</td>\n",
       "      <td>85.0</td>\n",
       "      <td>89.411765</td>\n",
       "      <td>11.764706</td>\n",
       "      <td>gesture_roll_number</td>\n",
       "      <td>84.541167</td>\n",
       "      <td>2</td>\n",
       "    </tr>\n",
       "    <tr>\n",
       "      <th>58</th>\n",
       "      <td>{'activity_confidence': 80, 'activity': 'Still...</td>\n",
       "      <td>device</td>\n",
       "      <td>0.0</td>\n",
       "      <td>100</td>\n",
       "      <td>8</td>\n",
       "      <td>179.464782</td>\n",
       "      <td>100</td>\n",
       "      <td>0</td>\n",
       "      <td>-77.994724</td>\n",
       "      <td>87</td>\n",
       "      <td>13</td>\n",
       "      <td>100.0</td>\n",
       "      <td>0.000000</td>\n",
       "      <td>13.000000</td>\n",
       "      <td>gesture_roll_number</td>\n",
       "      <td>84.541167</td>\n",
       "      <td>1</td>\n",
       "    </tr>\n",
       "    <tr>\n",
       "      <th>59</th>\n",
       "      <td>{'activity': 'Still', 'stability': 'Stable', '...</td>\n",
       "      <td>device</td>\n",
       "      <td>0.0</td>\n",
       "      <td>96</td>\n",
       "      <td>9</td>\n",
       "      <td>-176.259097</td>\n",
       "      <td>100</td>\n",
       "      <td>4</td>\n",
       "      <td>-86.372440</td>\n",
       "      <td>96</td>\n",
       "      <td>0</td>\n",
       "      <td>96.0</td>\n",
       "      <td>4.166667</td>\n",
       "      <td>0.000000</td>\n",
       "      <td>gesture_roll_number</td>\n",
       "      <td>84.541167</td>\n",
       "      <td>1</td>\n",
       "    </tr>\n",
       "    <tr>\n",
       "      <th>60</th>\n",
       "      <td>{'calibration_status': 2, 'duration': 231, 'x'...</td>\n",
       "      <td>device</td>\n",
       "      <td>0.0</td>\n",
       "      <td>46</td>\n",
       "      <td>10</td>\n",
       "      <td>-7.100933</td>\n",
       "      <td>8</td>\n",
       "      <td>38</td>\n",
       "      <td>-59.022820</td>\n",
       "      <td>66</td>\n",
       "      <td>20</td>\n",
       "      <td>46.0</td>\n",
       "      <td>82.608696</td>\n",
       "      <td>43.478261</td>\n",
       "      <td>gesture_roll_number</td>\n",
       "      <td>84.541167</td>\n",
       "      <td>2</td>\n",
       "    </tr>\n",
       "    <tr>\n",
       "      <th>61</th>\n",
       "      <td>{'timestamp': 1719320080, 'y': -0.348816, 'z':...</td>\n",
       "      <td>device</td>\n",
       "      <td>0.0</td>\n",
       "      <td>58</td>\n",
       "      <td>11</td>\n",
       "      <td>-13.085992</td>\n",
       "      <td>15</td>\n",
       "      <td>43</td>\n",
       "      <td>-72.887761</td>\n",
       "      <td>81</td>\n",
       "      <td>23</td>\n",
       "      <td>58.0</td>\n",
       "      <td>74.137931</td>\n",
       "      <td>39.655172</td>\n",
       "      <td>gesture_roll_number</td>\n",
       "      <td>84.541167</td>\n",
       "      <td>1</td>\n",
       "    </tr>\n",
       "    <tr>\n",
       "      <th>62</th>\n",
       "      <td>{'calibration_status': 2, 'y': -0.425537, 'x':...</td>\n",
       "      <td>device</td>\n",
       "      <td>0.0</td>\n",
       "      <td>9</td>\n",
       "      <td>12</td>\n",
       "      <td>-5.635166</td>\n",
       "      <td>6</td>\n",
       "      <td>3</td>\n",
       "      <td>-37.266595</td>\n",
       "      <td>41</td>\n",
       "      <td>32</td>\n",
       "      <td>9.0</td>\n",
       "      <td>33.333333</td>\n",
       "      <td>355.555556</td>\n",
       "      <td>gesture_roll_number</td>\n",
       "      <td>84.541167</td>\n",
       "      <td>2</td>\n",
       "    </tr>\n",
       "    <tr>\n",
       "      <th>63</th>\n",
       "      <td>{'duration': 211, 'z': 0.734985, 'x': -0.49188...</td>\n",
       "      <td>device</td>\n",
       "      <td>0.0</td>\n",
       "      <td>60</td>\n",
       "      <td>13</td>\n",
       "      <td>-11.283455</td>\n",
       "      <td>13</td>\n",
       "      <td>47</td>\n",
       "      <td>-69.305780</td>\n",
       "      <td>77</td>\n",
       "      <td>17</td>\n",
       "      <td>60.0</td>\n",
       "      <td>78.333333</td>\n",
       "      <td>28.333333</td>\n",
       "      <td>gesture_roll_number</td>\n",
       "      <td>84.541167</td>\n",
       "      <td>1</td>\n",
       "    </tr>\n",
       "    <tr>\n",
       "      <th>64</th>\n",
       "      <td>{'z': 0.768677, 'y': -0.376587, 'stability': '...</td>\n",
       "      <td>device</td>\n",
       "      <td>0.0</td>\n",
       "      <td>54</td>\n",
       "      <td>14</td>\n",
       "      <td>-9.523154</td>\n",
       "      <td>11</td>\n",
       "      <td>43</td>\n",
       "      <td>-61.839626</td>\n",
       "      <td>69</td>\n",
       "      <td>15</td>\n",
       "      <td>54.0</td>\n",
       "      <td>79.629630</td>\n",
       "      <td>27.777778</td>\n",
       "      <td>gesture_roll_number</td>\n",
       "      <td>84.541167</td>\n",
       "      <td>1</td>\n",
       "    </tr>\n",
       "    <tr>\n",
       "      <th>65</th>\n",
       "      <td>{'timestamp': 1719320094, 'y': -0.402405, 'w':...</td>\n",
       "      <td>device</td>\n",
       "      <td>0.0</td>\n",
       "      <td>37</td>\n",
       "      <td>15</td>\n",
       "      <td>-7.411182</td>\n",
       "      <td>8</td>\n",
       "      <td>29</td>\n",
       "      <td>-48.987362</td>\n",
       "      <td>54</td>\n",
       "      <td>17</td>\n",
       "      <td>37.0</td>\n",
       "      <td>78.378378</td>\n",
       "      <td>45.945946</td>\n",
       "      <td>gesture_roll_number</td>\n",
       "      <td>84.541167</td>\n",
       "      <td>2</td>\n",
       "    </tr>\n",
       "    <tr>\n",
       "      <th>66</th>\n",
       "      <td>{'x': -0.476257, 'activity_confidence': 94, 's...</td>\n",
       "      <td>device</td>\n",
       "      <td>0.0</td>\n",
       "      <td>76</td>\n",
       "      <td>16</td>\n",
       "      <td>-11.913391</td>\n",
       "      <td>13</td>\n",
       "      <td>63</td>\n",
       "      <td>-66.955321</td>\n",
       "      <td>74</td>\n",
       "      <td>2</td>\n",
       "      <td>76.0</td>\n",
       "      <td>82.894737</td>\n",
       "      <td>2.631579</td>\n",
       "      <td>gesture_roll_number</td>\n",
       "      <td>84.541167</td>\n",
       "      <td>1</td>\n",
       "    </tr>\n",
       "    <tr>\n",
       "      <th>67</th>\n",
       "      <td>{'activity': 'Still', 'stability': 'In motion'...</td>\n",
       "      <td>device</td>\n",
       "      <td>0.0</td>\n",
       "      <td>33</td>\n",
       "      <td>17</td>\n",
       "      <td>-7.301982</td>\n",
       "      <td>8</td>\n",
       "      <td>25</td>\n",
       "      <td>-43.126351</td>\n",
       "      <td>48</td>\n",
       "      <td>15</td>\n",
       "      <td>33.0</td>\n",
       "      <td>75.757576</td>\n",
       "      <td>45.454545</td>\n",
       "      <td>gesture_roll_number</td>\n",
       "      <td>84.541167</td>\n",
       "      <td>2</td>\n",
       "    </tr>\n",
       "    <tr>\n",
       "      <th>68</th>\n",
       "      <td>{'y': -0.357056, 'x': -0.488708, 'z': 0.740906...</td>\n",
       "      <td>device</td>\n",
       "      <td>0.0</td>\n",
       "      <td>77</td>\n",
       "      <td>18</td>\n",
       "      <td>-13.132938</td>\n",
       "      <td>15</td>\n",
       "      <td>62</td>\n",
       "      <td>-68.755459</td>\n",
       "      <td>76</td>\n",
       "      <td>1</td>\n",
       "      <td>77.0</td>\n",
       "      <td>80.519481</td>\n",
       "      <td>1.298701</td>\n",
       "      <td>gesture_roll_number</td>\n",
       "      <td>84.541167</td>\n",
       "      <td>1</td>\n",
       "    </tr>\n",
       "    <tr>\n",
       "      <th>69</th>\n",
       "      <td>{'timestamp': 1719320108, 'x': -0.508484, 'act...</td>\n",
       "      <td>device</td>\n",
       "      <td>0.0</td>\n",
       "      <td>82</td>\n",
       "      <td>19</td>\n",
       "      <td>-15.346563</td>\n",
       "      <td>17</td>\n",
       "      <td>65</td>\n",
       "      <td>-71.713174</td>\n",
       "      <td>80</td>\n",
       "      <td>2</td>\n",
       "      <td>82.0</td>\n",
       "      <td>79.268293</td>\n",
       "      <td>2.439024</td>\n",
       "      <td>gesture_roll_number</td>\n",
       "      <td>84.541167</td>\n",
       "      <td>1</td>\n",
       "    </tr>\n",
       "    <tr>\n",
       "      <th>70</th>\n",
       "      <td>{'timestamp': 1719320112, 'z': 0.847412, 'acti...</td>\n",
       "      <td>device</td>\n",
       "      <td>0.0</td>\n",
       "      <td>23</td>\n",
       "      <td>20</td>\n",
       "      <td>-7.474058</td>\n",
       "      <td>8</td>\n",
       "      <td>15</td>\n",
       "      <td>-36.446336</td>\n",
       "      <td>40</td>\n",
       "      <td>17</td>\n",
       "      <td>23.0</td>\n",
       "      <td>65.217391</td>\n",
       "      <td>73.913043</td>\n",
       "      <td>gesture_roll_number</td>\n",
       "      <td>84.541167</td>\n",
       "      <td>2</td>\n",
       "    </tr>\n",
       "  </tbody>\n",
       "</table>\n",
       "</div>"
      ],
      "text/plain": [
       "                                        sensorReading inputType  value  truth  \\\n",
       "51  {'duration': 213, 'activity_confidence': 95, '...    device    0.0     75   \n",
       "52  {'activity_confidence': 96, 'w': -0.284912, 's...    device    0.0     81   \n",
       "53  {'z': 0.770508, 'stability': 'Stable', 'y': -0...    device    0.0     70   \n",
       "54  {'activity': 'Still', 'calibration_status': 2,...    device    0.0     26   \n",
       "55  {'calibration_status': 2, 'activity': 'Still',...    device    0.0     20   \n",
       "56  {'calibration_status': 2, 'y': -0.397583, 'tim...    device    0.0     63   \n",
       "57  {'z': 0.73645, 'stability': 'Stable', 'timesta...    device    0.0     85   \n",
       "58  {'activity_confidence': 80, 'activity': 'Still...    device    0.0    100   \n",
       "59  {'activity': 'Still', 'stability': 'Stable', '...    device    0.0     96   \n",
       "60  {'calibration_status': 2, 'duration': 231, 'x'...    device    0.0     46   \n",
       "61  {'timestamp': 1719320080, 'y': -0.348816, 'z':...    device    0.0     58   \n",
       "62  {'calibration_status': 2, 'y': -0.425537, 'x':...    device    0.0      9   \n",
       "63  {'duration': 211, 'z': 0.734985, 'x': -0.49188...    device    0.0     60   \n",
       "64  {'z': 0.768677, 'y': -0.376587, 'stability': '...    device    0.0     54   \n",
       "65  {'timestamp': 1719320094, 'y': -0.402405, 'w':...    device    0.0     37   \n",
       "66  {'x': -0.476257, 'activity_confidence': 94, 's...    device    0.0     76   \n",
       "67  {'activity': 'Still', 'stability': 'In motion'...    device    0.0     33   \n",
       "68  {'y': -0.357056, 'x': -0.488708, 'z': 0.740906...    device    0.0     77   \n",
       "69  {'timestamp': 1719320108, 'x': -0.508484, 'act...    device    0.0     82   \n",
       "70  {'timestamp': 1719320112, 'z': 0.847412, 'acti...    device    0.0     23   \n",
       "\n",
       "    id       pitch  pitch_truth  pitch_truth_diff       roll  roll_truth  \\\n",
       "51   1   -6.540093            7                68 -64.960044          72   \n",
       "52   2   -6.503005            7                74 -69.505106          77   \n",
       "53   3   -5.603559            6                64 -59.262947          66   \n",
       "54   4   -4.109254            5                21 -36.102319          40   \n",
       "55   5   -3.932020            4                16 -33.662836          37   \n",
       "56   6   -6.837365            8                55 -58.008506          64   \n",
       "57   7   -7.991331            9                76 -67.340333          75   \n",
       "58   8  179.464782          100                 0 -77.994724          87   \n",
       "59   9 -176.259097          100                 4 -86.372440          96   \n",
       "60  10   -7.100933            8                38 -59.022820          66   \n",
       "61  11  -13.085992           15                43 -72.887761          81   \n",
       "62  12   -5.635166            6                 3 -37.266595          41   \n",
       "63  13  -11.283455           13                47 -69.305780          77   \n",
       "64  14   -9.523154           11                43 -61.839626          69   \n",
       "65  15   -7.411182            8                29 -48.987362          54   \n",
       "66  16  -11.913391           13                63 -66.955321          74   \n",
       "67  17   -7.301982            8                25 -43.126351          48   \n",
       "68  18  -13.132938           15                62 -68.755459          76   \n",
       "69  19  -15.346563           17                65 -71.713174          80   \n",
       "70  20   -7.474058            8                15 -36.446336          40   \n",
       "\n",
       "    roll_truth_diff  slider_diff  pitch_truth_diff_percentage  \\\n",
       "51                3         75.0                    90.666667   \n",
       "52                4         81.0                    91.358025   \n",
       "53                4         70.0                    91.428571   \n",
       "54               14         26.0                    80.769231   \n",
       "55               17         20.0                    80.000000   \n",
       "56                1         63.0                    87.301587   \n",
       "57               10         85.0                    89.411765   \n",
       "58               13        100.0                     0.000000   \n",
       "59                0         96.0                     4.166667   \n",
       "60               20         46.0                    82.608696   \n",
       "61               23         58.0                    74.137931   \n",
       "62               32          9.0                    33.333333   \n",
       "63               17         60.0                    78.333333   \n",
       "64               15         54.0                    79.629630   \n",
       "65               17         37.0                    78.378378   \n",
       "66                2         76.0                    82.894737   \n",
       "67               15         33.0                    75.757576   \n",
       "68                1         77.0                    80.519481   \n",
       "69                2         82.0                    79.268293   \n",
       "70               17         23.0                    65.217391   \n",
       "\n",
       "    roll_truth_diff_percentage      experiment_type  experiment_time_spent  \\\n",
       "51                    4.000000  gesture_roll_number              84.541167   \n",
       "52                    4.938272  gesture_roll_number              84.541167   \n",
       "53                    5.714286  gesture_roll_number              84.541167   \n",
       "54                   53.846154  gesture_roll_number              84.541167   \n",
       "55                   85.000000  gesture_roll_number              84.541167   \n",
       "56                    1.587302  gesture_roll_number              84.541167   \n",
       "57                   11.764706  gesture_roll_number              84.541167   \n",
       "58                   13.000000  gesture_roll_number              84.541167   \n",
       "59                    0.000000  gesture_roll_number              84.541167   \n",
       "60                   43.478261  gesture_roll_number              84.541167   \n",
       "61                   39.655172  gesture_roll_number              84.541167   \n",
       "62                  355.555556  gesture_roll_number              84.541167   \n",
       "63                   28.333333  gesture_roll_number              84.541167   \n",
       "64                   27.777778  gesture_roll_number              84.541167   \n",
       "65                   45.945946  gesture_roll_number              84.541167   \n",
       "66                    2.631579  gesture_roll_number              84.541167   \n",
       "67                   45.454545  gesture_roll_number              84.541167   \n",
       "68                    1.298701  gesture_roll_number              84.541167   \n",
       "69                    2.439024  gesture_roll_number              84.541167   \n",
       "70                   73.913043  gesture_roll_number              84.541167   \n",
       "\n",
       "    calibration  \n",
       "51            2  \n",
       "52            2  \n",
       "53            2  \n",
       "54            2  \n",
       "55            2  \n",
       "56            2  \n",
       "57            2  \n",
       "58            1  \n",
       "59            1  \n",
       "60            2  \n",
       "61            1  \n",
       "62            2  \n",
       "63            1  \n",
       "64            1  \n",
       "65            2  \n",
       "66            1  \n",
       "67            2  \n",
       "68            1  \n",
       "69            1  \n",
       "70            2  "
      ]
     },
     "execution_count": 11,
     "metadata": {},
     "output_type": "execute_result"
    }
   ],
   "source": [
    "df[df[\"experiment_type\"] == \"gesture_roll_number\"]"
   ]
  },
  {
   "cell_type": "code",
   "execution_count": 12,
   "metadata": {},
   "outputs": [
    {
     "data": {
      "text/html": [
       "<div>\n",
       "<style scoped>\n",
       "    .dataframe tbody tr th:only-of-type {\n",
       "        vertical-align: middle;\n",
       "    }\n",
       "\n",
       "    .dataframe tbody tr th {\n",
       "        vertical-align: top;\n",
       "    }\n",
       "\n",
       "    .dataframe thead th {\n",
       "        text-align: right;\n",
       "    }\n",
       "</style>\n",
       "<table border=\"1\" class=\"dataframe\">\n",
       "  <thead>\n",
       "    <tr style=\"text-align: right;\">\n",
       "      <th></th>\n",
       "      <th>sensorReading</th>\n",
       "      <th>inputType</th>\n",
       "      <th>value</th>\n",
       "      <th>truth</th>\n",
       "      <th>id</th>\n",
       "      <th>pitch</th>\n",
       "      <th>pitch_truth</th>\n",
       "      <th>pitch_truth_diff</th>\n",
       "      <th>roll</th>\n",
       "      <th>roll_truth</th>\n",
       "      <th>roll_truth_diff</th>\n",
       "      <th>slider_diff</th>\n",
       "      <th>pitch_truth_diff_percentage</th>\n",
       "      <th>roll_truth_diff_percentage</th>\n",
       "      <th>experiment_type</th>\n",
       "      <th>experiment_time_spent</th>\n",
       "      <th>calibration</th>\n",
       "    </tr>\n",
       "  </thead>\n",
       "  <tbody>\n",
       "    <tr>\n",
       "      <th>86</th>\n",
       "      <td>{'stability': 'In motion', 'activity_confidenc...</td>\n",
       "      <td>slider</td>\n",
       "      <td>91.702067</td>\n",
       "      <td>89</td>\n",
       "      <td>1</td>\n",
       "      <td>-7.474058</td>\n",
       "      <td>8</td>\n",
       "      <td>81</td>\n",
       "      <td>-36.446336</td>\n",
       "      <td>40</td>\n",
       "      <td>49</td>\n",
       "      <td>2.702067</td>\n",
       "      <td>91.011236</td>\n",
       "      <td>55.056180</td>\n",
       "      <td>slider_number</td>\n",
       "      <td>92.890343</td>\n",
       "      <td>2</td>\n",
       "    </tr>\n",
       "    <tr>\n",
       "      <th>87</th>\n",
       "      <td>{'z': 0.847412, 'activity_confidence': 97, 'ti...</td>\n",
       "      <td>slider</td>\n",
       "      <td>6.660311</td>\n",
       "      <td>11</td>\n",
       "      <td>2</td>\n",
       "      <td>-7.474058</td>\n",
       "      <td>8</td>\n",
       "      <td>3</td>\n",
       "      <td>-36.446336</td>\n",
       "      <td>40</td>\n",
       "      <td>29</td>\n",
       "      <td>4.339689</td>\n",
       "      <td>27.272727</td>\n",
       "      <td>263.636364</td>\n",
       "      <td>slider_number</td>\n",
       "      <td>92.890343</td>\n",
       "      <td>2</td>\n",
       "    </tr>\n",
       "    <tr>\n",
       "      <th>88</th>\n",
       "      <td>{'z': 0.847412, 'duration': 231, 'activity': '...</td>\n",
       "      <td>slider</td>\n",
       "      <td>63.674192</td>\n",
       "      <td>61</td>\n",
       "      <td>3</td>\n",
       "      <td>-7.474058</td>\n",
       "      <td>8</td>\n",
       "      <td>53</td>\n",
       "      <td>-36.446336</td>\n",
       "      <td>40</td>\n",
       "      <td>21</td>\n",
       "      <td>2.674192</td>\n",
       "      <td>86.885246</td>\n",
       "      <td>34.426230</td>\n",
       "      <td>slider_number</td>\n",
       "      <td>92.890343</td>\n",
       "      <td>2</td>\n",
       "    </tr>\n",
       "    <tr>\n",
       "      <th>89</th>\n",
       "      <td>{'stability': 'In motion', 'z': 0.847412, 'tim...</td>\n",
       "      <td>slider</td>\n",
       "      <td>97.059559</td>\n",
       "      <td>94</td>\n",
       "      <td>4</td>\n",
       "      <td>-7.474058</td>\n",
       "      <td>8</td>\n",
       "      <td>86</td>\n",
       "      <td>-36.446336</td>\n",
       "      <td>40</td>\n",
       "      <td>54</td>\n",
       "      <td>3.059559</td>\n",
       "      <td>91.489362</td>\n",
       "      <td>57.446809</td>\n",
       "      <td>slider_number</td>\n",
       "      <td>92.890343</td>\n",
       "      <td>2</td>\n",
       "    </tr>\n",
       "    <tr>\n",
       "      <th>90</th>\n",
       "      <td>{'z': 0.847412, 'x': -0.25531, 'w': -0.189819,...</td>\n",
       "      <td>slider</td>\n",
       "      <td>89.814848</td>\n",
       "      <td>79</td>\n",
       "      <td>5</td>\n",
       "      <td>-7.474058</td>\n",
       "      <td>8</td>\n",
       "      <td>71</td>\n",
       "      <td>-36.446336</td>\n",
       "      <td>40</td>\n",
       "      <td>39</td>\n",
       "      <td>10.814848</td>\n",
       "      <td>89.873418</td>\n",
       "      <td>49.367089</td>\n",
       "      <td>slider_number</td>\n",
       "      <td>92.890343</td>\n",
       "      <td>2</td>\n",
       "    </tr>\n",
       "    <tr>\n",
       "      <th>91</th>\n",
       "      <td>{'calibration_status': 2, 'w': -0.189819, 'sta...</td>\n",
       "      <td>slider</td>\n",
       "      <td>15.061070</td>\n",
       "      <td>40</td>\n",
       "      <td>6</td>\n",
       "      <td>-7.474058</td>\n",
       "      <td>8</td>\n",
       "      <td>32</td>\n",
       "      <td>-36.446336</td>\n",
       "      <td>40</td>\n",
       "      <td>0</td>\n",
       "      <td>24.938930</td>\n",
       "      <td>80.000000</td>\n",
       "      <td>0.000000</td>\n",
       "      <td>slider_number</td>\n",
       "      <td>92.890343</td>\n",
       "      <td>2</td>\n",
       "    </tr>\n",
       "    <tr>\n",
       "      <th>92</th>\n",
       "      <td>{'activity_confidence': 97, 'x': -0.25531, 'du...</td>\n",
       "      <td>slider</td>\n",
       "      <td>23.348454</td>\n",
       "      <td>34</td>\n",
       "      <td>7</td>\n",
       "      <td>-7.474058</td>\n",
       "      <td>8</td>\n",
       "      <td>26</td>\n",
       "      <td>-36.446336</td>\n",
       "      <td>40</td>\n",
       "      <td>6</td>\n",
       "      <td>10.651546</td>\n",
       "      <td>76.470588</td>\n",
       "      <td>17.647059</td>\n",
       "      <td>slider_number</td>\n",
       "      <td>92.890343</td>\n",
       "      <td>2</td>\n",
       "    </tr>\n",
       "    <tr>\n",
       "      <th>93</th>\n",
       "      <td>{'x': -0.25531, 'duration': 231, 'y': -0.42511...</td>\n",
       "      <td>slider</td>\n",
       "      <td>50.490977</td>\n",
       "      <td>49</td>\n",
       "      <td>8</td>\n",
       "      <td>-7.474058</td>\n",
       "      <td>8</td>\n",
       "      <td>41</td>\n",
       "      <td>-36.446336</td>\n",
       "      <td>40</td>\n",
       "      <td>9</td>\n",
       "      <td>1.490977</td>\n",
       "      <td>83.673469</td>\n",
       "      <td>18.367347</td>\n",
       "      <td>slider_number</td>\n",
       "      <td>92.890343</td>\n",
       "      <td>2</td>\n",
       "    </tr>\n",
       "    <tr>\n",
       "      <th>94</th>\n",
       "      <td>{'calibration_status': 2, 'timestamp': 1719320...</td>\n",
       "      <td>slider</td>\n",
       "      <td>11.629489</td>\n",
       "      <td>16</td>\n",
       "      <td>9</td>\n",
       "      <td>-7.474058</td>\n",
       "      <td>8</td>\n",
       "      <td>8</td>\n",
       "      <td>-36.446336</td>\n",
       "      <td>40</td>\n",
       "      <td>24</td>\n",
       "      <td>4.370511</td>\n",
       "      <td>50.000000</td>\n",
       "      <td>150.000000</td>\n",
       "      <td>slider_number</td>\n",
       "      <td>92.890343</td>\n",
       "      <td>2</td>\n",
       "    </tr>\n",
       "    <tr>\n",
       "      <th>95</th>\n",
       "      <td>{'duration': 231, 'x': -0.25531, 'y': -0.42511...</td>\n",
       "      <td>slider</td>\n",
       "      <td>35.755673</td>\n",
       "      <td>39</td>\n",
       "      <td>10</td>\n",
       "      <td>-7.474058</td>\n",
       "      <td>8</td>\n",
       "      <td>31</td>\n",
       "      <td>-36.446336</td>\n",
       "      <td>40</td>\n",
       "      <td>1</td>\n",
       "      <td>3.244327</td>\n",
       "      <td>79.487179</td>\n",
       "      <td>2.564103</td>\n",
       "      <td>slider_number</td>\n",
       "      <td>92.890343</td>\n",
       "      <td>2</td>\n",
       "    </tr>\n",
       "    <tr>\n",
       "      <th>96</th>\n",
       "      <td>{'w': -0.189819, 'x': -0.25531, 'activity': 'S...</td>\n",
       "      <td>slider</td>\n",
       "      <td>22.167535</td>\n",
       "      <td>31</td>\n",
       "      <td>11</td>\n",
       "      <td>-7.474058</td>\n",
       "      <td>8</td>\n",
       "      <td>23</td>\n",
       "      <td>-36.446336</td>\n",
       "      <td>40</td>\n",
       "      <td>9</td>\n",
       "      <td>8.832465</td>\n",
       "      <td>74.193548</td>\n",
       "      <td>29.032258</td>\n",
       "      <td>slider_number</td>\n",
       "      <td>92.890343</td>\n",
       "      <td>2</td>\n",
       "    </tr>\n",
       "    <tr>\n",
       "      <th>97</th>\n",
       "      <td>{'activity': 'Still', 'w': -0.189819, 'calibra...</td>\n",
       "      <td>slider</td>\n",
       "      <td>9.044641</td>\n",
       "      <td>10</td>\n",
       "      <td>12</td>\n",
       "      <td>-7.474058</td>\n",
       "      <td>8</td>\n",
       "      <td>2</td>\n",
       "      <td>-36.446336</td>\n",
       "      <td>40</td>\n",
       "      <td>30</td>\n",
       "      <td>0.955359</td>\n",
       "      <td>20.000000</td>\n",
       "      <td>300.000000</td>\n",
       "      <td>slider_number</td>\n",
       "      <td>92.890343</td>\n",
       "      <td>2</td>\n",
       "    </tr>\n",
       "    <tr>\n",
       "      <th>98</th>\n",
       "      <td>{'activity_confidence': 97, 'activity': 'Still...</td>\n",
       "      <td>slider</td>\n",
       "      <td>26.547758</td>\n",
       "      <td>27</td>\n",
       "      <td>13</td>\n",
       "      <td>-7.474058</td>\n",
       "      <td>8</td>\n",
       "      <td>19</td>\n",
       "      <td>-36.446336</td>\n",
       "      <td>40</td>\n",
       "      <td>13</td>\n",
       "      <td>0.452242</td>\n",
       "      <td>70.370370</td>\n",
       "      <td>48.148148</td>\n",
       "      <td>slider_number</td>\n",
       "      <td>92.890343</td>\n",
       "      <td>2</td>\n",
       "    </tr>\n",
       "    <tr>\n",
       "      <th>99</th>\n",
       "      <td>{'activity': 'Still', 'duration': 231, 'stabil...</td>\n",
       "      <td>slider</td>\n",
       "      <td>83.666650</td>\n",
       "      <td>88</td>\n",
       "      <td>14</td>\n",
       "      <td>-7.474058</td>\n",
       "      <td>8</td>\n",
       "      <td>80</td>\n",
       "      <td>-36.446336</td>\n",
       "      <td>40</td>\n",
       "      <td>48</td>\n",
       "      <td>4.333350</td>\n",
       "      <td>90.909091</td>\n",
       "      <td>54.545455</td>\n",
       "      <td>slider_number</td>\n",
       "      <td>92.890343</td>\n",
       "      <td>2</td>\n",
       "    </tr>\n",
       "    <tr>\n",
       "      <th>100</th>\n",
       "      <td>{'z': 0.847412, 'y': -0.42511, 'activity': 'St...</td>\n",
       "      <td>slider</td>\n",
       "      <td>5.583582</td>\n",
       "      <td>5</td>\n",
       "      <td>15</td>\n",
       "      <td>-7.474058</td>\n",
       "      <td>8</td>\n",
       "      <td>3</td>\n",
       "      <td>-36.446336</td>\n",
       "      <td>40</td>\n",
       "      <td>35</td>\n",
       "      <td>0.583582</td>\n",
       "      <td>60.000000</td>\n",
       "      <td>700.000000</td>\n",
       "      <td>slider_number</td>\n",
       "      <td>92.890343</td>\n",
       "      <td>2</td>\n",
       "    </tr>\n",
       "    <tr>\n",
       "      <th>101</th>\n",
       "      <td>{'timestamp': 1719320112, 'activity_confidence...</td>\n",
       "      <td>slider</td>\n",
       "      <td>53.388262</td>\n",
       "      <td>51</td>\n",
       "      <td>16</td>\n",
       "      <td>-7.474058</td>\n",
       "      <td>8</td>\n",
       "      <td>43</td>\n",
       "      <td>-36.446336</td>\n",
       "      <td>40</td>\n",
       "      <td>11</td>\n",
       "      <td>2.388262</td>\n",
       "      <td>84.313725</td>\n",
       "      <td>21.568627</td>\n",
       "      <td>slider_number</td>\n",
       "      <td>92.890343</td>\n",
       "      <td>2</td>\n",
       "    </tr>\n",
       "    <tr>\n",
       "      <th>102</th>\n",
       "      <td>{'timestamp': 1719320112, 'y': -0.42511, 'stab...</td>\n",
       "      <td>slider</td>\n",
       "      <td>61.715938</td>\n",
       "      <td>59</td>\n",
       "      <td>17</td>\n",
       "      <td>-7.474058</td>\n",
       "      <td>8</td>\n",
       "      <td>51</td>\n",
       "      <td>-36.446336</td>\n",
       "      <td>40</td>\n",
       "      <td>19</td>\n",
       "      <td>2.715938</td>\n",
       "      <td>86.440678</td>\n",
       "      <td>32.203390</td>\n",
       "      <td>slider_number</td>\n",
       "      <td>92.890343</td>\n",
       "      <td>2</td>\n",
       "    </tr>\n",
       "    <tr>\n",
       "      <th>103</th>\n",
       "      <td>{'duration': 231, 'w': -0.189819, 'x': -0.2553...</td>\n",
       "      <td>slider</td>\n",
       "      <td>91.329365</td>\n",
       "      <td>92</td>\n",
       "      <td>18</td>\n",
       "      <td>-7.474058</td>\n",
       "      <td>8</td>\n",
       "      <td>84</td>\n",
       "      <td>-36.446336</td>\n",
       "      <td>40</td>\n",
       "      <td>52</td>\n",
       "      <td>0.670635</td>\n",
       "      <td>91.304348</td>\n",
       "      <td>56.521739</td>\n",
       "      <td>slider_number</td>\n",
       "      <td>92.890343</td>\n",
       "      <td>2</td>\n",
       "    </tr>\n",
       "    <tr>\n",
       "      <th>104</th>\n",
       "      <td>{'activity': 'Still', 'x': -0.25531, 'z': 0.84...</td>\n",
       "      <td>slider</td>\n",
       "      <td>88.193866</td>\n",
       "      <td>86</td>\n",
       "      <td>19</td>\n",
       "      <td>-7.474058</td>\n",
       "      <td>8</td>\n",
       "      <td>78</td>\n",
       "      <td>-36.446336</td>\n",
       "      <td>40</td>\n",
       "      <td>46</td>\n",
       "      <td>2.193866</td>\n",
       "      <td>90.697674</td>\n",
       "      <td>53.488372</td>\n",
       "      <td>slider_number</td>\n",
       "      <td>92.890343</td>\n",
       "      <td>2</td>\n",
       "    </tr>\n",
       "    <tr>\n",
       "      <th>105</th>\n",
       "      <td>{'activity_confidence': 97, 'duration': 231, '...</td>\n",
       "      <td>slider</td>\n",
       "      <td>85.321123</td>\n",
       "      <td>83</td>\n",
       "      <td>20</td>\n",
       "      <td>-7.474058</td>\n",
       "      <td>8</td>\n",
       "      <td>75</td>\n",
       "      <td>-36.446336</td>\n",
       "      <td>40</td>\n",
       "      <td>43</td>\n",
       "      <td>2.321123</td>\n",
       "      <td>90.361446</td>\n",
       "      <td>51.807229</td>\n",
       "      <td>slider_number</td>\n",
       "      <td>92.890343</td>\n",
       "      <td>2</td>\n",
       "    </tr>\n",
       "  </tbody>\n",
       "</table>\n",
       "</div>"
      ],
      "text/plain": [
       "                                         sensorReading inputType      value  \\\n",
       "86   {'stability': 'In motion', 'activity_confidenc...    slider  91.702067   \n",
       "87   {'z': 0.847412, 'activity_confidence': 97, 'ti...    slider   6.660311   \n",
       "88   {'z': 0.847412, 'duration': 231, 'activity': '...    slider  63.674192   \n",
       "89   {'stability': 'In motion', 'z': 0.847412, 'tim...    slider  97.059559   \n",
       "90   {'z': 0.847412, 'x': -0.25531, 'w': -0.189819,...    slider  89.814848   \n",
       "91   {'calibration_status': 2, 'w': -0.189819, 'sta...    slider  15.061070   \n",
       "92   {'activity_confidence': 97, 'x': -0.25531, 'du...    slider  23.348454   \n",
       "93   {'x': -0.25531, 'duration': 231, 'y': -0.42511...    slider  50.490977   \n",
       "94   {'calibration_status': 2, 'timestamp': 1719320...    slider  11.629489   \n",
       "95   {'duration': 231, 'x': -0.25531, 'y': -0.42511...    slider  35.755673   \n",
       "96   {'w': -0.189819, 'x': -0.25531, 'activity': 'S...    slider  22.167535   \n",
       "97   {'activity': 'Still', 'w': -0.189819, 'calibra...    slider   9.044641   \n",
       "98   {'activity_confidence': 97, 'activity': 'Still...    slider  26.547758   \n",
       "99   {'activity': 'Still', 'duration': 231, 'stabil...    slider  83.666650   \n",
       "100  {'z': 0.847412, 'y': -0.42511, 'activity': 'St...    slider   5.583582   \n",
       "101  {'timestamp': 1719320112, 'activity_confidence...    slider  53.388262   \n",
       "102  {'timestamp': 1719320112, 'y': -0.42511, 'stab...    slider  61.715938   \n",
       "103  {'duration': 231, 'w': -0.189819, 'x': -0.2553...    slider  91.329365   \n",
       "104  {'activity': 'Still', 'x': -0.25531, 'z': 0.84...    slider  88.193866   \n",
       "105  {'activity_confidence': 97, 'duration': 231, '...    slider  85.321123   \n",
       "\n",
       "     truth  id     pitch  pitch_truth  pitch_truth_diff       roll  \\\n",
       "86      89   1 -7.474058            8                81 -36.446336   \n",
       "87      11   2 -7.474058            8                 3 -36.446336   \n",
       "88      61   3 -7.474058            8                53 -36.446336   \n",
       "89      94   4 -7.474058            8                86 -36.446336   \n",
       "90      79   5 -7.474058            8                71 -36.446336   \n",
       "91      40   6 -7.474058            8                32 -36.446336   \n",
       "92      34   7 -7.474058            8                26 -36.446336   \n",
       "93      49   8 -7.474058            8                41 -36.446336   \n",
       "94      16   9 -7.474058            8                 8 -36.446336   \n",
       "95      39  10 -7.474058            8                31 -36.446336   \n",
       "96      31  11 -7.474058            8                23 -36.446336   \n",
       "97      10  12 -7.474058            8                 2 -36.446336   \n",
       "98      27  13 -7.474058            8                19 -36.446336   \n",
       "99      88  14 -7.474058            8                80 -36.446336   \n",
       "100      5  15 -7.474058            8                 3 -36.446336   \n",
       "101     51  16 -7.474058            8                43 -36.446336   \n",
       "102     59  17 -7.474058            8                51 -36.446336   \n",
       "103     92  18 -7.474058            8                84 -36.446336   \n",
       "104     86  19 -7.474058            8                78 -36.446336   \n",
       "105     83  20 -7.474058            8                75 -36.446336   \n",
       "\n",
       "     roll_truth  roll_truth_diff  slider_diff  pitch_truth_diff_percentage  \\\n",
       "86           40               49     2.702067                    91.011236   \n",
       "87           40               29     4.339689                    27.272727   \n",
       "88           40               21     2.674192                    86.885246   \n",
       "89           40               54     3.059559                    91.489362   \n",
       "90           40               39    10.814848                    89.873418   \n",
       "91           40                0    24.938930                    80.000000   \n",
       "92           40                6    10.651546                    76.470588   \n",
       "93           40                9     1.490977                    83.673469   \n",
       "94           40               24     4.370511                    50.000000   \n",
       "95           40                1     3.244327                    79.487179   \n",
       "96           40                9     8.832465                    74.193548   \n",
       "97           40               30     0.955359                    20.000000   \n",
       "98           40               13     0.452242                    70.370370   \n",
       "99           40               48     4.333350                    90.909091   \n",
       "100          40               35     0.583582                    60.000000   \n",
       "101          40               11     2.388262                    84.313725   \n",
       "102          40               19     2.715938                    86.440678   \n",
       "103          40               52     0.670635                    91.304348   \n",
       "104          40               46     2.193866                    90.697674   \n",
       "105          40               43     2.321123                    90.361446   \n",
       "\n",
       "     roll_truth_diff_percentage experiment_type  experiment_time_spent  \\\n",
       "86                    55.056180   slider_number              92.890343   \n",
       "87                   263.636364   slider_number              92.890343   \n",
       "88                    34.426230   slider_number              92.890343   \n",
       "89                    57.446809   slider_number              92.890343   \n",
       "90                    49.367089   slider_number              92.890343   \n",
       "91                     0.000000   slider_number              92.890343   \n",
       "92                    17.647059   slider_number              92.890343   \n",
       "93                    18.367347   slider_number              92.890343   \n",
       "94                   150.000000   slider_number              92.890343   \n",
       "95                     2.564103   slider_number              92.890343   \n",
       "96                    29.032258   slider_number              92.890343   \n",
       "97                   300.000000   slider_number              92.890343   \n",
       "98                    48.148148   slider_number              92.890343   \n",
       "99                    54.545455   slider_number              92.890343   \n",
       "100                  700.000000   slider_number              92.890343   \n",
       "101                   21.568627   slider_number              92.890343   \n",
       "102                   32.203390   slider_number              92.890343   \n",
       "103                   56.521739   slider_number              92.890343   \n",
       "104                   53.488372   slider_number              92.890343   \n",
       "105                   51.807229   slider_number              92.890343   \n",
       "\n",
       "     calibration  \n",
       "86             2  \n",
       "87             2  \n",
       "88             2  \n",
       "89             2  \n",
       "90             2  \n",
       "91             2  \n",
       "92             2  \n",
       "93             2  \n",
       "94             2  \n",
       "95             2  \n",
       "96             2  \n",
       "97             2  \n",
       "98             2  \n",
       "99             2  \n",
       "100            2  \n",
       "101            2  \n",
       "102            2  \n",
       "103            2  \n",
       "104            2  \n",
       "105            2  "
      ]
     },
     "execution_count": 12,
     "metadata": {},
     "output_type": "execute_result"
    }
   ],
   "source": [
    "df[df[\"experiment_type\"] == \"slider_number\"]"
   ]
  },
  {
   "cell_type": "code",
   "execution_count": 13,
   "metadata": {},
   "outputs": [
    {
     "data": {
      "text/html": [
       "<div>\n",
       "<style scoped>\n",
       "    .dataframe tbody tr th:only-of-type {\n",
       "        vertical-align: middle;\n",
       "    }\n",
       "\n",
       "    .dataframe tbody tr th {\n",
       "        vertical-align: top;\n",
       "    }\n",
       "\n",
       "    .dataframe thead th {\n",
       "        text-align: right;\n",
       "    }\n",
       "</style>\n",
       "<table border=\"1\" class=\"dataframe\">\n",
       "  <thead>\n",
       "    <tr style=\"text-align: right;\">\n",
       "      <th></th>\n",
       "      <th>sensorReading</th>\n",
       "      <th>inputType</th>\n",
       "      <th>value</th>\n",
       "      <th>truth</th>\n",
       "      <th>id</th>\n",
       "      <th>pitch</th>\n",
       "      <th>pitch_truth</th>\n",
       "      <th>pitch_truth_diff</th>\n",
       "      <th>roll</th>\n",
       "      <th>roll_truth</th>\n",
       "      <th>roll_truth_diff</th>\n",
       "      <th>slider_diff</th>\n",
       "      <th>pitch_truth_diff_percentage</th>\n",
       "      <th>roll_truth_diff_percentage</th>\n",
       "      <th>experiment_type</th>\n",
       "      <th>experiment_time_spent</th>\n",
       "      <th>calibration</th>\n",
       "    </tr>\n",
       "  </thead>\n",
       "  <tbody>\n",
       "    <tr>\n",
       "      <th>71</th>\n",
       "      <td>{'activity': 'Still', 'stability': 'In motion'...</td>\n",
       "      <td>slider</td>\n",
       "      <td>5.326400</td>\n",
       "      <td>21</td>\n",
       "      <td>1</td>\n",
       "      <td>-7.474058</td>\n",
       "      <td>4</td>\n",
       "      <td>17</td>\n",
       "      <td>-36.446336</td>\n",
       "      <td>20</td>\n",
       "      <td>1</td>\n",
       "      <td>15.673600</td>\n",
       "      <td>80.952381</td>\n",
       "      <td>4.761905</td>\n",
       "      <td>slider_greyscale</td>\n",
       "      <td>197.632769</td>\n",
       "      <td>2</td>\n",
       "    </tr>\n",
       "    <tr>\n",
       "      <th>72</th>\n",
       "      <td>{'z': 0.847412, 'y': -0.42511, 'x': -0.25531, ...</td>\n",
       "      <td>slider</td>\n",
       "      <td>39.455783</td>\n",
       "      <td>39</td>\n",
       "      <td>3</td>\n",
       "      <td>-7.474058</td>\n",
       "      <td>4</td>\n",
       "      <td>35</td>\n",
       "      <td>-36.446336</td>\n",
       "      <td>20</td>\n",
       "      <td>19</td>\n",
       "      <td>0.455783</td>\n",
       "      <td>89.743590</td>\n",
       "      <td>48.717949</td>\n",
       "      <td>slider_greyscale</td>\n",
       "      <td>197.632769</td>\n",
       "      <td>2</td>\n",
       "    </tr>\n",
       "    <tr>\n",
       "      <th>73</th>\n",
       "      <td>{'y': -0.42511, 'calibration_status': 2, 'z': ...</td>\n",
       "      <td>slider</td>\n",
       "      <td>40.328140</td>\n",
       "      <td>16</td>\n",
       "      <td>4</td>\n",
       "      <td>-7.474058</td>\n",
       "      <td>4</td>\n",
       "      <td>12</td>\n",
       "      <td>-36.446336</td>\n",
       "      <td>20</td>\n",
       "      <td>4</td>\n",
       "      <td>24.328140</td>\n",
       "      <td>75.000000</td>\n",
       "      <td>25.000000</td>\n",
       "      <td>slider_greyscale</td>\n",
       "      <td>197.632769</td>\n",
       "      <td>2</td>\n",
       "    </tr>\n",
       "    <tr>\n",
       "      <th>74</th>\n",
       "      <td>{'stability': 'In motion', 'w': -0.189819, 'x'...</td>\n",
       "      <td>slider</td>\n",
       "      <td>22.779536</td>\n",
       "      <td>7</td>\n",
       "      <td>5</td>\n",
       "      <td>-7.474058</td>\n",
       "      <td>4</td>\n",
       "      <td>3</td>\n",
       "      <td>-36.446336</td>\n",
       "      <td>20</td>\n",
       "      <td>13</td>\n",
       "      <td>15.779536</td>\n",
       "      <td>42.857143</td>\n",
       "      <td>185.714286</td>\n",
       "      <td>slider_greyscale</td>\n",
       "      <td>197.632769</td>\n",
       "      <td>2</td>\n",
       "    </tr>\n",
       "    <tr>\n",
       "      <th>75</th>\n",
       "      <td>{'w': -0.189819, 'duration': 231, 'x': -0.2553...</td>\n",
       "      <td>slider</td>\n",
       "      <td>1.320304</td>\n",
       "      <td>2</td>\n",
       "      <td>6</td>\n",
       "      <td>-7.474058</td>\n",
       "      <td>4</td>\n",
       "      <td>2</td>\n",
       "      <td>-36.446336</td>\n",
       "      <td>20</td>\n",
       "      <td>18</td>\n",
       "      <td>0.679696</td>\n",
       "      <td>100.000000</td>\n",
       "      <td>900.000000</td>\n",
       "      <td>slider_greyscale</td>\n",
       "      <td>197.632769</td>\n",
       "      <td>2</td>\n",
       "    </tr>\n",
       "    <tr>\n",
       "      <th>76</th>\n",
       "      <td>{'y': -0.42511, 'w': -0.189819, 'activity': 'S...</td>\n",
       "      <td>slider</td>\n",
       "      <td>0.426171</td>\n",
       "      <td>1</td>\n",
       "      <td>7</td>\n",
       "      <td>-7.474058</td>\n",
       "      <td>4</td>\n",
       "      <td>3</td>\n",
       "      <td>-36.446336</td>\n",
       "      <td>20</td>\n",
       "      <td>19</td>\n",
       "      <td>0.573829</td>\n",
       "      <td>300.000000</td>\n",
       "      <td>1900.000000</td>\n",
       "      <td>slider_greyscale</td>\n",
       "      <td>197.632769</td>\n",
       "      <td>2</td>\n",
       "    </tr>\n",
       "    <tr>\n",
       "      <th>77</th>\n",
       "      <td>{'calibration_status': 2, 'duration': 231, 'ti...</td>\n",
       "      <td>slider</td>\n",
       "      <td>0.000000</td>\n",
       "      <td>18</td>\n",
       "      <td>8</td>\n",
       "      <td>-7.474058</td>\n",
       "      <td>4</td>\n",
       "      <td>14</td>\n",
       "      <td>-36.446336</td>\n",
       "      <td>20</td>\n",
       "      <td>2</td>\n",
       "      <td>18.000000</td>\n",
       "      <td>77.777778</td>\n",
       "      <td>11.111111</td>\n",
       "      <td>slider_greyscale</td>\n",
       "      <td>197.632769</td>\n",
       "      <td>2</td>\n",
       "    </tr>\n",
       "    <tr>\n",
       "      <th>78</th>\n",
       "      <td>{'y': -0.42511, 'activity': 'Still', 'stabilit...</td>\n",
       "      <td>slider</td>\n",
       "      <td>25.844795</td>\n",
       "      <td>31</td>\n",
       "      <td>9</td>\n",
       "      <td>-7.474058</td>\n",
       "      <td>4</td>\n",
       "      <td>27</td>\n",
       "      <td>-36.446336</td>\n",
       "      <td>20</td>\n",
       "      <td>11</td>\n",
       "      <td>5.155205</td>\n",
       "      <td>87.096774</td>\n",
       "      <td>35.483871</td>\n",
       "      <td>slider_greyscale</td>\n",
       "      <td>197.632769</td>\n",
       "      <td>2</td>\n",
       "    </tr>\n",
       "    <tr>\n",
       "      <th>79</th>\n",
       "      <td>{'calibration_status': 2, 'w': -0.189819, 'x':...</td>\n",
       "      <td>slider</td>\n",
       "      <td>7.510580</td>\n",
       "      <td>15</td>\n",
       "      <td>11</td>\n",
       "      <td>-7.474058</td>\n",
       "      <td>4</td>\n",
       "      <td>11</td>\n",
       "      <td>-36.446336</td>\n",
       "      <td>20</td>\n",
       "      <td>5</td>\n",
       "      <td>7.489420</td>\n",
       "      <td>73.333333</td>\n",
       "      <td>33.333333</td>\n",
       "      <td>slider_greyscale</td>\n",
       "      <td>197.632769</td>\n",
       "      <td>2</td>\n",
       "    </tr>\n",
       "    <tr>\n",
       "      <th>80</th>\n",
       "      <td>{'y': -0.42511, 'w': -0.189819, 'stability': '...</td>\n",
       "      <td>slider</td>\n",
       "      <td>48.807005</td>\n",
       "      <td>26</td>\n",
       "      <td>13</td>\n",
       "      <td>-7.474058</td>\n",
       "      <td>4</td>\n",
       "      <td>22</td>\n",
       "      <td>-36.446336</td>\n",
       "      <td>20</td>\n",
       "      <td>6</td>\n",
       "      <td>22.807005</td>\n",
       "      <td>84.615385</td>\n",
       "      <td>23.076923</td>\n",
       "      <td>slider_greyscale</td>\n",
       "      <td>197.632769</td>\n",
       "      <td>2</td>\n",
       "    </tr>\n",
       "    <tr>\n",
       "      <th>81</th>\n",
       "      <td>{'w': -0.189819, 'stability': 'In motion', 'ca...</td>\n",
       "      <td>slider</td>\n",
       "      <td>30.175503</td>\n",
       "      <td>6</td>\n",
       "      <td>14</td>\n",
       "      <td>-7.474058</td>\n",
       "      <td>4</td>\n",
       "      <td>2</td>\n",
       "      <td>-36.446336</td>\n",
       "      <td>20</td>\n",
       "      <td>14</td>\n",
       "      <td>24.175503</td>\n",
       "      <td>33.333333</td>\n",
       "      <td>233.333333</td>\n",
       "      <td>slider_greyscale</td>\n",
       "      <td>197.632769</td>\n",
       "      <td>2</td>\n",
       "    </tr>\n",
       "    <tr>\n",
       "      <th>82</th>\n",
       "      <td>{'timestamp': 1719320112, 'activity_confidence...</td>\n",
       "      <td>slider</td>\n",
       "      <td>2.565144</td>\n",
       "      <td>13</td>\n",
       "      <td>15</td>\n",
       "      <td>-7.474058</td>\n",
       "      <td>4</td>\n",
       "      <td>9</td>\n",
       "      <td>-36.446336</td>\n",
       "      <td>20</td>\n",
       "      <td>7</td>\n",
       "      <td>10.434856</td>\n",
       "      <td>69.230769</td>\n",
       "      <td>53.846154</td>\n",
       "      <td>slider_greyscale</td>\n",
       "      <td>197.632769</td>\n",
       "      <td>2</td>\n",
       "    </tr>\n",
       "    <tr>\n",
       "      <th>83</th>\n",
       "      <td>{'z': 0.847412, 'x': -0.25531, 'timestamp': 17...</td>\n",
       "      <td>slider</td>\n",
       "      <td>6.108612</td>\n",
       "      <td>28</td>\n",
       "      <td>18</td>\n",
       "      <td>-7.474058</td>\n",
       "      <td>4</td>\n",
       "      <td>24</td>\n",
       "      <td>-36.446336</td>\n",
       "      <td>20</td>\n",
       "      <td>8</td>\n",
       "      <td>21.891388</td>\n",
       "      <td>85.714286</td>\n",
       "      <td>28.571429</td>\n",
       "      <td>slider_greyscale</td>\n",
       "      <td>197.632769</td>\n",
       "      <td>2</td>\n",
       "    </tr>\n",
       "    <tr>\n",
       "      <th>84</th>\n",
       "      <td>{'calibration_status': 2, 'activity_confidence...</td>\n",
       "      <td>slider</td>\n",
       "      <td>25.841558</td>\n",
       "      <td>20</td>\n",
       "      <td>19</td>\n",
       "      <td>-7.474058</td>\n",
       "      <td>4</td>\n",
       "      <td>16</td>\n",
       "      <td>-36.446336</td>\n",
       "      <td>20</td>\n",
       "      <td>0</td>\n",
       "      <td>5.841558</td>\n",
       "      <td>80.000000</td>\n",
       "      <td>0.000000</td>\n",
       "      <td>slider_greyscale</td>\n",
       "      <td>197.632769</td>\n",
       "      <td>2</td>\n",
       "    </tr>\n",
       "    <tr>\n",
       "      <th>85</th>\n",
       "      <td>{'y': -0.42511, 'activity_confidence': 97, 'st...</td>\n",
       "      <td>slider</td>\n",
       "      <td>21.165323</td>\n",
       "      <td>2</td>\n",
       "      <td>20</td>\n",
       "      <td>-7.474058</td>\n",
       "      <td>4</td>\n",
       "      <td>2</td>\n",
       "      <td>-36.446336</td>\n",
       "      <td>20</td>\n",
       "      <td>18</td>\n",
       "      <td>19.165323</td>\n",
       "      <td>100.000000</td>\n",
       "      <td>900.000000</td>\n",
       "      <td>slider_greyscale</td>\n",
       "      <td>197.632769</td>\n",
       "      <td>2</td>\n",
       "    </tr>\n",
       "  </tbody>\n",
       "</table>\n",
       "</div>"
      ],
      "text/plain": [
       "                                        sensorReading inputType      value  \\\n",
       "71  {'activity': 'Still', 'stability': 'In motion'...    slider   5.326400   \n",
       "72  {'z': 0.847412, 'y': -0.42511, 'x': -0.25531, ...    slider  39.455783   \n",
       "73  {'y': -0.42511, 'calibration_status': 2, 'z': ...    slider  40.328140   \n",
       "74  {'stability': 'In motion', 'w': -0.189819, 'x'...    slider  22.779536   \n",
       "75  {'w': -0.189819, 'duration': 231, 'x': -0.2553...    slider   1.320304   \n",
       "76  {'y': -0.42511, 'w': -0.189819, 'activity': 'S...    slider   0.426171   \n",
       "77  {'calibration_status': 2, 'duration': 231, 'ti...    slider   0.000000   \n",
       "78  {'y': -0.42511, 'activity': 'Still', 'stabilit...    slider  25.844795   \n",
       "79  {'calibration_status': 2, 'w': -0.189819, 'x':...    slider   7.510580   \n",
       "80  {'y': -0.42511, 'w': -0.189819, 'stability': '...    slider  48.807005   \n",
       "81  {'w': -0.189819, 'stability': 'In motion', 'ca...    slider  30.175503   \n",
       "82  {'timestamp': 1719320112, 'activity_confidence...    slider   2.565144   \n",
       "83  {'z': 0.847412, 'x': -0.25531, 'timestamp': 17...    slider   6.108612   \n",
       "84  {'calibration_status': 2, 'activity_confidence...    slider  25.841558   \n",
       "85  {'y': -0.42511, 'activity_confidence': 97, 'st...    slider  21.165323   \n",
       "\n",
       "    truth  id     pitch  pitch_truth  pitch_truth_diff       roll  roll_truth  \\\n",
       "71     21   1 -7.474058            4                17 -36.446336          20   \n",
       "72     39   3 -7.474058            4                35 -36.446336          20   \n",
       "73     16   4 -7.474058            4                12 -36.446336          20   \n",
       "74      7   5 -7.474058            4                 3 -36.446336          20   \n",
       "75      2   6 -7.474058            4                 2 -36.446336          20   \n",
       "76      1   7 -7.474058            4                 3 -36.446336          20   \n",
       "77     18   8 -7.474058            4                14 -36.446336          20   \n",
       "78     31   9 -7.474058            4                27 -36.446336          20   \n",
       "79     15  11 -7.474058            4                11 -36.446336          20   \n",
       "80     26  13 -7.474058            4                22 -36.446336          20   \n",
       "81      6  14 -7.474058            4                 2 -36.446336          20   \n",
       "82     13  15 -7.474058            4                 9 -36.446336          20   \n",
       "83     28  18 -7.474058            4                24 -36.446336          20   \n",
       "84     20  19 -7.474058            4                16 -36.446336          20   \n",
       "85      2  20 -7.474058            4                 2 -36.446336          20   \n",
       "\n",
       "    roll_truth_diff  slider_diff  pitch_truth_diff_percentage  \\\n",
       "71                1    15.673600                    80.952381   \n",
       "72               19     0.455783                    89.743590   \n",
       "73                4    24.328140                    75.000000   \n",
       "74               13    15.779536                    42.857143   \n",
       "75               18     0.679696                   100.000000   \n",
       "76               19     0.573829                   300.000000   \n",
       "77                2    18.000000                    77.777778   \n",
       "78               11     5.155205                    87.096774   \n",
       "79                5     7.489420                    73.333333   \n",
       "80                6    22.807005                    84.615385   \n",
       "81               14    24.175503                    33.333333   \n",
       "82                7    10.434856                    69.230769   \n",
       "83                8    21.891388                    85.714286   \n",
       "84                0     5.841558                    80.000000   \n",
       "85               18    19.165323                   100.000000   \n",
       "\n",
       "    roll_truth_diff_percentage   experiment_type  experiment_time_spent  \\\n",
       "71                    4.761905  slider_greyscale             197.632769   \n",
       "72                   48.717949  slider_greyscale             197.632769   \n",
       "73                   25.000000  slider_greyscale             197.632769   \n",
       "74                  185.714286  slider_greyscale             197.632769   \n",
       "75                  900.000000  slider_greyscale             197.632769   \n",
       "76                 1900.000000  slider_greyscale             197.632769   \n",
       "77                   11.111111  slider_greyscale             197.632769   \n",
       "78                   35.483871  slider_greyscale             197.632769   \n",
       "79                   33.333333  slider_greyscale             197.632769   \n",
       "80                   23.076923  slider_greyscale             197.632769   \n",
       "81                  233.333333  slider_greyscale             197.632769   \n",
       "82                   53.846154  slider_greyscale             197.632769   \n",
       "83                   28.571429  slider_greyscale             197.632769   \n",
       "84                    0.000000  slider_greyscale             197.632769   \n",
       "85                  900.000000  slider_greyscale             197.632769   \n",
       "\n",
       "    calibration  \n",
       "71            2  \n",
       "72            2  \n",
       "73            2  \n",
       "74            2  \n",
       "75            2  \n",
       "76            2  \n",
       "77            2  \n",
       "78            2  \n",
       "79            2  \n",
       "80            2  \n",
       "81            2  \n",
       "82            2  \n",
       "83            2  \n",
       "84            2  \n",
       "85            2  "
      ]
     },
     "execution_count": 13,
     "metadata": {},
     "output_type": "execute_result"
    }
   ],
   "source": [
    "df[df[\"experiment_type\"] == \"slider_greyscale\"]"
   ]
  },
  {
   "cell_type": "code",
   "execution_count": 14,
   "metadata": {},
   "outputs": [
    {
     "data": {
      "application/vnd.plotly.v1+json": {
       "config": {
        "plotlyServerURL": "https://plot.ly"
       },
       "data": [
        {
         "hovertemplate": "truth=%{x}<br>pitch_truth=%{y}<extra></extra>",
         "legendgroup": "",
         "marker": {
          "color": "#636EFA",
          "symbol": "circle"
         },
         "mode": "markers",
         "name": "",
         "orientation": "v",
         "showlegend": false,
         "type": "scatter",
         "x": [
          64,
          67,
          91,
          62,
          74,
          68,
          28,
          56,
          57,
          93,
          35,
          36,
          44,
          4,
          84,
          72,
          87,
          53,
          17,
          50
         ],
         "xaxis": "x",
         "y": [
          51,
          54,
          79,
          54,
          66,
          54,
          30,
          50,
          52,
          78,
          38,
          39,
          46,
          12,
          73,
          65,
          73,
          55,
          27,
          54
         ],
         "yaxis": "y"
        },
        {
         "error_y": {
          "array": [
           13,
           13,
           12,
           8,
           8,
           14,
           2,
           6,
           5,
           15,
           3,
           3,
           2,
           8,
           11,
           7,
           14,
           2,
           10,
           4
          ]
         },
         "hovertemplate": "truth=%{x}<br>pitch_truth=%{y}<extra></extra>",
         "legendgroup": "",
         "marker": {
          "color": "#636EFA",
          "symbol": "circle"
         },
         "mode": "markers",
         "name": "",
         "orientation": "v",
         "showlegend": false,
         "type": "scatter",
         "x": [
          64,
          67,
          91,
          62,
          74,
          68,
          28,
          56,
          57,
          93,
          35,
          36,
          44,
          4,
          84,
          72,
          87,
          53,
          17,
          50
         ],
         "xaxis": "x2",
         "y": [
          51,
          54,
          79,
          54,
          66,
          54,
          30,
          50,
          52,
          78,
          38,
          39,
          46,
          12,
          73,
          65,
          73,
          55,
          27,
          54
         ],
         "yaxis": "y2"
        },
        {
         "hovertemplate": "truth=%{x}<br>roll_truth=%{y}<extra></extra>",
         "legendgroup": "",
         "marker": {
          "color": "#EF553B",
          "symbol": "circle"
         },
         "mode": "markers",
         "name": "",
         "orientation": "v",
         "showlegend": false,
         "type": "scatter",
         "x": [
          75,
          81,
          70,
          26,
          20,
          63,
          85,
          100,
          96,
          46,
          58,
          9,
          60,
          54,
          37,
          76,
          33,
          77,
          82,
          23
         ],
         "xaxis": "x3",
         "y": [
          72,
          77,
          66,
          40,
          37,
          64,
          75,
          87,
          96,
          66,
          81,
          41,
          77,
          69,
          54,
          74,
          48,
          76,
          80,
          40
         ],
         "yaxis": "y3"
        },
        {
         "error_y": {
          "array": [
           3,
           4,
           4,
           14,
           17,
           1,
           10,
           13,
           0,
           20,
           23,
           32,
           17,
           15,
           17,
           2,
           15,
           1,
           2,
           17
          ]
         },
         "hovertemplate": "truth=%{x}<br>roll_truth=%{y}<extra></extra>",
         "legendgroup": "",
         "marker": {
          "color": "#EF553B",
          "symbol": "circle"
         },
         "mode": "markers",
         "name": "",
         "orientation": "v",
         "showlegend": false,
         "type": "scatter",
         "x": [
          75,
          81,
          70,
          26,
          20,
          63,
          85,
          100,
          96,
          46,
          58,
          9,
          60,
          54,
          37,
          76,
          33,
          77,
          82,
          23
         ],
         "xaxis": "x4",
         "y": [
          72,
          77,
          66,
          40,
          37,
          64,
          75,
          87,
          96,
          66,
          81,
          41,
          77,
          69,
          54,
          74,
          48,
          76,
          80,
          40
         ],
         "yaxis": "y4"
        },
        {
         "hovertemplate": "truth=%{x}<br>value=%{y}<extra></extra>",
         "legendgroup": "",
         "marker": {
          "color": "#00CC96",
          "symbol": "circle"
         },
         "mode": "markers",
         "name": "",
         "orientation": "v",
         "showlegend": false,
         "type": "scatter",
         "x": [
          89,
          11,
          61,
          94,
          79,
          40,
          34,
          49,
          16,
          39,
          31,
          10,
          27,
          88,
          5,
          51,
          59,
          92,
          86,
          83
         ],
         "xaxis": "x5",
         "y": [
          91.70206742157193,
          6.660310704826918,
          63.674191822403756,
          97.05955894695613,
          89.81484800479335,
          15.061070491434462,
          23.348453513759885,
          50.490976923866015,
          11.62948949911174,
          35.75567315493509,
          22.167535256499924,
          9.044640614217304,
          26.54775757819494,
          83.66664976406297,
          5.58358206388951,
          53.38826169543607,
          61.7159377564533,
          91.32936500997837,
          88.19386645311101,
          85.32112324212922
         ],
         "yaxis": "y5"
        },
        {
         "error_y": {
          "array": [
           2.7020674215719254,
           4.339689295173082,
           2.674191822403756,
           3.0595589469561304,
           10.814848004793348,
           24.938929508565536,
           10.651546486240115,
           1.4909769238660147,
           4.37051050088826,
           3.2443268450649114,
           8.832464743500076,
           0.9553593857826961,
           0.45224242180506025,
           4.333350235937033,
           0.5835820638895104,
           2.3882616954360714,
           2.7159377564533003,
           0.6706349900216253,
           2.1938664531110135,
           2.321123242129218
          ]
         },
         "hovertemplate": "truth=%{x}<br>value=%{y}<extra></extra>",
         "legendgroup": "",
         "marker": {
          "color": "#00CC96",
          "symbol": "circle"
         },
         "mode": "markers",
         "name": "",
         "orientation": "v",
         "showlegend": false,
         "type": "scatter",
         "x": [
          89,
          11,
          61,
          94,
          79,
          40,
          34,
          49,
          16,
          39,
          31,
          10,
          27,
          88,
          5,
          51,
          59,
          92,
          86,
          83
         ],
         "xaxis": "x6",
         "y": [
          91.70206742157193,
          6.660310704826918,
          63.674191822403756,
          97.05955894695613,
          89.81484800479335,
          15.061070491434462,
          23.348453513759885,
          50.490976923866015,
          11.62948949911174,
          35.75567315493509,
          22.167535256499924,
          9.044640614217304,
          26.54775757819494,
          83.66664976406297,
          5.58358206388951,
          53.38826169543607,
          61.7159377564533,
          91.32936500997837,
          88.19386645311101,
          85.32112324212922
         ],
         "yaxis": "y6"
        },
        {
         "hovertemplate": "truth=%{x}<br>pitch_truth=%{y}<extra></extra>",
         "legendgroup": "",
         "marker": {
          "color": "#AB63FA",
          "symbol": "circle"
         },
         "mode": "markers",
         "name": "",
         "orientation": "v",
         "showlegend": false,
         "type": "scatter",
         "x": [
          20,
          5,
          29,
          37,
          43,
          22,
          38,
          30,
          26,
          12,
          0,
          47,
          35
         ],
         "xaxis": "x7",
         "y": [
          7,
          12,
          45,
          20,
          37,
          2,
          18,
          38,
          30,
          25,
          16,
          47,
          49
         ],
         "yaxis": "y7"
        },
        {
         "error_y": {
          "array": [
           13,
           7,
           16,
           17,
           6,
           20,
           20,
           8,
           4,
           13,
           16,
           0,
           14
          ]
         },
         "hovertemplate": "truth=%{x}<br>pitch_truth=%{y}<extra></extra>",
         "legendgroup": "",
         "marker": {
          "color": "#AB63FA",
          "symbol": "circle"
         },
         "mode": "markers",
         "name": "",
         "orientation": "v",
         "showlegend": false,
         "type": "scatter",
         "x": [
          20,
          5,
          29,
          37,
          43,
          22,
          38,
          30,
          26,
          12,
          0,
          47,
          35
         ],
         "xaxis": "x8",
         "y": [
          7,
          12,
          45,
          20,
          37,
          2,
          18,
          38,
          30,
          25,
          16,
          47,
          49
         ],
         "yaxis": "y8"
        },
        {
         "hovertemplate": "truth=%{x}<br>roll_truth=%{y}<extra></extra>",
         "legendgroup": "",
         "marker": {
          "color": "#FFA15A",
          "symbol": "circle"
         },
         "mode": "markers",
         "name": "",
         "orientation": "v",
         "showlegend": false,
         "type": "scatter",
         "x": [
          44,
          23,
          36,
          9,
          25,
          32,
          49,
          6,
          24,
          15,
          27,
          17,
          42,
          31,
          13,
          34,
          19,
          33
         ],
         "xaxis": "x9",
         "y": [
          36,
          41,
          26,
          28,
          16,
          21,
          34,
          14,
          18,
          23,
          20,
          29,
          25,
          41,
          12,
          16,
          29,
          24
         ],
         "yaxis": "y9"
        },
        {
         "error_y": {
          "array": [
           8,
           18,
           10,
           19,
           9,
           11,
           15,
           8,
           6,
           8,
           7,
           12,
           17,
           10,
           1,
           18,
           10,
           9
          ]
         },
         "hovertemplate": "truth=%{x}<br>roll_truth=%{y}<extra></extra>",
         "legendgroup": "",
         "marker": {
          "color": "#FFA15A",
          "symbol": "circle"
         },
         "mode": "markers",
         "name": "",
         "orientation": "v",
         "showlegend": false,
         "type": "scatter",
         "x": [
          44,
          23,
          36,
          9,
          25,
          32,
          49,
          6,
          24,
          15,
          27,
          17,
          42,
          31,
          13,
          34,
          19,
          33
         ],
         "xaxis": "x10",
         "y": [
          36,
          41,
          26,
          28,
          16,
          21,
          34,
          14,
          18,
          23,
          20,
          29,
          25,
          41,
          12,
          16,
          29,
          24
         ],
         "yaxis": "y10"
        },
        {
         "hovertemplate": "truth=%{x}<br>value=%{y}<extra></extra>",
         "legendgroup": "",
         "marker": {
          "color": "#19D3F3",
          "symbol": "circle"
         },
         "mode": "markers",
         "name": "",
         "orientation": "v",
         "showlegend": false,
         "type": "scatter",
         "x": [
          21,
          39,
          16,
          7,
          2,
          1,
          18,
          31,
          15,
          26,
          6,
          13,
          28,
          20,
          2
         ],
         "xaxis": "x11",
         "y": [
          5.326399806349229,
          39.455783395410776,
          40.328140207787335,
          22.77953567435335,
          1.3203040893517595,
          0.42617116283044665,
          0,
          25.844794663713536,
          7.510579723820647,
          48.80700524097443,
          30.175502836215244,
          2.5651444580300677,
          6.10861236655723,
          25.841557667632845,
          21.165323336846704
         ],
         "yaxis": "y11"
        },
        {
         "error_y": {
          "array": [
           15.67360019365077,
           0.4557833954107764,
           24.328140207787335,
           15.779535674353351,
           0.6796959106482405,
           0.5738288371695534,
           18,
           5.155205336286464,
           7.489420276179353,
           22.807005240974433,
           24.175502836215244,
           10.434855541969933,
           21.89138763344277,
           5.841557667632845,
           19.165323336846704
          ]
         },
         "hovertemplate": "truth=%{x}<br>value=%{y}<extra></extra>",
         "legendgroup": "",
         "marker": {
          "color": "#19D3F3",
          "symbol": "circle"
         },
         "mode": "markers",
         "name": "",
         "orientation": "v",
         "showlegend": false,
         "type": "scatter",
         "x": [
          21,
          39,
          16,
          7,
          2,
          1,
          18,
          31,
          15,
          26,
          6,
          13,
          28,
          20,
          2
         ],
         "xaxis": "x12",
         "y": [
          5.326399806349229,
          39.455783395410776,
          40.328140207787335,
          22.77953567435335,
          1.3203040893517595,
          0.42617116283044665,
          0,
          25.844794663713536,
          7.510579723820647,
          48.80700524097443,
          30.175502836215244,
          2.5651444580300677,
          6.10861236655723,
          25.841557667632845,
          21.165323336846704
         ],
         "yaxis": "y12"
        }
       ],
       "layout": {
        "annotations": [
         {
          "font": {
           "size": 16
          },
          "showarrow": false,
          "text": "Pitch - Number (Scaled 0-100)",
          "x": 0.225,
          "xanchor": "center",
          "xref": "paper",
          "y": 0.9999999999999999,
          "yanchor": "bottom",
          "yref": "paper"
         },
         {
          "font": {
           "size": 16
          },
          "showarrow": false,
          "text": "Pitch Error - Number (Scaled 0-100)",
          "x": 0.775,
          "xanchor": "center",
          "xref": "paper",
          "y": 0.9999999999999999,
          "yanchor": "bottom",
          "yref": "paper"
         },
         {
          "font": {
           "size": 16
          },
          "showarrow": false,
          "text": "Roll - Number (Scaled 0-100)",
          "x": 0.225,
          "xanchor": "center",
          "xref": "paper",
          "y": 0.8194444444444444,
          "yanchor": "bottom",
          "yref": "paper"
         },
         {
          "font": {
           "size": 16
          },
          "showarrow": false,
          "text": "Roll Error - Number (Scaled 0-100)",
          "x": 0.775,
          "xanchor": "center",
          "xref": "paper",
          "y": 0.8194444444444444,
          "yanchor": "bottom",
          "yref": "paper"
         },
         {
          "font": {
           "size": 16
          },
          "showarrow": false,
          "text": "Slider - Number (Scaled 0-100)",
          "x": 0.225,
          "xanchor": "center",
          "xref": "paper",
          "y": 0.638888888888889,
          "yanchor": "bottom",
          "yref": "paper"
         },
         {
          "font": {
           "size": 16
          },
          "showarrow": false,
          "text": "Slider Error - Number (Scaled 0-100)",
          "x": 0.775,
          "xanchor": "center",
          "xref": "paper",
          "y": 0.638888888888889,
          "yanchor": "bottom",
          "yref": "paper"
         },
         {
          "font": {
           "size": 16
          },
          "showarrow": false,
          "text": "Pitch - Greyscale (Scaled 0-49)",
          "x": 0.225,
          "xanchor": "center",
          "xref": "paper",
          "y": 0.4583333333333333,
          "yanchor": "bottom",
          "yref": "paper"
         },
         {
          "font": {
           "size": 16
          },
          "showarrow": false,
          "text": "Pitch Error - Greyscale (Scaled 0-49)",
          "x": 0.775,
          "xanchor": "center",
          "xref": "paper",
          "y": 0.4583333333333333,
          "yanchor": "bottom",
          "yref": "paper"
         },
         {
          "font": {
           "size": 16
          },
          "showarrow": false,
          "text": "Roll - Greyscale (Scaled 0-49)",
          "x": 0.225,
          "xanchor": "center",
          "xref": "paper",
          "y": 0.2777777777777778,
          "yanchor": "bottom",
          "yref": "paper"
         },
         {
          "font": {
           "size": 16
          },
          "showarrow": false,
          "text": "Roll Error - Greyscale (Scaled 0-49)",
          "x": 0.775,
          "xanchor": "center",
          "xref": "paper",
          "y": 0.2777777777777778,
          "yanchor": "bottom",
          "yref": "paper"
         },
         {
          "font": {
           "size": 16
          },
          "showarrow": false,
          "text": "Slider - Greyscale (Scaled 0-49)",
          "x": 0.225,
          "xanchor": "center",
          "xref": "paper",
          "y": 0.09722222222222222,
          "yanchor": "bottom",
          "yref": "paper"
         },
         {
          "font": {
           "size": 16
          },
          "showarrow": false,
          "text": "Slider Error - Greyscale (Scaled 0-49)",
          "x": 0.775,
          "xanchor": "center",
          "xref": "paper",
          "y": 0.09722222222222222,
          "yanchor": "bottom",
          "yref": "paper"
         }
        ],
        "height": 2400,
        "shapes": [
         {
          "line": {
           "color": "Black",
           "dash": "dot",
           "width": 1
          },
          "name": "Linear Truth",
          "showlegend": true,
          "type": "line",
          "x0": 0,
          "x1": 100,
          "xref": "x",
          "y0": 0,
          "y1": 100,
          "yref": "y"
         },
         {
          "line": {
           "color": "Black",
           "dash": "dot",
           "width": 1
          },
          "name": "Linear Truth",
          "showlegend": false,
          "type": "line",
          "x0": 0,
          "x1": 100,
          "xref": "x2",
          "y0": 0,
          "y1": 100,
          "yref": "y2"
         },
         {
          "line": {
           "color": "Black",
           "dash": "dot",
           "width": 1
          },
          "name": "Linear Truth",
          "showlegend": false,
          "type": "line",
          "x0": 0,
          "x1": 100,
          "xref": "x3",
          "y0": 0,
          "y1": 100,
          "yref": "y3"
         },
         {
          "line": {
           "color": "Black",
           "dash": "dot",
           "width": 1
          },
          "name": "Linear Truth",
          "showlegend": false,
          "type": "line",
          "x0": 0,
          "x1": 100,
          "xref": "x4",
          "y0": 0,
          "y1": 100,
          "yref": "y4"
         },
         {
          "line": {
           "color": "Black",
           "dash": "dot",
           "width": 1
          },
          "name": "Linear Truth",
          "showlegend": false,
          "type": "line",
          "x0": 0,
          "x1": 100,
          "xref": "x5",
          "y0": 0,
          "y1": 100,
          "yref": "y5"
         },
         {
          "line": {
           "color": "Black",
           "dash": "dot",
           "width": 1
          },
          "name": "Linear Truth",
          "showlegend": false,
          "type": "line",
          "x0": 0,
          "x1": 100,
          "xref": "x6",
          "y0": 0,
          "y1": 100,
          "yref": "y6"
         },
         {
          "line": {
           "color": "Black",
           "dash": "dot",
           "width": 1
          },
          "name": "Linear Truth",
          "showlegend": false,
          "type": "line",
          "x0": 0,
          "x1": 49,
          "xref": "x7",
          "y0": 0,
          "y1": 49,
          "yref": "y7"
         },
         {
          "line": {
           "color": "Black",
           "dash": "dot",
           "width": 1
          },
          "name": "Linear Truth",
          "showlegend": false,
          "type": "line",
          "x0": 0,
          "x1": 49,
          "xref": "x8",
          "y0": 0,
          "y1": 49,
          "yref": "y8"
         },
         {
          "line": {
           "color": "Black",
           "dash": "dot",
           "width": 1
          },
          "name": "Linear Truth",
          "showlegend": false,
          "type": "line",
          "x0": 0,
          "x1": 49,
          "xref": "x9",
          "y0": 0,
          "y1": 49,
          "yref": "y9"
         },
         {
          "line": {
           "color": "Black",
           "dash": "dot",
           "width": 1
          },
          "name": "Linear Truth",
          "showlegend": false,
          "type": "line",
          "x0": 0,
          "x1": 49,
          "xref": "x10",
          "y0": 0,
          "y1": 49,
          "yref": "y10"
         },
         {
          "line": {
           "color": "Black",
           "dash": "dot",
           "width": 1
          },
          "name": "Linear Truth",
          "showlegend": false,
          "type": "line",
          "x0": 0,
          "x1": 49,
          "xref": "x11",
          "y0": 0,
          "y1": 49,
          "yref": "y11"
         },
         {
          "line": {
           "color": "Black",
           "dash": "dot",
           "width": 1
          },
          "name": "Linear Truth",
          "showlegend": false,
          "type": "line",
          "x0": 0,
          "x1": 49,
          "xref": "x12",
          "y0": 0,
          "y1": 49,
          "yref": "y12"
         }
        ],
        "template": {
         "data": {
          "bar": [
           {
            "error_x": {
             "color": "#2a3f5f"
            },
            "error_y": {
             "color": "#2a3f5f"
            },
            "marker": {
             "line": {
              "color": "#E5ECF6",
              "width": 0.5
             },
             "pattern": {
              "fillmode": "overlay",
              "size": 10,
              "solidity": 0.2
             }
            },
            "type": "bar"
           }
          ],
          "barpolar": [
           {
            "marker": {
             "line": {
              "color": "#E5ECF6",
              "width": 0.5
             },
             "pattern": {
              "fillmode": "overlay",
              "size": 10,
              "solidity": 0.2
             }
            },
            "type": "barpolar"
           }
          ],
          "carpet": [
           {
            "aaxis": {
             "endlinecolor": "#2a3f5f",
             "gridcolor": "white",
             "linecolor": "white",
             "minorgridcolor": "white",
             "startlinecolor": "#2a3f5f"
            },
            "baxis": {
             "endlinecolor": "#2a3f5f",
             "gridcolor": "white",
             "linecolor": "white",
             "minorgridcolor": "white",
             "startlinecolor": "#2a3f5f"
            },
            "type": "carpet"
           }
          ],
          "choropleth": [
           {
            "colorbar": {
             "outlinewidth": 0,
             "ticks": ""
            },
            "type": "choropleth"
           }
          ],
          "contour": [
           {
            "colorbar": {
             "outlinewidth": 0,
             "ticks": ""
            },
            "colorscale": [
             [
              0,
              "#0d0887"
             ],
             [
              0.1111111111111111,
              "#46039f"
             ],
             [
              0.2222222222222222,
              "#7201a8"
             ],
             [
              0.3333333333333333,
              "#9c179e"
             ],
             [
              0.4444444444444444,
              "#bd3786"
             ],
             [
              0.5555555555555556,
              "#d8576b"
             ],
             [
              0.6666666666666666,
              "#ed7953"
             ],
             [
              0.7777777777777778,
              "#fb9f3a"
             ],
             [
              0.8888888888888888,
              "#fdca26"
             ],
             [
              1,
              "#f0f921"
             ]
            ],
            "type": "contour"
           }
          ],
          "contourcarpet": [
           {
            "colorbar": {
             "outlinewidth": 0,
             "ticks": ""
            },
            "type": "contourcarpet"
           }
          ],
          "heatmap": [
           {
            "colorbar": {
             "outlinewidth": 0,
             "ticks": ""
            },
            "colorscale": [
             [
              0,
              "#0d0887"
             ],
             [
              0.1111111111111111,
              "#46039f"
             ],
             [
              0.2222222222222222,
              "#7201a8"
             ],
             [
              0.3333333333333333,
              "#9c179e"
             ],
             [
              0.4444444444444444,
              "#bd3786"
             ],
             [
              0.5555555555555556,
              "#d8576b"
             ],
             [
              0.6666666666666666,
              "#ed7953"
             ],
             [
              0.7777777777777778,
              "#fb9f3a"
             ],
             [
              0.8888888888888888,
              "#fdca26"
             ],
             [
              1,
              "#f0f921"
             ]
            ],
            "type": "heatmap"
           }
          ],
          "heatmapgl": [
           {
            "colorbar": {
             "outlinewidth": 0,
             "ticks": ""
            },
            "colorscale": [
             [
              0,
              "#0d0887"
             ],
             [
              0.1111111111111111,
              "#46039f"
             ],
             [
              0.2222222222222222,
              "#7201a8"
             ],
             [
              0.3333333333333333,
              "#9c179e"
             ],
             [
              0.4444444444444444,
              "#bd3786"
             ],
             [
              0.5555555555555556,
              "#d8576b"
             ],
             [
              0.6666666666666666,
              "#ed7953"
             ],
             [
              0.7777777777777778,
              "#fb9f3a"
             ],
             [
              0.8888888888888888,
              "#fdca26"
             ],
             [
              1,
              "#f0f921"
             ]
            ],
            "type": "heatmapgl"
           }
          ],
          "histogram": [
           {
            "marker": {
             "pattern": {
              "fillmode": "overlay",
              "size": 10,
              "solidity": 0.2
             }
            },
            "type": "histogram"
           }
          ],
          "histogram2d": [
           {
            "colorbar": {
             "outlinewidth": 0,
             "ticks": ""
            },
            "colorscale": [
             [
              0,
              "#0d0887"
             ],
             [
              0.1111111111111111,
              "#46039f"
             ],
             [
              0.2222222222222222,
              "#7201a8"
             ],
             [
              0.3333333333333333,
              "#9c179e"
             ],
             [
              0.4444444444444444,
              "#bd3786"
             ],
             [
              0.5555555555555556,
              "#d8576b"
             ],
             [
              0.6666666666666666,
              "#ed7953"
             ],
             [
              0.7777777777777778,
              "#fb9f3a"
             ],
             [
              0.8888888888888888,
              "#fdca26"
             ],
             [
              1,
              "#f0f921"
             ]
            ],
            "type": "histogram2d"
           }
          ],
          "histogram2dcontour": [
           {
            "colorbar": {
             "outlinewidth": 0,
             "ticks": ""
            },
            "colorscale": [
             [
              0,
              "#0d0887"
             ],
             [
              0.1111111111111111,
              "#46039f"
             ],
             [
              0.2222222222222222,
              "#7201a8"
             ],
             [
              0.3333333333333333,
              "#9c179e"
             ],
             [
              0.4444444444444444,
              "#bd3786"
             ],
             [
              0.5555555555555556,
              "#d8576b"
             ],
             [
              0.6666666666666666,
              "#ed7953"
             ],
             [
              0.7777777777777778,
              "#fb9f3a"
             ],
             [
              0.8888888888888888,
              "#fdca26"
             ],
             [
              1,
              "#f0f921"
             ]
            ],
            "type": "histogram2dcontour"
           }
          ],
          "mesh3d": [
           {
            "colorbar": {
             "outlinewidth": 0,
             "ticks": ""
            },
            "type": "mesh3d"
           }
          ],
          "parcoords": [
           {
            "line": {
             "colorbar": {
              "outlinewidth": 0,
              "ticks": ""
             }
            },
            "type": "parcoords"
           }
          ],
          "pie": [
           {
            "automargin": true,
            "type": "pie"
           }
          ],
          "scatter": [
           {
            "fillpattern": {
             "fillmode": "overlay",
             "size": 10,
             "solidity": 0.2
            },
            "type": "scatter"
           }
          ],
          "scatter3d": [
           {
            "line": {
             "colorbar": {
              "outlinewidth": 0,
              "ticks": ""
             }
            },
            "marker": {
             "colorbar": {
              "outlinewidth": 0,
              "ticks": ""
             }
            },
            "type": "scatter3d"
           }
          ],
          "scattercarpet": [
           {
            "marker": {
             "colorbar": {
              "outlinewidth": 0,
              "ticks": ""
             }
            },
            "type": "scattercarpet"
           }
          ],
          "scattergeo": [
           {
            "marker": {
             "colorbar": {
              "outlinewidth": 0,
              "ticks": ""
             }
            },
            "type": "scattergeo"
           }
          ],
          "scattergl": [
           {
            "marker": {
             "colorbar": {
              "outlinewidth": 0,
              "ticks": ""
             }
            },
            "type": "scattergl"
           }
          ],
          "scattermapbox": [
           {
            "marker": {
             "colorbar": {
              "outlinewidth": 0,
              "ticks": ""
             }
            },
            "type": "scattermapbox"
           }
          ],
          "scatterpolar": [
           {
            "marker": {
             "colorbar": {
              "outlinewidth": 0,
              "ticks": ""
             }
            },
            "type": "scatterpolar"
           }
          ],
          "scatterpolargl": [
           {
            "marker": {
             "colorbar": {
              "outlinewidth": 0,
              "ticks": ""
             }
            },
            "type": "scatterpolargl"
           }
          ],
          "scatterternary": [
           {
            "marker": {
             "colorbar": {
              "outlinewidth": 0,
              "ticks": ""
             }
            },
            "type": "scatterternary"
           }
          ],
          "surface": [
           {
            "colorbar": {
             "outlinewidth": 0,
             "ticks": ""
            },
            "colorscale": [
             [
              0,
              "#0d0887"
             ],
             [
              0.1111111111111111,
              "#46039f"
             ],
             [
              0.2222222222222222,
              "#7201a8"
             ],
             [
              0.3333333333333333,
              "#9c179e"
             ],
             [
              0.4444444444444444,
              "#bd3786"
             ],
             [
              0.5555555555555556,
              "#d8576b"
             ],
             [
              0.6666666666666666,
              "#ed7953"
             ],
             [
              0.7777777777777778,
              "#fb9f3a"
             ],
             [
              0.8888888888888888,
              "#fdca26"
             ],
             [
              1,
              "#f0f921"
             ]
            ],
            "type": "surface"
           }
          ],
          "table": [
           {
            "cells": {
             "fill": {
              "color": "#EBF0F8"
             },
             "line": {
              "color": "white"
             }
            },
            "header": {
             "fill": {
              "color": "#C8D4E3"
             },
             "line": {
              "color": "white"
             }
            },
            "type": "table"
           }
          ]
         },
         "layout": {
          "annotationdefaults": {
           "arrowcolor": "#2a3f5f",
           "arrowhead": 0,
           "arrowwidth": 1
          },
          "autotypenumbers": "strict",
          "coloraxis": {
           "colorbar": {
            "outlinewidth": 0,
            "ticks": ""
           }
          },
          "colorscale": {
           "diverging": [
            [
             0,
             "#8e0152"
            ],
            [
             0.1,
             "#c51b7d"
            ],
            [
             0.2,
             "#de77ae"
            ],
            [
             0.3,
             "#f1b6da"
            ],
            [
             0.4,
             "#fde0ef"
            ],
            [
             0.5,
             "#f7f7f7"
            ],
            [
             0.6,
             "#e6f5d0"
            ],
            [
             0.7,
             "#b8e186"
            ],
            [
             0.8,
             "#7fbc41"
            ],
            [
             0.9,
             "#4d9221"
            ],
            [
             1,
             "#276419"
            ]
           ],
           "sequential": [
            [
             0,
             "#0d0887"
            ],
            [
             0.1111111111111111,
             "#46039f"
            ],
            [
             0.2222222222222222,
             "#7201a8"
            ],
            [
             0.3333333333333333,
             "#9c179e"
            ],
            [
             0.4444444444444444,
             "#bd3786"
            ],
            [
             0.5555555555555556,
             "#d8576b"
            ],
            [
             0.6666666666666666,
             "#ed7953"
            ],
            [
             0.7777777777777778,
             "#fb9f3a"
            ],
            [
             0.8888888888888888,
             "#fdca26"
            ],
            [
             1,
             "#f0f921"
            ]
           ],
           "sequentialminus": [
            [
             0,
             "#0d0887"
            ],
            [
             0.1111111111111111,
             "#46039f"
            ],
            [
             0.2222222222222222,
             "#7201a8"
            ],
            [
             0.3333333333333333,
             "#9c179e"
            ],
            [
             0.4444444444444444,
             "#bd3786"
            ],
            [
             0.5555555555555556,
             "#d8576b"
            ],
            [
             0.6666666666666666,
             "#ed7953"
            ],
            [
             0.7777777777777778,
             "#fb9f3a"
            ],
            [
             0.8888888888888888,
             "#fdca26"
            ],
            [
             1,
             "#f0f921"
            ]
           ]
          },
          "colorway": [
           "#636efa",
           "#EF553B",
           "#00cc96",
           "#ab63fa",
           "#FFA15A",
           "#19d3f3",
           "#FF6692",
           "#B6E880",
           "#FF97FF",
           "#FECB52"
          ],
          "font": {
           "color": "#2a3f5f"
          },
          "geo": {
           "bgcolor": "white",
           "lakecolor": "white",
           "landcolor": "#E5ECF6",
           "showlakes": true,
           "showland": true,
           "subunitcolor": "white"
          },
          "hoverlabel": {
           "align": "left"
          },
          "hovermode": "closest",
          "mapbox": {
           "style": "light"
          },
          "paper_bgcolor": "white",
          "plot_bgcolor": "#E5ECF6",
          "polar": {
           "angularaxis": {
            "gridcolor": "white",
            "linecolor": "white",
            "ticks": ""
           },
           "bgcolor": "#E5ECF6",
           "radialaxis": {
            "gridcolor": "white",
            "linecolor": "white",
            "ticks": ""
           }
          },
          "scene": {
           "xaxis": {
            "backgroundcolor": "#E5ECF6",
            "gridcolor": "white",
            "gridwidth": 2,
            "linecolor": "white",
            "showbackground": true,
            "ticks": "",
            "zerolinecolor": "white"
           },
           "yaxis": {
            "backgroundcolor": "#E5ECF6",
            "gridcolor": "white",
            "gridwidth": 2,
            "linecolor": "white",
            "showbackground": true,
            "ticks": "",
            "zerolinecolor": "white"
           },
           "zaxis": {
            "backgroundcolor": "#E5ECF6",
            "gridcolor": "white",
            "gridwidth": 2,
            "linecolor": "white",
            "showbackground": true,
            "ticks": "",
            "zerolinecolor": "white"
           }
          },
          "shapedefaults": {
           "line": {
            "color": "#2a3f5f"
           }
          },
          "ternary": {
           "aaxis": {
            "gridcolor": "white",
            "linecolor": "white",
            "ticks": ""
           },
           "baxis": {
            "gridcolor": "white",
            "linecolor": "white",
            "ticks": ""
           },
           "bgcolor": "#E5ECF6",
           "caxis": {
            "gridcolor": "white",
            "linecolor": "white",
            "ticks": ""
           }
          },
          "title": {
           "x": 0.05
          },
          "xaxis": {
           "automargin": true,
           "gridcolor": "white",
           "linecolor": "white",
           "ticks": "",
           "title": {
            "standoff": 15
           },
           "zerolinecolor": "white",
           "zerolinewidth": 2
          },
          "yaxis": {
           "automargin": true,
           "gridcolor": "white",
           "linecolor": "white",
           "ticks": "",
           "title": {
            "standoff": 15
           },
           "zerolinecolor": "white",
           "zerolinewidth": 2
          }
         }
        },
        "title": {
         "text": "Sensor Readings Scatter Plots"
        },
        "width": 800,
        "xaxis": {
         "anchor": "y",
         "domain": [
          0,
          0.45
         ],
         "dtick": 10,
         "tickmode": "linear",
         "title": {
          "text": "Truth Values"
         }
        },
        "xaxis10": {
         "anchor": "y10",
         "domain": [
          0.55,
          1
         ],
         "dtick": 10,
         "tickmode": "linear",
         "title": {
          "text": "Truth Values"
         }
        },
        "xaxis11": {
         "anchor": "y11",
         "domain": [
          0,
          0.45
         ],
         "dtick": 10,
         "tickmode": "linear",
         "title": {
          "text": "Truth Values"
         }
        },
        "xaxis12": {
         "anchor": "y12",
         "domain": [
          0.55,
          1
         ],
         "dtick": 10,
         "tickmode": "linear",
         "title": {
          "text": "Truth Values"
         }
        },
        "xaxis2": {
         "anchor": "y2",
         "domain": [
          0.55,
          1
         ],
         "dtick": 10,
         "tickmode": "linear",
         "title": {
          "text": "Truth Values"
         }
        },
        "xaxis3": {
         "anchor": "y3",
         "domain": [
          0,
          0.45
         ],
         "dtick": 10,
         "tickmode": "linear",
         "title": {
          "text": "Truth Values"
         }
        },
        "xaxis4": {
         "anchor": "y4",
         "domain": [
          0.55,
          1
         ],
         "dtick": 10,
         "tickmode": "linear",
         "title": {
          "text": "Truth Values"
         }
        },
        "xaxis5": {
         "anchor": "y5",
         "domain": [
          0,
          0.45
         ],
         "dtick": 10,
         "tickmode": "linear",
         "title": {
          "text": "Truth Values"
         }
        },
        "xaxis6": {
         "anchor": "y6",
         "domain": [
          0.55,
          1
         ],
         "dtick": 10,
         "tickmode": "linear",
         "title": {
          "text": "Truth Values"
         }
        },
        "xaxis7": {
         "anchor": "y7",
         "domain": [
          0,
          0.45
         ],
         "dtick": 10,
         "tickmode": "linear",
         "title": {
          "text": "Truth Values"
         }
        },
        "xaxis8": {
         "anchor": "y8",
         "domain": [
          0.55,
          1
         ],
         "dtick": 10,
         "tickmode": "linear",
         "title": {
          "text": "Truth Values"
         }
        },
        "xaxis9": {
         "anchor": "y9",
         "domain": [
          0,
          0.45
         ],
         "dtick": 10,
         "tickmode": "linear",
         "title": {
          "text": "Truth Values"
         }
        },
        "yaxis": {
         "anchor": "x",
         "domain": [
          0.9027777777777777,
          0.9999999999999999
         ],
         "dtick": 10,
         "tickmode": "linear",
         "title": {
          "text": "Pitch Sensor Readings"
         }
        },
        "yaxis10": {
         "anchor": "x10",
         "domain": [
          0.18055555555555555,
          0.2777777777777778
         ],
         "dtick": 10,
         "tickmode": "linear",
         "title": {
          "text": "Pitch Sensor Readings"
         }
        },
        "yaxis11": {
         "anchor": "x11",
         "domain": [
          0,
          0.09722222222222222
         ],
         "dtick": 10,
         "tickmode": "linear",
         "title": {
          "text": "Slider Readings"
         }
        },
        "yaxis12": {
         "anchor": "x12",
         "domain": [
          0,
          0.09722222222222222
         ],
         "dtick": 10,
         "tickmode": "linear",
         "title": {
          "text": "Slider Readings"
         }
        },
        "yaxis2": {
         "anchor": "x2",
         "domain": [
          0.9027777777777777,
          0.9999999999999999
         ],
         "dtick": 10,
         "tickmode": "linear",
         "title": {
          "text": "Pitch Sensor Readings"
         }
        },
        "yaxis3": {
         "anchor": "x3",
         "domain": [
          0.7222222222222222,
          0.8194444444444444
         ],
         "dtick": 10,
         "tickmode": "linear",
         "title": {
          "text": "Roll Sensor Readings"
         }
        },
        "yaxis4": {
         "anchor": "x4",
         "domain": [
          0.7222222222222222,
          0.8194444444444444
         ],
         "dtick": 10,
         "tickmode": "linear",
         "title": {
          "text": "Roll Sensor Readings"
         }
        },
        "yaxis5": {
         "anchor": "x5",
         "domain": [
          0.5416666666666667,
          0.638888888888889
         ],
         "dtick": 10,
         "tickmode": "linear",
         "title": {
          "text": "Slider Readings"
         }
        },
        "yaxis6": {
         "anchor": "x6",
         "domain": [
          0.5416666666666667,
          0.638888888888889
         ],
         "dtick": 10,
         "tickmode": "linear",
         "title": {
          "text": "Slider Readings"
         }
        },
        "yaxis7": {
         "anchor": "x7",
         "domain": [
          0.3611111111111111,
          0.4583333333333333
         ],
         "dtick": 10,
         "tickmode": "linear",
         "title": {
          "text": "Roll Sensor Readings"
         }
        },
        "yaxis8": {
         "anchor": "x8",
         "domain": [
          0.3611111111111111,
          0.4583333333333333
         ],
         "dtick": 10,
         "tickmode": "linear",
         "title": {
          "text": "Roll Sensor Readings"
         }
        },
        "yaxis9": {
         "anchor": "x9",
         "domain": [
          0.18055555555555555,
          0.2777777777777778
         ],
         "dtick": 10,
         "tickmode": "linear",
         "title": {
          "text": "Pitch Sensor Readings"
         }
        }
       }
      }
     },
     "metadata": {},
     "output_type": "display_data"
    }
   ],
   "source": [
    "g_pitch_greyscale_df = df[(df[\"experiment_type\"] == \"gesture_pitch_greyscale\")]\n",
    "g_pitch_number_df = df[(df[\"experiment_type\"] == \"gesture_pitch_number\")]\n",
    "g_roll_greyscale_df = df[(df[\"experiment_type\"] == \"gesture_roll_greyscale\")]\n",
    "g_roll_number_df = df[(df[\"experiment_type\"] == \"gesture_roll_number\")]\n",
    "g_slider_greyscale_df = df[(df[\"experiment_type\"] == \"slider_greyscale\")]\n",
    "g_slider_number_df = df[(df[\"experiment_type\"] == \"slider_number\")]\n",
    "\n",
    "fig = sp.make_subplots(rows=6, cols=2, subplot_titles=(\n",
    "    'Pitch - Number (Scaled 0-100)',\n",
    "    'Pitch Error - Number (Scaled 0-100)',\n",
    "    'Roll - Number (Scaled 0-100)',\n",
    "    'Roll Error - Number (Scaled 0-100)',\n",
    "    'Slider - Number (Scaled 0-100)',\n",
    "    'Slider Error - Number (Scaled 0-100)',\n",
    "    'Pitch - Greyscale (Scaled 0-49)',\n",
    "    'Pitch Error - Greyscale (Scaled 0-49)',\n",
    "    'Roll - Greyscale (Scaled 0-49)',\n",
    "    'Roll Error - Greyscale (Scaled 0-49)',\n",
    "    'Slider - Greyscale (Scaled 0-49)',\n",
    "    'Slider Error - Greyscale (Scaled 0-49)'\n",
    "))\n",
    "\n",
    "def add_scatter_with_equal_axes(df, truth_info, error_y, scale, row, col, fig):\n",
    "    legend_repeated = row < 2 and col < 2\n",
    "    trace = px.scatter(df, x=\"truth\", y=truth_info['truth'], error_y=error_y, color_discrete_sequence=[px.colors.qualitative.Plotly[row - 1]]).data[0]\n",
    "    fig.add_trace(trace, row=row, col=col)\n",
    "    fig.update_xaxes(tickmode='linear', dtick=10, row=row, col=col)\n",
    "    fig.update_yaxes(tickmode='linear', dtick=10, row=row, col=col)\n",
    "    fig.add_shape(\n",
    "        type=\"line\",\n",
    "        x0=0, y0=0, x1=scale, y1=scale,\n",
    "        line=dict(color=\"Black\", width=1, dash=\"dot\"),\n",
    "        row=row, col=col,\n",
    "        showlegend=legend_repeated,\n",
    "        name=\"Linear Truth\")\n",
    "\n",
    "add_scatter_with_equal_axes(g_pitch_number_df, experiment_truth_type[\"gesture_pitch_number\"], None, scale_type[\"gesture_pitch_number\"], 1, 1, fig)\n",
    "add_scatter_with_equal_axes(g_pitch_number_df, experiment_truth_type[\"gesture_pitch_number\"], experiment_truth_type[\"gesture_pitch_number\"][\"truth_diff\"], scale_type[\"gesture_pitch_number\"], 1, 2, fig)\n",
    "\n",
    "add_scatter_with_equal_axes(g_roll_number_df, experiment_truth_type[\"gesture_roll_number\"], None, scale_type[\"gesture_roll_number\"], 2, 1, fig)\n",
    "add_scatter_with_equal_axes(g_roll_number_df, experiment_truth_type[\"gesture_roll_number\"], experiment_truth_type[\"gesture_roll_number\"][\"truth_diff\"], scale_type[\"gesture_roll_number\"], 2, 2, fig)\n",
    "\n",
    "add_scatter_with_equal_axes(g_slider_number_df, experiment_truth_type[\"slider_number\"], None, scale_type[\"slider_number\"], 3, 1, fig)\n",
    "add_scatter_with_equal_axes(g_slider_number_df, experiment_truth_type[\"slider_number\"], experiment_truth_type[\"slider_number\"][\"truth_diff\"], scale_type[\"slider_number\"], 3, 2, fig)\n",
    "\n",
    "add_scatter_with_equal_axes(g_pitch_greyscale_df, experiment_truth_type[\"gesture_pitch_greyscale\"], None, scale_type[\"gesture_pitch_greyscale\"], 4, 1, fig)\n",
    "add_scatter_with_equal_axes(g_pitch_greyscale_df, experiment_truth_type[\"gesture_pitch_greyscale\"], experiment_truth_type[\"gesture_pitch_greyscale\"][\"truth_diff\"], scale_type[\"gesture_pitch_greyscale\"], 4, 2, fig)\n",
    "\n",
    "add_scatter_with_equal_axes(g_roll_greyscale_df, experiment_truth_type[\"gesture_roll_greyscale\"], None, scale_type[\"gesture_roll_greyscale\"], 5, 1, fig)\n",
    "add_scatter_with_equal_axes(g_roll_greyscale_df, experiment_truth_type[\"gesture_roll_greyscale\"], experiment_truth_type[\"gesture_roll_greyscale\"][\"truth_diff\"], scale_type[\"gesture_roll_greyscale\"], 5, 2, fig)\n",
    "\n",
    "add_scatter_with_equal_axes(g_slider_greyscale_df, experiment_truth_type[\"slider_greyscale\"], None, scale_type[\"slider_greyscale\"], 6, 1, fig)\n",
    "add_scatter_with_equal_axes(g_slider_greyscale_df, experiment_truth_type[\"slider_greyscale\"], experiment_truth_type[\"slider_greyscale\"][\"truth_diff\"], scale_type[\"slider_greyscale\"], 6, 2, fig)\n",
    "\n",
    "fig.update_layout(height=6*400, width=2*400, title_text=\"Sensor Readings Scatter Plots\")\n",
    "fig.update_xaxes(title_text=\"Truth Values\")\n",
    "fig.update_yaxes(title_text=\"Sensor Readings\")\n",
    "\n",
    "fig['layout']['yaxis1'].update(title='Pitch Sensor Readings')\n",
    "fig['layout']['yaxis2'].update(title='Pitch Sensor Readings')\n",
    "fig['layout']['yaxis3'].update(title='Roll Sensor Readings')\n",
    "fig['layout']['yaxis4'].update(title='Roll Sensor Readings')\n",
    "fig['layout']['yaxis5'].update(title='Slider Readings')\n",
    "fig['layout']['yaxis6'].update(title='Slider Readings')\n",
    "fig['layout']['yaxis7'].update(title='Roll Sensor Readings')\n",
    "fig['layout']['yaxis8'].update(title='Roll Sensor Readings')\n",
    "fig['layout']['yaxis9'].update(title='Pitch Sensor Readings')\n",
    "fig['layout']['yaxis10'].update(title='Pitch Sensor Readings')\n",
    "fig['layout']['yaxis11'].update(title='Slider Readings')\n",
    "fig['layout']['yaxis12'].update(title='Slider Readings')\n",
    "\n",
    "fig.show()"
   ]
  },
  {
   "cell_type": "code",
   "execution_count": 15,
   "metadata": {},
   "outputs": [
    {
     "data": {
      "application/vnd.plotly.v1+json": {
       "config": {
        "plotlyServerURL": "https://plot.ly"
       },
       "data": [
        {
         "alignmentgroup": "True",
         "bingroup": "x",
         "hovertemplate": "Pitch Truth Difference=%{x}<br>count=%{y}<extra></extra>",
         "legendgroup": "",
         "marker": {
          "color": "#636efa",
          "pattern": {
           "shape": ""
          }
         },
         "name": "",
         "offsetgroup": "",
         "orientation": "v",
         "showlegend": false,
         "type": "histogram",
         "x": [
          13,
          13,
          12,
          8,
          8,
          14,
          2,
          6,
          5,
          15,
          3,
          3,
          2,
          8,
          11,
          7,
          14,
          2,
          10,
          4
         ],
         "xaxis": "x",
         "yaxis": "y"
        }
       ],
       "layout": {
        "barmode": "relative",
        "height": 500,
        "legend": {
         "tracegroupgap": 0
        },
        "template": {
         "data": {
          "bar": [
           {
            "error_x": {
             "color": "#2a3f5f"
            },
            "error_y": {
             "color": "#2a3f5f"
            },
            "marker": {
             "line": {
              "color": "#E5ECF6",
              "width": 0.5
             },
             "pattern": {
              "fillmode": "overlay",
              "size": 10,
              "solidity": 0.2
             }
            },
            "type": "bar"
           }
          ],
          "barpolar": [
           {
            "marker": {
             "line": {
              "color": "#E5ECF6",
              "width": 0.5
             },
             "pattern": {
              "fillmode": "overlay",
              "size": 10,
              "solidity": 0.2
             }
            },
            "type": "barpolar"
           }
          ],
          "carpet": [
           {
            "aaxis": {
             "endlinecolor": "#2a3f5f",
             "gridcolor": "white",
             "linecolor": "white",
             "minorgridcolor": "white",
             "startlinecolor": "#2a3f5f"
            },
            "baxis": {
             "endlinecolor": "#2a3f5f",
             "gridcolor": "white",
             "linecolor": "white",
             "minorgridcolor": "white",
             "startlinecolor": "#2a3f5f"
            },
            "type": "carpet"
           }
          ],
          "choropleth": [
           {
            "colorbar": {
             "outlinewidth": 0,
             "ticks": ""
            },
            "type": "choropleth"
           }
          ],
          "contour": [
           {
            "colorbar": {
             "outlinewidth": 0,
             "ticks": ""
            },
            "colorscale": [
             [
              0,
              "#0d0887"
             ],
             [
              0.1111111111111111,
              "#46039f"
             ],
             [
              0.2222222222222222,
              "#7201a8"
             ],
             [
              0.3333333333333333,
              "#9c179e"
             ],
             [
              0.4444444444444444,
              "#bd3786"
             ],
             [
              0.5555555555555556,
              "#d8576b"
             ],
             [
              0.6666666666666666,
              "#ed7953"
             ],
             [
              0.7777777777777778,
              "#fb9f3a"
             ],
             [
              0.8888888888888888,
              "#fdca26"
             ],
             [
              1,
              "#f0f921"
             ]
            ],
            "type": "contour"
           }
          ],
          "contourcarpet": [
           {
            "colorbar": {
             "outlinewidth": 0,
             "ticks": ""
            },
            "type": "contourcarpet"
           }
          ],
          "heatmap": [
           {
            "colorbar": {
             "outlinewidth": 0,
             "ticks": ""
            },
            "colorscale": [
             [
              0,
              "#0d0887"
             ],
             [
              0.1111111111111111,
              "#46039f"
             ],
             [
              0.2222222222222222,
              "#7201a8"
             ],
             [
              0.3333333333333333,
              "#9c179e"
             ],
             [
              0.4444444444444444,
              "#bd3786"
             ],
             [
              0.5555555555555556,
              "#d8576b"
             ],
             [
              0.6666666666666666,
              "#ed7953"
             ],
             [
              0.7777777777777778,
              "#fb9f3a"
             ],
             [
              0.8888888888888888,
              "#fdca26"
             ],
             [
              1,
              "#f0f921"
             ]
            ],
            "type": "heatmap"
           }
          ],
          "heatmapgl": [
           {
            "colorbar": {
             "outlinewidth": 0,
             "ticks": ""
            },
            "colorscale": [
             [
              0,
              "#0d0887"
             ],
             [
              0.1111111111111111,
              "#46039f"
             ],
             [
              0.2222222222222222,
              "#7201a8"
             ],
             [
              0.3333333333333333,
              "#9c179e"
             ],
             [
              0.4444444444444444,
              "#bd3786"
             ],
             [
              0.5555555555555556,
              "#d8576b"
             ],
             [
              0.6666666666666666,
              "#ed7953"
             ],
             [
              0.7777777777777778,
              "#fb9f3a"
             ],
             [
              0.8888888888888888,
              "#fdca26"
             ],
             [
              1,
              "#f0f921"
             ]
            ],
            "type": "heatmapgl"
           }
          ],
          "histogram": [
           {
            "marker": {
             "pattern": {
              "fillmode": "overlay",
              "size": 10,
              "solidity": 0.2
             }
            },
            "type": "histogram"
           }
          ],
          "histogram2d": [
           {
            "colorbar": {
             "outlinewidth": 0,
             "ticks": ""
            },
            "colorscale": [
             [
              0,
              "#0d0887"
             ],
             [
              0.1111111111111111,
              "#46039f"
             ],
             [
              0.2222222222222222,
              "#7201a8"
             ],
             [
              0.3333333333333333,
              "#9c179e"
             ],
             [
              0.4444444444444444,
              "#bd3786"
             ],
             [
              0.5555555555555556,
              "#d8576b"
             ],
             [
              0.6666666666666666,
              "#ed7953"
             ],
             [
              0.7777777777777778,
              "#fb9f3a"
             ],
             [
              0.8888888888888888,
              "#fdca26"
             ],
             [
              1,
              "#f0f921"
             ]
            ],
            "type": "histogram2d"
           }
          ],
          "histogram2dcontour": [
           {
            "colorbar": {
             "outlinewidth": 0,
             "ticks": ""
            },
            "colorscale": [
             [
              0,
              "#0d0887"
             ],
             [
              0.1111111111111111,
              "#46039f"
             ],
             [
              0.2222222222222222,
              "#7201a8"
             ],
             [
              0.3333333333333333,
              "#9c179e"
             ],
             [
              0.4444444444444444,
              "#bd3786"
             ],
             [
              0.5555555555555556,
              "#d8576b"
             ],
             [
              0.6666666666666666,
              "#ed7953"
             ],
             [
              0.7777777777777778,
              "#fb9f3a"
             ],
             [
              0.8888888888888888,
              "#fdca26"
             ],
             [
              1,
              "#f0f921"
             ]
            ],
            "type": "histogram2dcontour"
           }
          ],
          "mesh3d": [
           {
            "colorbar": {
             "outlinewidth": 0,
             "ticks": ""
            },
            "type": "mesh3d"
           }
          ],
          "parcoords": [
           {
            "line": {
             "colorbar": {
              "outlinewidth": 0,
              "ticks": ""
             }
            },
            "type": "parcoords"
           }
          ],
          "pie": [
           {
            "automargin": true,
            "type": "pie"
           }
          ],
          "scatter": [
           {
            "fillpattern": {
             "fillmode": "overlay",
             "size": 10,
             "solidity": 0.2
            },
            "type": "scatter"
           }
          ],
          "scatter3d": [
           {
            "line": {
             "colorbar": {
              "outlinewidth": 0,
              "ticks": ""
             }
            },
            "marker": {
             "colorbar": {
              "outlinewidth": 0,
              "ticks": ""
             }
            },
            "type": "scatter3d"
           }
          ],
          "scattercarpet": [
           {
            "marker": {
             "colorbar": {
              "outlinewidth": 0,
              "ticks": ""
             }
            },
            "type": "scattercarpet"
           }
          ],
          "scattergeo": [
           {
            "marker": {
             "colorbar": {
              "outlinewidth": 0,
              "ticks": ""
             }
            },
            "type": "scattergeo"
           }
          ],
          "scattergl": [
           {
            "marker": {
             "colorbar": {
              "outlinewidth": 0,
              "ticks": ""
             }
            },
            "type": "scattergl"
           }
          ],
          "scattermapbox": [
           {
            "marker": {
             "colorbar": {
              "outlinewidth": 0,
              "ticks": ""
             }
            },
            "type": "scattermapbox"
           }
          ],
          "scatterpolar": [
           {
            "marker": {
             "colorbar": {
              "outlinewidth": 0,
              "ticks": ""
             }
            },
            "type": "scatterpolar"
           }
          ],
          "scatterpolargl": [
           {
            "marker": {
             "colorbar": {
              "outlinewidth": 0,
              "ticks": ""
             }
            },
            "type": "scatterpolargl"
           }
          ],
          "scatterternary": [
           {
            "marker": {
             "colorbar": {
              "outlinewidth": 0,
              "ticks": ""
             }
            },
            "type": "scatterternary"
           }
          ],
          "surface": [
           {
            "colorbar": {
             "outlinewidth": 0,
             "ticks": ""
            },
            "colorscale": [
             [
              0,
              "#0d0887"
             ],
             [
              0.1111111111111111,
              "#46039f"
             ],
             [
              0.2222222222222222,
              "#7201a8"
             ],
             [
              0.3333333333333333,
              "#9c179e"
             ],
             [
              0.4444444444444444,
              "#bd3786"
             ],
             [
              0.5555555555555556,
              "#d8576b"
             ],
             [
              0.6666666666666666,
              "#ed7953"
             ],
             [
              0.7777777777777778,
              "#fb9f3a"
             ],
             [
              0.8888888888888888,
              "#fdca26"
             ],
             [
              1,
              "#f0f921"
             ]
            ],
            "type": "surface"
           }
          ],
          "table": [
           {
            "cells": {
             "fill": {
              "color": "#EBF0F8"
             },
             "line": {
              "color": "white"
             }
            },
            "header": {
             "fill": {
              "color": "#C8D4E3"
             },
             "line": {
              "color": "white"
             }
            },
            "type": "table"
           }
          ]
         },
         "layout": {
          "annotationdefaults": {
           "arrowcolor": "#2a3f5f",
           "arrowhead": 0,
           "arrowwidth": 1
          },
          "autotypenumbers": "strict",
          "coloraxis": {
           "colorbar": {
            "outlinewidth": 0,
            "ticks": ""
           }
          },
          "colorscale": {
           "diverging": [
            [
             0,
             "#8e0152"
            ],
            [
             0.1,
             "#c51b7d"
            ],
            [
             0.2,
             "#de77ae"
            ],
            [
             0.3,
             "#f1b6da"
            ],
            [
             0.4,
             "#fde0ef"
            ],
            [
             0.5,
             "#f7f7f7"
            ],
            [
             0.6,
             "#e6f5d0"
            ],
            [
             0.7,
             "#b8e186"
            ],
            [
             0.8,
             "#7fbc41"
            ],
            [
             0.9,
             "#4d9221"
            ],
            [
             1,
             "#276419"
            ]
           ],
           "sequential": [
            [
             0,
             "#0d0887"
            ],
            [
             0.1111111111111111,
             "#46039f"
            ],
            [
             0.2222222222222222,
             "#7201a8"
            ],
            [
             0.3333333333333333,
             "#9c179e"
            ],
            [
             0.4444444444444444,
             "#bd3786"
            ],
            [
             0.5555555555555556,
             "#d8576b"
            ],
            [
             0.6666666666666666,
             "#ed7953"
            ],
            [
             0.7777777777777778,
             "#fb9f3a"
            ],
            [
             0.8888888888888888,
             "#fdca26"
            ],
            [
             1,
             "#f0f921"
            ]
           ],
           "sequentialminus": [
            [
             0,
             "#0d0887"
            ],
            [
             0.1111111111111111,
             "#46039f"
            ],
            [
             0.2222222222222222,
             "#7201a8"
            ],
            [
             0.3333333333333333,
             "#9c179e"
            ],
            [
             0.4444444444444444,
             "#bd3786"
            ],
            [
             0.5555555555555556,
             "#d8576b"
            ],
            [
             0.6666666666666666,
             "#ed7953"
            ],
            [
             0.7777777777777778,
             "#fb9f3a"
            ],
            [
             0.8888888888888888,
             "#fdca26"
            ],
            [
             1,
             "#f0f921"
            ]
           ]
          },
          "colorway": [
           "#636efa",
           "#EF553B",
           "#00cc96",
           "#ab63fa",
           "#FFA15A",
           "#19d3f3",
           "#FF6692",
           "#B6E880",
           "#FF97FF",
           "#FECB52"
          ],
          "font": {
           "color": "#2a3f5f"
          },
          "geo": {
           "bgcolor": "white",
           "lakecolor": "white",
           "landcolor": "#E5ECF6",
           "showlakes": true,
           "showland": true,
           "subunitcolor": "white"
          },
          "hoverlabel": {
           "align": "left"
          },
          "hovermode": "closest",
          "mapbox": {
           "style": "light"
          },
          "paper_bgcolor": "white",
          "plot_bgcolor": "#E5ECF6",
          "polar": {
           "angularaxis": {
            "gridcolor": "white",
            "linecolor": "white",
            "ticks": ""
           },
           "bgcolor": "#E5ECF6",
           "radialaxis": {
            "gridcolor": "white",
            "linecolor": "white",
            "ticks": ""
           }
          },
          "scene": {
           "xaxis": {
            "backgroundcolor": "#E5ECF6",
            "gridcolor": "white",
            "gridwidth": 2,
            "linecolor": "white",
            "showbackground": true,
            "ticks": "",
            "zerolinecolor": "white"
           },
           "yaxis": {
            "backgroundcolor": "#E5ECF6",
            "gridcolor": "white",
            "gridwidth": 2,
            "linecolor": "white",
            "showbackground": true,
            "ticks": "",
            "zerolinecolor": "white"
           },
           "zaxis": {
            "backgroundcolor": "#E5ECF6",
            "gridcolor": "white",
            "gridwidth": 2,
            "linecolor": "white",
            "showbackground": true,
            "ticks": "",
            "zerolinecolor": "white"
           }
          },
          "shapedefaults": {
           "line": {
            "color": "#2a3f5f"
           }
          },
          "ternary": {
           "aaxis": {
            "gridcolor": "white",
            "linecolor": "white",
            "ticks": ""
           },
           "baxis": {
            "gridcolor": "white",
            "linecolor": "white",
            "ticks": ""
           },
           "bgcolor": "#E5ECF6",
           "caxis": {
            "gridcolor": "white",
            "linecolor": "white",
            "ticks": ""
           }
          },
          "title": {
           "x": 0.05
          },
          "xaxis": {
           "automargin": true,
           "gridcolor": "white",
           "linecolor": "white",
           "ticks": "",
           "title": {
            "standoff": 15
           },
           "zerolinecolor": "white",
           "zerolinewidth": 2
          },
          "yaxis": {
           "automargin": true,
           "gridcolor": "white",
           "linecolor": "white",
           "ticks": "",
           "title": {
            "standoff": 15
           },
           "zerolinecolor": "white",
           "zerolinewidth": 2
          }
         }
        },
        "title": {
         "text": "Pitch Truth Differences - gesture_pitch_number"
        },
        "width": 500,
        "xaxis": {
         "anchor": "y",
         "domain": [
          0,
          1
         ],
         "title": {
          "text": "Pitch Truth Difference"
         }
        },
        "yaxis": {
         "anchor": "x",
         "domain": [
          0,
          1
         ],
         "title": {
          "text": "count"
         }
        }
       }
      }
     },
     "metadata": {},
     "output_type": "display_data"
    },
    {
     "data": {
      "application/vnd.plotly.v1+json": {
       "config": {
        "plotlyServerURL": "https://plot.ly"
       },
       "data": [
        {
         "alignmentgroup": "True",
         "bingroup": "x",
         "hovertemplate": "Pitch Truth Difference=%{x}<br>count=%{y}<extra></extra>",
         "legendgroup": "",
         "marker": {
          "color": "#636efa",
          "pattern": {
           "shape": ""
          }
         },
         "name": "",
         "offsetgroup": "",
         "orientation": "v",
         "showlegend": false,
         "type": "histogram",
         "x": [
          13,
          7,
          16,
          17,
          6,
          20,
          20,
          8,
          4,
          13,
          16,
          0,
          14
         ],
         "xaxis": "x",
         "yaxis": "y"
        }
       ],
       "layout": {
        "barmode": "relative",
        "height": 500,
        "legend": {
         "tracegroupgap": 0
        },
        "template": {
         "data": {
          "bar": [
           {
            "error_x": {
             "color": "#2a3f5f"
            },
            "error_y": {
             "color": "#2a3f5f"
            },
            "marker": {
             "line": {
              "color": "#E5ECF6",
              "width": 0.5
             },
             "pattern": {
              "fillmode": "overlay",
              "size": 10,
              "solidity": 0.2
             }
            },
            "type": "bar"
           }
          ],
          "barpolar": [
           {
            "marker": {
             "line": {
              "color": "#E5ECF6",
              "width": 0.5
             },
             "pattern": {
              "fillmode": "overlay",
              "size": 10,
              "solidity": 0.2
             }
            },
            "type": "barpolar"
           }
          ],
          "carpet": [
           {
            "aaxis": {
             "endlinecolor": "#2a3f5f",
             "gridcolor": "white",
             "linecolor": "white",
             "minorgridcolor": "white",
             "startlinecolor": "#2a3f5f"
            },
            "baxis": {
             "endlinecolor": "#2a3f5f",
             "gridcolor": "white",
             "linecolor": "white",
             "minorgridcolor": "white",
             "startlinecolor": "#2a3f5f"
            },
            "type": "carpet"
           }
          ],
          "choropleth": [
           {
            "colorbar": {
             "outlinewidth": 0,
             "ticks": ""
            },
            "type": "choropleth"
           }
          ],
          "contour": [
           {
            "colorbar": {
             "outlinewidth": 0,
             "ticks": ""
            },
            "colorscale": [
             [
              0,
              "#0d0887"
             ],
             [
              0.1111111111111111,
              "#46039f"
             ],
             [
              0.2222222222222222,
              "#7201a8"
             ],
             [
              0.3333333333333333,
              "#9c179e"
             ],
             [
              0.4444444444444444,
              "#bd3786"
             ],
             [
              0.5555555555555556,
              "#d8576b"
             ],
             [
              0.6666666666666666,
              "#ed7953"
             ],
             [
              0.7777777777777778,
              "#fb9f3a"
             ],
             [
              0.8888888888888888,
              "#fdca26"
             ],
             [
              1,
              "#f0f921"
             ]
            ],
            "type": "contour"
           }
          ],
          "contourcarpet": [
           {
            "colorbar": {
             "outlinewidth": 0,
             "ticks": ""
            },
            "type": "contourcarpet"
           }
          ],
          "heatmap": [
           {
            "colorbar": {
             "outlinewidth": 0,
             "ticks": ""
            },
            "colorscale": [
             [
              0,
              "#0d0887"
             ],
             [
              0.1111111111111111,
              "#46039f"
             ],
             [
              0.2222222222222222,
              "#7201a8"
             ],
             [
              0.3333333333333333,
              "#9c179e"
             ],
             [
              0.4444444444444444,
              "#bd3786"
             ],
             [
              0.5555555555555556,
              "#d8576b"
             ],
             [
              0.6666666666666666,
              "#ed7953"
             ],
             [
              0.7777777777777778,
              "#fb9f3a"
             ],
             [
              0.8888888888888888,
              "#fdca26"
             ],
             [
              1,
              "#f0f921"
             ]
            ],
            "type": "heatmap"
           }
          ],
          "heatmapgl": [
           {
            "colorbar": {
             "outlinewidth": 0,
             "ticks": ""
            },
            "colorscale": [
             [
              0,
              "#0d0887"
             ],
             [
              0.1111111111111111,
              "#46039f"
             ],
             [
              0.2222222222222222,
              "#7201a8"
             ],
             [
              0.3333333333333333,
              "#9c179e"
             ],
             [
              0.4444444444444444,
              "#bd3786"
             ],
             [
              0.5555555555555556,
              "#d8576b"
             ],
             [
              0.6666666666666666,
              "#ed7953"
             ],
             [
              0.7777777777777778,
              "#fb9f3a"
             ],
             [
              0.8888888888888888,
              "#fdca26"
             ],
             [
              1,
              "#f0f921"
             ]
            ],
            "type": "heatmapgl"
           }
          ],
          "histogram": [
           {
            "marker": {
             "pattern": {
              "fillmode": "overlay",
              "size": 10,
              "solidity": 0.2
             }
            },
            "type": "histogram"
           }
          ],
          "histogram2d": [
           {
            "colorbar": {
             "outlinewidth": 0,
             "ticks": ""
            },
            "colorscale": [
             [
              0,
              "#0d0887"
             ],
             [
              0.1111111111111111,
              "#46039f"
             ],
             [
              0.2222222222222222,
              "#7201a8"
             ],
             [
              0.3333333333333333,
              "#9c179e"
             ],
             [
              0.4444444444444444,
              "#bd3786"
             ],
             [
              0.5555555555555556,
              "#d8576b"
             ],
             [
              0.6666666666666666,
              "#ed7953"
             ],
             [
              0.7777777777777778,
              "#fb9f3a"
             ],
             [
              0.8888888888888888,
              "#fdca26"
             ],
             [
              1,
              "#f0f921"
             ]
            ],
            "type": "histogram2d"
           }
          ],
          "histogram2dcontour": [
           {
            "colorbar": {
             "outlinewidth": 0,
             "ticks": ""
            },
            "colorscale": [
             [
              0,
              "#0d0887"
             ],
             [
              0.1111111111111111,
              "#46039f"
             ],
             [
              0.2222222222222222,
              "#7201a8"
             ],
             [
              0.3333333333333333,
              "#9c179e"
             ],
             [
              0.4444444444444444,
              "#bd3786"
             ],
             [
              0.5555555555555556,
              "#d8576b"
             ],
             [
              0.6666666666666666,
              "#ed7953"
             ],
             [
              0.7777777777777778,
              "#fb9f3a"
             ],
             [
              0.8888888888888888,
              "#fdca26"
             ],
             [
              1,
              "#f0f921"
             ]
            ],
            "type": "histogram2dcontour"
           }
          ],
          "mesh3d": [
           {
            "colorbar": {
             "outlinewidth": 0,
             "ticks": ""
            },
            "type": "mesh3d"
           }
          ],
          "parcoords": [
           {
            "line": {
             "colorbar": {
              "outlinewidth": 0,
              "ticks": ""
             }
            },
            "type": "parcoords"
           }
          ],
          "pie": [
           {
            "automargin": true,
            "type": "pie"
           }
          ],
          "scatter": [
           {
            "fillpattern": {
             "fillmode": "overlay",
             "size": 10,
             "solidity": 0.2
            },
            "type": "scatter"
           }
          ],
          "scatter3d": [
           {
            "line": {
             "colorbar": {
              "outlinewidth": 0,
              "ticks": ""
             }
            },
            "marker": {
             "colorbar": {
              "outlinewidth": 0,
              "ticks": ""
             }
            },
            "type": "scatter3d"
           }
          ],
          "scattercarpet": [
           {
            "marker": {
             "colorbar": {
              "outlinewidth": 0,
              "ticks": ""
             }
            },
            "type": "scattercarpet"
           }
          ],
          "scattergeo": [
           {
            "marker": {
             "colorbar": {
              "outlinewidth": 0,
              "ticks": ""
             }
            },
            "type": "scattergeo"
           }
          ],
          "scattergl": [
           {
            "marker": {
             "colorbar": {
              "outlinewidth": 0,
              "ticks": ""
             }
            },
            "type": "scattergl"
           }
          ],
          "scattermapbox": [
           {
            "marker": {
             "colorbar": {
              "outlinewidth": 0,
              "ticks": ""
             }
            },
            "type": "scattermapbox"
           }
          ],
          "scatterpolar": [
           {
            "marker": {
             "colorbar": {
              "outlinewidth": 0,
              "ticks": ""
             }
            },
            "type": "scatterpolar"
           }
          ],
          "scatterpolargl": [
           {
            "marker": {
             "colorbar": {
              "outlinewidth": 0,
              "ticks": ""
             }
            },
            "type": "scatterpolargl"
           }
          ],
          "scatterternary": [
           {
            "marker": {
             "colorbar": {
              "outlinewidth": 0,
              "ticks": ""
             }
            },
            "type": "scatterternary"
           }
          ],
          "surface": [
           {
            "colorbar": {
             "outlinewidth": 0,
             "ticks": ""
            },
            "colorscale": [
             [
              0,
              "#0d0887"
             ],
             [
              0.1111111111111111,
              "#46039f"
             ],
             [
              0.2222222222222222,
              "#7201a8"
             ],
             [
              0.3333333333333333,
              "#9c179e"
             ],
             [
              0.4444444444444444,
              "#bd3786"
             ],
             [
              0.5555555555555556,
              "#d8576b"
             ],
             [
              0.6666666666666666,
              "#ed7953"
             ],
             [
              0.7777777777777778,
              "#fb9f3a"
             ],
             [
              0.8888888888888888,
              "#fdca26"
             ],
             [
              1,
              "#f0f921"
             ]
            ],
            "type": "surface"
           }
          ],
          "table": [
           {
            "cells": {
             "fill": {
              "color": "#EBF0F8"
             },
             "line": {
              "color": "white"
             }
            },
            "header": {
             "fill": {
              "color": "#C8D4E3"
             },
             "line": {
              "color": "white"
             }
            },
            "type": "table"
           }
          ]
         },
         "layout": {
          "annotationdefaults": {
           "arrowcolor": "#2a3f5f",
           "arrowhead": 0,
           "arrowwidth": 1
          },
          "autotypenumbers": "strict",
          "coloraxis": {
           "colorbar": {
            "outlinewidth": 0,
            "ticks": ""
           }
          },
          "colorscale": {
           "diverging": [
            [
             0,
             "#8e0152"
            ],
            [
             0.1,
             "#c51b7d"
            ],
            [
             0.2,
             "#de77ae"
            ],
            [
             0.3,
             "#f1b6da"
            ],
            [
             0.4,
             "#fde0ef"
            ],
            [
             0.5,
             "#f7f7f7"
            ],
            [
             0.6,
             "#e6f5d0"
            ],
            [
             0.7,
             "#b8e186"
            ],
            [
             0.8,
             "#7fbc41"
            ],
            [
             0.9,
             "#4d9221"
            ],
            [
             1,
             "#276419"
            ]
           ],
           "sequential": [
            [
             0,
             "#0d0887"
            ],
            [
             0.1111111111111111,
             "#46039f"
            ],
            [
             0.2222222222222222,
             "#7201a8"
            ],
            [
             0.3333333333333333,
             "#9c179e"
            ],
            [
             0.4444444444444444,
             "#bd3786"
            ],
            [
             0.5555555555555556,
             "#d8576b"
            ],
            [
             0.6666666666666666,
             "#ed7953"
            ],
            [
             0.7777777777777778,
             "#fb9f3a"
            ],
            [
             0.8888888888888888,
             "#fdca26"
            ],
            [
             1,
             "#f0f921"
            ]
           ],
           "sequentialminus": [
            [
             0,
             "#0d0887"
            ],
            [
             0.1111111111111111,
             "#46039f"
            ],
            [
             0.2222222222222222,
             "#7201a8"
            ],
            [
             0.3333333333333333,
             "#9c179e"
            ],
            [
             0.4444444444444444,
             "#bd3786"
            ],
            [
             0.5555555555555556,
             "#d8576b"
            ],
            [
             0.6666666666666666,
             "#ed7953"
            ],
            [
             0.7777777777777778,
             "#fb9f3a"
            ],
            [
             0.8888888888888888,
             "#fdca26"
            ],
            [
             1,
             "#f0f921"
            ]
           ]
          },
          "colorway": [
           "#636efa",
           "#EF553B",
           "#00cc96",
           "#ab63fa",
           "#FFA15A",
           "#19d3f3",
           "#FF6692",
           "#B6E880",
           "#FF97FF",
           "#FECB52"
          ],
          "font": {
           "color": "#2a3f5f"
          },
          "geo": {
           "bgcolor": "white",
           "lakecolor": "white",
           "landcolor": "#E5ECF6",
           "showlakes": true,
           "showland": true,
           "subunitcolor": "white"
          },
          "hoverlabel": {
           "align": "left"
          },
          "hovermode": "closest",
          "mapbox": {
           "style": "light"
          },
          "paper_bgcolor": "white",
          "plot_bgcolor": "#E5ECF6",
          "polar": {
           "angularaxis": {
            "gridcolor": "white",
            "linecolor": "white",
            "ticks": ""
           },
           "bgcolor": "#E5ECF6",
           "radialaxis": {
            "gridcolor": "white",
            "linecolor": "white",
            "ticks": ""
           }
          },
          "scene": {
           "xaxis": {
            "backgroundcolor": "#E5ECF6",
            "gridcolor": "white",
            "gridwidth": 2,
            "linecolor": "white",
            "showbackground": true,
            "ticks": "",
            "zerolinecolor": "white"
           },
           "yaxis": {
            "backgroundcolor": "#E5ECF6",
            "gridcolor": "white",
            "gridwidth": 2,
            "linecolor": "white",
            "showbackground": true,
            "ticks": "",
            "zerolinecolor": "white"
           },
           "zaxis": {
            "backgroundcolor": "#E5ECF6",
            "gridcolor": "white",
            "gridwidth": 2,
            "linecolor": "white",
            "showbackground": true,
            "ticks": "",
            "zerolinecolor": "white"
           }
          },
          "shapedefaults": {
           "line": {
            "color": "#2a3f5f"
           }
          },
          "ternary": {
           "aaxis": {
            "gridcolor": "white",
            "linecolor": "white",
            "ticks": ""
           },
           "baxis": {
            "gridcolor": "white",
            "linecolor": "white",
            "ticks": ""
           },
           "bgcolor": "#E5ECF6",
           "caxis": {
            "gridcolor": "white",
            "linecolor": "white",
            "ticks": ""
           }
          },
          "title": {
           "x": 0.05
          },
          "xaxis": {
           "automargin": true,
           "gridcolor": "white",
           "linecolor": "white",
           "ticks": "",
           "title": {
            "standoff": 15
           },
           "zerolinecolor": "white",
           "zerolinewidth": 2
          },
          "yaxis": {
           "automargin": true,
           "gridcolor": "white",
           "linecolor": "white",
           "ticks": "",
           "title": {
            "standoff": 15
           },
           "zerolinecolor": "white",
           "zerolinewidth": 2
          }
         }
        },
        "title": {
         "text": "Pitch Truth Differences - gesture_pitch_greyscale"
        },
        "width": 500,
        "xaxis": {
         "anchor": "y",
         "domain": [
          0,
          1
         ],
         "title": {
          "text": "Pitch Truth Difference"
         }
        },
        "yaxis": {
         "anchor": "x",
         "domain": [
          0,
          1
         ],
         "title": {
          "text": "count"
         }
        }
       }
      }
     },
     "metadata": {},
     "output_type": "display_data"
    },
    {
     "data": {
      "application/vnd.plotly.v1+json": {
       "config": {
        "plotlyServerURL": "https://plot.ly"
       },
       "data": [
        {
         "alignmentgroup": "True",
         "bingroup": "x",
         "hovertemplate": "Roll Truth Difference=%{x}<br>count=%{y}<extra></extra>",
         "legendgroup": "",
         "marker": {
          "color": "#636efa",
          "pattern": {
           "shape": ""
          }
         },
         "name": "",
         "offsetgroup": "",
         "orientation": "v",
         "showlegend": false,
         "type": "histogram",
         "x": [
          3,
          4,
          4,
          14,
          17,
          1,
          10,
          13,
          0,
          20,
          23,
          32,
          17,
          15,
          17,
          2,
          15,
          1,
          2,
          17
         ],
         "xaxis": "x",
         "yaxis": "y"
        }
       ],
       "layout": {
        "barmode": "relative",
        "height": 500,
        "legend": {
         "tracegroupgap": 0
        },
        "template": {
         "data": {
          "bar": [
           {
            "error_x": {
             "color": "#2a3f5f"
            },
            "error_y": {
             "color": "#2a3f5f"
            },
            "marker": {
             "line": {
              "color": "#E5ECF6",
              "width": 0.5
             },
             "pattern": {
              "fillmode": "overlay",
              "size": 10,
              "solidity": 0.2
             }
            },
            "type": "bar"
           }
          ],
          "barpolar": [
           {
            "marker": {
             "line": {
              "color": "#E5ECF6",
              "width": 0.5
             },
             "pattern": {
              "fillmode": "overlay",
              "size": 10,
              "solidity": 0.2
             }
            },
            "type": "barpolar"
           }
          ],
          "carpet": [
           {
            "aaxis": {
             "endlinecolor": "#2a3f5f",
             "gridcolor": "white",
             "linecolor": "white",
             "minorgridcolor": "white",
             "startlinecolor": "#2a3f5f"
            },
            "baxis": {
             "endlinecolor": "#2a3f5f",
             "gridcolor": "white",
             "linecolor": "white",
             "minorgridcolor": "white",
             "startlinecolor": "#2a3f5f"
            },
            "type": "carpet"
           }
          ],
          "choropleth": [
           {
            "colorbar": {
             "outlinewidth": 0,
             "ticks": ""
            },
            "type": "choropleth"
           }
          ],
          "contour": [
           {
            "colorbar": {
             "outlinewidth": 0,
             "ticks": ""
            },
            "colorscale": [
             [
              0,
              "#0d0887"
             ],
             [
              0.1111111111111111,
              "#46039f"
             ],
             [
              0.2222222222222222,
              "#7201a8"
             ],
             [
              0.3333333333333333,
              "#9c179e"
             ],
             [
              0.4444444444444444,
              "#bd3786"
             ],
             [
              0.5555555555555556,
              "#d8576b"
             ],
             [
              0.6666666666666666,
              "#ed7953"
             ],
             [
              0.7777777777777778,
              "#fb9f3a"
             ],
             [
              0.8888888888888888,
              "#fdca26"
             ],
             [
              1,
              "#f0f921"
             ]
            ],
            "type": "contour"
           }
          ],
          "contourcarpet": [
           {
            "colorbar": {
             "outlinewidth": 0,
             "ticks": ""
            },
            "type": "contourcarpet"
           }
          ],
          "heatmap": [
           {
            "colorbar": {
             "outlinewidth": 0,
             "ticks": ""
            },
            "colorscale": [
             [
              0,
              "#0d0887"
             ],
             [
              0.1111111111111111,
              "#46039f"
             ],
             [
              0.2222222222222222,
              "#7201a8"
             ],
             [
              0.3333333333333333,
              "#9c179e"
             ],
             [
              0.4444444444444444,
              "#bd3786"
             ],
             [
              0.5555555555555556,
              "#d8576b"
             ],
             [
              0.6666666666666666,
              "#ed7953"
             ],
             [
              0.7777777777777778,
              "#fb9f3a"
             ],
             [
              0.8888888888888888,
              "#fdca26"
             ],
             [
              1,
              "#f0f921"
             ]
            ],
            "type": "heatmap"
           }
          ],
          "heatmapgl": [
           {
            "colorbar": {
             "outlinewidth": 0,
             "ticks": ""
            },
            "colorscale": [
             [
              0,
              "#0d0887"
             ],
             [
              0.1111111111111111,
              "#46039f"
             ],
             [
              0.2222222222222222,
              "#7201a8"
             ],
             [
              0.3333333333333333,
              "#9c179e"
             ],
             [
              0.4444444444444444,
              "#bd3786"
             ],
             [
              0.5555555555555556,
              "#d8576b"
             ],
             [
              0.6666666666666666,
              "#ed7953"
             ],
             [
              0.7777777777777778,
              "#fb9f3a"
             ],
             [
              0.8888888888888888,
              "#fdca26"
             ],
             [
              1,
              "#f0f921"
             ]
            ],
            "type": "heatmapgl"
           }
          ],
          "histogram": [
           {
            "marker": {
             "pattern": {
              "fillmode": "overlay",
              "size": 10,
              "solidity": 0.2
             }
            },
            "type": "histogram"
           }
          ],
          "histogram2d": [
           {
            "colorbar": {
             "outlinewidth": 0,
             "ticks": ""
            },
            "colorscale": [
             [
              0,
              "#0d0887"
             ],
             [
              0.1111111111111111,
              "#46039f"
             ],
             [
              0.2222222222222222,
              "#7201a8"
             ],
             [
              0.3333333333333333,
              "#9c179e"
             ],
             [
              0.4444444444444444,
              "#bd3786"
             ],
             [
              0.5555555555555556,
              "#d8576b"
             ],
             [
              0.6666666666666666,
              "#ed7953"
             ],
             [
              0.7777777777777778,
              "#fb9f3a"
             ],
             [
              0.8888888888888888,
              "#fdca26"
             ],
             [
              1,
              "#f0f921"
             ]
            ],
            "type": "histogram2d"
           }
          ],
          "histogram2dcontour": [
           {
            "colorbar": {
             "outlinewidth": 0,
             "ticks": ""
            },
            "colorscale": [
             [
              0,
              "#0d0887"
             ],
             [
              0.1111111111111111,
              "#46039f"
             ],
             [
              0.2222222222222222,
              "#7201a8"
             ],
             [
              0.3333333333333333,
              "#9c179e"
             ],
             [
              0.4444444444444444,
              "#bd3786"
             ],
             [
              0.5555555555555556,
              "#d8576b"
             ],
             [
              0.6666666666666666,
              "#ed7953"
             ],
             [
              0.7777777777777778,
              "#fb9f3a"
             ],
             [
              0.8888888888888888,
              "#fdca26"
             ],
             [
              1,
              "#f0f921"
             ]
            ],
            "type": "histogram2dcontour"
           }
          ],
          "mesh3d": [
           {
            "colorbar": {
             "outlinewidth": 0,
             "ticks": ""
            },
            "type": "mesh3d"
           }
          ],
          "parcoords": [
           {
            "line": {
             "colorbar": {
              "outlinewidth": 0,
              "ticks": ""
             }
            },
            "type": "parcoords"
           }
          ],
          "pie": [
           {
            "automargin": true,
            "type": "pie"
           }
          ],
          "scatter": [
           {
            "fillpattern": {
             "fillmode": "overlay",
             "size": 10,
             "solidity": 0.2
            },
            "type": "scatter"
           }
          ],
          "scatter3d": [
           {
            "line": {
             "colorbar": {
              "outlinewidth": 0,
              "ticks": ""
             }
            },
            "marker": {
             "colorbar": {
              "outlinewidth": 0,
              "ticks": ""
             }
            },
            "type": "scatter3d"
           }
          ],
          "scattercarpet": [
           {
            "marker": {
             "colorbar": {
              "outlinewidth": 0,
              "ticks": ""
             }
            },
            "type": "scattercarpet"
           }
          ],
          "scattergeo": [
           {
            "marker": {
             "colorbar": {
              "outlinewidth": 0,
              "ticks": ""
             }
            },
            "type": "scattergeo"
           }
          ],
          "scattergl": [
           {
            "marker": {
             "colorbar": {
              "outlinewidth": 0,
              "ticks": ""
             }
            },
            "type": "scattergl"
           }
          ],
          "scattermapbox": [
           {
            "marker": {
             "colorbar": {
              "outlinewidth": 0,
              "ticks": ""
             }
            },
            "type": "scattermapbox"
           }
          ],
          "scatterpolar": [
           {
            "marker": {
             "colorbar": {
              "outlinewidth": 0,
              "ticks": ""
             }
            },
            "type": "scatterpolar"
           }
          ],
          "scatterpolargl": [
           {
            "marker": {
             "colorbar": {
              "outlinewidth": 0,
              "ticks": ""
             }
            },
            "type": "scatterpolargl"
           }
          ],
          "scatterternary": [
           {
            "marker": {
             "colorbar": {
              "outlinewidth": 0,
              "ticks": ""
             }
            },
            "type": "scatterternary"
           }
          ],
          "surface": [
           {
            "colorbar": {
             "outlinewidth": 0,
             "ticks": ""
            },
            "colorscale": [
             [
              0,
              "#0d0887"
             ],
             [
              0.1111111111111111,
              "#46039f"
             ],
             [
              0.2222222222222222,
              "#7201a8"
             ],
             [
              0.3333333333333333,
              "#9c179e"
             ],
             [
              0.4444444444444444,
              "#bd3786"
             ],
             [
              0.5555555555555556,
              "#d8576b"
             ],
             [
              0.6666666666666666,
              "#ed7953"
             ],
             [
              0.7777777777777778,
              "#fb9f3a"
             ],
             [
              0.8888888888888888,
              "#fdca26"
             ],
             [
              1,
              "#f0f921"
             ]
            ],
            "type": "surface"
           }
          ],
          "table": [
           {
            "cells": {
             "fill": {
              "color": "#EBF0F8"
             },
             "line": {
              "color": "white"
             }
            },
            "header": {
             "fill": {
              "color": "#C8D4E3"
             },
             "line": {
              "color": "white"
             }
            },
            "type": "table"
           }
          ]
         },
         "layout": {
          "annotationdefaults": {
           "arrowcolor": "#2a3f5f",
           "arrowhead": 0,
           "arrowwidth": 1
          },
          "autotypenumbers": "strict",
          "coloraxis": {
           "colorbar": {
            "outlinewidth": 0,
            "ticks": ""
           }
          },
          "colorscale": {
           "diverging": [
            [
             0,
             "#8e0152"
            ],
            [
             0.1,
             "#c51b7d"
            ],
            [
             0.2,
             "#de77ae"
            ],
            [
             0.3,
             "#f1b6da"
            ],
            [
             0.4,
             "#fde0ef"
            ],
            [
             0.5,
             "#f7f7f7"
            ],
            [
             0.6,
             "#e6f5d0"
            ],
            [
             0.7,
             "#b8e186"
            ],
            [
             0.8,
             "#7fbc41"
            ],
            [
             0.9,
             "#4d9221"
            ],
            [
             1,
             "#276419"
            ]
           ],
           "sequential": [
            [
             0,
             "#0d0887"
            ],
            [
             0.1111111111111111,
             "#46039f"
            ],
            [
             0.2222222222222222,
             "#7201a8"
            ],
            [
             0.3333333333333333,
             "#9c179e"
            ],
            [
             0.4444444444444444,
             "#bd3786"
            ],
            [
             0.5555555555555556,
             "#d8576b"
            ],
            [
             0.6666666666666666,
             "#ed7953"
            ],
            [
             0.7777777777777778,
             "#fb9f3a"
            ],
            [
             0.8888888888888888,
             "#fdca26"
            ],
            [
             1,
             "#f0f921"
            ]
           ],
           "sequentialminus": [
            [
             0,
             "#0d0887"
            ],
            [
             0.1111111111111111,
             "#46039f"
            ],
            [
             0.2222222222222222,
             "#7201a8"
            ],
            [
             0.3333333333333333,
             "#9c179e"
            ],
            [
             0.4444444444444444,
             "#bd3786"
            ],
            [
             0.5555555555555556,
             "#d8576b"
            ],
            [
             0.6666666666666666,
             "#ed7953"
            ],
            [
             0.7777777777777778,
             "#fb9f3a"
            ],
            [
             0.8888888888888888,
             "#fdca26"
            ],
            [
             1,
             "#f0f921"
            ]
           ]
          },
          "colorway": [
           "#636efa",
           "#EF553B",
           "#00cc96",
           "#ab63fa",
           "#FFA15A",
           "#19d3f3",
           "#FF6692",
           "#B6E880",
           "#FF97FF",
           "#FECB52"
          ],
          "font": {
           "color": "#2a3f5f"
          },
          "geo": {
           "bgcolor": "white",
           "lakecolor": "white",
           "landcolor": "#E5ECF6",
           "showlakes": true,
           "showland": true,
           "subunitcolor": "white"
          },
          "hoverlabel": {
           "align": "left"
          },
          "hovermode": "closest",
          "mapbox": {
           "style": "light"
          },
          "paper_bgcolor": "white",
          "plot_bgcolor": "#E5ECF6",
          "polar": {
           "angularaxis": {
            "gridcolor": "white",
            "linecolor": "white",
            "ticks": ""
           },
           "bgcolor": "#E5ECF6",
           "radialaxis": {
            "gridcolor": "white",
            "linecolor": "white",
            "ticks": ""
           }
          },
          "scene": {
           "xaxis": {
            "backgroundcolor": "#E5ECF6",
            "gridcolor": "white",
            "gridwidth": 2,
            "linecolor": "white",
            "showbackground": true,
            "ticks": "",
            "zerolinecolor": "white"
           },
           "yaxis": {
            "backgroundcolor": "#E5ECF6",
            "gridcolor": "white",
            "gridwidth": 2,
            "linecolor": "white",
            "showbackground": true,
            "ticks": "",
            "zerolinecolor": "white"
           },
           "zaxis": {
            "backgroundcolor": "#E5ECF6",
            "gridcolor": "white",
            "gridwidth": 2,
            "linecolor": "white",
            "showbackground": true,
            "ticks": "",
            "zerolinecolor": "white"
           }
          },
          "shapedefaults": {
           "line": {
            "color": "#2a3f5f"
           }
          },
          "ternary": {
           "aaxis": {
            "gridcolor": "white",
            "linecolor": "white",
            "ticks": ""
           },
           "baxis": {
            "gridcolor": "white",
            "linecolor": "white",
            "ticks": ""
           },
           "bgcolor": "#E5ECF6",
           "caxis": {
            "gridcolor": "white",
            "linecolor": "white",
            "ticks": ""
           }
          },
          "title": {
           "x": 0.05
          },
          "xaxis": {
           "automargin": true,
           "gridcolor": "white",
           "linecolor": "white",
           "ticks": "",
           "title": {
            "standoff": 15
           },
           "zerolinecolor": "white",
           "zerolinewidth": 2
          },
          "yaxis": {
           "automargin": true,
           "gridcolor": "white",
           "linecolor": "white",
           "ticks": "",
           "title": {
            "standoff": 15
           },
           "zerolinecolor": "white",
           "zerolinewidth": 2
          }
         }
        },
        "title": {
         "text": "Roll Truth Differences - gesture_roll_number"
        },
        "width": 500,
        "xaxis": {
         "anchor": "y",
         "domain": [
          0,
          1
         ],
         "title": {
          "text": "Roll Truth Difference"
         }
        },
        "yaxis": {
         "anchor": "x",
         "domain": [
          0,
          1
         ],
         "title": {
          "text": "count"
         }
        }
       }
      }
     },
     "metadata": {},
     "output_type": "display_data"
    },
    {
     "data": {
      "application/vnd.plotly.v1+json": {
       "config": {
        "plotlyServerURL": "https://plot.ly"
       },
       "data": [
        {
         "alignmentgroup": "True",
         "bingroup": "x",
         "hovertemplate": "Roll Truth Difference=%{x}<br>count=%{y}<extra></extra>",
         "legendgroup": "",
         "marker": {
          "color": "#636efa",
          "pattern": {
           "shape": ""
          }
         },
         "name": "",
         "offsetgroup": "",
         "orientation": "v",
         "showlegend": false,
         "type": "histogram",
         "x": [
          8,
          18,
          10,
          19,
          9,
          11,
          15,
          8,
          6,
          8,
          7,
          12,
          17,
          10,
          1,
          18,
          10,
          9
         ],
         "xaxis": "x",
         "yaxis": "y"
        }
       ],
       "layout": {
        "barmode": "relative",
        "height": 500,
        "legend": {
         "tracegroupgap": 0
        },
        "template": {
         "data": {
          "bar": [
           {
            "error_x": {
             "color": "#2a3f5f"
            },
            "error_y": {
             "color": "#2a3f5f"
            },
            "marker": {
             "line": {
              "color": "#E5ECF6",
              "width": 0.5
             },
             "pattern": {
              "fillmode": "overlay",
              "size": 10,
              "solidity": 0.2
             }
            },
            "type": "bar"
           }
          ],
          "barpolar": [
           {
            "marker": {
             "line": {
              "color": "#E5ECF6",
              "width": 0.5
             },
             "pattern": {
              "fillmode": "overlay",
              "size": 10,
              "solidity": 0.2
             }
            },
            "type": "barpolar"
           }
          ],
          "carpet": [
           {
            "aaxis": {
             "endlinecolor": "#2a3f5f",
             "gridcolor": "white",
             "linecolor": "white",
             "minorgridcolor": "white",
             "startlinecolor": "#2a3f5f"
            },
            "baxis": {
             "endlinecolor": "#2a3f5f",
             "gridcolor": "white",
             "linecolor": "white",
             "minorgridcolor": "white",
             "startlinecolor": "#2a3f5f"
            },
            "type": "carpet"
           }
          ],
          "choropleth": [
           {
            "colorbar": {
             "outlinewidth": 0,
             "ticks": ""
            },
            "type": "choropleth"
           }
          ],
          "contour": [
           {
            "colorbar": {
             "outlinewidth": 0,
             "ticks": ""
            },
            "colorscale": [
             [
              0,
              "#0d0887"
             ],
             [
              0.1111111111111111,
              "#46039f"
             ],
             [
              0.2222222222222222,
              "#7201a8"
             ],
             [
              0.3333333333333333,
              "#9c179e"
             ],
             [
              0.4444444444444444,
              "#bd3786"
             ],
             [
              0.5555555555555556,
              "#d8576b"
             ],
             [
              0.6666666666666666,
              "#ed7953"
             ],
             [
              0.7777777777777778,
              "#fb9f3a"
             ],
             [
              0.8888888888888888,
              "#fdca26"
             ],
             [
              1,
              "#f0f921"
             ]
            ],
            "type": "contour"
           }
          ],
          "contourcarpet": [
           {
            "colorbar": {
             "outlinewidth": 0,
             "ticks": ""
            },
            "type": "contourcarpet"
           }
          ],
          "heatmap": [
           {
            "colorbar": {
             "outlinewidth": 0,
             "ticks": ""
            },
            "colorscale": [
             [
              0,
              "#0d0887"
             ],
             [
              0.1111111111111111,
              "#46039f"
             ],
             [
              0.2222222222222222,
              "#7201a8"
             ],
             [
              0.3333333333333333,
              "#9c179e"
             ],
             [
              0.4444444444444444,
              "#bd3786"
             ],
             [
              0.5555555555555556,
              "#d8576b"
             ],
             [
              0.6666666666666666,
              "#ed7953"
             ],
             [
              0.7777777777777778,
              "#fb9f3a"
             ],
             [
              0.8888888888888888,
              "#fdca26"
             ],
             [
              1,
              "#f0f921"
             ]
            ],
            "type": "heatmap"
           }
          ],
          "heatmapgl": [
           {
            "colorbar": {
             "outlinewidth": 0,
             "ticks": ""
            },
            "colorscale": [
             [
              0,
              "#0d0887"
             ],
             [
              0.1111111111111111,
              "#46039f"
             ],
             [
              0.2222222222222222,
              "#7201a8"
             ],
             [
              0.3333333333333333,
              "#9c179e"
             ],
             [
              0.4444444444444444,
              "#bd3786"
             ],
             [
              0.5555555555555556,
              "#d8576b"
             ],
             [
              0.6666666666666666,
              "#ed7953"
             ],
             [
              0.7777777777777778,
              "#fb9f3a"
             ],
             [
              0.8888888888888888,
              "#fdca26"
             ],
             [
              1,
              "#f0f921"
             ]
            ],
            "type": "heatmapgl"
           }
          ],
          "histogram": [
           {
            "marker": {
             "pattern": {
              "fillmode": "overlay",
              "size": 10,
              "solidity": 0.2
             }
            },
            "type": "histogram"
           }
          ],
          "histogram2d": [
           {
            "colorbar": {
             "outlinewidth": 0,
             "ticks": ""
            },
            "colorscale": [
             [
              0,
              "#0d0887"
             ],
             [
              0.1111111111111111,
              "#46039f"
             ],
             [
              0.2222222222222222,
              "#7201a8"
             ],
             [
              0.3333333333333333,
              "#9c179e"
             ],
             [
              0.4444444444444444,
              "#bd3786"
             ],
             [
              0.5555555555555556,
              "#d8576b"
             ],
             [
              0.6666666666666666,
              "#ed7953"
             ],
             [
              0.7777777777777778,
              "#fb9f3a"
             ],
             [
              0.8888888888888888,
              "#fdca26"
             ],
             [
              1,
              "#f0f921"
             ]
            ],
            "type": "histogram2d"
           }
          ],
          "histogram2dcontour": [
           {
            "colorbar": {
             "outlinewidth": 0,
             "ticks": ""
            },
            "colorscale": [
             [
              0,
              "#0d0887"
             ],
             [
              0.1111111111111111,
              "#46039f"
             ],
             [
              0.2222222222222222,
              "#7201a8"
             ],
             [
              0.3333333333333333,
              "#9c179e"
             ],
             [
              0.4444444444444444,
              "#bd3786"
             ],
             [
              0.5555555555555556,
              "#d8576b"
             ],
             [
              0.6666666666666666,
              "#ed7953"
             ],
             [
              0.7777777777777778,
              "#fb9f3a"
             ],
             [
              0.8888888888888888,
              "#fdca26"
             ],
             [
              1,
              "#f0f921"
             ]
            ],
            "type": "histogram2dcontour"
           }
          ],
          "mesh3d": [
           {
            "colorbar": {
             "outlinewidth": 0,
             "ticks": ""
            },
            "type": "mesh3d"
           }
          ],
          "parcoords": [
           {
            "line": {
             "colorbar": {
              "outlinewidth": 0,
              "ticks": ""
             }
            },
            "type": "parcoords"
           }
          ],
          "pie": [
           {
            "automargin": true,
            "type": "pie"
           }
          ],
          "scatter": [
           {
            "fillpattern": {
             "fillmode": "overlay",
             "size": 10,
             "solidity": 0.2
            },
            "type": "scatter"
           }
          ],
          "scatter3d": [
           {
            "line": {
             "colorbar": {
              "outlinewidth": 0,
              "ticks": ""
             }
            },
            "marker": {
             "colorbar": {
              "outlinewidth": 0,
              "ticks": ""
             }
            },
            "type": "scatter3d"
           }
          ],
          "scattercarpet": [
           {
            "marker": {
             "colorbar": {
              "outlinewidth": 0,
              "ticks": ""
             }
            },
            "type": "scattercarpet"
           }
          ],
          "scattergeo": [
           {
            "marker": {
             "colorbar": {
              "outlinewidth": 0,
              "ticks": ""
             }
            },
            "type": "scattergeo"
           }
          ],
          "scattergl": [
           {
            "marker": {
             "colorbar": {
              "outlinewidth": 0,
              "ticks": ""
             }
            },
            "type": "scattergl"
           }
          ],
          "scattermapbox": [
           {
            "marker": {
             "colorbar": {
              "outlinewidth": 0,
              "ticks": ""
             }
            },
            "type": "scattermapbox"
           }
          ],
          "scatterpolar": [
           {
            "marker": {
             "colorbar": {
              "outlinewidth": 0,
              "ticks": ""
             }
            },
            "type": "scatterpolar"
           }
          ],
          "scatterpolargl": [
           {
            "marker": {
             "colorbar": {
              "outlinewidth": 0,
              "ticks": ""
             }
            },
            "type": "scatterpolargl"
           }
          ],
          "scatterternary": [
           {
            "marker": {
             "colorbar": {
              "outlinewidth": 0,
              "ticks": ""
             }
            },
            "type": "scatterternary"
           }
          ],
          "surface": [
           {
            "colorbar": {
             "outlinewidth": 0,
             "ticks": ""
            },
            "colorscale": [
             [
              0,
              "#0d0887"
             ],
             [
              0.1111111111111111,
              "#46039f"
             ],
             [
              0.2222222222222222,
              "#7201a8"
             ],
             [
              0.3333333333333333,
              "#9c179e"
             ],
             [
              0.4444444444444444,
              "#bd3786"
             ],
             [
              0.5555555555555556,
              "#d8576b"
             ],
             [
              0.6666666666666666,
              "#ed7953"
             ],
             [
              0.7777777777777778,
              "#fb9f3a"
             ],
             [
              0.8888888888888888,
              "#fdca26"
             ],
             [
              1,
              "#f0f921"
             ]
            ],
            "type": "surface"
           }
          ],
          "table": [
           {
            "cells": {
             "fill": {
              "color": "#EBF0F8"
             },
             "line": {
              "color": "white"
             }
            },
            "header": {
             "fill": {
              "color": "#C8D4E3"
             },
             "line": {
              "color": "white"
             }
            },
            "type": "table"
           }
          ]
         },
         "layout": {
          "annotationdefaults": {
           "arrowcolor": "#2a3f5f",
           "arrowhead": 0,
           "arrowwidth": 1
          },
          "autotypenumbers": "strict",
          "coloraxis": {
           "colorbar": {
            "outlinewidth": 0,
            "ticks": ""
           }
          },
          "colorscale": {
           "diverging": [
            [
             0,
             "#8e0152"
            ],
            [
             0.1,
             "#c51b7d"
            ],
            [
             0.2,
             "#de77ae"
            ],
            [
             0.3,
             "#f1b6da"
            ],
            [
             0.4,
             "#fde0ef"
            ],
            [
             0.5,
             "#f7f7f7"
            ],
            [
             0.6,
             "#e6f5d0"
            ],
            [
             0.7,
             "#b8e186"
            ],
            [
             0.8,
             "#7fbc41"
            ],
            [
             0.9,
             "#4d9221"
            ],
            [
             1,
             "#276419"
            ]
           ],
           "sequential": [
            [
             0,
             "#0d0887"
            ],
            [
             0.1111111111111111,
             "#46039f"
            ],
            [
             0.2222222222222222,
             "#7201a8"
            ],
            [
             0.3333333333333333,
             "#9c179e"
            ],
            [
             0.4444444444444444,
             "#bd3786"
            ],
            [
             0.5555555555555556,
             "#d8576b"
            ],
            [
             0.6666666666666666,
             "#ed7953"
            ],
            [
             0.7777777777777778,
             "#fb9f3a"
            ],
            [
             0.8888888888888888,
             "#fdca26"
            ],
            [
             1,
             "#f0f921"
            ]
           ],
           "sequentialminus": [
            [
             0,
             "#0d0887"
            ],
            [
             0.1111111111111111,
             "#46039f"
            ],
            [
             0.2222222222222222,
             "#7201a8"
            ],
            [
             0.3333333333333333,
             "#9c179e"
            ],
            [
             0.4444444444444444,
             "#bd3786"
            ],
            [
             0.5555555555555556,
             "#d8576b"
            ],
            [
             0.6666666666666666,
             "#ed7953"
            ],
            [
             0.7777777777777778,
             "#fb9f3a"
            ],
            [
             0.8888888888888888,
             "#fdca26"
            ],
            [
             1,
             "#f0f921"
            ]
           ]
          },
          "colorway": [
           "#636efa",
           "#EF553B",
           "#00cc96",
           "#ab63fa",
           "#FFA15A",
           "#19d3f3",
           "#FF6692",
           "#B6E880",
           "#FF97FF",
           "#FECB52"
          ],
          "font": {
           "color": "#2a3f5f"
          },
          "geo": {
           "bgcolor": "white",
           "lakecolor": "white",
           "landcolor": "#E5ECF6",
           "showlakes": true,
           "showland": true,
           "subunitcolor": "white"
          },
          "hoverlabel": {
           "align": "left"
          },
          "hovermode": "closest",
          "mapbox": {
           "style": "light"
          },
          "paper_bgcolor": "white",
          "plot_bgcolor": "#E5ECF6",
          "polar": {
           "angularaxis": {
            "gridcolor": "white",
            "linecolor": "white",
            "ticks": ""
           },
           "bgcolor": "#E5ECF6",
           "radialaxis": {
            "gridcolor": "white",
            "linecolor": "white",
            "ticks": ""
           }
          },
          "scene": {
           "xaxis": {
            "backgroundcolor": "#E5ECF6",
            "gridcolor": "white",
            "gridwidth": 2,
            "linecolor": "white",
            "showbackground": true,
            "ticks": "",
            "zerolinecolor": "white"
           },
           "yaxis": {
            "backgroundcolor": "#E5ECF6",
            "gridcolor": "white",
            "gridwidth": 2,
            "linecolor": "white",
            "showbackground": true,
            "ticks": "",
            "zerolinecolor": "white"
           },
           "zaxis": {
            "backgroundcolor": "#E5ECF6",
            "gridcolor": "white",
            "gridwidth": 2,
            "linecolor": "white",
            "showbackground": true,
            "ticks": "",
            "zerolinecolor": "white"
           }
          },
          "shapedefaults": {
           "line": {
            "color": "#2a3f5f"
           }
          },
          "ternary": {
           "aaxis": {
            "gridcolor": "white",
            "linecolor": "white",
            "ticks": ""
           },
           "baxis": {
            "gridcolor": "white",
            "linecolor": "white",
            "ticks": ""
           },
           "bgcolor": "#E5ECF6",
           "caxis": {
            "gridcolor": "white",
            "linecolor": "white",
            "ticks": ""
           }
          },
          "title": {
           "x": 0.05
          },
          "xaxis": {
           "automargin": true,
           "gridcolor": "white",
           "linecolor": "white",
           "ticks": "",
           "title": {
            "standoff": 15
           },
           "zerolinecolor": "white",
           "zerolinewidth": 2
          },
          "yaxis": {
           "automargin": true,
           "gridcolor": "white",
           "linecolor": "white",
           "ticks": "",
           "title": {
            "standoff": 15
           },
           "zerolinecolor": "white",
           "zerolinewidth": 2
          }
         }
        },
        "title": {
         "text": "Roll Truth Differences - gesture_roll_greyscale"
        },
        "width": 500,
        "xaxis": {
         "anchor": "y",
         "domain": [
          0,
          1
         ],
         "title": {
          "text": "Roll Truth Difference"
         }
        },
        "yaxis": {
         "anchor": "x",
         "domain": [
          0,
          1
         ],
         "title": {
          "text": "count"
         }
        }
       }
      }
     },
     "metadata": {},
     "output_type": "display_data"
    },
    {
     "data": {
      "application/vnd.plotly.v1+json": {
       "config": {
        "plotlyServerURL": "https://plot.ly"
       },
       "data": [
        {
         "alignmentgroup": "True",
         "bingroup": "x",
         "hovertemplate": "Slider Value Difference=%{x}<br>count=%{y}<extra></extra>",
         "legendgroup": "",
         "marker": {
          "color": "#636efa",
          "pattern": {
           "shape": ""
          }
         },
         "name": "",
         "offsetgroup": "",
         "orientation": "v",
         "showlegend": false,
         "type": "histogram",
         "x": [
          2.7020674215719254,
          4.339689295173082,
          2.674191822403756,
          3.0595589469561304,
          10.814848004793348,
          24.938929508565536,
          10.651546486240115,
          1.4909769238660147,
          4.37051050088826,
          3.2443268450649114,
          8.832464743500076,
          0.9553593857826961,
          0.45224242180506025,
          4.333350235937033,
          0.5835820638895104,
          2.3882616954360714,
          2.7159377564533003,
          0.6706349900216253,
          2.1938664531110135,
          2.321123242129218
         ],
         "xaxis": "x",
         "yaxis": "y"
        }
       ],
       "layout": {
        "barmode": "relative",
        "height": 500,
        "legend": {
         "tracegroupgap": 0
        },
        "template": {
         "data": {
          "bar": [
           {
            "error_x": {
             "color": "#2a3f5f"
            },
            "error_y": {
             "color": "#2a3f5f"
            },
            "marker": {
             "line": {
              "color": "#E5ECF6",
              "width": 0.5
             },
             "pattern": {
              "fillmode": "overlay",
              "size": 10,
              "solidity": 0.2
             }
            },
            "type": "bar"
           }
          ],
          "barpolar": [
           {
            "marker": {
             "line": {
              "color": "#E5ECF6",
              "width": 0.5
             },
             "pattern": {
              "fillmode": "overlay",
              "size": 10,
              "solidity": 0.2
             }
            },
            "type": "barpolar"
           }
          ],
          "carpet": [
           {
            "aaxis": {
             "endlinecolor": "#2a3f5f",
             "gridcolor": "white",
             "linecolor": "white",
             "minorgridcolor": "white",
             "startlinecolor": "#2a3f5f"
            },
            "baxis": {
             "endlinecolor": "#2a3f5f",
             "gridcolor": "white",
             "linecolor": "white",
             "minorgridcolor": "white",
             "startlinecolor": "#2a3f5f"
            },
            "type": "carpet"
           }
          ],
          "choropleth": [
           {
            "colorbar": {
             "outlinewidth": 0,
             "ticks": ""
            },
            "type": "choropleth"
           }
          ],
          "contour": [
           {
            "colorbar": {
             "outlinewidth": 0,
             "ticks": ""
            },
            "colorscale": [
             [
              0,
              "#0d0887"
             ],
             [
              0.1111111111111111,
              "#46039f"
             ],
             [
              0.2222222222222222,
              "#7201a8"
             ],
             [
              0.3333333333333333,
              "#9c179e"
             ],
             [
              0.4444444444444444,
              "#bd3786"
             ],
             [
              0.5555555555555556,
              "#d8576b"
             ],
             [
              0.6666666666666666,
              "#ed7953"
             ],
             [
              0.7777777777777778,
              "#fb9f3a"
             ],
             [
              0.8888888888888888,
              "#fdca26"
             ],
             [
              1,
              "#f0f921"
             ]
            ],
            "type": "contour"
           }
          ],
          "contourcarpet": [
           {
            "colorbar": {
             "outlinewidth": 0,
             "ticks": ""
            },
            "type": "contourcarpet"
           }
          ],
          "heatmap": [
           {
            "colorbar": {
             "outlinewidth": 0,
             "ticks": ""
            },
            "colorscale": [
             [
              0,
              "#0d0887"
             ],
             [
              0.1111111111111111,
              "#46039f"
             ],
             [
              0.2222222222222222,
              "#7201a8"
             ],
             [
              0.3333333333333333,
              "#9c179e"
             ],
             [
              0.4444444444444444,
              "#bd3786"
             ],
             [
              0.5555555555555556,
              "#d8576b"
             ],
             [
              0.6666666666666666,
              "#ed7953"
             ],
             [
              0.7777777777777778,
              "#fb9f3a"
             ],
             [
              0.8888888888888888,
              "#fdca26"
             ],
             [
              1,
              "#f0f921"
             ]
            ],
            "type": "heatmap"
           }
          ],
          "heatmapgl": [
           {
            "colorbar": {
             "outlinewidth": 0,
             "ticks": ""
            },
            "colorscale": [
             [
              0,
              "#0d0887"
             ],
             [
              0.1111111111111111,
              "#46039f"
             ],
             [
              0.2222222222222222,
              "#7201a8"
             ],
             [
              0.3333333333333333,
              "#9c179e"
             ],
             [
              0.4444444444444444,
              "#bd3786"
             ],
             [
              0.5555555555555556,
              "#d8576b"
             ],
             [
              0.6666666666666666,
              "#ed7953"
             ],
             [
              0.7777777777777778,
              "#fb9f3a"
             ],
             [
              0.8888888888888888,
              "#fdca26"
             ],
             [
              1,
              "#f0f921"
             ]
            ],
            "type": "heatmapgl"
           }
          ],
          "histogram": [
           {
            "marker": {
             "pattern": {
              "fillmode": "overlay",
              "size": 10,
              "solidity": 0.2
             }
            },
            "type": "histogram"
           }
          ],
          "histogram2d": [
           {
            "colorbar": {
             "outlinewidth": 0,
             "ticks": ""
            },
            "colorscale": [
             [
              0,
              "#0d0887"
             ],
             [
              0.1111111111111111,
              "#46039f"
             ],
             [
              0.2222222222222222,
              "#7201a8"
             ],
             [
              0.3333333333333333,
              "#9c179e"
             ],
             [
              0.4444444444444444,
              "#bd3786"
             ],
             [
              0.5555555555555556,
              "#d8576b"
             ],
             [
              0.6666666666666666,
              "#ed7953"
             ],
             [
              0.7777777777777778,
              "#fb9f3a"
             ],
             [
              0.8888888888888888,
              "#fdca26"
             ],
             [
              1,
              "#f0f921"
             ]
            ],
            "type": "histogram2d"
           }
          ],
          "histogram2dcontour": [
           {
            "colorbar": {
             "outlinewidth": 0,
             "ticks": ""
            },
            "colorscale": [
             [
              0,
              "#0d0887"
             ],
             [
              0.1111111111111111,
              "#46039f"
             ],
             [
              0.2222222222222222,
              "#7201a8"
             ],
             [
              0.3333333333333333,
              "#9c179e"
             ],
             [
              0.4444444444444444,
              "#bd3786"
             ],
             [
              0.5555555555555556,
              "#d8576b"
             ],
             [
              0.6666666666666666,
              "#ed7953"
             ],
             [
              0.7777777777777778,
              "#fb9f3a"
             ],
             [
              0.8888888888888888,
              "#fdca26"
             ],
             [
              1,
              "#f0f921"
             ]
            ],
            "type": "histogram2dcontour"
           }
          ],
          "mesh3d": [
           {
            "colorbar": {
             "outlinewidth": 0,
             "ticks": ""
            },
            "type": "mesh3d"
           }
          ],
          "parcoords": [
           {
            "line": {
             "colorbar": {
              "outlinewidth": 0,
              "ticks": ""
             }
            },
            "type": "parcoords"
           }
          ],
          "pie": [
           {
            "automargin": true,
            "type": "pie"
           }
          ],
          "scatter": [
           {
            "fillpattern": {
             "fillmode": "overlay",
             "size": 10,
             "solidity": 0.2
            },
            "type": "scatter"
           }
          ],
          "scatter3d": [
           {
            "line": {
             "colorbar": {
              "outlinewidth": 0,
              "ticks": ""
             }
            },
            "marker": {
             "colorbar": {
              "outlinewidth": 0,
              "ticks": ""
             }
            },
            "type": "scatter3d"
           }
          ],
          "scattercarpet": [
           {
            "marker": {
             "colorbar": {
              "outlinewidth": 0,
              "ticks": ""
             }
            },
            "type": "scattercarpet"
           }
          ],
          "scattergeo": [
           {
            "marker": {
             "colorbar": {
              "outlinewidth": 0,
              "ticks": ""
             }
            },
            "type": "scattergeo"
           }
          ],
          "scattergl": [
           {
            "marker": {
             "colorbar": {
              "outlinewidth": 0,
              "ticks": ""
             }
            },
            "type": "scattergl"
           }
          ],
          "scattermapbox": [
           {
            "marker": {
             "colorbar": {
              "outlinewidth": 0,
              "ticks": ""
             }
            },
            "type": "scattermapbox"
           }
          ],
          "scatterpolar": [
           {
            "marker": {
             "colorbar": {
              "outlinewidth": 0,
              "ticks": ""
             }
            },
            "type": "scatterpolar"
           }
          ],
          "scatterpolargl": [
           {
            "marker": {
             "colorbar": {
              "outlinewidth": 0,
              "ticks": ""
             }
            },
            "type": "scatterpolargl"
           }
          ],
          "scatterternary": [
           {
            "marker": {
             "colorbar": {
              "outlinewidth": 0,
              "ticks": ""
             }
            },
            "type": "scatterternary"
           }
          ],
          "surface": [
           {
            "colorbar": {
             "outlinewidth": 0,
             "ticks": ""
            },
            "colorscale": [
             [
              0,
              "#0d0887"
             ],
             [
              0.1111111111111111,
              "#46039f"
             ],
             [
              0.2222222222222222,
              "#7201a8"
             ],
             [
              0.3333333333333333,
              "#9c179e"
             ],
             [
              0.4444444444444444,
              "#bd3786"
             ],
             [
              0.5555555555555556,
              "#d8576b"
             ],
             [
              0.6666666666666666,
              "#ed7953"
             ],
             [
              0.7777777777777778,
              "#fb9f3a"
             ],
             [
              0.8888888888888888,
              "#fdca26"
             ],
             [
              1,
              "#f0f921"
             ]
            ],
            "type": "surface"
           }
          ],
          "table": [
           {
            "cells": {
             "fill": {
              "color": "#EBF0F8"
             },
             "line": {
              "color": "white"
             }
            },
            "header": {
             "fill": {
              "color": "#C8D4E3"
             },
             "line": {
              "color": "white"
             }
            },
            "type": "table"
           }
          ]
         },
         "layout": {
          "annotationdefaults": {
           "arrowcolor": "#2a3f5f",
           "arrowhead": 0,
           "arrowwidth": 1
          },
          "autotypenumbers": "strict",
          "coloraxis": {
           "colorbar": {
            "outlinewidth": 0,
            "ticks": ""
           }
          },
          "colorscale": {
           "diverging": [
            [
             0,
             "#8e0152"
            ],
            [
             0.1,
             "#c51b7d"
            ],
            [
             0.2,
             "#de77ae"
            ],
            [
             0.3,
             "#f1b6da"
            ],
            [
             0.4,
             "#fde0ef"
            ],
            [
             0.5,
             "#f7f7f7"
            ],
            [
             0.6,
             "#e6f5d0"
            ],
            [
             0.7,
             "#b8e186"
            ],
            [
             0.8,
             "#7fbc41"
            ],
            [
             0.9,
             "#4d9221"
            ],
            [
             1,
             "#276419"
            ]
           ],
           "sequential": [
            [
             0,
             "#0d0887"
            ],
            [
             0.1111111111111111,
             "#46039f"
            ],
            [
             0.2222222222222222,
             "#7201a8"
            ],
            [
             0.3333333333333333,
             "#9c179e"
            ],
            [
             0.4444444444444444,
             "#bd3786"
            ],
            [
             0.5555555555555556,
             "#d8576b"
            ],
            [
             0.6666666666666666,
             "#ed7953"
            ],
            [
             0.7777777777777778,
             "#fb9f3a"
            ],
            [
             0.8888888888888888,
             "#fdca26"
            ],
            [
             1,
             "#f0f921"
            ]
           ],
           "sequentialminus": [
            [
             0,
             "#0d0887"
            ],
            [
             0.1111111111111111,
             "#46039f"
            ],
            [
             0.2222222222222222,
             "#7201a8"
            ],
            [
             0.3333333333333333,
             "#9c179e"
            ],
            [
             0.4444444444444444,
             "#bd3786"
            ],
            [
             0.5555555555555556,
             "#d8576b"
            ],
            [
             0.6666666666666666,
             "#ed7953"
            ],
            [
             0.7777777777777778,
             "#fb9f3a"
            ],
            [
             0.8888888888888888,
             "#fdca26"
            ],
            [
             1,
             "#f0f921"
            ]
           ]
          },
          "colorway": [
           "#636efa",
           "#EF553B",
           "#00cc96",
           "#ab63fa",
           "#FFA15A",
           "#19d3f3",
           "#FF6692",
           "#B6E880",
           "#FF97FF",
           "#FECB52"
          ],
          "font": {
           "color": "#2a3f5f"
          },
          "geo": {
           "bgcolor": "white",
           "lakecolor": "white",
           "landcolor": "#E5ECF6",
           "showlakes": true,
           "showland": true,
           "subunitcolor": "white"
          },
          "hoverlabel": {
           "align": "left"
          },
          "hovermode": "closest",
          "mapbox": {
           "style": "light"
          },
          "paper_bgcolor": "white",
          "plot_bgcolor": "#E5ECF6",
          "polar": {
           "angularaxis": {
            "gridcolor": "white",
            "linecolor": "white",
            "ticks": ""
           },
           "bgcolor": "#E5ECF6",
           "radialaxis": {
            "gridcolor": "white",
            "linecolor": "white",
            "ticks": ""
           }
          },
          "scene": {
           "xaxis": {
            "backgroundcolor": "#E5ECF6",
            "gridcolor": "white",
            "gridwidth": 2,
            "linecolor": "white",
            "showbackground": true,
            "ticks": "",
            "zerolinecolor": "white"
           },
           "yaxis": {
            "backgroundcolor": "#E5ECF6",
            "gridcolor": "white",
            "gridwidth": 2,
            "linecolor": "white",
            "showbackground": true,
            "ticks": "",
            "zerolinecolor": "white"
           },
           "zaxis": {
            "backgroundcolor": "#E5ECF6",
            "gridcolor": "white",
            "gridwidth": 2,
            "linecolor": "white",
            "showbackground": true,
            "ticks": "",
            "zerolinecolor": "white"
           }
          },
          "shapedefaults": {
           "line": {
            "color": "#2a3f5f"
           }
          },
          "ternary": {
           "aaxis": {
            "gridcolor": "white",
            "linecolor": "white",
            "ticks": ""
           },
           "baxis": {
            "gridcolor": "white",
            "linecolor": "white",
            "ticks": ""
           },
           "bgcolor": "#E5ECF6",
           "caxis": {
            "gridcolor": "white",
            "linecolor": "white",
            "ticks": ""
           }
          },
          "title": {
           "x": 0.05
          },
          "xaxis": {
           "automargin": true,
           "gridcolor": "white",
           "linecolor": "white",
           "ticks": "",
           "title": {
            "standoff": 15
           },
           "zerolinecolor": "white",
           "zerolinewidth": 2
          },
          "yaxis": {
           "automargin": true,
           "gridcolor": "white",
           "linecolor": "white",
           "ticks": "",
           "title": {
            "standoff": 15
           },
           "zerolinecolor": "white",
           "zerolinewidth": 2
          }
         }
        },
        "title": {
         "text": "Slider Value Differences - slider_number"
        },
        "width": 500,
        "xaxis": {
         "anchor": "y",
         "domain": [
          0,
          1
         ],
         "title": {
          "text": "Slider Value Difference"
         }
        },
        "yaxis": {
         "anchor": "x",
         "domain": [
          0,
          1
         ],
         "title": {
          "text": "count"
         }
        }
       }
      }
     },
     "metadata": {},
     "output_type": "display_data"
    },
    {
     "data": {
      "application/vnd.plotly.v1+json": {
       "config": {
        "plotlyServerURL": "https://plot.ly"
       },
       "data": [
        {
         "alignmentgroup": "True",
         "bingroup": "x",
         "hovertemplate": "Slider Value Difference=%{x}<br>count=%{y}<extra></extra>",
         "legendgroup": "",
         "marker": {
          "color": "#636efa",
          "pattern": {
           "shape": ""
          }
         },
         "name": "",
         "offsetgroup": "",
         "orientation": "v",
         "showlegend": false,
         "type": "histogram",
         "x": [
          15.67360019365077,
          0.4557833954107764,
          24.328140207787335,
          15.779535674353351,
          0.6796959106482405,
          0.5738288371695534,
          18,
          5.155205336286464,
          7.489420276179353,
          22.807005240974433,
          24.175502836215244,
          10.434855541969933,
          21.89138763344277,
          5.841557667632845,
          19.165323336846704
         ],
         "xaxis": "x",
         "yaxis": "y"
        }
       ],
       "layout": {
        "barmode": "relative",
        "height": 500,
        "legend": {
         "tracegroupgap": 0
        },
        "template": {
         "data": {
          "bar": [
           {
            "error_x": {
             "color": "#2a3f5f"
            },
            "error_y": {
             "color": "#2a3f5f"
            },
            "marker": {
             "line": {
              "color": "#E5ECF6",
              "width": 0.5
             },
             "pattern": {
              "fillmode": "overlay",
              "size": 10,
              "solidity": 0.2
             }
            },
            "type": "bar"
           }
          ],
          "barpolar": [
           {
            "marker": {
             "line": {
              "color": "#E5ECF6",
              "width": 0.5
             },
             "pattern": {
              "fillmode": "overlay",
              "size": 10,
              "solidity": 0.2
             }
            },
            "type": "barpolar"
           }
          ],
          "carpet": [
           {
            "aaxis": {
             "endlinecolor": "#2a3f5f",
             "gridcolor": "white",
             "linecolor": "white",
             "minorgridcolor": "white",
             "startlinecolor": "#2a3f5f"
            },
            "baxis": {
             "endlinecolor": "#2a3f5f",
             "gridcolor": "white",
             "linecolor": "white",
             "minorgridcolor": "white",
             "startlinecolor": "#2a3f5f"
            },
            "type": "carpet"
           }
          ],
          "choropleth": [
           {
            "colorbar": {
             "outlinewidth": 0,
             "ticks": ""
            },
            "type": "choropleth"
           }
          ],
          "contour": [
           {
            "colorbar": {
             "outlinewidth": 0,
             "ticks": ""
            },
            "colorscale": [
             [
              0,
              "#0d0887"
             ],
             [
              0.1111111111111111,
              "#46039f"
             ],
             [
              0.2222222222222222,
              "#7201a8"
             ],
             [
              0.3333333333333333,
              "#9c179e"
             ],
             [
              0.4444444444444444,
              "#bd3786"
             ],
             [
              0.5555555555555556,
              "#d8576b"
             ],
             [
              0.6666666666666666,
              "#ed7953"
             ],
             [
              0.7777777777777778,
              "#fb9f3a"
             ],
             [
              0.8888888888888888,
              "#fdca26"
             ],
             [
              1,
              "#f0f921"
             ]
            ],
            "type": "contour"
           }
          ],
          "contourcarpet": [
           {
            "colorbar": {
             "outlinewidth": 0,
             "ticks": ""
            },
            "type": "contourcarpet"
           }
          ],
          "heatmap": [
           {
            "colorbar": {
             "outlinewidth": 0,
             "ticks": ""
            },
            "colorscale": [
             [
              0,
              "#0d0887"
             ],
             [
              0.1111111111111111,
              "#46039f"
             ],
             [
              0.2222222222222222,
              "#7201a8"
             ],
             [
              0.3333333333333333,
              "#9c179e"
             ],
             [
              0.4444444444444444,
              "#bd3786"
             ],
             [
              0.5555555555555556,
              "#d8576b"
             ],
             [
              0.6666666666666666,
              "#ed7953"
             ],
             [
              0.7777777777777778,
              "#fb9f3a"
             ],
             [
              0.8888888888888888,
              "#fdca26"
             ],
             [
              1,
              "#f0f921"
             ]
            ],
            "type": "heatmap"
           }
          ],
          "heatmapgl": [
           {
            "colorbar": {
             "outlinewidth": 0,
             "ticks": ""
            },
            "colorscale": [
             [
              0,
              "#0d0887"
             ],
             [
              0.1111111111111111,
              "#46039f"
             ],
             [
              0.2222222222222222,
              "#7201a8"
             ],
             [
              0.3333333333333333,
              "#9c179e"
             ],
             [
              0.4444444444444444,
              "#bd3786"
             ],
             [
              0.5555555555555556,
              "#d8576b"
             ],
             [
              0.6666666666666666,
              "#ed7953"
             ],
             [
              0.7777777777777778,
              "#fb9f3a"
             ],
             [
              0.8888888888888888,
              "#fdca26"
             ],
             [
              1,
              "#f0f921"
             ]
            ],
            "type": "heatmapgl"
           }
          ],
          "histogram": [
           {
            "marker": {
             "pattern": {
              "fillmode": "overlay",
              "size": 10,
              "solidity": 0.2
             }
            },
            "type": "histogram"
           }
          ],
          "histogram2d": [
           {
            "colorbar": {
             "outlinewidth": 0,
             "ticks": ""
            },
            "colorscale": [
             [
              0,
              "#0d0887"
             ],
             [
              0.1111111111111111,
              "#46039f"
             ],
             [
              0.2222222222222222,
              "#7201a8"
             ],
             [
              0.3333333333333333,
              "#9c179e"
             ],
             [
              0.4444444444444444,
              "#bd3786"
             ],
             [
              0.5555555555555556,
              "#d8576b"
             ],
             [
              0.6666666666666666,
              "#ed7953"
             ],
             [
              0.7777777777777778,
              "#fb9f3a"
             ],
             [
              0.8888888888888888,
              "#fdca26"
             ],
             [
              1,
              "#f0f921"
             ]
            ],
            "type": "histogram2d"
           }
          ],
          "histogram2dcontour": [
           {
            "colorbar": {
             "outlinewidth": 0,
             "ticks": ""
            },
            "colorscale": [
             [
              0,
              "#0d0887"
             ],
             [
              0.1111111111111111,
              "#46039f"
             ],
             [
              0.2222222222222222,
              "#7201a8"
             ],
             [
              0.3333333333333333,
              "#9c179e"
             ],
             [
              0.4444444444444444,
              "#bd3786"
             ],
             [
              0.5555555555555556,
              "#d8576b"
             ],
             [
              0.6666666666666666,
              "#ed7953"
             ],
             [
              0.7777777777777778,
              "#fb9f3a"
             ],
             [
              0.8888888888888888,
              "#fdca26"
             ],
             [
              1,
              "#f0f921"
             ]
            ],
            "type": "histogram2dcontour"
           }
          ],
          "mesh3d": [
           {
            "colorbar": {
             "outlinewidth": 0,
             "ticks": ""
            },
            "type": "mesh3d"
           }
          ],
          "parcoords": [
           {
            "line": {
             "colorbar": {
              "outlinewidth": 0,
              "ticks": ""
             }
            },
            "type": "parcoords"
           }
          ],
          "pie": [
           {
            "automargin": true,
            "type": "pie"
           }
          ],
          "scatter": [
           {
            "fillpattern": {
             "fillmode": "overlay",
             "size": 10,
             "solidity": 0.2
            },
            "type": "scatter"
           }
          ],
          "scatter3d": [
           {
            "line": {
             "colorbar": {
              "outlinewidth": 0,
              "ticks": ""
             }
            },
            "marker": {
             "colorbar": {
              "outlinewidth": 0,
              "ticks": ""
             }
            },
            "type": "scatter3d"
           }
          ],
          "scattercarpet": [
           {
            "marker": {
             "colorbar": {
              "outlinewidth": 0,
              "ticks": ""
             }
            },
            "type": "scattercarpet"
           }
          ],
          "scattergeo": [
           {
            "marker": {
             "colorbar": {
              "outlinewidth": 0,
              "ticks": ""
             }
            },
            "type": "scattergeo"
           }
          ],
          "scattergl": [
           {
            "marker": {
             "colorbar": {
              "outlinewidth": 0,
              "ticks": ""
             }
            },
            "type": "scattergl"
           }
          ],
          "scattermapbox": [
           {
            "marker": {
             "colorbar": {
              "outlinewidth": 0,
              "ticks": ""
             }
            },
            "type": "scattermapbox"
           }
          ],
          "scatterpolar": [
           {
            "marker": {
             "colorbar": {
              "outlinewidth": 0,
              "ticks": ""
             }
            },
            "type": "scatterpolar"
           }
          ],
          "scatterpolargl": [
           {
            "marker": {
             "colorbar": {
              "outlinewidth": 0,
              "ticks": ""
             }
            },
            "type": "scatterpolargl"
           }
          ],
          "scatterternary": [
           {
            "marker": {
             "colorbar": {
              "outlinewidth": 0,
              "ticks": ""
             }
            },
            "type": "scatterternary"
           }
          ],
          "surface": [
           {
            "colorbar": {
             "outlinewidth": 0,
             "ticks": ""
            },
            "colorscale": [
             [
              0,
              "#0d0887"
             ],
             [
              0.1111111111111111,
              "#46039f"
             ],
             [
              0.2222222222222222,
              "#7201a8"
             ],
             [
              0.3333333333333333,
              "#9c179e"
             ],
             [
              0.4444444444444444,
              "#bd3786"
             ],
             [
              0.5555555555555556,
              "#d8576b"
             ],
             [
              0.6666666666666666,
              "#ed7953"
             ],
             [
              0.7777777777777778,
              "#fb9f3a"
             ],
             [
              0.8888888888888888,
              "#fdca26"
             ],
             [
              1,
              "#f0f921"
             ]
            ],
            "type": "surface"
           }
          ],
          "table": [
           {
            "cells": {
             "fill": {
              "color": "#EBF0F8"
             },
             "line": {
              "color": "white"
             }
            },
            "header": {
             "fill": {
              "color": "#C8D4E3"
             },
             "line": {
              "color": "white"
             }
            },
            "type": "table"
           }
          ]
         },
         "layout": {
          "annotationdefaults": {
           "arrowcolor": "#2a3f5f",
           "arrowhead": 0,
           "arrowwidth": 1
          },
          "autotypenumbers": "strict",
          "coloraxis": {
           "colorbar": {
            "outlinewidth": 0,
            "ticks": ""
           }
          },
          "colorscale": {
           "diverging": [
            [
             0,
             "#8e0152"
            ],
            [
             0.1,
             "#c51b7d"
            ],
            [
             0.2,
             "#de77ae"
            ],
            [
             0.3,
             "#f1b6da"
            ],
            [
             0.4,
             "#fde0ef"
            ],
            [
             0.5,
             "#f7f7f7"
            ],
            [
             0.6,
             "#e6f5d0"
            ],
            [
             0.7,
             "#b8e186"
            ],
            [
             0.8,
             "#7fbc41"
            ],
            [
             0.9,
             "#4d9221"
            ],
            [
             1,
             "#276419"
            ]
           ],
           "sequential": [
            [
             0,
             "#0d0887"
            ],
            [
             0.1111111111111111,
             "#46039f"
            ],
            [
             0.2222222222222222,
             "#7201a8"
            ],
            [
             0.3333333333333333,
             "#9c179e"
            ],
            [
             0.4444444444444444,
             "#bd3786"
            ],
            [
             0.5555555555555556,
             "#d8576b"
            ],
            [
             0.6666666666666666,
             "#ed7953"
            ],
            [
             0.7777777777777778,
             "#fb9f3a"
            ],
            [
             0.8888888888888888,
             "#fdca26"
            ],
            [
             1,
             "#f0f921"
            ]
           ],
           "sequentialminus": [
            [
             0,
             "#0d0887"
            ],
            [
             0.1111111111111111,
             "#46039f"
            ],
            [
             0.2222222222222222,
             "#7201a8"
            ],
            [
             0.3333333333333333,
             "#9c179e"
            ],
            [
             0.4444444444444444,
             "#bd3786"
            ],
            [
             0.5555555555555556,
             "#d8576b"
            ],
            [
             0.6666666666666666,
             "#ed7953"
            ],
            [
             0.7777777777777778,
             "#fb9f3a"
            ],
            [
             0.8888888888888888,
             "#fdca26"
            ],
            [
             1,
             "#f0f921"
            ]
           ]
          },
          "colorway": [
           "#636efa",
           "#EF553B",
           "#00cc96",
           "#ab63fa",
           "#FFA15A",
           "#19d3f3",
           "#FF6692",
           "#B6E880",
           "#FF97FF",
           "#FECB52"
          ],
          "font": {
           "color": "#2a3f5f"
          },
          "geo": {
           "bgcolor": "white",
           "lakecolor": "white",
           "landcolor": "#E5ECF6",
           "showlakes": true,
           "showland": true,
           "subunitcolor": "white"
          },
          "hoverlabel": {
           "align": "left"
          },
          "hovermode": "closest",
          "mapbox": {
           "style": "light"
          },
          "paper_bgcolor": "white",
          "plot_bgcolor": "#E5ECF6",
          "polar": {
           "angularaxis": {
            "gridcolor": "white",
            "linecolor": "white",
            "ticks": ""
           },
           "bgcolor": "#E5ECF6",
           "radialaxis": {
            "gridcolor": "white",
            "linecolor": "white",
            "ticks": ""
           }
          },
          "scene": {
           "xaxis": {
            "backgroundcolor": "#E5ECF6",
            "gridcolor": "white",
            "gridwidth": 2,
            "linecolor": "white",
            "showbackground": true,
            "ticks": "",
            "zerolinecolor": "white"
           },
           "yaxis": {
            "backgroundcolor": "#E5ECF6",
            "gridcolor": "white",
            "gridwidth": 2,
            "linecolor": "white",
            "showbackground": true,
            "ticks": "",
            "zerolinecolor": "white"
           },
           "zaxis": {
            "backgroundcolor": "#E5ECF6",
            "gridcolor": "white",
            "gridwidth": 2,
            "linecolor": "white",
            "showbackground": true,
            "ticks": "",
            "zerolinecolor": "white"
           }
          },
          "shapedefaults": {
           "line": {
            "color": "#2a3f5f"
           }
          },
          "ternary": {
           "aaxis": {
            "gridcolor": "white",
            "linecolor": "white",
            "ticks": ""
           },
           "baxis": {
            "gridcolor": "white",
            "linecolor": "white",
            "ticks": ""
           },
           "bgcolor": "#E5ECF6",
           "caxis": {
            "gridcolor": "white",
            "linecolor": "white",
            "ticks": ""
           }
          },
          "title": {
           "x": 0.05
          },
          "xaxis": {
           "automargin": true,
           "gridcolor": "white",
           "linecolor": "white",
           "ticks": "",
           "title": {
            "standoff": 15
           },
           "zerolinecolor": "white",
           "zerolinewidth": 2
          },
          "yaxis": {
           "automargin": true,
           "gridcolor": "white",
           "linecolor": "white",
           "ticks": "",
           "title": {
            "standoff": 15
           },
           "zerolinecolor": "white",
           "zerolinewidth": 2
          }
         }
        },
        "title": {
         "text": "Slider Value Differences - slider_greyscale"
        },
        "width": 500,
        "xaxis": {
         "anchor": "y",
         "domain": [
          0,
          1
         ],
         "title": {
          "text": "Slider Value Difference"
         }
        },
        "yaxis": {
         "anchor": "x",
         "domain": [
          0,
          1
         ],
         "title": {
          "text": "count"
         }
        }
       }
      }
     },
     "metadata": {},
     "output_type": "display_data"
    }
   ],
   "source": [
    "def create_histogram_truth_plots(experiment_type, truth_type):\n",
    "    filtered_df = df[(df['experiment_type'] == experiment_type) & \n",
    "                     (df['inputType'] == truth_type[\"input_type\"])]\n",
    "\n",
    "    fig = px.histogram(filtered_df, x=truth_type[\"truth_diff\"],\n",
    "                    title=f'{truth_type['label']} Differences - {experiment_type}',\n",
    "                    labels={f'{truth_type[\"truth_diff\"]}': f'{truth_type[\"label\"]} Difference'})\n",
    "    fig.update_layout(width=500, height=500)\n",
    "    fig.show()\n",
    "    \n",
    "for experiment_type, truth_type in experiment_truth_type.items():\n",
    "    create_histogram_truth_plots(experiment_type, truth_type)"
   ]
  },
  {
   "cell_type": "code",
   "execution_count": 16,
   "metadata": {},
   "outputs": [
    {
     "data": {
      "text/html": [
       "<div>\n",
       "<style scoped>\n",
       "    .dataframe tbody tr th:only-of-type {\n",
       "        vertical-align: middle;\n",
       "    }\n",
       "\n",
       "    .dataframe tbody tr th {\n",
       "        vertical-align: top;\n",
       "    }\n",
       "\n",
       "    .dataframe thead th {\n",
       "        text-align: right;\n",
       "    }\n",
       "</style>\n",
       "<table border=\"1\" class=\"dataframe\">\n",
       "  <thead>\n",
       "    <tr style=\"text-align: right;\">\n",
       "      <th></th>\n",
       "      <th>experiment_type</th>\n",
       "      <th>time_spent</th>\n",
       "      <th>mean</th>\n",
       "      <th>std</th>\n",
       "      <th>min</th>\n",
       "      <th>max</th>\n",
       "      <th>count</th>\n",
       "      <th>median</th>\n",
       "      <th>iqr</th>\n",
       "      <th>skew</th>\n",
       "      <th>kurtosis</th>\n",
       "      <th>within_5_percent</th>\n",
       "      <th>within_10_percent</th>\n",
       "      <th>within_15_percent</th>\n",
       "      <th>within_20_percent</th>\n",
       "      <th>within_25_percent</th>\n",
       "    </tr>\n",
       "  </thead>\n",
       "  <tbody>\n",
       "    <tr>\n",
       "      <th>0</th>\n",
       "      <td>gesture_pitch_number</td>\n",
       "      <td>112.335365</td>\n",
       "      <td>52.500000</td>\n",
       "      <td>0.000000</td>\n",
       "      <td>12.000000</td>\n",
       "      <td>79.000000</td>\n",
       "      <td>20</td>\n",
       "      <td>54.000000</td>\n",
       "      <td>0.000000</td>\n",
       "      <td>0.000000e+00</td>\n",
       "      <td>0.000000</td>\n",
       "      <td>35.000000</td>\n",
       "      <td>65.000000</td>\n",
       "      <td>100.000000</td>\n",
       "      <td>100.000000</td>\n",
       "      <td>100.0</td>\n",
       "    </tr>\n",
       "    <tr>\n",
       "      <th>1</th>\n",
       "      <td>gesture_pitch_greyscale</td>\n",
       "      <td>139.322510</td>\n",
       "      <td>26.615385</td>\n",
       "      <td>0.000000</td>\n",
       "      <td>2.000000</td>\n",
       "      <td>49.000000</td>\n",
       "      <td>13</td>\n",
       "      <td>25.000000</td>\n",
       "      <td>0.000000</td>\n",
       "      <td>0.000000e+00</td>\n",
       "      <td>0.000000</td>\n",
       "      <td>15.384615</td>\n",
       "      <td>38.461538</td>\n",
       "      <td>61.538462</td>\n",
       "      <td>100.000000</td>\n",
       "      <td>100.0</td>\n",
       "    </tr>\n",
       "    <tr>\n",
       "      <th>2</th>\n",
       "      <td>gesture_roll_number</td>\n",
       "      <td>84.541167</td>\n",
       "      <td>66.000000</td>\n",
       "      <td>0.000000</td>\n",
       "      <td>37.000000</td>\n",
       "      <td>96.000000</td>\n",
       "      <td>20</td>\n",
       "      <td>70.500000</td>\n",
       "      <td>0.000000</td>\n",
       "      <td>0.000000e+00</td>\n",
       "      <td>0.000000</td>\n",
       "      <td>40.000000</td>\n",
       "      <td>45.000000</td>\n",
       "      <td>65.000000</td>\n",
       "      <td>90.000000</td>\n",
       "      <td>95.0</td>\n",
       "    </tr>\n",
       "    <tr>\n",
       "      <th>3</th>\n",
       "      <td>gesture_roll_greyscale</td>\n",
       "      <td>206.524229</td>\n",
       "      <td>25.166667</td>\n",
       "      <td>0.000000</td>\n",
       "      <td>12.000000</td>\n",
       "      <td>41.000000</td>\n",
       "      <td>18</td>\n",
       "      <td>24.500000</td>\n",
       "      <td>0.000000</td>\n",
       "      <td>0.000000e+00</td>\n",
       "      <td>0.000000</td>\n",
       "      <td>5.555556</td>\n",
       "      <td>61.111111</td>\n",
       "      <td>77.777778</td>\n",
       "      <td>100.000000</td>\n",
       "      <td>100.0</td>\n",
       "    </tr>\n",
       "    <tr>\n",
       "      <th>4</th>\n",
       "      <td>slider_number</td>\n",
       "      <td>92.890343</td>\n",
       "      <td>50.607768</td>\n",
       "      <td>0.000000</td>\n",
       "      <td>5.583582</td>\n",
       "      <td>97.059559</td>\n",
       "      <td>20</td>\n",
       "      <td>51.939619</td>\n",
       "      <td>0.000000</td>\n",
       "      <td>0.000000e+00</td>\n",
       "      <td>0.000000</td>\n",
       "      <td>80.000000</td>\n",
       "      <td>85.000000</td>\n",
       "      <td>95.000000</td>\n",
       "      <td>95.000000</td>\n",
       "      <td>100.0</td>\n",
       "    </tr>\n",
       "    <tr>\n",
       "      <th>5</th>\n",
       "      <td>slider_greyscale</td>\n",
       "      <td>197.632769</td>\n",
       "      <td>19.029431</td>\n",
       "      <td>1.002325</td>\n",
       "      <td>0.000000</td>\n",
       "      <td>48.807005</td>\n",
       "      <td>14</td>\n",
       "      <td>17.011175</td>\n",
       "      <td>0.708751</td>\n",
       "      <td>2.078058e-17</td>\n",
       "      <td>-0.142857</td>\n",
       "      <td>20.000000</td>\n",
       "      <td>40.000000</td>\n",
       "      <td>46.666667</td>\n",
       "      <td>73.333333</td>\n",
       "      <td>100.0</td>\n",
       "    </tr>\n",
       "  </tbody>\n",
       "</table>\n",
       "</div>"
      ],
      "text/plain": [
       "           experiment_type  time_spent       mean       std        min  \\\n",
       "0     gesture_pitch_number  112.335365  52.500000  0.000000  12.000000   \n",
       "1  gesture_pitch_greyscale  139.322510  26.615385  0.000000   2.000000   \n",
       "2      gesture_roll_number   84.541167  66.000000  0.000000  37.000000   \n",
       "3   gesture_roll_greyscale  206.524229  25.166667  0.000000  12.000000   \n",
       "4            slider_number   92.890343  50.607768  0.000000   5.583582   \n",
       "5         slider_greyscale  197.632769  19.029431  1.002325   0.000000   \n",
       "\n",
       "         max  count     median       iqr          skew  kurtosis  \\\n",
       "0  79.000000     20  54.000000  0.000000  0.000000e+00  0.000000   \n",
       "1  49.000000     13  25.000000  0.000000  0.000000e+00  0.000000   \n",
       "2  96.000000     20  70.500000  0.000000  0.000000e+00  0.000000   \n",
       "3  41.000000     18  24.500000  0.000000  0.000000e+00  0.000000   \n",
       "4  97.059559     20  51.939619  0.000000  0.000000e+00  0.000000   \n",
       "5  48.807005     14  17.011175  0.708751  2.078058e-17 -0.142857   \n",
       "\n",
       "   within_5_percent  within_10_percent  within_15_percent  within_20_percent  \\\n",
       "0         35.000000          65.000000         100.000000         100.000000   \n",
       "1         15.384615          38.461538          61.538462         100.000000   \n",
       "2         40.000000          45.000000          65.000000          90.000000   \n",
       "3          5.555556          61.111111          77.777778         100.000000   \n",
       "4         80.000000          85.000000          95.000000          95.000000   \n",
       "5         20.000000          40.000000          46.666667          73.333333   \n",
       "\n",
       "   within_25_percent  \n",
       "0              100.0  \n",
       "1              100.0  \n",
       "2               95.0  \n",
       "3              100.0  \n",
       "4              100.0  \n",
       "5              100.0  "
      ]
     },
     "metadata": {},
     "output_type": "display_data"
    },
    {
     "data": {
      "text/html": [
       "<div>\n",
       "<style scoped>\n",
       "    .dataframe tbody tr th:only-of-type {\n",
       "        vertical-align: middle;\n",
       "    }\n",
       "\n",
       "    .dataframe tbody tr th {\n",
       "        vertical-align: top;\n",
       "    }\n",
       "\n",
       "    .dataframe thead th {\n",
       "        text-align: right;\n",
       "    }\n",
       "</style>\n",
       "<table border=\"1\" class=\"dataframe\">\n",
       "  <thead>\n",
       "    <tr style=\"text-align: right;\">\n",
       "      <th></th>\n",
       "      <th>truth</th>\n",
       "      <th>mean</th>\n",
       "      <th>std</th>\n",
       "      <th>min</th>\n",
       "      <th>max</th>\n",
       "      <th>count</th>\n",
       "      <th>median</th>\n",
       "      <th>iqr</th>\n",
       "      <th>skew</th>\n",
       "      <th>kurtosis</th>\n",
       "      <th>experiment_type</th>\n",
       "    </tr>\n",
       "  </thead>\n",
       "  <tbody>\n",
       "    <tr>\n",
       "      <th>0</th>\n",
       "      <td>4</td>\n",
       "      <td>12.0</td>\n",
       "      <td>0.0</td>\n",
       "      <td>12</td>\n",
       "      <td>12</td>\n",
       "      <td>1</td>\n",
       "      <td>12.0</td>\n",
       "      <td>0.0</td>\n",
       "      <td>0.0</td>\n",
       "      <td>0.0</td>\n",
       "      <td>gesture_pitch_number</td>\n",
       "    </tr>\n",
       "    <tr>\n",
       "      <th>1</th>\n",
       "      <td>17</td>\n",
       "      <td>27.0</td>\n",
       "      <td>0.0</td>\n",
       "      <td>27</td>\n",
       "      <td>27</td>\n",
       "      <td>1</td>\n",
       "      <td>27.0</td>\n",
       "      <td>0.0</td>\n",
       "      <td>0.0</td>\n",
       "      <td>0.0</td>\n",
       "      <td>gesture_pitch_number</td>\n",
       "    </tr>\n",
       "    <tr>\n",
       "      <th>2</th>\n",
       "      <td>28</td>\n",
       "      <td>30.0</td>\n",
       "      <td>0.0</td>\n",
       "      <td>30</td>\n",
       "      <td>30</td>\n",
       "      <td>1</td>\n",
       "      <td>30.0</td>\n",
       "      <td>0.0</td>\n",
       "      <td>0.0</td>\n",
       "      <td>0.0</td>\n",
       "      <td>gesture_pitch_number</td>\n",
       "    </tr>\n",
       "    <tr>\n",
       "      <th>3</th>\n",
       "      <td>35</td>\n",
       "      <td>38.0</td>\n",
       "      <td>0.0</td>\n",
       "      <td>38</td>\n",
       "      <td>38</td>\n",
       "      <td>1</td>\n",
       "      <td>38.0</td>\n",
       "      <td>0.0</td>\n",
       "      <td>0.0</td>\n",
       "      <td>0.0</td>\n",
       "      <td>gesture_pitch_number</td>\n",
       "    </tr>\n",
       "    <tr>\n",
       "      <th>4</th>\n",
       "      <td>36</td>\n",
       "      <td>39.0</td>\n",
       "      <td>0.0</td>\n",
       "      <td>39</td>\n",
       "      <td>39</td>\n",
       "      <td>1</td>\n",
       "      <td>39.0</td>\n",
       "      <td>0.0</td>\n",
       "      <td>0.0</td>\n",
       "      <td>0.0</td>\n",
       "      <td>gesture_pitch_number</td>\n",
       "    </tr>\n",
       "    <tr>\n",
       "      <th>5</th>\n",
       "      <td>44</td>\n",
       "      <td>46.0</td>\n",
       "      <td>0.0</td>\n",
       "      <td>46</td>\n",
       "      <td>46</td>\n",
       "      <td>1</td>\n",
       "      <td>46.0</td>\n",
       "      <td>0.0</td>\n",
       "      <td>0.0</td>\n",
       "      <td>0.0</td>\n",
       "      <td>gesture_pitch_number</td>\n",
       "    </tr>\n",
       "    <tr>\n",
       "      <th>6</th>\n",
       "      <td>50</td>\n",
       "      <td>54.0</td>\n",
       "      <td>0.0</td>\n",
       "      <td>54</td>\n",
       "      <td>54</td>\n",
       "      <td>1</td>\n",
       "      <td>54.0</td>\n",
       "      <td>0.0</td>\n",
       "      <td>0.0</td>\n",
       "      <td>0.0</td>\n",
       "      <td>gesture_pitch_number</td>\n",
       "    </tr>\n",
       "    <tr>\n",
       "      <th>7</th>\n",
       "      <td>53</td>\n",
       "      <td>55.0</td>\n",
       "      <td>0.0</td>\n",
       "      <td>55</td>\n",
       "      <td>55</td>\n",
       "      <td>1</td>\n",
       "      <td>55.0</td>\n",
       "      <td>0.0</td>\n",
       "      <td>0.0</td>\n",
       "      <td>0.0</td>\n",
       "      <td>gesture_pitch_number</td>\n",
       "    </tr>\n",
       "    <tr>\n",
       "      <th>8</th>\n",
       "      <td>56</td>\n",
       "      <td>50.0</td>\n",
       "      <td>0.0</td>\n",
       "      <td>50</td>\n",
       "      <td>50</td>\n",
       "      <td>1</td>\n",
       "      <td>50.0</td>\n",
       "      <td>0.0</td>\n",
       "      <td>0.0</td>\n",
       "      <td>0.0</td>\n",
       "      <td>gesture_pitch_number</td>\n",
       "    </tr>\n",
       "    <tr>\n",
       "      <th>9</th>\n",
       "      <td>57</td>\n",
       "      <td>52.0</td>\n",
       "      <td>0.0</td>\n",
       "      <td>52</td>\n",
       "      <td>52</td>\n",
       "      <td>1</td>\n",
       "      <td>52.0</td>\n",
       "      <td>0.0</td>\n",
       "      <td>0.0</td>\n",
       "      <td>0.0</td>\n",
       "      <td>gesture_pitch_number</td>\n",
       "    </tr>\n",
       "    <tr>\n",
       "      <th>10</th>\n",
       "      <td>62</td>\n",
       "      <td>54.0</td>\n",
       "      <td>0.0</td>\n",
       "      <td>54</td>\n",
       "      <td>54</td>\n",
       "      <td>1</td>\n",
       "      <td>54.0</td>\n",
       "      <td>0.0</td>\n",
       "      <td>0.0</td>\n",
       "      <td>0.0</td>\n",
       "      <td>gesture_pitch_number</td>\n",
       "    </tr>\n",
       "    <tr>\n",
       "      <th>11</th>\n",
       "      <td>64</td>\n",
       "      <td>51.0</td>\n",
       "      <td>0.0</td>\n",
       "      <td>51</td>\n",
       "      <td>51</td>\n",
       "      <td>1</td>\n",
       "      <td>51.0</td>\n",
       "      <td>0.0</td>\n",
       "      <td>0.0</td>\n",
       "      <td>0.0</td>\n",
       "      <td>gesture_pitch_number</td>\n",
       "    </tr>\n",
       "    <tr>\n",
       "      <th>12</th>\n",
       "      <td>67</td>\n",
       "      <td>54.0</td>\n",
       "      <td>0.0</td>\n",
       "      <td>54</td>\n",
       "      <td>54</td>\n",
       "      <td>1</td>\n",
       "      <td>54.0</td>\n",
       "      <td>0.0</td>\n",
       "      <td>0.0</td>\n",
       "      <td>0.0</td>\n",
       "      <td>gesture_pitch_number</td>\n",
       "    </tr>\n",
       "    <tr>\n",
       "      <th>13</th>\n",
       "      <td>68</td>\n",
       "      <td>54.0</td>\n",
       "      <td>0.0</td>\n",
       "      <td>54</td>\n",
       "      <td>54</td>\n",
       "      <td>1</td>\n",
       "      <td>54.0</td>\n",
       "      <td>0.0</td>\n",
       "      <td>0.0</td>\n",
       "      <td>0.0</td>\n",
       "      <td>gesture_pitch_number</td>\n",
       "    </tr>\n",
       "    <tr>\n",
       "      <th>14</th>\n",
       "      <td>72</td>\n",
       "      <td>65.0</td>\n",
       "      <td>0.0</td>\n",
       "      <td>65</td>\n",
       "      <td>65</td>\n",
       "      <td>1</td>\n",
       "      <td>65.0</td>\n",
       "      <td>0.0</td>\n",
       "      <td>0.0</td>\n",
       "      <td>0.0</td>\n",
       "      <td>gesture_pitch_number</td>\n",
       "    </tr>\n",
       "    <tr>\n",
       "      <th>15</th>\n",
       "      <td>74</td>\n",
       "      <td>66.0</td>\n",
       "      <td>0.0</td>\n",
       "      <td>66</td>\n",
       "      <td>66</td>\n",
       "      <td>1</td>\n",
       "      <td>66.0</td>\n",
       "      <td>0.0</td>\n",
       "      <td>0.0</td>\n",
       "      <td>0.0</td>\n",
       "      <td>gesture_pitch_number</td>\n",
       "    </tr>\n",
       "    <tr>\n",
       "      <th>16</th>\n",
       "      <td>84</td>\n",
       "      <td>73.0</td>\n",
       "      <td>0.0</td>\n",
       "      <td>73</td>\n",
       "      <td>73</td>\n",
       "      <td>1</td>\n",
       "      <td>73.0</td>\n",
       "      <td>0.0</td>\n",
       "      <td>0.0</td>\n",
       "      <td>0.0</td>\n",
       "      <td>gesture_pitch_number</td>\n",
       "    </tr>\n",
       "    <tr>\n",
       "      <th>17</th>\n",
       "      <td>87</td>\n",
       "      <td>73.0</td>\n",
       "      <td>0.0</td>\n",
       "      <td>73</td>\n",
       "      <td>73</td>\n",
       "      <td>1</td>\n",
       "      <td>73.0</td>\n",
       "      <td>0.0</td>\n",
       "      <td>0.0</td>\n",
       "      <td>0.0</td>\n",
       "      <td>gesture_pitch_number</td>\n",
       "    </tr>\n",
       "    <tr>\n",
       "      <th>18</th>\n",
       "      <td>91</td>\n",
       "      <td>79.0</td>\n",
       "      <td>0.0</td>\n",
       "      <td>79</td>\n",
       "      <td>79</td>\n",
       "      <td>1</td>\n",
       "      <td>79.0</td>\n",
       "      <td>0.0</td>\n",
       "      <td>0.0</td>\n",
       "      <td>0.0</td>\n",
       "      <td>gesture_pitch_number</td>\n",
       "    </tr>\n",
       "    <tr>\n",
       "      <th>19</th>\n",
       "      <td>93</td>\n",
       "      <td>78.0</td>\n",
       "      <td>0.0</td>\n",
       "      <td>78</td>\n",
       "      <td>78</td>\n",
       "      <td>1</td>\n",
       "      <td>78.0</td>\n",
       "      <td>0.0</td>\n",
       "      <td>0.0</td>\n",
       "      <td>0.0</td>\n",
       "      <td>gesture_pitch_number</td>\n",
       "    </tr>\n",
       "  </tbody>\n",
       "</table>\n",
       "</div>"
      ],
      "text/plain": [
       "    truth  mean  std  min  max  count  median  iqr  skew  kurtosis  \\\n",
       "0       4  12.0  0.0   12   12      1    12.0  0.0   0.0       0.0   \n",
       "1      17  27.0  0.0   27   27      1    27.0  0.0   0.0       0.0   \n",
       "2      28  30.0  0.0   30   30      1    30.0  0.0   0.0       0.0   \n",
       "3      35  38.0  0.0   38   38      1    38.0  0.0   0.0       0.0   \n",
       "4      36  39.0  0.0   39   39      1    39.0  0.0   0.0       0.0   \n",
       "5      44  46.0  0.0   46   46      1    46.0  0.0   0.0       0.0   \n",
       "6      50  54.0  0.0   54   54      1    54.0  0.0   0.0       0.0   \n",
       "7      53  55.0  0.0   55   55      1    55.0  0.0   0.0       0.0   \n",
       "8      56  50.0  0.0   50   50      1    50.0  0.0   0.0       0.0   \n",
       "9      57  52.0  0.0   52   52      1    52.0  0.0   0.0       0.0   \n",
       "10     62  54.0  0.0   54   54      1    54.0  0.0   0.0       0.0   \n",
       "11     64  51.0  0.0   51   51      1    51.0  0.0   0.0       0.0   \n",
       "12     67  54.0  0.0   54   54      1    54.0  0.0   0.0       0.0   \n",
       "13     68  54.0  0.0   54   54      1    54.0  0.0   0.0       0.0   \n",
       "14     72  65.0  0.0   65   65      1    65.0  0.0   0.0       0.0   \n",
       "15     74  66.0  0.0   66   66      1    66.0  0.0   0.0       0.0   \n",
       "16     84  73.0  0.0   73   73      1    73.0  0.0   0.0       0.0   \n",
       "17     87  73.0  0.0   73   73      1    73.0  0.0   0.0       0.0   \n",
       "18     91  79.0  0.0   79   79      1    79.0  0.0   0.0       0.0   \n",
       "19     93  78.0  0.0   78   78      1    78.0  0.0   0.0       0.0   \n",
       "\n",
       "         experiment_type  \n",
       "0   gesture_pitch_number  \n",
       "1   gesture_pitch_number  \n",
       "2   gesture_pitch_number  \n",
       "3   gesture_pitch_number  \n",
       "4   gesture_pitch_number  \n",
       "5   gesture_pitch_number  \n",
       "6   gesture_pitch_number  \n",
       "7   gesture_pitch_number  \n",
       "8   gesture_pitch_number  \n",
       "9   gesture_pitch_number  \n",
       "10  gesture_pitch_number  \n",
       "11  gesture_pitch_number  \n",
       "12  gesture_pitch_number  \n",
       "13  gesture_pitch_number  \n",
       "14  gesture_pitch_number  \n",
       "15  gesture_pitch_number  \n",
       "16  gesture_pitch_number  \n",
       "17  gesture_pitch_number  \n",
       "18  gesture_pitch_number  \n",
       "19  gesture_pitch_number  "
      ]
     },
     "metadata": {},
     "output_type": "display_data"
    },
    {
     "data": {
      "text/html": [
       "<div>\n",
       "<style scoped>\n",
       "    .dataframe tbody tr th:only-of-type {\n",
       "        vertical-align: middle;\n",
       "    }\n",
       "\n",
       "    .dataframe tbody tr th {\n",
       "        vertical-align: top;\n",
       "    }\n",
       "\n",
       "    .dataframe thead th {\n",
       "        text-align: right;\n",
       "    }\n",
       "</style>\n",
       "<table border=\"1\" class=\"dataframe\">\n",
       "  <thead>\n",
       "    <tr style=\"text-align: right;\">\n",
       "      <th></th>\n",
       "      <th>truth</th>\n",
       "      <th>mean</th>\n",
       "      <th>std</th>\n",
       "      <th>min</th>\n",
       "      <th>max</th>\n",
       "      <th>count</th>\n",
       "      <th>median</th>\n",
       "      <th>iqr</th>\n",
       "      <th>skew</th>\n",
       "      <th>kurtosis</th>\n",
       "      <th>experiment_type</th>\n",
       "    </tr>\n",
       "  </thead>\n",
       "  <tbody>\n",
       "    <tr>\n",
       "      <th>0</th>\n",
       "      <td>0</td>\n",
       "      <td>16.0</td>\n",
       "      <td>0.0</td>\n",
       "      <td>16</td>\n",
       "      <td>16</td>\n",
       "      <td>1</td>\n",
       "      <td>16.0</td>\n",
       "      <td>0.0</td>\n",
       "      <td>0.0</td>\n",
       "      <td>0.0</td>\n",
       "      <td>gesture_pitch_greyscale</td>\n",
       "    </tr>\n",
       "    <tr>\n",
       "      <th>1</th>\n",
       "      <td>5</td>\n",
       "      <td>12.0</td>\n",
       "      <td>0.0</td>\n",
       "      <td>12</td>\n",
       "      <td>12</td>\n",
       "      <td>1</td>\n",
       "      <td>12.0</td>\n",
       "      <td>0.0</td>\n",
       "      <td>0.0</td>\n",
       "      <td>0.0</td>\n",
       "      <td>gesture_pitch_greyscale</td>\n",
       "    </tr>\n",
       "    <tr>\n",
       "      <th>2</th>\n",
       "      <td>12</td>\n",
       "      <td>25.0</td>\n",
       "      <td>0.0</td>\n",
       "      <td>25</td>\n",
       "      <td>25</td>\n",
       "      <td>1</td>\n",
       "      <td>25.0</td>\n",
       "      <td>0.0</td>\n",
       "      <td>0.0</td>\n",
       "      <td>0.0</td>\n",
       "      <td>gesture_pitch_greyscale</td>\n",
       "    </tr>\n",
       "    <tr>\n",
       "      <th>3</th>\n",
       "      <td>20</td>\n",
       "      <td>7.0</td>\n",
       "      <td>0.0</td>\n",
       "      <td>7</td>\n",
       "      <td>7</td>\n",
       "      <td>1</td>\n",
       "      <td>7.0</td>\n",
       "      <td>0.0</td>\n",
       "      <td>0.0</td>\n",
       "      <td>0.0</td>\n",
       "      <td>gesture_pitch_greyscale</td>\n",
       "    </tr>\n",
       "    <tr>\n",
       "      <th>4</th>\n",
       "      <td>22</td>\n",
       "      <td>2.0</td>\n",
       "      <td>0.0</td>\n",
       "      <td>2</td>\n",
       "      <td>2</td>\n",
       "      <td>1</td>\n",
       "      <td>2.0</td>\n",
       "      <td>0.0</td>\n",
       "      <td>0.0</td>\n",
       "      <td>0.0</td>\n",
       "      <td>gesture_pitch_greyscale</td>\n",
       "    </tr>\n",
       "    <tr>\n",
       "      <th>5</th>\n",
       "      <td>26</td>\n",
       "      <td>30.0</td>\n",
       "      <td>0.0</td>\n",
       "      <td>30</td>\n",
       "      <td>30</td>\n",
       "      <td>1</td>\n",
       "      <td>30.0</td>\n",
       "      <td>0.0</td>\n",
       "      <td>0.0</td>\n",
       "      <td>0.0</td>\n",
       "      <td>gesture_pitch_greyscale</td>\n",
       "    </tr>\n",
       "    <tr>\n",
       "      <th>6</th>\n",
       "      <td>29</td>\n",
       "      <td>45.0</td>\n",
       "      <td>0.0</td>\n",
       "      <td>45</td>\n",
       "      <td>45</td>\n",
       "      <td>1</td>\n",
       "      <td>45.0</td>\n",
       "      <td>0.0</td>\n",
       "      <td>0.0</td>\n",
       "      <td>0.0</td>\n",
       "      <td>gesture_pitch_greyscale</td>\n",
       "    </tr>\n",
       "    <tr>\n",
       "      <th>7</th>\n",
       "      <td>30</td>\n",
       "      <td>38.0</td>\n",
       "      <td>0.0</td>\n",
       "      <td>38</td>\n",
       "      <td>38</td>\n",
       "      <td>1</td>\n",
       "      <td>38.0</td>\n",
       "      <td>0.0</td>\n",
       "      <td>0.0</td>\n",
       "      <td>0.0</td>\n",
       "      <td>gesture_pitch_greyscale</td>\n",
       "    </tr>\n",
       "    <tr>\n",
       "      <th>8</th>\n",
       "      <td>35</td>\n",
       "      <td>49.0</td>\n",
       "      <td>0.0</td>\n",
       "      <td>49</td>\n",
       "      <td>49</td>\n",
       "      <td>1</td>\n",
       "      <td>49.0</td>\n",
       "      <td>0.0</td>\n",
       "      <td>0.0</td>\n",
       "      <td>0.0</td>\n",
       "      <td>gesture_pitch_greyscale</td>\n",
       "    </tr>\n",
       "    <tr>\n",
       "      <th>9</th>\n",
       "      <td>37</td>\n",
       "      <td>20.0</td>\n",
       "      <td>0.0</td>\n",
       "      <td>20</td>\n",
       "      <td>20</td>\n",
       "      <td>1</td>\n",
       "      <td>20.0</td>\n",
       "      <td>0.0</td>\n",
       "      <td>0.0</td>\n",
       "      <td>0.0</td>\n",
       "      <td>gesture_pitch_greyscale</td>\n",
       "    </tr>\n",
       "    <tr>\n",
       "      <th>10</th>\n",
       "      <td>38</td>\n",
       "      <td>18.0</td>\n",
       "      <td>0.0</td>\n",
       "      <td>18</td>\n",
       "      <td>18</td>\n",
       "      <td>1</td>\n",
       "      <td>18.0</td>\n",
       "      <td>0.0</td>\n",
       "      <td>0.0</td>\n",
       "      <td>0.0</td>\n",
       "      <td>gesture_pitch_greyscale</td>\n",
       "    </tr>\n",
       "    <tr>\n",
       "      <th>11</th>\n",
       "      <td>43</td>\n",
       "      <td>37.0</td>\n",
       "      <td>0.0</td>\n",
       "      <td>37</td>\n",
       "      <td>37</td>\n",
       "      <td>1</td>\n",
       "      <td>37.0</td>\n",
       "      <td>0.0</td>\n",
       "      <td>0.0</td>\n",
       "      <td>0.0</td>\n",
       "      <td>gesture_pitch_greyscale</td>\n",
       "    </tr>\n",
       "    <tr>\n",
       "      <th>12</th>\n",
       "      <td>47</td>\n",
       "      <td>47.0</td>\n",
       "      <td>0.0</td>\n",
       "      <td>47</td>\n",
       "      <td>47</td>\n",
       "      <td>1</td>\n",
       "      <td>47.0</td>\n",
       "      <td>0.0</td>\n",
       "      <td>0.0</td>\n",
       "      <td>0.0</td>\n",
       "      <td>gesture_pitch_greyscale</td>\n",
       "    </tr>\n",
       "  </tbody>\n",
       "</table>\n",
       "</div>"
      ],
      "text/plain": [
       "    truth  mean  std  min  max  count  median  iqr  skew  kurtosis  \\\n",
       "0       0  16.0  0.0   16   16      1    16.0  0.0   0.0       0.0   \n",
       "1       5  12.0  0.0   12   12      1    12.0  0.0   0.0       0.0   \n",
       "2      12  25.0  0.0   25   25      1    25.0  0.0   0.0       0.0   \n",
       "3      20   7.0  0.0    7    7      1     7.0  0.0   0.0       0.0   \n",
       "4      22   2.0  0.0    2    2      1     2.0  0.0   0.0       0.0   \n",
       "5      26  30.0  0.0   30   30      1    30.0  0.0   0.0       0.0   \n",
       "6      29  45.0  0.0   45   45      1    45.0  0.0   0.0       0.0   \n",
       "7      30  38.0  0.0   38   38      1    38.0  0.0   0.0       0.0   \n",
       "8      35  49.0  0.0   49   49      1    49.0  0.0   0.0       0.0   \n",
       "9      37  20.0  0.0   20   20      1    20.0  0.0   0.0       0.0   \n",
       "10     38  18.0  0.0   18   18      1    18.0  0.0   0.0       0.0   \n",
       "11     43  37.0  0.0   37   37      1    37.0  0.0   0.0       0.0   \n",
       "12     47  47.0  0.0   47   47      1    47.0  0.0   0.0       0.0   \n",
       "\n",
       "            experiment_type  \n",
       "0   gesture_pitch_greyscale  \n",
       "1   gesture_pitch_greyscale  \n",
       "2   gesture_pitch_greyscale  \n",
       "3   gesture_pitch_greyscale  \n",
       "4   gesture_pitch_greyscale  \n",
       "5   gesture_pitch_greyscale  \n",
       "6   gesture_pitch_greyscale  \n",
       "7   gesture_pitch_greyscale  \n",
       "8   gesture_pitch_greyscale  \n",
       "9   gesture_pitch_greyscale  \n",
       "10  gesture_pitch_greyscale  \n",
       "11  gesture_pitch_greyscale  \n",
       "12  gesture_pitch_greyscale  "
      ]
     },
     "metadata": {},
     "output_type": "display_data"
    },
    {
     "data": {
      "text/html": [
       "<div>\n",
       "<style scoped>\n",
       "    .dataframe tbody tr th:only-of-type {\n",
       "        vertical-align: middle;\n",
       "    }\n",
       "\n",
       "    .dataframe tbody tr th {\n",
       "        vertical-align: top;\n",
       "    }\n",
       "\n",
       "    .dataframe thead th {\n",
       "        text-align: right;\n",
       "    }\n",
       "</style>\n",
       "<table border=\"1\" class=\"dataframe\">\n",
       "  <thead>\n",
       "    <tr style=\"text-align: right;\">\n",
       "      <th></th>\n",
       "      <th>truth</th>\n",
       "      <th>mean</th>\n",
       "      <th>std</th>\n",
       "      <th>min</th>\n",
       "      <th>max</th>\n",
       "      <th>count</th>\n",
       "      <th>median</th>\n",
       "      <th>iqr</th>\n",
       "      <th>skew</th>\n",
       "      <th>kurtosis</th>\n",
       "      <th>experiment_type</th>\n",
       "    </tr>\n",
       "  </thead>\n",
       "  <tbody>\n",
       "    <tr>\n",
       "      <th>0</th>\n",
       "      <td>9</td>\n",
       "      <td>41.0</td>\n",
       "      <td>0.0</td>\n",
       "      <td>41</td>\n",
       "      <td>41</td>\n",
       "      <td>1</td>\n",
       "      <td>41.0</td>\n",
       "      <td>0.0</td>\n",
       "      <td>0.0</td>\n",
       "      <td>0.0</td>\n",
       "      <td>gesture_roll_number</td>\n",
       "    </tr>\n",
       "    <tr>\n",
       "      <th>1</th>\n",
       "      <td>20</td>\n",
       "      <td>37.0</td>\n",
       "      <td>0.0</td>\n",
       "      <td>37</td>\n",
       "      <td>37</td>\n",
       "      <td>1</td>\n",
       "      <td>37.0</td>\n",
       "      <td>0.0</td>\n",
       "      <td>0.0</td>\n",
       "      <td>0.0</td>\n",
       "      <td>gesture_roll_number</td>\n",
       "    </tr>\n",
       "    <tr>\n",
       "      <th>2</th>\n",
       "      <td>23</td>\n",
       "      <td>40.0</td>\n",
       "      <td>0.0</td>\n",
       "      <td>40</td>\n",
       "      <td>40</td>\n",
       "      <td>1</td>\n",
       "      <td>40.0</td>\n",
       "      <td>0.0</td>\n",
       "      <td>0.0</td>\n",
       "      <td>0.0</td>\n",
       "      <td>gesture_roll_number</td>\n",
       "    </tr>\n",
       "    <tr>\n",
       "      <th>3</th>\n",
       "      <td>26</td>\n",
       "      <td>40.0</td>\n",
       "      <td>0.0</td>\n",
       "      <td>40</td>\n",
       "      <td>40</td>\n",
       "      <td>1</td>\n",
       "      <td>40.0</td>\n",
       "      <td>0.0</td>\n",
       "      <td>0.0</td>\n",
       "      <td>0.0</td>\n",
       "      <td>gesture_roll_number</td>\n",
       "    </tr>\n",
       "    <tr>\n",
       "      <th>4</th>\n",
       "      <td>33</td>\n",
       "      <td>48.0</td>\n",
       "      <td>0.0</td>\n",
       "      <td>48</td>\n",
       "      <td>48</td>\n",
       "      <td>1</td>\n",
       "      <td>48.0</td>\n",
       "      <td>0.0</td>\n",
       "      <td>0.0</td>\n",
       "      <td>0.0</td>\n",
       "      <td>gesture_roll_number</td>\n",
       "    </tr>\n",
       "    <tr>\n",
       "      <th>5</th>\n",
       "      <td>37</td>\n",
       "      <td>54.0</td>\n",
       "      <td>0.0</td>\n",
       "      <td>54</td>\n",
       "      <td>54</td>\n",
       "      <td>1</td>\n",
       "      <td>54.0</td>\n",
       "      <td>0.0</td>\n",
       "      <td>0.0</td>\n",
       "      <td>0.0</td>\n",
       "      <td>gesture_roll_number</td>\n",
       "    </tr>\n",
       "    <tr>\n",
       "      <th>6</th>\n",
       "      <td>46</td>\n",
       "      <td>66.0</td>\n",
       "      <td>0.0</td>\n",
       "      <td>66</td>\n",
       "      <td>66</td>\n",
       "      <td>1</td>\n",
       "      <td>66.0</td>\n",
       "      <td>0.0</td>\n",
       "      <td>0.0</td>\n",
       "      <td>0.0</td>\n",
       "      <td>gesture_roll_number</td>\n",
       "    </tr>\n",
       "    <tr>\n",
       "      <th>7</th>\n",
       "      <td>54</td>\n",
       "      <td>69.0</td>\n",
       "      <td>0.0</td>\n",
       "      <td>69</td>\n",
       "      <td>69</td>\n",
       "      <td>1</td>\n",
       "      <td>69.0</td>\n",
       "      <td>0.0</td>\n",
       "      <td>0.0</td>\n",
       "      <td>0.0</td>\n",
       "      <td>gesture_roll_number</td>\n",
       "    </tr>\n",
       "    <tr>\n",
       "      <th>8</th>\n",
       "      <td>58</td>\n",
       "      <td>81.0</td>\n",
       "      <td>0.0</td>\n",
       "      <td>81</td>\n",
       "      <td>81</td>\n",
       "      <td>1</td>\n",
       "      <td>81.0</td>\n",
       "      <td>0.0</td>\n",
       "      <td>0.0</td>\n",
       "      <td>0.0</td>\n",
       "      <td>gesture_roll_number</td>\n",
       "    </tr>\n",
       "    <tr>\n",
       "      <th>9</th>\n",
       "      <td>60</td>\n",
       "      <td>77.0</td>\n",
       "      <td>0.0</td>\n",
       "      <td>77</td>\n",
       "      <td>77</td>\n",
       "      <td>1</td>\n",
       "      <td>77.0</td>\n",
       "      <td>0.0</td>\n",
       "      <td>0.0</td>\n",
       "      <td>0.0</td>\n",
       "      <td>gesture_roll_number</td>\n",
       "    </tr>\n",
       "    <tr>\n",
       "      <th>10</th>\n",
       "      <td>63</td>\n",
       "      <td>64.0</td>\n",
       "      <td>0.0</td>\n",
       "      <td>64</td>\n",
       "      <td>64</td>\n",
       "      <td>1</td>\n",
       "      <td>64.0</td>\n",
       "      <td>0.0</td>\n",
       "      <td>0.0</td>\n",
       "      <td>0.0</td>\n",
       "      <td>gesture_roll_number</td>\n",
       "    </tr>\n",
       "    <tr>\n",
       "      <th>11</th>\n",
       "      <td>70</td>\n",
       "      <td>66.0</td>\n",
       "      <td>0.0</td>\n",
       "      <td>66</td>\n",
       "      <td>66</td>\n",
       "      <td>1</td>\n",
       "      <td>66.0</td>\n",
       "      <td>0.0</td>\n",
       "      <td>0.0</td>\n",
       "      <td>0.0</td>\n",
       "      <td>gesture_roll_number</td>\n",
       "    </tr>\n",
       "    <tr>\n",
       "      <th>12</th>\n",
       "      <td>75</td>\n",
       "      <td>72.0</td>\n",
       "      <td>0.0</td>\n",
       "      <td>72</td>\n",
       "      <td>72</td>\n",
       "      <td>1</td>\n",
       "      <td>72.0</td>\n",
       "      <td>0.0</td>\n",
       "      <td>0.0</td>\n",
       "      <td>0.0</td>\n",
       "      <td>gesture_roll_number</td>\n",
       "    </tr>\n",
       "    <tr>\n",
       "      <th>13</th>\n",
       "      <td>76</td>\n",
       "      <td>74.0</td>\n",
       "      <td>0.0</td>\n",
       "      <td>74</td>\n",
       "      <td>74</td>\n",
       "      <td>1</td>\n",
       "      <td>74.0</td>\n",
       "      <td>0.0</td>\n",
       "      <td>0.0</td>\n",
       "      <td>0.0</td>\n",
       "      <td>gesture_roll_number</td>\n",
       "    </tr>\n",
       "    <tr>\n",
       "      <th>14</th>\n",
       "      <td>77</td>\n",
       "      <td>76.0</td>\n",
       "      <td>0.0</td>\n",
       "      <td>76</td>\n",
       "      <td>76</td>\n",
       "      <td>1</td>\n",
       "      <td>76.0</td>\n",
       "      <td>0.0</td>\n",
       "      <td>0.0</td>\n",
       "      <td>0.0</td>\n",
       "      <td>gesture_roll_number</td>\n",
       "    </tr>\n",
       "    <tr>\n",
       "      <th>15</th>\n",
       "      <td>81</td>\n",
       "      <td>77.0</td>\n",
       "      <td>0.0</td>\n",
       "      <td>77</td>\n",
       "      <td>77</td>\n",
       "      <td>1</td>\n",
       "      <td>77.0</td>\n",
       "      <td>0.0</td>\n",
       "      <td>0.0</td>\n",
       "      <td>0.0</td>\n",
       "      <td>gesture_roll_number</td>\n",
       "    </tr>\n",
       "    <tr>\n",
       "      <th>16</th>\n",
       "      <td>82</td>\n",
       "      <td>80.0</td>\n",
       "      <td>0.0</td>\n",
       "      <td>80</td>\n",
       "      <td>80</td>\n",
       "      <td>1</td>\n",
       "      <td>80.0</td>\n",
       "      <td>0.0</td>\n",
       "      <td>0.0</td>\n",
       "      <td>0.0</td>\n",
       "      <td>gesture_roll_number</td>\n",
       "    </tr>\n",
       "    <tr>\n",
       "      <th>17</th>\n",
       "      <td>85</td>\n",
       "      <td>75.0</td>\n",
       "      <td>0.0</td>\n",
       "      <td>75</td>\n",
       "      <td>75</td>\n",
       "      <td>1</td>\n",
       "      <td>75.0</td>\n",
       "      <td>0.0</td>\n",
       "      <td>0.0</td>\n",
       "      <td>0.0</td>\n",
       "      <td>gesture_roll_number</td>\n",
       "    </tr>\n",
       "    <tr>\n",
       "      <th>18</th>\n",
       "      <td>96</td>\n",
       "      <td>96.0</td>\n",
       "      <td>0.0</td>\n",
       "      <td>96</td>\n",
       "      <td>96</td>\n",
       "      <td>1</td>\n",
       "      <td>96.0</td>\n",
       "      <td>0.0</td>\n",
       "      <td>0.0</td>\n",
       "      <td>0.0</td>\n",
       "      <td>gesture_roll_number</td>\n",
       "    </tr>\n",
       "    <tr>\n",
       "      <th>19</th>\n",
       "      <td>100</td>\n",
       "      <td>87.0</td>\n",
       "      <td>0.0</td>\n",
       "      <td>87</td>\n",
       "      <td>87</td>\n",
       "      <td>1</td>\n",
       "      <td>87.0</td>\n",
       "      <td>0.0</td>\n",
       "      <td>0.0</td>\n",
       "      <td>0.0</td>\n",
       "      <td>gesture_roll_number</td>\n",
       "    </tr>\n",
       "  </tbody>\n",
       "</table>\n",
       "</div>"
      ],
      "text/plain": [
       "    truth  mean  std  min  max  count  median  iqr  skew  kurtosis  \\\n",
       "0       9  41.0  0.0   41   41      1    41.0  0.0   0.0       0.0   \n",
       "1      20  37.0  0.0   37   37      1    37.0  0.0   0.0       0.0   \n",
       "2      23  40.0  0.0   40   40      1    40.0  0.0   0.0       0.0   \n",
       "3      26  40.0  0.0   40   40      1    40.0  0.0   0.0       0.0   \n",
       "4      33  48.0  0.0   48   48      1    48.0  0.0   0.0       0.0   \n",
       "5      37  54.0  0.0   54   54      1    54.0  0.0   0.0       0.0   \n",
       "6      46  66.0  0.0   66   66      1    66.0  0.0   0.0       0.0   \n",
       "7      54  69.0  0.0   69   69      1    69.0  0.0   0.0       0.0   \n",
       "8      58  81.0  0.0   81   81      1    81.0  0.0   0.0       0.0   \n",
       "9      60  77.0  0.0   77   77      1    77.0  0.0   0.0       0.0   \n",
       "10     63  64.0  0.0   64   64      1    64.0  0.0   0.0       0.0   \n",
       "11     70  66.0  0.0   66   66      1    66.0  0.0   0.0       0.0   \n",
       "12     75  72.0  0.0   72   72      1    72.0  0.0   0.0       0.0   \n",
       "13     76  74.0  0.0   74   74      1    74.0  0.0   0.0       0.0   \n",
       "14     77  76.0  0.0   76   76      1    76.0  0.0   0.0       0.0   \n",
       "15     81  77.0  0.0   77   77      1    77.0  0.0   0.0       0.0   \n",
       "16     82  80.0  0.0   80   80      1    80.0  0.0   0.0       0.0   \n",
       "17     85  75.0  0.0   75   75      1    75.0  0.0   0.0       0.0   \n",
       "18     96  96.0  0.0   96   96      1    96.0  0.0   0.0       0.0   \n",
       "19    100  87.0  0.0   87   87      1    87.0  0.0   0.0       0.0   \n",
       "\n",
       "        experiment_type  \n",
       "0   gesture_roll_number  \n",
       "1   gesture_roll_number  \n",
       "2   gesture_roll_number  \n",
       "3   gesture_roll_number  \n",
       "4   gesture_roll_number  \n",
       "5   gesture_roll_number  \n",
       "6   gesture_roll_number  \n",
       "7   gesture_roll_number  \n",
       "8   gesture_roll_number  \n",
       "9   gesture_roll_number  \n",
       "10  gesture_roll_number  \n",
       "11  gesture_roll_number  \n",
       "12  gesture_roll_number  \n",
       "13  gesture_roll_number  \n",
       "14  gesture_roll_number  \n",
       "15  gesture_roll_number  \n",
       "16  gesture_roll_number  \n",
       "17  gesture_roll_number  \n",
       "18  gesture_roll_number  \n",
       "19  gesture_roll_number  "
      ]
     },
     "metadata": {},
     "output_type": "display_data"
    },
    {
     "data": {
      "text/html": [
       "<div>\n",
       "<style scoped>\n",
       "    .dataframe tbody tr th:only-of-type {\n",
       "        vertical-align: middle;\n",
       "    }\n",
       "\n",
       "    .dataframe tbody tr th {\n",
       "        vertical-align: top;\n",
       "    }\n",
       "\n",
       "    .dataframe thead th {\n",
       "        text-align: right;\n",
       "    }\n",
       "</style>\n",
       "<table border=\"1\" class=\"dataframe\">\n",
       "  <thead>\n",
       "    <tr style=\"text-align: right;\">\n",
       "      <th></th>\n",
       "      <th>truth</th>\n",
       "      <th>mean</th>\n",
       "      <th>std</th>\n",
       "      <th>min</th>\n",
       "      <th>max</th>\n",
       "      <th>count</th>\n",
       "      <th>median</th>\n",
       "      <th>iqr</th>\n",
       "      <th>skew</th>\n",
       "      <th>kurtosis</th>\n",
       "      <th>experiment_type</th>\n",
       "    </tr>\n",
       "  </thead>\n",
       "  <tbody>\n",
       "    <tr>\n",
       "      <th>0</th>\n",
       "      <td>6</td>\n",
       "      <td>14.0</td>\n",
       "      <td>0.0</td>\n",
       "      <td>14</td>\n",
       "      <td>14</td>\n",
       "      <td>1</td>\n",
       "      <td>14.0</td>\n",
       "      <td>0.0</td>\n",
       "      <td>0.0</td>\n",
       "      <td>0.0</td>\n",
       "      <td>gesture_roll_greyscale</td>\n",
       "    </tr>\n",
       "    <tr>\n",
       "      <th>1</th>\n",
       "      <td>9</td>\n",
       "      <td>28.0</td>\n",
       "      <td>0.0</td>\n",
       "      <td>28</td>\n",
       "      <td>28</td>\n",
       "      <td>1</td>\n",
       "      <td>28.0</td>\n",
       "      <td>0.0</td>\n",
       "      <td>0.0</td>\n",
       "      <td>0.0</td>\n",
       "      <td>gesture_roll_greyscale</td>\n",
       "    </tr>\n",
       "    <tr>\n",
       "      <th>2</th>\n",
       "      <td>13</td>\n",
       "      <td>12.0</td>\n",
       "      <td>0.0</td>\n",
       "      <td>12</td>\n",
       "      <td>12</td>\n",
       "      <td>1</td>\n",
       "      <td>12.0</td>\n",
       "      <td>0.0</td>\n",
       "      <td>0.0</td>\n",
       "      <td>0.0</td>\n",
       "      <td>gesture_roll_greyscale</td>\n",
       "    </tr>\n",
       "    <tr>\n",
       "      <th>3</th>\n",
       "      <td>15</td>\n",
       "      <td>23.0</td>\n",
       "      <td>0.0</td>\n",
       "      <td>23</td>\n",
       "      <td>23</td>\n",
       "      <td>1</td>\n",
       "      <td>23.0</td>\n",
       "      <td>0.0</td>\n",
       "      <td>0.0</td>\n",
       "      <td>0.0</td>\n",
       "      <td>gesture_roll_greyscale</td>\n",
       "    </tr>\n",
       "    <tr>\n",
       "      <th>4</th>\n",
       "      <td>17</td>\n",
       "      <td>29.0</td>\n",
       "      <td>0.0</td>\n",
       "      <td>29</td>\n",
       "      <td>29</td>\n",
       "      <td>1</td>\n",
       "      <td>29.0</td>\n",
       "      <td>0.0</td>\n",
       "      <td>0.0</td>\n",
       "      <td>0.0</td>\n",
       "      <td>gesture_roll_greyscale</td>\n",
       "    </tr>\n",
       "    <tr>\n",
       "      <th>5</th>\n",
       "      <td>19</td>\n",
       "      <td>29.0</td>\n",
       "      <td>0.0</td>\n",
       "      <td>29</td>\n",
       "      <td>29</td>\n",
       "      <td>1</td>\n",
       "      <td>29.0</td>\n",
       "      <td>0.0</td>\n",
       "      <td>0.0</td>\n",
       "      <td>0.0</td>\n",
       "      <td>gesture_roll_greyscale</td>\n",
       "    </tr>\n",
       "    <tr>\n",
       "      <th>6</th>\n",
       "      <td>23</td>\n",
       "      <td>41.0</td>\n",
       "      <td>0.0</td>\n",
       "      <td>41</td>\n",
       "      <td>41</td>\n",
       "      <td>1</td>\n",
       "      <td>41.0</td>\n",
       "      <td>0.0</td>\n",
       "      <td>0.0</td>\n",
       "      <td>0.0</td>\n",
       "      <td>gesture_roll_greyscale</td>\n",
       "    </tr>\n",
       "    <tr>\n",
       "      <th>7</th>\n",
       "      <td>24</td>\n",
       "      <td>18.0</td>\n",
       "      <td>0.0</td>\n",
       "      <td>18</td>\n",
       "      <td>18</td>\n",
       "      <td>1</td>\n",
       "      <td>18.0</td>\n",
       "      <td>0.0</td>\n",
       "      <td>0.0</td>\n",
       "      <td>0.0</td>\n",
       "      <td>gesture_roll_greyscale</td>\n",
       "    </tr>\n",
       "    <tr>\n",
       "      <th>8</th>\n",
       "      <td>25</td>\n",
       "      <td>16.0</td>\n",
       "      <td>0.0</td>\n",
       "      <td>16</td>\n",
       "      <td>16</td>\n",
       "      <td>1</td>\n",
       "      <td>16.0</td>\n",
       "      <td>0.0</td>\n",
       "      <td>0.0</td>\n",
       "      <td>0.0</td>\n",
       "      <td>gesture_roll_greyscale</td>\n",
       "    </tr>\n",
       "    <tr>\n",
       "      <th>9</th>\n",
       "      <td>27</td>\n",
       "      <td>20.0</td>\n",
       "      <td>0.0</td>\n",
       "      <td>20</td>\n",
       "      <td>20</td>\n",
       "      <td>1</td>\n",
       "      <td>20.0</td>\n",
       "      <td>0.0</td>\n",
       "      <td>0.0</td>\n",
       "      <td>0.0</td>\n",
       "      <td>gesture_roll_greyscale</td>\n",
       "    </tr>\n",
       "    <tr>\n",
       "      <th>10</th>\n",
       "      <td>31</td>\n",
       "      <td>41.0</td>\n",
       "      <td>0.0</td>\n",
       "      <td>41</td>\n",
       "      <td>41</td>\n",
       "      <td>1</td>\n",
       "      <td>41.0</td>\n",
       "      <td>0.0</td>\n",
       "      <td>0.0</td>\n",
       "      <td>0.0</td>\n",
       "      <td>gesture_roll_greyscale</td>\n",
       "    </tr>\n",
       "    <tr>\n",
       "      <th>11</th>\n",
       "      <td>32</td>\n",
       "      <td>21.0</td>\n",
       "      <td>0.0</td>\n",
       "      <td>21</td>\n",
       "      <td>21</td>\n",
       "      <td>1</td>\n",
       "      <td>21.0</td>\n",
       "      <td>0.0</td>\n",
       "      <td>0.0</td>\n",
       "      <td>0.0</td>\n",
       "      <td>gesture_roll_greyscale</td>\n",
       "    </tr>\n",
       "    <tr>\n",
       "      <th>12</th>\n",
       "      <td>33</td>\n",
       "      <td>24.0</td>\n",
       "      <td>0.0</td>\n",
       "      <td>24</td>\n",
       "      <td>24</td>\n",
       "      <td>1</td>\n",
       "      <td>24.0</td>\n",
       "      <td>0.0</td>\n",
       "      <td>0.0</td>\n",
       "      <td>0.0</td>\n",
       "      <td>gesture_roll_greyscale</td>\n",
       "    </tr>\n",
       "    <tr>\n",
       "      <th>13</th>\n",
       "      <td>34</td>\n",
       "      <td>16.0</td>\n",
       "      <td>0.0</td>\n",
       "      <td>16</td>\n",
       "      <td>16</td>\n",
       "      <td>1</td>\n",
       "      <td>16.0</td>\n",
       "      <td>0.0</td>\n",
       "      <td>0.0</td>\n",
       "      <td>0.0</td>\n",
       "      <td>gesture_roll_greyscale</td>\n",
       "    </tr>\n",
       "    <tr>\n",
       "      <th>14</th>\n",
       "      <td>36</td>\n",
       "      <td>26.0</td>\n",
       "      <td>0.0</td>\n",
       "      <td>26</td>\n",
       "      <td>26</td>\n",
       "      <td>1</td>\n",
       "      <td>26.0</td>\n",
       "      <td>0.0</td>\n",
       "      <td>0.0</td>\n",
       "      <td>0.0</td>\n",
       "      <td>gesture_roll_greyscale</td>\n",
       "    </tr>\n",
       "    <tr>\n",
       "      <th>15</th>\n",
       "      <td>42</td>\n",
       "      <td>25.0</td>\n",
       "      <td>0.0</td>\n",
       "      <td>25</td>\n",
       "      <td>25</td>\n",
       "      <td>1</td>\n",
       "      <td>25.0</td>\n",
       "      <td>0.0</td>\n",
       "      <td>0.0</td>\n",
       "      <td>0.0</td>\n",
       "      <td>gesture_roll_greyscale</td>\n",
       "    </tr>\n",
       "    <tr>\n",
       "      <th>16</th>\n",
       "      <td>44</td>\n",
       "      <td>36.0</td>\n",
       "      <td>0.0</td>\n",
       "      <td>36</td>\n",
       "      <td>36</td>\n",
       "      <td>1</td>\n",
       "      <td>36.0</td>\n",
       "      <td>0.0</td>\n",
       "      <td>0.0</td>\n",
       "      <td>0.0</td>\n",
       "      <td>gesture_roll_greyscale</td>\n",
       "    </tr>\n",
       "    <tr>\n",
       "      <th>17</th>\n",
       "      <td>49</td>\n",
       "      <td>34.0</td>\n",
       "      <td>0.0</td>\n",
       "      <td>34</td>\n",
       "      <td>34</td>\n",
       "      <td>1</td>\n",
       "      <td>34.0</td>\n",
       "      <td>0.0</td>\n",
       "      <td>0.0</td>\n",
       "      <td>0.0</td>\n",
       "      <td>gesture_roll_greyscale</td>\n",
       "    </tr>\n",
       "  </tbody>\n",
       "</table>\n",
       "</div>"
      ],
      "text/plain": [
       "    truth  mean  std  min  max  count  median  iqr  skew  kurtosis  \\\n",
       "0       6  14.0  0.0   14   14      1    14.0  0.0   0.0       0.0   \n",
       "1       9  28.0  0.0   28   28      1    28.0  0.0   0.0       0.0   \n",
       "2      13  12.0  0.0   12   12      1    12.0  0.0   0.0       0.0   \n",
       "3      15  23.0  0.0   23   23      1    23.0  0.0   0.0       0.0   \n",
       "4      17  29.0  0.0   29   29      1    29.0  0.0   0.0       0.0   \n",
       "5      19  29.0  0.0   29   29      1    29.0  0.0   0.0       0.0   \n",
       "6      23  41.0  0.0   41   41      1    41.0  0.0   0.0       0.0   \n",
       "7      24  18.0  0.0   18   18      1    18.0  0.0   0.0       0.0   \n",
       "8      25  16.0  0.0   16   16      1    16.0  0.0   0.0       0.0   \n",
       "9      27  20.0  0.0   20   20      1    20.0  0.0   0.0       0.0   \n",
       "10     31  41.0  0.0   41   41      1    41.0  0.0   0.0       0.0   \n",
       "11     32  21.0  0.0   21   21      1    21.0  0.0   0.0       0.0   \n",
       "12     33  24.0  0.0   24   24      1    24.0  0.0   0.0       0.0   \n",
       "13     34  16.0  0.0   16   16      1    16.0  0.0   0.0       0.0   \n",
       "14     36  26.0  0.0   26   26      1    26.0  0.0   0.0       0.0   \n",
       "15     42  25.0  0.0   25   25      1    25.0  0.0   0.0       0.0   \n",
       "16     44  36.0  0.0   36   36      1    36.0  0.0   0.0       0.0   \n",
       "17     49  34.0  0.0   34   34      1    34.0  0.0   0.0       0.0   \n",
       "\n",
       "           experiment_type  \n",
       "0   gesture_roll_greyscale  \n",
       "1   gesture_roll_greyscale  \n",
       "2   gesture_roll_greyscale  \n",
       "3   gesture_roll_greyscale  \n",
       "4   gesture_roll_greyscale  \n",
       "5   gesture_roll_greyscale  \n",
       "6   gesture_roll_greyscale  \n",
       "7   gesture_roll_greyscale  \n",
       "8   gesture_roll_greyscale  \n",
       "9   gesture_roll_greyscale  \n",
       "10  gesture_roll_greyscale  \n",
       "11  gesture_roll_greyscale  \n",
       "12  gesture_roll_greyscale  \n",
       "13  gesture_roll_greyscale  \n",
       "14  gesture_roll_greyscale  \n",
       "15  gesture_roll_greyscale  \n",
       "16  gesture_roll_greyscale  \n",
       "17  gesture_roll_greyscale  "
      ]
     },
     "metadata": {},
     "output_type": "display_data"
    },
    {
     "data": {
      "text/html": [
       "<div>\n",
       "<style scoped>\n",
       "    .dataframe tbody tr th:only-of-type {\n",
       "        vertical-align: middle;\n",
       "    }\n",
       "\n",
       "    .dataframe tbody tr th {\n",
       "        vertical-align: top;\n",
       "    }\n",
       "\n",
       "    .dataframe thead th {\n",
       "        text-align: right;\n",
       "    }\n",
       "</style>\n",
       "<table border=\"1\" class=\"dataframe\">\n",
       "  <thead>\n",
       "    <tr style=\"text-align: right;\">\n",
       "      <th></th>\n",
       "      <th>truth</th>\n",
       "      <th>mean</th>\n",
       "      <th>std</th>\n",
       "      <th>min</th>\n",
       "      <th>max</th>\n",
       "      <th>count</th>\n",
       "      <th>median</th>\n",
       "      <th>iqr</th>\n",
       "      <th>skew</th>\n",
       "      <th>kurtosis</th>\n",
       "      <th>experiment_type</th>\n",
       "    </tr>\n",
       "  </thead>\n",
       "  <tbody>\n",
       "    <tr>\n",
       "      <th>0</th>\n",
       "      <td>5</td>\n",
       "      <td>5.583582</td>\n",
       "      <td>0.0</td>\n",
       "      <td>5.583582</td>\n",
       "      <td>5.583582</td>\n",
       "      <td>1</td>\n",
       "      <td>5.583582</td>\n",
       "      <td>0.0</td>\n",
       "      <td>0.0</td>\n",
       "      <td>0.0</td>\n",
       "      <td>slider_number</td>\n",
       "    </tr>\n",
       "    <tr>\n",
       "      <th>1</th>\n",
       "      <td>10</td>\n",
       "      <td>9.044641</td>\n",
       "      <td>0.0</td>\n",
       "      <td>9.044641</td>\n",
       "      <td>9.044641</td>\n",
       "      <td>1</td>\n",
       "      <td>9.044641</td>\n",
       "      <td>0.0</td>\n",
       "      <td>0.0</td>\n",
       "      <td>0.0</td>\n",
       "      <td>slider_number</td>\n",
       "    </tr>\n",
       "    <tr>\n",
       "      <th>2</th>\n",
       "      <td>11</td>\n",
       "      <td>6.660311</td>\n",
       "      <td>0.0</td>\n",
       "      <td>6.660311</td>\n",
       "      <td>6.660311</td>\n",
       "      <td>1</td>\n",
       "      <td>6.660311</td>\n",
       "      <td>0.0</td>\n",
       "      <td>0.0</td>\n",
       "      <td>0.0</td>\n",
       "      <td>slider_number</td>\n",
       "    </tr>\n",
       "    <tr>\n",
       "      <th>3</th>\n",
       "      <td>16</td>\n",
       "      <td>11.629489</td>\n",
       "      <td>0.0</td>\n",
       "      <td>11.629489</td>\n",
       "      <td>11.629489</td>\n",
       "      <td>1</td>\n",
       "      <td>11.629489</td>\n",
       "      <td>0.0</td>\n",
       "      <td>0.0</td>\n",
       "      <td>0.0</td>\n",
       "      <td>slider_number</td>\n",
       "    </tr>\n",
       "    <tr>\n",
       "      <th>4</th>\n",
       "      <td>27</td>\n",
       "      <td>26.547758</td>\n",
       "      <td>0.0</td>\n",
       "      <td>26.547758</td>\n",
       "      <td>26.547758</td>\n",
       "      <td>1</td>\n",
       "      <td>26.547758</td>\n",
       "      <td>0.0</td>\n",
       "      <td>0.0</td>\n",
       "      <td>0.0</td>\n",
       "      <td>slider_number</td>\n",
       "    </tr>\n",
       "    <tr>\n",
       "      <th>5</th>\n",
       "      <td>31</td>\n",
       "      <td>22.167535</td>\n",
       "      <td>0.0</td>\n",
       "      <td>22.167535</td>\n",
       "      <td>22.167535</td>\n",
       "      <td>1</td>\n",
       "      <td>22.167535</td>\n",
       "      <td>0.0</td>\n",
       "      <td>0.0</td>\n",
       "      <td>0.0</td>\n",
       "      <td>slider_number</td>\n",
       "    </tr>\n",
       "    <tr>\n",
       "      <th>6</th>\n",
       "      <td>34</td>\n",
       "      <td>23.348454</td>\n",
       "      <td>0.0</td>\n",
       "      <td>23.348454</td>\n",
       "      <td>23.348454</td>\n",
       "      <td>1</td>\n",
       "      <td>23.348454</td>\n",
       "      <td>0.0</td>\n",
       "      <td>0.0</td>\n",
       "      <td>0.0</td>\n",
       "      <td>slider_number</td>\n",
       "    </tr>\n",
       "    <tr>\n",
       "      <th>7</th>\n",
       "      <td>39</td>\n",
       "      <td>35.755673</td>\n",
       "      <td>0.0</td>\n",
       "      <td>35.755673</td>\n",
       "      <td>35.755673</td>\n",
       "      <td>1</td>\n",
       "      <td>35.755673</td>\n",
       "      <td>0.0</td>\n",
       "      <td>0.0</td>\n",
       "      <td>0.0</td>\n",
       "      <td>slider_number</td>\n",
       "    </tr>\n",
       "    <tr>\n",
       "      <th>8</th>\n",
       "      <td>40</td>\n",
       "      <td>15.061070</td>\n",
       "      <td>0.0</td>\n",
       "      <td>15.061070</td>\n",
       "      <td>15.061070</td>\n",
       "      <td>1</td>\n",
       "      <td>15.061070</td>\n",
       "      <td>0.0</td>\n",
       "      <td>0.0</td>\n",
       "      <td>0.0</td>\n",
       "      <td>slider_number</td>\n",
       "    </tr>\n",
       "    <tr>\n",
       "      <th>9</th>\n",
       "      <td>49</td>\n",
       "      <td>50.490977</td>\n",
       "      <td>0.0</td>\n",
       "      <td>50.490977</td>\n",
       "      <td>50.490977</td>\n",
       "      <td>1</td>\n",
       "      <td>50.490977</td>\n",
       "      <td>0.0</td>\n",
       "      <td>0.0</td>\n",
       "      <td>0.0</td>\n",
       "      <td>slider_number</td>\n",
       "    </tr>\n",
       "    <tr>\n",
       "      <th>10</th>\n",
       "      <td>51</td>\n",
       "      <td>53.388262</td>\n",
       "      <td>0.0</td>\n",
       "      <td>53.388262</td>\n",
       "      <td>53.388262</td>\n",
       "      <td>1</td>\n",
       "      <td>53.388262</td>\n",
       "      <td>0.0</td>\n",
       "      <td>0.0</td>\n",
       "      <td>0.0</td>\n",
       "      <td>slider_number</td>\n",
       "    </tr>\n",
       "    <tr>\n",
       "      <th>11</th>\n",
       "      <td>59</td>\n",
       "      <td>61.715938</td>\n",
       "      <td>0.0</td>\n",
       "      <td>61.715938</td>\n",
       "      <td>61.715938</td>\n",
       "      <td>1</td>\n",
       "      <td>61.715938</td>\n",
       "      <td>0.0</td>\n",
       "      <td>0.0</td>\n",
       "      <td>0.0</td>\n",
       "      <td>slider_number</td>\n",
       "    </tr>\n",
       "    <tr>\n",
       "      <th>12</th>\n",
       "      <td>61</td>\n",
       "      <td>63.674192</td>\n",
       "      <td>0.0</td>\n",
       "      <td>63.674192</td>\n",
       "      <td>63.674192</td>\n",
       "      <td>1</td>\n",
       "      <td>63.674192</td>\n",
       "      <td>0.0</td>\n",
       "      <td>0.0</td>\n",
       "      <td>0.0</td>\n",
       "      <td>slider_number</td>\n",
       "    </tr>\n",
       "    <tr>\n",
       "      <th>13</th>\n",
       "      <td>79</td>\n",
       "      <td>89.814848</td>\n",
       "      <td>0.0</td>\n",
       "      <td>89.814848</td>\n",
       "      <td>89.814848</td>\n",
       "      <td>1</td>\n",
       "      <td>89.814848</td>\n",
       "      <td>0.0</td>\n",
       "      <td>0.0</td>\n",
       "      <td>0.0</td>\n",
       "      <td>slider_number</td>\n",
       "    </tr>\n",
       "    <tr>\n",
       "      <th>14</th>\n",
       "      <td>83</td>\n",
       "      <td>85.321123</td>\n",
       "      <td>0.0</td>\n",
       "      <td>85.321123</td>\n",
       "      <td>85.321123</td>\n",
       "      <td>1</td>\n",
       "      <td>85.321123</td>\n",
       "      <td>0.0</td>\n",
       "      <td>0.0</td>\n",
       "      <td>0.0</td>\n",
       "      <td>slider_number</td>\n",
       "    </tr>\n",
       "    <tr>\n",
       "      <th>15</th>\n",
       "      <td>86</td>\n",
       "      <td>88.193866</td>\n",
       "      <td>0.0</td>\n",
       "      <td>88.193866</td>\n",
       "      <td>88.193866</td>\n",
       "      <td>1</td>\n",
       "      <td>88.193866</td>\n",
       "      <td>0.0</td>\n",
       "      <td>0.0</td>\n",
       "      <td>0.0</td>\n",
       "      <td>slider_number</td>\n",
       "    </tr>\n",
       "    <tr>\n",
       "      <th>16</th>\n",
       "      <td>88</td>\n",
       "      <td>83.666650</td>\n",
       "      <td>0.0</td>\n",
       "      <td>83.666650</td>\n",
       "      <td>83.666650</td>\n",
       "      <td>1</td>\n",
       "      <td>83.666650</td>\n",
       "      <td>0.0</td>\n",
       "      <td>0.0</td>\n",
       "      <td>0.0</td>\n",
       "      <td>slider_number</td>\n",
       "    </tr>\n",
       "    <tr>\n",
       "      <th>17</th>\n",
       "      <td>89</td>\n",
       "      <td>91.702067</td>\n",
       "      <td>0.0</td>\n",
       "      <td>91.702067</td>\n",
       "      <td>91.702067</td>\n",
       "      <td>1</td>\n",
       "      <td>91.702067</td>\n",
       "      <td>0.0</td>\n",
       "      <td>0.0</td>\n",
       "      <td>0.0</td>\n",
       "      <td>slider_number</td>\n",
       "    </tr>\n",
       "    <tr>\n",
       "      <th>18</th>\n",
       "      <td>92</td>\n",
       "      <td>91.329365</td>\n",
       "      <td>0.0</td>\n",
       "      <td>91.329365</td>\n",
       "      <td>91.329365</td>\n",
       "      <td>1</td>\n",
       "      <td>91.329365</td>\n",
       "      <td>0.0</td>\n",
       "      <td>0.0</td>\n",
       "      <td>0.0</td>\n",
       "      <td>slider_number</td>\n",
       "    </tr>\n",
       "    <tr>\n",
       "      <th>19</th>\n",
       "      <td>94</td>\n",
       "      <td>97.059559</td>\n",
       "      <td>0.0</td>\n",
       "      <td>97.059559</td>\n",
       "      <td>97.059559</td>\n",
       "      <td>1</td>\n",
       "      <td>97.059559</td>\n",
       "      <td>0.0</td>\n",
       "      <td>0.0</td>\n",
       "      <td>0.0</td>\n",
       "      <td>slider_number</td>\n",
       "    </tr>\n",
       "  </tbody>\n",
       "</table>\n",
       "</div>"
      ],
      "text/plain": [
       "    truth       mean  std        min        max  count     median  iqr  skew  \\\n",
       "0       5   5.583582  0.0   5.583582   5.583582      1   5.583582  0.0   0.0   \n",
       "1      10   9.044641  0.0   9.044641   9.044641      1   9.044641  0.0   0.0   \n",
       "2      11   6.660311  0.0   6.660311   6.660311      1   6.660311  0.0   0.0   \n",
       "3      16  11.629489  0.0  11.629489  11.629489      1  11.629489  0.0   0.0   \n",
       "4      27  26.547758  0.0  26.547758  26.547758      1  26.547758  0.0   0.0   \n",
       "5      31  22.167535  0.0  22.167535  22.167535      1  22.167535  0.0   0.0   \n",
       "6      34  23.348454  0.0  23.348454  23.348454      1  23.348454  0.0   0.0   \n",
       "7      39  35.755673  0.0  35.755673  35.755673      1  35.755673  0.0   0.0   \n",
       "8      40  15.061070  0.0  15.061070  15.061070      1  15.061070  0.0   0.0   \n",
       "9      49  50.490977  0.0  50.490977  50.490977      1  50.490977  0.0   0.0   \n",
       "10     51  53.388262  0.0  53.388262  53.388262      1  53.388262  0.0   0.0   \n",
       "11     59  61.715938  0.0  61.715938  61.715938      1  61.715938  0.0   0.0   \n",
       "12     61  63.674192  0.0  63.674192  63.674192      1  63.674192  0.0   0.0   \n",
       "13     79  89.814848  0.0  89.814848  89.814848      1  89.814848  0.0   0.0   \n",
       "14     83  85.321123  0.0  85.321123  85.321123      1  85.321123  0.0   0.0   \n",
       "15     86  88.193866  0.0  88.193866  88.193866      1  88.193866  0.0   0.0   \n",
       "16     88  83.666650  0.0  83.666650  83.666650      1  83.666650  0.0   0.0   \n",
       "17     89  91.702067  0.0  91.702067  91.702067      1  91.702067  0.0   0.0   \n",
       "18     92  91.329365  0.0  91.329365  91.329365      1  91.329365  0.0   0.0   \n",
       "19     94  97.059559  0.0  97.059559  97.059559      1  97.059559  0.0   0.0   \n",
       "\n",
       "    kurtosis experiment_type  \n",
       "0        0.0   slider_number  \n",
       "1        0.0   slider_number  \n",
       "2        0.0   slider_number  \n",
       "3        0.0   slider_number  \n",
       "4        0.0   slider_number  \n",
       "5        0.0   slider_number  \n",
       "6        0.0   slider_number  \n",
       "7        0.0   slider_number  \n",
       "8        0.0   slider_number  \n",
       "9        0.0   slider_number  \n",
       "10       0.0   slider_number  \n",
       "11       0.0   slider_number  \n",
       "12       0.0   slider_number  \n",
       "13       0.0   slider_number  \n",
       "14       0.0   slider_number  \n",
       "15       0.0   slider_number  \n",
       "16       0.0   slider_number  \n",
       "17       0.0   slider_number  \n",
       "18       0.0   slider_number  \n",
       "19       0.0   slider_number  "
      ]
     },
     "metadata": {},
     "output_type": "display_data"
    },
    {
     "data": {
      "text/html": [
       "<div>\n",
       "<style scoped>\n",
       "    .dataframe tbody tr th:only-of-type {\n",
       "        vertical-align: middle;\n",
       "    }\n",
       "\n",
       "    .dataframe tbody tr th {\n",
       "        vertical-align: top;\n",
       "    }\n",
       "\n",
       "    .dataframe thead th {\n",
       "        text-align: right;\n",
       "    }\n",
       "</style>\n",
       "<table border=\"1\" class=\"dataframe\">\n",
       "  <thead>\n",
       "    <tr style=\"text-align: right;\">\n",
       "      <th></th>\n",
       "      <th>truth</th>\n",
       "      <th>mean</th>\n",
       "      <th>std</th>\n",
       "      <th>min</th>\n",
       "      <th>max</th>\n",
       "      <th>count</th>\n",
       "      <th>median</th>\n",
       "      <th>iqr</th>\n",
       "      <th>skew</th>\n",
       "      <th>kurtosis</th>\n",
       "      <th>experiment_type</th>\n",
       "    </tr>\n",
       "  </thead>\n",
       "  <tbody>\n",
       "    <tr>\n",
       "      <th>0</th>\n",
       "      <td>1</td>\n",
       "      <td>0.426171</td>\n",
       "      <td>0.000000</td>\n",
       "      <td>0.426171</td>\n",
       "      <td>0.426171</td>\n",
       "      <td>1</td>\n",
       "      <td>0.426171</td>\n",
       "      <td>0.00000</td>\n",
       "      <td>0.000000e+00</td>\n",
       "      <td>0.0</td>\n",
       "      <td>slider_greyscale</td>\n",
       "    </tr>\n",
       "    <tr>\n",
       "      <th>1</th>\n",
       "      <td>2</td>\n",
       "      <td>11.242814</td>\n",
       "      <td>14.032548</td>\n",
       "      <td>1.320304</td>\n",
       "      <td>21.165323</td>\n",
       "      <td>2</td>\n",
       "      <td>11.242814</td>\n",
       "      <td>9.92251</td>\n",
       "      <td>2.909281e-16</td>\n",
       "      <td>-2.0</td>\n",
       "      <td>slider_greyscale</td>\n",
       "    </tr>\n",
       "    <tr>\n",
       "      <th>2</th>\n",
       "      <td>6</td>\n",
       "      <td>30.175503</td>\n",
       "      <td>0.000000</td>\n",
       "      <td>30.175503</td>\n",
       "      <td>30.175503</td>\n",
       "      <td>1</td>\n",
       "      <td>30.175503</td>\n",
       "      <td>0.00000</td>\n",
       "      <td>0.000000e+00</td>\n",
       "      <td>0.0</td>\n",
       "      <td>slider_greyscale</td>\n",
       "    </tr>\n",
       "    <tr>\n",
       "      <th>3</th>\n",
       "      <td>7</td>\n",
       "      <td>22.779536</td>\n",
       "      <td>0.000000</td>\n",
       "      <td>22.779536</td>\n",
       "      <td>22.779536</td>\n",
       "      <td>1</td>\n",
       "      <td>22.779536</td>\n",
       "      <td>0.00000</td>\n",
       "      <td>0.000000e+00</td>\n",
       "      <td>0.0</td>\n",
       "      <td>slider_greyscale</td>\n",
       "    </tr>\n",
       "    <tr>\n",
       "      <th>4</th>\n",
       "      <td>13</td>\n",
       "      <td>2.565144</td>\n",
       "      <td>0.000000</td>\n",
       "      <td>2.565144</td>\n",
       "      <td>2.565144</td>\n",
       "      <td>1</td>\n",
       "      <td>2.565144</td>\n",
       "      <td>0.00000</td>\n",
       "      <td>0.000000e+00</td>\n",
       "      <td>0.0</td>\n",
       "      <td>slider_greyscale</td>\n",
       "    </tr>\n",
       "    <tr>\n",
       "      <th>5</th>\n",
       "      <td>15</td>\n",
       "      <td>7.510580</td>\n",
       "      <td>0.000000</td>\n",
       "      <td>7.510580</td>\n",
       "      <td>7.510580</td>\n",
       "      <td>1</td>\n",
       "      <td>7.510580</td>\n",
       "      <td>0.00000</td>\n",
       "      <td>0.000000e+00</td>\n",
       "      <td>0.0</td>\n",
       "      <td>slider_greyscale</td>\n",
       "    </tr>\n",
       "    <tr>\n",
       "      <th>6</th>\n",
       "      <td>16</td>\n",
       "      <td>40.328140</td>\n",
       "      <td>0.000000</td>\n",
       "      <td>40.328140</td>\n",
       "      <td>40.328140</td>\n",
       "      <td>1</td>\n",
       "      <td>40.328140</td>\n",
       "      <td>0.00000</td>\n",
       "      <td>0.000000e+00</td>\n",
       "      <td>0.0</td>\n",
       "      <td>slider_greyscale</td>\n",
       "    </tr>\n",
       "    <tr>\n",
       "      <th>7</th>\n",
       "      <td>18</td>\n",
       "      <td>0.000000</td>\n",
       "      <td>0.000000</td>\n",
       "      <td>0.000000</td>\n",
       "      <td>0.000000</td>\n",
       "      <td>1</td>\n",
       "      <td>0.000000</td>\n",
       "      <td>0.00000</td>\n",
       "      <td>0.000000e+00</td>\n",
       "      <td>0.0</td>\n",
       "      <td>slider_greyscale</td>\n",
       "    </tr>\n",
       "    <tr>\n",
       "      <th>8</th>\n",
       "      <td>20</td>\n",
       "      <td>25.841558</td>\n",
       "      <td>0.000000</td>\n",
       "      <td>25.841558</td>\n",
       "      <td>25.841558</td>\n",
       "      <td>1</td>\n",
       "      <td>25.841558</td>\n",
       "      <td>0.00000</td>\n",
       "      <td>0.000000e+00</td>\n",
       "      <td>0.0</td>\n",
       "      <td>slider_greyscale</td>\n",
       "    </tr>\n",
       "    <tr>\n",
       "      <th>9</th>\n",
       "      <td>21</td>\n",
       "      <td>5.326400</td>\n",
       "      <td>0.000000</td>\n",
       "      <td>5.326400</td>\n",
       "      <td>5.326400</td>\n",
       "      <td>1</td>\n",
       "      <td>5.326400</td>\n",
       "      <td>0.00000</td>\n",
       "      <td>0.000000e+00</td>\n",
       "      <td>0.0</td>\n",
       "      <td>slider_greyscale</td>\n",
       "    </tr>\n",
       "    <tr>\n",
       "      <th>10</th>\n",
       "      <td>26</td>\n",
       "      <td>48.807005</td>\n",
       "      <td>0.000000</td>\n",
       "      <td>48.807005</td>\n",
       "      <td>48.807005</td>\n",
       "      <td>1</td>\n",
       "      <td>48.807005</td>\n",
       "      <td>0.00000</td>\n",
       "      <td>0.000000e+00</td>\n",
       "      <td>0.0</td>\n",
       "      <td>slider_greyscale</td>\n",
       "    </tr>\n",
       "    <tr>\n",
       "      <th>11</th>\n",
       "      <td>28</td>\n",
       "      <td>6.108612</td>\n",
       "      <td>0.000000</td>\n",
       "      <td>6.108612</td>\n",
       "      <td>6.108612</td>\n",
       "      <td>1</td>\n",
       "      <td>6.108612</td>\n",
       "      <td>0.00000</td>\n",
       "      <td>0.000000e+00</td>\n",
       "      <td>0.0</td>\n",
       "      <td>slider_greyscale</td>\n",
       "    </tr>\n",
       "    <tr>\n",
       "      <th>12</th>\n",
       "      <td>31</td>\n",
       "      <td>25.844795</td>\n",
       "      <td>0.000000</td>\n",
       "      <td>25.844795</td>\n",
       "      <td>25.844795</td>\n",
       "      <td>1</td>\n",
       "      <td>25.844795</td>\n",
       "      <td>0.00000</td>\n",
       "      <td>0.000000e+00</td>\n",
       "      <td>0.0</td>\n",
       "      <td>slider_greyscale</td>\n",
       "    </tr>\n",
       "    <tr>\n",
       "      <th>13</th>\n",
       "      <td>39</td>\n",
       "      <td>39.455783</td>\n",
       "      <td>0.000000</td>\n",
       "      <td>39.455783</td>\n",
       "      <td>39.455783</td>\n",
       "      <td>1</td>\n",
       "      <td>39.455783</td>\n",
       "      <td>0.00000</td>\n",
       "      <td>0.000000e+00</td>\n",
       "      <td>0.0</td>\n",
       "      <td>slider_greyscale</td>\n",
       "    </tr>\n",
       "  </tbody>\n",
       "</table>\n",
       "</div>"
      ],
      "text/plain": [
       "    truth       mean        std        min        max  count     median  \\\n",
       "0       1   0.426171   0.000000   0.426171   0.426171      1   0.426171   \n",
       "1       2  11.242814  14.032548   1.320304  21.165323      2  11.242814   \n",
       "2       6  30.175503   0.000000  30.175503  30.175503      1  30.175503   \n",
       "3       7  22.779536   0.000000  22.779536  22.779536      1  22.779536   \n",
       "4      13   2.565144   0.000000   2.565144   2.565144      1   2.565144   \n",
       "5      15   7.510580   0.000000   7.510580   7.510580      1   7.510580   \n",
       "6      16  40.328140   0.000000  40.328140  40.328140      1  40.328140   \n",
       "7      18   0.000000   0.000000   0.000000   0.000000      1   0.000000   \n",
       "8      20  25.841558   0.000000  25.841558  25.841558      1  25.841558   \n",
       "9      21   5.326400   0.000000   5.326400   5.326400      1   5.326400   \n",
       "10     26  48.807005   0.000000  48.807005  48.807005      1  48.807005   \n",
       "11     28   6.108612   0.000000   6.108612   6.108612      1   6.108612   \n",
       "12     31  25.844795   0.000000  25.844795  25.844795      1  25.844795   \n",
       "13     39  39.455783   0.000000  39.455783  39.455783      1  39.455783   \n",
       "\n",
       "        iqr          skew  kurtosis   experiment_type  \n",
       "0   0.00000  0.000000e+00       0.0  slider_greyscale  \n",
       "1   9.92251  2.909281e-16      -2.0  slider_greyscale  \n",
       "2   0.00000  0.000000e+00       0.0  slider_greyscale  \n",
       "3   0.00000  0.000000e+00       0.0  slider_greyscale  \n",
       "4   0.00000  0.000000e+00       0.0  slider_greyscale  \n",
       "5   0.00000  0.000000e+00       0.0  slider_greyscale  \n",
       "6   0.00000  0.000000e+00       0.0  slider_greyscale  \n",
       "7   0.00000  0.000000e+00       0.0  slider_greyscale  \n",
       "8   0.00000  0.000000e+00       0.0  slider_greyscale  \n",
       "9   0.00000  0.000000e+00       0.0  slider_greyscale  \n",
       "10  0.00000  0.000000e+00       0.0  slider_greyscale  \n",
       "11  0.00000  0.000000e+00       0.0  slider_greyscale  \n",
       "12  0.00000  0.000000e+00       0.0  slider_greyscale  \n",
       "13  0.00000  0.000000e+00       0.0  slider_greyscale  "
      ]
     },
     "metadata": {},
     "output_type": "display_data"
    }
   ],
   "source": [
    "def calculate_summary_statistics(experiment_type, truth_type):\n",
    "    filtered_df = df[df['experiment_type'] == experiment_type]\n",
    "    grouped = filtered_df.groupby('truth')[truth_type].agg(['mean', 'std', 'min', 'max', 'count', 'median'])\n",
    "    grouped['iqr'] = filtered_df.groupby('truth')[truth_type].apply(iqr)\n",
    "    grouped['skew'] = filtered_df.groupby('truth')[truth_type].apply(skew)\n",
    "    grouped['kurtosis'] = filtered_df.groupby('truth')[truth_type].apply(kurtosis)\n",
    "    \n",
    "    # Kurtosis and skew calculate NaNs on certain truths (0 and 100), but it's not an issue. Filling NaNs with zeroes\n",
    "    grouped = grouped.fillna(0)\n",
    "    return grouped.reset_index()\n",
    "\n",
    "def generate_summary_tables():\n",
    "    summary_tables = {}\n",
    "    for experiment_type, truth_info in experiment_truth_type.items():\n",
    "        summary_table = calculate_summary_statistics(experiment_type, truth_info['truth'])\n",
    "        summary_table['experiment_type'] = experiment_type\n",
    "        summary_tables[experiment_type] = summary_table\n",
    "    return summary_tables\n",
    "\n",
    "def calculate_truth_diff_percentages(experiment_type, truth_diff_column):\n",
    "    filtered_df = df[df['experiment_type'] == experiment_type]\n",
    "    count = filtered_df.shape[0]\n",
    "    within_5 = (filtered_df[truth_diff_column].abs() <= 5).sum() / count * 100\n",
    "    within_10 = (filtered_df[truth_diff_column].abs() <= 10).sum() / count * 100\n",
    "    within_15 = (filtered_df[truth_diff_column].abs() <= 15).sum() / count * 100\n",
    "    within_20 = (filtered_df[truth_diff_column].abs() <= 20).sum() / count * 100\n",
    "    within_25 = (filtered_df[truth_diff_column].abs() <= 25).sum() / count * 100\n",
    "    return within_5, within_10, within_15, within_20, within_25\n",
    "\n",
    "def calculate_averages_per_experiment_type(summary_tables):\n",
    "    averages = []\n",
    "    for experiment_type, summary_table in summary_tables.items():\n",
    "        within_5, within_10, within_15, within_20, within_25 = calculate_truth_diff_percentages(experiment_type, experiment_truth_type[experiment_type]['truth_diff'])\n",
    "        \n",
    "        time_spent_df = df[df['experiment_type'] == experiment_type].drop_duplicates(subset=['experiment_type'])\n",
    "        time_spent = time_spent_df['experiment_time_spent'].abs().mean()\n",
    "        \n",
    "        averages.append({\n",
    "            'experiment_type': experiment_type,\n",
    "            'time_spent': time_spent,\n",
    "            'mean': summary_table['mean'].mean(),\n",
    "            'std': summary_table['std'].mean(),\n",
    "            'min': summary_table['min'].min(),\n",
    "            'max': summary_table['max'].max(),\n",
    "            'count': summary_table['count'].count(),\n",
    "            'median': summary_table['median'].median(),\n",
    "            'iqr': summary_table['iqr'].mean(),\n",
    "            'skew': summary_table['skew'].mean(),\n",
    "            'kurtosis': summary_table['kurtosis'].mean(),\n",
    "            'within_5_percent': within_5,\n",
    "            'within_10_percent': within_10,\n",
    "            'within_15_percent': within_15,\n",
    "            'within_20_percent': within_20,\n",
    "            'within_25_percent': within_25\n",
    "        })\n",
    "    return pd.DataFrame(averages)\n",
    "\n",
    "summary_tables = generate_summary_tables()\n",
    "averages_df = calculate_averages_per_experiment_type(summary_tables)\n",
    "\n",
    "display(averages_df)\n",
    "\n",
    "for _, summary_table in summary_tables.items():\n",
    "    display(summary_table)"
   ]
  },
  {
   "cell_type": "code",
   "execution_count": 17,
   "metadata": {},
   "outputs": [
    {
     "name": "stdout",
     "output_type": "stream",
     "text": [
      "Pearson correlation coefficient for gesture_pitch_number: 0.4764919937374372\n",
      "t-statistic for gesture_pitch_number: 11.039091378439553, p-value: 2.0396569652974474e-13\n",
      "\n",
      "Pearson correlation coefficient for gesture_pitch_greyscale: -0.4656433595482267\n",
      "t-statistic for gesture_pitch_greyscale: 3.155820927652234, p-value: 0.00427336639289631\n",
      "\n",
      "Pearson correlation coefficient for gesture_roll_number: -0.525108985726155\n",
      "t-statistic for gesture_roll_number: 12.658642649843497, p-value: 3.3270862870836085e-15\n",
      "\n",
      "Pearson correlation coefficient for gesture_roll_greyscale: 0.4235509593160956\n",
      "t-statistic for gesture_roll_greyscale: 6.064190631696433, p-value: 7.110006797202137e-07\n",
      "\n",
      "Pearson correlation coefficient for slider_number: -0.22779938183322582\n",
      "t-statistic for slider_number: 5.969863224368625, p-value: 6.261335567354586e-07\n",
      "\n",
      "Pearson correlation coefficient for slider_greyscale: 0.3067524467967775\n",
      "t-statistic for slider_greyscale: 1.1772816905921604, p-value: 0.24899379611516897\n",
      "\n"
     ]
    }
   ],
   "source": [
    "for experiment_type, truth_info in experiment_truth_type.items():\n",
    "    filtered_df = df[df['experiment_type'] == experiment_type]\n",
    "    truth_column = truth_info['truth']\n",
    "    response_column = truth_info['truth_diff']\n",
    "\n",
    "    pearson_corr, _ = pearsonr(filtered_df[truth_column], filtered_df[response_column])\n",
    "    print(f\"Pearson correlation coefficient for {experiment_type}: {pearson_corr}\")\n",
    "\n",
    "    t_stat, p_value = ttest_ind(filtered_df[truth_column], filtered_df[response_column])\n",
    "    print(f\"t-statistic for {experiment_type}: {t_stat}, p-value: {p_value}\\n\")"
   ]
  }
 ],
 "metadata": {
  "kernelspec": {
   "display_name": "Python 3",
   "language": "python",
   "name": "python3"
  },
  "language_info": {
   "codemirror_mode": {
    "name": "ipython",
    "version": 3
   },
   "file_extension": ".py",
   "mimetype": "text/x-python",
   "name": "python",
   "nbconvert_exporter": "python",
   "pygments_lexer": "ipython3",
   "version": "3.12.3"
  }
 },
 "nbformat": 4,
 "nbformat_minor": 2
}
