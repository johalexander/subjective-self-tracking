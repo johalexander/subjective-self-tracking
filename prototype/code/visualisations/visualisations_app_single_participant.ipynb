{
 "cells": [
  {
   "cell_type": "code",
   "execution_count": 27,
   "metadata": {},
   "outputs": [],
   "source": [
    "import pandas as pd\n",
    "import numpy as np\n",
    "import json\n",
    "import calculations\n",
    "import plotly.express as px\n",
    "import plotly.subplots as sp\n",
    "import plotly.graph_objects as go\n",
    "from scipy.stats import iqr, skew, kurtosis"
   ]
  },
  {
   "cell_type": "code",
   "execution_count": 28,
   "metadata": {},
   "outputs": [],
   "source": [
    "# Process data\n",
    "   \n",
    "stimuli = []\n",
    "scale_type = {\n",
    "    \"gesture_pitch_number\": 100,\n",
    "    \"gesture_pitch_greyscale\": 49,\n",
    "    \"gesture_roll_number\": 100,\n",
    "    \"gesture_roll_greyscale\": 49,\n",
    "    \"slider_number\": 1,\n",
    "    \"slider_greyscale\": 1,\n",
    "}\n",
    "\n",
    "with open('experiment_data/experiment_data_14.json', 'r') as file:\n",
    "    data = json.load(file)\n",
    "\n",
    "    if data:\n",
    "        for experiment in data[\"completedExperiments\"]:\n",
    "            experiment_type = experiment.get(\"experimentType\")\n",
    "            for stimulus in experiment[\"successfulStimuli\"]:\n",
    "                sensor_reading = stimulus.get(\"sensorReading\", {})\n",
    "                quaternion = (\n",
    "                    sensor_reading.get(\"x\"),\n",
    "                    sensor_reading.get(\"y\"),\n",
    "                    sensor_reading.get(\"z\"),\n",
    "                    sensor_reading.get(\"w\"),\n",
    "                )\n",
    "                _, roll, pitch = calculations.quaternion_to_euler(*quaternion)\n",
    "                \n",
    "                sensor_reading[\"roll\"] = roll\n",
    "                sensor_reading[\"pitch\"] = pitch\n",
    "\n",
    "                pitch_scaled = calculations.scale_pitch(pitch, scale_type[experiment_type])\n",
    "                roll_scaled = calculations.scale_roll(roll, scale_type[experiment_type])\n",
    "                truth_value = stimulus.get(\"truth\")\n",
    "                slider_value = stimulus.get(\"value\")\n",
    "                \n",
    "                pitch_difference = abs(truth_value - pitch_scaled)\n",
    "                roll_difference = abs(truth_value - roll_scaled)\n",
    "\n",
    "                stimulus[\"pitch\"] = pitch\n",
    "                stimulus[\"pitch_truth\"] = pitch_scaled\n",
    "                stimulus[\"pitch_truth_diff\"] = pitch_difference\n",
    "            \n",
    "                stimulus[\"roll\"] = roll\n",
    "                stimulus[\"roll_truth\"] = roll_scaled\n",
    "                stimulus[\"roll_truth_diff\"] = roll_difference\n",
    "                \n",
    "                stimulus[\"slider_diff\"] = abs(truth_value - slider_value)\n",
    "                \n",
    "                if truth_value == 0:\n",
    "                    stimulus[\"pitch_truth_diff_percentage\"] = (pitch_scaled / scale_type[experiment_type]) * 100\n",
    "                    stimulus[\"roll_truth_diff_percentage\"] = (roll_scaled / scale_type[experiment_type]) * 100\n",
    "                else:\n",
    "                    stimulus[\"pitch_truth_diff_percentage\"] = (pitch_difference / truth_value) * 100\n",
    "                    stimulus[\"roll_truth_diff_percentage\"] = (roll_difference / truth_value) * 100\n",
    "                    \n",
    "                stimulus[\"experiment_type\"] = experiment_type\n",
    "                stimulus[\"calibration\"] = sensor_reading.get(\"calibration_status\")\n",
    "                \n",
    "                stimuli.append(stimulus)\n",
    "\n",
    "df = pd.DataFrame(data=stimuli)"
   ]
  },
  {
   "cell_type": "code",
   "execution_count": 29,
   "metadata": {},
   "outputs": [],
   "source": [
    "truth_value_batches_100 = [\n",
    "    [i for i in range(0, 10)],\n",
    "    [i for i in range(10, 20)],\n",
    "    [i for i in range(20, 30)],\n",
    "    [i for i in range(30, 40)],\n",
    "    [i for i in range(40, 50)],\n",
    "    [i for i in range(50, 60)],\n",
    "    [i for i in range(60, 70)],\n",
    "    [i for i in range(70, 80)],\n",
    "    [i for i in range(80, 90)],\n",
    "    [i for i in range(90, 101)]\n",
    "]\n",
    "\n",
    "truth_value_batches_49 = [\n",
    "    [i for i in range(0, 10)],\n",
    "    [i for i in range(10, 20)],\n",
    "    [i for i in range(20, 30)],\n",
    "    [i for i in range(30, 40)],\n",
    "    [i for i in range(40, 50)]\n",
    "]\n",
    "\n",
    "experiment_truth_type = {\n",
    "    \"gesture_pitch_number\": {\n",
    "        \"truth\": \"pitch_truth\",\n",
    "        \"truth_diff\": \"pitch_truth_diff\",\n",
    "        \"label\": \"Pitch Truth\",\n",
    "        \"input_type\": \"device\"\n",
    "    },\n",
    "    \"gesture_pitch_greyscale\": {\n",
    "        \"truth\": \"pitch_truth\",\n",
    "        \"truth_diff\": \"pitch_truth_diff\",\n",
    "        \"label\": \"Pitch Truth\",\n",
    "        \"input_type\": \"device\"\n",
    "    },\n",
    "    \"gesture_roll_number\": {\n",
    "        \"truth\": \"roll_truth\",\n",
    "        \"truth_diff\": \"roll_truth_diff\",\n",
    "        \"label\": \"Roll Truth\",\n",
    "        \"input_type\": \"device\"\n",
    "    },\n",
    "    \"gesture_roll_greyscale\": {\n",
    "        \"truth\": \"roll_truth\",\n",
    "        \"truth_diff\": \"roll_truth_diff\",\n",
    "        \"label\": \"Roll Truth\",\n",
    "        \"input_type\": \"device\"\n",
    "    },\n",
    "    \"slider_number\": {\n",
    "        \"truth\": \"value\",\n",
    "        \"truth_diff\": \"slider_diff\",\n",
    "        \"label\": \"Slider Value\",\n",
    "        \"input_type\": \"slider\"\n",
    "    },\n",
    "    \"slider_greyscale\": {\n",
    "        \"truth\": \"value\",\n",
    "        \"truth_diff\": \"slider_diff\",\n",
    "        \"label\": \"Slider Value\",\n",
    "        \"input_type\": \"slider\"\n",
    "    },\n",
    "}"
   ]
  },
  {
   "cell_type": "code",
   "execution_count": 30,
   "metadata": {},
   "outputs": [
    {
     "data": {
      "text/html": [
       "<div>\n",
       "<style scoped>\n",
       "    .dataframe tbody tr th:only-of-type {\n",
       "        vertical-align: middle;\n",
       "    }\n",
       "\n",
       "    .dataframe tbody tr th {\n",
       "        vertical-align: top;\n",
       "    }\n",
       "\n",
       "    .dataframe thead th {\n",
       "        text-align: right;\n",
       "    }\n",
       "</style>\n",
       "<table border=\"1\" class=\"dataframe\">\n",
       "  <thead>\n",
       "    <tr style=\"text-align: right;\">\n",
       "      <th></th>\n",
       "      <th>sensorReading</th>\n",
       "      <th>inputType</th>\n",
       "      <th>value</th>\n",
       "      <th>truth</th>\n",
       "      <th>id</th>\n",
       "      <th>pitch</th>\n",
       "      <th>pitch_truth</th>\n",
       "      <th>pitch_truth_diff</th>\n",
       "      <th>roll</th>\n",
       "      <th>roll_truth</th>\n",
       "      <th>roll_truth_diff</th>\n",
       "      <th>slider_diff</th>\n",
       "      <th>pitch_truth_diff_percentage</th>\n",
       "      <th>roll_truth_diff_percentage</th>\n",
       "      <th>experiment_type</th>\n",
       "      <th>calibration</th>\n",
       "    </tr>\n",
       "  </thead>\n",
       "  <tbody>\n",
       "    <tr>\n",
       "      <th>0</th>\n",
       "      <td>{'w': 0.00860596, 'z': 0.789124, 'stability': ...</td>\n",
       "      <td>device</td>\n",
       "      <td>0.0</td>\n",
       "      <td>20</td>\n",
       "      <td>1</td>\n",
       "      <td>13.462403</td>\n",
       "      <td>7</td>\n",
       "      <td>13</td>\n",
       "      <td>-15.813298</td>\n",
       "      <td>9</td>\n",
       "      <td>11</td>\n",
       "      <td>20.0</td>\n",
       "      <td>65.000000</td>\n",
       "      <td>55.000000</td>\n",
       "      <td>gesture_pitch_greyscale</td>\n",
       "      <td>2</td>\n",
       "    </tr>\n",
       "    <tr>\n",
       "      <th>1</th>\n",
       "      <td>{'duration': 167, 'x': -0.204102, 'stability':...</td>\n",
       "      <td>device</td>\n",
       "      <td>0.0</td>\n",
       "      <td>5</td>\n",
       "      <td>2</td>\n",
       "      <td>21.499965</td>\n",
       "      <td>12</td>\n",
       "      <td>7</td>\n",
       "      <td>-13.396093</td>\n",
       "      <td>7</td>\n",
       "      <td>2</td>\n",
       "      <td>5.0</td>\n",
       "      <td>140.000000</td>\n",
       "      <td>40.000000</td>\n",
       "      <td>gesture_pitch_greyscale</td>\n",
       "      <td>2</td>\n",
       "    </tr>\n",
       "    <tr>\n",
       "      <th>2</th>\n",
       "      <td>{'z': 0.855957, 'w': -0.0631714, 'stability': ...</td>\n",
       "      <td>device</td>\n",
       "      <td>0.0</td>\n",
       "      <td>48</td>\n",
       "      <td>3</td>\n",
       "      <td>-2.685654</td>\n",
       "      <td>1</td>\n",
       "      <td>47</td>\n",
       "      <td>-9.697546</td>\n",
       "      <td>5</td>\n",
       "      <td>43</td>\n",
       "      <td>48.0</td>\n",
       "      <td>97.916667</td>\n",
       "      <td>89.583333</td>\n",
       "      <td>gesture_pitch_greyscale</td>\n",
       "      <td>2</td>\n",
       "    </tr>\n",
       "    <tr>\n",
       "      <th>3</th>\n",
       "      <td>{'stability': 'In motion', 'z': 0.62384, 'cali...</td>\n",
       "      <td>device</td>\n",
       "      <td>0.0</td>\n",
       "      <td>29</td>\n",
       "      <td>4</td>\n",
       "      <td>81.944114</td>\n",
       "      <td>45</td>\n",
       "      <td>16</td>\n",
       "      <td>-2.046509</td>\n",
       "      <td>1</td>\n",
       "      <td>28</td>\n",
       "      <td>29.0</td>\n",
       "      <td>55.172414</td>\n",
       "      <td>96.551724</td>\n",
       "      <td>gesture_pitch_greyscale</td>\n",
       "      <td>2</td>\n",
       "    </tr>\n",
       "    <tr>\n",
       "      <th>4</th>\n",
       "      <td>{'w': 0.171936, 'duration': 190, 'activity': '...</td>\n",
       "      <td>device</td>\n",
       "      <td>0.0</td>\n",
       "      <td>46</td>\n",
       "      <td>5</td>\n",
       "      <td>36.339965</td>\n",
       "      <td>20</td>\n",
       "      <td>26</td>\n",
       "      <td>-13.023467</td>\n",
       "      <td>7</td>\n",
       "      <td>39</td>\n",
       "      <td>46.0</td>\n",
       "      <td>56.521739</td>\n",
       "      <td>84.782609</td>\n",
       "      <td>gesture_pitch_greyscale</td>\n",
       "      <td>2</td>\n",
       "    </tr>\n",
       "    <tr>\n",
       "      <th>5</th>\n",
       "      <td>{'y': -0.395081, 'stability': 'In motion', 'ac...</td>\n",
       "      <td>device</td>\n",
       "      <td>0.0</td>\n",
       "      <td>0</td>\n",
       "      <td>6</td>\n",
       "      <td>89.156890</td>\n",
       "      <td>49</td>\n",
       "      <td>49</td>\n",
       "      <td>-5.296500</td>\n",
       "      <td>3</td>\n",
       "      <td>3</td>\n",
       "      <td>0.0</td>\n",
       "      <td>100.000000</td>\n",
       "      <td>6.122449</td>\n",
       "      <td>gesture_pitch_greyscale</td>\n",
       "      <td>2</td>\n",
       "    </tr>\n",
       "    <tr>\n",
       "      <th>6</th>\n",
       "      <td>{'y': -0.501587, 'timestamp': 1719319643, 'x':...</td>\n",
       "      <td>device</td>\n",
       "      <td>0.0</td>\n",
       "      <td>28</td>\n",
       "      <td>7</td>\n",
       "      <td>-0.283176</td>\n",
       "      <td>0</td>\n",
       "      <td>28</td>\n",
       "      <td>-6.201000</td>\n",
       "      <td>3</td>\n",
       "      <td>25</td>\n",
       "      <td>28.0</td>\n",
       "      <td>100.000000</td>\n",
       "      <td>89.285714</td>\n",
       "      <td>gesture_pitch_greyscale</td>\n",
       "      <td>2</td>\n",
       "    </tr>\n",
       "    <tr>\n",
       "      <th>7</th>\n",
       "      <td>{'calibration_status': 2, 'x': -0.282837, 'y':...</td>\n",
       "      <td>device</td>\n",
       "      <td>0.0</td>\n",
       "      <td>37</td>\n",
       "      <td>8</td>\n",
       "      <td>36.962015</td>\n",
       "      <td>20</td>\n",
       "      <td>17</td>\n",
       "      <td>-13.806352</td>\n",
       "      <td>8</td>\n",
       "      <td>29</td>\n",
       "      <td>37.0</td>\n",
       "      <td>45.945946</td>\n",
       "      <td>78.378378</td>\n",
       "      <td>gesture_pitch_greyscale</td>\n",
       "      <td>2</td>\n",
       "    </tr>\n",
       "    <tr>\n",
       "      <th>8</th>\n",
       "      <td>{'timestamp': 1719319653, 'y': -0.483765, 'dur...</td>\n",
       "      <td>device</td>\n",
       "      <td>0.0</td>\n",
       "      <td>43</td>\n",
       "      <td>9</td>\n",
       "      <td>68.391026</td>\n",
       "      <td>37</td>\n",
       "      <td>6</td>\n",
       "      <td>-9.929701</td>\n",
       "      <td>5</td>\n",
       "      <td>38</td>\n",
       "      <td>43.0</td>\n",
       "      <td>13.953488</td>\n",
       "      <td>88.372093</td>\n",
       "      <td>gesture_pitch_greyscale</td>\n",
       "      <td>2</td>\n",
       "    </tr>\n",
       "    <tr>\n",
       "      <th>9</th>\n",
       "      <td>{'timestamp': 1719319658, 'calibration_status'...</td>\n",
       "      <td>device</td>\n",
       "      <td>0.0</td>\n",
       "      <td>3</td>\n",
       "      <td>10</td>\n",
       "      <td>74.602687</td>\n",
       "      <td>41</td>\n",
       "      <td>38</td>\n",
       "      <td>-6.827826</td>\n",
       "      <td>4</td>\n",
       "      <td>1</td>\n",
       "      <td>3.0</td>\n",
       "      <td>1266.666667</td>\n",
       "      <td>33.333333</td>\n",
       "      <td>gesture_pitch_greyscale</td>\n",
       "      <td>2</td>\n",
       "    </tr>\n",
       "    <tr>\n",
       "      <th>10</th>\n",
       "      <td>{'calibration_status': 2, 'x': -0.081665, 'sta...</td>\n",
       "      <td>device</td>\n",
       "      <td>0.0</td>\n",
       "      <td>22</td>\n",
       "      <td>11</td>\n",
       "      <td>4.023380</td>\n",
       "      <td>2</td>\n",
       "      <td>20</td>\n",
       "      <td>-8.500110</td>\n",
       "      <td>5</td>\n",
       "      <td>17</td>\n",
       "      <td>22.0</td>\n",
       "      <td>90.909091</td>\n",
       "      <td>77.272727</td>\n",
       "      <td>gesture_pitch_greyscale</td>\n",
       "      <td>2</td>\n",
       "    </tr>\n",
       "    <tr>\n",
       "      <th>11</th>\n",
       "      <td>{'calibration_status': 2, 'timestamp': 1719319...</td>\n",
       "      <td>device</td>\n",
       "      <td>0.0</td>\n",
       "      <td>38</td>\n",
       "      <td>12</td>\n",
       "      <td>32.401936</td>\n",
       "      <td>18</td>\n",
       "      <td>20</td>\n",
       "      <td>-8.218408</td>\n",
       "      <td>4</td>\n",
       "      <td>34</td>\n",
       "      <td>38.0</td>\n",
       "      <td>52.631579</td>\n",
       "      <td>89.473684</td>\n",
       "      <td>gesture_pitch_greyscale</td>\n",
       "      <td>2</td>\n",
       "    </tr>\n",
       "    <tr>\n",
       "      <th>12</th>\n",
       "      <td>{'calibration_status': 2, 'timestamp': 1719319...</td>\n",
       "      <td>device</td>\n",
       "      <td>0.0</td>\n",
       "      <td>30</td>\n",
       "      <td>13</td>\n",
       "      <td>69.000765</td>\n",
       "      <td>38</td>\n",
       "      <td>8</td>\n",
       "      <td>-15.142337</td>\n",
       "      <td>8</td>\n",
       "      <td>22</td>\n",
       "      <td>30.0</td>\n",
       "      <td>26.666667</td>\n",
       "      <td>73.333333</td>\n",
       "      <td>gesture_pitch_greyscale</td>\n",
       "      <td>2</td>\n",
       "    </tr>\n",
       "    <tr>\n",
       "      <th>13</th>\n",
       "      <td>{'z': 0.728394, 'activity_confidence': 76, 'du...</td>\n",
       "      <td>device</td>\n",
       "      <td>0.0</td>\n",
       "      <td>26</td>\n",
       "      <td>14</td>\n",
       "      <td>55.030589</td>\n",
       "      <td>30</td>\n",
       "      <td>4</td>\n",
       "      <td>-11.442688</td>\n",
       "      <td>6</td>\n",
       "      <td>20</td>\n",
       "      <td>26.0</td>\n",
       "      <td>15.384615</td>\n",
       "      <td>76.923077</td>\n",
       "      <td>gesture_pitch_greyscale</td>\n",
       "      <td>2</td>\n",
       "    </tr>\n",
       "    <tr>\n",
       "      <th>14</th>\n",
       "      <td>{'duration': 157, 'x': -0.345032, 'timestamp':...</td>\n",
       "      <td>device</td>\n",
       "      <td>0.0</td>\n",
       "      <td>12</td>\n",
       "      <td>15</td>\n",
       "      <td>46.557802</td>\n",
       "      <td>25</td>\n",
       "      <td>13</td>\n",
       "      <td>-16.140466</td>\n",
       "      <td>9</td>\n",
       "      <td>3</td>\n",
       "      <td>12.0</td>\n",
       "      <td>108.333333</td>\n",
       "      <td>25.000000</td>\n",
       "      <td>gesture_pitch_greyscale</td>\n",
       "      <td>2</td>\n",
       "    </tr>\n",
       "    <tr>\n",
       "      <th>15</th>\n",
       "      <td>{'activity_confidence': 86, 'duration': 171, '...</td>\n",
       "      <td>device</td>\n",
       "      <td>0.0</td>\n",
       "      <td>0</td>\n",
       "      <td>16</td>\n",
       "      <td>30.286223</td>\n",
       "      <td>16</td>\n",
       "      <td>16</td>\n",
       "      <td>-19.700962</td>\n",
       "      <td>11</td>\n",
       "      <td>11</td>\n",
       "      <td>0.0</td>\n",
       "      <td>32.653061</td>\n",
       "      <td>22.448980</td>\n",
       "      <td>gesture_pitch_greyscale</td>\n",
       "      <td>2</td>\n",
       "    </tr>\n",
       "    <tr>\n",
       "      <th>16</th>\n",
       "      <td>{'duration': 171, 'stability': 'In motion', 'a...</td>\n",
       "      <td>device</td>\n",
       "      <td>0.0</td>\n",
       "      <td>45</td>\n",
       "      <td>17</td>\n",
       "      <td>19.824954</td>\n",
       "      <td>11</td>\n",
       "      <td>34</td>\n",
       "      <td>-31.483815</td>\n",
       "      <td>17</td>\n",
       "      <td>28</td>\n",
       "      <td>45.0</td>\n",
       "      <td>75.555556</td>\n",
       "      <td>62.222222</td>\n",
       "      <td>gesture_pitch_greyscale</td>\n",
       "      <td>2</td>\n",
       "    </tr>\n",
       "    <tr>\n",
       "      <th>17</th>\n",
       "      <td>{'w': 0.538696, 'z': 0.614563, 'duration': 191...</td>\n",
       "      <td>device</td>\n",
       "      <td>0.0</td>\n",
       "      <td>47</td>\n",
       "      <td>18</td>\n",
       "      <td>86.800389</td>\n",
       "      <td>47</td>\n",
       "      <td>0</td>\n",
       "      <td>-6.147657</td>\n",
       "      <td>3</td>\n",
       "      <td>44</td>\n",
       "      <td>47.0</td>\n",
       "      <td>0.000000</td>\n",
       "      <td>93.617021</td>\n",
       "      <td>gesture_pitch_greyscale</td>\n",
       "      <td>2</td>\n",
       "    </tr>\n",
       "    <tr>\n",
       "      <th>18</th>\n",
       "      <td>{'activity_confidence': 74, 'w': 0.550293, 'ac...</td>\n",
       "      <td>device</td>\n",
       "      <td>0.0</td>\n",
       "      <td>35</td>\n",
       "      <td>19</td>\n",
       "      <td>93.037062</td>\n",
       "      <td>49</td>\n",
       "      <td>14</td>\n",
       "      <td>-4.477633</td>\n",
       "      <td>2</td>\n",
       "      <td>33</td>\n",
       "      <td>35.0</td>\n",
       "      <td>40.000000</td>\n",
       "      <td>94.285714</td>\n",
       "      <td>gesture_pitch_greyscale</td>\n",
       "      <td>2</td>\n",
       "    </tr>\n",
       "    <tr>\n",
       "      <th>19</th>\n",
       "      <td>{'stability': 'In motion', 'z': 0.659668, 'act...</td>\n",
       "      <td>device</td>\n",
       "      <td>0.0</td>\n",
       "      <td>10</td>\n",
       "      <td>20</td>\n",
       "      <td>68.267486</td>\n",
       "      <td>37</td>\n",
       "      <td>27</td>\n",
       "      <td>-10.913764</td>\n",
       "      <td>6</td>\n",
       "      <td>4</td>\n",
       "      <td>10.0</td>\n",
       "      <td>270.000000</td>\n",
       "      <td>40.000000</td>\n",
       "      <td>gesture_pitch_greyscale</td>\n",
       "      <td>2</td>\n",
       "    </tr>\n",
       "  </tbody>\n",
       "</table>\n",
       "</div>"
      ],
      "text/plain": [
       "                                        sensorReading inputType  value  truth  \\\n",
       "0   {'w': 0.00860596, 'z': 0.789124, 'stability': ...    device    0.0     20   \n",
       "1   {'duration': 167, 'x': -0.204102, 'stability':...    device    0.0      5   \n",
       "2   {'z': 0.855957, 'w': -0.0631714, 'stability': ...    device    0.0     48   \n",
       "3   {'stability': 'In motion', 'z': 0.62384, 'cali...    device    0.0     29   \n",
       "4   {'w': 0.171936, 'duration': 190, 'activity': '...    device    0.0     46   \n",
       "5   {'y': -0.395081, 'stability': 'In motion', 'ac...    device    0.0      0   \n",
       "6   {'y': -0.501587, 'timestamp': 1719319643, 'x':...    device    0.0     28   \n",
       "7   {'calibration_status': 2, 'x': -0.282837, 'y':...    device    0.0     37   \n",
       "8   {'timestamp': 1719319653, 'y': -0.483765, 'dur...    device    0.0     43   \n",
       "9   {'timestamp': 1719319658, 'calibration_status'...    device    0.0      3   \n",
       "10  {'calibration_status': 2, 'x': -0.081665, 'sta...    device    0.0     22   \n",
       "11  {'calibration_status': 2, 'timestamp': 1719319...    device    0.0     38   \n",
       "12  {'calibration_status': 2, 'timestamp': 1719319...    device    0.0     30   \n",
       "13  {'z': 0.728394, 'activity_confidence': 76, 'du...    device    0.0     26   \n",
       "14  {'duration': 157, 'x': -0.345032, 'timestamp':...    device    0.0     12   \n",
       "15  {'activity_confidence': 86, 'duration': 171, '...    device    0.0      0   \n",
       "16  {'duration': 171, 'stability': 'In motion', 'a...    device    0.0     45   \n",
       "17  {'w': 0.538696, 'z': 0.614563, 'duration': 191...    device    0.0     47   \n",
       "18  {'activity_confidence': 74, 'w': 0.550293, 'ac...    device    0.0     35   \n",
       "19  {'stability': 'In motion', 'z': 0.659668, 'act...    device    0.0     10   \n",
       "\n",
       "    id      pitch  pitch_truth  pitch_truth_diff       roll  roll_truth  \\\n",
       "0    1  13.462403            7                13 -15.813298           9   \n",
       "1    2  21.499965           12                 7 -13.396093           7   \n",
       "2    3  -2.685654            1                47  -9.697546           5   \n",
       "3    4  81.944114           45                16  -2.046509           1   \n",
       "4    5  36.339965           20                26 -13.023467           7   \n",
       "5    6  89.156890           49                49  -5.296500           3   \n",
       "6    7  -0.283176            0                28  -6.201000           3   \n",
       "7    8  36.962015           20                17 -13.806352           8   \n",
       "8    9  68.391026           37                 6  -9.929701           5   \n",
       "9   10  74.602687           41                38  -6.827826           4   \n",
       "10  11   4.023380            2                20  -8.500110           5   \n",
       "11  12  32.401936           18                20  -8.218408           4   \n",
       "12  13  69.000765           38                 8 -15.142337           8   \n",
       "13  14  55.030589           30                 4 -11.442688           6   \n",
       "14  15  46.557802           25                13 -16.140466           9   \n",
       "15  16  30.286223           16                16 -19.700962          11   \n",
       "16  17  19.824954           11                34 -31.483815          17   \n",
       "17  18  86.800389           47                 0  -6.147657           3   \n",
       "18  19  93.037062           49                14  -4.477633           2   \n",
       "19  20  68.267486           37                27 -10.913764           6   \n",
       "\n",
       "    roll_truth_diff  slider_diff  pitch_truth_diff_percentage  \\\n",
       "0                11         20.0                    65.000000   \n",
       "1                 2          5.0                   140.000000   \n",
       "2                43         48.0                    97.916667   \n",
       "3                28         29.0                    55.172414   \n",
       "4                39         46.0                    56.521739   \n",
       "5                 3          0.0                   100.000000   \n",
       "6                25         28.0                   100.000000   \n",
       "7                29         37.0                    45.945946   \n",
       "8                38         43.0                    13.953488   \n",
       "9                 1          3.0                  1266.666667   \n",
       "10               17         22.0                    90.909091   \n",
       "11               34         38.0                    52.631579   \n",
       "12               22         30.0                    26.666667   \n",
       "13               20         26.0                    15.384615   \n",
       "14                3         12.0                   108.333333   \n",
       "15               11          0.0                    32.653061   \n",
       "16               28         45.0                    75.555556   \n",
       "17               44         47.0                     0.000000   \n",
       "18               33         35.0                    40.000000   \n",
       "19                4         10.0                   270.000000   \n",
       "\n",
       "    roll_truth_diff_percentage          experiment_type  calibration  \n",
       "0                    55.000000  gesture_pitch_greyscale            2  \n",
       "1                    40.000000  gesture_pitch_greyscale            2  \n",
       "2                    89.583333  gesture_pitch_greyscale            2  \n",
       "3                    96.551724  gesture_pitch_greyscale            2  \n",
       "4                    84.782609  gesture_pitch_greyscale            2  \n",
       "5                     6.122449  gesture_pitch_greyscale            2  \n",
       "6                    89.285714  gesture_pitch_greyscale            2  \n",
       "7                    78.378378  gesture_pitch_greyscale            2  \n",
       "8                    88.372093  gesture_pitch_greyscale            2  \n",
       "9                    33.333333  gesture_pitch_greyscale            2  \n",
       "10                   77.272727  gesture_pitch_greyscale            2  \n",
       "11                   89.473684  gesture_pitch_greyscale            2  \n",
       "12                   73.333333  gesture_pitch_greyscale            2  \n",
       "13                   76.923077  gesture_pitch_greyscale            2  \n",
       "14                   25.000000  gesture_pitch_greyscale            2  \n",
       "15                   22.448980  gesture_pitch_greyscale            2  \n",
       "16                   62.222222  gesture_pitch_greyscale            2  \n",
       "17                   93.617021  gesture_pitch_greyscale            2  \n",
       "18                   94.285714  gesture_pitch_greyscale            2  \n",
       "19                   40.000000  gesture_pitch_greyscale            2  "
      ]
     },
     "execution_count": 30,
     "metadata": {},
     "output_type": "execute_result"
    }
   ],
   "source": [
    "df[df[\"experiment_type\"] == \"gesture_pitch_greyscale\"]"
   ]
  },
  {
   "cell_type": "code",
   "execution_count": 31,
   "metadata": {},
   "outputs": [
    {
     "data": {
      "text/html": [
       "<div>\n",
       "<style scoped>\n",
       "    .dataframe tbody tr th:only-of-type {\n",
       "        vertical-align: middle;\n",
       "    }\n",
       "\n",
       "    .dataframe tbody tr th {\n",
       "        vertical-align: top;\n",
       "    }\n",
       "\n",
       "    .dataframe thead th {\n",
       "        text-align: right;\n",
       "    }\n",
       "</style>\n",
       "<table border=\"1\" class=\"dataframe\">\n",
       "  <thead>\n",
       "    <tr style=\"text-align: right;\">\n",
       "      <th></th>\n",
       "      <th>sensorReading</th>\n",
       "      <th>inputType</th>\n",
       "      <th>value</th>\n",
       "      <th>truth</th>\n",
       "      <th>id</th>\n",
       "      <th>pitch</th>\n",
       "      <th>pitch_truth</th>\n",
       "      <th>pitch_truth_diff</th>\n",
       "      <th>roll</th>\n",
       "      <th>roll_truth</th>\n",
       "      <th>roll_truth_diff</th>\n",
       "      <th>slider_diff</th>\n",
       "      <th>pitch_truth_diff_percentage</th>\n",
       "      <th>roll_truth_diff_percentage</th>\n",
       "      <th>experiment_type</th>\n",
       "      <th>calibration</th>\n",
       "    </tr>\n",
       "  </thead>\n",
       "  <tbody>\n",
       "    <tr>\n",
       "      <th>20</th>\n",
       "      <td>{'w': 0.180237, 'x': -0.390442, 'calibration_s...</td>\n",
       "      <td>device</td>\n",
       "      <td>0.0</td>\n",
       "      <td>64</td>\n",
       "      <td>1</td>\n",
       "      <td>45.932695</td>\n",
       "      <td>51</td>\n",
       "      <td>13</td>\n",
       "      <td>-25.042959</td>\n",
       "      <td>28</td>\n",
       "      <td>36</td>\n",
       "      <td>64.0</td>\n",
       "      <td>20.312500</td>\n",
       "      <td>56.250000</td>\n",
       "      <td>gesture_pitch_number</td>\n",
       "      <td>2</td>\n",
       "    </tr>\n",
       "    <tr>\n",
       "      <th>21</th>\n",
       "      <td>{'w': 0.224854, 'x': -0.380798, 'calibration_s...</td>\n",
       "      <td>device</td>\n",
       "      <td>0.0</td>\n",
       "      <td>67</td>\n",
       "      <td>2</td>\n",
       "      <td>49.044438</td>\n",
       "      <td>54</td>\n",
       "      <td>13</td>\n",
       "      <td>-21.739210</td>\n",
       "      <td>24</td>\n",
       "      <td>43</td>\n",
       "      <td>67.0</td>\n",
       "      <td>19.402985</td>\n",
       "      <td>64.179104</td>\n",
       "      <td>gesture_pitch_number</td>\n",
       "      <td>2</td>\n",
       "    </tr>\n",
       "    <tr>\n",
       "      <th>22</th>\n",
       "      <td>{'calibration_status': 2, 'duration': 181, 'y'...</td>\n",
       "      <td>device</td>\n",
       "      <td>0.0</td>\n",
       "      <td>91</td>\n",
       "      <td>3</td>\n",
       "      <td>70.892690</td>\n",
       "      <td>79</td>\n",
       "      <td>12</td>\n",
       "      <td>-17.946928</td>\n",
       "      <td>20</td>\n",
       "      <td>71</td>\n",
       "      <td>91.0</td>\n",
       "      <td>13.186813</td>\n",
       "      <td>78.021978</td>\n",
       "      <td>gesture_pitch_number</td>\n",
       "      <td>2</td>\n",
       "    </tr>\n",
       "    <tr>\n",
       "      <th>23</th>\n",
       "      <td>{'x': -0.392883, 'activity_confidence': 91, 'z...</td>\n",
       "      <td>device</td>\n",
       "      <td>0.0</td>\n",
       "      <td>62</td>\n",
       "      <td>4</td>\n",
       "      <td>48.791011</td>\n",
       "      <td>54</td>\n",
       "      <td>8</td>\n",
       "      <td>-23.174989</td>\n",
       "      <td>26</td>\n",
       "      <td>36</td>\n",
       "      <td>62.0</td>\n",
       "      <td>12.903226</td>\n",
       "      <td>58.064516</td>\n",
       "      <td>gesture_pitch_number</td>\n",
       "      <td>2</td>\n",
       "    </tr>\n",
       "    <tr>\n",
       "      <th>24</th>\n",
       "      <td>{'z': 0.732666, 'timestamp': 1719319747, 'acti...</td>\n",
       "      <td>device</td>\n",
       "      <td>0.0</td>\n",
       "      <td>74</td>\n",
       "      <td>5</td>\n",
       "      <td>59.346314</td>\n",
       "      <td>66</td>\n",
       "      <td>8</td>\n",
       "      <td>-24.082532</td>\n",
       "      <td>27</td>\n",
       "      <td>47</td>\n",
       "      <td>74.0</td>\n",
       "      <td>10.810811</td>\n",
       "      <td>63.513514</td>\n",
       "      <td>gesture_pitch_number</td>\n",
       "      <td>2</td>\n",
       "    </tr>\n",
       "    <tr>\n",
       "      <th>25</th>\n",
       "      <td>{'duration': 190, 'activity_confidence': 94, '...</td>\n",
       "      <td>device</td>\n",
       "      <td>0.0</td>\n",
       "      <td>68</td>\n",
       "      <td>6</td>\n",
       "      <td>48.647061</td>\n",
       "      <td>54</td>\n",
       "      <td>14</td>\n",
       "      <td>-29.189574</td>\n",
       "      <td>32</td>\n",
       "      <td>36</td>\n",
       "      <td>68.0</td>\n",
       "      <td>20.588235</td>\n",
       "      <td>52.941176</td>\n",
       "      <td>gesture_pitch_number</td>\n",
       "      <td>2</td>\n",
       "    </tr>\n",
       "    <tr>\n",
       "      <th>26</th>\n",
       "      <td>{'calibration_status': 2, 'y': -0.493164, 'tim...</td>\n",
       "      <td>device</td>\n",
       "      <td>0.0</td>\n",
       "      <td>28</td>\n",
       "      <td>7</td>\n",
       "      <td>27.000324</td>\n",
       "      <td>30</td>\n",
       "      <td>2</td>\n",
       "      <td>-30.461561</td>\n",
       "      <td>34</td>\n",
       "      <td>6</td>\n",
       "      <td>28.0</td>\n",
       "      <td>7.142857</td>\n",
       "      <td>21.428571</td>\n",
       "      <td>gesture_pitch_number</td>\n",
       "      <td>2</td>\n",
       "    </tr>\n",
       "    <tr>\n",
       "      <th>27</th>\n",
       "      <td>{'timestamp': 1719319768, 'activity_confidence...</td>\n",
       "      <td>device</td>\n",
       "      <td>0.0</td>\n",
       "      <td>56</td>\n",
       "      <td>8</td>\n",
       "      <td>45.326728</td>\n",
       "      <td>50</td>\n",
       "      <td>6</td>\n",
       "      <td>-24.762911</td>\n",
       "      <td>28</td>\n",
       "      <td>28</td>\n",
       "      <td>56.0</td>\n",
       "      <td>10.714286</td>\n",
       "      <td>50.000000</td>\n",
       "      <td>gesture_pitch_number</td>\n",
       "      <td>2</td>\n",
       "    </tr>\n",
       "    <tr>\n",
       "      <th>28</th>\n",
       "      <td>{'z': 0.651733, 'calibration_status': 2, 'dura...</td>\n",
       "      <td>device</td>\n",
       "      <td>0.0</td>\n",
       "      <td>57</td>\n",
       "      <td>9</td>\n",
       "      <td>46.729194</td>\n",
       "      <td>52</td>\n",
       "      <td>5</td>\n",
       "      <td>-24.099269</td>\n",
       "      <td>27</td>\n",
       "      <td>30</td>\n",
       "      <td>57.0</td>\n",
       "      <td>8.771930</td>\n",
       "      <td>52.631579</td>\n",
       "      <td>gesture_pitch_number</td>\n",
       "      <td>2</td>\n",
       "    </tr>\n",
       "    <tr>\n",
       "      <th>29</th>\n",
       "      <td>{'duration': 154, 'y': -0.540833, 'x': -0.5241...</td>\n",
       "      <td>device</td>\n",
       "      <td>0.0</td>\n",
       "      <td>93</td>\n",
       "      <td>10</td>\n",
       "      <td>70.042286</td>\n",
       "      <td>78</td>\n",
       "      <td>15</td>\n",
       "      <td>-20.931239</td>\n",
       "      <td>23</td>\n",
       "      <td>70</td>\n",
       "      <td>93.0</td>\n",
       "      <td>16.129032</td>\n",
       "      <td>75.268817</td>\n",
       "      <td>gesture_pitch_number</td>\n",
       "      <td>2</td>\n",
       "    </tr>\n",
       "    <tr>\n",
       "      <th>30</th>\n",
       "      <td>{'stability': 'In motion', 'timestamp': 171931...</td>\n",
       "      <td>device</td>\n",
       "      <td>0.0</td>\n",
       "      <td>35</td>\n",
       "      <td>11</td>\n",
       "      <td>34.420823</td>\n",
       "      <td>38</td>\n",
       "      <td>3</td>\n",
       "      <td>-30.598288</td>\n",
       "      <td>34</td>\n",
       "      <td>1</td>\n",
       "      <td>35.0</td>\n",
       "      <td>8.571429</td>\n",
       "      <td>2.857143</td>\n",
       "      <td>gesture_pitch_number</td>\n",
       "      <td>2</td>\n",
       "    </tr>\n",
       "    <tr>\n",
       "      <th>31</th>\n",
       "      <td>{'y': -0.650024, 'w': 0.0283813, 'stability': ...</td>\n",
       "      <td>device</td>\n",
       "      <td>0.0</td>\n",
       "      <td>36</td>\n",
       "      <td>12</td>\n",
       "      <td>35.053355</td>\n",
       "      <td>39</td>\n",
       "      <td>3</td>\n",
       "      <td>-26.726072</td>\n",
       "      <td>30</td>\n",
       "      <td>6</td>\n",
       "      <td>36.0</td>\n",
       "      <td>8.333333</td>\n",
       "      <td>16.666667</td>\n",
       "      <td>gesture_pitch_number</td>\n",
       "      <td>2</td>\n",
       "    </tr>\n",
       "    <tr>\n",
       "      <th>32</th>\n",
       "      <td>{'timestamp': 1719319786, 'calibration_status'...</td>\n",
       "      <td>device</td>\n",
       "      <td>0.0</td>\n",
       "      <td>44</td>\n",
       "      <td>13</td>\n",
       "      <td>41.661766</td>\n",
       "      <td>46</td>\n",
       "      <td>2</td>\n",
       "      <td>-25.941128</td>\n",
       "      <td>29</td>\n",
       "      <td>15</td>\n",
       "      <td>44.0</td>\n",
       "      <td>4.545455</td>\n",
       "      <td>34.090909</td>\n",
       "      <td>gesture_pitch_number</td>\n",
       "      <td>2</td>\n",
       "    </tr>\n",
       "    <tr>\n",
       "      <th>33</th>\n",
       "      <td>{'stability': 'In motion', 'y': -0.655457, 'ti...</td>\n",
       "      <td>device</td>\n",
       "      <td>0.0</td>\n",
       "      <td>4</td>\n",
       "      <td>14</td>\n",
       "      <td>10.757093</td>\n",
       "      <td>12</td>\n",
       "      <td>8</td>\n",
       "      <td>-30.641479</td>\n",
       "      <td>34</td>\n",
       "      <td>30</td>\n",
       "      <td>4.0</td>\n",
       "      <td>200.000000</td>\n",
       "      <td>750.000000</td>\n",
       "      <td>gesture_pitch_number</td>\n",
       "      <td>2</td>\n",
       "    </tr>\n",
       "    <tr>\n",
       "      <th>34</th>\n",
       "      <td>{'activity_confidence': 97, 'duration': 222, '...</td>\n",
       "      <td>device</td>\n",
       "      <td>0.0</td>\n",
       "      <td>84</td>\n",
       "      <td>15</td>\n",
       "      <td>65.627957</td>\n",
       "      <td>73</td>\n",
       "      <td>11</td>\n",
       "      <td>-23.458037</td>\n",
       "      <td>26</td>\n",
       "      <td>58</td>\n",
       "      <td>84.0</td>\n",
       "      <td>13.095238</td>\n",
       "      <td>69.047619</td>\n",
       "      <td>gesture_pitch_number</td>\n",
       "      <td>2</td>\n",
       "    </tr>\n",
       "    <tr>\n",
       "      <th>35</th>\n",
       "      <td>{'calibration_status': 2, 'y': -0.652527, 'act...</td>\n",
       "      <td>device</td>\n",
       "      <td>0.0</td>\n",
       "      <td>72</td>\n",
       "      <td>16</td>\n",
       "      <td>58.184337</td>\n",
       "      <td>65</td>\n",
       "      <td>7</td>\n",
       "      <td>-25.500344</td>\n",
       "      <td>28</td>\n",
       "      <td>44</td>\n",
       "      <td>72.0</td>\n",
       "      <td>9.722222</td>\n",
       "      <td>61.111111</td>\n",
       "      <td>gesture_pitch_number</td>\n",
       "      <td>2</td>\n",
       "    </tr>\n",
       "    <tr>\n",
       "      <th>36</th>\n",
       "      <td>{'timestamp': 1719319809, 'activity_confidence...</td>\n",
       "      <td>device</td>\n",
       "      <td>0.0</td>\n",
       "      <td>87</td>\n",
       "      <td>17</td>\n",
       "      <td>66.130125</td>\n",
       "      <td>73</td>\n",
       "      <td>14</td>\n",
       "      <td>-22.554068</td>\n",
       "      <td>25</td>\n",
       "      <td>62</td>\n",
       "      <td>87.0</td>\n",
       "      <td>16.091954</td>\n",
       "      <td>71.264368</td>\n",
       "      <td>gesture_pitch_number</td>\n",
       "      <td>2</td>\n",
       "    </tr>\n",
       "    <tr>\n",
       "      <th>37</th>\n",
       "      <td>{'z': 0.579346, 'activity_confidence': 97, 'y'...</td>\n",
       "      <td>device</td>\n",
       "      <td>0.0</td>\n",
       "      <td>53</td>\n",
       "      <td>18</td>\n",
       "      <td>49.184989</td>\n",
       "      <td>55</td>\n",
       "      <td>2</td>\n",
       "      <td>-29.727963</td>\n",
       "      <td>33</td>\n",
       "      <td>20</td>\n",
       "      <td>53.0</td>\n",
       "      <td>3.773585</td>\n",
       "      <td>37.735849</td>\n",
       "      <td>gesture_pitch_number</td>\n",
       "      <td>2</td>\n",
       "    </tr>\n",
       "    <tr>\n",
       "      <th>38</th>\n",
       "      <td>{'y': -0.693909, 'stability': 'Stable', 'activ...</td>\n",
       "      <td>device</td>\n",
       "      <td>0.0</td>\n",
       "      <td>17</td>\n",
       "      <td>19</td>\n",
       "      <td>24.364194</td>\n",
       "      <td>27</td>\n",
       "      <td>10</td>\n",
       "      <td>-33.326745</td>\n",
       "      <td>37</td>\n",
       "      <td>20</td>\n",
       "      <td>17.0</td>\n",
       "      <td>58.823529</td>\n",
       "      <td>117.647059</td>\n",
       "      <td>gesture_pitch_number</td>\n",
       "      <td>2</td>\n",
       "    </tr>\n",
       "    <tr>\n",
       "      <th>39</th>\n",
       "      <td>{'activity_confidence': 97, 'activity': 'Still...</td>\n",
       "      <td>device</td>\n",
       "      <td>0.0</td>\n",
       "      <td>50</td>\n",
       "      <td>20</td>\n",
       "      <td>48.688497</td>\n",
       "      <td>54</td>\n",
       "      <td>4</td>\n",
       "      <td>-27.539295</td>\n",
       "      <td>31</td>\n",
       "      <td>19</td>\n",
       "      <td>50.0</td>\n",
       "      <td>8.000000</td>\n",
       "      <td>38.000000</td>\n",
       "      <td>gesture_pitch_number</td>\n",
       "      <td>2</td>\n",
       "    </tr>\n",
       "  </tbody>\n",
       "</table>\n",
       "</div>"
      ],
      "text/plain": [
       "                                        sensorReading inputType  value  truth  \\\n",
       "20  {'w': 0.180237, 'x': -0.390442, 'calibration_s...    device    0.0     64   \n",
       "21  {'w': 0.224854, 'x': -0.380798, 'calibration_s...    device    0.0     67   \n",
       "22  {'calibration_status': 2, 'duration': 181, 'y'...    device    0.0     91   \n",
       "23  {'x': -0.392883, 'activity_confidence': 91, 'z...    device    0.0     62   \n",
       "24  {'z': 0.732666, 'timestamp': 1719319747, 'acti...    device    0.0     74   \n",
       "25  {'duration': 190, 'activity_confidence': 94, '...    device    0.0     68   \n",
       "26  {'calibration_status': 2, 'y': -0.493164, 'tim...    device    0.0     28   \n",
       "27  {'timestamp': 1719319768, 'activity_confidence...    device    0.0     56   \n",
       "28  {'z': 0.651733, 'calibration_status': 2, 'dura...    device    0.0     57   \n",
       "29  {'duration': 154, 'y': -0.540833, 'x': -0.5241...    device    0.0     93   \n",
       "30  {'stability': 'In motion', 'timestamp': 171931...    device    0.0     35   \n",
       "31  {'y': -0.650024, 'w': 0.0283813, 'stability': ...    device    0.0     36   \n",
       "32  {'timestamp': 1719319786, 'calibration_status'...    device    0.0     44   \n",
       "33  {'stability': 'In motion', 'y': -0.655457, 'ti...    device    0.0      4   \n",
       "34  {'activity_confidence': 97, 'duration': 222, '...    device    0.0     84   \n",
       "35  {'calibration_status': 2, 'y': -0.652527, 'act...    device    0.0     72   \n",
       "36  {'timestamp': 1719319809, 'activity_confidence...    device    0.0     87   \n",
       "37  {'z': 0.579346, 'activity_confidence': 97, 'y'...    device    0.0     53   \n",
       "38  {'y': -0.693909, 'stability': 'Stable', 'activ...    device    0.0     17   \n",
       "39  {'activity_confidence': 97, 'activity': 'Still...    device    0.0     50   \n",
       "\n",
       "    id      pitch  pitch_truth  pitch_truth_diff       roll  roll_truth  \\\n",
       "20   1  45.932695           51                13 -25.042959          28   \n",
       "21   2  49.044438           54                13 -21.739210          24   \n",
       "22   3  70.892690           79                12 -17.946928          20   \n",
       "23   4  48.791011           54                 8 -23.174989          26   \n",
       "24   5  59.346314           66                 8 -24.082532          27   \n",
       "25   6  48.647061           54                14 -29.189574          32   \n",
       "26   7  27.000324           30                 2 -30.461561          34   \n",
       "27   8  45.326728           50                 6 -24.762911          28   \n",
       "28   9  46.729194           52                 5 -24.099269          27   \n",
       "29  10  70.042286           78                15 -20.931239          23   \n",
       "30  11  34.420823           38                 3 -30.598288          34   \n",
       "31  12  35.053355           39                 3 -26.726072          30   \n",
       "32  13  41.661766           46                 2 -25.941128          29   \n",
       "33  14  10.757093           12                 8 -30.641479          34   \n",
       "34  15  65.627957           73                11 -23.458037          26   \n",
       "35  16  58.184337           65                 7 -25.500344          28   \n",
       "36  17  66.130125           73                14 -22.554068          25   \n",
       "37  18  49.184989           55                 2 -29.727963          33   \n",
       "38  19  24.364194           27                10 -33.326745          37   \n",
       "39  20  48.688497           54                 4 -27.539295          31   \n",
       "\n",
       "    roll_truth_diff  slider_diff  pitch_truth_diff_percentage  \\\n",
       "20               36         64.0                    20.312500   \n",
       "21               43         67.0                    19.402985   \n",
       "22               71         91.0                    13.186813   \n",
       "23               36         62.0                    12.903226   \n",
       "24               47         74.0                    10.810811   \n",
       "25               36         68.0                    20.588235   \n",
       "26                6         28.0                     7.142857   \n",
       "27               28         56.0                    10.714286   \n",
       "28               30         57.0                     8.771930   \n",
       "29               70         93.0                    16.129032   \n",
       "30                1         35.0                     8.571429   \n",
       "31                6         36.0                     8.333333   \n",
       "32               15         44.0                     4.545455   \n",
       "33               30          4.0                   200.000000   \n",
       "34               58         84.0                    13.095238   \n",
       "35               44         72.0                     9.722222   \n",
       "36               62         87.0                    16.091954   \n",
       "37               20         53.0                     3.773585   \n",
       "38               20         17.0                    58.823529   \n",
       "39               19         50.0                     8.000000   \n",
       "\n",
       "    roll_truth_diff_percentage       experiment_type  calibration  \n",
       "20                   56.250000  gesture_pitch_number            2  \n",
       "21                   64.179104  gesture_pitch_number            2  \n",
       "22                   78.021978  gesture_pitch_number            2  \n",
       "23                   58.064516  gesture_pitch_number            2  \n",
       "24                   63.513514  gesture_pitch_number            2  \n",
       "25                   52.941176  gesture_pitch_number            2  \n",
       "26                   21.428571  gesture_pitch_number            2  \n",
       "27                   50.000000  gesture_pitch_number            2  \n",
       "28                   52.631579  gesture_pitch_number            2  \n",
       "29                   75.268817  gesture_pitch_number            2  \n",
       "30                    2.857143  gesture_pitch_number            2  \n",
       "31                   16.666667  gesture_pitch_number            2  \n",
       "32                   34.090909  gesture_pitch_number            2  \n",
       "33                  750.000000  gesture_pitch_number            2  \n",
       "34                   69.047619  gesture_pitch_number            2  \n",
       "35                   61.111111  gesture_pitch_number            2  \n",
       "36                   71.264368  gesture_pitch_number            2  \n",
       "37                   37.735849  gesture_pitch_number            2  \n",
       "38                  117.647059  gesture_pitch_number            2  \n",
       "39                   38.000000  gesture_pitch_number            2  "
      ]
     },
     "execution_count": 31,
     "metadata": {},
     "output_type": "execute_result"
    }
   ],
   "source": [
    "df[df[\"experiment_type\"] == \"gesture_pitch_number\"]"
   ]
  },
  {
   "cell_type": "code",
   "execution_count": 32,
   "metadata": {},
   "outputs": [
    {
     "data": {
      "text/html": [
       "<div>\n",
       "<style scoped>\n",
       "    .dataframe tbody tr th:only-of-type {\n",
       "        vertical-align: middle;\n",
       "    }\n",
       "\n",
       "    .dataframe tbody tr th {\n",
       "        vertical-align: top;\n",
       "    }\n",
       "\n",
       "    .dataframe thead th {\n",
       "        text-align: right;\n",
       "    }\n",
       "</style>\n",
       "<table border=\"1\" class=\"dataframe\">\n",
       "  <thead>\n",
       "    <tr style=\"text-align: right;\">\n",
       "      <th></th>\n",
       "      <th>sensorReading</th>\n",
       "      <th>inputType</th>\n",
       "      <th>value</th>\n",
       "      <th>truth</th>\n",
       "      <th>id</th>\n",
       "      <th>pitch</th>\n",
       "      <th>pitch_truth</th>\n",
       "      <th>pitch_truth_diff</th>\n",
       "      <th>roll</th>\n",
       "      <th>roll_truth</th>\n",
       "      <th>roll_truth_diff</th>\n",
       "      <th>slider_diff</th>\n",
       "      <th>pitch_truth_diff_percentage</th>\n",
       "      <th>roll_truth_diff_percentage</th>\n",
       "      <th>experiment_type</th>\n",
       "      <th>calibration</th>\n",
       "    </tr>\n",
       "  </thead>\n",
       "  <tbody>\n",
       "    <tr>\n",
       "      <th>40</th>\n",
       "      <td>{'z': 0.689941, 'x': -0.481995, 'y': -0.472534...</td>\n",
       "      <td>device</td>\n",
       "      <td>0.0</td>\n",
       "      <td>44</td>\n",
       "      <td>1</td>\n",
       "      <td>13.376283</td>\n",
       "      <td>7</td>\n",
       "      <td>37</td>\n",
       "      <td>-65.808874</td>\n",
       "      <td>36</td>\n",
       "      <td>8</td>\n",
       "      <td>44.0</td>\n",
       "      <td>84.090909</td>\n",
       "      <td>18.181818</td>\n",
       "      <td>gesture_roll_greyscale</td>\n",
       "      <td>1</td>\n",
       "    </tr>\n",
       "    <tr>\n",
       "      <th>41</th>\n",
       "      <td>{'activity_confidence': 73, 'y': -0.430176, 'c...</td>\n",
       "      <td>device</td>\n",
       "      <td>0.0</td>\n",
       "      <td>23</td>\n",
       "      <td>2</td>\n",
       "      <td>22.423382</td>\n",
       "      <td>12</td>\n",
       "      <td>11</td>\n",
       "      <td>-75.377780</td>\n",
       "      <td>41</td>\n",
       "      <td>18</td>\n",
       "      <td>23.0</td>\n",
       "      <td>47.826087</td>\n",
       "      <td>78.260870</td>\n",
       "      <td>gesture_roll_greyscale</td>\n",
       "      <td>1</td>\n",
       "    </tr>\n",
       "    <tr>\n",
       "      <th>42</th>\n",
       "      <td>{'duration': 191, 'w': -0.209595, 'activity_co...</td>\n",
       "      <td>device</td>\n",
       "      <td>0.0</td>\n",
       "      <td>36</td>\n",
       "      <td>3</td>\n",
       "      <td>2.314338</td>\n",
       "      <td>1</td>\n",
       "      <td>35</td>\n",
       "      <td>-48.042855</td>\n",
       "      <td>26</td>\n",
       "      <td>10</td>\n",
       "      <td>36.0</td>\n",
       "      <td>97.222222</td>\n",
       "      <td>27.777778</td>\n",
       "      <td>gesture_roll_greyscale</td>\n",
       "      <td>1</td>\n",
       "    </tr>\n",
       "    <tr>\n",
       "      <th>43</th>\n",
       "      <td>{'duration': 154, 'activity_confidence': 83, '...</td>\n",
       "      <td>device</td>\n",
       "      <td>0.0</td>\n",
       "      <td>9</td>\n",
       "      <td>4</td>\n",
       "      <td>2.277466</td>\n",
       "      <td>1</td>\n",
       "      <td>8</td>\n",
       "      <td>-51.946909</td>\n",
       "      <td>28</td>\n",
       "      <td>19</td>\n",
       "      <td>9.0</td>\n",
       "      <td>88.888889</td>\n",
       "      <td>211.111111</td>\n",
       "      <td>gesture_roll_greyscale</td>\n",
       "      <td>1</td>\n",
       "    </tr>\n",
       "    <tr>\n",
       "      <th>44</th>\n",
       "      <td>{'duration': 191, 'timestamp': 1719319897, 'w'...</td>\n",
       "      <td>device</td>\n",
       "      <td>0.0</td>\n",
       "      <td>25</td>\n",
       "      <td>5</td>\n",
       "      <td>1.087700</td>\n",
       "      <td>1</td>\n",
       "      <td>24</td>\n",
       "      <td>-28.642069</td>\n",
       "      <td>16</td>\n",
       "      <td>9</td>\n",
       "      <td>25.0</td>\n",
       "      <td>96.000000</td>\n",
       "      <td>36.000000</td>\n",
       "      <td>gesture_roll_greyscale</td>\n",
       "      <td>2</td>\n",
       "    </tr>\n",
       "    <tr>\n",
       "      <th>45</th>\n",
       "      <td>{'calibration_status': 1, 'duration': 154, 'st...</td>\n",
       "      <td>device</td>\n",
       "      <td>0.0</td>\n",
       "      <td>32</td>\n",
       "      <td>6</td>\n",
       "      <td>0.670309</td>\n",
       "      <td>0</td>\n",
       "      <td>32</td>\n",
       "      <td>-39.366854</td>\n",
       "      <td>21</td>\n",
       "      <td>11</td>\n",
       "      <td>32.0</td>\n",
       "      <td>100.000000</td>\n",
       "      <td>34.375000</td>\n",
       "      <td>gesture_roll_greyscale</td>\n",
       "      <td>1</td>\n",
       "    </tr>\n",
       "    <tr>\n",
       "      <th>46</th>\n",
       "      <td>{'y': 0.219299, 'timestamp': 1719319938, 'stab...</td>\n",
       "      <td>device</td>\n",
       "      <td>0.0</td>\n",
       "      <td>49</td>\n",
       "      <td>7</td>\n",
       "      <td>1.383910</td>\n",
       "      <td>1</td>\n",
       "      <td>48</td>\n",
       "      <td>-62.179796</td>\n",
       "      <td>34</td>\n",
       "      <td>15</td>\n",
       "      <td>49.0</td>\n",
       "      <td>97.959184</td>\n",
       "      <td>30.612245</td>\n",
       "      <td>gesture_roll_greyscale</td>\n",
       "      <td>2</td>\n",
       "    </tr>\n",
       "    <tr>\n",
       "      <th>47</th>\n",
       "      <td>{'y': -0.263794, 'z': 0.584167, 'calibration_s...</td>\n",
       "      <td>device</td>\n",
       "      <td>0.0</td>\n",
       "      <td>4</td>\n",
       "      <td>8</td>\n",
       "      <td>179.123936</td>\n",
       "      <td>49</td>\n",
       "      <td>45</td>\n",
       "      <td>-79.725375</td>\n",
       "      <td>43</td>\n",
       "      <td>39</td>\n",
       "      <td>4.0</td>\n",
       "      <td>1125.000000</td>\n",
       "      <td>975.000000</td>\n",
       "      <td>gesture_roll_greyscale</td>\n",
       "      <td>1</td>\n",
       "    </tr>\n",
       "    <tr>\n",
       "      <th>48</th>\n",
       "      <td>{'timestamp': 1719319973, 'calibration_status'...</td>\n",
       "      <td>device</td>\n",
       "      <td>0.0</td>\n",
       "      <td>6</td>\n",
       "      <td>9</td>\n",
       "      <td>-0.864269</td>\n",
       "      <td>0</td>\n",
       "      <td>6</td>\n",
       "      <td>-25.683753</td>\n",
       "      <td>14</td>\n",
       "      <td>8</td>\n",
       "      <td>6.0</td>\n",
       "      <td>100.000000</td>\n",
       "      <td>133.333333</td>\n",
       "      <td>gesture_roll_greyscale</td>\n",
       "      <td>2</td>\n",
       "    </tr>\n",
       "    <tr>\n",
       "      <th>49</th>\n",
       "      <td>{'duration': 208, 'w': -0.141602, 'x': -0.2551...</td>\n",
       "      <td>device</td>\n",
       "      <td>0.0</td>\n",
       "      <td>24</td>\n",
       "      <td>10</td>\n",
       "      <td>-1.246253</td>\n",
       "      <td>1</td>\n",
       "      <td>23</td>\n",
       "      <td>-33.909533</td>\n",
       "      <td>18</td>\n",
       "      <td>6</td>\n",
       "      <td>24.0</td>\n",
       "      <td>95.833333</td>\n",
       "      <td>25.000000</td>\n",
       "      <td>gesture_roll_greyscale</td>\n",
       "      <td>2</td>\n",
       "    </tr>\n",
       "    <tr>\n",
       "      <th>50</th>\n",
       "      <td>{'z': 0.833679, 'timestamp': 1719319985, 'cali...</td>\n",
       "      <td>device</td>\n",
       "      <td>0.0</td>\n",
       "      <td>15</td>\n",
       "      <td>11</td>\n",
       "      <td>-1.209508</td>\n",
       "      <td>1</td>\n",
       "      <td>14</td>\n",
       "      <td>-42.167901</td>\n",
       "      <td>23</td>\n",
       "      <td>8</td>\n",
       "      <td>15.0</td>\n",
       "      <td>93.333333</td>\n",
       "      <td>53.333333</td>\n",
       "      <td>gesture_roll_greyscale</td>\n",
       "      <td>2</td>\n",
       "    </tr>\n",
       "    <tr>\n",
       "      <th>51</th>\n",
       "      <td>{'y': -0.432556, 'w': -0.153259, 'timestamp': ...</td>\n",
       "      <td>device</td>\n",
       "      <td>0.0</td>\n",
       "      <td>27</td>\n",
       "      <td>12</td>\n",
       "      <td>-1.483143</td>\n",
       "      <td>1</td>\n",
       "      <td>26</td>\n",
       "      <td>-36.708028</td>\n",
       "      <td>20</td>\n",
       "      <td>7</td>\n",
       "      <td>27.0</td>\n",
       "      <td>96.296296</td>\n",
       "      <td>25.925926</td>\n",
       "      <td>gesture_roll_greyscale</td>\n",
       "      <td>2</td>\n",
       "    </tr>\n",
       "    <tr>\n",
       "      <th>52</th>\n",
       "      <td>{'w': -0.206116, 'z': 0.803284, 'calibration_s...</td>\n",
       "      <td>device</td>\n",
       "      <td>0.0</td>\n",
       "      <td>17</td>\n",
       "      <td>13</td>\n",
       "      <td>-1.799426</td>\n",
       "      <td>1</td>\n",
       "      <td>16</td>\n",
       "      <td>-52.960193</td>\n",
       "      <td>29</td>\n",
       "      <td>12</td>\n",
       "      <td>17.0</td>\n",
       "      <td>94.117647</td>\n",
       "      <td>70.588235</td>\n",
       "      <td>gesture_roll_greyscale</td>\n",
       "      <td>2</td>\n",
       "    </tr>\n",
       "    <tr>\n",
       "      <th>53</th>\n",
       "      <td>{'activity_confidence': 94, 'duration': 394, '...</td>\n",
       "      <td>device</td>\n",
       "      <td>0.0</td>\n",
       "      <td>42</td>\n",
       "      <td>14</td>\n",
       "      <td>-2.324575</td>\n",
       "      <td>1</td>\n",
       "      <td>41</td>\n",
       "      <td>-45.035622</td>\n",
       "      <td>25</td>\n",
       "      <td>17</td>\n",
       "      <td>42.0</td>\n",
       "      <td>97.619048</td>\n",
       "      <td>40.476190</td>\n",
       "      <td>gesture_roll_greyscale</td>\n",
       "      <td>2</td>\n",
       "    </tr>\n",
       "    <tr>\n",
       "      <th>54</th>\n",
       "      <td>{'activity_confidence': 95, 'calibration_statu...</td>\n",
       "      <td>device</td>\n",
       "      <td>0.0</td>\n",
       "      <td>31</td>\n",
       "      <td>15</td>\n",
       "      <td>-2.611501</td>\n",
       "      <td>1</td>\n",
       "      <td>30</td>\n",
       "      <td>-74.705101</td>\n",
       "      <td>41</td>\n",
       "      <td>10</td>\n",
       "      <td>31.0</td>\n",
       "      <td>96.774194</td>\n",
       "      <td>32.258065</td>\n",
       "      <td>gesture_roll_greyscale</td>\n",
       "      <td>1</td>\n",
       "    </tr>\n",
       "    <tr>\n",
       "      <th>55</th>\n",
       "      <td>{'z': 0.766541, 'duration': 298, 'w': -0.24005...</td>\n",
       "      <td>device</td>\n",
       "      <td>0.0</td>\n",
       "      <td>8</td>\n",
       "      <td>16</td>\n",
       "      <td>-3.216531</td>\n",
       "      <td>2</td>\n",
       "      <td>6</td>\n",
       "      <td>-63.835575</td>\n",
       "      <td>35</td>\n",
       "      <td>27</td>\n",
       "      <td>8.0</td>\n",
       "      <td>75.000000</td>\n",
       "      <td>337.500000</td>\n",
       "      <td>gesture_roll_greyscale</td>\n",
       "      <td>1</td>\n",
       "    </tr>\n",
       "    <tr>\n",
       "      <th>56</th>\n",
       "      <td>{'x': -0.163452, 'z': 0.877869, 'timestamp': 1...</td>\n",
       "      <td>device</td>\n",
       "      <td>0.0</td>\n",
       "      <td>13</td>\n",
       "      <td>17</td>\n",
       "      <td>-3.193685</td>\n",
       "      <td>2</td>\n",
       "      <td>11</td>\n",
       "      <td>-22.547842</td>\n",
       "      <td>12</td>\n",
       "      <td>1</td>\n",
       "      <td>13.0</td>\n",
       "      <td>84.615385</td>\n",
       "      <td>7.692308</td>\n",
       "      <td>gesture_roll_greyscale</td>\n",
       "      <td>2</td>\n",
       "    </tr>\n",
       "    <tr>\n",
       "      <th>57</th>\n",
       "      <td>{'y': -0.434021, 'x': -0.209534, 'activity': '...</td>\n",
       "      <td>device</td>\n",
       "      <td>0.0</td>\n",
       "      <td>34</td>\n",
       "      <td>18</td>\n",
       "      <td>-4.090372</td>\n",
       "      <td>2</td>\n",
       "      <td>32</td>\n",
       "      <td>-29.011137</td>\n",
       "      <td>16</td>\n",
       "      <td>18</td>\n",
       "      <td>34.0</td>\n",
       "      <td>94.117647</td>\n",
       "      <td>52.941176</td>\n",
       "      <td>gesture_roll_greyscale</td>\n",
       "      <td>2</td>\n",
       "    </tr>\n",
       "    <tr>\n",
       "      <th>58</th>\n",
       "      <td>{'y': -0.394958, 'duration': 183, 'activity_co...</td>\n",
       "      <td>device</td>\n",
       "      <td>0.0</td>\n",
       "      <td>19</td>\n",
       "      <td>19</td>\n",
       "      <td>-5.028142</td>\n",
       "      <td>3</td>\n",
       "      <td>16</td>\n",
       "      <td>-53.089142</td>\n",
       "      <td>29</td>\n",
       "      <td>10</td>\n",
       "      <td>19.0</td>\n",
       "      <td>84.210526</td>\n",
       "      <td>52.631579</td>\n",
       "      <td>gesture_roll_greyscale</td>\n",
       "      <td>2</td>\n",
       "    </tr>\n",
       "    <tr>\n",
       "      <th>59</th>\n",
       "      <td>{'timestamp': 1719320027, 'duration': 268, 'x'...</td>\n",
       "      <td>device</td>\n",
       "      <td>0.0</td>\n",
       "      <td>33</td>\n",
       "      <td>20</td>\n",
       "      <td>-5.853605</td>\n",
       "      <td>3</td>\n",
       "      <td>30</td>\n",
       "      <td>-43.175623</td>\n",
       "      <td>24</td>\n",
       "      <td>9</td>\n",
       "      <td>33.0</td>\n",
       "      <td>90.909091</td>\n",
       "      <td>27.272727</td>\n",
       "      <td>gesture_roll_greyscale</td>\n",
       "      <td>2</td>\n",
       "    </tr>\n",
       "  </tbody>\n",
       "</table>\n",
       "</div>"
      ],
      "text/plain": [
       "                                        sensorReading inputType  value  truth  \\\n",
       "40  {'z': 0.689941, 'x': -0.481995, 'y': -0.472534...    device    0.0     44   \n",
       "41  {'activity_confidence': 73, 'y': -0.430176, 'c...    device    0.0     23   \n",
       "42  {'duration': 191, 'w': -0.209595, 'activity_co...    device    0.0     36   \n",
       "43  {'duration': 154, 'activity_confidence': 83, '...    device    0.0      9   \n",
       "44  {'duration': 191, 'timestamp': 1719319897, 'w'...    device    0.0     25   \n",
       "45  {'calibration_status': 1, 'duration': 154, 'st...    device    0.0     32   \n",
       "46  {'y': 0.219299, 'timestamp': 1719319938, 'stab...    device    0.0     49   \n",
       "47  {'y': -0.263794, 'z': 0.584167, 'calibration_s...    device    0.0      4   \n",
       "48  {'timestamp': 1719319973, 'calibration_status'...    device    0.0      6   \n",
       "49  {'duration': 208, 'w': -0.141602, 'x': -0.2551...    device    0.0     24   \n",
       "50  {'z': 0.833679, 'timestamp': 1719319985, 'cali...    device    0.0     15   \n",
       "51  {'y': -0.432556, 'w': -0.153259, 'timestamp': ...    device    0.0     27   \n",
       "52  {'w': -0.206116, 'z': 0.803284, 'calibration_s...    device    0.0     17   \n",
       "53  {'activity_confidence': 94, 'duration': 394, '...    device    0.0     42   \n",
       "54  {'activity_confidence': 95, 'calibration_statu...    device    0.0     31   \n",
       "55  {'z': 0.766541, 'duration': 298, 'w': -0.24005...    device    0.0      8   \n",
       "56  {'x': -0.163452, 'z': 0.877869, 'timestamp': 1...    device    0.0     13   \n",
       "57  {'y': -0.434021, 'x': -0.209534, 'activity': '...    device    0.0     34   \n",
       "58  {'y': -0.394958, 'duration': 183, 'activity_co...    device    0.0     19   \n",
       "59  {'timestamp': 1719320027, 'duration': 268, 'x'...    device    0.0     33   \n",
       "\n",
       "    id       pitch  pitch_truth  pitch_truth_diff       roll  roll_truth  \\\n",
       "40   1   13.376283            7                37 -65.808874          36   \n",
       "41   2   22.423382           12                11 -75.377780          41   \n",
       "42   3    2.314338            1                35 -48.042855          26   \n",
       "43   4    2.277466            1                 8 -51.946909          28   \n",
       "44   5    1.087700            1                24 -28.642069          16   \n",
       "45   6    0.670309            0                32 -39.366854          21   \n",
       "46   7    1.383910            1                48 -62.179796          34   \n",
       "47   8  179.123936           49                45 -79.725375          43   \n",
       "48   9   -0.864269            0                 6 -25.683753          14   \n",
       "49  10   -1.246253            1                23 -33.909533          18   \n",
       "50  11   -1.209508            1                14 -42.167901          23   \n",
       "51  12   -1.483143            1                26 -36.708028          20   \n",
       "52  13   -1.799426            1                16 -52.960193          29   \n",
       "53  14   -2.324575            1                41 -45.035622          25   \n",
       "54  15   -2.611501            1                30 -74.705101          41   \n",
       "55  16   -3.216531            2                 6 -63.835575          35   \n",
       "56  17   -3.193685            2                11 -22.547842          12   \n",
       "57  18   -4.090372            2                32 -29.011137          16   \n",
       "58  19   -5.028142            3                16 -53.089142          29   \n",
       "59  20   -5.853605            3                30 -43.175623          24   \n",
       "\n",
       "    roll_truth_diff  slider_diff  pitch_truth_diff_percentage  \\\n",
       "40                8         44.0                    84.090909   \n",
       "41               18         23.0                    47.826087   \n",
       "42               10         36.0                    97.222222   \n",
       "43               19          9.0                    88.888889   \n",
       "44                9         25.0                    96.000000   \n",
       "45               11         32.0                   100.000000   \n",
       "46               15         49.0                    97.959184   \n",
       "47               39          4.0                  1125.000000   \n",
       "48                8          6.0                   100.000000   \n",
       "49                6         24.0                    95.833333   \n",
       "50                8         15.0                    93.333333   \n",
       "51                7         27.0                    96.296296   \n",
       "52               12         17.0                    94.117647   \n",
       "53               17         42.0                    97.619048   \n",
       "54               10         31.0                    96.774194   \n",
       "55               27          8.0                    75.000000   \n",
       "56                1         13.0                    84.615385   \n",
       "57               18         34.0                    94.117647   \n",
       "58               10         19.0                    84.210526   \n",
       "59                9         33.0                    90.909091   \n",
       "\n",
       "    roll_truth_diff_percentage         experiment_type  calibration  \n",
       "40                   18.181818  gesture_roll_greyscale            1  \n",
       "41                   78.260870  gesture_roll_greyscale            1  \n",
       "42                   27.777778  gesture_roll_greyscale            1  \n",
       "43                  211.111111  gesture_roll_greyscale            1  \n",
       "44                   36.000000  gesture_roll_greyscale            2  \n",
       "45                   34.375000  gesture_roll_greyscale            1  \n",
       "46                   30.612245  gesture_roll_greyscale            2  \n",
       "47                  975.000000  gesture_roll_greyscale            1  \n",
       "48                  133.333333  gesture_roll_greyscale            2  \n",
       "49                   25.000000  gesture_roll_greyscale            2  \n",
       "50                   53.333333  gesture_roll_greyscale            2  \n",
       "51                   25.925926  gesture_roll_greyscale            2  \n",
       "52                   70.588235  gesture_roll_greyscale            2  \n",
       "53                   40.476190  gesture_roll_greyscale            2  \n",
       "54                   32.258065  gesture_roll_greyscale            1  \n",
       "55                  337.500000  gesture_roll_greyscale            1  \n",
       "56                    7.692308  gesture_roll_greyscale            2  \n",
       "57                   52.941176  gesture_roll_greyscale            2  \n",
       "58                   52.631579  gesture_roll_greyscale            2  \n",
       "59                   27.272727  gesture_roll_greyscale            2  "
      ]
     },
     "execution_count": 32,
     "metadata": {},
     "output_type": "execute_result"
    }
   ],
   "source": [
    "df[df[\"experiment_type\"] == \"gesture_roll_greyscale\"]"
   ]
  },
  {
   "cell_type": "code",
   "execution_count": 33,
   "metadata": {},
   "outputs": [
    {
     "data": {
      "text/html": [
       "<div>\n",
       "<style scoped>\n",
       "    .dataframe tbody tr th:only-of-type {\n",
       "        vertical-align: middle;\n",
       "    }\n",
       "\n",
       "    .dataframe tbody tr th {\n",
       "        vertical-align: top;\n",
       "    }\n",
       "\n",
       "    .dataframe thead th {\n",
       "        text-align: right;\n",
       "    }\n",
       "</style>\n",
       "<table border=\"1\" class=\"dataframe\">\n",
       "  <thead>\n",
       "    <tr style=\"text-align: right;\">\n",
       "      <th></th>\n",
       "      <th>sensorReading</th>\n",
       "      <th>inputType</th>\n",
       "      <th>value</th>\n",
       "      <th>truth</th>\n",
       "      <th>id</th>\n",
       "      <th>pitch</th>\n",
       "      <th>pitch_truth</th>\n",
       "      <th>pitch_truth_diff</th>\n",
       "      <th>roll</th>\n",
       "      <th>roll_truth</th>\n",
       "      <th>roll_truth_diff</th>\n",
       "      <th>slider_diff</th>\n",
       "      <th>pitch_truth_diff_percentage</th>\n",
       "      <th>roll_truth_diff_percentage</th>\n",
       "      <th>experiment_type</th>\n",
       "      <th>calibration</th>\n",
       "    </tr>\n",
       "  </thead>\n",
       "  <tbody>\n",
       "    <tr>\n",
       "      <th>60</th>\n",
       "      <td>{'duration': 213, 'activity_confidence': 95, '...</td>\n",
       "      <td>device</td>\n",
       "      <td>0.0</td>\n",
       "      <td>75</td>\n",
       "      <td>1</td>\n",
       "      <td>-6.540093</td>\n",
       "      <td>7</td>\n",
       "      <td>68</td>\n",
       "      <td>-64.960044</td>\n",
       "      <td>72</td>\n",
       "      <td>3</td>\n",
       "      <td>75.0</td>\n",
       "      <td>90.666667</td>\n",
       "      <td>4.000000</td>\n",
       "      <td>gesture_roll_number</td>\n",
       "      <td>2</td>\n",
       "    </tr>\n",
       "    <tr>\n",
       "      <th>61</th>\n",
       "      <td>{'activity_confidence': 96, 'w': -0.284912, 's...</td>\n",
       "      <td>device</td>\n",
       "      <td>0.0</td>\n",
       "      <td>81</td>\n",
       "      <td>2</td>\n",
       "      <td>-6.503005</td>\n",
       "      <td>7</td>\n",
       "      <td>74</td>\n",
       "      <td>-69.505106</td>\n",
       "      <td>77</td>\n",
       "      <td>4</td>\n",
       "      <td>81.0</td>\n",
       "      <td>91.358025</td>\n",
       "      <td>4.938272</td>\n",
       "      <td>gesture_roll_number</td>\n",
       "      <td>2</td>\n",
       "    </tr>\n",
       "    <tr>\n",
       "      <th>62</th>\n",
       "      <td>{'z': 0.770508, 'stability': 'Stable', 'y': -0...</td>\n",
       "      <td>device</td>\n",
       "      <td>0.0</td>\n",
       "      <td>70</td>\n",
       "      <td>3</td>\n",
       "      <td>-5.603559</td>\n",
       "      <td>6</td>\n",
       "      <td>64</td>\n",
       "      <td>-59.262947</td>\n",
       "      <td>66</td>\n",
       "      <td>4</td>\n",
       "      <td>70.0</td>\n",
       "      <td>91.428571</td>\n",
       "      <td>5.714286</td>\n",
       "      <td>gesture_roll_number</td>\n",
       "      <td>2</td>\n",
       "    </tr>\n",
       "    <tr>\n",
       "      <th>63</th>\n",
       "      <td>{'activity': 'Still', 'calibration_status': 2,...</td>\n",
       "      <td>device</td>\n",
       "      <td>0.0</td>\n",
       "      <td>26</td>\n",
       "      <td>4</td>\n",
       "      <td>-4.109254</td>\n",
       "      <td>5</td>\n",
       "      <td>21</td>\n",
       "      <td>-36.102319</td>\n",
       "      <td>40</td>\n",
       "      <td>14</td>\n",
       "      <td>26.0</td>\n",
       "      <td>80.769231</td>\n",
       "      <td>53.846154</td>\n",
       "      <td>gesture_roll_number</td>\n",
       "      <td>2</td>\n",
       "    </tr>\n",
       "    <tr>\n",
       "      <th>64</th>\n",
       "      <td>{'calibration_status': 2, 'activity': 'Still',...</td>\n",
       "      <td>device</td>\n",
       "      <td>0.0</td>\n",
       "      <td>20</td>\n",
       "      <td>5</td>\n",
       "      <td>-3.932020</td>\n",
       "      <td>4</td>\n",
       "      <td>16</td>\n",
       "      <td>-33.662836</td>\n",
       "      <td>37</td>\n",
       "      <td>17</td>\n",
       "      <td>20.0</td>\n",
       "      <td>80.000000</td>\n",
       "      <td>85.000000</td>\n",
       "      <td>gesture_roll_number</td>\n",
       "      <td>2</td>\n",
       "    </tr>\n",
       "    <tr>\n",
       "      <th>65</th>\n",
       "      <td>{'calibration_status': 2, 'y': -0.397583, 'tim...</td>\n",
       "      <td>device</td>\n",
       "      <td>0.0</td>\n",
       "      <td>63</td>\n",
       "      <td>6</td>\n",
       "      <td>-6.837365</td>\n",
       "      <td>8</td>\n",
       "      <td>55</td>\n",
       "      <td>-58.008506</td>\n",
       "      <td>64</td>\n",
       "      <td>1</td>\n",
       "      <td>63.0</td>\n",
       "      <td>87.301587</td>\n",
       "      <td>1.587302</td>\n",
       "      <td>gesture_roll_number</td>\n",
       "      <td>2</td>\n",
       "    </tr>\n",
       "    <tr>\n",
       "      <th>66</th>\n",
       "      <td>{'z': 0.73645, 'stability': 'Stable', 'timesta...</td>\n",
       "      <td>device</td>\n",
       "      <td>0.0</td>\n",
       "      <td>85</td>\n",
       "      <td>7</td>\n",
       "      <td>-7.991331</td>\n",
       "      <td>9</td>\n",
       "      <td>76</td>\n",
       "      <td>-67.340333</td>\n",
       "      <td>75</td>\n",
       "      <td>10</td>\n",
       "      <td>85.0</td>\n",
       "      <td>89.411765</td>\n",
       "      <td>11.764706</td>\n",
       "      <td>gesture_roll_number</td>\n",
       "      <td>2</td>\n",
       "    </tr>\n",
       "    <tr>\n",
       "      <th>67</th>\n",
       "      <td>{'activity_confidence': 80, 'activity': 'Still...</td>\n",
       "      <td>device</td>\n",
       "      <td>0.0</td>\n",
       "      <td>100</td>\n",
       "      <td>8</td>\n",
       "      <td>179.464782</td>\n",
       "      <td>100</td>\n",
       "      <td>0</td>\n",
       "      <td>-77.994724</td>\n",
       "      <td>87</td>\n",
       "      <td>13</td>\n",
       "      <td>100.0</td>\n",
       "      <td>0.000000</td>\n",
       "      <td>13.000000</td>\n",
       "      <td>gesture_roll_number</td>\n",
       "      <td>1</td>\n",
       "    </tr>\n",
       "    <tr>\n",
       "      <th>68</th>\n",
       "      <td>{'activity': 'Still', 'stability': 'Stable', '...</td>\n",
       "      <td>device</td>\n",
       "      <td>0.0</td>\n",
       "      <td>96</td>\n",
       "      <td>9</td>\n",
       "      <td>-176.259097</td>\n",
       "      <td>100</td>\n",
       "      <td>4</td>\n",
       "      <td>-86.372440</td>\n",
       "      <td>96</td>\n",
       "      <td>0</td>\n",
       "      <td>96.0</td>\n",
       "      <td>4.166667</td>\n",
       "      <td>0.000000</td>\n",
       "      <td>gesture_roll_number</td>\n",
       "      <td>1</td>\n",
       "    </tr>\n",
       "    <tr>\n",
       "      <th>69</th>\n",
       "      <td>{'calibration_status': 2, 'duration': 231, 'x'...</td>\n",
       "      <td>device</td>\n",
       "      <td>0.0</td>\n",
       "      <td>46</td>\n",
       "      <td>10</td>\n",
       "      <td>-7.100933</td>\n",
       "      <td>8</td>\n",
       "      <td>38</td>\n",
       "      <td>-59.022820</td>\n",
       "      <td>66</td>\n",
       "      <td>20</td>\n",
       "      <td>46.0</td>\n",
       "      <td>82.608696</td>\n",
       "      <td>43.478261</td>\n",
       "      <td>gesture_roll_number</td>\n",
       "      <td>2</td>\n",
       "    </tr>\n",
       "    <tr>\n",
       "      <th>70</th>\n",
       "      <td>{'timestamp': 1719320080, 'y': -0.348816, 'z':...</td>\n",
       "      <td>device</td>\n",
       "      <td>0.0</td>\n",
       "      <td>58</td>\n",
       "      <td>11</td>\n",
       "      <td>-13.085992</td>\n",
       "      <td>15</td>\n",
       "      <td>43</td>\n",
       "      <td>-72.887761</td>\n",
       "      <td>81</td>\n",
       "      <td>23</td>\n",
       "      <td>58.0</td>\n",
       "      <td>74.137931</td>\n",
       "      <td>39.655172</td>\n",
       "      <td>gesture_roll_number</td>\n",
       "      <td>1</td>\n",
       "    </tr>\n",
       "    <tr>\n",
       "      <th>71</th>\n",
       "      <td>{'calibration_status': 2, 'y': -0.425537, 'x':...</td>\n",
       "      <td>device</td>\n",
       "      <td>0.0</td>\n",
       "      <td>9</td>\n",
       "      <td>12</td>\n",
       "      <td>-5.635166</td>\n",
       "      <td>6</td>\n",
       "      <td>3</td>\n",
       "      <td>-37.266595</td>\n",
       "      <td>41</td>\n",
       "      <td>32</td>\n",
       "      <td>9.0</td>\n",
       "      <td>33.333333</td>\n",
       "      <td>355.555556</td>\n",
       "      <td>gesture_roll_number</td>\n",
       "      <td>2</td>\n",
       "    </tr>\n",
       "    <tr>\n",
       "      <th>72</th>\n",
       "      <td>{'duration': 211, 'z': 0.734985, 'x': -0.49188...</td>\n",
       "      <td>device</td>\n",
       "      <td>0.0</td>\n",
       "      <td>60</td>\n",
       "      <td>13</td>\n",
       "      <td>-11.283455</td>\n",
       "      <td>13</td>\n",
       "      <td>47</td>\n",
       "      <td>-69.305780</td>\n",
       "      <td>77</td>\n",
       "      <td>17</td>\n",
       "      <td>60.0</td>\n",
       "      <td>78.333333</td>\n",
       "      <td>28.333333</td>\n",
       "      <td>gesture_roll_number</td>\n",
       "      <td>1</td>\n",
       "    </tr>\n",
       "    <tr>\n",
       "      <th>73</th>\n",
       "      <td>{'z': 0.768677, 'y': -0.376587, 'stability': '...</td>\n",
       "      <td>device</td>\n",
       "      <td>0.0</td>\n",
       "      <td>54</td>\n",
       "      <td>14</td>\n",
       "      <td>-9.523154</td>\n",
       "      <td>11</td>\n",
       "      <td>43</td>\n",
       "      <td>-61.839626</td>\n",
       "      <td>69</td>\n",
       "      <td>15</td>\n",
       "      <td>54.0</td>\n",
       "      <td>79.629630</td>\n",
       "      <td>27.777778</td>\n",
       "      <td>gesture_roll_number</td>\n",
       "      <td>1</td>\n",
       "    </tr>\n",
       "    <tr>\n",
       "      <th>74</th>\n",
       "      <td>{'timestamp': 1719320094, 'y': -0.402405, 'w':...</td>\n",
       "      <td>device</td>\n",
       "      <td>0.0</td>\n",
       "      <td>37</td>\n",
       "      <td>15</td>\n",
       "      <td>-7.411182</td>\n",
       "      <td>8</td>\n",
       "      <td>29</td>\n",
       "      <td>-48.987362</td>\n",
       "      <td>54</td>\n",
       "      <td>17</td>\n",
       "      <td>37.0</td>\n",
       "      <td>78.378378</td>\n",
       "      <td>45.945946</td>\n",
       "      <td>gesture_roll_number</td>\n",
       "      <td>2</td>\n",
       "    </tr>\n",
       "    <tr>\n",
       "      <th>75</th>\n",
       "      <td>{'x': -0.476257, 'activity_confidence': 94, 's...</td>\n",
       "      <td>device</td>\n",
       "      <td>0.0</td>\n",
       "      <td>76</td>\n",
       "      <td>16</td>\n",
       "      <td>-11.913391</td>\n",
       "      <td>13</td>\n",
       "      <td>63</td>\n",
       "      <td>-66.955321</td>\n",
       "      <td>74</td>\n",
       "      <td>2</td>\n",
       "      <td>76.0</td>\n",
       "      <td>82.894737</td>\n",
       "      <td>2.631579</td>\n",
       "      <td>gesture_roll_number</td>\n",
       "      <td>1</td>\n",
       "    </tr>\n",
       "    <tr>\n",
       "      <th>76</th>\n",
       "      <td>{'activity': 'Still', 'stability': 'In motion'...</td>\n",
       "      <td>device</td>\n",
       "      <td>0.0</td>\n",
       "      <td>33</td>\n",
       "      <td>17</td>\n",
       "      <td>-7.301982</td>\n",
       "      <td>8</td>\n",
       "      <td>25</td>\n",
       "      <td>-43.126351</td>\n",
       "      <td>48</td>\n",
       "      <td>15</td>\n",
       "      <td>33.0</td>\n",
       "      <td>75.757576</td>\n",
       "      <td>45.454545</td>\n",
       "      <td>gesture_roll_number</td>\n",
       "      <td>2</td>\n",
       "    </tr>\n",
       "    <tr>\n",
       "      <th>77</th>\n",
       "      <td>{'y': -0.357056, 'x': -0.488708, 'z': 0.740906...</td>\n",
       "      <td>device</td>\n",
       "      <td>0.0</td>\n",
       "      <td>77</td>\n",
       "      <td>18</td>\n",
       "      <td>-13.132938</td>\n",
       "      <td>15</td>\n",
       "      <td>62</td>\n",
       "      <td>-68.755459</td>\n",
       "      <td>76</td>\n",
       "      <td>1</td>\n",
       "      <td>77.0</td>\n",
       "      <td>80.519481</td>\n",
       "      <td>1.298701</td>\n",
       "      <td>gesture_roll_number</td>\n",
       "      <td>1</td>\n",
       "    </tr>\n",
       "    <tr>\n",
       "      <th>78</th>\n",
       "      <td>{'timestamp': 1719320108, 'x': -0.508484, 'act...</td>\n",
       "      <td>device</td>\n",
       "      <td>0.0</td>\n",
       "      <td>82</td>\n",
       "      <td>19</td>\n",
       "      <td>-15.346563</td>\n",
       "      <td>17</td>\n",
       "      <td>65</td>\n",
       "      <td>-71.713174</td>\n",
       "      <td>80</td>\n",
       "      <td>2</td>\n",
       "      <td>82.0</td>\n",
       "      <td>79.268293</td>\n",
       "      <td>2.439024</td>\n",
       "      <td>gesture_roll_number</td>\n",
       "      <td>1</td>\n",
       "    </tr>\n",
       "    <tr>\n",
       "      <th>79</th>\n",
       "      <td>{'timestamp': 1719320112, 'z': 0.847412, 'acti...</td>\n",
       "      <td>device</td>\n",
       "      <td>0.0</td>\n",
       "      <td>23</td>\n",
       "      <td>20</td>\n",
       "      <td>-7.474058</td>\n",
       "      <td>8</td>\n",
       "      <td>15</td>\n",
       "      <td>-36.446336</td>\n",
       "      <td>40</td>\n",
       "      <td>17</td>\n",
       "      <td>23.0</td>\n",
       "      <td>65.217391</td>\n",
       "      <td>73.913043</td>\n",
       "      <td>gesture_roll_number</td>\n",
       "      <td>2</td>\n",
       "    </tr>\n",
       "  </tbody>\n",
       "</table>\n",
       "</div>"
      ],
      "text/plain": [
       "                                        sensorReading inputType  value  truth  \\\n",
       "60  {'duration': 213, 'activity_confidence': 95, '...    device    0.0     75   \n",
       "61  {'activity_confidence': 96, 'w': -0.284912, 's...    device    0.0     81   \n",
       "62  {'z': 0.770508, 'stability': 'Stable', 'y': -0...    device    0.0     70   \n",
       "63  {'activity': 'Still', 'calibration_status': 2,...    device    0.0     26   \n",
       "64  {'calibration_status': 2, 'activity': 'Still',...    device    0.0     20   \n",
       "65  {'calibration_status': 2, 'y': -0.397583, 'tim...    device    0.0     63   \n",
       "66  {'z': 0.73645, 'stability': 'Stable', 'timesta...    device    0.0     85   \n",
       "67  {'activity_confidence': 80, 'activity': 'Still...    device    0.0    100   \n",
       "68  {'activity': 'Still', 'stability': 'Stable', '...    device    0.0     96   \n",
       "69  {'calibration_status': 2, 'duration': 231, 'x'...    device    0.0     46   \n",
       "70  {'timestamp': 1719320080, 'y': -0.348816, 'z':...    device    0.0     58   \n",
       "71  {'calibration_status': 2, 'y': -0.425537, 'x':...    device    0.0      9   \n",
       "72  {'duration': 211, 'z': 0.734985, 'x': -0.49188...    device    0.0     60   \n",
       "73  {'z': 0.768677, 'y': -0.376587, 'stability': '...    device    0.0     54   \n",
       "74  {'timestamp': 1719320094, 'y': -0.402405, 'w':...    device    0.0     37   \n",
       "75  {'x': -0.476257, 'activity_confidence': 94, 's...    device    0.0     76   \n",
       "76  {'activity': 'Still', 'stability': 'In motion'...    device    0.0     33   \n",
       "77  {'y': -0.357056, 'x': -0.488708, 'z': 0.740906...    device    0.0     77   \n",
       "78  {'timestamp': 1719320108, 'x': -0.508484, 'act...    device    0.0     82   \n",
       "79  {'timestamp': 1719320112, 'z': 0.847412, 'acti...    device    0.0     23   \n",
       "\n",
       "    id       pitch  pitch_truth  pitch_truth_diff       roll  roll_truth  \\\n",
       "60   1   -6.540093            7                68 -64.960044          72   \n",
       "61   2   -6.503005            7                74 -69.505106          77   \n",
       "62   3   -5.603559            6                64 -59.262947          66   \n",
       "63   4   -4.109254            5                21 -36.102319          40   \n",
       "64   5   -3.932020            4                16 -33.662836          37   \n",
       "65   6   -6.837365            8                55 -58.008506          64   \n",
       "66   7   -7.991331            9                76 -67.340333          75   \n",
       "67   8  179.464782          100                 0 -77.994724          87   \n",
       "68   9 -176.259097          100                 4 -86.372440          96   \n",
       "69  10   -7.100933            8                38 -59.022820          66   \n",
       "70  11  -13.085992           15                43 -72.887761          81   \n",
       "71  12   -5.635166            6                 3 -37.266595          41   \n",
       "72  13  -11.283455           13                47 -69.305780          77   \n",
       "73  14   -9.523154           11                43 -61.839626          69   \n",
       "74  15   -7.411182            8                29 -48.987362          54   \n",
       "75  16  -11.913391           13                63 -66.955321          74   \n",
       "76  17   -7.301982            8                25 -43.126351          48   \n",
       "77  18  -13.132938           15                62 -68.755459          76   \n",
       "78  19  -15.346563           17                65 -71.713174          80   \n",
       "79  20   -7.474058            8                15 -36.446336          40   \n",
       "\n",
       "    roll_truth_diff  slider_diff  pitch_truth_diff_percentage  \\\n",
       "60                3         75.0                    90.666667   \n",
       "61                4         81.0                    91.358025   \n",
       "62                4         70.0                    91.428571   \n",
       "63               14         26.0                    80.769231   \n",
       "64               17         20.0                    80.000000   \n",
       "65                1         63.0                    87.301587   \n",
       "66               10         85.0                    89.411765   \n",
       "67               13        100.0                     0.000000   \n",
       "68                0         96.0                     4.166667   \n",
       "69               20         46.0                    82.608696   \n",
       "70               23         58.0                    74.137931   \n",
       "71               32          9.0                    33.333333   \n",
       "72               17         60.0                    78.333333   \n",
       "73               15         54.0                    79.629630   \n",
       "74               17         37.0                    78.378378   \n",
       "75                2         76.0                    82.894737   \n",
       "76               15         33.0                    75.757576   \n",
       "77                1         77.0                    80.519481   \n",
       "78                2         82.0                    79.268293   \n",
       "79               17         23.0                    65.217391   \n",
       "\n",
       "    roll_truth_diff_percentage      experiment_type  calibration  \n",
       "60                    4.000000  gesture_roll_number            2  \n",
       "61                    4.938272  gesture_roll_number            2  \n",
       "62                    5.714286  gesture_roll_number            2  \n",
       "63                   53.846154  gesture_roll_number            2  \n",
       "64                   85.000000  gesture_roll_number            2  \n",
       "65                    1.587302  gesture_roll_number            2  \n",
       "66                   11.764706  gesture_roll_number            2  \n",
       "67                   13.000000  gesture_roll_number            1  \n",
       "68                    0.000000  gesture_roll_number            1  \n",
       "69                   43.478261  gesture_roll_number            2  \n",
       "70                   39.655172  gesture_roll_number            1  \n",
       "71                  355.555556  gesture_roll_number            2  \n",
       "72                   28.333333  gesture_roll_number            1  \n",
       "73                   27.777778  gesture_roll_number            1  \n",
       "74                   45.945946  gesture_roll_number            2  \n",
       "75                    2.631579  gesture_roll_number            1  \n",
       "76                   45.454545  gesture_roll_number            2  \n",
       "77                    1.298701  gesture_roll_number            1  \n",
       "78                    2.439024  gesture_roll_number            1  \n",
       "79                   73.913043  gesture_roll_number            2  "
      ]
     },
     "execution_count": 33,
     "metadata": {},
     "output_type": "execute_result"
    }
   ],
   "source": [
    "df[df[\"experiment_type\"] == \"gesture_roll_number\"]"
   ]
  },
  {
   "cell_type": "code",
   "execution_count": 34,
   "metadata": {},
   "outputs": [
    {
     "data": {
      "text/html": [
       "<div>\n",
       "<style scoped>\n",
       "    .dataframe tbody tr th:only-of-type {\n",
       "        vertical-align: middle;\n",
       "    }\n",
       "\n",
       "    .dataframe tbody tr th {\n",
       "        vertical-align: top;\n",
       "    }\n",
       "\n",
       "    .dataframe thead th {\n",
       "        text-align: right;\n",
       "    }\n",
       "</style>\n",
       "<table border=\"1\" class=\"dataframe\">\n",
       "  <thead>\n",
       "    <tr style=\"text-align: right;\">\n",
       "      <th></th>\n",
       "      <th>sensorReading</th>\n",
       "      <th>inputType</th>\n",
       "      <th>value</th>\n",
       "      <th>truth</th>\n",
       "      <th>id</th>\n",
       "      <th>pitch</th>\n",
       "      <th>pitch_truth</th>\n",
       "      <th>pitch_truth_diff</th>\n",
       "      <th>roll</th>\n",
       "      <th>roll_truth</th>\n",
       "      <th>roll_truth_diff</th>\n",
       "      <th>slider_diff</th>\n",
       "      <th>pitch_truth_diff_percentage</th>\n",
       "      <th>roll_truth_diff_percentage</th>\n",
       "      <th>experiment_type</th>\n",
       "      <th>calibration</th>\n",
       "    </tr>\n",
       "  </thead>\n",
       "  <tbody>\n",
       "    <tr>\n",
       "      <th>100</th>\n",
       "      <td>{'stability': 'In motion', 'activity_confidenc...</td>\n",
       "      <td>slider</td>\n",
       "      <td>91.702067</td>\n",
       "      <td>89</td>\n",
       "      <td>1</td>\n",
       "      <td>-7.474058</td>\n",
       "      <td>0</td>\n",
       "      <td>89</td>\n",
       "      <td>-36.446336</td>\n",
       "      <td>0</td>\n",
       "      <td>89</td>\n",
       "      <td>2.702067</td>\n",
       "      <td>100.0</td>\n",
       "      <td>100.0</td>\n",
       "      <td>slider_number</td>\n",
       "      <td>2</td>\n",
       "    </tr>\n",
       "    <tr>\n",
       "      <th>101</th>\n",
       "      <td>{'z': 0.847412, 'activity_confidence': 97, 'ti...</td>\n",
       "      <td>slider</td>\n",
       "      <td>6.660311</td>\n",
       "      <td>11</td>\n",
       "      <td>2</td>\n",
       "      <td>-7.474058</td>\n",
       "      <td>0</td>\n",
       "      <td>11</td>\n",
       "      <td>-36.446336</td>\n",
       "      <td>0</td>\n",
       "      <td>11</td>\n",
       "      <td>4.339689</td>\n",
       "      <td>100.0</td>\n",
       "      <td>100.0</td>\n",
       "      <td>slider_number</td>\n",
       "      <td>2</td>\n",
       "    </tr>\n",
       "    <tr>\n",
       "      <th>102</th>\n",
       "      <td>{'z': 0.847412, 'duration': 231, 'activity': '...</td>\n",
       "      <td>slider</td>\n",
       "      <td>63.674192</td>\n",
       "      <td>61</td>\n",
       "      <td>3</td>\n",
       "      <td>-7.474058</td>\n",
       "      <td>0</td>\n",
       "      <td>61</td>\n",
       "      <td>-36.446336</td>\n",
       "      <td>0</td>\n",
       "      <td>61</td>\n",
       "      <td>2.674192</td>\n",
       "      <td>100.0</td>\n",
       "      <td>100.0</td>\n",
       "      <td>slider_number</td>\n",
       "      <td>2</td>\n",
       "    </tr>\n",
       "    <tr>\n",
       "      <th>103</th>\n",
       "      <td>{'stability': 'In motion', 'z': 0.847412, 'tim...</td>\n",
       "      <td>slider</td>\n",
       "      <td>97.059559</td>\n",
       "      <td>94</td>\n",
       "      <td>4</td>\n",
       "      <td>-7.474058</td>\n",
       "      <td>0</td>\n",
       "      <td>94</td>\n",
       "      <td>-36.446336</td>\n",
       "      <td>0</td>\n",
       "      <td>94</td>\n",
       "      <td>3.059559</td>\n",
       "      <td>100.0</td>\n",
       "      <td>100.0</td>\n",
       "      <td>slider_number</td>\n",
       "      <td>2</td>\n",
       "    </tr>\n",
       "    <tr>\n",
       "      <th>104</th>\n",
       "      <td>{'z': 0.847412, 'x': -0.25531, 'w': -0.189819,...</td>\n",
       "      <td>slider</td>\n",
       "      <td>89.814848</td>\n",
       "      <td>79</td>\n",
       "      <td>5</td>\n",
       "      <td>-7.474058</td>\n",
       "      <td>0</td>\n",
       "      <td>79</td>\n",
       "      <td>-36.446336</td>\n",
       "      <td>0</td>\n",
       "      <td>79</td>\n",
       "      <td>10.814848</td>\n",
       "      <td>100.0</td>\n",
       "      <td>100.0</td>\n",
       "      <td>slider_number</td>\n",
       "      <td>2</td>\n",
       "    </tr>\n",
       "    <tr>\n",
       "      <th>105</th>\n",
       "      <td>{'calibration_status': 2, 'w': -0.189819, 'sta...</td>\n",
       "      <td>slider</td>\n",
       "      <td>15.061070</td>\n",
       "      <td>40</td>\n",
       "      <td>6</td>\n",
       "      <td>-7.474058</td>\n",
       "      <td>0</td>\n",
       "      <td>40</td>\n",
       "      <td>-36.446336</td>\n",
       "      <td>0</td>\n",
       "      <td>40</td>\n",
       "      <td>24.938930</td>\n",
       "      <td>100.0</td>\n",
       "      <td>100.0</td>\n",
       "      <td>slider_number</td>\n",
       "      <td>2</td>\n",
       "    </tr>\n",
       "    <tr>\n",
       "      <th>106</th>\n",
       "      <td>{'activity_confidence': 97, 'x': -0.25531, 'du...</td>\n",
       "      <td>slider</td>\n",
       "      <td>23.348454</td>\n",
       "      <td>34</td>\n",
       "      <td>7</td>\n",
       "      <td>-7.474058</td>\n",
       "      <td>0</td>\n",
       "      <td>34</td>\n",
       "      <td>-36.446336</td>\n",
       "      <td>0</td>\n",
       "      <td>34</td>\n",
       "      <td>10.651546</td>\n",
       "      <td>100.0</td>\n",
       "      <td>100.0</td>\n",
       "      <td>slider_number</td>\n",
       "      <td>2</td>\n",
       "    </tr>\n",
       "    <tr>\n",
       "      <th>107</th>\n",
       "      <td>{'x': -0.25531, 'duration': 231, 'y': -0.42511...</td>\n",
       "      <td>slider</td>\n",
       "      <td>50.490977</td>\n",
       "      <td>49</td>\n",
       "      <td>8</td>\n",
       "      <td>-7.474058</td>\n",
       "      <td>0</td>\n",
       "      <td>49</td>\n",
       "      <td>-36.446336</td>\n",
       "      <td>0</td>\n",
       "      <td>49</td>\n",
       "      <td>1.490977</td>\n",
       "      <td>100.0</td>\n",
       "      <td>100.0</td>\n",
       "      <td>slider_number</td>\n",
       "      <td>2</td>\n",
       "    </tr>\n",
       "    <tr>\n",
       "      <th>108</th>\n",
       "      <td>{'calibration_status': 2, 'timestamp': 1719320...</td>\n",
       "      <td>slider</td>\n",
       "      <td>11.629489</td>\n",
       "      <td>16</td>\n",
       "      <td>9</td>\n",
       "      <td>-7.474058</td>\n",
       "      <td>0</td>\n",
       "      <td>16</td>\n",
       "      <td>-36.446336</td>\n",
       "      <td>0</td>\n",
       "      <td>16</td>\n",
       "      <td>4.370511</td>\n",
       "      <td>100.0</td>\n",
       "      <td>100.0</td>\n",
       "      <td>slider_number</td>\n",
       "      <td>2</td>\n",
       "    </tr>\n",
       "    <tr>\n",
       "      <th>109</th>\n",
       "      <td>{'duration': 231, 'x': -0.25531, 'y': -0.42511...</td>\n",
       "      <td>slider</td>\n",
       "      <td>35.755673</td>\n",
       "      <td>39</td>\n",
       "      <td>10</td>\n",
       "      <td>-7.474058</td>\n",
       "      <td>0</td>\n",
       "      <td>39</td>\n",
       "      <td>-36.446336</td>\n",
       "      <td>0</td>\n",
       "      <td>39</td>\n",
       "      <td>3.244327</td>\n",
       "      <td>100.0</td>\n",
       "      <td>100.0</td>\n",
       "      <td>slider_number</td>\n",
       "      <td>2</td>\n",
       "    </tr>\n",
       "    <tr>\n",
       "      <th>110</th>\n",
       "      <td>{'w': -0.189819, 'x': -0.25531, 'activity': 'S...</td>\n",
       "      <td>slider</td>\n",
       "      <td>22.167535</td>\n",
       "      <td>31</td>\n",
       "      <td>11</td>\n",
       "      <td>-7.474058</td>\n",
       "      <td>0</td>\n",
       "      <td>31</td>\n",
       "      <td>-36.446336</td>\n",
       "      <td>0</td>\n",
       "      <td>31</td>\n",
       "      <td>8.832465</td>\n",
       "      <td>100.0</td>\n",
       "      <td>100.0</td>\n",
       "      <td>slider_number</td>\n",
       "      <td>2</td>\n",
       "    </tr>\n",
       "    <tr>\n",
       "      <th>111</th>\n",
       "      <td>{'activity': 'Still', 'w': -0.189819, 'calibra...</td>\n",
       "      <td>slider</td>\n",
       "      <td>9.044641</td>\n",
       "      <td>10</td>\n",
       "      <td>12</td>\n",
       "      <td>-7.474058</td>\n",
       "      <td>0</td>\n",
       "      <td>10</td>\n",
       "      <td>-36.446336</td>\n",
       "      <td>0</td>\n",
       "      <td>10</td>\n",
       "      <td>0.955359</td>\n",
       "      <td>100.0</td>\n",
       "      <td>100.0</td>\n",
       "      <td>slider_number</td>\n",
       "      <td>2</td>\n",
       "    </tr>\n",
       "    <tr>\n",
       "      <th>112</th>\n",
       "      <td>{'activity_confidence': 97, 'activity': 'Still...</td>\n",
       "      <td>slider</td>\n",
       "      <td>26.547758</td>\n",
       "      <td>27</td>\n",
       "      <td>13</td>\n",
       "      <td>-7.474058</td>\n",
       "      <td>0</td>\n",
       "      <td>27</td>\n",
       "      <td>-36.446336</td>\n",
       "      <td>0</td>\n",
       "      <td>27</td>\n",
       "      <td>0.452242</td>\n",
       "      <td>100.0</td>\n",
       "      <td>100.0</td>\n",
       "      <td>slider_number</td>\n",
       "      <td>2</td>\n",
       "    </tr>\n",
       "    <tr>\n",
       "      <th>113</th>\n",
       "      <td>{'activity': 'Still', 'duration': 231, 'stabil...</td>\n",
       "      <td>slider</td>\n",
       "      <td>83.666650</td>\n",
       "      <td>88</td>\n",
       "      <td>14</td>\n",
       "      <td>-7.474058</td>\n",
       "      <td>0</td>\n",
       "      <td>88</td>\n",
       "      <td>-36.446336</td>\n",
       "      <td>0</td>\n",
       "      <td>88</td>\n",
       "      <td>4.333350</td>\n",
       "      <td>100.0</td>\n",
       "      <td>100.0</td>\n",
       "      <td>slider_number</td>\n",
       "      <td>2</td>\n",
       "    </tr>\n",
       "    <tr>\n",
       "      <th>114</th>\n",
       "      <td>{'z': 0.847412, 'y': -0.42511, 'activity': 'St...</td>\n",
       "      <td>slider</td>\n",
       "      <td>5.583582</td>\n",
       "      <td>5</td>\n",
       "      <td>15</td>\n",
       "      <td>-7.474058</td>\n",
       "      <td>0</td>\n",
       "      <td>5</td>\n",
       "      <td>-36.446336</td>\n",
       "      <td>0</td>\n",
       "      <td>5</td>\n",
       "      <td>0.583582</td>\n",
       "      <td>100.0</td>\n",
       "      <td>100.0</td>\n",
       "      <td>slider_number</td>\n",
       "      <td>2</td>\n",
       "    </tr>\n",
       "    <tr>\n",
       "      <th>115</th>\n",
       "      <td>{'timestamp': 1719320112, 'activity_confidence...</td>\n",
       "      <td>slider</td>\n",
       "      <td>53.388262</td>\n",
       "      <td>51</td>\n",
       "      <td>16</td>\n",
       "      <td>-7.474058</td>\n",
       "      <td>0</td>\n",
       "      <td>51</td>\n",
       "      <td>-36.446336</td>\n",
       "      <td>0</td>\n",
       "      <td>51</td>\n",
       "      <td>2.388262</td>\n",
       "      <td>100.0</td>\n",
       "      <td>100.0</td>\n",
       "      <td>slider_number</td>\n",
       "      <td>2</td>\n",
       "    </tr>\n",
       "    <tr>\n",
       "      <th>116</th>\n",
       "      <td>{'timestamp': 1719320112, 'y': -0.42511, 'stab...</td>\n",
       "      <td>slider</td>\n",
       "      <td>61.715938</td>\n",
       "      <td>59</td>\n",
       "      <td>17</td>\n",
       "      <td>-7.474058</td>\n",
       "      <td>0</td>\n",
       "      <td>59</td>\n",
       "      <td>-36.446336</td>\n",
       "      <td>0</td>\n",
       "      <td>59</td>\n",
       "      <td>2.715938</td>\n",
       "      <td>100.0</td>\n",
       "      <td>100.0</td>\n",
       "      <td>slider_number</td>\n",
       "      <td>2</td>\n",
       "    </tr>\n",
       "    <tr>\n",
       "      <th>117</th>\n",
       "      <td>{'duration': 231, 'w': -0.189819, 'x': -0.2553...</td>\n",
       "      <td>slider</td>\n",
       "      <td>91.329365</td>\n",
       "      <td>92</td>\n",
       "      <td>18</td>\n",
       "      <td>-7.474058</td>\n",
       "      <td>0</td>\n",
       "      <td>92</td>\n",
       "      <td>-36.446336</td>\n",
       "      <td>0</td>\n",
       "      <td>92</td>\n",
       "      <td>0.670635</td>\n",
       "      <td>100.0</td>\n",
       "      <td>100.0</td>\n",
       "      <td>slider_number</td>\n",
       "      <td>2</td>\n",
       "    </tr>\n",
       "    <tr>\n",
       "      <th>118</th>\n",
       "      <td>{'activity': 'Still', 'x': -0.25531, 'z': 0.84...</td>\n",
       "      <td>slider</td>\n",
       "      <td>88.193866</td>\n",
       "      <td>86</td>\n",
       "      <td>19</td>\n",
       "      <td>-7.474058</td>\n",
       "      <td>0</td>\n",
       "      <td>86</td>\n",
       "      <td>-36.446336</td>\n",
       "      <td>0</td>\n",
       "      <td>86</td>\n",
       "      <td>2.193866</td>\n",
       "      <td>100.0</td>\n",
       "      <td>100.0</td>\n",
       "      <td>slider_number</td>\n",
       "      <td>2</td>\n",
       "    </tr>\n",
       "    <tr>\n",
       "      <th>119</th>\n",
       "      <td>{'activity_confidence': 97, 'duration': 231, '...</td>\n",
       "      <td>slider</td>\n",
       "      <td>85.321123</td>\n",
       "      <td>83</td>\n",
       "      <td>20</td>\n",
       "      <td>-7.474058</td>\n",
       "      <td>0</td>\n",
       "      <td>83</td>\n",
       "      <td>-36.446336</td>\n",
       "      <td>0</td>\n",
       "      <td>83</td>\n",
       "      <td>2.321123</td>\n",
       "      <td>100.0</td>\n",
       "      <td>100.0</td>\n",
       "      <td>slider_number</td>\n",
       "      <td>2</td>\n",
       "    </tr>\n",
       "  </tbody>\n",
       "</table>\n",
       "</div>"
      ],
      "text/plain": [
       "                                         sensorReading inputType      value  \\\n",
       "100  {'stability': 'In motion', 'activity_confidenc...    slider  91.702067   \n",
       "101  {'z': 0.847412, 'activity_confidence': 97, 'ti...    slider   6.660311   \n",
       "102  {'z': 0.847412, 'duration': 231, 'activity': '...    slider  63.674192   \n",
       "103  {'stability': 'In motion', 'z': 0.847412, 'tim...    slider  97.059559   \n",
       "104  {'z': 0.847412, 'x': -0.25531, 'w': -0.189819,...    slider  89.814848   \n",
       "105  {'calibration_status': 2, 'w': -0.189819, 'sta...    slider  15.061070   \n",
       "106  {'activity_confidence': 97, 'x': -0.25531, 'du...    slider  23.348454   \n",
       "107  {'x': -0.25531, 'duration': 231, 'y': -0.42511...    slider  50.490977   \n",
       "108  {'calibration_status': 2, 'timestamp': 1719320...    slider  11.629489   \n",
       "109  {'duration': 231, 'x': -0.25531, 'y': -0.42511...    slider  35.755673   \n",
       "110  {'w': -0.189819, 'x': -0.25531, 'activity': 'S...    slider  22.167535   \n",
       "111  {'activity': 'Still', 'w': -0.189819, 'calibra...    slider   9.044641   \n",
       "112  {'activity_confidence': 97, 'activity': 'Still...    slider  26.547758   \n",
       "113  {'activity': 'Still', 'duration': 231, 'stabil...    slider  83.666650   \n",
       "114  {'z': 0.847412, 'y': -0.42511, 'activity': 'St...    slider   5.583582   \n",
       "115  {'timestamp': 1719320112, 'activity_confidence...    slider  53.388262   \n",
       "116  {'timestamp': 1719320112, 'y': -0.42511, 'stab...    slider  61.715938   \n",
       "117  {'duration': 231, 'w': -0.189819, 'x': -0.2553...    slider  91.329365   \n",
       "118  {'activity': 'Still', 'x': -0.25531, 'z': 0.84...    slider  88.193866   \n",
       "119  {'activity_confidence': 97, 'duration': 231, '...    slider  85.321123   \n",
       "\n",
       "     truth  id     pitch  pitch_truth  pitch_truth_diff       roll  \\\n",
       "100     89   1 -7.474058            0                89 -36.446336   \n",
       "101     11   2 -7.474058            0                11 -36.446336   \n",
       "102     61   3 -7.474058            0                61 -36.446336   \n",
       "103     94   4 -7.474058            0                94 -36.446336   \n",
       "104     79   5 -7.474058            0                79 -36.446336   \n",
       "105     40   6 -7.474058            0                40 -36.446336   \n",
       "106     34   7 -7.474058            0                34 -36.446336   \n",
       "107     49   8 -7.474058            0                49 -36.446336   \n",
       "108     16   9 -7.474058            0                16 -36.446336   \n",
       "109     39  10 -7.474058            0                39 -36.446336   \n",
       "110     31  11 -7.474058            0                31 -36.446336   \n",
       "111     10  12 -7.474058            0                10 -36.446336   \n",
       "112     27  13 -7.474058            0                27 -36.446336   \n",
       "113     88  14 -7.474058            0                88 -36.446336   \n",
       "114      5  15 -7.474058            0                 5 -36.446336   \n",
       "115     51  16 -7.474058            0                51 -36.446336   \n",
       "116     59  17 -7.474058            0                59 -36.446336   \n",
       "117     92  18 -7.474058            0                92 -36.446336   \n",
       "118     86  19 -7.474058            0                86 -36.446336   \n",
       "119     83  20 -7.474058            0                83 -36.446336   \n",
       "\n",
       "     roll_truth  roll_truth_diff  slider_diff  pitch_truth_diff_percentage  \\\n",
       "100           0               89     2.702067                        100.0   \n",
       "101           0               11     4.339689                        100.0   \n",
       "102           0               61     2.674192                        100.0   \n",
       "103           0               94     3.059559                        100.0   \n",
       "104           0               79    10.814848                        100.0   \n",
       "105           0               40    24.938930                        100.0   \n",
       "106           0               34    10.651546                        100.0   \n",
       "107           0               49     1.490977                        100.0   \n",
       "108           0               16     4.370511                        100.0   \n",
       "109           0               39     3.244327                        100.0   \n",
       "110           0               31     8.832465                        100.0   \n",
       "111           0               10     0.955359                        100.0   \n",
       "112           0               27     0.452242                        100.0   \n",
       "113           0               88     4.333350                        100.0   \n",
       "114           0                5     0.583582                        100.0   \n",
       "115           0               51     2.388262                        100.0   \n",
       "116           0               59     2.715938                        100.0   \n",
       "117           0               92     0.670635                        100.0   \n",
       "118           0               86     2.193866                        100.0   \n",
       "119           0               83     2.321123                        100.0   \n",
       "\n",
       "     roll_truth_diff_percentage experiment_type  calibration  \n",
       "100                       100.0   slider_number            2  \n",
       "101                       100.0   slider_number            2  \n",
       "102                       100.0   slider_number            2  \n",
       "103                       100.0   slider_number            2  \n",
       "104                       100.0   slider_number            2  \n",
       "105                       100.0   slider_number            2  \n",
       "106                       100.0   slider_number            2  \n",
       "107                       100.0   slider_number            2  \n",
       "108                       100.0   slider_number            2  \n",
       "109                       100.0   slider_number            2  \n",
       "110                       100.0   slider_number            2  \n",
       "111                       100.0   slider_number            2  \n",
       "112                       100.0   slider_number            2  \n",
       "113                       100.0   slider_number            2  \n",
       "114                       100.0   slider_number            2  \n",
       "115                       100.0   slider_number            2  \n",
       "116                       100.0   slider_number            2  \n",
       "117                       100.0   slider_number            2  \n",
       "118                       100.0   slider_number            2  \n",
       "119                       100.0   slider_number            2  "
      ]
     },
     "execution_count": 34,
     "metadata": {},
     "output_type": "execute_result"
    }
   ],
   "source": [
    "df[df[\"experiment_type\"] == \"slider_number\"]"
   ]
  },
  {
   "cell_type": "code",
   "execution_count": 35,
   "metadata": {},
   "outputs": [
    {
     "data": {
      "text/html": [
       "<div>\n",
       "<style scoped>\n",
       "    .dataframe tbody tr th:only-of-type {\n",
       "        vertical-align: middle;\n",
       "    }\n",
       "\n",
       "    .dataframe tbody tr th {\n",
       "        vertical-align: top;\n",
       "    }\n",
       "\n",
       "    .dataframe thead th {\n",
       "        text-align: right;\n",
       "    }\n",
       "</style>\n",
       "<table border=\"1\" class=\"dataframe\">\n",
       "  <thead>\n",
       "    <tr style=\"text-align: right;\">\n",
       "      <th></th>\n",
       "      <th>sensorReading</th>\n",
       "      <th>inputType</th>\n",
       "      <th>value</th>\n",
       "      <th>truth</th>\n",
       "      <th>id</th>\n",
       "      <th>pitch</th>\n",
       "      <th>pitch_truth</th>\n",
       "      <th>pitch_truth_diff</th>\n",
       "      <th>roll</th>\n",
       "      <th>roll_truth</th>\n",
       "      <th>roll_truth_diff</th>\n",
       "      <th>slider_diff</th>\n",
       "      <th>pitch_truth_diff_percentage</th>\n",
       "      <th>roll_truth_diff_percentage</th>\n",
       "      <th>experiment_type</th>\n",
       "      <th>calibration</th>\n",
       "    </tr>\n",
       "  </thead>\n",
       "  <tbody>\n",
       "    <tr>\n",
       "      <th>80</th>\n",
       "      <td>{'activity': 'Still', 'stability': 'In motion'...</td>\n",
       "      <td>slider</td>\n",
       "      <td>5.326400</td>\n",
       "      <td>21</td>\n",
       "      <td>1</td>\n",
       "      <td>-7.474058</td>\n",
       "      <td>0</td>\n",
       "      <td>21</td>\n",
       "      <td>-36.446336</td>\n",
       "      <td>0</td>\n",
       "      <td>21</td>\n",
       "      <td>15.673600</td>\n",
       "      <td>100.0</td>\n",
       "      <td>100.0</td>\n",
       "      <td>slider_greyscale</td>\n",
       "      <td>2</td>\n",
       "    </tr>\n",
       "    <tr>\n",
       "      <th>81</th>\n",
       "      <td>{'duration': 231, 'z': 0.847412, 'calibration_...</td>\n",
       "      <td>slider</td>\n",
       "      <td>12.359626</td>\n",
       "      <td>40</td>\n",
       "      <td>2</td>\n",
       "      <td>-7.474058</td>\n",
       "      <td>0</td>\n",
       "      <td>40</td>\n",
       "      <td>-36.446336</td>\n",
       "      <td>0</td>\n",
       "      <td>40</td>\n",
       "      <td>27.640374</td>\n",
       "      <td>100.0</td>\n",
       "      <td>100.0</td>\n",
       "      <td>slider_greyscale</td>\n",
       "      <td>2</td>\n",
       "    </tr>\n",
       "    <tr>\n",
       "      <th>82</th>\n",
       "      <td>{'z': 0.847412, 'y': -0.42511, 'x': -0.25531, ...</td>\n",
       "      <td>slider</td>\n",
       "      <td>39.455783</td>\n",
       "      <td>39</td>\n",
       "      <td>3</td>\n",
       "      <td>-7.474058</td>\n",
       "      <td>0</td>\n",
       "      <td>39</td>\n",
       "      <td>-36.446336</td>\n",
       "      <td>0</td>\n",
       "      <td>39</td>\n",
       "      <td>0.455783</td>\n",
       "      <td>100.0</td>\n",
       "      <td>100.0</td>\n",
       "      <td>slider_greyscale</td>\n",
       "      <td>2</td>\n",
       "    </tr>\n",
       "    <tr>\n",
       "      <th>83</th>\n",
       "      <td>{'y': -0.42511, 'calibration_status': 2, 'z': ...</td>\n",
       "      <td>slider</td>\n",
       "      <td>40.328140</td>\n",
       "      <td>16</td>\n",
       "      <td>4</td>\n",
       "      <td>-7.474058</td>\n",
       "      <td>0</td>\n",
       "      <td>16</td>\n",
       "      <td>-36.446336</td>\n",
       "      <td>0</td>\n",
       "      <td>16</td>\n",
       "      <td>24.328140</td>\n",
       "      <td>100.0</td>\n",
       "      <td>100.0</td>\n",
       "      <td>slider_greyscale</td>\n",
       "      <td>2</td>\n",
       "    </tr>\n",
       "    <tr>\n",
       "      <th>84</th>\n",
       "      <td>{'stability': 'In motion', 'w': -0.189819, 'x'...</td>\n",
       "      <td>slider</td>\n",
       "      <td>22.779536</td>\n",
       "      <td>7</td>\n",
       "      <td>5</td>\n",
       "      <td>-7.474058</td>\n",
       "      <td>0</td>\n",
       "      <td>7</td>\n",
       "      <td>-36.446336</td>\n",
       "      <td>0</td>\n",
       "      <td>7</td>\n",
       "      <td>15.779536</td>\n",
       "      <td>100.0</td>\n",
       "      <td>100.0</td>\n",
       "      <td>slider_greyscale</td>\n",
       "      <td>2</td>\n",
       "    </tr>\n",
       "    <tr>\n",
       "      <th>85</th>\n",
       "      <td>{'w': -0.189819, 'duration': 231, 'x': -0.2553...</td>\n",
       "      <td>slider</td>\n",
       "      <td>1.320304</td>\n",
       "      <td>2</td>\n",
       "      <td>6</td>\n",
       "      <td>-7.474058</td>\n",
       "      <td>0</td>\n",
       "      <td>2</td>\n",
       "      <td>-36.446336</td>\n",
       "      <td>0</td>\n",
       "      <td>2</td>\n",
       "      <td>0.679696</td>\n",
       "      <td>100.0</td>\n",
       "      <td>100.0</td>\n",
       "      <td>slider_greyscale</td>\n",
       "      <td>2</td>\n",
       "    </tr>\n",
       "    <tr>\n",
       "      <th>86</th>\n",
       "      <td>{'y': -0.42511, 'w': -0.189819, 'activity': 'S...</td>\n",
       "      <td>slider</td>\n",
       "      <td>0.426171</td>\n",
       "      <td>1</td>\n",
       "      <td>7</td>\n",
       "      <td>-7.474058</td>\n",
       "      <td>0</td>\n",
       "      <td>1</td>\n",
       "      <td>-36.446336</td>\n",
       "      <td>0</td>\n",
       "      <td>1</td>\n",
       "      <td>0.573829</td>\n",
       "      <td>100.0</td>\n",
       "      <td>100.0</td>\n",
       "      <td>slider_greyscale</td>\n",
       "      <td>2</td>\n",
       "    </tr>\n",
       "    <tr>\n",
       "      <th>87</th>\n",
       "      <td>{'calibration_status': 2, 'duration': 231, 'ti...</td>\n",
       "      <td>slider</td>\n",
       "      <td>0.000000</td>\n",
       "      <td>18</td>\n",
       "      <td>8</td>\n",
       "      <td>-7.474058</td>\n",
       "      <td>0</td>\n",
       "      <td>18</td>\n",
       "      <td>-36.446336</td>\n",
       "      <td>0</td>\n",
       "      <td>18</td>\n",
       "      <td>18.000000</td>\n",
       "      <td>100.0</td>\n",
       "      <td>100.0</td>\n",
       "      <td>slider_greyscale</td>\n",
       "      <td>2</td>\n",
       "    </tr>\n",
       "    <tr>\n",
       "      <th>88</th>\n",
       "      <td>{'y': -0.42511, 'activity': 'Still', 'stabilit...</td>\n",
       "      <td>slider</td>\n",
       "      <td>25.844795</td>\n",
       "      <td>31</td>\n",
       "      <td>9</td>\n",
       "      <td>-7.474058</td>\n",
       "      <td>0</td>\n",
       "      <td>31</td>\n",
       "      <td>-36.446336</td>\n",
       "      <td>0</td>\n",
       "      <td>31</td>\n",
       "      <td>5.155205</td>\n",
       "      <td>100.0</td>\n",
       "      <td>100.0</td>\n",
       "      <td>slider_greyscale</td>\n",
       "      <td>2</td>\n",
       "    </tr>\n",
       "    <tr>\n",
       "      <th>89</th>\n",
       "      <td>{'w': -0.189819, 'activity_confidence': 97, 'd...</td>\n",
       "      <td>slider</td>\n",
       "      <td>38.560388</td>\n",
       "      <td>12</td>\n",
       "      <td>10</td>\n",
       "      <td>-7.474058</td>\n",
       "      <td>0</td>\n",
       "      <td>12</td>\n",
       "      <td>-36.446336</td>\n",
       "      <td>0</td>\n",
       "      <td>12</td>\n",
       "      <td>26.560388</td>\n",
       "      <td>100.0</td>\n",
       "      <td>100.0</td>\n",
       "      <td>slider_greyscale</td>\n",
       "      <td>2</td>\n",
       "    </tr>\n",
       "    <tr>\n",
       "      <th>90</th>\n",
       "      <td>{'calibration_status': 2, 'w': -0.189819, 'x':...</td>\n",
       "      <td>slider</td>\n",
       "      <td>7.510580</td>\n",
       "      <td>15</td>\n",
       "      <td>11</td>\n",
       "      <td>-7.474058</td>\n",
       "      <td>0</td>\n",
       "      <td>15</td>\n",
       "      <td>-36.446336</td>\n",
       "      <td>0</td>\n",
       "      <td>15</td>\n",
       "      <td>7.489420</td>\n",
       "      <td>100.0</td>\n",
       "      <td>100.0</td>\n",
       "      <td>slider_greyscale</td>\n",
       "      <td>2</td>\n",
       "    </tr>\n",
       "    <tr>\n",
       "      <th>91</th>\n",
       "      <td>{'stability': 'In motion', 'w': -0.189819, 'z'...</td>\n",
       "      <td>slider</td>\n",
       "      <td>9.315095</td>\n",
       "      <td>46</td>\n",
       "      <td>12</td>\n",
       "      <td>-7.474058</td>\n",
       "      <td>0</td>\n",
       "      <td>46</td>\n",
       "      <td>-36.446336</td>\n",
       "      <td>0</td>\n",
       "      <td>46</td>\n",
       "      <td>36.684905</td>\n",
       "      <td>100.0</td>\n",
       "      <td>100.0</td>\n",
       "      <td>slider_greyscale</td>\n",
       "      <td>2</td>\n",
       "    </tr>\n",
       "    <tr>\n",
       "      <th>92</th>\n",
       "      <td>{'y': -0.42511, 'w': -0.189819, 'stability': '...</td>\n",
       "      <td>slider</td>\n",
       "      <td>48.807005</td>\n",
       "      <td>26</td>\n",
       "      <td>13</td>\n",
       "      <td>-7.474058</td>\n",
       "      <td>0</td>\n",
       "      <td>26</td>\n",
       "      <td>-36.446336</td>\n",
       "      <td>0</td>\n",
       "      <td>26</td>\n",
       "      <td>22.807005</td>\n",
       "      <td>100.0</td>\n",
       "      <td>100.0</td>\n",
       "      <td>slider_greyscale</td>\n",
       "      <td>2</td>\n",
       "    </tr>\n",
       "    <tr>\n",
       "      <th>93</th>\n",
       "      <td>{'w': -0.189819, 'stability': 'In motion', 'ca...</td>\n",
       "      <td>slider</td>\n",
       "      <td>30.175503</td>\n",
       "      <td>6</td>\n",
       "      <td>14</td>\n",
       "      <td>-7.474058</td>\n",
       "      <td>0</td>\n",
       "      <td>6</td>\n",
       "      <td>-36.446336</td>\n",
       "      <td>0</td>\n",
       "      <td>6</td>\n",
       "      <td>24.175503</td>\n",
       "      <td>100.0</td>\n",
       "      <td>100.0</td>\n",
       "      <td>slider_greyscale</td>\n",
       "      <td>2</td>\n",
       "    </tr>\n",
       "    <tr>\n",
       "      <th>94</th>\n",
       "      <td>{'timestamp': 1719320112, 'activity_confidence...</td>\n",
       "      <td>slider</td>\n",
       "      <td>2.565144</td>\n",
       "      <td>13</td>\n",
       "      <td>15</td>\n",
       "      <td>-7.474058</td>\n",
       "      <td>0</td>\n",
       "      <td>13</td>\n",
       "      <td>-36.446336</td>\n",
       "      <td>0</td>\n",
       "      <td>13</td>\n",
       "      <td>10.434856</td>\n",
       "      <td>100.0</td>\n",
       "      <td>100.0</td>\n",
       "      <td>slider_greyscale</td>\n",
       "      <td>2</td>\n",
       "    </tr>\n",
       "    <tr>\n",
       "      <th>95</th>\n",
       "      <td>{'y': -0.42511, 'stability': 'In motion', 'cal...</td>\n",
       "      <td>slider</td>\n",
       "      <td>5.443588</td>\n",
       "      <td>48</td>\n",
       "      <td>16</td>\n",
       "      <td>-7.474058</td>\n",
       "      <td>0</td>\n",
       "      <td>48</td>\n",
       "      <td>-36.446336</td>\n",
       "      <td>0</td>\n",
       "      <td>48</td>\n",
       "      <td>42.556412</td>\n",
       "      <td>100.0</td>\n",
       "      <td>100.0</td>\n",
       "      <td>slider_greyscale</td>\n",
       "      <td>2</td>\n",
       "    </tr>\n",
       "    <tr>\n",
       "      <th>96</th>\n",
       "      <td>{'w': -0.189819, 'activity_confidence': 97, 'a...</td>\n",
       "      <td>slider</td>\n",
       "      <td>49.000000</td>\n",
       "      <td>9</td>\n",
       "      <td>17</td>\n",
       "      <td>-7.474058</td>\n",
       "      <td>0</td>\n",
       "      <td>9</td>\n",
       "      <td>-36.446336</td>\n",
       "      <td>0</td>\n",
       "      <td>9</td>\n",
       "      <td>40.000000</td>\n",
       "      <td>100.0</td>\n",
       "      <td>100.0</td>\n",
       "      <td>slider_greyscale</td>\n",
       "      <td>2</td>\n",
       "    </tr>\n",
       "    <tr>\n",
       "      <th>97</th>\n",
       "      <td>{'z': 0.847412, 'x': -0.25531, 'timestamp': 17...</td>\n",
       "      <td>slider</td>\n",
       "      <td>6.108612</td>\n",
       "      <td>28</td>\n",
       "      <td>18</td>\n",
       "      <td>-7.474058</td>\n",
       "      <td>0</td>\n",
       "      <td>28</td>\n",
       "      <td>-36.446336</td>\n",
       "      <td>0</td>\n",
       "      <td>28</td>\n",
       "      <td>21.891388</td>\n",
       "      <td>100.0</td>\n",
       "      <td>100.0</td>\n",
       "      <td>slider_greyscale</td>\n",
       "      <td>2</td>\n",
       "    </tr>\n",
       "    <tr>\n",
       "      <th>98</th>\n",
       "      <td>{'calibration_status': 2, 'activity_confidence...</td>\n",
       "      <td>slider</td>\n",
       "      <td>25.841558</td>\n",
       "      <td>20</td>\n",
       "      <td>19</td>\n",
       "      <td>-7.474058</td>\n",
       "      <td>0</td>\n",
       "      <td>20</td>\n",
       "      <td>-36.446336</td>\n",
       "      <td>0</td>\n",
       "      <td>20</td>\n",
       "      <td>5.841558</td>\n",
       "      <td>100.0</td>\n",
       "      <td>100.0</td>\n",
       "      <td>slider_greyscale</td>\n",
       "      <td>2</td>\n",
       "    </tr>\n",
       "    <tr>\n",
       "      <th>99</th>\n",
       "      <td>{'y': -0.42511, 'activity_confidence': 97, 'st...</td>\n",
       "      <td>slider</td>\n",
       "      <td>21.165323</td>\n",
       "      <td>2</td>\n",
       "      <td>20</td>\n",
       "      <td>-7.474058</td>\n",
       "      <td>0</td>\n",
       "      <td>2</td>\n",
       "      <td>-36.446336</td>\n",
       "      <td>0</td>\n",
       "      <td>2</td>\n",
       "      <td>19.165323</td>\n",
       "      <td>100.0</td>\n",
       "      <td>100.0</td>\n",
       "      <td>slider_greyscale</td>\n",
       "      <td>2</td>\n",
       "    </tr>\n",
       "  </tbody>\n",
       "</table>\n",
       "</div>"
      ],
      "text/plain": [
       "                                        sensorReading inputType      value  \\\n",
       "80  {'activity': 'Still', 'stability': 'In motion'...    slider   5.326400   \n",
       "81  {'duration': 231, 'z': 0.847412, 'calibration_...    slider  12.359626   \n",
       "82  {'z': 0.847412, 'y': -0.42511, 'x': -0.25531, ...    slider  39.455783   \n",
       "83  {'y': -0.42511, 'calibration_status': 2, 'z': ...    slider  40.328140   \n",
       "84  {'stability': 'In motion', 'w': -0.189819, 'x'...    slider  22.779536   \n",
       "85  {'w': -0.189819, 'duration': 231, 'x': -0.2553...    slider   1.320304   \n",
       "86  {'y': -0.42511, 'w': -0.189819, 'activity': 'S...    slider   0.426171   \n",
       "87  {'calibration_status': 2, 'duration': 231, 'ti...    slider   0.000000   \n",
       "88  {'y': -0.42511, 'activity': 'Still', 'stabilit...    slider  25.844795   \n",
       "89  {'w': -0.189819, 'activity_confidence': 97, 'd...    slider  38.560388   \n",
       "90  {'calibration_status': 2, 'w': -0.189819, 'x':...    slider   7.510580   \n",
       "91  {'stability': 'In motion', 'w': -0.189819, 'z'...    slider   9.315095   \n",
       "92  {'y': -0.42511, 'w': -0.189819, 'stability': '...    slider  48.807005   \n",
       "93  {'w': -0.189819, 'stability': 'In motion', 'ca...    slider  30.175503   \n",
       "94  {'timestamp': 1719320112, 'activity_confidence...    slider   2.565144   \n",
       "95  {'y': -0.42511, 'stability': 'In motion', 'cal...    slider   5.443588   \n",
       "96  {'w': -0.189819, 'activity_confidence': 97, 'a...    slider  49.000000   \n",
       "97  {'z': 0.847412, 'x': -0.25531, 'timestamp': 17...    slider   6.108612   \n",
       "98  {'calibration_status': 2, 'activity_confidence...    slider  25.841558   \n",
       "99  {'y': -0.42511, 'activity_confidence': 97, 'st...    slider  21.165323   \n",
       "\n",
       "    truth  id     pitch  pitch_truth  pitch_truth_diff       roll  roll_truth  \\\n",
       "80     21   1 -7.474058            0                21 -36.446336           0   \n",
       "81     40   2 -7.474058            0                40 -36.446336           0   \n",
       "82     39   3 -7.474058            0                39 -36.446336           0   \n",
       "83     16   4 -7.474058            0                16 -36.446336           0   \n",
       "84      7   5 -7.474058            0                 7 -36.446336           0   \n",
       "85      2   6 -7.474058            0                 2 -36.446336           0   \n",
       "86      1   7 -7.474058            0                 1 -36.446336           0   \n",
       "87     18   8 -7.474058            0                18 -36.446336           0   \n",
       "88     31   9 -7.474058            0                31 -36.446336           0   \n",
       "89     12  10 -7.474058            0                12 -36.446336           0   \n",
       "90     15  11 -7.474058            0                15 -36.446336           0   \n",
       "91     46  12 -7.474058            0                46 -36.446336           0   \n",
       "92     26  13 -7.474058            0                26 -36.446336           0   \n",
       "93      6  14 -7.474058            0                 6 -36.446336           0   \n",
       "94     13  15 -7.474058            0                13 -36.446336           0   \n",
       "95     48  16 -7.474058            0                48 -36.446336           0   \n",
       "96      9  17 -7.474058            0                 9 -36.446336           0   \n",
       "97     28  18 -7.474058            0                28 -36.446336           0   \n",
       "98     20  19 -7.474058            0                20 -36.446336           0   \n",
       "99      2  20 -7.474058            0                 2 -36.446336           0   \n",
       "\n",
       "    roll_truth_diff  slider_diff  pitch_truth_diff_percentage  \\\n",
       "80               21    15.673600                        100.0   \n",
       "81               40    27.640374                        100.0   \n",
       "82               39     0.455783                        100.0   \n",
       "83               16    24.328140                        100.0   \n",
       "84                7    15.779536                        100.0   \n",
       "85                2     0.679696                        100.0   \n",
       "86                1     0.573829                        100.0   \n",
       "87               18    18.000000                        100.0   \n",
       "88               31     5.155205                        100.0   \n",
       "89               12    26.560388                        100.0   \n",
       "90               15     7.489420                        100.0   \n",
       "91               46    36.684905                        100.0   \n",
       "92               26    22.807005                        100.0   \n",
       "93                6    24.175503                        100.0   \n",
       "94               13    10.434856                        100.0   \n",
       "95               48    42.556412                        100.0   \n",
       "96                9    40.000000                        100.0   \n",
       "97               28    21.891388                        100.0   \n",
       "98               20     5.841558                        100.0   \n",
       "99                2    19.165323                        100.0   \n",
       "\n",
       "    roll_truth_diff_percentage   experiment_type  calibration  \n",
       "80                       100.0  slider_greyscale            2  \n",
       "81                       100.0  slider_greyscale            2  \n",
       "82                       100.0  slider_greyscale            2  \n",
       "83                       100.0  slider_greyscale            2  \n",
       "84                       100.0  slider_greyscale            2  \n",
       "85                       100.0  slider_greyscale            2  \n",
       "86                       100.0  slider_greyscale            2  \n",
       "87                       100.0  slider_greyscale            2  \n",
       "88                       100.0  slider_greyscale            2  \n",
       "89                       100.0  slider_greyscale            2  \n",
       "90                       100.0  slider_greyscale            2  \n",
       "91                       100.0  slider_greyscale            2  \n",
       "92                       100.0  slider_greyscale            2  \n",
       "93                       100.0  slider_greyscale            2  \n",
       "94                       100.0  slider_greyscale            2  \n",
       "95                       100.0  slider_greyscale            2  \n",
       "96                       100.0  slider_greyscale            2  \n",
       "97                       100.0  slider_greyscale            2  \n",
       "98                       100.0  slider_greyscale            2  \n",
       "99                       100.0  slider_greyscale            2  "
      ]
     },
     "execution_count": 35,
     "metadata": {},
     "output_type": "execute_result"
    }
   ],
   "source": [
    "df[df[\"experiment_type\"] == \"slider_greyscale\"]"
   ]
  },
  {
   "cell_type": "code",
   "execution_count": 36,
   "metadata": {},
   "outputs": [
    {
     "data": {
      "application/vnd.plotly.v1+json": {
       "config": {
        "plotlyServerURL": "https://plot.ly"
       },
       "data": [
        {
         "hovertemplate": "truth=%{x}<br>pitch_truth=%{y}<extra></extra>",
         "legendgroup": "",
         "marker": {
          "color": "blue",
          "symbol": "circle"
         },
         "mode": "markers",
         "name": "",
         "orientation": "v",
         "showlegend": false,
         "type": "scatter",
         "x": [
          20,
          5,
          48,
          29,
          46,
          0,
          28,
          37,
          43,
          3,
          22,
          38,
          30,
          26,
          12,
          0,
          45,
          47,
          35,
          10
         ],
         "xaxis": "x",
         "y": [
          7,
          12,
          1,
          45,
          20,
          49,
          0,
          20,
          37,
          41,
          2,
          18,
          38,
          30,
          25,
          16,
          11,
          47,
          49,
          37
         ],
         "yaxis": "y"
        },
        {
         "error_y": {
          "array": [
           13,
           7,
           47,
           16,
           26,
           49,
           28,
           17,
           6,
           38,
           20,
           20,
           8,
           4,
           13,
           16,
           34,
           0,
           14,
           27
          ]
         },
         "hovertemplate": "truth=%{x}<br>pitch_truth=%{y}<extra></extra>",
         "legendgroup": "",
         "marker": {
          "color": "blue",
          "symbol": "circle"
         },
         "mode": "markers",
         "name": "",
         "orientation": "v",
         "showlegend": false,
         "type": "scatter",
         "x": [
          20,
          5,
          48,
          29,
          46,
          0,
          28,
          37,
          43,
          3,
          22,
          38,
          30,
          26,
          12,
          0,
          45,
          47,
          35,
          10
         ],
         "xaxis": "x2",
         "y": [
          7,
          12,
          1,
          45,
          20,
          49,
          0,
          20,
          37,
          41,
          2,
          18,
          38,
          30,
          25,
          16,
          11,
          47,
          49,
          37
         ],
         "yaxis": "y2"
        },
        {
         "hovertemplate": "truth=%{x}<br>pitch_truth=%{y}<extra></extra>",
         "legendgroup": "",
         "marker": {
          "color": "green",
          "symbol": "circle"
         },
         "mode": "markers",
         "name": "",
         "orientation": "v",
         "showlegend": false,
         "type": "scatter",
         "x": [
          64,
          67,
          91,
          62,
          74,
          68,
          28,
          56,
          57,
          93,
          35,
          36,
          44,
          4,
          84,
          72,
          87,
          53,
          17,
          50
         ],
         "xaxis": "x3",
         "y": [
          51,
          54,
          79,
          54,
          66,
          54,
          30,
          50,
          52,
          78,
          38,
          39,
          46,
          12,
          73,
          65,
          73,
          55,
          27,
          54
         ],
         "yaxis": "y3"
        },
        {
         "error_y": {
          "array": [
           13,
           13,
           12,
           8,
           8,
           14,
           2,
           6,
           5,
           15,
           3,
           3,
           2,
           8,
           11,
           7,
           14,
           2,
           10,
           4
          ]
         },
         "hovertemplate": "truth=%{x}<br>pitch_truth=%{y}<extra></extra>",
         "legendgroup": "",
         "marker": {
          "color": "green",
          "symbol": "circle"
         },
         "mode": "markers",
         "name": "",
         "orientation": "v",
         "showlegend": false,
         "type": "scatter",
         "x": [
          64,
          67,
          91,
          62,
          74,
          68,
          28,
          56,
          57,
          93,
          35,
          36,
          44,
          4,
          84,
          72,
          87,
          53,
          17,
          50
         ],
         "xaxis": "x4",
         "y": [
          51,
          54,
          79,
          54,
          66,
          54,
          30,
          50,
          52,
          78,
          38,
          39,
          46,
          12,
          73,
          65,
          73,
          55,
          27,
          54
         ],
         "yaxis": "y4"
        },
        {
         "hovertemplate": "truth=%{x}<br>roll_truth=%{y}<extra></extra>",
         "legendgroup": "",
         "marker": {
          "color": "red",
          "symbol": "circle"
         },
         "mode": "markers",
         "name": "",
         "orientation": "v",
         "showlegend": false,
         "type": "scatter",
         "x": [
          25,
          49,
          6,
          24,
          15,
          27,
          17,
          42,
          13,
          34,
          19,
          33
         ],
         "xaxis": "x5",
         "y": [
          16,
          34,
          14,
          18,
          23,
          20,
          29,
          25,
          12,
          16,
          29,
          24
         ],
         "yaxis": "y5"
        },
        {
         "error_y": {
          "array": [
           9,
           15,
           8,
           6,
           8,
           7,
           12,
           17,
           1,
           18,
           10,
           9
          ]
         },
         "hovertemplate": "truth=%{x}<br>roll_truth=%{y}<extra></extra>",
         "legendgroup": "",
         "marker": {
          "color": "red",
          "symbol": "circle"
         },
         "mode": "markers",
         "name": "",
         "orientation": "v",
         "showlegend": false,
         "type": "scatter",
         "x": [
          25,
          49,
          6,
          24,
          15,
          27,
          17,
          42,
          13,
          34,
          19,
          33
         ],
         "xaxis": "x6",
         "y": [
          16,
          34,
          14,
          18,
          23,
          20,
          29,
          25,
          12,
          16,
          29,
          24
         ],
         "yaxis": "y6"
        },
        {
         "hovertemplate": "truth=%{x}<br>roll_truth=%{y}<extra></extra>",
         "legendgroup": "",
         "marker": {
          "color": "purple",
          "symbol": "circle"
         },
         "mode": "markers",
         "name": "",
         "orientation": "v",
         "showlegend": false,
         "type": "scatter",
         "x": [
          75,
          81,
          70,
          26,
          20,
          63,
          85,
          46,
          9,
          37,
          33,
          23
         ],
         "xaxis": "x7",
         "y": [
          72,
          77,
          66,
          40,
          37,
          64,
          75,
          66,
          41,
          54,
          48,
          40
         ],
         "yaxis": "y7"
        },
        {
         "error_y": {
          "array": [
           3,
           4,
           4,
           14,
           17,
           1,
           10,
           20,
           32,
           17,
           15,
           17
          ]
         },
         "hovertemplate": "truth=%{x}<br>roll_truth=%{y}<extra></extra>",
         "legendgroup": "",
         "marker": {
          "color": "purple",
          "symbol": "circle"
         },
         "mode": "markers",
         "name": "",
         "orientation": "v",
         "showlegend": false,
         "type": "scatter",
         "x": [
          75,
          81,
          70,
          26,
          20,
          63,
          85,
          46,
          9,
          37,
          33,
          23
         ],
         "xaxis": "x8",
         "y": [
          72,
          77,
          66,
          40,
          37,
          64,
          75,
          66,
          41,
          54,
          48,
          40
         ],
         "yaxis": "y8"
        },
        {
         "hovertemplate": "truth=%{x}<br>value=%{y}<extra></extra>",
         "legendgroup": "",
         "marker": {
          "color": "magenta",
          "symbol": "circle"
         },
         "mode": "markers",
         "name": "",
         "orientation": "v",
         "showlegend": false,
         "type": "scatter",
         "x": [
          21,
          40,
          39,
          16,
          7,
          2,
          1,
          18,
          31,
          12,
          15,
          46,
          26,
          6,
          13,
          48,
          9,
          28,
          20,
          2
         ],
         "xaxis": "x9",
         "y": [
          5.326399806349229,
          12.359626206682286,
          39.455783395410776,
          40.328140207787335,
          22.77953567435335,
          1.3203040893517595,
          0.42617116283044665,
          0,
          25.844794663713536,
          38.56038774961543,
          7.510579723820647,
          9.31509507908643,
          48.80700524097443,
          30.175502836215244,
          2.5651444580300677,
          5.443587788547364,
          49,
          6.10861236655723,
          25.841557667632845,
          21.165323336846704
         ],
         "yaxis": "y9"
        },
        {
         "error_y": {
          "array": [
           15.67360019365077,
           27.640373793317714,
           0.4557833954107764,
           24.328140207787335,
           15.779535674353351,
           0.6796959106482405,
           0.5738288371695534,
           18,
           5.155205336286464,
           26.56038774961543,
           7.489420276179353,
           36.68490492091357,
           22.807005240974433,
           24.175502836215244,
           10.434855541969933,
           42.55641221145264,
           40,
           21.89138763344277,
           5.841557667632845,
           19.165323336846704
          ]
         },
         "hovertemplate": "truth=%{x}<br>value=%{y}<extra></extra>",
         "legendgroup": "",
         "marker": {
          "color": "magenta",
          "symbol": "circle"
         },
         "mode": "markers",
         "name": "",
         "orientation": "v",
         "showlegend": false,
         "type": "scatter",
         "x": [
          21,
          40,
          39,
          16,
          7,
          2,
          1,
          18,
          31,
          12,
          15,
          46,
          26,
          6,
          13,
          48,
          9,
          28,
          20,
          2
         ],
         "xaxis": "x10",
         "y": [
          5.326399806349229,
          12.359626206682286,
          39.455783395410776,
          40.328140207787335,
          22.77953567435335,
          1.3203040893517595,
          0.42617116283044665,
          0,
          25.844794663713536,
          38.56038774961543,
          7.510579723820647,
          9.31509507908643,
          48.80700524097443,
          30.175502836215244,
          2.5651444580300677,
          5.443587788547364,
          49,
          6.10861236655723,
          25.841557667632845,
          21.165323336846704
         ],
         "yaxis": "y10"
        },
        {
         "hovertemplate": "truth=%{x}<br>value=%{y}<extra></extra>",
         "legendgroup": "",
         "marker": {
          "color": "purple",
          "symbol": "circle"
         },
         "mode": "markers",
         "name": "",
         "orientation": "v",
         "showlegend": false,
         "type": "scatter",
         "x": [
          89,
          11,
          61,
          94,
          79,
          40,
          34,
          49,
          16,
          39,
          31,
          10,
          27,
          88,
          5,
          51,
          59,
          92,
          86,
          83
         ],
         "xaxis": "x11",
         "y": [
          91.70206742157193,
          6.660310704826918,
          63.674191822403756,
          97.05955894695613,
          89.81484800479335,
          15.061070491434462,
          23.348453513759885,
          50.490976923866015,
          11.62948949911174,
          35.75567315493509,
          22.167535256499924,
          9.044640614217304,
          26.54775757819494,
          83.66664976406297,
          5.58358206388951,
          53.38826169543607,
          61.7159377564533,
          91.32936500997837,
          88.19386645311101,
          85.32112324212922
         ],
         "yaxis": "y11"
        },
        {
         "error_y": {
          "array": [
           2.7020674215719254,
           4.339689295173082,
           2.674191822403756,
           3.0595589469561304,
           10.814848004793348,
           24.938929508565536,
           10.651546486240115,
           1.4909769238660147,
           4.37051050088826,
           3.2443268450649114,
           8.832464743500076,
           0.9553593857826961,
           0.45224242180506025,
           4.333350235937033,
           0.5835820638895104,
           2.3882616954360714,
           2.7159377564533003,
           0.6706349900216253,
           2.1938664531110135,
           2.321123242129218
          ]
         },
         "hovertemplate": "truth=%{x}<br>value=%{y}<extra></extra>",
         "legendgroup": "",
         "marker": {
          "color": "purple",
          "symbol": "circle"
         },
         "mode": "markers",
         "name": "",
         "orientation": "v",
         "showlegend": false,
         "type": "scatter",
         "x": [
          89,
          11,
          61,
          94,
          79,
          40,
          34,
          49,
          16,
          39,
          31,
          10,
          27,
          88,
          5,
          51,
          59,
          92,
          86,
          83
         ],
         "xaxis": "x12",
         "y": [
          91.70206742157193,
          6.660310704826918,
          63.674191822403756,
          97.05955894695613,
          89.81484800479335,
          15.061070491434462,
          23.348453513759885,
          50.490976923866015,
          11.62948949911174,
          35.75567315493509,
          22.167535256499924,
          9.044640614217304,
          26.54775757819494,
          83.66664976406297,
          5.58358206388951,
          53.38826169543607,
          61.7159377564533,
          91.32936500997837,
          88.19386645311101,
          85.32112324212922
         ],
         "yaxis": "y12"
        }
       ],
       "layout": {
        "annotations": [
         {
          "font": {
           "size": 16
          },
          "showarrow": false,
          "text": "Pitch - Greyscale (Scaled 0-49)",
          "x": 0.225,
          "xanchor": "center",
          "xref": "paper",
          "y": 0.9999999999999999,
          "yanchor": "bottom",
          "yref": "paper"
         },
         {
          "font": {
           "size": 16
          },
          "showarrow": false,
          "text": "Pitch Error - Greyscale (Scaled 0-49)",
          "x": 0.775,
          "xanchor": "center",
          "xref": "paper",
          "y": 0.9999999999999999,
          "yanchor": "bottom",
          "yref": "paper"
         },
         {
          "font": {
           "size": 16
          },
          "showarrow": false,
          "text": "Pitch - Number (Scaled 0-100)",
          "x": 0.225,
          "xanchor": "center",
          "xref": "paper",
          "y": 0.8194444444444444,
          "yanchor": "bottom",
          "yref": "paper"
         },
         {
          "font": {
           "size": 16
          },
          "showarrow": false,
          "text": "Pitch Error - Number (Scaled 0-100)",
          "x": 0.775,
          "xanchor": "center",
          "xref": "paper",
          "y": 0.8194444444444444,
          "yanchor": "bottom",
          "yref": "paper"
         },
         {
          "font": {
           "size": 16
          },
          "showarrow": false,
          "text": "Roll - Greyscale (Scaled 0-49)",
          "x": 0.225,
          "xanchor": "center",
          "xref": "paper",
          "y": 0.638888888888889,
          "yanchor": "bottom",
          "yref": "paper"
         },
         {
          "font": {
           "size": 16
          },
          "showarrow": false,
          "text": "Roll Error - Greyscale (Scaled 0-49)",
          "x": 0.775,
          "xanchor": "center",
          "xref": "paper",
          "y": 0.638888888888889,
          "yanchor": "bottom",
          "yref": "paper"
         },
         {
          "font": {
           "size": 16
          },
          "showarrow": false,
          "text": "Roll - Number (Scaled 0-100)",
          "x": 0.225,
          "xanchor": "center",
          "xref": "paper",
          "y": 0.4583333333333333,
          "yanchor": "bottom",
          "yref": "paper"
         },
         {
          "font": {
           "size": 16
          },
          "showarrow": false,
          "text": "Roll Error - Number (Scaled 0-100)",
          "x": 0.775,
          "xanchor": "center",
          "xref": "paper",
          "y": 0.4583333333333333,
          "yanchor": "bottom",
          "yref": "paper"
         },
         {
          "font": {
           "size": 16
          },
          "showarrow": false,
          "text": "Slider - Greyscale (Scaled 0-49)",
          "x": 0.225,
          "xanchor": "center",
          "xref": "paper",
          "y": 0.2777777777777778,
          "yanchor": "bottom",
          "yref": "paper"
         },
         {
          "font": {
           "size": 16
          },
          "showarrow": false,
          "text": "Slider Error - Greyscale (Scaled 0-49)",
          "x": 0.775,
          "xanchor": "center",
          "xref": "paper",
          "y": 0.2777777777777778,
          "yanchor": "bottom",
          "yref": "paper"
         },
         {
          "font": {
           "size": 16
          },
          "showarrow": false,
          "text": "Slider - Number (Scaled 0-100)",
          "x": 0.225,
          "xanchor": "center",
          "xref": "paper",
          "y": 0.09722222222222222,
          "yanchor": "bottom",
          "yref": "paper"
         },
         {
          "font": {
           "size": 16
          },
          "showarrow": false,
          "text": "Slider Error - Number (Scaled 0-100)",
          "x": 0.775,
          "xanchor": "center",
          "xref": "paper",
          "y": 0.09722222222222222,
          "yanchor": "bottom",
          "yref": "paper"
         }
        ],
        "height": 2000,
        "template": {
         "data": {
          "bar": [
           {
            "error_x": {
             "color": "#2a3f5f"
            },
            "error_y": {
             "color": "#2a3f5f"
            },
            "marker": {
             "line": {
              "color": "#E5ECF6",
              "width": 0.5
             },
             "pattern": {
              "fillmode": "overlay",
              "size": 10,
              "solidity": 0.2
             }
            },
            "type": "bar"
           }
          ],
          "barpolar": [
           {
            "marker": {
             "line": {
              "color": "#E5ECF6",
              "width": 0.5
             },
             "pattern": {
              "fillmode": "overlay",
              "size": 10,
              "solidity": 0.2
             }
            },
            "type": "barpolar"
           }
          ],
          "carpet": [
           {
            "aaxis": {
             "endlinecolor": "#2a3f5f",
             "gridcolor": "white",
             "linecolor": "white",
             "minorgridcolor": "white",
             "startlinecolor": "#2a3f5f"
            },
            "baxis": {
             "endlinecolor": "#2a3f5f",
             "gridcolor": "white",
             "linecolor": "white",
             "minorgridcolor": "white",
             "startlinecolor": "#2a3f5f"
            },
            "type": "carpet"
           }
          ],
          "choropleth": [
           {
            "colorbar": {
             "outlinewidth": 0,
             "ticks": ""
            },
            "type": "choropleth"
           }
          ],
          "contour": [
           {
            "colorbar": {
             "outlinewidth": 0,
             "ticks": ""
            },
            "colorscale": [
             [
              0,
              "#0d0887"
             ],
             [
              0.1111111111111111,
              "#46039f"
             ],
             [
              0.2222222222222222,
              "#7201a8"
             ],
             [
              0.3333333333333333,
              "#9c179e"
             ],
             [
              0.4444444444444444,
              "#bd3786"
             ],
             [
              0.5555555555555556,
              "#d8576b"
             ],
             [
              0.6666666666666666,
              "#ed7953"
             ],
             [
              0.7777777777777778,
              "#fb9f3a"
             ],
             [
              0.8888888888888888,
              "#fdca26"
             ],
             [
              1,
              "#f0f921"
             ]
            ],
            "type": "contour"
           }
          ],
          "contourcarpet": [
           {
            "colorbar": {
             "outlinewidth": 0,
             "ticks": ""
            },
            "type": "contourcarpet"
           }
          ],
          "heatmap": [
           {
            "colorbar": {
             "outlinewidth": 0,
             "ticks": ""
            },
            "colorscale": [
             [
              0,
              "#0d0887"
             ],
             [
              0.1111111111111111,
              "#46039f"
             ],
             [
              0.2222222222222222,
              "#7201a8"
             ],
             [
              0.3333333333333333,
              "#9c179e"
             ],
             [
              0.4444444444444444,
              "#bd3786"
             ],
             [
              0.5555555555555556,
              "#d8576b"
             ],
             [
              0.6666666666666666,
              "#ed7953"
             ],
             [
              0.7777777777777778,
              "#fb9f3a"
             ],
             [
              0.8888888888888888,
              "#fdca26"
             ],
             [
              1,
              "#f0f921"
             ]
            ],
            "type": "heatmap"
           }
          ],
          "heatmapgl": [
           {
            "colorbar": {
             "outlinewidth": 0,
             "ticks": ""
            },
            "colorscale": [
             [
              0,
              "#0d0887"
             ],
             [
              0.1111111111111111,
              "#46039f"
             ],
             [
              0.2222222222222222,
              "#7201a8"
             ],
             [
              0.3333333333333333,
              "#9c179e"
             ],
             [
              0.4444444444444444,
              "#bd3786"
             ],
             [
              0.5555555555555556,
              "#d8576b"
             ],
             [
              0.6666666666666666,
              "#ed7953"
             ],
             [
              0.7777777777777778,
              "#fb9f3a"
             ],
             [
              0.8888888888888888,
              "#fdca26"
             ],
             [
              1,
              "#f0f921"
             ]
            ],
            "type": "heatmapgl"
           }
          ],
          "histogram": [
           {
            "marker": {
             "pattern": {
              "fillmode": "overlay",
              "size": 10,
              "solidity": 0.2
             }
            },
            "type": "histogram"
           }
          ],
          "histogram2d": [
           {
            "colorbar": {
             "outlinewidth": 0,
             "ticks": ""
            },
            "colorscale": [
             [
              0,
              "#0d0887"
             ],
             [
              0.1111111111111111,
              "#46039f"
             ],
             [
              0.2222222222222222,
              "#7201a8"
             ],
             [
              0.3333333333333333,
              "#9c179e"
             ],
             [
              0.4444444444444444,
              "#bd3786"
             ],
             [
              0.5555555555555556,
              "#d8576b"
             ],
             [
              0.6666666666666666,
              "#ed7953"
             ],
             [
              0.7777777777777778,
              "#fb9f3a"
             ],
             [
              0.8888888888888888,
              "#fdca26"
             ],
             [
              1,
              "#f0f921"
             ]
            ],
            "type": "histogram2d"
           }
          ],
          "histogram2dcontour": [
           {
            "colorbar": {
             "outlinewidth": 0,
             "ticks": ""
            },
            "colorscale": [
             [
              0,
              "#0d0887"
             ],
             [
              0.1111111111111111,
              "#46039f"
             ],
             [
              0.2222222222222222,
              "#7201a8"
             ],
             [
              0.3333333333333333,
              "#9c179e"
             ],
             [
              0.4444444444444444,
              "#bd3786"
             ],
             [
              0.5555555555555556,
              "#d8576b"
             ],
             [
              0.6666666666666666,
              "#ed7953"
             ],
             [
              0.7777777777777778,
              "#fb9f3a"
             ],
             [
              0.8888888888888888,
              "#fdca26"
             ],
             [
              1,
              "#f0f921"
             ]
            ],
            "type": "histogram2dcontour"
           }
          ],
          "mesh3d": [
           {
            "colorbar": {
             "outlinewidth": 0,
             "ticks": ""
            },
            "type": "mesh3d"
           }
          ],
          "parcoords": [
           {
            "line": {
             "colorbar": {
              "outlinewidth": 0,
              "ticks": ""
             }
            },
            "type": "parcoords"
           }
          ],
          "pie": [
           {
            "automargin": true,
            "type": "pie"
           }
          ],
          "scatter": [
           {
            "fillpattern": {
             "fillmode": "overlay",
             "size": 10,
             "solidity": 0.2
            },
            "type": "scatter"
           }
          ],
          "scatter3d": [
           {
            "line": {
             "colorbar": {
              "outlinewidth": 0,
              "ticks": ""
             }
            },
            "marker": {
             "colorbar": {
              "outlinewidth": 0,
              "ticks": ""
             }
            },
            "type": "scatter3d"
           }
          ],
          "scattercarpet": [
           {
            "marker": {
             "colorbar": {
              "outlinewidth": 0,
              "ticks": ""
             }
            },
            "type": "scattercarpet"
           }
          ],
          "scattergeo": [
           {
            "marker": {
             "colorbar": {
              "outlinewidth": 0,
              "ticks": ""
             }
            },
            "type": "scattergeo"
           }
          ],
          "scattergl": [
           {
            "marker": {
             "colorbar": {
              "outlinewidth": 0,
              "ticks": ""
             }
            },
            "type": "scattergl"
           }
          ],
          "scattermapbox": [
           {
            "marker": {
             "colorbar": {
              "outlinewidth": 0,
              "ticks": ""
             }
            },
            "type": "scattermapbox"
           }
          ],
          "scatterpolar": [
           {
            "marker": {
             "colorbar": {
              "outlinewidth": 0,
              "ticks": ""
             }
            },
            "type": "scatterpolar"
           }
          ],
          "scatterpolargl": [
           {
            "marker": {
             "colorbar": {
              "outlinewidth": 0,
              "ticks": ""
             }
            },
            "type": "scatterpolargl"
           }
          ],
          "scatterternary": [
           {
            "marker": {
             "colorbar": {
              "outlinewidth": 0,
              "ticks": ""
             }
            },
            "type": "scatterternary"
           }
          ],
          "surface": [
           {
            "colorbar": {
             "outlinewidth": 0,
             "ticks": ""
            },
            "colorscale": [
             [
              0,
              "#0d0887"
             ],
             [
              0.1111111111111111,
              "#46039f"
             ],
             [
              0.2222222222222222,
              "#7201a8"
             ],
             [
              0.3333333333333333,
              "#9c179e"
             ],
             [
              0.4444444444444444,
              "#bd3786"
             ],
             [
              0.5555555555555556,
              "#d8576b"
             ],
             [
              0.6666666666666666,
              "#ed7953"
             ],
             [
              0.7777777777777778,
              "#fb9f3a"
             ],
             [
              0.8888888888888888,
              "#fdca26"
             ],
             [
              1,
              "#f0f921"
             ]
            ],
            "type": "surface"
           }
          ],
          "table": [
           {
            "cells": {
             "fill": {
              "color": "#EBF0F8"
             },
             "line": {
              "color": "white"
             }
            },
            "header": {
             "fill": {
              "color": "#C8D4E3"
             },
             "line": {
              "color": "white"
             }
            },
            "type": "table"
           }
          ]
         },
         "layout": {
          "annotationdefaults": {
           "arrowcolor": "#2a3f5f",
           "arrowhead": 0,
           "arrowwidth": 1
          },
          "autotypenumbers": "strict",
          "coloraxis": {
           "colorbar": {
            "outlinewidth": 0,
            "ticks": ""
           }
          },
          "colorscale": {
           "diverging": [
            [
             0,
             "#8e0152"
            ],
            [
             0.1,
             "#c51b7d"
            ],
            [
             0.2,
             "#de77ae"
            ],
            [
             0.3,
             "#f1b6da"
            ],
            [
             0.4,
             "#fde0ef"
            ],
            [
             0.5,
             "#f7f7f7"
            ],
            [
             0.6,
             "#e6f5d0"
            ],
            [
             0.7,
             "#b8e186"
            ],
            [
             0.8,
             "#7fbc41"
            ],
            [
             0.9,
             "#4d9221"
            ],
            [
             1,
             "#276419"
            ]
           ],
           "sequential": [
            [
             0,
             "#0d0887"
            ],
            [
             0.1111111111111111,
             "#46039f"
            ],
            [
             0.2222222222222222,
             "#7201a8"
            ],
            [
             0.3333333333333333,
             "#9c179e"
            ],
            [
             0.4444444444444444,
             "#bd3786"
            ],
            [
             0.5555555555555556,
             "#d8576b"
            ],
            [
             0.6666666666666666,
             "#ed7953"
            ],
            [
             0.7777777777777778,
             "#fb9f3a"
            ],
            [
             0.8888888888888888,
             "#fdca26"
            ],
            [
             1,
             "#f0f921"
            ]
           ],
           "sequentialminus": [
            [
             0,
             "#0d0887"
            ],
            [
             0.1111111111111111,
             "#46039f"
            ],
            [
             0.2222222222222222,
             "#7201a8"
            ],
            [
             0.3333333333333333,
             "#9c179e"
            ],
            [
             0.4444444444444444,
             "#bd3786"
            ],
            [
             0.5555555555555556,
             "#d8576b"
            ],
            [
             0.6666666666666666,
             "#ed7953"
            ],
            [
             0.7777777777777778,
             "#fb9f3a"
            ],
            [
             0.8888888888888888,
             "#fdca26"
            ],
            [
             1,
             "#f0f921"
            ]
           ]
          },
          "colorway": [
           "#636efa",
           "#EF553B",
           "#00cc96",
           "#ab63fa",
           "#FFA15A",
           "#19d3f3",
           "#FF6692",
           "#B6E880",
           "#FF97FF",
           "#FECB52"
          ],
          "font": {
           "color": "#2a3f5f"
          },
          "geo": {
           "bgcolor": "white",
           "lakecolor": "white",
           "landcolor": "#E5ECF6",
           "showlakes": true,
           "showland": true,
           "subunitcolor": "white"
          },
          "hoverlabel": {
           "align": "left"
          },
          "hovermode": "closest",
          "mapbox": {
           "style": "light"
          },
          "paper_bgcolor": "white",
          "plot_bgcolor": "#E5ECF6",
          "polar": {
           "angularaxis": {
            "gridcolor": "white",
            "linecolor": "white",
            "ticks": ""
           },
           "bgcolor": "#E5ECF6",
           "radialaxis": {
            "gridcolor": "white",
            "linecolor": "white",
            "ticks": ""
           }
          },
          "scene": {
           "xaxis": {
            "backgroundcolor": "#E5ECF6",
            "gridcolor": "white",
            "gridwidth": 2,
            "linecolor": "white",
            "showbackground": true,
            "ticks": "",
            "zerolinecolor": "white"
           },
           "yaxis": {
            "backgroundcolor": "#E5ECF6",
            "gridcolor": "white",
            "gridwidth": 2,
            "linecolor": "white",
            "showbackground": true,
            "ticks": "",
            "zerolinecolor": "white"
           },
           "zaxis": {
            "backgroundcolor": "#E5ECF6",
            "gridcolor": "white",
            "gridwidth": 2,
            "linecolor": "white",
            "showbackground": true,
            "ticks": "",
            "zerolinecolor": "white"
           }
          },
          "shapedefaults": {
           "line": {
            "color": "#2a3f5f"
           }
          },
          "ternary": {
           "aaxis": {
            "gridcolor": "white",
            "linecolor": "white",
            "ticks": ""
           },
           "baxis": {
            "gridcolor": "white",
            "linecolor": "white",
            "ticks": ""
           },
           "bgcolor": "#E5ECF6",
           "caxis": {
            "gridcolor": "white",
            "linecolor": "white",
            "ticks": ""
           }
          },
          "title": {
           "x": 0.05
          },
          "xaxis": {
           "automargin": true,
           "gridcolor": "white",
           "linecolor": "white",
           "ticks": "",
           "title": {
            "standoff": 15
           },
           "zerolinecolor": "white",
           "zerolinewidth": 2
          },
          "yaxis": {
           "automargin": true,
           "gridcolor": "white",
           "linecolor": "white",
           "ticks": "",
           "title": {
            "standoff": 15
           },
           "zerolinecolor": "white",
           "zerolinewidth": 2
          }
         }
        },
        "title": {
         "text": "Sensor Readings Scatter Plots"
        },
        "width": 1600,
        "xaxis": {
         "anchor": "y",
         "domain": [
          0,
          0.45
         ],
         "title": {
          "text": "Truth Values"
         }
        },
        "xaxis10": {
         "anchor": "y10",
         "domain": [
          0.55,
          1
         ],
         "title": {
          "text": "Truth Values"
         }
        },
        "xaxis11": {
         "anchor": "y11",
         "domain": [
          0,
          0.45
         ],
         "title": {
          "text": "Truth Values"
         }
        },
        "xaxis12": {
         "anchor": "y12",
         "domain": [
          0.55,
          1
         ],
         "title": {
          "text": "Truth Values"
         }
        },
        "xaxis2": {
         "anchor": "y2",
         "domain": [
          0.55,
          1
         ],
         "title": {
          "text": "Truth Values"
         }
        },
        "xaxis3": {
         "anchor": "y3",
         "domain": [
          0,
          0.45
         ],
         "title": {
          "text": "Truth Values"
         }
        },
        "xaxis4": {
         "anchor": "y4",
         "domain": [
          0.55,
          1
         ],
         "title": {
          "text": "Truth Values"
         }
        },
        "xaxis5": {
         "anchor": "y5",
         "domain": [
          0,
          0.45
         ],
         "title": {
          "text": "Truth Values"
         }
        },
        "xaxis6": {
         "anchor": "y6",
         "domain": [
          0.55,
          1
         ],
         "title": {
          "text": "Truth Values"
         }
        },
        "xaxis7": {
         "anchor": "y7",
         "domain": [
          0,
          0.45
         ],
         "title": {
          "text": "Truth Values"
         }
        },
        "xaxis8": {
         "anchor": "y8",
         "domain": [
          0.55,
          1
         ],
         "title": {
          "text": "Truth Values"
         }
        },
        "xaxis9": {
         "anchor": "y9",
         "domain": [
          0,
          0.45
         ],
         "title": {
          "text": "Truth Values"
         }
        },
        "yaxis": {
         "anchor": "x",
         "domain": [
          0.9027777777777777,
          0.9999999999999999
         ],
         "title": {
          "text": "Pitch Sensor Readings"
         }
        },
        "yaxis10": {
         "anchor": "x10",
         "domain": [
          0.18055555555555555,
          0.2777777777777778
         ],
         "title": {
          "text": "Slider Readings"
         }
        },
        "yaxis11": {
         "anchor": "x11",
         "domain": [
          0,
          0.09722222222222222
         ],
         "title": {
          "text": "Slider Readings"
         }
        },
        "yaxis12": {
         "anchor": "x12",
         "domain": [
          0,
          0.09722222222222222
         ],
         "title": {
          "text": "Slider Readings"
         }
        },
        "yaxis2": {
         "anchor": "x2",
         "domain": [
          0.9027777777777777,
          0.9999999999999999
         ],
         "title": {
          "text": "Pitch Sensor Readings"
         }
        },
        "yaxis3": {
         "anchor": "x3",
         "domain": [
          0.7222222222222222,
          0.8194444444444444
         ],
         "title": {
          "text": "Pitch Sensor Readings"
         }
        },
        "yaxis4": {
         "anchor": "x4",
         "domain": [
          0.7222222222222222,
          0.8194444444444444
         ],
         "title": {
          "text": "Pitch Sensor Readings"
         }
        },
        "yaxis5": {
         "anchor": "x5",
         "domain": [
          0.5416666666666667,
          0.638888888888889
         ],
         "title": {
          "text": "Roll Sensor Readings"
         }
        },
        "yaxis6": {
         "anchor": "x6",
         "domain": [
          0.5416666666666667,
          0.638888888888889
         ],
         "title": {
          "text": "Roll Sensor Readings"
         }
        },
        "yaxis7": {
         "anchor": "x7",
         "domain": [
          0.3611111111111111,
          0.4583333333333333
         ],
         "title": {
          "text": "Roll Sensor Readings"
         }
        },
        "yaxis8": {
         "anchor": "x8",
         "domain": [
          0.3611111111111111,
          0.4583333333333333
         ],
         "title": {
          "text": "Roll Sensor Readings"
         }
        },
        "yaxis9": {
         "anchor": "x9",
         "domain": [
          0.18055555555555555,
          0.2777777777777778
         ],
         "title": {
          "text": "Slider Readings"
         }
        }
       }
      }
     },
     "metadata": {},
     "output_type": "display_data"
    }
   ],
   "source": [
    "calibration_threshold = 2\n",
    "g_pitch_greyscale_df = df[(df[\"experiment_type\"] == \"gesture_pitch_greyscale\") & (df[\"calibration\"] >= calibration_threshold)]\n",
    "g_pitch_number_df = df[(df[\"experiment_type\"] == \"gesture_pitch_number\") & (df[\"calibration\"] >= calibration_threshold)]\n",
    "g_roll_greyscale_df = df[(df[\"experiment_type\"] == \"gesture_roll_greyscale\") & (df[\"calibration\"] >= calibration_threshold)]\n",
    "g_roll_number_df = df[(df[\"experiment_type\"] == \"gesture_roll_number\") & (df[\"calibration\"] >= calibration_threshold)]\n",
    "g_slider_greyscale_df = df[(df[\"experiment_type\"] == \"slider_greyscale\")]\n",
    "g_slider_number_df = df[(df[\"experiment_type\"] == \"slider_number\")]\n",
    "\n",
    "fig = sp.make_subplots(rows=6, cols=2, subplot_titles=(\n",
    "    'Pitch - Greyscale (Scaled 0-49)',\n",
    "    'Pitch Error - Greyscale (Scaled 0-49)',\n",
    "    'Pitch - Number (Scaled 0-100)',\n",
    "    'Pitch Error - Number (Scaled 0-100)',\n",
    "    'Roll - Greyscale (Scaled 0-49)',\n",
    "    'Roll Error - Greyscale (Scaled 0-49)',\n",
    "    'Roll - Number (Scaled 0-100)',\n",
    "    'Roll Error - Number (Scaled 0-100)',\n",
    "    'Slider - Greyscale (Scaled 0-49)',\n",
    "    'Slider Error - Greyscale (Scaled 0-49)',\n",
    "    'Slider - Number (Scaled 0-100)',\n",
    "    'Slider Error - Number (Scaled 0-100)'\n",
    "))\n",
    "\n",
    "fig.add_trace(px.scatter(g_pitch_greyscale_df, x=\"truth\", y=\"pitch_truth\", color_discrete_sequence=['blue']).data[0], row=1, col=1)\n",
    "fig.add_trace(px.scatter(g_pitch_greyscale_df, x=\"truth\", y=\"pitch_truth\", error_y=\"pitch_truth_diff\", color_discrete_sequence=['blue']).data[0], row=1, col=2)\n",
    "fig.add_trace(px.scatter(g_pitch_number_df, x=\"truth\", y=\"pitch_truth\", color_discrete_sequence=['green']).data[0], row=2, col=1)\n",
    "fig.add_trace(px.scatter(g_pitch_number_df, x=\"truth\", y=\"pitch_truth\", error_y=\"pitch_truth_diff\", color_discrete_sequence=['green']).data[0], row=2, col=2)\n",
    "fig.add_trace(px.scatter(g_roll_greyscale_df, x=\"truth\", y=\"roll_truth\", color_discrete_sequence=['red']).data[0], row=3, col=1)\n",
    "fig.add_trace(px.scatter(g_roll_greyscale_df, x=\"truth\", y=\"roll_truth\", error_y=\"roll_truth_diff\", color_discrete_sequence=['red']).data[0], row=3, col=2)\n",
    "fig.add_trace(px.scatter(g_roll_number_df, x=\"truth\", y=\"roll_truth\", color_discrete_sequence=['purple']).data[0], row=4, col=1)\n",
    "fig.add_trace(px.scatter(g_roll_number_df, x=\"truth\", y=\"roll_truth\", error_y=\"roll_truth_diff\", color_discrete_sequence=['purple']).data[0], row=4, col=2)\n",
    "fig.add_trace(px.scatter(g_slider_greyscale_df, x=\"truth\", y=\"value\", color_discrete_sequence=['magenta']).data[0], row=5, col=1)\n",
    "fig.add_trace(px.scatter(g_slider_greyscale_df, x=\"truth\", y=\"value\", error_y=\"slider_diff\", color_discrete_sequence=['magenta']).data[0], row=5, col=2)\n",
    "fig.add_trace(px.scatter(g_slider_number_df, x=\"truth\", y=\"value\", color_discrete_sequence=['purple']).data[0], row=6, col=1)\n",
    "fig.add_trace(px.scatter(g_slider_number_df, x=\"truth\", y=\"value\", error_y=\"slider_diff\", color_discrete_sequence=['purple']).data[0], row=6, col=2)\n",
    "\n",
    "fig.update_layout(height=2000, width=1600, title_text=\"Sensor Readings Scatter Plots\")\n",
    "fig.update_xaxes(title_text=\"Truth Values\")\n",
    "fig.update_yaxes(title_text=\"Sensor Readings\")\n",
    "\n",
    "fig['layout']['yaxis1'].update(title='Pitch Sensor Readings')\n",
    "fig['layout']['yaxis2'].update(title='Pitch Sensor Readings')\n",
    "fig['layout']['yaxis3'].update(title='Pitch Sensor Readings')\n",
    "fig['layout']['yaxis4'].update(title='Pitch Sensor Readings')\n",
    "fig['layout']['yaxis5'].update(title='Roll Sensor Readings')\n",
    "fig['layout']['yaxis6'].update(title='Roll Sensor Readings')\n",
    "fig['layout']['yaxis7'].update(title='Roll Sensor Readings')\n",
    "fig['layout']['yaxis8'].update(title='Roll Sensor Readings')\n",
    "fig['layout']['yaxis9'].update(title='Slider Readings')\n",
    "fig['layout']['yaxis10'].update(title='Slider Readings')\n",
    "fig['layout']['yaxis11'].update(title='Slider Readings')\n",
    "fig['layout']['yaxis12'].update(title='Slider Readings')\n",
    "\n",
    "fig.show()"
   ]
  },
  {
   "cell_type": "code",
   "execution_count": 40,
   "metadata": {},
   "outputs": [
    {
     "data": {
      "application/vnd.plotly.v1+json": {
       "config": {
        "plotlyServerURL": "https://plot.ly"
       },
       "data": [
        {
         "alignmentgroup": "True",
         "bingroup": "x",
         "hovertemplate": "Pitch Truth Difference=%{x}<br>count=%{y}<extra></extra>",
         "legendgroup": "",
         "marker": {
          "color": "#636efa",
          "pattern": {
           "shape": ""
          }
         },
         "name": "",
         "offsetgroup": "",
         "orientation": "v",
         "showlegend": false,
         "type": "histogram",
         "x": [
          13,
          13,
          12,
          8,
          8,
          14,
          2,
          6,
          5,
          15,
          3,
          3,
          2,
          8,
          11,
          7,
          14,
          2,
          10,
          4
         ],
         "xaxis": "x",
         "yaxis": "y"
        }
       ],
       "layout": {
        "barmode": "relative",
        "legend": {
         "tracegroupgap": 0
        },
        "template": {
         "data": {
          "bar": [
           {
            "error_x": {
             "color": "#2a3f5f"
            },
            "error_y": {
             "color": "#2a3f5f"
            },
            "marker": {
             "line": {
              "color": "#E5ECF6",
              "width": 0.5
             },
             "pattern": {
              "fillmode": "overlay",
              "size": 10,
              "solidity": 0.2
             }
            },
            "type": "bar"
           }
          ],
          "barpolar": [
           {
            "marker": {
             "line": {
              "color": "#E5ECF6",
              "width": 0.5
             },
             "pattern": {
              "fillmode": "overlay",
              "size": 10,
              "solidity": 0.2
             }
            },
            "type": "barpolar"
           }
          ],
          "carpet": [
           {
            "aaxis": {
             "endlinecolor": "#2a3f5f",
             "gridcolor": "white",
             "linecolor": "white",
             "minorgridcolor": "white",
             "startlinecolor": "#2a3f5f"
            },
            "baxis": {
             "endlinecolor": "#2a3f5f",
             "gridcolor": "white",
             "linecolor": "white",
             "minorgridcolor": "white",
             "startlinecolor": "#2a3f5f"
            },
            "type": "carpet"
           }
          ],
          "choropleth": [
           {
            "colorbar": {
             "outlinewidth": 0,
             "ticks": ""
            },
            "type": "choropleth"
           }
          ],
          "contour": [
           {
            "colorbar": {
             "outlinewidth": 0,
             "ticks": ""
            },
            "colorscale": [
             [
              0,
              "#0d0887"
             ],
             [
              0.1111111111111111,
              "#46039f"
             ],
             [
              0.2222222222222222,
              "#7201a8"
             ],
             [
              0.3333333333333333,
              "#9c179e"
             ],
             [
              0.4444444444444444,
              "#bd3786"
             ],
             [
              0.5555555555555556,
              "#d8576b"
             ],
             [
              0.6666666666666666,
              "#ed7953"
             ],
             [
              0.7777777777777778,
              "#fb9f3a"
             ],
             [
              0.8888888888888888,
              "#fdca26"
             ],
             [
              1,
              "#f0f921"
             ]
            ],
            "type": "contour"
           }
          ],
          "contourcarpet": [
           {
            "colorbar": {
             "outlinewidth": 0,
             "ticks": ""
            },
            "type": "contourcarpet"
           }
          ],
          "heatmap": [
           {
            "colorbar": {
             "outlinewidth": 0,
             "ticks": ""
            },
            "colorscale": [
             [
              0,
              "#0d0887"
             ],
             [
              0.1111111111111111,
              "#46039f"
             ],
             [
              0.2222222222222222,
              "#7201a8"
             ],
             [
              0.3333333333333333,
              "#9c179e"
             ],
             [
              0.4444444444444444,
              "#bd3786"
             ],
             [
              0.5555555555555556,
              "#d8576b"
             ],
             [
              0.6666666666666666,
              "#ed7953"
             ],
             [
              0.7777777777777778,
              "#fb9f3a"
             ],
             [
              0.8888888888888888,
              "#fdca26"
             ],
             [
              1,
              "#f0f921"
             ]
            ],
            "type": "heatmap"
           }
          ],
          "heatmapgl": [
           {
            "colorbar": {
             "outlinewidth": 0,
             "ticks": ""
            },
            "colorscale": [
             [
              0,
              "#0d0887"
             ],
             [
              0.1111111111111111,
              "#46039f"
             ],
             [
              0.2222222222222222,
              "#7201a8"
             ],
             [
              0.3333333333333333,
              "#9c179e"
             ],
             [
              0.4444444444444444,
              "#bd3786"
             ],
             [
              0.5555555555555556,
              "#d8576b"
             ],
             [
              0.6666666666666666,
              "#ed7953"
             ],
             [
              0.7777777777777778,
              "#fb9f3a"
             ],
             [
              0.8888888888888888,
              "#fdca26"
             ],
             [
              1,
              "#f0f921"
             ]
            ],
            "type": "heatmapgl"
           }
          ],
          "histogram": [
           {
            "marker": {
             "pattern": {
              "fillmode": "overlay",
              "size": 10,
              "solidity": 0.2
             }
            },
            "type": "histogram"
           }
          ],
          "histogram2d": [
           {
            "colorbar": {
             "outlinewidth": 0,
             "ticks": ""
            },
            "colorscale": [
             [
              0,
              "#0d0887"
             ],
             [
              0.1111111111111111,
              "#46039f"
             ],
             [
              0.2222222222222222,
              "#7201a8"
             ],
             [
              0.3333333333333333,
              "#9c179e"
             ],
             [
              0.4444444444444444,
              "#bd3786"
             ],
             [
              0.5555555555555556,
              "#d8576b"
             ],
             [
              0.6666666666666666,
              "#ed7953"
             ],
             [
              0.7777777777777778,
              "#fb9f3a"
             ],
             [
              0.8888888888888888,
              "#fdca26"
             ],
             [
              1,
              "#f0f921"
             ]
            ],
            "type": "histogram2d"
           }
          ],
          "histogram2dcontour": [
           {
            "colorbar": {
             "outlinewidth": 0,
             "ticks": ""
            },
            "colorscale": [
             [
              0,
              "#0d0887"
             ],
             [
              0.1111111111111111,
              "#46039f"
             ],
             [
              0.2222222222222222,
              "#7201a8"
             ],
             [
              0.3333333333333333,
              "#9c179e"
             ],
             [
              0.4444444444444444,
              "#bd3786"
             ],
             [
              0.5555555555555556,
              "#d8576b"
             ],
             [
              0.6666666666666666,
              "#ed7953"
             ],
             [
              0.7777777777777778,
              "#fb9f3a"
             ],
             [
              0.8888888888888888,
              "#fdca26"
             ],
             [
              1,
              "#f0f921"
             ]
            ],
            "type": "histogram2dcontour"
           }
          ],
          "mesh3d": [
           {
            "colorbar": {
             "outlinewidth": 0,
             "ticks": ""
            },
            "type": "mesh3d"
           }
          ],
          "parcoords": [
           {
            "line": {
             "colorbar": {
              "outlinewidth": 0,
              "ticks": ""
             }
            },
            "type": "parcoords"
           }
          ],
          "pie": [
           {
            "automargin": true,
            "type": "pie"
           }
          ],
          "scatter": [
           {
            "fillpattern": {
             "fillmode": "overlay",
             "size": 10,
             "solidity": 0.2
            },
            "type": "scatter"
           }
          ],
          "scatter3d": [
           {
            "line": {
             "colorbar": {
              "outlinewidth": 0,
              "ticks": ""
             }
            },
            "marker": {
             "colorbar": {
              "outlinewidth": 0,
              "ticks": ""
             }
            },
            "type": "scatter3d"
           }
          ],
          "scattercarpet": [
           {
            "marker": {
             "colorbar": {
              "outlinewidth": 0,
              "ticks": ""
             }
            },
            "type": "scattercarpet"
           }
          ],
          "scattergeo": [
           {
            "marker": {
             "colorbar": {
              "outlinewidth": 0,
              "ticks": ""
             }
            },
            "type": "scattergeo"
           }
          ],
          "scattergl": [
           {
            "marker": {
             "colorbar": {
              "outlinewidth": 0,
              "ticks": ""
             }
            },
            "type": "scattergl"
           }
          ],
          "scattermapbox": [
           {
            "marker": {
             "colorbar": {
              "outlinewidth": 0,
              "ticks": ""
             }
            },
            "type": "scattermapbox"
           }
          ],
          "scatterpolar": [
           {
            "marker": {
             "colorbar": {
              "outlinewidth": 0,
              "ticks": ""
             }
            },
            "type": "scatterpolar"
           }
          ],
          "scatterpolargl": [
           {
            "marker": {
             "colorbar": {
              "outlinewidth": 0,
              "ticks": ""
             }
            },
            "type": "scatterpolargl"
           }
          ],
          "scatterternary": [
           {
            "marker": {
             "colorbar": {
              "outlinewidth": 0,
              "ticks": ""
             }
            },
            "type": "scatterternary"
           }
          ],
          "surface": [
           {
            "colorbar": {
             "outlinewidth": 0,
             "ticks": ""
            },
            "colorscale": [
             [
              0,
              "#0d0887"
             ],
             [
              0.1111111111111111,
              "#46039f"
             ],
             [
              0.2222222222222222,
              "#7201a8"
             ],
             [
              0.3333333333333333,
              "#9c179e"
             ],
             [
              0.4444444444444444,
              "#bd3786"
             ],
             [
              0.5555555555555556,
              "#d8576b"
             ],
             [
              0.6666666666666666,
              "#ed7953"
             ],
             [
              0.7777777777777778,
              "#fb9f3a"
             ],
             [
              0.8888888888888888,
              "#fdca26"
             ],
             [
              1,
              "#f0f921"
             ]
            ],
            "type": "surface"
           }
          ],
          "table": [
           {
            "cells": {
             "fill": {
              "color": "#EBF0F8"
             },
             "line": {
              "color": "white"
             }
            },
            "header": {
             "fill": {
              "color": "#C8D4E3"
             },
             "line": {
              "color": "white"
             }
            },
            "type": "table"
           }
          ]
         },
         "layout": {
          "annotationdefaults": {
           "arrowcolor": "#2a3f5f",
           "arrowhead": 0,
           "arrowwidth": 1
          },
          "autotypenumbers": "strict",
          "coloraxis": {
           "colorbar": {
            "outlinewidth": 0,
            "ticks": ""
           }
          },
          "colorscale": {
           "diverging": [
            [
             0,
             "#8e0152"
            ],
            [
             0.1,
             "#c51b7d"
            ],
            [
             0.2,
             "#de77ae"
            ],
            [
             0.3,
             "#f1b6da"
            ],
            [
             0.4,
             "#fde0ef"
            ],
            [
             0.5,
             "#f7f7f7"
            ],
            [
             0.6,
             "#e6f5d0"
            ],
            [
             0.7,
             "#b8e186"
            ],
            [
             0.8,
             "#7fbc41"
            ],
            [
             0.9,
             "#4d9221"
            ],
            [
             1,
             "#276419"
            ]
           ],
           "sequential": [
            [
             0,
             "#0d0887"
            ],
            [
             0.1111111111111111,
             "#46039f"
            ],
            [
             0.2222222222222222,
             "#7201a8"
            ],
            [
             0.3333333333333333,
             "#9c179e"
            ],
            [
             0.4444444444444444,
             "#bd3786"
            ],
            [
             0.5555555555555556,
             "#d8576b"
            ],
            [
             0.6666666666666666,
             "#ed7953"
            ],
            [
             0.7777777777777778,
             "#fb9f3a"
            ],
            [
             0.8888888888888888,
             "#fdca26"
            ],
            [
             1,
             "#f0f921"
            ]
           ],
           "sequentialminus": [
            [
             0,
             "#0d0887"
            ],
            [
             0.1111111111111111,
             "#46039f"
            ],
            [
             0.2222222222222222,
             "#7201a8"
            ],
            [
             0.3333333333333333,
             "#9c179e"
            ],
            [
             0.4444444444444444,
             "#bd3786"
            ],
            [
             0.5555555555555556,
             "#d8576b"
            ],
            [
             0.6666666666666666,
             "#ed7953"
            ],
            [
             0.7777777777777778,
             "#fb9f3a"
            ],
            [
             0.8888888888888888,
             "#fdca26"
            ],
            [
             1,
             "#f0f921"
            ]
           ]
          },
          "colorway": [
           "#636efa",
           "#EF553B",
           "#00cc96",
           "#ab63fa",
           "#FFA15A",
           "#19d3f3",
           "#FF6692",
           "#B6E880",
           "#FF97FF",
           "#FECB52"
          ],
          "font": {
           "color": "#2a3f5f"
          },
          "geo": {
           "bgcolor": "white",
           "lakecolor": "white",
           "landcolor": "#E5ECF6",
           "showlakes": true,
           "showland": true,
           "subunitcolor": "white"
          },
          "hoverlabel": {
           "align": "left"
          },
          "hovermode": "closest",
          "mapbox": {
           "style": "light"
          },
          "paper_bgcolor": "white",
          "plot_bgcolor": "#E5ECF6",
          "polar": {
           "angularaxis": {
            "gridcolor": "white",
            "linecolor": "white",
            "ticks": ""
           },
           "bgcolor": "#E5ECF6",
           "radialaxis": {
            "gridcolor": "white",
            "linecolor": "white",
            "ticks": ""
           }
          },
          "scene": {
           "xaxis": {
            "backgroundcolor": "#E5ECF6",
            "gridcolor": "white",
            "gridwidth": 2,
            "linecolor": "white",
            "showbackground": true,
            "ticks": "",
            "zerolinecolor": "white"
           },
           "yaxis": {
            "backgroundcolor": "#E5ECF6",
            "gridcolor": "white",
            "gridwidth": 2,
            "linecolor": "white",
            "showbackground": true,
            "ticks": "",
            "zerolinecolor": "white"
           },
           "zaxis": {
            "backgroundcolor": "#E5ECF6",
            "gridcolor": "white",
            "gridwidth": 2,
            "linecolor": "white",
            "showbackground": true,
            "ticks": "",
            "zerolinecolor": "white"
           }
          },
          "shapedefaults": {
           "line": {
            "color": "#2a3f5f"
           }
          },
          "ternary": {
           "aaxis": {
            "gridcolor": "white",
            "linecolor": "white",
            "ticks": ""
           },
           "baxis": {
            "gridcolor": "white",
            "linecolor": "white",
            "ticks": ""
           },
           "bgcolor": "#E5ECF6",
           "caxis": {
            "gridcolor": "white",
            "linecolor": "white",
            "ticks": ""
           }
          },
          "title": {
           "x": 0.05
          },
          "xaxis": {
           "automargin": true,
           "gridcolor": "white",
           "linecolor": "white",
           "ticks": "",
           "title": {
            "standoff": 15
           },
           "zerolinecolor": "white",
           "zerolinewidth": 2
          },
          "yaxis": {
           "automargin": true,
           "gridcolor": "white",
           "linecolor": "white",
           "ticks": "",
           "title": {
            "standoff": 15
           },
           "zerolinecolor": "white",
           "zerolinewidth": 2
          }
         }
        },
        "title": {
         "text": "Pitch Truth Differences - gesture_pitch_number"
        },
        "xaxis": {
         "anchor": "y",
         "domain": [
          0,
          1
         ],
         "title": {
          "text": "Pitch Truth Difference"
         }
        },
        "yaxis": {
         "anchor": "x",
         "domain": [
          0,
          1
         ],
         "title": {
          "text": "count"
         }
        }
       }
      }
     },
     "metadata": {},
     "output_type": "display_data"
    },
    {
     "data": {
      "application/vnd.plotly.v1+json": {
       "config": {
        "plotlyServerURL": "https://plot.ly"
       },
       "data": [
        {
         "alignmentgroup": "True",
         "bingroup": "x",
         "hovertemplate": "Pitch Truth Difference=%{x}<br>count=%{y}<extra></extra>",
         "legendgroup": "",
         "marker": {
          "color": "#636efa",
          "pattern": {
           "shape": ""
          }
         },
         "name": "",
         "offsetgroup": "",
         "orientation": "v",
         "showlegend": false,
         "type": "histogram",
         "x": [
          13,
          7,
          47,
          16,
          26,
          49,
          28,
          17,
          6,
          38,
          20,
          20,
          8,
          4,
          13,
          16,
          34,
          0,
          14,
          27
         ],
         "xaxis": "x",
         "yaxis": "y"
        }
       ],
       "layout": {
        "barmode": "relative",
        "legend": {
         "tracegroupgap": 0
        },
        "template": {
         "data": {
          "bar": [
           {
            "error_x": {
             "color": "#2a3f5f"
            },
            "error_y": {
             "color": "#2a3f5f"
            },
            "marker": {
             "line": {
              "color": "#E5ECF6",
              "width": 0.5
             },
             "pattern": {
              "fillmode": "overlay",
              "size": 10,
              "solidity": 0.2
             }
            },
            "type": "bar"
           }
          ],
          "barpolar": [
           {
            "marker": {
             "line": {
              "color": "#E5ECF6",
              "width": 0.5
             },
             "pattern": {
              "fillmode": "overlay",
              "size": 10,
              "solidity": 0.2
             }
            },
            "type": "barpolar"
           }
          ],
          "carpet": [
           {
            "aaxis": {
             "endlinecolor": "#2a3f5f",
             "gridcolor": "white",
             "linecolor": "white",
             "minorgridcolor": "white",
             "startlinecolor": "#2a3f5f"
            },
            "baxis": {
             "endlinecolor": "#2a3f5f",
             "gridcolor": "white",
             "linecolor": "white",
             "minorgridcolor": "white",
             "startlinecolor": "#2a3f5f"
            },
            "type": "carpet"
           }
          ],
          "choropleth": [
           {
            "colorbar": {
             "outlinewidth": 0,
             "ticks": ""
            },
            "type": "choropleth"
           }
          ],
          "contour": [
           {
            "colorbar": {
             "outlinewidth": 0,
             "ticks": ""
            },
            "colorscale": [
             [
              0,
              "#0d0887"
             ],
             [
              0.1111111111111111,
              "#46039f"
             ],
             [
              0.2222222222222222,
              "#7201a8"
             ],
             [
              0.3333333333333333,
              "#9c179e"
             ],
             [
              0.4444444444444444,
              "#bd3786"
             ],
             [
              0.5555555555555556,
              "#d8576b"
             ],
             [
              0.6666666666666666,
              "#ed7953"
             ],
             [
              0.7777777777777778,
              "#fb9f3a"
             ],
             [
              0.8888888888888888,
              "#fdca26"
             ],
             [
              1,
              "#f0f921"
             ]
            ],
            "type": "contour"
           }
          ],
          "contourcarpet": [
           {
            "colorbar": {
             "outlinewidth": 0,
             "ticks": ""
            },
            "type": "contourcarpet"
           }
          ],
          "heatmap": [
           {
            "colorbar": {
             "outlinewidth": 0,
             "ticks": ""
            },
            "colorscale": [
             [
              0,
              "#0d0887"
             ],
             [
              0.1111111111111111,
              "#46039f"
             ],
             [
              0.2222222222222222,
              "#7201a8"
             ],
             [
              0.3333333333333333,
              "#9c179e"
             ],
             [
              0.4444444444444444,
              "#bd3786"
             ],
             [
              0.5555555555555556,
              "#d8576b"
             ],
             [
              0.6666666666666666,
              "#ed7953"
             ],
             [
              0.7777777777777778,
              "#fb9f3a"
             ],
             [
              0.8888888888888888,
              "#fdca26"
             ],
             [
              1,
              "#f0f921"
             ]
            ],
            "type": "heatmap"
           }
          ],
          "heatmapgl": [
           {
            "colorbar": {
             "outlinewidth": 0,
             "ticks": ""
            },
            "colorscale": [
             [
              0,
              "#0d0887"
             ],
             [
              0.1111111111111111,
              "#46039f"
             ],
             [
              0.2222222222222222,
              "#7201a8"
             ],
             [
              0.3333333333333333,
              "#9c179e"
             ],
             [
              0.4444444444444444,
              "#bd3786"
             ],
             [
              0.5555555555555556,
              "#d8576b"
             ],
             [
              0.6666666666666666,
              "#ed7953"
             ],
             [
              0.7777777777777778,
              "#fb9f3a"
             ],
             [
              0.8888888888888888,
              "#fdca26"
             ],
             [
              1,
              "#f0f921"
             ]
            ],
            "type": "heatmapgl"
           }
          ],
          "histogram": [
           {
            "marker": {
             "pattern": {
              "fillmode": "overlay",
              "size": 10,
              "solidity": 0.2
             }
            },
            "type": "histogram"
           }
          ],
          "histogram2d": [
           {
            "colorbar": {
             "outlinewidth": 0,
             "ticks": ""
            },
            "colorscale": [
             [
              0,
              "#0d0887"
             ],
             [
              0.1111111111111111,
              "#46039f"
             ],
             [
              0.2222222222222222,
              "#7201a8"
             ],
             [
              0.3333333333333333,
              "#9c179e"
             ],
             [
              0.4444444444444444,
              "#bd3786"
             ],
             [
              0.5555555555555556,
              "#d8576b"
             ],
             [
              0.6666666666666666,
              "#ed7953"
             ],
             [
              0.7777777777777778,
              "#fb9f3a"
             ],
             [
              0.8888888888888888,
              "#fdca26"
             ],
             [
              1,
              "#f0f921"
             ]
            ],
            "type": "histogram2d"
           }
          ],
          "histogram2dcontour": [
           {
            "colorbar": {
             "outlinewidth": 0,
             "ticks": ""
            },
            "colorscale": [
             [
              0,
              "#0d0887"
             ],
             [
              0.1111111111111111,
              "#46039f"
             ],
             [
              0.2222222222222222,
              "#7201a8"
             ],
             [
              0.3333333333333333,
              "#9c179e"
             ],
             [
              0.4444444444444444,
              "#bd3786"
             ],
             [
              0.5555555555555556,
              "#d8576b"
             ],
             [
              0.6666666666666666,
              "#ed7953"
             ],
             [
              0.7777777777777778,
              "#fb9f3a"
             ],
             [
              0.8888888888888888,
              "#fdca26"
             ],
             [
              1,
              "#f0f921"
             ]
            ],
            "type": "histogram2dcontour"
           }
          ],
          "mesh3d": [
           {
            "colorbar": {
             "outlinewidth": 0,
             "ticks": ""
            },
            "type": "mesh3d"
           }
          ],
          "parcoords": [
           {
            "line": {
             "colorbar": {
              "outlinewidth": 0,
              "ticks": ""
             }
            },
            "type": "parcoords"
           }
          ],
          "pie": [
           {
            "automargin": true,
            "type": "pie"
           }
          ],
          "scatter": [
           {
            "fillpattern": {
             "fillmode": "overlay",
             "size": 10,
             "solidity": 0.2
            },
            "type": "scatter"
           }
          ],
          "scatter3d": [
           {
            "line": {
             "colorbar": {
              "outlinewidth": 0,
              "ticks": ""
             }
            },
            "marker": {
             "colorbar": {
              "outlinewidth": 0,
              "ticks": ""
             }
            },
            "type": "scatter3d"
           }
          ],
          "scattercarpet": [
           {
            "marker": {
             "colorbar": {
              "outlinewidth": 0,
              "ticks": ""
             }
            },
            "type": "scattercarpet"
           }
          ],
          "scattergeo": [
           {
            "marker": {
             "colorbar": {
              "outlinewidth": 0,
              "ticks": ""
             }
            },
            "type": "scattergeo"
           }
          ],
          "scattergl": [
           {
            "marker": {
             "colorbar": {
              "outlinewidth": 0,
              "ticks": ""
             }
            },
            "type": "scattergl"
           }
          ],
          "scattermapbox": [
           {
            "marker": {
             "colorbar": {
              "outlinewidth": 0,
              "ticks": ""
             }
            },
            "type": "scattermapbox"
           }
          ],
          "scatterpolar": [
           {
            "marker": {
             "colorbar": {
              "outlinewidth": 0,
              "ticks": ""
             }
            },
            "type": "scatterpolar"
           }
          ],
          "scatterpolargl": [
           {
            "marker": {
             "colorbar": {
              "outlinewidth": 0,
              "ticks": ""
             }
            },
            "type": "scatterpolargl"
           }
          ],
          "scatterternary": [
           {
            "marker": {
             "colorbar": {
              "outlinewidth": 0,
              "ticks": ""
             }
            },
            "type": "scatterternary"
           }
          ],
          "surface": [
           {
            "colorbar": {
             "outlinewidth": 0,
             "ticks": ""
            },
            "colorscale": [
             [
              0,
              "#0d0887"
             ],
             [
              0.1111111111111111,
              "#46039f"
             ],
             [
              0.2222222222222222,
              "#7201a8"
             ],
             [
              0.3333333333333333,
              "#9c179e"
             ],
             [
              0.4444444444444444,
              "#bd3786"
             ],
             [
              0.5555555555555556,
              "#d8576b"
             ],
             [
              0.6666666666666666,
              "#ed7953"
             ],
             [
              0.7777777777777778,
              "#fb9f3a"
             ],
             [
              0.8888888888888888,
              "#fdca26"
             ],
             [
              1,
              "#f0f921"
             ]
            ],
            "type": "surface"
           }
          ],
          "table": [
           {
            "cells": {
             "fill": {
              "color": "#EBF0F8"
             },
             "line": {
              "color": "white"
             }
            },
            "header": {
             "fill": {
              "color": "#C8D4E3"
             },
             "line": {
              "color": "white"
             }
            },
            "type": "table"
           }
          ]
         },
         "layout": {
          "annotationdefaults": {
           "arrowcolor": "#2a3f5f",
           "arrowhead": 0,
           "arrowwidth": 1
          },
          "autotypenumbers": "strict",
          "coloraxis": {
           "colorbar": {
            "outlinewidth": 0,
            "ticks": ""
           }
          },
          "colorscale": {
           "diverging": [
            [
             0,
             "#8e0152"
            ],
            [
             0.1,
             "#c51b7d"
            ],
            [
             0.2,
             "#de77ae"
            ],
            [
             0.3,
             "#f1b6da"
            ],
            [
             0.4,
             "#fde0ef"
            ],
            [
             0.5,
             "#f7f7f7"
            ],
            [
             0.6,
             "#e6f5d0"
            ],
            [
             0.7,
             "#b8e186"
            ],
            [
             0.8,
             "#7fbc41"
            ],
            [
             0.9,
             "#4d9221"
            ],
            [
             1,
             "#276419"
            ]
           ],
           "sequential": [
            [
             0,
             "#0d0887"
            ],
            [
             0.1111111111111111,
             "#46039f"
            ],
            [
             0.2222222222222222,
             "#7201a8"
            ],
            [
             0.3333333333333333,
             "#9c179e"
            ],
            [
             0.4444444444444444,
             "#bd3786"
            ],
            [
             0.5555555555555556,
             "#d8576b"
            ],
            [
             0.6666666666666666,
             "#ed7953"
            ],
            [
             0.7777777777777778,
             "#fb9f3a"
            ],
            [
             0.8888888888888888,
             "#fdca26"
            ],
            [
             1,
             "#f0f921"
            ]
           ],
           "sequentialminus": [
            [
             0,
             "#0d0887"
            ],
            [
             0.1111111111111111,
             "#46039f"
            ],
            [
             0.2222222222222222,
             "#7201a8"
            ],
            [
             0.3333333333333333,
             "#9c179e"
            ],
            [
             0.4444444444444444,
             "#bd3786"
            ],
            [
             0.5555555555555556,
             "#d8576b"
            ],
            [
             0.6666666666666666,
             "#ed7953"
            ],
            [
             0.7777777777777778,
             "#fb9f3a"
            ],
            [
             0.8888888888888888,
             "#fdca26"
            ],
            [
             1,
             "#f0f921"
            ]
           ]
          },
          "colorway": [
           "#636efa",
           "#EF553B",
           "#00cc96",
           "#ab63fa",
           "#FFA15A",
           "#19d3f3",
           "#FF6692",
           "#B6E880",
           "#FF97FF",
           "#FECB52"
          ],
          "font": {
           "color": "#2a3f5f"
          },
          "geo": {
           "bgcolor": "white",
           "lakecolor": "white",
           "landcolor": "#E5ECF6",
           "showlakes": true,
           "showland": true,
           "subunitcolor": "white"
          },
          "hoverlabel": {
           "align": "left"
          },
          "hovermode": "closest",
          "mapbox": {
           "style": "light"
          },
          "paper_bgcolor": "white",
          "plot_bgcolor": "#E5ECF6",
          "polar": {
           "angularaxis": {
            "gridcolor": "white",
            "linecolor": "white",
            "ticks": ""
           },
           "bgcolor": "#E5ECF6",
           "radialaxis": {
            "gridcolor": "white",
            "linecolor": "white",
            "ticks": ""
           }
          },
          "scene": {
           "xaxis": {
            "backgroundcolor": "#E5ECF6",
            "gridcolor": "white",
            "gridwidth": 2,
            "linecolor": "white",
            "showbackground": true,
            "ticks": "",
            "zerolinecolor": "white"
           },
           "yaxis": {
            "backgroundcolor": "#E5ECF6",
            "gridcolor": "white",
            "gridwidth": 2,
            "linecolor": "white",
            "showbackground": true,
            "ticks": "",
            "zerolinecolor": "white"
           },
           "zaxis": {
            "backgroundcolor": "#E5ECF6",
            "gridcolor": "white",
            "gridwidth": 2,
            "linecolor": "white",
            "showbackground": true,
            "ticks": "",
            "zerolinecolor": "white"
           }
          },
          "shapedefaults": {
           "line": {
            "color": "#2a3f5f"
           }
          },
          "ternary": {
           "aaxis": {
            "gridcolor": "white",
            "linecolor": "white",
            "ticks": ""
           },
           "baxis": {
            "gridcolor": "white",
            "linecolor": "white",
            "ticks": ""
           },
           "bgcolor": "#E5ECF6",
           "caxis": {
            "gridcolor": "white",
            "linecolor": "white",
            "ticks": ""
           }
          },
          "title": {
           "x": 0.05
          },
          "xaxis": {
           "automargin": true,
           "gridcolor": "white",
           "linecolor": "white",
           "ticks": "",
           "title": {
            "standoff": 15
           },
           "zerolinecolor": "white",
           "zerolinewidth": 2
          },
          "yaxis": {
           "automargin": true,
           "gridcolor": "white",
           "linecolor": "white",
           "ticks": "",
           "title": {
            "standoff": 15
           },
           "zerolinecolor": "white",
           "zerolinewidth": 2
          }
         }
        },
        "title": {
         "text": "Pitch Truth Differences - gesture_pitch_greyscale"
        },
        "xaxis": {
         "anchor": "y",
         "domain": [
          0,
          1
         ],
         "title": {
          "text": "Pitch Truth Difference"
         }
        },
        "yaxis": {
         "anchor": "x",
         "domain": [
          0,
          1
         ],
         "title": {
          "text": "count"
         }
        }
       }
      }
     },
     "metadata": {},
     "output_type": "display_data"
    },
    {
     "data": {
      "application/vnd.plotly.v1+json": {
       "config": {
        "plotlyServerURL": "https://plot.ly"
       },
       "data": [
        {
         "alignmentgroup": "True",
         "bingroup": "x",
         "hovertemplate": "Roll Truth Difference=%{x}<br>count=%{y}<extra></extra>",
         "legendgroup": "",
         "marker": {
          "color": "#636efa",
          "pattern": {
           "shape": ""
          }
         },
         "name": "",
         "offsetgroup": "",
         "orientation": "v",
         "showlegend": false,
         "type": "histogram",
         "x": [
          3,
          4,
          4,
          14,
          17,
          1,
          10,
          13,
          0,
          20,
          23,
          32,
          17,
          15,
          17,
          2,
          15,
          1,
          2,
          17
         ],
         "xaxis": "x",
         "yaxis": "y"
        }
       ],
       "layout": {
        "barmode": "relative",
        "legend": {
         "tracegroupgap": 0
        },
        "template": {
         "data": {
          "bar": [
           {
            "error_x": {
             "color": "#2a3f5f"
            },
            "error_y": {
             "color": "#2a3f5f"
            },
            "marker": {
             "line": {
              "color": "#E5ECF6",
              "width": 0.5
             },
             "pattern": {
              "fillmode": "overlay",
              "size": 10,
              "solidity": 0.2
             }
            },
            "type": "bar"
           }
          ],
          "barpolar": [
           {
            "marker": {
             "line": {
              "color": "#E5ECF6",
              "width": 0.5
             },
             "pattern": {
              "fillmode": "overlay",
              "size": 10,
              "solidity": 0.2
             }
            },
            "type": "barpolar"
           }
          ],
          "carpet": [
           {
            "aaxis": {
             "endlinecolor": "#2a3f5f",
             "gridcolor": "white",
             "linecolor": "white",
             "minorgridcolor": "white",
             "startlinecolor": "#2a3f5f"
            },
            "baxis": {
             "endlinecolor": "#2a3f5f",
             "gridcolor": "white",
             "linecolor": "white",
             "minorgridcolor": "white",
             "startlinecolor": "#2a3f5f"
            },
            "type": "carpet"
           }
          ],
          "choropleth": [
           {
            "colorbar": {
             "outlinewidth": 0,
             "ticks": ""
            },
            "type": "choropleth"
           }
          ],
          "contour": [
           {
            "colorbar": {
             "outlinewidth": 0,
             "ticks": ""
            },
            "colorscale": [
             [
              0,
              "#0d0887"
             ],
             [
              0.1111111111111111,
              "#46039f"
             ],
             [
              0.2222222222222222,
              "#7201a8"
             ],
             [
              0.3333333333333333,
              "#9c179e"
             ],
             [
              0.4444444444444444,
              "#bd3786"
             ],
             [
              0.5555555555555556,
              "#d8576b"
             ],
             [
              0.6666666666666666,
              "#ed7953"
             ],
             [
              0.7777777777777778,
              "#fb9f3a"
             ],
             [
              0.8888888888888888,
              "#fdca26"
             ],
             [
              1,
              "#f0f921"
             ]
            ],
            "type": "contour"
           }
          ],
          "contourcarpet": [
           {
            "colorbar": {
             "outlinewidth": 0,
             "ticks": ""
            },
            "type": "contourcarpet"
           }
          ],
          "heatmap": [
           {
            "colorbar": {
             "outlinewidth": 0,
             "ticks": ""
            },
            "colorscale": [
             [
              0,
              "#0d0887"
             ],
             [
              0.1111111111111111,
              "#46039f"
             ],
             [
              0.2222222222222222,
              "#7201a8"
             ],
             [
              0.3333333333333333,
              "#9c179e"
             ],
             [
              0.4444444444444444,
              "#bd3786"
             ],
             [
              0.5555555555555556,
              "#d8576b"
             ],
             [
              0.6666666666666666,
              "#ed7953"
             ],
             [
              0.7777777777777778,
              "#fb9f3a"
             ],
             [
              0.8888888888888888,
              "#fdca26"
             ],
             [
              1,
              "#f0f921"
             ]
            ],
            "type": "heatmap"
           }
          ],
          "heatmapgl": [
           {
            "colorbar": {
             "outlinewidth": 0,
             "ticks": ""
            },
            "colorscale": [
             [
              0,
              "#0d0887"
             ],
             [
              0.1111111111111111,
              "#46039f"
             ],
             [
              0.2222222222222222,
              "#7201a8"
             ],
             [
              0.3333333333333333,
              "#9c179e"
             ],
             [
              0.4444444444444444,
              "#bd3786"
             ],
             [
              0.5555555555555556,
              "#d8576b"
             ],
             [
              0.6666666666666666,
              "#ed7953"
             ],
             [
              0.7777777777777778,
              "#fb9f3a"
             ],
             [
              0.8888888888888888,
              "#fdca26"
             ],
             [
              1,
              "#f0f921"
             ]
            ],
            "type": "heatmapgl"
           }
          ],
          "histogram": [
           {
            "marker": {
             "pattern": {
              "fillmode": "overlay",
              "size": 10,
              "solidity": 0.2
             }
            },
            "type": "histogram"
           }
          ],
          "histogram2d": [
           {
            "colorbar": {
             "outlinewidth": 0,
             "ticks": ""
            },
            "colorscale": [
             [
              0,
              "#0d0887"
             ],
             [
              0.1111111111111111,
              "#46039f"
             ],
             [
              0.2222222222222222,
              "#7201a8"
             ],
             [
              0.3333333333333333,
              "#9c179e"
             ],
             [
              0.4444444444444444,
              "#bd3786"
             ],
             [
              0.5555555555555556,
              "#d8576b"
             ],
             [
              0.6666666666666666,
              "#ed7953"
             ],
             [
              0.7777777777777778,
              "#fb9f3a"
             ],
             [
              0.8888888888888888,
              "#fdca26"
             ],
             [
              1,
              "#f0f921"
             ]
            ],
            "type": "histogram2d"
           }
          ],
          "histogram2dcontour": [
           {
            "colorbar": {
             "outlinewidth": 0,
             "ticks": ""
            },
            "colorscale": [
             [
              0,
              "#0d0887"
             ],
             [
              0.1111111111111111,
              "#46039f"
             ],
             [
              0.2222222222222222,
              "#7201a8"
             ],
             [
              0.3333333333333333,
              "#9c179e"
             ],
             [
              0.4444444444444444,
              "#bd3786"
             ],
             [
              0.5555555555555556,
              "#d8576b"
             ],
             [
              0.6666666666666666,
              "#ed7953"
             ],
             [
              0.7777777777777778,
              "#fb9f3a"
             ],
             [
              0.8888888888888888,
              "#fdca26"
             ],
             [
              1,
              "#f0f921"
             ]
            ],
            "type": "histogram2dcontour"
           }
          ],
          "mesh3d": [
           {
            "colorbar": {
             "outlinewidth": 0,
             "ticks": ""
            },
            "type": "mesh3d"
           }
          ],
          "parcoords": [
           {
            "line": {
             "colorbar": {
              "outlinewidth": 0,
              "ticks": ""
             }
            },
            "type": "parcoords"
           }
          ],
          "pie": [
           {
            "automargin": true,
            "type": "pie"
           }
          ],
          "scatter": [
           {
            "fillpattern": {
             "fillmode": "overlay",
             "size": 10,
             "solidity": 0.2
            },
            "type": "scatter"
           }
          ],
          "scatter3d": [
           {
            "line": {
             "colorbar": {
              "outlinewidth": 0,
              "ticks": ""
             }
            },
            "marker": {
             "colorbar": {
              "outlinewidth": 0,
              "ticks": ""
             }
            },
            "type": "scatter3d"
           }
          ],
          "scattercarpet": [
           {
            "marker": {
             "colorbar": {
              "outlinewidth": 0,
              "ticks": ""
             }
            },
            "type": "scattercarpet"
           }
          ],
          "scattergeo": [
           {
            "marker": {
             "colorbar": {
              "outlinewidth": 0,
              "ticks": ""
             }
            },
            "type": "scattergeo"
           }
          ],
          "scattergl": [
           {
            "marker": {
             "colorbar": {
              "outlinewidth": 0,
              "ticks": ""
             }
            },
            "type": "scattergl"
           }
          ],
          "scattermapbox": [
           {
            "marker": {
             "colorbar": {
              "outlinewidth": 0,
              "ticks": ""
             }
            },
            "type": "scattermapbox"
           }
          ],
          "scatterpolar": [
           {
            "marker": {
             "colorbar": {
              "outlinewidth": 0,
              "ticks": ""
             }
            },
            "type": "scatterpolar"
           }
          ],
          "scatterpolargl": [
           {
            "marker": {
             "colorbar": {
              "outlinewidth": 0,
              "ticks": ""
             }
            },
            "type": "scatterpolargl"
           }
          ],
          "scatterternary": [
           {
            "marker": {
             "colorbar": {
              "outlinewidth": 0,
              "ticks": ""
             }
            },
            "type": "scatterternary"
           }
          ],
          "surface": [
           {
            "colorbar": {
             "outlinewidth": 0,
             "ticks": ""
            },
            "colorscale": [
             [
              0,
              "#0d0887"
             ],
             [
              0.1111111111111111,
              "#46039f"
             ],
             [
              0.2222222222222222,
              "#7201a8"
             ],
             [
              0.3333333333333333,
              "#9c179e"
             ],
             [
              0.4444444444444444,
              "#bd3786"
             ],
             [
              0.5555555555555556,
              "#d8576b"
             ],
             [
              0.6666666666666666,
              "#ed7953"
             ],
             [
              0.7777777777777778,
              "#fb9f3a"
             ],
             [
              0.8888888888888888,
              "#fdca26"
             ],
             [
              1,
              "#f0f921"
             ]
            ],
            "type": "surface"
           }
          ],
          "table": [
           {
            "cells": {
             "fill": {
              "color": "#EBF0F8"
             },
             "line": {
              "color": "white"
             }
            },
            "header": {
             "fill": {
              "color": "#C8D4E3"
             },
             "line": {
              "color": "white"
             }
            },
            "type": "table"
           }
          ]
         },
         "layout": {
          "annotationdefaults": {
           "arrowcolor": "#2a3f5f",
           "arrowhead": 0,
           "arrowwidth": 1
          },
          "autotypenumbers": "strict",
          "coloraxis": {
           "colorbar": {
            "outlinewidth": 0,
            "ticks": ""
           }
          },
          "colorscale": {
           "diverging": [
            [
             0,
             "#8e0152"
            ],
            [
             0.1,
             "#c51b7d"
            ],
            [
             0.2,
             "#de77ae"
            ],
            [
             0.3,
             "#f1b6da"
            ],
            [
             0.4,
             "#fde0ef"
            ],
            [
             0.5,
             "#f7f7f7"
            ],
            [
             0.6,
             "#e6f5d0"
            ],
            [
             0.7,
             "#b8e186"
            ],
            [
             0.8,
             "#7fbc41"
            ],
            [
             0.9,
             "#4d9221"
            ],
            [
             1,
             "#276419"
            ]
           ],
           "sequential": [
            [
             0,
             "#0d0887"
            ],
            [
             0.1111111111111111,
             "#46039f"
            ],
            [
             0.2222222222222222,
             "#7201a8"
            ],
            [
             0.3333333333333333,
             "#9c179e"
            ],
            [
             0.4444444444444444,
             "#bd3786"
            ],
            [
             0.5555555555555556,
             "#d8576b"
            ],
            [
             0.6666666666666666,
             "#ed7953"
            ],
            [
             0.7777777777777778,
             "#fb9f3a"
            ],
            [
             0.8888888888888888,
             "#fdca26"
            ],
            [
             1,
             "#f0f921"
            ]
           ],
           "sequentialminus": [
            [
             0,
             "#0d0887"
            ],
            [
             0.1111111111111111,
             "#46039f"
            ],
            [
             0.2222222222222222,
             "#7201a8"
            ],
            [
             0.3333333333333333,
             "#9c179e"
            ],
            [
             0.4444444444444444,
             "#bd3786"
            ],
            [
             0.5555555555555556,
             "#d8576b"
            ],
            [
             0.6666666666666666,
             "#ed7953"
            ],
            [
             0.7777777777777778,
             "#fb9f3a"
            ],
            [
             0.8888888888888888,
             "#fdca26"
            ],
            [
             1,
             "#f0f921"
            ]
           ]
          },
          "colorway": [
           "#636efa",
           "#EF553B",
           "#00cc96",
           "#ab63fa",
           "#FFA15A",
           "#19d3f3",
           "#FF6692",
           "#B6E880",
           "#FF97FF",
           "#FECB52"
          ],
          "font": {
           "color": "#2a3f5f"
          },
          "geo": {
           "bgcolor": "white",
           "lakecolor": "white",
           "landcolor": "#E5ECF6",
           "showlakes": true,
           "showland": true,
           "subunitcolor": "white"
          },
          "hoverlabel": {
           "align": "left"
          },
          "hovermode": "closest",
          "mapbox": {
           "style": "light"
          },
          "paper_bgcolor": "white",
          "plot_bgcolor": "#E5ECF6",
          "polar": {
           "angularaxis": {
            "gridcolor": "white",
            "linecolor": "white",
            "ticks": ""
           },
           "bgcolor": "#E5ECF6",
           "radialaxis": {
            "gridcolor": "white",
            "linecolor": "white",
            "ticks": ""
           }
          },
          "scene": {
           "xaxis": {
            "backgroundcolor": "#E5ECF6",
            "gridcolor": "white",
            "gridwidth": 2,
            "linecolor": "white",
            "showbackground": true,
            "ticks": "",
            "zerolinecolor": "white"
           },
           "yaxis": {
            "backgroundcolor": "#E5ECF6",
            "gridcolor": "white",
            "gridwidth": 2,
            "linecolor": "white",
            "showbackground": true,
            "ticks": "",
            "zerolinecolor": "white"
           },
           "zaxis": {
            "backgroundcolor": "#E5ECF6",
            "gridcolor": "white",
            "gridwidth": 2,
            "linecolor": "white",
            "showbackground": true,
            "ticks": "",
            "zerolinecolor": "white"
           }
          },
          "shapedefaults": {
           "line": {
            "color": "#2a3f5f"
           }
          },
          "ternary": {
           "aaxis": {
            "gridcolor": "white",
            "linecolor": "white",
            "ticks": ""
           },
           "baxis": {
            "gridcolor": "white",
            "linecolor": "white",
            "ticks": ""
           },
           "bgcolor": "#E5ECF6",
           "caxis": {
            "gridcolor": "white",
            "linecolor": "white",
            "ticks": ""
           }
          },
          "title": {
           "x": 0.05
          },
          "xaxis": {
           "automargin": true,
           "gridcolor": "white",
           "linecolor": "white",
           "ticks": "",
           "title": {
            "standoff": 15
           },
           "zerolinecolor": "white",
           "zerolinewidth": 2
          },
          "yaxis": {
           "automargin": true,
           "gridcolor": "white",
           "linecolor": "white",
           "ticks": "",
           "title": {
            "standoff": 15
           },
           "zerolinecolor": "white",
           "zerolinewidth": 2
          }
         }
        },
        "title": {
         "text": "Roll Truth Differences - gesture_roll_number"
        },
        "xaxis": {
         "anchor": "y",
         "domain": [
          0,
          1
         ],
         "title": {
          "text": "Roll Truth Difference"
         }
        },
        "yaxis": {
         "anchor": "x",
         "domain": [
          0,
          1
         ],
         "title": {
          "text": "count"
         }
        }
       }
      }
     },
     "metadata": {},
     "output_type": "display_data"
    },
    {
     "data": {
      "application/vnd.plotly.v1+json": {
       "config": {
        "plotlyServerURL": "https://plot.ly"
       },
       "data": [
        {
         "alignmentgroup": "True",
         "bingroup": "x",
         "hovertemplate": "Roll Truth Difference=%{x}<br>count=%{y}<extra></extra>",
         "legendgroup": "",
         "marker": {
          "color": "#636efa",
          "pattern": {
           "shape": ""
          }
         },
         "name": "",
         "offsetgroup": "",
         "orientation": "v",
         "showlegend": false,
         "type": "histogram",
         "x": [
          8,
          18,
          10,
          19,
          9,
          11,
          15,
          39,
          8,
          6,
          8,
          7,
          12,
          17,
          10,
          27,
          1,
          18,
          10,
          9
         ],
         "xaxis": "x",
         "yaxis": "y"
        }
       ],
       "layout": {
        "barmode": "relative",
        "legend": {
         "tracegroupgap": 0
        },
        "template": {
         "data": {
          "bar": [
           {
            "error_x": {
             "color": "#2a3f5f"
            },
            "error_y": {
             "color": "#2a3f5f"
            },
            "marker": {
             "line": {
              "color": "#E5ECF6",
              "width": 0.5
             },
             "pattern": {
              "fillmode": "overlay",
              "size": 10,
              "solidity": 0.2
             }
            },
            "type": "bar"
           }
          ],
          "barpolar": [
           {
            "marker": {
             "line": {
              "color": "#E5ECF6",
              "width": 0.5
             },
             "pattern": {
              "fillmode": "overlay",
              "size": 10,
              "solidity": 0.2
             }
            },
            "type": "barpolar"
           }
          ],
          "carpet": [
           {
            "aaxis": {
             "endlinecolor": "#2a3f5f",
             "gridcolor": "white",
             "linecolor": "white",
             "minorgridcolor": "white",
             "startlinecolor": "#2a3f5f"
            },
            "baxis": {
             "endlinecolor": "#2a3f5f",
             "gridcolor": "white",
             "linecolor": "white",
             "minorgridcolor": "white",
             "startlinecolor": "#2a3f5f"
            },
            "type": "carpet"
           }
          ],
          "choropleth": [
           {
            "colorbar": {
             "outlinewidth": 0,
             "ticks": ""
            },
            "type": "choropleth"
           }
          ],
          "contour": [
           {
            "colorbar": {
             "outlinewidth": 0,
             "ticks": ""
            },
            "colorscale": [
             [
              0,
              "#0d0887"
             ],
             [
              0.1111111111111111,
              "#46039f"
             ],
             [
              0.2222222222222222,
              "#7201a8"
             ],
             [
              0.3333333333333333,
              "#9c179e"
             ],
             [
              0.4444444444444444,
              "#bd3786"
             ],
             [
              0.5555555555555556,
              "#d8576b"
             ],
             [
              0.6666666666666666,
              "#ed7953"
             ],
             [
              0.7777777777777778,
              "#fb9f3a"
             ],
             [
              0.8888888888888888,
              "#fdca26"
             ],
             [
              1,
              "#f0f921"
             ]
            ],
            "type": "contour"
           }
          ],
          "contourcarpet": [
           {
            "colorbar": {
             "outlinewidth": 0,
             "ticks": ""
            },
            "type": "contourcarpet"
           }
          ],
          "heatmap": [
           {
            "colorbar": {
             "outlinewidth": 0,
             "ticks": ""
            },
            "colorscale": [
             [
              0,
              "#0d0887"
             ],
             [
              0.1111111111111111,
              "#46039f"
             ],
             [
              0.2222222222222222,
              "#7201a8"
             ],
             [
              0.3333333333333333,
              "#9c179e"
             ],
             [
              0.4444444444444444,
              "#bd3786"
             ],
             [
              0.5555555555555556,
              "#d8576b"
             ],
             [
              0.6666666666666666,
              "#ed7953"
             ],
             [
              0.7777777777777778,
              "#fb9f3a"
             ],
             [
              0.8888888888888888,
              "#fdca26"
             ],
             [
              1,
              "#f0f921"
             ]
            ],
            "type": "heatmap"
           }
          ],
          "heatmapgl": [
           {
            "colorbar": {
             "outlinewidth": 0,
             "ticks": ""
            },
            "colorscale": [
             [
              0,
              "#0d0887"
             ],
             [
              0.1111111111111111,
              "#46039f"
             ],
             [
              0.2222222222222222,
              "#7201a8"
             ],
             [
              0.3333333333333333,
              "#9c179e"
             ],
             [
              0.4444444444444444,
              "#bd3786"
             ],
             [
              0.5555555555555556,
              "#d8576b"
             ],
             [
              0.6666666666666666,
              "#ed7953"
             ],
             [
              0.7777777777777778,
              "#fb9f3a"
             ],
             [
              0.8888888888888888,
              "#fdca26"
             ],
             [
              1,
              "#f0f921"
             ]
            ],
            "type": "heatmapgl"
           }
          ],
          "histogram": [
           {
            "marker": {
             "pattern": {
              "fillmode": "overlay",
              "size": 10,
              "solidity": 0.2
             }
            },
            "type": "histogram"
           }
          ],
          "histogram2d": [
           {
            "colorbar": {
             "outlinewidth": 0,
             "ticks": ""
            },
            "colorscale": [
             [
              0,
              "#0d0887"
             ],
             [
              0.1111111111111111,
              "#46039f"
             ],
             [
              0.2222222222222222,
              "#7201a8"
             ],
             [
              0.3333333333333333,
              "#9c179e"
             ],
             [
              0.4444444444444444,
              "#bd3786"
             ],
             [
              0.5555555555555556,
              "#d8576b"
             ],
             [
              0.6666666666666666,
              "#ed7953"
             ],
             [
              0.7777777777777778,
              "#fb9f3a"
             ],
             [
              0.8888888888888888,
              "#fdca26"
             ],
             [
              1,
              "#f0f921"
             ]
            ],
            "type": "histogram2d"
           }
          ],
          "histogram2dcontour": [
           {
            "colorbar": {
             "outlinewidth": 0,
             "ticks": ""
            },
            "colorscale": [
             [
              0,
              "#0d0887"
             ],
             [
              0.1111111111111111,
              "#46039f"
             ],
             [
              0.2222222222222222,
              "#7201a8"
             ],
             [
              0.3333333333333333,
              "#9c179e"
             ],
             [
              0.4444444444444444,
              "#bd3786"
             ],
             [
              0.5555555555555556,
              "#d8576b"
             ],
             [
              0.6666666666666666,
              "#ed7953"
             ],
             [
              0.7777777777777778,
              "#fb9f3a"
             ],
             [
              0.8888888888888888,
              "#fdca26"
             ],
             [
              1,
              "#f0f921"
             ]
            ],
            "type": "histogram2dcontour"
           }
          ],
          "mesh3d": [
           {
            "colorbar": {
             "outlinewidth": 0,
             "ticks": ""
            },
            "type": "mesh3d"
           }
          ],
          "parcoords": [
           {
            "line": {
             "colorbar": {
              "outlinewidth": 0,
              "ticks": ""
             }
            },
            "type": "parcoords"
           }
          ],
          "pie": [
           {
            "automargin": true,
            "type": "pie"
           }
          ],
          "scatter": [
           {
            "fillpattern": {
             "fillmode": "overlay",
             "size": 10,
             "solidity": 0.2
            },
            "type": "scatter"
           }
          ],
          "scatter3d": [
           {
            "line": {
             "colorbar": {
              "outlinewidth": 0,
              "ticks": ""
             }
            },
            "marker": {
             "colorbar": {
              "outlinewidth": 0,
              "ticks": ""
             }
            },
            "type": "scatter3d"
           }
          ],
          "scattercarpet": [
           {
            "marker": {
             "colorbar": {
              "outlinewidth": 0,
              "ticks": ""
             }
            },
            "type": "scattercarpet"
           }
          ],
          "scattergeo": [
           {
            "marker": {
             "colorbar": {
              "outlinewidth": 0,
              "ticks": ""
             }
            },
            "type": "scattergeo"
           }
          ],
          "scattergl": [
           {
            "marker": {
             "colorbar": {
              "outlinewidth": 0,
              "ticks": ""
             }
            },
            "type": "scattergl"
           }
          ],
          "scattermapbox": [
           {
            "marker": {
             "colorbar": {
              "outlinewidth": 0,
              "ticks": ""
             }
            },
            "type": "scattermapbox"
           }
          ],
          "scatterpolar": [
           {
            "marker": {
             "colorbar": {
              "outlinewidth": 0,
              "ticks": ""
             }
            },
            "type": "scatterpolar"
           }
          ],
          "scatterpolargl": [
           {
            "marker": {
             "colorbar": {
              "outlinewidth": 0,
              "ticks": ""
             }
            },
            "type": "scatterpolargl"
           }
          ],
          "scatterternary": [
           {
            "marker": {
             "colorbar": {
              "outlinewidth": 0,
              "ticks": ""
             }
            },
            "type": "scatterternary"
           }
          ],
          "surface": [
           {
            "colorbar": {
             "outlinewidth": 0,
             "ticks": ""
            },
            "colorscale": [
             [
              0,
              "#0d0887"
             ],
             [
              0.1111111111111111,
              "#46039f"
             ],
             [
              0.2222222222222222,
              "#7201a8"
             ],
             [
              0.3333333333333333,
              "#9c179e"
             ],
             [
              0.4444444444444444,
              "#bd3786"
             ],
             [
              0.5555555555555556,
              "#d8576b"
             ],
             [
              0.6666666666666666,
              "#ed7953"
             ],
             [
              0.7777777777777778,
              "#fb9f3a"
             ],
             [
              0.8888888888888888,
              "#fdca26"
             ],
             [
              1,
              "#f0f921"
             ]
            ],
            "type": "surface"
           }
          ],
          "table": [
           {
            "cells": {
             "fill": {
              "color": "#EBF0F8"
             },
             "line": {
              "color": "white"
             }
            },
            "header": {
             "fill": {
              "color": "#C8D4E3"
             },
             "line": {
              "color": "white"
             }
            },
            "type": "table"
           }
          ]
         },
         "layout": {
          "annotationdefaults": {
           "arrowcolor": "#2a3f5f",
           "arrowhead": 0,
           "arrowwidth": 1
          },
          "autotypenumbers": "strict",
          "coloraxis": {
           "colorbar": {
            "outlinewidth": 0,
            "ticks": ""
           }
          },
          "colorscale": {
           "diverging": [
            [
             0,
             "#8e0152"
            ],
            [
             0.1,
             "#c51b7d"
            ],
            [
             0.2,
             "#de77ae"
            ],
            [
             0.3,
             "#f1b6da"
            ],
            [
             0.4,
             "#fde0ef"
            ],
            [
             0.5,
             "#f7f7f7"
            ],
            [
             0.6,
             "#e6f5d0"
            ],
            [
             0.7,
             "#b8e186"
            ],
            [
             0.8,
             "#7fbc41"
            ],
            [
             0.9,
             "#4d9221"
            ],
            [
             1,
             "#276419"
            ]
           ],
           "sequential": [
            [
             0,
             "#0d0887"
            ],
            [
             0.1111111111111111,
             "#46039f"
            ],
            [
             0.2222222222222222,
             "#7201a8"
            ],
            [
             0.3333333333333333,
             "#9c179e"
            ],
            [
             0.4444444444444444,
             "#bd3786"
            ],
            [
             0.5555555555555556,
             "#d8576b"
            ],
            [
             0.6666666666666666,
             "#ed7953"
            ],
            [
             0.7777777777777778,
             "#fb9f3a"
            ],
            [
             0.8888888888888888,
             "#fdca26"
            ],
            [
             1,
             "#f0f921"
            ]
           ],
           "sequentialminus": [
            [
             0,
             "#0d0887"
            ],
            [
             0.1111111111111111,
             "#46039f"
            ],
            [
             0.2222222222222222,
             "#7201a8"
            ],
            [
             0.3333333333333333,
             "#9c179e"
            ],
            [
             0.4444444444444444,
             "#bd3786"
            ],
            [
             0.5555555555555556,
             "#d8576b"
            ],
            [
             0.6666666666666666,
             "#ed7953"
            ],
            [
             0.7777777777777778,
             "#fb9f3a"
            ],
            [
             0.8888888888888888,
             "#fdca26"
            ],
            [
             1,
             "#f0f921"
            ]
           ]
          },
          "colorway": [
           "#636efa",
           "#EF553B",
           "#00cc96",
           "#ab63fa",
           "#FFA15A",
           "#19d3f3",
           "#FF6692",
           "#B6E880",
           "#FF97FF",
           "#FECB52"
          ],
          "font": {
           "color": "#2a3f5f"
          },
          "geo": {
           "bgcolor": "white",
           "lakecolor": "white",
           "landcolor": "#E5ECF6",
           "showlakes": true,
           "showland": true,
           "subunitcolor": "white"
          },
          "hoverlabel": {
           "align": "left"
          },
          "hovermode": "closest",
          "mapbox": {
           "style": "light"
          },
          "paper_bgcolor": "white",
          "plot_bgcolor": "#E5ECF6",
          "polar": {
           "angularaxis": {
            "gridcolor": "white",
            "linecolor": "white",
            "ticks": ""
           },
           "bgcolor": "#E5ECF6",
           "radialaxis": {
            "gridcolor": "white",
            "linecolor": "white",
            "ticks": ""
           }
          },
          "scene": {
           "xaxis": {
            "backgroundcolor": "#E5ECF6",
            "gridcolor": "white",
            "gridwidth": 2,
            "linecolor": "white",
            "showbackground": true,
            "ticks": "",
            "zerolinecolor": "white"
           },
           "yaxis": {
            "backgroundcolor": "#E5ECF6",
            "gridcolor": "white",
            "gridwidth": 2,
            "linecolor": "white",
            "showbackground": true,
            "ticks": "",
            "zerolinecolor": "white"
           },
           "zaxis": {
            "backgroundcolor": "#E5ECF6",
            "gridcolor": "white",
            "gridwidth": 2,
            "linecolor": "white",
            "showbackground": true,
            "ticks": "",
            "zerolinecolor": "white"
           }
          },
          "shapedefaults": {
           "line": {
            "color": "#2a3f5f"
           }
          },
          "ternary": {
           "aaxis": {
            "gridcolor": "white",
            "linecolor": "white",
            "ticks": ""
           },
           "baxis": {
            "gridcolor": "white",
            "linecolor": "white",
            "ticks": ""
           },
           "bgcolor": "#E5ECF6",
           "caxis": {
            "gridcolor": "white",
            "linecolor": "white",
            "ticks": ""
           }
          },
          "title": {
           "x": 0.05
          },
          "xaxis": {
           "automargin": true,
           "gridcolor": "white",
           "linecolor": "white",
           "ticks": "",
           "title": {
            "standoff": 15
           },
           "zerolinecolor": "white",
           "zerolinewidth": 2
          },
          "yaxis": {
           "automargin": true,
           "gridcolor": "white",
           "linecolor": "white",
           "ticks": "",
           "title": {
            "standoff": 15
           },
           "zerolinecolor": "white",
           "zerolinewidth": 2
          }
         }
        },
        "title": {
         "text": "Roll Truth Differences - gesture_roll_greyscale"
        },
        "xaxis": {
         "anchor": "y",
         "domain": [
          0,
          1
         ],
         "title": {
          "text": "Roll Truth Difference"
         }
        },
        "yaxis": {
         "anchor": "x",
         "domain": [
          0,
          1
         ],
         "title": {
          "text": "count"
         }
        }
       }
      }
     },
     "metadata": {},
     "output_type": "display_data"
    },
    {
     "data": {
      "application/vnd.plotly.v1+json": {
       "config": {
        "plotlyServerURL": "https://plot.ly"
       },
       "data": [
        {
         "alignmentgroup": "True",
         "bingroup": "x",
         "hovertemplate": "Slider Value Difference=%{x}<br>count=%{y}<extra></extra>",
         "legendgroup": "",
         "marker": {
          "color": "#636efa",
          "pattern": {
           "shape": ""
          }
         },
         "name": "",
         "offsetgroup": "",
         "orientation": "v",
         "showlegend": false,
         "type": "histogram",
         "x": [
          2.7020674215719254,
          4.339689295173082,
          2.674191822403756,
          3.0595589469561304,
          10.814848004793348,
          24.938929508565536,
          10.651546486240115,
          1.4909769238660147,
          4.37051050088826,
          3.2443268450649114,
          8.832464743500076,
          0.9553593857826961,
          0.45224242180506025,
          4.333350235937033,
          0.5835820638895104,
          2.3882616954360714,
          2.7159377564533003,
          0.6706349900216253,
          2.1938664531110135,
          2.321123242129218
         ],
         "xaxis": "x",
         "yaxis": "y"
        }
       ],
       "layout": {
        "barmode": "relative",
        "legend": {
         "tracegroupgap": 0
        },
        "template": {
         "data": {
          "bar": [
           {
            "error_x": {
             "color": "#2a3f5f"
            },
            "error_y": {
             "color": "#2a3f5f"
            },
            "marker": {
             "line": {
              "color": "#E5ECF6",
              "width": 0.5
             },
             "pattern": {
              "fillmode": "overlay",
              "size": 10,
              "solidity": 0.2
             }
            },
            "type": "bar"
           }
          ],
          "barpolar": [
           {
            "marker": {
             "line": {
              "color": "#E5ECF6",
              "width": 0.5
             },
             "pattern": {
              "fillmode": "overlay",
              "size": 10,
              "solidity": 0.2
             }
            },
            "type": "barpolar"
           }
          ],
          "carpet": [
           {
            "aaxis": {
             "endlinecolor": "#2a3f5f",
             "gridcolor": "white",
             "linecolor": "white",
             "minorgridcolor": "white",
             "startlinecolor": "#2a3f5f"
            },
            "baxis": {
             "endlinecolor": "#2a3f5f",
             "gridcolor": "white",
             "linecolor": "white",
             "minorgridcolor": "white",
             "startlinecolor": "#2a3f5f"
            },
            "type": "carpet"
           }
          ],
          "choropleth": [
           {
            "colorbar": {
             "outlinewidth": 0,
             "ticks": ""
            },
            "type": "choropleth"
           }
          ],
          "contour": [
           {
            "colorbar": {
             "outlinewidth": 0,
             "ticks": ""
            },
            "colorscale": [
             [
              0,
              "#0d0887"
             ],
             [
              0.1111111111111111,
              "#46039f"
             ],
             [
              0.2222222222222222,
              "#7201a8"
             ],
             [
              0.3333333333333333,
              "#9c179e"
             ],
             [
              0.4444444444444444,
              "#bd3786"
             ],
             [
              0.5555555555555556,
              "#d8576b"
             ],
             [
              0.6666666666666666,
              "#ed7953"
             ],
             [
              0.7777777777777778,
              "#fb9f3a"
             ],
             [
              0.8888888888888888,
              "#fdca26"
             ],
             [
              1,
              "#f0f921"
             ]
            ],
            "type": "contour"
           }
          ],
          "contourcarpet": [
           {
            "colorbar": {
             "outlinewidth": 0,
             "ticks": ""
            },
            "type": "contourcarpet"
           }
          ],
          "heatmap": [
           {
            "colorbar": {
             "outlinewidth": 0,
             "ticks": ""
            },
            "colorscale": [
             [
              0,
              "#0d0887"
             ],
             [
              0.1111111111111111,
              "#46039f"
             ],
             [
              0.2222222222222222,
              "#7201a8"
             ],
             [
              0.3333333333333333,
              "#9c179e"
             ],
             [
              0.4444444444444444,
              "#bd3786"
             ],
             [
              0.5555555555555556,
              "#d8576b"
             ],
             [
              0.6666666666666666,
              "#ed7953"
             ],
             [
              0.7777777777777778,
              "#fb9f3a"
             ],
             [
              0.8888888888888888,
              "#fdca26"
             ],
             [
              1,
              "#f0f921"
             ]
            ],
            "type": "heatmap"
           }
          ],
          "heatmapgl": [
           {
            "colorbar": {
             "outlinewidth": 0,
             "ticks": ""
            },
            "colorscale": [
             [
              0,
              "#0d0887"
             ],
             [
              0.1111111111111111,
              "#46039f"
             ],
             [
              0.2222222222222222,
              "#7201a8"
             ],
             [
              0.3333333333333333,
              "#9c179e"
             ],
             [
              0.4444444444444444,
              "#bd3786"
             ],
             [
              0.5555555555555556,
              "#d8576b"
             ],
             [
              0.6666666666666666,
              "#ed7953"
             ],
             [
              0.7777777777777778,
              "#fb9f3a"
             ],
             [
              0.8888888888888888,
              "#fdca26"
             ],
             [
              1,
              "#f0f921"
             ]
            ],
            "type": "heatmapgl"
           }
          ],
          "histogram": [
           {
            "marker": {
             "pattern": {
              "fillmode": "overlay",
              "size": 10,
              "solidity": 0.2
             }
            },
            "type": "histogram"
           }
          ],
          "histogram2d": [
           {
            "colorbar": {
             "outlinewidth": 0,
             "ticks": ""
            },
            "colorscale": [
             [
              0,
              "#0d0887"
             ],
             [
              0.1111111111111111,
              "#46039f"
             ],
             [
              0.2222222222222222,
              "#7201a8"
             ],
             [
              0.3333333333333333,
              "#9c179e"
             ],
             [
              0.4444444444444444,
              "#bd3786"
             ],
             [
              0.5555555555555556,
              "#d8576b"
             ],
             [
              0.6666666666666666,
              "#ed7953"
             ],
             [
              0.7777777777777778,
              "#fb9f3a"
             ],
             [
              0.8888888888888888,
              "#fdca26"
             ],
             [
              1,
              "#f0f921"
             ]
            ],
            "type": "histogram2d"
           }
          ],
          "histogram2dcontour": [
           {
            "colorbar": {
             "outlinewidth": 0,
             "ticks": ""
            },
            "colorscale": [
             [
              0,
              "#0d0887"
             ],
             [
              0.1111111111111111,
              "#46039f"
             ],
             [
              0.2222222222222222,
              "#7201a8"
             ],
             [
              0.3333333333333333,
              "#9c179e"
             ],
             [
              0.4444444444444444,
              "#bd3786"
             ],
             [
              0.5555555555555556,
              "#d8576b"
             ],
             [
              0.6666666666666666,
              "#ed7953"
             ],
             [
              0.7777777777777778,
              "#fb9f3a"
             ],
             [
              0.8888888888888888,
              "#fdca26"
             ],
             [
              1,
              "#f0f921"
             ]
            ],
            "type": "histogram2dcontour"
           }
          ],
          "mesh3d": [
           {
            "colorbar": {
             "outlinewidth": 0,
             "ticks": ""
            },
            "type": "mesh3d"
           }
          ],
          "parcoords": [
           {
            "line": {
             "colorbar": {
              "outlinewidth": 0,
              "ticks": ""
             }
            },
            "type": "parcoords"
           }
          ],
          "pie": [
           {
            "automargin": true,
            "type": "pie"
           }
          ],
          "scatter": [
           {
            "fillpattern": {
             "fillmode": "overlay",
             "size": 10,
             "solidity": 0.2
            },
            "type": "scatter"
           }
          ],
          "scatter3d": [
           {
            "line": {
             "colorbar": {
              "outlinewidth": 0,
              "ticks": ""
             }
            },
            "marker": {
             "colorbar": {
              "outlinewidth": 0,
              "ticks": ""
             }
            },
            "type": "scatter3d"
           }
          ],
          "scattercarpet": [
           {
            "marker": {
             "colorbar": {
              "outlinewidth": 0,
              "ticks": ""
             }
            },
            "type": "scattercarpet"
           }
          ],
          "scattergeo": [
           {
            "marker": {
             "colorbar": {
              "outlinewidth": 0,
              "ticks": ""
             }
            },
            "type": "scattergeo"
           }
          ],
          "scattergl": [
           {
            "marker": {
             "colorbar": {
              "outlinewidth": 0,
              "ticks": ""
             }
            },
            "type": "scattergl"
           }
          ],
          "scattermapbox": [
           {
            "marker": {
             "colorbar": {
              "outlinewidth": 0,
              "ticks": ""
             }
            },
            "type": "scattermapbox"
           }
          ],
          "scatterpolar": [
           {
            "marker": {
             "colorbar": {
              "outlinewidth": 0,
              "ticks": ""
             }
            },
            "type": "scatterpolar"
           }
          ],
          "scatterpolargl": [
           {
            "marker": {
             "colorbar": {
              "outlinewidth": 0,
              "ticks": ""
             }
            },
            "type": "scatterpolargl"
           }
          ],
          "scatterternary": [
           {
            "marker": {
             "colorbar": {
              "outlinewidth": 0,
              "ticks": ""
             }
            },
            "type": "scatterternary"
           }
          ],
          "surface": [
           {
            "colorbar": {
             "outlinewidth": 0,
             "ticks": ""
            },
            "colorscale": [
             [
              0,
              "#0d0887"
             ],
             [
              0.1111111111111111,
              "#46039f"
             ],
             [
              0.2222222222222222,
              "#7201a8"
             ],
             [
              0.3333333333333333,
              "#9c179e"
             ],
             [
              0.4444444444444444,
              "#bd3786"
             ],
             [
              0.5555555555555556,
              "#d8576b"
             ],
             [
              0.6666666666666666,
              "#ed7953"
             ],
             [
              0.7777777777777778,
              "#fb9f3a"
             ],
             [
              0.8888888888888888,
              "#fdca26"
             ],
             [
              1,
              "#f0f921"
             ]
            ],
            "type": "surface"
           }
          ],
          "table": [
           {
            "cells": {
             "fill": {
              "color": "#EBF0F8"
             },
             "line": {
              "color": "white"
             }
            },
            "header": {
             "fill": {
              "color": "#C8D4E3"
             },
             "line": {
              "color": "white"
             }
            },
            "type": "table"
           }
          ]
         },
         "layout": {
          "annotationdefaults": {
           "arrowcolor": "#2a3f5f",
           "arrowhead": 0,
           "arrowwidth": 1
          },
          "autotypenumbers": "strict",
          "coloraxis": {
           "colorbar": {
            "outlinewidth": 0,
            "ticks": ""
           }
          },
          "colorscale": {
           "diverging": [
            [
             0,
             "#8e0152"
            ],
            [
             0.1,
             "#c51b7d"
            ],
            [
             0.2,
             "#de77ae"
            ],
            [
             0.3,
             "#f1b6da"
            ],
            [
             0.4,
             "#fde0ef"
            ],
            [
             0.5,
             "#f7f7f7"
            ],
            [
             0.6,
             "#e6f5d0"
            ],
            [
             0.7,
             "#b8e186"
            ],
            [
             0.8,
             "#7fbc41"
            ],
            [
             0.9,
             "#4d9221"
            ],
            [
             1,
             "#276419"
            ]
           ],
           "sequential": [
            [
             0,
             "#0d0887"
            ],
            [
             0.1111111111111111,
             "#46039f"
            ],
            [
             0.2222222222222222,
             "#7201a8"
            ],
            [
             0.3333333333333333,
             "#9c179e"
            ],
            [
             0.4444444444444444,
             "#bd3786"
            ],
            [
             0.5555555555555556,
             "#d8576b"
            ],
            [
             0.6666666666666666,
             "#ed7953"
            ],
            [
             0.7777777777777778,
             "#fb9f3a"
            ],
            [
             0.8888888888888888,
             "#fdca26"
            ],
            [
             1,
             "#f0f921"
            ]
           ],
           "sequentialminus": [
            [
             0,
             "#0d0887"
            ],
            [
             0.1111111111111111,
             "#46039f"
            ],
            [
             0.2222222222222222,
             "#7201a8"
            ],
            [
             0.3333333333333333,
             "#9c179e"
            ],
            [
             0.4444444444444444,
             "#bd3786"
            ],
            [
             0.5555555555555556,
             "#d8576b"
            ],
            [
             0.6666666666666666,
             "#ed7953"
            ],
            [
             0.7777777777777778,
             "#fb9f3a"
            ],
            [
             0.8888888888888888,
             "#fdca26"
            ],
            [
             1,
             "#f0f921"
            ]
           ]
          },
          "colorway": [
           "#636efa",
           "#EF553B",
           "#00cc96",
           "#ab63fa",
           "#FFA15A",
           "#19d3f3",
           "#FF6692",
           "#B6E880",
           "#FF97FF",
           "#FECB52"
          ],
          "font": {
           "color": "#2a3f5f"
          },
          "geo": {
           "bgcolor": "white",
           "lakecolor": "white",
           "landcolor": "#E5ECF6",
           "showlakes": true,
           "showland": true,
           "subunitcolor": "white"
          },
          "hoverlabel": {
           "align": "left"
          },
          "hovermode": "closest",
          "mapbox": {
           "style": "light"
          },
          "paper_bgcolor": "white",
          "plot_bgcolor": "#E5ECF6",
          "polar": {
           "angularaxis": {
            "gridcolor": "white",
            "linecolor": "white",
            "ticks": ""
           },
           "bgcolor": "#E5ECF6",
           "radialaxis": {
            "gridcolor": "white",
            "linecolor": "white",
            "ticks": ""
           }
          },
          "scene": {
           "xaxis": {
            "backgroundcolor": "#E5ECF6",
            "gridcolor": "white",
            "gridwidth": 2,
            "linecolor": "white",
            "showbackground": true,
            "ticks": "",
            "zerolinecolor": "white"
           },
           "yaxis": {
            "backgroundcolor": "#E5ECF6",
            "gridcolor": "white",
            "gridwidth": 2,
            "linecolor": "white",
            "showbackground": true,
            "ticks": "",
            "zerolinecolor": "white"
           },
           "zaxis": {
            "backgroundcolor": "#E5ECF6",
            "gridcolor": "white",
            "gridwidth": 2,
            "linecolor": "white",
            "showbackground": true,
            "ticks": "",
            "zerolinecolor": "white"
           }
          },
          "shapedefaults": {
           "line": {
            "color": "#2a3f5f"
           }
          },
          "ternary": {
           "aaxis": {
            "gridcolor": "white",
            "linecolor": "white",
            "ticks": ""
           },
           "baxis": {
            "gridcolor": "white",
            "linecolor": "white",
            "ticks": ""
           },
           "bgcolor": "#E5ECF6",
           "caxis": {
            "gridcolor": "white",
            "linecolor": "white",
            "ticks": ""
           }
          },
          "title": {
           "x": 0.05
          },
          "xaxis": {
           "automargin": true,
           "gridcolor": "white",
           "linecolor": "white",
           "ticks": "",
           "title": {
            "standoff": 15
           },
           "zerolinecolor": "white",
           "zerolinewidth": 2
          },
          "yaxis": {
           "automargin": true,
           "gridcolor": "white",
           "linecolor": "white",
           "ticks": "",
           "title": {
            "standoff": 15
           },
           "zerolinecolor": "white",
           "zerolinewidth": 2
          }
         }
        },
        "title": {
         "text": "Slider Value Differences - slider_number"
        },
        "xaxis": {
         "anchor": "y",
         "domain": [
          0,
          1
         ],
         "title": {
          "text": "Slider Value Difference"
         }
        },
        "yaxis": {
         "anchor": "x",
         "domain": [
          0,
          1
         ],
         "title": {
          "text": "count"
         }
        }
       }
      }
     },
     "metadata": {},
     "output_type": "display_data"
    },
    {
     "data": {
      "application/vnd.plotly.v1+json": {
       "config": {
        "plotlyServerURL": "https://plot.ly"
       },
       "data": [
        {
         "alignmentgroup": "True",
         "bingroup": "x",
         "hovertemplate": "Slider Value Difference=%{x}<br>count=%{y}<extra></extra>",
         "legendgroup": "",
         "marker": {
          "color": "#636efa",
          "pattern": {
           "shape": ""
          }
         },
         "name": "",
         "offsetgroup": "",
         "orientation": "v",
         "showlegend": false,
         "type": "histogram",
         "x": [
          15.67360019365077,
          27.640373793317714,
          0.4557833954107764,
          24.328140207787335,
          15.779535674353351,
          0.6796959106482405,
          0.5738288371695534,
          18,
          5.155205336286464,
          26.56038774961543,
          7.489420276179353,
          36.68490492091357,
          22.807005240974433,
          24.175502836215244,
          10.434855541969933,
          42.55641221145264,
          40,
          21.89138763344277,
          5.841557667632845,
          19.165323336846704
         ],
         "xaxis": "x",
         "yaxis": "y"
        }
       ],
       "layout": {
        "barmode": "relative",
        "legend": {
         "tracegroupgap": 0
        },
        "template": {
         "data": {
          "bar": [
           {
            "error_x": {
             "color": "#2a3f5f"
            },
            "error_y": {
             "color": "#2a3f5f"
            },
            "marker": {
             "line": {
              "color": "#E5ECF6",
              "width": 0.5
             },
             "pattern": {
              "fillmode": "overlay",
              "size": 10,
              "solidity": 0.2
             }
            },
            "type": "bar"
           }
          ],
          "barpolar": [
           {
            "marker": {
             "line": {
              "color": "#E5ECF6",
              "width": 0.5
             },
             "pattern": {
              "fillmode": "overlay",
              "size": 10,
              "solidity": 0.2
             }
            },
            "type": "barpolar"
           }
          ],
          "carpet": [
           {
            "aaxis": {
             "endlinecolor": "#2a3f5f",
             "gridcolor": "white",
             "linecolor": "white",
             "minorgridcolor": "white",
             "startlinecolor": "#2a3f5f"
            },
            "baxis": {
             "endlinecolor": "#2a3f5f",
             "gridcolor": "white",
             "linecolor": "white",
             "minorgridcolor": "white",
             "startlinecolor": "#2a3f5f"
            },
            "type": "carpet"
           }
          ],
          "choropleth": [
           {
            "colorbar": {
             "outlinewidth": 0,
             "ticks": ""
            },
            "type": "choropleth"
           }
          ],
          "contour": [
           {
            "colorbar": {
             "outlinewidth": 0,
             "ticks": ""
            },
            "colorscale": [
             [
              0,
              "#0d0887"
             ],
             [
              0.1111111111111111,
              "#46039f"
             ],
             [
              0.2222222222222222,
              "#7201a8"
             ],
             [
              0.3333333333333333,
              "#9c179e"
             ],
             [
              0.4444444444444444,
              "#bd3786"
             ],
             [
              0.5555555555555556,
              "#d8576b"
             ],
             [
              0.6666666666666666,
              "#ed7953"
             ],
             [
              0.7777777777777778,
              "#fb9f3a"
             ],
             [
              0.8888888888888888,
              "#fdca26"
             ],
             [
              1,
              "#f0f921"
             ]
            ],
            "type": "contour"
           }
          ],
          "contourcarpet": [
           {
            "colorbar": {
             "outlinewidth": 0,
             "ticks": ""
            },
            "type": "contourcarpet"
           }
          ],
          "heatmap": [
           {
            "colorbar": {
             "outlinewidth": 0,
             "ticks": ""
            },
            "colorscale": [
             [
              0,
              "#0d0887"
             ],
             [
              0.1111111111111111,
              "#46039f"
             ],
             [
              0.2222222222222222,
              "#7201a8"
             ],
             [
              0.3333333333333333,
              "#9c179e"
             ],
             [
              0.4444444444444444,
              "#bd3786"
             ],
             [
              0.5555555555555556,
              "#d8576b"
             ],
             [
              0.6666666666666666,
              "#ed7953"
             ],
             [
              0.7777777777777778,
              "#fb9f3a"
             ],
             [
              0.8888888888888888,
              "#fdca26"
             ],
             [
              1,
              "#f0f921"
             ]
            ],
            "type": "heatmap"
           }
          ],
          "heatmapgl": [
           {
            "colorbar": {
             "outlinewidth": 0,
             "ticks": ""
            },
            "colorscale": [
             [
              0,
              "#0d0887"
             ],
             [
              0.1111111111111111,
              "#46039f"
             ],
             [
              0.2222222222222222,
              "#7201a8"
             ],
             [
              0.3333333333333333,
              "#9c179e"
             ],
             [
              0.4444444444444444,
              "#bd3786"
             ],
             [
              0.5555555555555556,
              "#d8576b"
             ],
             [
              0.6666666666666666,
              "#ed7953"
             ],
             [
              0.7777777777777778,
              "#fb9f3a"
             ],
             [
              0.8888888888888888,
              "#fdca26"
             ],
             [
              1,
              "#f0f921"
             ]
            ],
            "type": "heatmapgl"
           }
          ],
          "histogram": [
           {
            "marker": {
             "pattern": {
              "fillmode": "overlay",
              "size": 10,
              "solidity": 0.2
             }
            },
            "type": "histogram"
           }
          ],
          "histogram2d": [
           {
            "colorbar": {
             "outlinewidth": 0,
             "ticks": ""
            },
            "colorscale": [
             [
              0,
              "#0d0887"
             ],
             [
              0.1111111111111111,
              "#46039f"
             ],
             [
              0.2222222222222222,
              "#7201a8"
             ],
             [
              0.3333333333333333,
              "#9c179e"
             ],
             [
              0.4444444444444444,
              "#bd3786"
             ],
             [
              0.5555555555555556,
              "#d8576b"
             ],
             [
              0.6666666666666666,
              "#ed7953"
             ],
             [
              0.7777777777777778,
              "#fb9f3a"
             ],
             [
              0.8888888888888888,
              "#fdca26"
             ],
             [
              1,
              "#f0f921"
             ]
            ],
            "type": "histogram2d"
           }
          ],
          "histogram2dcontour": [
           {
            "colorbar": {
             "outlinewidth": 0,
             "ticks": ""
            },
            "colorscale": [
             [
              0,
              "#0d0887"
             ],
             [
              0.1111111111111111,
              "#46039f"
             ],
             [
              0.2222222222222222,
              "#7201a8"
             ],
             [
              0.3333333333333333,
              "#9c179e"
             ],
             [
              0.4444444444444444,
              "#bd3786"
             ],
             [
              0.5555555555555556,
              "#d8576b"
             ],
             [
              0.6666666666666666,
              "#ed7953"
             ],
             [
              0.7777777777777778,
              "#fb9f3a"
             ],
             [
              0.8888888888888888,
              "#fdca26"
             ],
             [
              1,
              "#f0f921"
             ]
            ],
            "type": "histogram2dcontour"
           }
          ],
          "mesh3d": [
           {
            "colorbar": {
             "outlinewidth": 0,
             "ticks": ""
            },
            "type": "mesh3d"
           }
          ],
          "parcoords": [
           {
            "line": {
             "colorbar": {
              "outlinewidth": 0,
              "ticks": ""
             }
            },
            "type": "parcoords"
           }
          ],
          "pie": [
           {
            "automargin": true,
            "type": "pie"
           }
          ],
          "scatter": [
           {
            "fillpattern": {
             "fillmode": "overlay",
             "size": 10,
             "solidity": 0.2
            },
            "type": "scatter"
           }
          ],
          "scatter3d": [
           {
            "line": {
             "colorbar": {
              "outlinewidth": 0,
              "ticks": ""
             }
            },
            "marker": {
             "colorbar": {
              "outlinewidth": 0,
              "ticks": ""
             }
            },
            "type": "scatter3d"
           }
          ],
          "scattercarpet": [
           {
            "marker": {
             "colorbar": {
              "outlinewidth": 0,
              "ticks": ""
             }
            },
            "type": "scattercarpet"
           }
          ],
          "scattergeo": [
           {
            "marker": {
             "colorbar": {
              "outlinewidth": 0,
              "ticks": ""
             }
            },
            "type": "scattergeo"
           }
          ],
          "scattergl": [
           {
            "marker": {
             "colorbar": {
              "outlinewidth": 0,
              "ticks": ""
             }
            },
            "type": "scattergl"
           }
          ],
          "scattermapbox": [
           {
            "marker": {
             "colorbar": {
              "outlinewidth": 0,
              "ticks": ""
             }
            },
            "type": "scattermapbox"
           }
          ],
          "scatterpolar": [
           {
            "marker": {
             "colorbar": {
              "outlinewidth": 0,
              "ticks": ""
             }
            },
            "type": "scatterpolar"
           }
          ],
          "scatterpolargl": [
           {
            "marker": {
             "colorbar": {
              "outlinewidth": 0,
              "ticks": ""
             }
            },
            "type": "scatterpolargl"
           }
          ],
          "scatterternary": [
           {
            "marker": {
             "colorbar": {
              "outlinewidth": 0,
              "ticks": ""
             }
            },
            "type": "scatterternary"
           }
          ],
          "surface": [
           {
            "colorbar": {
             "outlinewidth": 0,
             "ticks": ""
            },
            "colorscale": [
             [
              0,
              "#0d0887"
             ],
             [
              0.1111111111111111,
              "#46039f"
             ],
             [
              0.2222222222222222,
              "#7201a8"
             ],
             [
              0.3333333333333333,
              "#9c179e"
             ],
             [
              0.4444444444444444,
              "#bd3786"
             ],
             [
              0.5555555555555556,
              "#d8576b"
             ],
             [
              0.6666666666666666,
              "#ed7953"
             ],
             [
              0.7777777777777778,
              "#fb9f3a"
             ],
             [
              0.8888888888888888,
              "#fdca26"
             ],
             [
              1,
              "#f0f921"
             ]
            ],
            "type": "surface"
           }
          ],
          "table": [
           {
            "cells": {
             "fill": {
              "color": "#EBF0F8"
             },
             "line": {
              "color": "white"
             }
            },
            "header": {
             "fill": {
              "color": "#C8D4E3"
             },
             "line": {
              "color": "white"
             }
            },
            "type": "table"
           }
          ]
         },
         "layout": {
          "annotationdefaults": {
           "arrowcolor": "#2a3f5f",
           "arrowhead": 0,
           "arrowwidth": 1
          },
          "autotypenumbers": "strict",
          "coloraxis": {
           "colorbar": {
            "outlinewidth": 0,
            "ticks": ""
           }
          },
          "colorscale": {
           "diverging": [
            [
             0,
             "#8e0152"
            ],
            [
             0.1,
             "#c51b7d"
            ],
            [
             0.2,
             "#de77ae"
            ],
            [
             0.3,
             "#f1b6da"
            ],
            [
             0.4,
             "#fde0ef"
            ],
            [
             0.5,
             "#f7f7f7"
            ],
            [
             0.6,
             "#e6f5d0"
            ],
            [
             0.7,
             "#b8e186"
            ],
            [
             0.8,
             "#7fbc41"
            ],
            [
             0.9,
             "#4d9221"
            ],
            [
             1,
             "#276419"
            ]
           ],
           "sequential": [
            [
             0,
             "#0d0887"
            ],
            [
             0.1111111111111111,
             "#46039f"
            ],
            [
             0.2222222222222222,
             "#7201a8"
            ],
            [
             0.3333333333333333,
             "#9c179e"
            ],
            [
             0.4444444444444444,
             "#bd3786"
            ],
            [
             0.5555555555555556,
             "#d8576b"
            ],
            [
             0.6666666666666666,
             "#ed7953"
            ],
            [
             0.7777777777777778,
             "#fb9f3a"
            ],
            [
             0.8888888888888888,
             "#fdca26"
            ],
            [
             1,
             "#f0f921"
            ]
           ],
           "sequentialminus": [
            [
             0,
             "#0d0887"
            ],
            [
             0.1111111111111111,
             "#46039f"
            ],
            [
             0.2222222222222222,
             "#7201a8"
            ],
            [
             0.3333333333333333,
             "#9c179e"
            ],
            [
             0.4444444444444444,
             "#bd3786"
            ],
            [
             0.5555555555555556,
             "#d8576b"
            ],
            [
             0.6666666666666666,
             "#ed7953"
            ],
            [
             0.7777777777777778,
             "#fb9f3a"
            ],
            [
             0.8888888888888888,
             "#fdca26"
            ],
            [
             1,
             "#f0f921"
            ]
           ]
          },
          "colorway": [
           "#636efa",
           "#EF553B",
           "#00cc96",
           "#ab63fa",
           "#FFA15A",
           "#19d3f3",
           "#FF6692",
           "#B6E880",
           "#FF97FF",
           "#FECB52"
          ],
          "font": {
           "color": "#2a3f5f"
          },
          "geo": {
           "bgcolor": "white",
           "lakecolor": "white",
           "landcolor": "#E5ECF6",
           "showlakes": true,
           "showland": true,
           "subunitcolor": "white"
          },
          "hoverlabel": {
           "align": "left"
          },
          "hovermode": "closest",
          "mapbox": {
           "style": "light"
          },
          "paper_bgcolor": "white",
          "plot_bgcolor": "#E5ECF6",
          "polar": {
           "angularaxis": {
            "gridcolor": "white",
            "linecolor": "white",
            "ticks": ""
           },
           "bgcolor": "#E5ECF6",
           "radialaxis": {
            "gridcolor": "white",
            "linecolor": "white",
            "ticks": ""
           }
          },
          "scene": {
           "xaxis": {
            "backgroundcolor": "#E5ECF6",
            "gridcolor": "white",
            "gridwidth": 2,
            "linecolor": "white",
            "showbackground": true,
            "ticks": "",
            "zerolinecolor": "white"
           },
           "yaxis": {
            "backgroundcolor": "#E5ECF6",
            "gridcolor": "white",
            "gridwidth": 2,
            "linecolor": "white",
            "showbackground": true,
            "ticks": "",
            "zerolinecolor": "white"
           },
           "zaxis": {
            "backgroundcolor": "#E5ECF6",
            "gridcolor": "white",
            "gridwidth": 2,
            "linecolor": "white",
            "showbackground": true,
            "ticks": "",
            "zerolinecolor": "white"
           }
          },
          "shapedefaults": {
           "line": {
            "color": "#2a3f5f"
           }
          },
          "ternary": {
           "aaxis": {
            "gridcolor": "white",
            "linecolor": "white",
            "ticks": ""
           },
           "baxis": {
            "gridcolor": "white",
            "linecolor": "white",
            "ticks": ""
           },
           "bgcolor": "#E5ECF6",
           "caxis": {
            "gridcolor": "white",
            "linecolor": "white",
            "ticks": ""
           }
          },
          "title": {
           "x": 0.05
          },
          "xaxis": {
           "automargin": true,
           "gridcolor": "white",
           "linecolor": "white",
           "ticks": "",
           "title": {
            "standoff": 15
           },
           "zerolinecolor": "white",
           "zerolinewidth": 2
          },
          "yaxis": {
           "automargin": true,
           "gridcolor": "white",
           "linecolor": "white",
           "ticks": "",
           "title": {
            "standoff": 15
           },
           "zerolinecolor": "white",
           "zerolinewidth": 2
          }
         }
        },
        "title": {
         "text": "Slider Value Differences - slider_greyscale"
        },
        "xaxis": {
         "anchor": "y",
         "domain": [
          0,
          1
         ],
         "title": {
          "text": "Slider Value Difference"
         }
        },
        "yaxis": {
         "anchor": "x",
         "domain": [
          0,
          1
         ],
         "title": {
          "text": "count"
         }
        }
       }
      }
     },
     "metadata": {},
     "output_type": "display_data"
    }
   ],
   "source": [
    "def create_histogram_truth_plots(experiment_type, truth_type):\n",
    "    filtered_df = df[(df['experiment_type'] == experiment_type) & \n",
    "                     (df['inputType'] == truth_type[\"input_type\"])]\n",
    "\n",
    "    fig = px.histogram(filtered_df, x=truth_type[\"truth_diff\"],\n",
    "                    title=f'{truth_type['label']} Differences - {experiment_type}',\n",
    "                    labels={f'{truth_type[\"truth_diff\"]}': f'{truth_type[\"label\"]} Difference'})\n",
    "    \n",
    "    fig.show()\n",
    "    \n",
    "for experiment_type, truth_type in experiment_truth_type.items():\n",
    "    create_histogram_truth_plots(experiment_type, truth_type)"
   ]
  },
  {
   "cell_type": "code",
   "execution_count": 37,
   "metadata": {},
   "outputs": [
    {
     "data": {
      "text/html": [
       "<div>\n",
       "<style scoped>\n",
       "    .dataframe tbody tr th:only-of-type {\n",
       "        vertical-align: middle;\n",
       "    }\n",
       "\n",
       "    .dataframe tbody tr th {\n",
       "        vertical-align: top;\n",
       "    }\n",
       "\n",
       "    .dataframe thead th {\n",
       "        text-align: right;\n",
       "    }\n",
       "</style>\n",
       "<table border=\"1\" class=\"dataframe\">\n",
       "  <thead>\n",
       "    <tr style=\"text-align: right;\">\n",
       "      <th></th>\n",
       "      <th>experiment_type</th>\n",
       "      <th>mean</th>\n",
       "      <th>std</th>\n",
       "      <th>min</th>\n",
       "      <th>max</th>\n",
       "      <th>count</th>\n",
       "      <th>median</th>\n",
       "      <th>iqr</th>\n",
       "      <th>skew</th>\n",
       "      <th>kurtosis</th>\n",
       "    </tr>\n",
       "  </thead>\n",
       "  <tbody>\n",
       "    <tr>\n",
       "      <th>0</th>\n",
       "      <td>gesture_pitch_number</td>\n",
       "      <td>52.500000</td>\n",
       "      <td>0.000000</td>\n",
       "      <td>12.000000</td>\n",
       "      <td>79.000000</td>\n",
       "      <td>20</td>\n",
       "      <td>54.000000</td>\n",
       "      <td>0.000000</td>\n",
       "      <td>0.000000e+00</td>\n",
       "      <td>0.000000</td>\n",
       "    </tr>\n",
       "    <tr>\n",
       "      <th>1</th>\n",
       "      <td>gesture_pitch_greyscale</td>\n",
       "      <td>24.868421</td>\n",
       "      <td>1.228133</td>\n",
       "      <td>0.000000</td>\n",
       "      <td>49.000000</td>\n",
       "      <td>19</td>\n",
       "      <td>25.000000</td>\n",
       "      <td>0.868421</td>\n",
       "      <td>0.000000e+00</td>\n",
       "      <td>-0.105263</td>\n",
       "    </tr>\n",
       "    <tr>\n",
       "      <th>2</th>\n",
       "      <td>gesture_roll_number</td>\n",
       "      <td>66.000000</td>\n",
       "      <td>0.000000</td>\n",
       "      <td>37.000000</td>\n",
       "      <td>96.000000</td>\n",
       "      <td>20</td>\n",
       "      <td>70.500000</td>\n",
       "      <td>0.000000</td>\n",
       "      <td>0.000000e+00</td>\n",
       "      <td>0.000000</td>\n",
       "    </tr>\n",
       "    <tr>\n",
       "      <th>3</th>\n",
       "      <td>gesture_roll_greyscale</td>\n",
       "      <td>26.550000</td>\n",
       "      <td>0.000000</td>\n",
       "      <td>12.000000</td>\n",
       "      <td>43.000000</td>\n",
       "      <td>20</td>\n",
       "      <td>25.500000</td>\n",
       "      <td>0.000000</td>\n",
       "      <td>0.000000e+00</td>\n",
       "      <td>0.000000</td>\n",
       "    </tr>\n",
       "    <tr>\n",
       "      <th>4</th>\n",
       "      <td>slider_number</td>\n",
       "      <td>50.607768</td>\n",
       "      <td>0.000000</td>\n",
       "      <td>5.583582</td>\n",
       "      <td>97.059559</td>\n",
       "      <td>20</td>\n",
       "      <td>51.939619</td>\n",
       "      <td>0.000000</td>\n",
       "      <td>0.000000e+00</td>\n",
       "      <td>0.000000</td>\n",
       "    </tr>\n",
       "    <tr>\n",
       "      <th>5</th>\n",
       "      <td>slider_greyscale</td>\n",
       "      <td>20.057407</td>\n",
       "      <td>0.738555</td>\n",
       "      <td>0.000000</td>\n",
       "      <td>49.000000</td>\n",
       "      <td>19</td>\n",
       "      <td>12.359626</td>\n",
       "      <td>0.522237</td>\n",
       "      <td>1.531200e-17</td>\n",
       "      <td>-0.105263</td>\n",
       "    </tr>\n",
       "  </tbody>\n",
       "</table>\n",
       "</div>"
      ],
      "text/plain": [
       "           experiment_type       mean       std        min        max  count  \\\n",
       "0     gesture_pitch_number  52.500000  0.000000  12.000000  79.000000     20   \n",
       "1  gesture_pitch_greyscale  24.868421  1.228133   0.000000  49.000000     19   \n",
       "2      gesture_roll_number  66.000000  0.000000  37.000000  96.000000     20   \n",
       "3   gesture_roll_greyscale  26.550000  0.000000  12.000000  43.000000     20   \n",
       "4            slider_number  50.607768  0.000000   5.583582  97.059559     20   \n",
       "5         slider_greyscale  20.057407  0.738555   0.000000  49.000000     19   \n",
       "\n",
       "      median       iqr          skew  kurtosis  \n",
       "0  54.000000  0.000000  0.000000e+00  0.000000  \n",
       "1  25.000000  0.868421  0.000000e+00 -0.105263  \n",
       "2  70.500000  0.000000  0.000000e+00  0.000000  \n",
       "3  25.500000  0.000000  0.000000e+00  0.000000  \n",
       "4  51.939619  0.000000  0.000000e+00  0.000000  \n",
       "5  12.359626  0.522237  1.531200e-17 -0.105263  "
      ]
     },
     "metadata": {},
     "output_type": "display_data"
    },
    {
     "data": {
      "text/html": [
       "<div>\n",
       "<style scoped>\n",
       "    .dataframe tbody tr th:only-of-type {\n",
       "        vertical-align: middle;\n",
       "    }\n",
       "\n",
       "    .dataframe tbody tr th {\n",
       "        vertical-align: top;\n",
       "    }\n",
       "\n",
       "    .dataframe thead th {\n",
       "        text-align: right;\n",
       "    }\n",
       "</style>\n",
       "<table border=\"1\" class=\"dataframe\">\n",
       "  <thead>\n",
       "    <tr style=\"text-align: right;\">\n",
       "      <th></th>\n",
       "      <th>truth</th>\n",
       "      <th>mean</th>\n",
       "      <th>std</th>\n",
       "      <th>min</th>\n",
       "      <th>max</th>\n",
       "      <th>count</th>\n",
       "      <th>median</th>\n",
       "      <th>iqr</th>\n",
       "      <th>skew</th>\n",
       "      <th>kurtosis</th>\n",
       "      <th>experiment_type</th>\n",
       "    </tr>\n",
       "  </thead>\n",
       "  <tbody>\n",
       "    <tr>\n",
       "      <th>0</th>\n",
       "      <td>4</td>\n",
       "      <td>12.0</td>\n",
       "      <td>0.0</td>\n",
       "      <td>12</td>\n",
       "      <td>12</td>\n",
       "      <td>1</td>\n",
       "      <td>12.0</td>\n",
       "      <td>0.0</td>\n",
       "      <td>0.0</td>\n",
       "      <td>0.0</td>\n",
       "      <td>gesture_pitch_number</td>\n",
       "    </tr>\n",
       "    <tr>\n",
       "      <th>1</th>\n",
       "      <td>17</td>\n",
       "      <td>27.0</td>\n",
       "      <td>0.0</td>\n",
       "      <td>27</td>\n",
       "      <td>27</td>\n",
       "      <td>1</td>\n",
       "      <td>27.0</td>\n",
       "      <td>0.0</td>\n",
       "      <td>0.0</td>\n",
       "      <td>0.0</td>\n",
       "      <td>gesture_pitch_number</td>\n",
       "    </tr>\n",
       "    <tr>\n",
       "      <th>2</th>\n",
       "      <td>28</td>\n",
       "      <td>30.0</td>\n",
       "      <td>0.0</td>\n",
       "      <td>30</td>\n",
       "      <td>30</td>\n",
       "      <td>1</td>\n",
       "      <td>30.0</td>\n",
       "      <td>0.0</td>\n",
       "      <td>0.0</td>\n",
       "      <td>0.0</td>\n",
       "      <td>gesture_pitch_number</td>\n",
       "    </tr>\n",
       "    <tr>\n",
       "      <th>3</th>\n",
       "      <td>35</td>\n",
       "      <td>38.0</td>\n",
       "      <td>0.0</td>\n",
       "      <td>38</td>\n",
       "      <td>38</td>\n",
       "      <td>1</td>\n",
       "      <td>38.0</td>\n",
       "      <td>0.0</td>\n",
       "      <td>0.0</td>\n",
       "      <td>0.0</td>\n",
       "      <td>gesture_pitch_number</td>\n",
       "    </tr>\n",
       "    <tr>\n",
       "      <th>4</th>\n",
       "      <td>36</td>\n",
       "      <td>39.0</td>\n",
       "      <td>0.0</td>\n",
       "      <td>39</td>\n",
       "      <td>39</td>\n",
       "      <td>1</td>\n",
       "      <td>39.0</td>\n",
       "      <td>0.0</td>\n",
       "      <td>0.0</td>\n",
       "      <td>0.0</td>\n",
       "      <td>gesture_pitch_number</td>\n",
       "    </tr>\n",
       "    <tr>\n",
       "      <th>5</th>\n",
       "      <td>44</td>\n",
       "      <td>46.0</td>\n",
       "      <td>0.0</td>\n",
       "      <td>46</td>\n",
       "      <td>46</td>\n",
       "      <td>1</td>\n",
       "      <td>46.0</td>\n",
       "      <td>0.0</td>\n",
       "      <td>0.0</td>\n",
       "      <td>0.0</td>\n",
       "      <td>gesture_pitch_number</td>\n",
       "    </tr>\n",
       "    <tr>\n",
       "      <th>6</th>\n",
       "      <td>50</td>\n",
       "      <td>54.0</td>\n",
       "      <td>0.0</td>\n",
       "      <td>54</td>\n",
       "      <td>54</td>\n",
       "      <td>1</td>\n",
       "      <td>54.0</td>\n",
       "      <td>0.0</td>\n",
       "      <td>0.0</td>\n",
       "      <td>0.0</td>\n",
       "      <td>gesture_pitch_number</td>\n",
       "    </tr>\n",
       "    <tr>\n",
       "      <th>7</th>\n",
       "      <td>53</td>\n",
       "      <td>55.0</td>\n",
       "      <td>0.0</td>\n",
       "      <td>55</td>\n",
       "      <td>55</td>\n",
       "      <td>1</td>\n",
       "      <td>55.0</td>\n",
       "      <td>0.0</td>\n",
       "      <td>0.0</td>\n",
       "      <td>0.0</td>\n",
       "      <td>gesture_pitch_number</td>\n",
       "    </tr>\n",
       "    <tr>\n",
       "      <th>8</th>\n",
       "      <td>56</td>\n",
       "      <td>50.0</td>\n",
       "      <td>0.0</td>\n",
       "      <td>50</td>\n",
       "      <td>50</td>\n",
       "      <td>1</td>\n",
       "      <td>50.0</td>\n",
       "      <td>0.0</td>\n",
       "      <td>0.0</td>\n",
       "      <td>0.0</td>\n",
       "      <td>gesture_pitch_number</td>\n",
       "    </tr>\n",
       "    <tr>\n",
       "      <th>9</th>\n",
       "      <td>57</td>\n",
       "      <td>52.0</td>\n",
       "      <td>0.0</td>\n",
       "      <td>52</td>\n",
       "      <td>52</td>\n",
       "      <td>1</td>\n",
       "      <td>52.0</td>\n",
       "      <td>0.0</td>\n",
       "      <td>0.0</td>\n",
       "      <td>0.0</td>\n",
       "      <td>gesture_pitch_number</td>\n",
       "    </tr>\n",
       "    <tr>\n",
       "      <th>10</th>\n",
       "      <td>62</td>\n",
       "      <td>54.0</td>\n",
       "      <td>0.0</td>\n",
       "      <td>54</td>\n",
       "      <td>54</td>\n",
       "      <td>1</td>\n",
       "      <td>54.0</td>\n",
       "      <td>0.0</td>\n",
       "      <td>0.0</td>\n",
       "      <td>0.0</td>\n",
       "      <td>gesture_pitch_number</td>\n",
       "    </tr>\n",
       "    <tr>\n",
       "      <th>11</th>\n",
       "      <td>64</td>\n",
       "      <td>51.0</td>\n",
       "      <td>0.0</td>\n",
       "      <td>51</td>\n",
       "      <td>51</td>\n",
       "      <td>1</td>\n",
       "      <td>51.0</td>\n",
       "      <td>0.0</td>\n",
       "      <td>0.0</td>\n",
       "      <td>0.0</td>\n",
       "      <td>gesture_pitch_number</td>\n",
       "    </tr>\n",
       "    <tr>\n",
       "      <th>12</th>\n",
       "      <td>67</td>\n",
       "      <td>54.0</td>\n",
       "      <td>0.0</td>\n",
       "      <td>54</td>\n",
       "      <td>54</td>\n",
       "      <td>1</td>\n",
       "      <td>54.0</td>\n",
       "      <td>0.0</td>\n",
       "      <td>0.0</td>\n",
       "      <td>0.0</td>\n",
       "      <td>gesture_pitch_number</td>\n",
       "    </tr>\n",
       "    <tr>\n",
       "      <th>13</th>\n",
       "      <td>68</td>\n",
       "      <td>54.0</td>\n",
       "      <td>0.0</td>\n",
       "      <td>54</td>\n",
       "      <td>54</td>\n",
       "      <td>1</td>\n",
       "      <td>54.0</td>\n",
       "      <td>0.0</td>\n",
       "      <td>0.0</td>\n",
       "      <td>0.0</td>\n",
       "      <td>gesture_pitch_number</td>\n",
       "    </tr>\n",
       "    <tr>\n",
       "      <th>14</th>\n",
       "      <td>72</td>\n",
       "      <td>65.0</td>\n",
       "      <td>0.0</td>\n",
       "      <td>65</td>\n",
       "      <td>65</td>\n",
       "      <td>1</td>\n",
       "      <td>65.0</td>\n",
       "      <td>0.0</td>\n",
       "      <td>0.0</td>\n",
       "      <td>0.0</td>\n",
       "      <td>gesture_pitch_number</td>\n",
       "    </tr>\n",
       "    <tr>\n",
       "      <th>15</th>\n",
       "      <td>74</td>\n",
       "      <td>66.0</td>\n",
       "      <td>0.0</td>\n",
       "      <td>66</td>\n",
       "      <td>66</td>\n",
       "      <td>1</td>\n",
       "      <td>66.0</td>\n",
       "      <td>0.0</td>\n",
       "      <td>0.0</td>\n",
       "      <td>0.0</td>\n",
       "      <td>gesture_pitch_number</td>\n",
       "    </tr>\n",
       "    <tr>\n",
       "      <th>16</th>\n",
       "      <td>84</td>\n",
       "      <td>73.0</td>\n",
       "      <td>0.0</td>\n",
       "      <td>73</td>\n",
       "      <td>73</td>\n",
       "      <td>1</td>\n",
       "      <td>73.0</td>\n",
       "      <td>0.0</td>\n",
       "      <td>0.0</td>\n",
       "      <td>0.0</td>\n",
       "      <td>gesture_pitch_number</td>\n",
       "    </tr>\n",
       "    <tr>\n",
       "      <th>17</th>\n",
       "      <td>87</td>\n",
       "      <td>73.0</td>\n",
       "      <td>0.0</td>\n",
       "      <td>73</td>\n",
       "      <td>73</td>\n",
       "      <td>1</td>\n",
       "      <td>73.0</td>\n",
       "      <td>0.0</td>\n",
       "      <td>0.0</td>\n",
       "      <td>0.0</td>\n",
       "      <td>gesture_pitch_number</td>\n",
       "    </tr>\n",
       "    <tr>\n",
       "      <th>18</th>\n",
       "      <td>91</td>\n",
       "      <td>79.0</td>\n",
       "      <td>0.0</td>\n",
       "      <td>79</td>\n",
       "      <td>79</td>\n",
       "      <td>1</td>\n",
       "      <td>79.0</td>\n",
       "      <td>0.0</td>\n",
       "      <td>0.0</td>\n",
       "      <td>0.0</td>\n",
       "      <td>gesture_pitch_number</td>\n",
       "    </tr>\n",
       "    <tr>\n",
       "      <th>19</th>\n",
       "      <td>93</td>\n",
       "      <td>78.0</td>\n",
       "      <td>0.0</td>\n",
       "      <td>78</td>\n",
       "      <td>78</td>\n",
       "      <td>1</td>\n",
       "      <td>78.0</td>\n",
       "      <td>0.0</td>\n",
       "      <td>0.0</td>\n",
       "      <td>0.0</td>\n",
       "      <td>gesture_pitch_number</td>\n",
       "    </tr>\n",
       "  </tbody>\n",
       "</table>\n",
       "</div>"
      ],
      "text/plain": [
       "    truth  mean  std  min  max  count  median  iqr  skew  kurtosis  \\\n",
       "0       4  12.0  0.0   12   12      1    12.0  0.0   0.0       0.0   \n",
       "1      17  27.0  0.0   27   27      1    27.0  0.0   0.0       0.0   \n",
       "2      28  30.0  0.0   30   30      1    30.0  0.0   0.0       0.0   \n",
       "3      35  38.0  0.0   38   38      1    38.0  0.0   0.0       0.0   \n",
       "4      36  39.0  0.0   39   39      1    39.0  0.0   0.0       0.0   \n",
       "5      44  46.0  0.0   46   46      1    46.0  0.0   0.0       0.0   \n",
       "6      50  54.0  0.0   54   54      1    54.0  0.0   0.0       0.0   \n",
       "7      53  55.0  0.0   55   55      1    55.0  0.0   0.0       0.0   \n",
       "8      56  50.0  0.0   50   50      1    50.0  0.0   0.0       0.0   \n",
       "9      57  52.0  0.0   52   52      1    52.0  0.0   0.0       0.0   \n",
       "10     62  54.0  0.0   54   54      1    54.0  0.0   0.0       0.0   \n",
       "11     64  51.0  0.0   51   51      1    51.0  0.0   0.0       0.0   \n",
       "12     67  54.0  0.0   54   54      1    54.0  0.0   0.0       0.0   \n",
       "13     68  54.0  0.0   54   54      1    54.0  0.0   0.0       0.0   \n",
       "14     72  65.0  0.0   65   65      1    65.0  0.0   0.0       0.0   \n",
       "15     74  66.0  0.0   66   66      1    66.0  0.0   0.0       0.0   \n",
       "16     84  73.0  0.0   73   73      1    73.0  0.0   0.0       0.0   \n",
       "17     87  73.0  0.0   73   73      1    73.0  0.0   0.0       0.0   \n",
       "18     91  79.0  0.0   79   79      1    79.0  0.0   0.0       0.0   \n",
       "19     93  78.0  0.0   78   78      1    78.0  0.0   0.0       0.0   \n",
       "\n",
       "         experiment_type  \n",
       "0   gesture_pitch_number  \n",
       "1   gesture_pitch_number  \n",
       "2   gesture_pitch_number  \n",
       "3   gesture_pitch_number  \n",
       "4   gesture_pitch_number  \n",
       "5   gesture_pitch_number  \n",
       "6   gesture_pitch_number  \n",
       "7   gesture_pitch_number  \n",
       "8   gesture_pitch_number  \n",
       "9   gesture_pitch_number  \n",
       "10  gesture_pitch_number  \n",
       "11  gesture_pitch_number  \n",
       "12  gesture_pitch_number  \n",
       "13  gesture_pitch_number  \n",
       "14  gesture_pitch_number  \n",
       "15  gesture_pitch_number  \n",
       "16  gesture_pitch_number  \n",
       "17  gesture_pitch_number  \n",
       "18  gesture_pitch_number  \n",
       "19  gesture_pitch_number  "
      ]
     },
     "metadata": {},
     "output_type": "display_data"
    },
    {
     "data": {
      "text/html": [
       "<div>\n",
       "<style scoped>\n",
       "    .dataframe tbody tr th:only-of-type {\n",
       "        vertical-align: middle;\n",
       "    }\n",
       "\n",
       "    .dataframe tbody tr th {\n",
       "        vertical-align: top;\n",
       "    }\n",
       "\n",
       "    .dataframe thead th {\n",
       "        text-align: right;\n",
       "    }\n",
       "</style>\n",
       "<table border=\"1\" class=\"dataframe\">\n",
       "  <thead>\n",
       "    <tr style=\"text-align: right;\">\n",
       "      <th></th>\n",
       "      <th>truth</th>\n",
       "      <th>mean</th>\n",
       "      <th>std</th>\n",
       "      <th>min</th>\n",
       "      <th>max</th>\n",
       "      <th>count</th>\n",
       "      <th>median</th>\n",
       "      <th>iqr</th>\n",
       "      <th>skew</th>\n",
       "      <th>kurtosis</th>\n",
       "      <th>experiment_type</th>\n",
       "    </tr>\n",
       "  </thead>\n",
       "  <tbody>\n",
       "    <tr>\n",
       "      <th>0</th>\n",
       "      <td>0</td>\n",
       "      <td>32.5</td>\n",
       "      <td>23.334524</td>\n",
       "      <td>16</td>\n",
       "      <td>49</td>\n",
       "      <td>2</td>\n",
       "      <td>32.5</td>\n",
       "      <td>16.5</td>\n",
       "      <td>0.0</td>\n",
       "      <td>-2.0</td>\n",
       "      <td>gesture_pitch_greyscale</td>\n",
       "    </tr>\n",
       "    <tr>\n",
       "      <th>1</th>\n",
       "      <td>3</td>\n",
       "      <td>41.0</td>\n",
       "      <td>0.000000</td>\n",
       "      <td>41</td>\n",
       "      <td>41</td>\n",
       "      <td>1</td>\n",
       "      <td>41.0</td>\n",
       "      <td>0.0</td>\n",
       "      <td>0.0</td>\n",
       "      <td>0.0</td>\n",
       "      <td>gesture_pitch_greyscale</td>\n",
       "    </tr>\n",
       "    <tr>\n",
       "      <th>2</th>\n",
       "      <td>5</td>\n",
       "      <td>12.0</td>\n",
       "      <td>0.000000</td>\n",
       "      <td>12</td>\n",
       "      <td>12</td>\n",
       "      <td>1</td>\n",
       "      <td>12.0</td>\n",
       "      <td>0.0</td>\n",
       "      <td>0.0</td>\n",
       "      <td>0.0</td>\n",
       "      <td>gesture_pitch_greyscale</td>\n",
       "    </tr>\n",
       "    <tr>\n",
       "      <th>3</th>\n",
       "      <td>10</td>\n",
       "      <td>37.0</td>\n",
       "      <td>0.000000</td>\n",
       "      <td>37</td>\n",
       "      <td>37</td>\n",
       "      <td>1</td>\n",
       "      <td>37.0</td>\n",
       "      <td>0.0</td>\n",
       "      <td>0.0</td>\n",
       "      <td>0.0</td>\n",
       "      <td>gesture_pitch_greyscale</td>\n",
       "    </tr>\n",
       "    <tr>\n",
       "      <th>4</th>\n",
       "      <td>12</td>\n",
       "      <td>25.0</td>\n",
       "      <td>0.000000</td>\n",
       "      <td>25</td>\n",
       "      <td>25</td>\n",
       "      <td>1</td>\n",
       "      <td>25.0</td>\n",
       "      <td>0.0</td>\n",
       "      <td>0.0</td>\n",
       "      <td>0.0</td>\n",
       "      <td>gesture_pitch_greyscale</td>\n",
       "    </tr>\n",
       "    <tr>\n",
       "      <th>5</th>\n",
       "      <td>20</td>\n",
       "      <td>7.0</td>\n",
       "      <td>0.000000</td>\n",
       "      <td>7</td>\n",
       "      <td>7</td>\n",
       "      <td>1</td>\n",
       "      <td>7.0</td>\n",
       "      <td>0.0</td>\n",
       "      <td>0.0</td>\n",
       "      <td>0.0</td>\n",
       "      <td>gesture_pitch_greyscale</td>\n",
       "    </tr>\n",
       "    <tr>\n",
       "      <th>6</th>\n",
       "      <td>22</td>\n",
       "      <td>2.0</td>\n",
       "      <td>0.000000</td>\n",
       "      <td>2</td>\n",
       "      <td>2</td>\n",
       "      <td>1</td>\n",
       "      <td>2.0</td>\n",
       "      <td>0.0</td>\n",
       "      <td>0.0</td>\n",
       "      <td>0.0</td>\n",
       "      <td>gesture_pitch_greyscale</td>\n",
       "    </tr>\n",
       "    <tr>\n",
       "      <th>7</th>\n",
       "      <td>26</td>\n",
       "      <td>30.0</td>\n",
       "      <td>0.000000</td>\n",
       "      <td>30</td>\n",
       "      <td>30</td>\n",
       "      <td>1</td>\n",
       "      <td>30.0</td>\n",
       "      <td>0.0</td>\n",
       "      <td>0.0</td>\n",
       "      <td>0.0</td>\n",
       "      <td>gesture_pitch_greyscale</td>\n",
       "    </tr>\n",
       "    <tr>\n",
       "      <th>8</th>\n",
       "      <td>28</td>\n",
       "      <td>0.0</td>\n",
       "      <td>0.000000</td>\n",
       "      <td>0</td>\n",
       "      <td>0</td>\n",
       "      <td>1</td>\n",
       "      <td>0.0</td>\n",
       "      <td>0.0</td>\n",
       "      <td>0.0</td>\n",
       "      <td>0.0</td>\n",
       "      <td>gesture_pitch_greyscale</td>\n",
       "    </tr>\n",
       "    <tr>\n",
       "      <th>9</th>\n",
       "      <td>29</td>\n",
       "      <td>45.0</td>\n",
       "      <td>0.000000</td>\n",
       "      <td>45</td>\n",
       "      <td>45</td>\n",
       "      <td>1</td>\n",
       "      <td>45.0</td>\n",
       "      <td>0.0</td>\n",
       "      <td>0.0</td>\n",
       "      <td>0.0</td>\n",
       "      <td>gesture_pitch_greyscale</td>\n",
       "    </tr>\n",
       "    <tr>\n",
       "      <th>10</th>\n",
       "      <td>30</td>\n",
       "      <td>38.0</td>\n",
       "      <td>0.000000</td>\n",
       "      <td>38</td>\n",
       "      <td>38</td>\n",
       "      <td>1</td>\n",
       "      <td>38.0</td>\n",
       "      <td>0.0</td>\n",
       "      <td>0.0</td>\n",
       "      <td>0.0</td>\n",
       "      <td>gesture_pitch_greyscale</td>\n",
       "    </tr>\n",
       "    <tr>\n",
       "      <th>11</th>\n",
       "      <td>35</td>\n",
       "      <td>49.0</td>\n",
       "      <td>0.000000</td>\n",
       "      <td>49</td>\n",
       "      <td>49</td>\n",
       "      <td>1</td>\n",
       "      <td>49.0</td>\n",
       "      <td>0.0</td>\n",
       "      <td>0.0</td>\n",
       "      <td>0.0</td>\n",
       "      <td>gesture_pitch_greyscale</td>\n",
       "    </tr>\n",
       "    <tr>\n",
       "      <th>12</th>\n",
       "      <td>37</td>\n",
       "      <td>20.0</td>\n",
       "      <td>0.000000</td>\n",
       "      <td>20</td>\n",
       "      <td>20</td>\n",
       "      <td>1</td>\n",
       "      <td>20.0</td>\n",
       "      <td>0.0</td>\n",
       "      <td>0.0</td>\n",
       "      <td>0.0</td>\n",
       "      <td>gesture_pitch_greyscale</td>\n",
       "    </tr>\n",
       "    <tr>\n",
       "      <th>13</th>\n",
       "      <td>38</td>\n",
       "      <td>18.0</td>\n",
       "      <td>0.000000</td>\n",
       "      <td>18</td>\n",
       "      <td>18</td>\n",
       "      <td>1</td>\n",
       "      <td>18.0</td>\n",
       "      <td>0.0</td>\n",
       "      <td>0.0</td>\n",
       "      <td>0.0</td>\n",
       "      <td>gesture_pitch_greyscale</td>\n",
       "    </tr>\n",
       "    <tr>\n",
       "      <th>14</th>\n",
       "      <td>43</td>\n",
       "      <td>37.0</td>\n",
       "      <td>0.000000</td>\n",
       "      <td>37</td>\n",
       "      <td>37</td>\n",
       "      <td>1</td>\n",
       "      <td>37.0</td>\n",
       "      <td>0.0</td>\n",
       "      <td>0.0</td>\n",
       "      <td>0.0</td>\n",
       "      <td>gesture_pitch_greyscale</td>\n",
       "    </tr>\n",
       "    <tr>\n",
       "      <th>15</th>\n",
       "      <td>45</td>\n",
       "      <td>11.0</td>\n",
       "      <td>0.000000</td>\n",
       "      <td>11</td>\n",
       "      <td>11</td>\n",
       "      <td>1</td>\n",
       "      <td>11.0</td>\n",
       "      <td>0.0</td>\n",
       "      <td>0.0</td>\n",
       "      <td>0.0</td>\n",
       "      <td>gesture_pitch_greyscale</td>\n",
       "    </tr>\n",
       "    <tr>\n",
       "      <th>16</th>\n",
       "      <td>46</td>\n",
       "      <td>20.0</td>\n",
       "      <td>0.000000</td>\n",
       "      <td>20</td>\n",
       "      <td>20</td>\n",
       "      <td>1</td>\n",
       "      <td>20.0</td>\n",
       "      <td>0.0</td>\n",
       "      <td>0.0</td>\n",
       "      <td>0.0</td>\n",
       "      <td>gesture_pitch_greyscale</td>\n",
       "    </tr>\n",
       "    <tr>\n",
       "      <th>17</th>\n",
       "      <td>47</td>\n",
       "      <td>47.0</td>\n",
       "      <td>0.000000</td>\n",
       "      <td>47</td>\n",
       "      <td>47</td>\n",
       "      <td>1</td>\n",
       "      <td>47.0</td>\n",
       "      <td>0.0</td>\n",
       "      <td>0.0</td>\n",
       "      <td>0.0</td>\n",
       "      <td>gesture_pitch_greyscale</td>\n",
       "    </tr>\n",
       "    <tr>\n",
       "      <th>18</th>\n",
       "      <td>48</td>\n",
       "      <td>1.0</td>\n",
       "      <td>0.000000</td>\n",
       "      <td>1</td>\n",
       "      <td>1</td>\n",
       "      <td>1</td>\n",
       "      <td>1.0</td>\n",
       "      <td>0.0</td>\n",
       "      <td>0.0</td>\n",
       "      <td>0.0</td>\n",
       "      <td>gesture_pitch_greyscale</td>\n",
       "    </tr>\n",
       "  </tbody>\n",
       "</table>\n",
       "</div>"
      ],
      "text/plain": [
       "    truth  mean        std  min  max  count  median   iqr  skew  kurtosis  \\\n",
       "0       0  32.5  23.334524   16   49      2    32.5  16.5   0.0      -2.0   \n",
       "1       3  41.0   0.000000   41   41      1    41.0   0.0   0.0       0.0   \n",
       "2       5  12.0   0.000000   12   12      1    12.0   0.0   0.0       0.0   \n",
       "3      10  37.0   0.000000   37   37      1    37.0   0.0   0.0       0.0   \n",
       "4      12  25.0   0.000000   25   25      1    25.0   0.0   0.0       0.0   \n",
       "5      20   7.0   0.000000    7    7      1     7.0   0.0   0.0       0.0   \n",
       "6      22   2.0   0.000000    2    2      1     2.0   0.0   0.0       0.0   \n",
       "7      26  30.0   0.000000   30   30      1    30.0   0.0   0.0       0.0   \n",
       "8      28   0.0   0.000000    0    0      1     0.0   0.0   0.0       0.0   \n",
       "9      29  45.0   0.000000   45   45      1    45.0   0.0   0.0       0.0   \n",
       "10     30  38.0   0.000000   38   38      1    38.0   0.0   0.0       0.0   \n",
       "11     35  49.0   0.000000   49   49      1    49.0   0.0   0.0       0.0   \n",
       "12     37  20.0   0.000000   20   20      1    20.0   0.0   0.0       0.0   \n",
       "13     38  18.0   0.000000   18   18      1    18.0   0.0   0.0       0.0   \n",
       "14     43  37.0   0.000000   37   37      1    37.0   0.0   0.0       0.0   \n",
       "15     45  11.0   0.000000   11   11      1    11.0   0.0   0.0       0.0   \n",
       "16     46  20.0   0.000000   20   20      1    20.0   0.0   0.0       0.0   \n",
       "17     47  47.0   0.000000   47   47      1    47.0   0.0   0.0       0.0   \n",
       "18     48   1.0   0.000000    1    1      1     1.0   0.0   0.0       0.0   \n",
       "\n",
       "            experiment_type  \n",
       "0   gesture_pitch_greyscale  \n",
       "1   gesture_pitch_greyscale  \n",
       "2   gesture_pitch_greyscale  \n",
       "3   gesture_pitch_greyscale  \n",
       "4   gesture_pitch_greyscale  \n",
       "5   gesture_pitch_greyscale  \n",
       "6   gesture_pitch_greyscale  \n",
       "7   gesture_pitch_greyscale  \n",
       "8   gesture_pitch_greyscale  \n",
       "9   gesture_pitch_greyscale  \n",
       "10  gesture_pitch_greyscale  \n",
       "11  gesture_pitch_greyscale  \n",
       "12  gesture_pitch_greyscale  \n",
       "13  gesture_pitch_greyscale  \n",
       "14  gesture_pitch_greyscale  \n",
       "15  gesture_pitch_greyscale  \n",
       "16  gesture_pitch_greyscale  \n",
       "17  gesture_pitch_greyscale  \n",
       "18  gesture_pitch_greyscale  "
      ]
     },
     "metadata": {},
     "output_type": "display_data"
    },
    {
     "data": {
      "text/html": [
       "<div>\n",
       "<style scoped>\n",
       "    .dataframe tbody tr th:only-of-type {\n",
       "        vertical-align: middle;\n",
       "    }\n",
       "\n",
       "    .dataframe tbody tr th {\n",
       "        vertical-align: top;\n",
       "    }\n",
       "\n",
       "    .dataframe thead th {\n",
       "        text-align: right;\n",
       "    }\n",
       "</style>\n",
       "<table border=\"1\" class=\"dataframe\">\n",
       "  <thead>\n",
       "    <tr style=\"text-align: right;\">\n",
       "      <th></th>\n",
       "      <th>truth</th>\n",
       "      <th>mean</th>\n",
       "      <th>std</th>\n",
       "      <th>min</th>\n",
       "      <th>max</th>\n",
       "      <th>count</th>\n",
       "      <th>median</th>\n",
       "      <th>iqr</th>\n",
       "      <th>skew</th>\n",
       "      <th>kurtosis</th>\n",
       "      <th>experiment_type</th>\n",
       "    </tr>\n",
       "  </thead>\n",
       "  <tbody>\n",
       "    <tr>\n",
       "      <th>0</th>\n",
       "      <td>9</td>\n",
       "      <td>41.0</td>\n",
       "      <td>0.0</td>\n",
       "      <td>41</td>\n",
       "      <td>41</td>\n",
       "      <td>1</td>\n",
       "      <td>41.0</td>\n",
       "      <td>0.0</td>\n",
       "      <td>0.0</td>\n",
       "      <td>0.0</td>\n",
       "      <td>gesture_roll_number</td>\n",
       "    </tr>\n",
       "    <tr>\n",
       "      <th>1</th>\n",
       "      <td>20</td>\n",
       "      <td>37.0</td>\n",
       "      <td>0.0</td>\n",
       "      <td>37</td>\n",
       "      <td>37</td>\n",
       "      <td>1</td>\n",
       "      <td>37.0</td>\n",
       "      <td>0.0</td>\n",
       "      <td>0.0</td>\n",
       "      <td>0.0</td>\n",
       "      <td>gesture_roll_number</td>\n",
       "    </tr>\n",
       "    <tr>\n",
       "      <th>2</th>\n",
       "      <td>23</td>\n",
       "      <td>40.0</td>\n",
       "      <td>0.0</td>\n",
       "      <td>40</td>\n",
       "      <td>40</td>\n",
       "      <td>1</td>\n",
       "      <td>40.0</td>\n",
       "      <td>0.0</td>\n",
       "      <td>0.0</td>\n",
       "      <td>0.0</td>\n",
       "      <td>gesture_roll_number</td>\n",
       "    </tr>\n",
       "    <tr>\n",
       "      <th>3</th>\n",
       "      <td>26</td>\n",
       "      <td>40.0</td>\n",
       "      <td>0.0</td>\n",
       "      <td>40</td>\n",
       "      <td>40</td>\n",
       "      <td>1</td>\n",
       "      <td>40.0</td>\n",
       "      <td>0.0</td>\n",
       "      <td>0.0</td>\n",
       "      <td>0.0</td>\n",
       "      <td>gesture_roll_number</td>\n",
       "    </tr>\n",
       "    <tr>\n",
       "      <th>4</th>\n",
       "      <td>33</td>\n",
       "      <td>48.0</td>\n",
       "      <td>0.0</td>\n",
       "      <td>48</td>\n",
       "      <td>48</td>\n",
       "      <td>1</td>\n",
       "      <td>48.0</td>\n",
       "      <td>0.0</td>\n",
       "      <td>0.0</td>\n",
       "      <td>0.0</td>\n",
       "      <td>gesture_roll_number</td>\n",
       "    </tr>\n",
       "    <tr>\n",
       "      <th>5</th>\n",
       "      <td>37</td>\n",
       "      <td>54.0</td>\n",
       "      <td>0.0</td>\n",
       "      <td>54</td>\n",
       "      <td>54</td>\n",
       "      <td>1</td>\n",
       "      <td>54.0</td>\n",
       "      <td>0.0</td>\n",
       "      <td>0.0</td>\n",
       "      <td>0.0</td>\n",
       "      <td>gesture_roll_number</td>\n",
       "    </tr>\n",
       "    <tr>\n",
       "      <th>6</th>\n",
       "      <td>46</td>\n",
       "      <td>66.0</td>\n",
       "      <td>0.0</td>\n",
       "      <td>66</td>\n",
       "      <td>66</td>\n",
       "      <td>1</td>\n",
       "      <td>66.0</td>\n",
       "      <td>0.0</td>\n",
       "      <td>0.0</td>\n",
       "      <td>0.0</td>\n",
       "      <td>gesture_roll_number</td>\n",
       "    </tr>\n",
       "    <tr>\n",
       "      <th>7</th>\n",
       "      <td>54</td>\n",
       "      <td>69.0</td>\n",
       "      <td>0.0</td>\n",
       "      <td>69</td>\n",
       "      <td>69</td>\n",
       "      <td>1</td>\n",
       "      <td>69.0</td>\n",
       "      <td>0.0</td>\n",
       "      <td>0.0</td>\n",
       "      <td>0.0</td>\n",
       "      <td>gesture_roll_number</td>\n",
       "    </tr>\n",
       "    <tr>\n",
       "      <th>8</th>\n",
       "      <td>58</td>\n",
       "      <td>81.0</td>\n",
       "      <td>0.0</td>\n",
       "      <td>81</td>\n",
       "      <td>81</td>\n",
       "      <td>1</td>\n",
       "      <td>81.0</td>\n",
       "      <td>0.0</td>\n",
       "      <td>0.0</td>\n",
       "      <td>0.0</td>\n",
       "      <td>gesture_roll_number</td>\n",
       "    </tr>\n",
       "    <tr>\n",
       "      <th>9</th>\n",
       "      <td>60</td>\n",
       "      <td>77.0</td>\n",
       "      <td>0.0</td>\n",
       "      <td>77</td>\n",
       "      <td>77</td>\n",
       "      <td>1</td>\n",
       "      <td>77.0</td>\n",
       "      <td>0.0</td>\n",
       "      <td>0.0</td>\n",
       "      <td>0.0</td>\n",
       "      <td>gesture_roll_number</td>\n",
       "    </tr>\n",
       "    <tr>\n",
       "      <th>10</th>\n",
       "      <td>63</td>\n",
       "      <td>64.0</td>\n",
       "      <td>0.0</td>\n",
       "      <td>64</td>\n",
       "      <td>64</td>\n",
       "      <td>1</td>\n",
       "      <td>64.0</td>\n",
       "      <td>0.0</td>\n",
       "      <td>0.0</td>\n",
       "      <td>0.0</td>\n",
       "      <td>gesture_roll_number</td>\n",
       "    </tr>\n",
       "    <tr>\n",
       "      <th>11</th>\n",
       "      <td>70</td>\n",
       "      <td>66.0</td>\n",
       "      <td>0.0</td>\n",
       "      <td>66</td>\n",
       "      <td>66</td>\n",
       "      <td>1</td>\n",
       "      <td>66.0</td>\n",
       "      <td>0.0</td>\n",
       "      <td>0.0</td>\n",
       "      <td>0.0</td>\n",
       "      <td>gesture_roll_number</td>\n",
       "    </tr>\n",
       "    <tr>\n",
       "      <th>12</th>\n",
       "      <td>75</td>\n",
       "      <td>72.0</td>\n",
       "      <td>0.0</td>\n",
       "      <td>72</td>\n",
       "      <td>72</td>\n",
       "      <td>1</td>\n",
       "      <td>72.0</td>\n",
       "      <td>0.0</td>\n",
       "      <td>0.0</td>\n",
       "      <td>0.0</td>\n",
       "      <td>gesture_roll_number</td>\n",
       "    </tr>\n",
       "    <tr>\n",
       "      <th>13</th>\n",
       "      <td>76</td>\n",
       "      <td>74.0</td>\n",
       "      <td>0.0</td>\n",
       "      <td>74</td>\n",
       "      <td>74</td>\n",
       "      <td>1</td>\n",
       "      <td>74.0</td>\n",
       "      <td>0.0</td>\n",
       "      <td>0.0</td>\n",
       "      <td>0.0</td>\n",
       "      <td>gesture_roll_number</td>\n",
       "    </tr>\n",
       "    <tr>\n",
       "      <th>14</th>\n",
       "      <td>77</td>\n",
       "      <td>76.0</td>\n",
       "      <td>0.0</td>\n",
       "      <td>76</td>\n",
       "      <td>76</td>\n",
       "      <td>1</td>\n",
       "      <td>76.0</td>\n",
       "      <td>0.0</td>\n",
       "      <td>0.0</td>\n",
       "      <td>0.0</td>\n",
       "      <td>gesture_roll_number</td>\n",
       "    </tr>\n",
       "    <tr>\n",
       "      <th>15</th>\n",
       "      <td>81</td>\n",
       "      <td>77.0</td>\n",
       "      <td>0.0</td>\n",
       "      <td>77</td>\n",
       "      <td>77</td>\n",
       "      <td>1</td>\n",
       "      <td>77.0</td>\n",
       "      <td>0.0</td>\n",
       "      <td>0.0</td>\n",
       "      <td>0.0</td>\n",
       "      <td>gesture_roll_number</td>\n",
       "    </tr>\n",
       "    <tr>\n",
       "      <th>16</th>\n",
       "      <td>82</td>\n",
       "      <td>80.0</td>\n",
       "      <td>0.0</td>\n",
       "      <td>80</td>\n",
       "      <td>80</td>\n",
       "      <td>1</td>\n",
       "      <td>80.0</td>\n",
       "      <td>0.0</td>\n",
       "      <td>0.0</td>\n",
       "      <td>0.0</td>\n",
       "      <td>gesture_roll_number</td>\n",
       "    </tr>\n",
       "    <tr>\n",
       "      <th>17</th>\n",
       "      <td>85</td>\n",
       "      <td>75.0</td>\n",
       "      <td>0.0</td>\n",
       "      <td>75</td>\n",
       "      <td>75</td>\n",
       "      <td>1</td>\n",
       "      <td>75.0</td>\n",
       "      <td>0.0</td>\n",
       "      <td>0.0</td>\n",
       "      <td>0.0</td>\n",
       "      <td>gesture_roll_number</td>\n",
       "    </tr>\n",
       "    <tr>\n",
       "      <th>18</th>\n",
       "      <td>96</td>\n",
       "      <td>96.0</td>\n",
       "      <td>0.0</td>\n",
       "      <td>96</td>\n",
       "      <td>96</td>\n",
       "      <td>1</td>\n",
       "      <td>96.0</td>\n",
       "      <td>0.0</td>\n",
       "      <td>0.0</td>\n",
       "      <td>0.0</td>\n",
       "      <td>gesture_roll_number</td>\n",
       "    </tr>\n",
       "    <tr>\n",
       "      <th>19</th>\n",
       "      <td>100</td>\n",
       "      <td>87.0</td>\n",
       "      <td>0.0</td>\n",
       "      <td>87</td>\n",
       "      <td>87</td>\n",
       "      <td>1</td>\n",
       "      <td>87.0</td>\n",
       "      <td>0.0</td>\n",
       "      <td>0.0</td>\n",
       "      <td>0.0</td>\n",
       "      <td>gesture_roll_number</td>\n",
       "    </tr>\n",
       "  </tbody>\n",
       "</table>\n",
       "</div>"
      ],
      "text/plain": [
       "    truth  mean  std  min  max  count  median  iqr  skew  kurtosis  \\\n",
       "0       9  41.0  0.0   41   41      1    41.0  0.0   0.0       0.0   \n",
       "1      20  37.0  0.0   37   37      1    37.0  0.0   0.0       0.0   \n",
       "2      23  40.0  0.0   40   40      1    40.0  0.0   0.0       0.0   \n",
       "3      26  40.0  0.0   40   40      1    40.0  0.0   0.0       0.0   \n",
       "4      33  48.0  0.0   48   48      1    48.0  0.0   0.0       0.0   \n",
       "5      37  54.0  0.0   54   54      1    54.0  0.0   0.0       0.0   \n",
       "6      46  66.0  0.0   66   66      1    66.0  0.0   0.0       0.0   \n",
       "7      54  69.0  0.0   69   69      1    69.0  0.0   0.0       0.0   \n",
       "8      58  81.0  0.0   81   81      1    81.0  0.0   0.0       0.0   \n",
       "9      60  77.0  0.0   77   77      1    77.0  0.0   0.0       0.0   \n",
       "10     63  64.0  0.0   64   64      1    64.0  0.0   0.0       0.0   \n",
       "11     70  66.0  0.0   66   66      1    66.0  0.0   0.0       0.0   \n",
       "12     75  72.0  0.0   72   72      1    72.0  0.0   0.0       0.0   \n",
       "13     76  74.0  0.0   74   74      1    74.0  0.0   0.0       0.0   \n",
       "14     77  76.0  0.0   76   76      1    76.0  0.0   0.0       0.0   \n",
       "15     81  77.0  0.0   77   77      1    77.0  0.0   0.0       0.0   \n",
       "16     82  80.0  0.0   80   80      1    80.0  0.0   0.0       0.0   \n",
       "17     85  75.0  0.0   75   75      1    75.0  0.0   0.0       0.0   \n",
       "18     96  96.0  0.0   96   96      1    96.0  0.0   0.0       0.0   \n",
       "19    100  87.0  0.0   87   87      1    87.0  0.0   0.0       0.0   \n",
       "\n",
       "        experiment_type  \n",
       "0   gesture_roll_number  \n",
       "1   gesture_roll_number  \n",
       "2   gesture_roll_number  \n",
       "3   gesture_roll_number  \n",
       "4   gesture_roll_number  \n",
       "5   gesture_roll_number  \n",
       "6   gesture_roll_number  \n",
       "7   gesture_roll_number  \n",
       "8   gesture_roll_number  \n",
       "9   gesture_roll_number  \n",
       "10  gesture_roll_number  \n",
       "11  gesture_roll_number  \n",
       "12  gesture_roll_number  \n",
       "13  gesture_roll_number  \n",
       "14  gesture_roll_number  \n",
       "15  gesture_roll_number  \n",
       "16  gesture_roll_number  \n",
       "17  gesture_roll_number  \n",
       "18  gesture_roll_number  \n",
       "19  gesture_roll_number  "
      ]
     },
     "metadata": {},
     "output_type": "display_data"
    },
    {
     "data": {
      "text/html": [
       "<div>\n",
       "<style scoped>\n",
       "    .dataframe tbody tr th:only-of-type {\n",
       "        vertical-align: middle;\n",
       "    }\n",
       "\n",
       "    .dataframe tbody tr th {\n",
       "        vertical-align: top;\n",
       "    }\n",
       "\n",
       "    .dataframe thead th {\n",
       "        text-align: right;\n",
       "    }\n",
       "</style>\n",
       "<table border=\"1\" class=\"dataframe\">\n",
       "  <thead>\n",
       "    <tr style=\"text-align: right;\">\n",
       "      <th></th>\n",
       "      <th>truth</th>\n",
       "      <th>mean</th>\n",
       "      <th>std</th>\n",
       "      <th>min</th>\n",
       "      <th>max</th>\n",
       "      <th>count</th>\n",
       "      <th>median</th>\n",
       "      <th>iqr</th>\n",
       "      <th>skew</th>\n",
       "      <th>kurtosis</th>\n",
       "      <th>experiment_type</th>\n",
       "    </tr>\n",
       "  </thead>\n",
       "  <tbody>\n",
       "    <tr>\n",
       "      <th>0</th>\n",
       "      <td>4</td>\n",
       "      <td>43.0</td>\n",
       "      <td>0.0</td>\n",
       "      <td>43</td>\n",
       "      <td>43</td>\n",
       "      <td>1</td>\n",
       "      <td>43.0</td>\n",
       "      <td>0.0</td>\n",
       "      <td>0.0</td>\n",
       "      <td>0.0</td>\n",
       "      <td>gesture_roll_greyscale</td>\n",
       "    </tr>\n",
       "    <tr>\n",
       "      <th>1</th>\n",
       "      <td>6</td>\n",
       "      <td>14.0</td>\n",
       "      <td>0.0</td>\n",
       "      <td>14</td>\n",
       "      <td>14</td>\n",
       "      <td>1</td>\n",
       "      <td>14.0</td>\n",
       "      <td>0.0</td>\n",
       "      <td>0.0</td>\n",
       "      <td>0.0</td>\n",
       "      <td>gesture_roll_greyscale</td>\n",
       "    </tr>\n",
       "    <tr>\n",
       "      <th>2</th>\n",
       "      <td>8</td>\n",
       "      <td>35.0</td>\n",
       "      <td>0.0</td>\n",
       "      <td>35</td>\n",
       "      <td>35</td>\n",
       "      <td>1</td>\n",
       "      <td>35.0</td>\n",
       "      <td>0.0</td>\n",
       "      <td>0.0</td>\n",
       "      <td>0.0</td>\n",
       "      <td>gesture_roll_greyscale</td>\n",
       "    </tr>\n",
       "    <tr>\n",
       "      <th>3</th>\n",
       "      <td>9</td>\n",
       "      <td>28.0</td>\n",
       "      <td>0.0</td>\n",
       "      <td>28</td>\n",
       "      <td>28</td>\n",
       "      <td>1</td>\n",
       "      <td>28.0</td>\n",
       "      <td>0.0</td>\n",
       "      <td>0.0</td>\n",
       "      <td>0.0</td>\n",
       "      <td>gesture_roll_greyscale</td>\n",
       "    </tr>\n",
       "    <tr>\n",
       "      <th>4</th>\n",
       "      <td>13</td>\n",
       "      <td>12.0</td>\n",
       "      <td>0.0</td>\n",
       "      <td>12</td>\n",
       "      <td>12</td>\n",
       "      <td>1</td>\n",
       "      <td>12.0</td>\n",
       "      <td>0.0</td>\n",
       "      <td>0.0</td>\n",
       "      <td>0.0</td>\n",
       "      <td>gesture_roll_greyscale</td>\n",
       "    </tr>\n",
       "    <tr>\n",
       "      <th>5</th>\n",
       "      <td>15</td>\n",
       "      <td>23.0</td>\n",
       "      <td>0.0</td>\n",
       "      <td>23</td>\n",
       "      <td>23</td>\n",
       "      <td>1</td>\n",
       "      <td>23.0</td>\n",
       "      <td>0.0</td>\n",
       "      <td>0.0</td>\n",
       "      <td>0.0</td>\n",
       "      <td>gesture_roll_greyscale</td>\n",
       "    </tr>\n",
       "    <tr>\n",
       "      <th>6</th>\n",
       "      <td>17</td>\n",
       "      <td>29.0</td>\n",
       "      <td>0.0</td>\n",
       "      <td>29</td>\n",
       "      <td>29</td>\n",
       "      <td>1</td>\n",
       "      <td>29.0</td>\n",
       "      <td>0.0</td>\n",
       "      <td>0.0</td>\n",
       "      <td>0.0</td>\n",
       "      <td>gesture_roll_greyscale</td>\n",
       "    </tr>\n",
       "    <tr>\n",
       "      <th>7</th>\n",
       "      <td>19</td>\n",
       "      <td>29.0</td>\n",
       "      <td>0.0</td>\n",
       "      <td>29</td>\n",
       "      <td>29</td>\n",
       "      <td>1</td>\n",
       "      <td>29.0</td>\n",
       "      <td>0.0</td>\n",
       "      <td>0.0</td>\n",
       "      <td>0.0</td>\n",
       "      <td>gesture_roll_greyscale</td>\n",
       "    </tr>\n",
       "    <tr>\n",
       "      <th>8</th>\n",
       "      <td>23</td>\n",
       "      <td>41.0</td>\n",
       "      <td>0.0</td>\n",
       "      <td>41</td>\n",
       "      <td>41</td>\n",
       "      <td>1</td>\n",
       "      <td>41.0</td>\n",
       "      <td>0.0</td>\n",
       "      <td>0.0</td>\n",
       "      <td>0.0</td>\n",
       "      <td>gesture_roll_greyscale</td>\n",
       "    </tr>\n",
       "    <tr>\n",
       "      <th>9</th>\n",
       "      <td>24</td>\n",
       "      <td>18.0</td>\n",
       "      <td>0.0</td>\n",
       "      <td>18</td>\n",
       "      <td>18</td>\n",
       "      <td>1</td>\n",
       "      <td>18.0</td>\n",
       "      <td>0.0</td>\n",
       "      <td>0.0</td>\n",
       "      <td>0.0</td>\n",
       "      <td>gesture_roll_greyscale</td>\n",
       "    </tr>\n",
       "    <tr>\n",
       "      <th>10</th>\n",
       "      <td>25</td>\n",
       "      <td>16.0</td>\n",
       "      <td>0.0</td>\n",
       "      <td>16</td>\n",
       "      <td>16</td>\n",
       "      <td>1</td>\n",
       "      <td>16.0</td>\n",
       "      <td>0.0</td>\n",
       "      <td>0.0</td>\n",
       "      <td>0.0</td>\n",
       "      <td>gesture_roll_greyscale</td>\n",
       "    </tr>\n",
       "    <tr>\n",
       "      <th>11</th>\n",
       "      <td>27</td>\n",
       "      <td>20.0</td>\n",
       "      <td>0.0</td>\n",
       "      <td>20</td>\n",
       "      <td>20</td>\n",
       "      <td>1</td>\n",
       "      <td>20.0</td>\n",
       "      <td>0.0</td>\n",
       "      <td>0.0</td>\n",
       "      <td>0.0</td>\n",
       "      <td>gesture_roll_greyscale</td>\n",
       "    </tr>\n",
       "    <tr>\n",
       "      <th>12</th>\n",
       "      <td>31</td>\n",
       "      <td>41.0</td>\n",
       "      <td>0.0</td>\n",
       "      <td>41</td>\n",
       "      <td>41</td>\n",
       "      <td>1</td>\n",
       "      <td>41.0</td>\n",
       "      <td>0.0</td>\n",
       "      <td>0.0</td>\n",
       "      <td>0.0</td>\n",
       "      <td>gesture_roll_greyscale</td>\n",
       "    </tr>\n",
       "    <tr>\n",
       "      <th>13</th>\n",
       "      <td>32</td>\n",
       "      <td>21.0</td>\n",
       "      <td>0.0</td>\n",
       "      <td>21</td>\n",
       "      <td>21</td>\n",
       "      <td>1</td>\n",
       "      <td>21.0</td>\n",
       "      <td>0.0</td>\n",
       "      <td>0.0</td>\n",
       "      <td>0.0</td>\n",
       "      <td>gesture_roll_greyscale</td>\n",
       "    </tr>\n",
       "    <tr>\n",
       "      <th>14</th>\n",
       "      <td>33</td>\n",
       "      <td>24.0</td>\n",
       "      <td>0.0</td>\n",
       "      <td>24</td>\n",
       "      <td>24</td>\n",
       "      <td>1</td>\n",
       "      <td>24.0</td>\n",
       "      <td>0.0</td>\n",
       "      <td>0.0</td>\n",
       "      <td>0.0</td>\n",
       "      <td>gesture_roll_greyscale</td>\n",
       "    </tr>\n",
       "    <tr>\n",
       "      <th>15</th>\n",
       "      <td>34</td>\n",
       "      <td>16.0</td>\n",
       "      <td>0.0</td>\n",
       "      <td>16</td>\n",
       "      <td>16</td>\n",
       "      <td>1</td>\n",
       "      <td>16.0</td>\n",
       "      <td>0.0</td>\n",
       "      <td>0.0</td>\n",
       "      <td>0.0</td>\n",
       "      <td>gesture_roll_greyscale</td>\n",
       "    </tr>\n",
       "    <tr>\n",
       "      <th>16</th>\n",
       "      <td>36</td>\n",
       "      <td>26.0</td>\n",
       "      <td>0.0</td>\n",
       "      <td>26</td>\n",
       "      <td>26</td>\n",
       "      <td>1</td>\n",
       "      <td>26.0</td>\n",
       "      <td>0.0</td>\n",
       "      <td>0.0</td>\n",
       "      <td>0.0</td>\n",
       "      <td>gesture_roll_greyscale</td>\n",
       "    </tr>\n",
       "    <tr>\n",
       "      <th>17</th>\n",
       "      <td>42</td>\n",
       "      <td>25.0</td>\n",
       "      <td>0.0</td>\n",
       "      <td>25</td>\n",
       "      <td>25</td>\n",
       "      <td>1</td>\n",
       "      <td>25.0</td>\n",
       "      <td>0.0</td>\n",
       "      <td>0.0</td>\n",
       "      <td>0.0</td>\n",
       "      <td>gesture_roll_greyscale</td>\n",
       "    </tr>\n",
       "    <tr>\n",
       "      <th>18</th>\n",
       "      <td>44</td>\n",
       "      <td>36.0</td>\n",
       "      <td>0.0</td>\n",
       "      <td>36</td>\n",
       "      <td>36</td>\n",
       "      <td>1</td>\n",
       "      <td>36.0</td>\n",
       "      <td>0.0</td>\n",
       "      <td>0.0</td>\n",
       "      <td>0.0</td>\n",
       "      <td>gesture_roll_greyscale</td>\n",
       "    </tr>\n",
       "    <tr>\n",
       "      <th>19</th>\n",
       "      <td>49</td>\n",
       "      <td>34.0</td>\n",
       "      <td>0.0</td>\n",
       "      <td>34</td>\n",
       "      <td>34</td>\n",
       "      <td>1</td>\n",
       "      <td>34.0</td>\n",
       "      <td>0.0</td>\n",
       "      <td>0.0</td>\n",
       "      <td>0.0</td>\n",
       "      <td>gesture_roll_greyscale</td>\n",
       "    </tr>\n",
       "  </tbody>\n",
       "</table>\n",
       "</div>"
      ],
      "text/plain": [
       "    truth  mean  std  min  max  count  median  iqr  skew  kurtosis  \\\n",
       "0       4  43.0  0.0   43   43      1    43.0  0.0   0.0       0.0   \n",
       "1       6  14.0  0.0   14   14      1    14.0  0.0   0.0       0.0   \n",
       "2       8  35.0  0.0   35   35      1    35.0  0.0   0.0       0.0   \n",
       "3       9  28.0  0.0   28   28      1    28.0  0.0   0.0       0.0   \n",
       "4      13  12.0  0.0   12   12      1    12.0  0.0   0.0       0.0   \n",
       "5      15  23.0  0.0   23   23      1    23.0  0.0   0.0       0.0   \n",
       "6      17  29.0  0.0   29   29      1    29.0  0.0   0.0       0.0   \n",
       "7      19  29.0  0.0   29   29      1    29.0  0.0   0.0       0.0   \n",
       "8      23  41.0  0.0   41   41      1    41.0  0.0   0.0       0.0   \n",
       "9      24  18.0  0.0   18   18      1    18.0  0.0   0.0       0.0   \n",
       "10     25  16.0  0.0   16   16      1    16.0  0.0   0.0       0.0   \n",
       "11     27  20.0  0.0   20   20      1    20.0  0.0   0.0       0.0   \n",
       "12     31  41.0  0.0   41   41      1    41.0  0.0   0.0       0.0   \n",
       "13     32  21.0  0.0   21   21      1    21.0  0.0   0.0       0.0   \n",
       "14     33  24.0  0.0   24   24      1    24.0  0.0   0.0       0.0   \n",
       "15     34  16.0  0.0   16   16      1    16.0  0.0   0.0       0.0   \n",
       "16     36  26.0  0.0   26   26      1    26.0  0.0   0.0       0.0   \n",
       "17     42  25.0  0.0   25   25      1    25.0  0.0   0.0       0.0   \n",
       "18     44  36.0  0.0   36   36      1    36.0  0.0   0.0       0.0   \n",
       "19     49  34.0  0.0   34   34      1    34.0  0.0   0.0       0.0   \n",
       "\n",
       "           experiment_type  \n",
       "0   gesture_roll_greyscale  \n",
       "1   gesture_roll_greyscale  \n",
       "2   gesture_roll_greyscale  \n",
       "3   gesture_roll_greyscale  \n",
       "4   gesture_roll_greyscale  \n",
       "5   gesture_roll_greyscale  \n",
       "6   gesture_roll_greyscale  \n",
       "7   gesture_roll_greyscale  \n",
       "8   gesture_roll_greyscale  \n",
       "9   gesture_roll_greyscale  \n",
       "10  gesture_roll_greyscale  \n",
       "11  gesture_roll_greyscale  \n",
       "12  gesture_roll_greyscale  \n",
       "13  gesture_roll_greyscale  \n",
       "14  gesture_roll_greyscale  \n",
       "15  gesture_roll_greyscale  \n",
       "16  gesture_roll_greyscale  \n",
       "17  gesture_roll_greyscale  \n",
       "18  gesture_roll_greyscale  \n",
       "19  gesture_roll_greyscale  "
      ]
     },
     "metadata": {},
     "output_type": "display_data"
    },
    {
     "data": {
      "text/html": [
       "<div>\n",
       "<style scoped>\n",
       "    .dataframe tbody tr th:only-of-type {\n",
       "        vertical-align: middle;\n",
       "    }\n",
       "\n",
       "    .dataframe tbody tr th {\n",
       "        vertical-align: top;\n",
       "    }\n",
       "\n",
       "    .dataframe thead th {\n",
       "        text-align: right;\n",
       "    }\n",
       "</style>\n",
       "<table border=\"1\" class=\"dataframe\">\n",
       "  <thead>\n",
       "    <tr style=\"text-align: right;\">\n",
       "      <th></th>\n",
       "      <th>truth</th>\n",
       "      <th>mean</th>\n",
       "      <th>std</th>\n",
       "      <th>min</th>\n",
       "      <th>max</th>\n",
       "      <th>count</th>\n",
       "      <th>median</th>\n",
       "      <th>iqr</th>\n",
       "      <th>skew</th>\n",
       "      <th>kurtosis</th>\n",
       "      <th>experiment_type</th>\n",
       "    </tr>\n",
       "  </thead>\n",
       "  <tbody>\n",
       "    <tr>\n",
       "      <th>0</th>\n",
       "      <td>5</td>\n",
       "      <td>5.583582</td>\n",
       "      <td>0.0</td>\n",
       "      <td>5.583582</td>\n",
       "      <td>5.583582</td>\n",
       "      <td>1</td>\n",
       "      <td>5.583582</td>\n",
       "      <td>0.0</td>\n",
       "      <td>0.0</td>\n",
       "      <td>0.0</td>\n",
       "      <td>slider_number</td>\n",
       "    </tr>\n",
       "    <tr>\n",
       "      <th>1</th>\n",
       "      <td>10</td>\n",
       "      <td>9.044641</td>\n",
       "      <td>0.0</td>\n",
       "      <td>9.044641</td>\n",
       "      <td>9.044641</td>\n",
       "      <td>1</td>\n",
       "      <td>9.044641</td>\n",
       "      <td>0.0</td>\n",
       "      <td>0.0</td>\n",
       "      <td>0.0</td>\n",
       "      <td>slider_number</td>\n",
       "    </tr>\n",
       "    <tr>\n",
       "      <th>2</th>\n",
       "      <td>11</td>\n",
       "      <td>6.660311</td>\n",
       "      <td>0.0</td>\n",
       "      <td>6.660311</td>\n",
       "      <td>6.660311</td>\n",
       "      <td>1</td>\n",
       "      <td>6.660311</td>\n",
       "      <td>0.0</td>\n",
       "      <td>0.0</td>\n",
       "      <td>0.0</td>\n",
       "      <td>slider_number</td>\n",
       "    </tr>\n",
       "    <tr>\n",
       "      <th>3</th>\n",
       "      <td>16</td>\n",
       "      <td>11.629489</td>\n",
       "      <td>0.0</td>\n",
       "      <td>11.629489</td>\n",
       "      <td>11.629489</td>\n",
       "      <td>1</td>\n",
       "      <td>11.629489</td>\n",
       "      <td>0.0</td>\n",
       "      <td>0.0</td>\n",
       "      <td>0.0</td>\n",
       "      <td>slider_number</td>\n",
       "    </tr>\n",
       "    <tr>\n",
       "      <th>4</th>\n",
       "      <td>27</td>\n",
       "      <td>26.547758</td>\n",
       "      <td>0.0</td>\n",
       "      <td>26.547758</td>\n",
       "      <td>26.547758</td>\n",
       "      <td>1</td>\n",
       "      <td>26.547758</td>\n",
       "      <td>0.0</td>\n",
       "      <td>0.0</td>\n",
       "      <td>0.0</td>\n",
       "      <td>slider_number</td>\n",
       "    </tr>\n",
       "    <tr>\n",
       "      <th>5</th>\n",
       "      <td>31</td>\n",
       "      <td>22.167535</td>\n",
       "      <td>0.0</td>\n",
       "      <td>22.167535</td>\n",
       "      <td>22.167535</td>\n",
       "      <td>1</td>\n",
       "      <td>22.167535</td>\n",
       "      <td>0.0</td>\n",
       "      <td>0.0</td>\n",
       "      <td>0.0</td>\n",
       "      <td>slider_number</td>\n",
       "    </tr>\n",
       "    <tr>\n",
       "      <th>6</th>\n",
       "      <td>34</td>\n",
       "      <td>23.348454</td>\n",
       "      <td>0.0</td>\n",
       "      <td>23.348454</td>\n",
       "      <td>23.348454</td>\n",
       "      <td>1</td>\n",
       "      <td>23.348454</td>\n",
       "      <td>0.0</td>\n",
       "      <td>0.0</td>\n",
       "      <td>0.0</td>\n",
       "      <td>slider_number</td>\n",
       "    </tr>\n",
       "    <tr>\n",
       "      <th>7</th>\n",
       "      <td>39</td>\n",
       "      <td>35.755673</td>\n",
       "      <td>0.0</td>\n",
       "      <td>35.755673</td>\n",
       "      <td>35.755673</td>\n",
       "      <td>1</td>\n",
       "      <td>35.755673</td>\n",
       "      <td>0.0</td>\n",
       "      <td>0.0</td>\n",
       "      <td>0.0</td>\n",
       "      <td>slider_number</td>\n",
       "    </tr>\n",
       "    <tr>\n",
       "      <th>8</th>\n",
       "      <td>40</td>\n",
       "      <td>15.061070</td>\n",
       "      <td>0.0</td>\n",
       "      <td>15.061070</td>\n",
       "      <td>15.061070</td>\n",
       "      <td>1</td>\n",
       "      <td>15.061070</td>\n",
       "      <td>0.0</td>\n",
       "      <td>0.0</td>\n",
       "      <td>0.0</td>\n",
       "      <td>slider_number</td>\n",
       "    </tr>\n",
       "    <tr>\n",
       "      <th>9</th>\n",
       "      <td>49</td>\n",
       "      <td>50.490977</td>\n",
       "      <td>0.0</td>\n",
       "      <td>50.490977</td>\n",
       "      <td>50.490977</td>\n",
       "      <td>1</td>\n",
       "      <td>50.490977</td>\n",
       "      <td>0.0</td>\n",
       "      <td>0.0</td>\n",
       "      <td>0.0</td>\n",
       "      <td>slider_number</td>\n",
       "    </tr>\n",
       "    <tr>\n",
       "      <th>10</th>\n",
       "      <td>51</td>\n",
       "      <td>53.388262</td>\n",
       "      <td>0.0</td>\n",
       "      <td>53.388262</td>\n",
       "      <td>53.388262</td>\n",
       "      <td>1</td>\n",
       "      <td>53.388262</td>\n",
       "      <td>0.0</td>\n",
       "      <td>0.0</td>\n",
       "      <td>0.0</td>\n",
       "      <td>slider_number</td>\n",
       "    </tr>\n",
       "    <tr>\n",
       "      <th>11</th>\n",
       "      <td>59</td>\n",
       "      <td>61.715938</td>\n",
       "      <td>0.0</td>\n",
       "      <td>61.715938</td>\n",
       "      <td>61.715938</td>\n",
       "      <td>1</td>\n",
       "      <td>61.715938</td>\n",
       "      <td>0.0</td>\n",
       "      <td>0.0</td>\n",
       "      <td>0.0</td>\n",
       "      <td>slider_number</td>\n",
       "    </tr>\n",
       "    <tr>\n",
       "      <th>12</th>\n",
       "      <td>61</td>\n",
       "      <td>63.674192</td>\n",
       "      <td>0.0</td>\n",
       "      <td>63.674192</td>\n",
       "      <td>63.674192</td>\n",
       "      <td>1</td>\n",
       "      <td>63.674192</td>\n",
       "      <td>0.0</td>\n",
       "      <td>0.0</td>\n",
       "      <td>0.0</td>\n",
       "      <td>slider_number</td>\n",
       "    </tr>\n",
       "    <tr>\n",
       "      <th>13</th>\n",
       "      <td>79</td>\n",
       "      <td>89.814848</td>\n",
       "      <td>0.0</td>\n",
       "      <td>89.814848</td>\n",
       "      <td>89.814848</td>\n",
       "      <td>1</td>\n",
       "      <td>89.814848</td>\n",
       "      <td>0.0</td>\n",
       "      <td>0.0</td>\n",
       "      <td>0.0</td>\n",
       "      <td>slider_number</td>\n",
       "    </tr>\n",
       "    <tr>\n",
       "      <th>14</th>\n",
       "      <td>83</td>\n",
       "      <td>85.321123</td>\n",
       "      <td>0.0</td>\n",
       "      <td>85.321123</td>\n",
       "      <td>85.321123</td>\n",
       "      <td>1</td>\n",
       "      <td>85.321123</td>\n",
       "      <td>0.0</td>\n",
       "      <td>0.0</td>\n",
       "      <td>0.0</td>\n",
       "      <td>slider_number</td>\n",
       "    </tr>\n",
       "    <tr>\n",
       "      <th>15</th>\n",
       "      <td>86</td>\n",
       "      <td>88.193866</td>\n",
       "      <td>0.0</td>\n",
       "      <td>88.193866</td>\n",
       "      <td>88.193866</td>\n",
       "      <td>1</td>\n",
       "      <td>88.193866</td>\n",
       "      <td>0.0</td>\n",
       "      <td>0.0</td>\n",
       "      <td>0.0</td>\n",
       "      <td>slider_number</td>\n",
       "    </tr>\n",
       "    <tr>\n",
       "      <th>16</th>\n",
       "      <td>88</td>\n",
       "      <td>83.666650</td>\n",
       "      <td>0.0</td>\n",
       "      <td>83.666650</td>\n",
       "      <td>83.666650</td>\n",
       "      <td>1</td>\n",
       "      <td>83.666650</td>\n",
       "      <td>0.0</td>\n",
       "      <td>0.0</td>\n",
       "      <td>0.0</td>\n",
       "      <td>slider_number</td>\n",
       "    </tr>\n",
       "    <tr>\n",
       "      <th>17</th>\n",
       "      <td>89</td>\n",
       "      <td>91.702067</td>\n",
       "      <td>0.0</td>\n",
       "      <td>91.702067</td>\n",
       "      <td>91.702067</td>\n",
       "      <td>1</td>\n",
       "      <td>91.702067</td>\n",
       "      <td>0.0</td>\n",
       "      <td>0.0</td>\n",
       "      <td>0.0</td>\n",
       "      <td>slider_number</td>\n",
       "    </tr>\n",
       "    <tr>\n",
       "      <th>18</th>\n",
       "      <td>92</td>\n",
       "      <td>91.329365</td>\n",
       "      <td>0.0</td>\n",
       "      <td>91.329365</td>\n",
       "      <td>91.329365</td>\n",
       "      <td>1</td>\n",
       "      <td>91.329365</td>\n",
       "      <td>0.0</td>\n",
       "      <td>0.0</td>\n",
       "      <td>0.0</td>\n",
       "      <td>slider_number</td>\n",
       "    </tr>\n",
       "    <tr>\n",
       "      <th>19</th>\n",
       "      <td>94</td>\n",
       "      <td>97.059559</td>\n",
       "      <td>0.0</td>\n",
       "      <td>97.059559</td>\n",
       "      <td>97.059559</td>\n",
       "      <td>1</td>\n",
       "      <td>97.059559</td>\n",
       "      <td>0.0</td>\n",
       "      <td>0.0</td>\n",
       "      <td>0.0</td>\n",
       "      <td>slider_number</td>\n",
       "    </tr>\n",
       "  </tbody>\n",
       "</table>\n",
       "</div>"
      ],
      "text/plain": [
       "    truth       mean  std        min        max  count     median  iqr  skew  \\\n",
       "0       5   5.583582  0.0   5.583582   5.583582      1   5.583582  0.0   0.0   \n",
       "1      10   9.044641  0.0   9.044641   9.044641      1   9.044641  0.0   0.0   \n",
       "2      11   6.660311  0.0   6.660311   6.660311      1   6.660311  0.0   0.0   \n",
       "3      16  11.629489  0.0  11.629489  11.629489      1  11.629489  0.0   0.0   \n",
       "4      27  26.547758  0.0  26.547758  26.547758      1  26.547758  0.0   0.0   \n",
       "5      31  22.167535  0.0  22.167535  22.167535      1  22.167535  0.0   0.0   \n",
       "6      34  23.348454  0.0  23.348454  23.348454      1  23.348454  0.0   0.0   \n",
       "7      39  35.755673  0.0  35.755673  35.755673      1  35.755673  0.0   0.0   \n",
       "8      40  15.061070  0.0  15.061070  15.061070      1  15.061070  0.0   0.0   \n",
       "9      49  50.490977  0.0  50.490977  50.490977      1  50.490977  0.0   0.0   \n",
       "10     51  53.388262  0.0  53.388262  53.388262      1  53.388262  0.0   0.0   \n",
       "11     59  61.715938  0.0  61.715938  61.715938      1  61.715938  0.0   0.0   \n",
       "12     61  63.674192  0.0  63.674192  63.674192      1  63.674192  0.0   0.0   \n",
       "13     79  89.814848  0.0  89.814848  89.814848      1  89.814848  0.0   0.0   \n",
       "14     83  85.321123  0.0  85.321123  85.321123      1  85.321123  0.0   0.0   \n",
       "15     86  88.193866  0.0  88.193866  88.193866      1  88.193866  0.0   0.0   \n",
       "16     88  83.666650  0.0  83.666650  83.666650      1  83.666650  0.0   0.0   \n",
       "17     89  91.702067  0.0  91.702067  91.702067      1  91.702067  0.0   0.0   \n",
       "18     92  91.329365  0.0  91.329365  91.329365      1  91.329365  0.0   0.0   \n",
       "19     94  97.059559  0.0  97.059559  97.059559      1  97.059559  0.0   0.0   \n",
       "\n",
       "    kurtosis experiment_type  \n",
       "0        0.0   slider_number  \n",
       "1        0.0   slider_number  \n",
       "2        0.0   slider_number  \n",
       "3        0.0   slider_number  \n",
       "4        0.0   slider_number  \n",
       "5        0.0   slider_number  \n",
       "6        0.0   slider_number  \n",
       "7        0.0   slider_number  \n",
       "8        0.0   slider_number  \n",
       "9        0.0   slider_number  \n",
       "10       0.0   slider_number  \n",
       "11       0.0   slider_number  \n",
       "12       0.0   slider_number  \n",
       "13       0.0   slider_number  \n",
       "14       0.0   slider_number  \n",
       "15       0.0   slider_number  \n",
       "16       0.0   slider_number  \n",
       "17       0.0   slider_number  \n",
       "18       0.0   slider_number  \n",
       "19       0.0   slider_number  "
      ]
     },
     "metadata": {},
     "output_type": "display_data"
    },
    {
     "data": {
      "text/html": [
       "<div>\n",
       "<style scoped>\n",
       "    .dataframe tbody tr th:only-of-type {\n",
       "        vertical-align: middle;\n",
       "    }\n",
       "\n",
       "    .dataframe tbody tr th {\n",
       "        vertical-align: top;\n",
       "    }\n",
       "\n",
       "    .dataframe thead th {\n",
       "        text-align: right;\n",
       "    }\n",
       "</style>\n",
       "<table border=\"1\" class=\"dataframe\">\n",
       "  <thead>\n",
       "    <tr style=\"text-align: right;\">\n",
       "      <th></th>\n",
       "      <th>truth</th>\n",
       "      <th>mean</th>\n",
       "      <th>std</th>\n",
       "      <th>min</th>\n",
       "      <th>max</th>\n",
       "      <th>count</th>\n",
       "      <th>median</th>\n",
       "      <th>iqr</th>\n",
       "      <th>skew</th>\n",
       "      <th>kurtosis</th>\n",
       "      <th>experiment_type</th>\n",
       "    </tr>\n",
       "  </thead>\n",
       "  <tbody>\n",
       "    <tr>\n",
       "      <th>0</th>\n",
       "      <td>1</td>\n",
       "      <td>0.426171</td>\n",
       "      <td>0.000000</td>\n",
       "      <td>0.426171</td>\n",
       "      <td>0.426171</td>\n",
       "      <td>1</td>\n",
       "      <td>0.426171</td>\n",
       "      <td>0.00000</td>\n",
       "      <td>0.000000e+00</td>\n",
       "      <td>0.0</td>\n",
       "      <td>slider_greyscale</td>\n",
       "    </tr>\n",
       "    <tr>\n",
       "      <th>1</th>\n",
       "      <td>2</td>\n",
       "      <td>11.242814</td>\n",
       "      <td>14.032548</td>\n",
       "      <td>1.320304</td>\n",
       "      <td>21.165323</td>\n",
       "      <td>2</td>\n",
       "      <td>11.242814</td>\n",
       "      <td>9.92251</td>\n",
       "      <td>2.909281e-16</td>\n",
       "      <td>-2.0</td>\n",
       "      <td>slider_greyscale</td>\n",
       "    </tr>\n",
       "    <tr>\n",
       "      <th>2</th>\n",
       "      <td>6</td>\n",
       "      <td>30.175503</td>\n",
       "      <td>0.000000</td>\n",
       "      <td>30.175503</td>\n",
       "      <td>30.175503</td>\n",
       "      <td>1</td>\n",
       "      <td>30.175503</td>\n",
       "      <td>0.00000</td>\n",
       "      <td>0.000000e+00</td>\n",
       "      <td>0.0</td>\n",
       "      <td>slider_greyscale</td>\n",
       "    </tr>\n",
       "    <tr>\n",
       "      <th>3</th>\n",
       "      <td>7</td>\n",
       "      <td>22.779536</td>\n",
       "      <td>0.000000</td>\n",
       "      <td>22.779536</td>\n",
       "      <td>22.779536</td>\n",
       "      <td>1</td>\n",
       "      <td>22.779536</td>\n",
       "      <td>0.00000</td>\n",
       "      <td>0.000000e+00</td>\n",
       "      <td>0.0</td>\n",
       "      <td>slider_greyscale</td>\n",
       "    </tr>\n",
       "    <tr>\n",
       "      <th>4</th>\n",
       "      <td>9</td>\n",
       "      <td>49.000000</td>\n",
       "      <td>0.000000</td>\n",
       "      <td>49.000000</td>\n",
       "      <td>49.000000</td>\n",
       "      <td>1</td>\n",
       "      <td>49.000000</td>\n",
       "      <td>0.00000</td>\n",
       "      <td>0.000000e+00</td>\n",
       "      <td>0.0</td>\n",
       "      <td>slider_greyscale</td>\n",
       "    </tr>\n",
       "    <tr>\n",
       "      <th>5</th>\n",
       "      <td>12</td>\n",
       "      <td>38.560388</td>\n",
       "      <td>0.000000</td>\n",
       "      <td>38.560388</td>\n",
       "      <td>38.560388</td>\n",
       "      <td>1</td>\n",
       "      <td>38.560388</td>\n",
       "      <td>0.00000</td>\n",
       "      <td>0.000000e+00</td>\n",
       "      <td>0.0</td>\n",
       "      <td>slider_greyscale</td>\n",
       "    </tr>\n",
       "    <tr>\n",
       "      <th>6</th>\n",
       "      <td>13</td>\n",
       "      <td>2.565144</td>\n",
       "      <td>0.000000</td>\n",
       "      <td>2.565144</td>\n",
       "      <td>2.565144</td>\n",
       "      <td>1</td>\n",
       "      <td>2.565144</td>\n",
       "      <td>0.00000</td>\n",
       "      <td>0.000000e+00</td>\n",
       "      <td>0.0</td>\n",
       "      <td>slider_greyscale</td>\n",
       "    </tr>\n",
       "    <tr>\n",
       "      <th>7</th>\n",
       "      <td>15</td>\n",
       "      <td>7.510580</td>\n",
       "      <td>0.000000</td>\n",
       "      <td>7.510580</td>\n",
       "      <td>7.510580</td>\n",
       "      <td>1</td>\n",
       "      <td>7.510580</td>\n",
       "      <td>0.00000</td>\n",
       "      <td>0.000000e+00</td>\n",
       "      <td>0.0</td>\n",
       "      <td>slider_greyscale</td>\n",
       "    </tr>\n",
       "    <tr>\n",
       "      <th>8</th>\n",
       "      <td>16</td>\n",
       "      <td>40.328140</td>\n",
       "      <td>0.000000</td>\n",
       "      <td>40.328140</td>\n",
       "      <td>40.328140</td>\n",
       "      <td>1</td>\n",
       "      <td>40.328140</td>\n",
       "      <td>0.00000</td>\n",
       "      <td>0.000000e+00</td>\n",
       "      <td>0.0</td>\n",
       "      <td>slider_greyscale</td>\n",
       "    </tr>\n",
       "    <tr>\n",
       "      <th>9</th>\n",
       "      <td>18</td>\n",
       "      <td>0.000000</td>\n",
       "      <td>0.000000</td>\n",
       "      <td>0.000000</td>\n",
       "      <td>0.000000</td>\n",
       "      <td>1</td>\n",
       "      <td>0.000000</td>\n",
       "      <td>0.00000</td>\n",
       "      <td>0.000000e+00</td>\n",
       "      <td>0.0</td>\n",
       "      <td>slider_greyscale</td>\n",
       "    </tr>\n",
       "    <tr>\n",
       "      <th>10</th>\n",
       "      <td>20</td>\n",
       "      <td>25.841558</td>\n",
       "      <td>0.000000</td>\n",
       "      <td>25.841558</td>\n",
       "      <td>25.841558</td>\n",
       "      <td>1</td>\n",
       "      <td>25.841558</td>\n",
       "      <td>0.00000</td>\n",
       "      <td>0.000000e+00</td>\n",
       "      <td>0.0</td>\n",
       "      <td>slider_greyscale</td>\n",
       "    </tr>\n",
       "    <tr>\n",
       "      <th>11</th>\n",
       "      <td>21</td>\n",
       "      <td>5.326400</td>\n",
       "      <td>0.000000</td>\n",
       "      <td>5.326400</td>\n",
       "      <td>5.326400</td>\n",
       "      <td>1</td>\n",
       "      <td>5.326400</td>\n",
       "      <td>0.00000</td>\n",
       "      <td>0.000000e+00</td>\n",
       "      <td>0.0</td>\n",
       "      <td>slider_greyscale</td>\n",
       "    </tr>\n",
       "    <tr>\n",
       "      <th>12</th>\n",
       "      <td>26</td>\n",
       "      <td>48.807005</td>\n",
       "      <td>0.000000</td>\n",
       "      <td>48.807005</td>\n",
       "      <td>48.807005</td>\n",
       "      <td>1</td>\n",
       "      <td>48.807005</td>\n",
       "      <td>0.00000</td>\n",
       "      <td>0.000000e+00</td>\n",
       "      <td>0.0</td>\n",
       "      <td>slider_greyscale</td>\n",
       "    </tr>\n",
       "    <tr>\n",
       "      <th>13</th>\n",
       "      <td>28</td>\n",
       "      <td>6.108612</td>\n",
       "      <td>0.000000</td>\n",
       "      <td>6.108612</td>\n",
       "      <td>6.108612</td>\n",
       "      <td>1</td>\n",
       "      <td>6.108612</td>\n",
       "      <td>0.00000</td>\n",
       "      <td>0.000000e+00</td>\n",
       "      <td>0.0</td>\n",
       "      <td>slider_greyscale</td>\n",
       "    </tr>\n",
       "    <tr>\n",
       "      <th>14</th>\n",
       "      <td>31</td>\n",
       "      <td>25.844795</td>\n",
       "      <td>0.000000</td>\n",
       "      <td>25.844795</td>\n",
       "      <td>25.844795</td>\n",
       "      <td>1</td>\n",
       "      <td>25.844795</td>\n",
       "      <td>0.00000</td>\n",
       "      <td>0.000000e+00</td>\n",
       "      <td>0.0</td>\n",
       "      <td>slider_greyscale</td>\n",
       "    </tr>\n",
       "    <tr>\n",
       "      <th>15</th>\n",
       "      <td>39</td>\n",
       "      <td>39.455783</td>\n",
       "      <td>0.000000</td>\n",
       "      <td>39.455783</td>\n",
       "      <td>39.455783</td>\n",
       "      <td>1</td>\n",
       "      <td>39.455783</td>\n",
       "      <td>0.00000</td>\n",
       "      <td>0.000000e+00</td>\n",
       "      <td>0.0</td>\n",
       "      <td>slider_greyscale</td>\n",
       "    </tr>\n",
       "    <tr>\n",
       "      <th>16</th>\n",
       "      <td>40</td>\n",
       "      <td>12.359626</td>\n",
       "      <td>0.000000</td>\n",
       "      <td>12.359626</td>\n",
       "      <td>12.359626</td>\n",
       "      <td>1</td>\n",
       "      <td>12.359626</td>\n",
       "      <td>0.00000</td>\n",
       "      <td>0.000000e+00</td>\n",
       "      <td>0.0</td>\n",
       "      <td>slider_greyscale</td>\n",
       "    </tr>\n",
       "    <tr>\n",
       "      <th>17</th>\n",
       "      <td>46</td>\n",
       "      <td>9.315095</td>\n",
       "      <td>0.000000</td>\n",
       "      <td>9.315095</td>\n",
       "      <td>9.315095</td>\n",
       "      <td>1</td>\n",
       "      <td>9.315095</td>\n",
       "      <td>0.00000</td>\n",
       "      <td>0.000000e+00</td>\n",
       "      <td>0.0</td>\n",
       "      <td>slider_greyscale</td>\n",
       "    </tr>\n",
       "    <tr>\n",
       "      <th>18</th>\n",
       "      <td>48</td>\n",
       "      <td>5.443588</td>\n",
       "      <td>0.000000</td>\n",
       "      <td>5.443588</td>\n",
       "      <td>5.443588</td>\n",
       "      <td>1</td>\n",
       "      <td>5.443588</td>\n",
       "      <td>0.00000</td>\n",
       "      <td>0.000000e+00</td>\n",
       "      <td>0.0</td>\n",
       "      <td>slider_greyscale</td>\n",
       "    </tr>\n",
       "  </tbody>\n",
       "</table>\n",
       "</div>"
      ],
      "text/plain": [
       "    truth       mean        std        min        max  count     median  \\\n",
       "0       1   0.426171   0.000000   0.426171   0.426171      1   0.426171   \n",
       "1       2  11.242814  14.032548   1.320304  21.165323      2  11.242814   \n",
       "2       6  30.175503   0.000000  30.175503  30.175503      1  30.175503   \n",
       "3       7  22.779536   0.000000  22.779536  22.779536      1  22.779536   \n",
       "4       9  49.000000   0.000000  49.000000  49.000000      1  49.000000   \n",
       "5      12  38.560388   0.000000  38.560388  38.560388      1  38.560388   \n",
       "6      13   2.565144   0.000000   2.565144   2.565144      1   2.565144   \n",
       "7      15   7.510580   0.000000   7.510580   7.510580      1   7.510580   \n",
       "8      16  40.328140   0.000000  40.328140  40.328140      1  40.328140   \n",
       "9      18   0.000000   0.000000   0.000000   0.000000      1   0.000000   \n",
       "10     20  25.841558   0.000000  25.841558  25.841558      1  25.841558   \n",
       "11     21   5.326400   0.000000   5.326400   5.326400      1   5.326400   \n",
       "12     26  48.807005   0.000000  48.807005  48.807005      1  48.807005   \n",
       "13     28   6.108612   0.000000   6.108612   6.108612      1   6.108612   \n",
       "14     31  25.844795   0.000000  25.844795  25.844795      1  25.844795   \n",
       "15     39  39.455783   0.000000  39.455783  39.455783      1  39.455783   \n",
       "16     40  12.359626   0.000000  12.359626  12.359626      1  12.359626   \n",
       "17     46   9.315095   0.000000   9.315095   9.315095      1   9.315095   \n",
       "18     48   5.443588   0.000000   5.443588   5.443588      1   5.443588   \n",
       "\n",
       "        iqr          skew  kurtosis   experiment_type  \n",
       "0   0.00000  0.000000e+00       0.0  slider_greyscale  \n",
       "1   9.92251  2.909281e-16      -2.0  slider_greyscale  \n",
       "2   0.00000  0.000000e+00       0.0  slider_greyscale  \n",
       "3   0.00000  0.000000e+00       0.0  slider_greyscale  \n",
       "4   0.00000  0.000000e+00       0.0  slider_greyscale  \n",
       "5   0.00000  0.000000e+00       0.0  slider_greyscale  \n",
       "6   0.00000  0.000000e+00       0.0  slider_greyscale  \n",
       "7   0.00000  0.000000e+00       0.0  slider_greyscale  \n",
       "8   0.00000  0.000000e+00       0.0  slider_greyscale  \n",
       "9   0.00000  0.000000e+00       0.0  slider_greyscale  \n",
       "10  0.00000  0.000000e+00       0.0  slider_greyscale  \n",
       "11  0.00000  0.000000e+00       0.0  slider_greyscale  \n",
       "12  0.00000  0.000000e+00       0.0  slider_greyscale  \n",
       "13  0.00000  0.000000e+00       0.0  slider_greyscale  \n",
       "14  0.00000  0.000000e+00       0.0  slider_greyscale  \n",
       "15  0.00000  0.000000e+00       0.0  slider_greyscale  \n",
       "16  0.00000  0.000000e+00       0.0  slider_greyscale  \n",
       "17  0.00000  0.000000e+00       0.0  slider_greyscale  \n",
       "18  0.00000  0.000000e+00       0.0  slider_greyscale  "
      ]
     },
     "metadata": {},
     "output_type": "display_data"
    }
   ],
   "source": [
    "def calculate_summary_statistics(experiment_type, truth_type):\n",
    "    filtered_df = df[df['experiment_type'] == experiment_type]\n",
    "    grouped = filtered_df.groupby('truth')[truth_type].agg(['mean', 'std', 'min', 'max', 'count', 'median'])\n",
    "    grouped['iqr'] = filtered_df.groupby('truth')[truth_type].apply(iqr)\n",
    "    grouped['skew'] = filtered_df.groupby('truth')[truth_type].apply(skew)\n",
    "    grouped['kurtosis'] = filtered_df.groupby('truth')[truth_type].apply(kurtosis)\n",
    "    \n",
    "    # Kurtosis and skew calculate NaNs on certain truths (0 and 100), but it's not an issue. Filling NaNs with zeroes\n",
    "    grouped = grouped.fillna(0)\n",
    "    return grouped.reset_index()\n",
    "\n",
    "def generate_summary_tables():\n",
    "    summary_tables = {}\n",
    "    for experiment_type, truth_info in experiment_truth_type.items():\n",
    "        summary_table = calculate_summary_statistics(experiment_type, truth_info['truth'])\n",
    "        summary_table['experiment_type'] = experiment_type\n",
    "        summary_tables[experiment_type] = summary_table\n",
    "    return summary_tables\n",
    "\n",
    "def calculate_averages_per_experiment_type(summary_tables):\n",
    "    averages = []\n",
    "    for experiment_type, summary_table in summary_tables.items():\n",
    "        averages.append({\n",
    "            'experiment_type': experiment_type,\n",
    "            'mean': summary_table['mean'].mean(),\n",
    "            'std': summary_table['std'].mean(),\n",
    "            'min': summary_table['min'].min(),\n",
    "            'max': summary_table['max'].max(),\n",
    "            'count': summary_table['count'].count(),\n",
    "            'median': summary_table['median'].median(),\n",
    "            'iqr': summary_table['iqr'].mean(),\n",
    "            'skew': summary_table['skew'].mean(),\n",
    "            'kurtosis': summary_table['kurtosis'].mean()\n",
    "        })\n",
    "    return pd.DataFrame(averages)\n",
    "\n",
    "summary_tables = generate_summary_tables()\n",
    "averages_df = calculate_averages_per_experiment_type(summary_tables)\n",
    "\n",
    "display(averages_df)\n",
    "\n",
    "for _, summary_table in summary_tables.items():\n",
    "    display(summary_table)"
   ]
  }
 ],
 "metadata": {
  "kernelspec": {
   "display_name": "Python 3",
   "language": "python",
   "name": "python3"
  },
  "language_info": {
   "codemirror_mode": {
    "name": "ipython",
    "version": 3
   },
   "file_extension": ".py",
   "mimetype": "text/x-python",
   "name": "python",
   "nbconvert_exporter": "python",
   "pygments_lexer": "ipython3",
   "version": "3.12.3"
  }
 },
 "nbformat": 4,
 "nbformat_minor": 2
}
